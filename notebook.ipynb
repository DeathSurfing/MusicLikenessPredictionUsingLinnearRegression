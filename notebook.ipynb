{
 "cells": [
  {
   "attachments": {},
   "cell_type": "markdown",
   "metadata": {},
   "source": [
    "# Analysing Spotify Top 100 using itterative tools."
   ]
  },
  {
   "attachments": {},
   "cell_type": "markdown",
   "metadata": {},
   "source": [
    "## Imports:"
   ]
  },
  {
   "cell_type": "code",
   "execution_count": 1,
   "metadata": {},
   "outputs": [],
   "source": [
    "import os\n",
    "import warnings\n",
    "import argparse\n",
    "import numpy as np\n",
    "import pandas as pd\n",
    "import matplotlib.pyplot as plt\n",
    "import seaborn as sns\n",
    "\n",
    "from sklearn.linear_model import LinearRegression\n",
    "from sklearn.model_selection import train_test_split, StratifiedKFold\n",
    "from sklearn.svm import SVR\n",
    "from sklearn.preprocessing import StandardScaler\n",
    "from sklearn.metrics import mean_squared_error, r2_score\n",
    "from sklearn.ensemble import RandomForestRegressor\n",
    "from xgboost import XGBRegressor\n",
    "\n",
    "import tensorflow as tf\n",
    "from tensorflow.keras.models import Sequential\n",
    "from tensorflow.keras.layers import Dense, Dropout\n",
    "\n",
    "from sklearn.cluster import KMeans\n",
    "\n",
    "import plotly.express as px\n",
    "import plotly.graph_objects as go\n",
    "from plotly.subplots import make_subplots\n",
    "\n",
    "from tqdm.notebook import tqdm\n",
    "\n",
    "warnings.filterwarnings('ignore')"
   ]
  },
  {
   "attachments": {},
   "cell_type": "markdown",
   "metadata": {},
   "source": [
    "## Loading Data:"
   ]
  },
  {
   "cell_type": "code",
   "execution_count": 2,
   "metadata": {},
   "outputs": [],
   "source": [
    "INPUT_DIR = 'data/'\n",
    "Streams = pd.read_csv(os.path.join(INPUT_DIR, 'Streams.csv'))\n",
    "Features = pd.read_csv(os.path.join(INPUT_DIR, 'Features.csv'))\n"
   ]
  },
  {
   "attachments": {},
   "cell_type": "markdown",
   "metadata": {},
   "source": [
    "## Basic Info Schema:"
   ]
  },
  {
   "cell_type": "code",
   "execution_count": 3,
   "metadata": {},
   "outputs": [
    {
     "name": "stdout",
     "output_type": "stream",
     "text": [
      "Missing Attributes:\n"
     ]
    },
    {
     "data": {
      "text/html": [
       "<style type=\"text/css\">\n",
       "#T_cdc19_row0_col0, #T_cdc19_row0_col1, #T_cdc19_row1_col0, #T_cdc19_row1_col1, #T_cdc19_row2_col0, #T_cdc19_row2_col1, #T_cdc19_row3_col0, #T_cdc19_row3_col1, #T_cdc19_row4_col0, #T_cdc19_row4_col1, #T_cdc19_row5_col0, #T_cdc19_row5_col1, #T_cdc19_row6_col0, #T_cdc19_row6_col1, #T_cdc19_row7_col0, #T_cdc19_row7_col1, #T_cdc19_row8_col0, #T_cdc19_row8_col1, #T_cdc19_row9_col0, #T_cdc19_row9_col1, #T_cdc19_row10_col0, #T_cdc19_row10_col1, #T_cdc19_row11_col0, #T_cdc19_row11_col1, #T_cdc19_row12_col0, #T_cdc19_row12_col1, #T_cdc19_row13_col0, #T_cdc19_row13_col1 {\n",
       "  background-color: #212636;\n",
       "  color: white;\n",
       "  border: 1.5px solid white;\n",
       "}\n",
       "</style>\n",
       "<table id=\"T_cdc19\">\n",
       "  <thead>\n",
       "    <tr>\n",
       "      <th class=\"blank level0\" >&nbsp;</th>\n",
       "      <th id=\"T_cdc19_level0_col0\" class=\"col_heading level0 col0\" >index</th>\n",
       "      <th id=\"T_cdc19_level0_col1\" class=\"col_heading level0 col1\" >0</th>\n",
       "    </tr>\n",
       "  </thead>\n",
       "  <tbody>\n",
       "    <tr>\n",
       "      <th id=\"T_cdc19_level0_row0\" class=\"row_heading level0 row0\" >0</th>\n",
       "      <td id=\"T_cdc19_row0_col0\" class=\"data row0 col0\" >id</td>\n",
       "      <td id=\"T_cdc19_row0_col1\" class=\"data row0 col1\" >0</td>\n",
       "    </tr>\n",
       "    <tr>\n",
       "      <th id=\"T_cdc19_level0_row1\" class=\"row_heading level0 row1\" >1</th>\n",
       "      <td id=\"T_cdc19_row1_col0\" class=\"data row1 col0\" >name</td>\n",
       "      <td id=\"T_cdc19_row1_col1\" class=\"data row1 col1\" >0</td>\n",
       "    </tr>\n",
       "    <tr>\n",
       "      <th id=\"T_cdc19_level0_row2\" class=\"row_heading level0 row2\" >2</th>\n",
       "      <td id=\"T_cdc19_row2_col0\" class=\"data row2 col0\" >duration</td>\n",
       "      <td id=\"T_cdc19_row2_col1\" class=\"data row2 col1\" >0</td>\n",
       "    </tr>\n",
       "    <tr>\n",
       "      <th id=\"T_cdc19_level0_row3\" class=\"row_heading level0 row3\" >3</th>\n",
       "      <td id=\"T_cdc19_row3_col0\" class=\"data row3 col0\" >energy</td>\n",
       "      <td id=\"T_cdc19_row3_col1\" class=\"data row3 col1\" >0</td>\n",
       "    </tr>\n",
       "    <tr>\n",
       "      <th id=\"T_cdc19_level0_row4\" class=\"row_heading level0 row4\" >4</th>\n",
       "      <td id=\"T_cdc19_row4_col0\" class=\"data row4 col0\" >key</td>\n",
       "      <td id=\"T_cdc19_row4_col1\" class=\"data row4 col1\" >0</td>\n",
       "    </tr>\n",
       "    <tr>\n",
       "      <th id=\"T_cdc19_level0_row5\" class=\"row_heading level0 row5\" >5</th>\n",
       "      <td id=\"T_cdc19_row5_col0\" class=\"data row5 col0\" >loudness</td>\n",
       "      <td id=\"T_cdc19_row5_col1\" class=\"data row5 col1\" >0</td>\n",
       "    </tr>\n",
       "    <tr>\n",
       "      <th id=\"T_cdc19_level0_row6\" class=\"row_heading level0 row6\" >6</th>\n",
       "      <td id=\"T_cdc19_row6_col0\" class=\"data row6 col0\" >mode</td>\n",
       "      <td id=\"T_cdc19_row6_col1\" class=\"data row6 col1\" >0</td>\n",
       "    </tr>\n",
       "    <tr>\n",
       "      <th id=\"T_cdc19_level0_row7\" class=\"row_heading level0 row7\" >7</th>\n",
       "      <td id=\"T_cdc19_row7_col0\" class=\"data row7 col0\" >speechiness</td>\n",
       "      <td id=\"T_cdc19_row7_col1\" class=\"data row7 col1\" >0</td>\n",
       "    </tr>\n",
       "    <tr>\n",
       "      <th id=\"T_cdc19_level0_row8\" class=\"row_heading level0 row8\" >8</th>\n",
       "      <td id=\"T_cdc19_row8_col0\" class=\"data row8 col0\" >acousticness</td>\n",
       "      <td id=\"T_cdc19_row8_col1\" class=\"data row8 col1\" >0</td>\n",
       "    </tr>\n",
       "    <tr>\n",
       "      <th id=\"T_cdc19_level0_row9\" class=\"row_heading level0 row9\" >9</th>\n",
       "      <td id=\"T_cdc19_row9_col0\" class=\"data row9 col0\" >instrumentalness</td>\n",
       "      <td id=\"T_cdc19_row9_col1\" class=\"data row9 col1\" >0</td>\n",
       "    </tr>\n",
       "    <tr>\n",
       "      <th id=\"T_cdc19_level0_row10\" class=\"row_heading level0 row10\" >10</th>\n",
       "      <td id=\"T_cdc19_row10_col0\" class=\"data row10 col0\" >liveness</td>\n",
       "      <td id=\"T_cdc19_row10_col1\" class=\"data row10 col1\" >0</td>\n",
       "    </tr>\n",
       "    <tr>\n",
       "      <th id=\"T_cdc19_level0_row11\" class=\"row_heading level0 row11\" >11</th>\n",
       "      <td id=\"T_cdc19_row11_col0\" class=\"data row11 col0\" >valence</td>\n",
       "      <td id=\"T_cdc19_row11_col1\" class=\"data row11 col1\" >0</td>\n",
       "    </tr>\n",
       "    <tr>\n",
       "      <th id=\"T_cdc19_level0_row12\" class=\"row_heading level0 row12\" >12</th>\n",
       "      <td id=\"T_cdc19_row12_col0\" class=\"data row12 col0\" >tempo</td>\n",
       "      <td id=\"T_cdc19_row12_col1\" class=\"data row12 col1\" >0</td>\n",
       "    </tr>\n",
       "    <tr>\n",
       "      <th id=\"T_cdc19_level0_row13\" class=\"row_heading level0 row13\" >13</th>\n",
       "      <td id=\"T_cdc19_row13_col0\" class=\"data row13 col0\" >danceability</td>\n",
       "      <td id=\"T_cdc19_row13_col1\" class=\"data row13 col1\" >0</td>\n",
       "    </tr>\n",
       "  </tbody>\n",
       "</table>\n"
      ],
      "text/plain": [
       "<pandas.io.formats.style.Styler at 0x257adab8e50>"
      ]
     },
     "metadata": {},
     "output_type": "display_data"
    }
   ],
   "source": [
    "print(\"Missing Attributes:\")\n",
    "featuresIsEmpty = Features.isnull().sum().to_frame().reset_index()\n",
    "display(featuresIsEmpty.head(15).style.set_properties(\n",
    "    **{\"background-color\": \"#212636\",\"color\":\"white\",\"border\": \"1.5px solid white\"}))\n"
   ]
  },
  {
   "cell_type": "code",
   "execution_count": 4,
   "metadata": {},
   "outputs": [
    {
     "name": "stdout",
     "output_type": "stream",
     "text": [
      "0\n"
     ]
    }
   ],
   "source": [
    "## Duplicate check\n",
    "print(Features.duplicated().sum())"
   ]
  },
  {
   "cell_type": "code",
   "execution_count": 5,
   "metadata": {},
   "outputs": [
    {
     "name": "stdout",
     "output_type": "stream",
     "text": [
      "\n",
      "============================================================\n",
      "Features.csv\n"
     ]
    },
    {
     "data": {
      "text/html": [
       "<style type=\"text/css\">\n",
       "#T_ac3dd_row0_col0, #T_ac3dd_row0_col1, #T_ac3dd_row0_col2, #T_ac3dd_row0_col3, #T_ac3dd_row0_col4, #T_ac3dd_row0_col5, #T_ac3dd_row0_col6, #T_ac3dd_row0_col7, #T_ac3dd_row0_col8, #T_ac3dd_row0_col9, #T_ac3dd_row0_col10, #T_ac3dd_row0_col11, #T_ac3dd_row0_col12, #T_ac3dd_row0_col13, #T_ac3dd_row1_col0, #T_ac3dd_row1_col1, #T_ac3dd_row1_col2, #T_ac3dd_row1_col3, #T_ac3dd_row1_col4, #T_ac3dd_row1_col5, #T_ac3dd_row1_col6, #T_ac3dd_row1_col7, #T_ac3dd_row1_col8, #T_ac3dd_row1_col9, #T_ac3dd_row1_col10, #T_ac3dd_row1_col11, #T_ac3dd_row1_col12, #T_ac3dd_row1_col13, #T_ac3dd_row2_col0, #T_ac3dd_row2_col1, #T_ac3dd_row2_col2, #T_ac3dd_row2_col3, #T_ac3dd_row2_col4, #T_ac3dd_row2_col5, #T_ac3dd_row2_col6, #T_ac3dd_row2_col7, #T_ac3dd_row2_col8, #T_ac3dd_row2_col9, #T_ac3dd_row2_col10, #T_ac3dd_row2_col11, #T_ac3dd_row2_col12, #T_ac3dd_row2_col13, #T_ac3dd_row3_col0, #T_ac3dd_row3_col1, #T_ac3dd_row3_col2, #T_ac3dd_row3_col3, #T_ac3dd_row3_col4, #T_ac3dd_row3_col5, #T_ac3dd_row3_col6, #T_ac3dd_row3_col7, #T_ac3dd_row3_col8, #T_ac3dd_row3_col9, #T_ac3dd_row3_col10, #T_ac3dd_row3_col11, #T_ac3dd_row3_col12, #T_ac3dd_row3_col13, #T_ac3dd_row4_col0, #T_ac3dd_row4_col1, #T_ac3dd_row4_col2, #T_ac3dd_row4_col3, #T_ac3dd_row4_col4, #T_ac3dd_row4_col5, #T_ac3dd_row4_col6, #T_ac3dd_row4_col7, #T_ac3dd_row4_col8, #T_ac3dd_row4_col9, #T_ac3dd_row4_col10, #T_ac3dd_row4_col11, #T_ac3dd_row4_col12, #T_ac3dd_row4_col13 {\n",
       "  background-color: #212636;\n",
       "  color: white;\n",
       "  border: 1.5px solid white;\n",
       "}\n",
       "</style>\n",
       "<table id=\"T_ac3dd\">\n",
       "  <thead>\n",
       "    <tr>\n",
       "      <th class=\"blank level0\" >&nbsp;</th>\n",
       "      <th id=\"T_ac3dd_level0_col0\" class=\"col_heading level0 col0\" >id</th>\n",
       "      <th id=\"T_ac3dd_level0_col1\" class=\"col_heading level0 col1\" >name</th>\n",
       "      <th id=\"T_ac3dd_level0_col2\" class=\"col_heading level0 col2\" >duration</th>\n",
       "      <th id=\"T_ac3dd_level0_col3\" class=\"col_heading level0 col3\" >energy</th>\n",
       "      <th id=\"T_ac3dd_level0_col4\" class=\"col_heading level0 col4\" >key</th>\n",
       "      <th id=\"T_ac3dd_level0_col5\" class=\"col_heading level0 col5\" >loudness</th>\n",
       "      <th id=\"T_ac3dd_level0_col6\" class=\"col_heading level0 col6\" >mode</th>\n",
       "      <th id=\"T_ac3dd_level0_col7\" class=\"col_heading level0 col7\" >speechiness</th>\n",
       "      <th id=\"T_ac3dd_level0_col8\" class=\"col_heading level0 col8\" >acousticness</th>\n",
       "      <th id=\"T_ac3dd_level0_col9\" class=\"col_heading level0 col9\" >instrumentalness</th>\n",
       "      <th id=\"T_ac3dd_level0_col10\" class=\"col_heading level0 col10\" >liveness</th>\n",
       "      <th id=\"T_ac3dd_level0_col11\" class=\"col_heading level0 col11\" >valence</th>\n",
       "      <th id=\"T_ac3dd_level0_col12\" class=\"col_heading level0 col12\" >tempo</th>\n",
       "      <th id=\"T_ac3dd_level0_col13\" class=\"col_heading level0 col13\" >danceability</th>\n",
       "    </tr>\n",
       "  </thead>\n",
       "  <tbody>\n",
       "    <tr>\n",
       "      <th id=\"T_ac3dd_level0_row0\" class=\"row_heading level0 row0\" >0</th>\n",
       "      <td id=\"T_ac3dd_row0_col0\" class=\"data row0 col0\" >0VjIjW4GlUZAMYd2vXMi3b</td>\n",
       "      <td id=\"T_ac3dd_row0_col1\" class=\"data row0 col1\" >Blinding Lights</td>\n",
       "      <td id=\"T_ac3dd_row0_col2\" class=\"data row0 col2\" >3.330000</td>\n",
       "      <td id=\"T_ac3dd_row0_col3\" class=\"data row0 col3\" >0.730000</td>\n",
       "      <td id=\"T_ac3dd_row0_col4\" class=\"data row0 col4\" >1</td>\n",
       "      <td id=\"T_ac3dd_row0_col5\" class=\"data row0 col5\" >-5.934000</td>\n",
       "      <td id=\"T_ac3dd_row0_col6\" class=\"data row0 col6\" >1</td>\n",
       "      <td id=\"T_ac3dd_row0_col7\" class=\"data row0 col7\" >0.059800</td>\n",
       "      <td id=\"T_ac3dd_row0_col8\" class=\"data row0 col8\" >0.001460</td>\n",
       "      <td id=\"T_ac3dd_row0_col9\" class=\"data row0 col9\" >0.000095</td>\n",
       "      <td id=\"T_ac3dd_row0_col10\" class=\"data row0 col10\" >0.089700</td>\n",
       "      <td id=\"T_ac3dd_row0_col11\" class=\"data row0 col11\" >0.334000</td>\n",
       "      <td id=\"T_ac3dd_row0_col12\" class=\"data row0 col12\" >171.005000</td>\n",
       "      <td id=\"T_ac3dd_row0_col13\" class=\"data row0 col13\" >0.514000</td>\n",
       "    </tr>\n",
       "    <tr>\n",
       "      <th id=\"T_ac3dd_level0_row1\" class=\"row_heading level0 row1\" >1</th>\n",
       "      <td id=\"T_ac3dd_row1_col0\" class=\"data row1 col0\" >7qiZfU4dY1lWllzX7mPBI3</td>\n",
       "      <td id=\"T_ac3dd_row1_col1\" class=\"data row1 col1\" >Shape of You</td>\n",
       "      <td id=\"T_ac3dd_row1_col2\" class=\"data row1 col2\" >3.900000</td>\n",
       "      <td id=\"T_ac3dd_row1_col3\" class=\"data row1 col3\" >0.652000</td>\n",
       "      <td id=\"T_ac3dd_row1_col4\" class=\"data row1 col4\" >1</td>\n",
       "      <td id=\"T_ac3dd_row1_col5\" class=\"data row1 col5\" >-3.183000</td>\n",
       "      <td id=\"T_ac3dd_row1_col6\" class=\"data row1 col6\" >0</td>\n",
       "      <td id=\"T_ac3dd_row1_col7\" class=\"data row1 col7\" >0.080200</td>\n",
       "      <td id=\"T_ac3dd_row1_col8\" class=\"data row1 col8\" >0.581000</td>\n",
       "      <td id=\"T_ac3dd_row1_col9\" class=\"data row1 col9\" >0.000000</td>\n",
       "      <td id=\"T_ac3dd_row1_col10\" class=\"data row1 col10\" >0.093100</td>\n",
       "      <td id=\"T_ac3dd_row1_col11\" class=\"data row1 col11\" >0.931000</td>\n",
       "      <td id=\"T_ac3dd_row1_col12\" class=\"data row1 col12\" >95.977000</td>\n",
       "      <td id=\"T_ac3dd_row1_col13\" class=\"data row1 col13\" >0.825000</td>\n",
       "    </tr>\n",
       "    <tr>\n",
       "      <th id=\"T_ac3dd_level0_row2\" class=\"row_heading level0 row2\" >2</th>\n",
       "      <td id=\"T_ac3dd_row2_col0\" class=\"data row2 col0\" >2XU0oxnq2qxCpomAAuJY8K</td>\n",
       "      <td id=\"T_ac3dd_row2_col1\" class=\"data row2 col1\" >Dance Monkey</td>\n",
       "      <td id=\"T_ac3dd_row2_col2\" class=\"data row2 col2\" >3.490000</td>\n",
       "      <td id=\"T_ac3dd_row2_col3\" class=\"data row2 col3\" >0.588000</td>\n",
       "      <td id=\"T_ac3dd_row2_col4\" class=\"data row2 col4\" >6</td>\n",
       "      <td id=\"T_ac3dd_row2_col5\" class=\"data row2 col5\" >-6.400000</td>\n",
       "      <td id=\"T_ac3dd_row2_col6\" class=\"data row2 col6\" >0</td>\n",
       "      <td id=\"T_ac3dd_row2_col7\" class=\"data row2 col7\" >0.092400</td>\n",
       "      <td id=\"T_ac3dd_row2_col8\" class=\"data row2 col8\" >0.692000</td>\n",
       "      <td id=\"T_ac3dd_row2_col9\" class=\"data row2 col9\" >0.000104</td>\n",
       "      <td id=\"T_ac3dd_row2_col10\" class=\"data row2 col10\" >0.149000</td>\n",
       "      <td id=\"T_ac3dd_row2_col11\" class=\"data row2 col11\" >0.513000</td>\n",
       "      <td id=\"T_ac3dd_row2_col12\" class=\"data row2 col12\" >98.027000</td>\n",
       "      <td id=\"T_ac3dd_row2_col13\" class=\"data row2 col13\" >0.824000</td>\n",
       "    </tr>\n",
       "    <tr>\n",
       "      <th id=\"T_ac3dd_level0_row3\" class=\"row_heading level0 row3\" >3</th>\n",
       "      <td id=\"T_ac3dd_row3_col0\" class=\"data row3 col0\" >7qEHsqek33rTcFNT9PFqLf</td>\n",
       "      <td id=\"T_ac3dd_row3_col1\" class=\"data row3 col1\" >Someone You Loved</td>\n",
       "      <td id=\"T_ac3dd_row3_col2\" class=\"data row3 col2\" >3.040000</td>\n",
       "      <td id=\"T_ac3dd_row3_col3\" class=\"data row3 col3\" >0.405000</td>\n",
       "      <td id=\"T_ac3dd_row3_col4\" class=\"data row3 col4\" >1</td>\n",
       "      <td id=\"T_ac3dd_row3_col5\" class=\"data row3 col5\" >-5.679000</td>\n",
       "      <td id=\"T_ac3dd_row3_col6\" class=\"data row3 col6\" >1</td>\n",
       "      <td id=\"T_ac3dd_row3_col7\" class=\"data row3 col7\" >0.031900</td>\n",
       "      <td id=\"T_ac3dd_row3_col8\" class=\"data row3 col8\" >0.751000</td>\n",
       "      <td id=\"T_ac3dd_row3_col9\" class=\"data row3 col9\" >0.000000</td>\n",
       "      <td id=\"T_ac3dd_row3_col10\" class=\"data row3 col10\" >0.105000</td>\n",
       "      <td id=\"T_ac3dd_row3_col11\" class=\"data row3 col11\" >0.446000</td>\n",
       "      <td id=\"T_ac3dd_row3_col12\" class=\"data row3 col12\" >109.891000</td>\n",
       "      <td id=\"T_ac3dd_row3_col13\" class=\"data row3 col13\" >0.501000</td>\n",
       "    </tr>\n",
       "    <tr>\n",
       "      <th id=\"T_ac3dd_level0_row4\" class=\"row_heading level0 row4\" >4</th>\n",
       "      <td id=\"T_ac3dd_row4_col0\" class=\"data row4 col0\" >0e7ipj03S05BNilyu5bRzt</td>\n",
       "      <td id=\"T_ac3dd_row4_col1\" class=\"data row4 col1\" >Rockstar</td>\n",
       "      <td id=\"T_ac3dd_row4_col2\" class=\"data row4 col2\" >3.640000</td>\n",
       "      <td id=\"T_ac3dd_row4_col3\" class=\"data row4 col3\" >0.520000</td>\n",
       "      <td id=\"T_ac3dd_row4_col4\" class=\"data row4 col4\" >5</td>\n",
       "      <td id=\"T_ac3dd_row4_col5\" class=\"data row4 col5\" >-6.136000</td>\n",
       "      <td id=\"T_ac3dd_row4_col6\" class=\"data row4 col6\" >0</td>\n",
       "      <td id=\"T_ac3dd_row4_col7\" class=\"data row4 col7\" >0.071200</td>\n",
       "      <td id=\"T_ac3dd_row4_col8\" class=\"data row4 col8\" >0.124000</td>\n",
       "      <td id=\"T_ac3dd_row4_col9\" class=\"data row4 col9\" >0.000070</td>\n",
       "      <td id=\"T_ac3dd_row4_col10\" class=\"data row4 col10\" >0.131000</td>\n",
       "      <td id=\"T_ac3dd_row4_col11\" class=\"data row4 col11\" >0.129000</td>\n",
       "      <td id=\"T_ac3dd_row4_col12\" class=\"data row4 col12\" >159.801000</td>\n",
       "      <td id=\"T_ac3dd_row4_col13\" class=\"data row4 col13\" >0.585000</td>\n",
       "    </tr>\n",
       "  </tbody>\n",
       "</table>\n"
      ],
      "text/plain": [
       "<pandas.io.formats.style.Styler at 0x257b39ad550>"
      ]
     },
     "metadata": {},
     "output_type": "display_data"
    },
    {
     "name": "stdout",
     "output_type": "stream",
     "text": [
      "<class 'pandas.core.frame.DataFrame'>\n",
      "RangeIndex: 100 entries, 0 to 99\n",
      "Data columns (total 14 columns):\n",
      " #   Column            Non-Null Count  Dtype  \n",
      "---  ------            --------------  -----  \n",
      " 0   id                100 non-null    object \n",
      " 1   name              100 non-null    object \n",
      " 2   duration          100 non-null    float64\n",
      " 3   energy            100 non-null    float64\n",
      " 4   key               100 non-null    int64  \n",
      " 5   loudness          100 non-null    float64\n",
      " 6   mode              100 non-null    int64  \n",
      " 7   speechiness       100 non-null    float64\n",
      " 8   acousticness      100 non-null    float64\n",
      " 9   instrumentalness  100 non-null    float64\n",
      " 10  liveness          100 non-null    float64\n",
      " 11  valence           100 non-null    float64\n",
      " 12  tempo             100 non-null    float64\n",
      " 13  danceability      100 non-null    float64\n",
      "dtypes: float64(10), int64(2), object(2)\n",
      "memory usage: 11.1+ KB\n",
      "None\n",
      "\n",
      "\n",
      "============================================================\n",
      "Streams.csv\n"
     ]
    },
    {
     "data": {
      "text/html": [
       "<style type=\"text/css\">\n",
       "#T_2d9fc_row0_col0, #T_2d9fc_row0_col1, #T_2d9fc_row0_col2, #T_2d9fc_row0_col3, #T_2d9fc_row1_col0, #T_2d9fc_row1_col1, #T_2d9fc_row1_col2, #T_2d9fc_row1_col3, #T_2d9fc_row2_col0, #T_2d9fc_row2_col1, #T_2d9fc_row2_col2, #T_2d9fc_row2_col3, #T_2d9fc_row3_col0, #T_2d9fc_row3_col1, #T_2d9fc_row3_col2, #T_2d9fc_row3_col3, #T_2d9fc_row4_col0, #T_2d9fc_row4_col1, #T_2d9fc_row4_col2, #T_2d9fc_row4_col3 {\n",
       "  background-color: #212636;\n",
       "  color: white;\n",
       "  border: 1.5px solid white;\n",
       "}\n",
       "</style>\n",
       "<table id=\"T_2d9fc\">\n",
       "  <thead>\n",
       "    <tr>\n",
       "      <th class=\"blank level0\" >&nbsp;</th>\n",
       "      <th id=\"T_2d9fc_level0_col0\" class=\"col_heading level0 col0\" >Song</th>\n",
       "      <th id=\"T_2d9fc_level0_col1\" class=\"col_heading level0 col1\" >Artist</th>\n",
       "      <th id=\"T_2d9fc_level0_col2\" class=\"col_heading level0 col2\" >Streams (Billions)</th>\n",
       "      <th id=\"T_2d9fc_level0_col3\" class=\"col_heading level0 col3\" >Release Date</th>\n",
       "    </tr>\n",
       "  </thead>\n",
       "  <tbody>\n",
       "    <tr>\n",
       "      <th id=\"T_2d9fc_level0_row0\" class=\"row_heading level0 row0\" >0</th>\n",
       "      <td id=\"T_2d9fc_row0_col0\" class=\"data row0 col0\" >Blinding Lights</td>\n",
       "      <td id=\"T_2d9fc_row0_col1\" class=\"data row0 col1\" >The Weeknd</td>\n",
       "      <td id=\"T_2d9fc_row0_col2\" class=\"data row0 col2\" >3.449000</td>\n",
       "      <td id=\"T_2d9fc_row0_col3\" class=\"data row0 col3\" >29-Nov-19</td>\n",
       "    </tr>\n",
       "    <tr>\n",
       "      <th id=\"T_2d9fc_level0_row1\" class=\"row_heading level0 row1\" >1</th>\n",
       "      <td id=\"T_2d9fc_row1_col0\" class=\"data row1 col0\" >Shape of You</td>\n",
       "      <td id=\"T_2d9fc_row1_col1\" class=\"data row1 col1\" >Ed Sheeran</td>\n",
       "      <td id=\"T_2d9fc_row1_col2\" class=\"data row1 col2\" >3.398000</td>\n",
       "      <td id=\"T_2d9fc_row1_col3\" class=\"data row1 col3\" >06-Jan-17</td>\n",
       "    </tr>\n",
       "    <tr>\n",
       "      <th id=\"T_2d9fc_level0_row2\" class=\"row_heading level0 row2\" >2</th>\n",
       "      <td id=\"T_2d9fc_row2_col0\" class=\"data row2 col0\" >Dance Monkey</td>\n",
       "      <td id=\"T_2d9fc_row2_col1\" class=\"data row2 col1\" >Tones And I</td>\n",
       "      <td id=\"T_2d9fc_row2_col2\" class=\"data row2 col2\" >2.770000</td>\n",
       "      <td id=\"T_2d9fc_row2_col3\" class=\"data row2 col3\" >10-May-19</td>\n",
       "    </tr>\n",
       "    <tr>\n",
       "      <th id=\"T_2d9fc_level0_row3\" class=\"row_heading level0 row3\" >3</th>\n",
       "      <td id=\"T_2d9fc_row3_col0\" class=\"data row3 col0\" >Someone You Loved</td>\n",
       "      <td id=\"T_2d9fc_row3_col1\" class=\"data row3 col1\" >Lewis Capaldi</td>\n",
       "      <td id=\"T_2d9fc_row3_col2\" class=\"data row3 col2\" >2.680000</td>\n",
       "      <td id=\"T_2d9fc_row3_col3\" class=\"data row3 col3\" >08-Nov-18</td>\n",
       "    </tr>\n",
       "    <tr>\n",
       "      <th id=\"T_2d9fc_level0_row4\" class=\"row_heading level0 row4\" >4</th>\n",
       "      <td id=\"T_2d9fc_row4_col0\" class=\"data row4 col0\" >Rockstar</td>\n",
       "      <td id=\"T_2d9fc_row4_col1\" class=\"data row4 col1\" >Post Malone featuring 21 Savage</td>\n",
       "      <td id=\"T_2d9fc_row4_col2\" class=\"data row4 col2\" >2.620000</td>\n",
       "      <td id=\"T_2d9fc_row4_col3\" class=\"data row4 col3\" >15-Sep-17</td>\n",
       "    </tr>\n",
       "  </tbody>\n",
       "</table>\n"
      ],
      "text/plain": [
       "<pandas.io.formats.style.Styler at 0x257aee3b150>"
      ]
     },
     "metadata": {},
     "output_type": "display_data"
    },
    {
     "name": "stdout",
     "output_type": "stream",
     "text": [
      "<class 'pandas.core.frame.DataFrame'>\n",
      "RangeIndex: 100 entries, 0 to 99\n",
      "Data columns (total 4 columns):\n",
      " #   Column              Non-Null Count  Dtype  \n",
      "---  ------              --------------  -----  \n",
      " 0   Song                100 non-null    object \n",
      " 1   Artist              100 non-null    object \n",
      " 2   Streams (Billions)  100 non-null    float64\n",
      " 3   Release Date        100 non-null    object \n",
      "dtypes: float64(1), object(3)\n",
      "memory usage: 3.3+ KB\n",
      "None\n"
     ]
    }
   ],
   "source": [
    "print('\\n' + '='*60,)\n",
    "print('Features.csv')\n",
    "display(Features.head(5).style.set_properties(\n",
    "    **{\"background-color\": \"#212636\",\"color\":\"white\",\"border\": \"1.5px solid white\"}))\n",
    "print(Features.info())\n",
    "\n",
    "print('\\n\\n' + '='*60,)\n",
    "print('Streams.csv')\n",
    "display(Streams.head(5).style.set_properties(\n",
    "    **{\"background-color\": \"#212636\",\"color\":\"white\",\"border\": \"1.5px solid white\"}))\n",
    "print(Streams.info())\n"
   ]
  },
  {
   "attachments": {},
   "cell_type": "markdown",
   "metadata": {},
   "source": [
    "## Analysis:"
   ]
  },
  {
   "cell_type": "code",
   "execution_count": 6,
   "metadata": {},
   "outputs": [
    {
     "data": {
      "application/vnd.plotly.v1+json": {
       "config": {
        "plotlyServerURL": "https://plot.ly"
       },
       "data": [
        {
         "alignmentgroup": "True",
         "bingroup": "x",
         "hovertemplate": "duration=%{x}<br>count=%{y}<extra></extra>",
         "legendgroup": "3.33",
         "marker": {
          "color": "rgb(229, 134, 6)",
          "pattern": {
           "shape": ""
          }
         },
         "name": "3.33",
         "offsetgroup": "3.33",
         "orientation": "v",
         "showlegend": true,
         "type": "histogram",
         "x": [
          3.33
         ],
         "xaxis": "x",
         "yaxis": "y"
        },
        {
         "alignmentgroup": "True",
         "bingroup": "x",
         "hovertemplate": "duration=%{x}<br>count=%{y}<extra></extra>",
         "legendgroup": "3.9",
         "marker": {
          "color": "rgb(93, 105, 177)",
          "pattern": {
           "shape": ""
          }
         },
         "name": "3.9",
         "offsetgroup": "3.9",
         "orientation": "v",
         "showlegend": true,
         "type": "histogram",
         "x": [
          3.9,
          3.9,
          3.9
         ],
         "xaxis": "x",
         "yaxis": "y"
        },
        {
         "alignmentgroup": "True",
         "bingroup": "x",
         "hovertemplate": "duration=%{x}<br>count=%{y}<extra></extra>",
         "legendgroup": "3.49",
         "marker": {
          "color": "rgb(82, 188, 163)",
          "pattern": {
           "shape": ""
          }
         },
         "name": "3.49",
         "offsetgroup": "3.49",
         "orientation": "v",
         "showlegend": true,
         "type": "histogram",
         "x": [
          3.49,
          3.49,
          3.49
         ],
         "xaxis": "x",
         "yaxis": "y"
        },
        {
         "alignmentgroup": "True",
         "bingroup": "x",
         "hovertemplate": "duration=%{x}<br>count=%{y}<extra></extra>",
         "legendgroup": "3.04",
         "marker": {
          "color": "rgb(153, 201, 69)",
          "pattern": {
           "shape": ""
          }
         },
         "name": "3.04",
         "offsetgroup": "3.04",
         "orientation": "v",
         "showlegend": true,
         "type": "histogram",
         "x": [
          3.04
         ],
         "xaxis": "x",
         "yaxis": "y"
        },
        {
         "alignmentgroup": "True",
         "bingroup": "x",
         "hovertemplate": "duration=%{x}<br>count=%{y}<extra></extra>",
         "legendgroup": "3.64",
         "marker": {
          "color": "rgb(204, 97, 176)",
          "pattern": {
           "shape": ""
          }
         },
         "name": "3.64",
         "offsetgroup": "3.64",
         "orientation": "v",
         "showlegend": true,
         "type": "histogram",
         "x": [
          3.64
         ],
         "xaxis": "x",
         "yaxis": "y"
        },
        {
         "alignmentgroup": "True",
         "bingroup": "x",
         "hovertemplate": "duration=%{x}<br>count=%{y}<extra></extra>",
         "legendgroup": "2.63",
         "marker": {
          "color": "rgb(36, 121, 108)",
          "pattern": {
           "shape": ""
          }
         },
         "name": "2.63",
         "offsetgroup": "2.63",
         "orientation": "v",
         "showlegend": true,
         "type": "histogram",
         "x": [
          2.63
         ],
         "xaxis": "x",
         "yaxis": "y"
        },
        {
         "alignmentgroup": "True",
         "bingroup": "x",
         "hovertemplate": "duration=%{x}<br>count=%{y}<extra></extra>",
         "legendgroup": "2.9",
         "marker": {
          "color": "rgb(218, 165, 27)",
          "pattern": {
           "shape": ""
          }
         },
         "name": "2.9",
         "offsetgroup": "2.9",
         "orientation": "v",
         "showlegend": true,
         "type": "histogram",
         "x": [
          2.9,
          2.9,
          2.9
         ],
         "xaxis": "x",
         "yaxis": "y"
        },
        {
         "alignmentgroup": "True",
         "bingroup": "x",
         "hovertemplate": "duration=%{x}<br>count=%{y}<extra></extra>",
         "legendgroup": "4.08",
         "marker": {
          "color": "rgb(47, 138, 196)",
          "pattern": {
           "shape": ""
          }
         },
         "name": "4.08",
         "offsetgroup": "4.08",
         "orientation": "v",
         "showlegend": true,
         "type": "histogram",
         "x": [
          4.08
         ],
         "xaxis": "x",
         "yaxis": "y"
        },
        {
         "alignmentgroup": "True",
         "bingroup": "x",
         "hovertemplate": "duration=%{x}<br>count=%{y}<extra></extra>",
         "legendgroup": "4.01",
         "marker": {
          "color": "rgb(118, 78, 159)",
          "pattern": {
           "shape": ""
          }
         },
         "name": "4.01",
         "offsetgroup": "4.01",
         "orientation": "v",
         "showlegend": true,
         "type": "histogram",
         "x": [
          4.01,
          4.01
         ],
         "xaxis": "x",
         "yaxis": "y"
        },
        {
         "alignmentgroup": "True",
         "bingroup": "x",
         "hovertemplate": "duration=%{x}<br>count=%{y}<extra></extra>",
         "legendgroup": "3.41",
         "marker": {
          "color": "rgb(237, 100, 90)",
          "pattern": {
           "shape": ""
          }
         },
         "name": "3.41",
         "offsetgroup": "3.41",
         "orientation": "v",
         "showlegend": true,
         "type": "histogram",
         "x": [
          3.41
         ],
         "xaxis": "x",
         "yaxis": "y"
        },
        {
         "alignmentgroup": "True",
         "bingroup": "x",
         "hovertemplate": "duration=%{x}<br>count=%{y}<extra></extra>",
         "legendgroup": "3.18",
         "marker": {
          "color": "rgb(165, 170, 153)",
          "pattern": {
           "shape": ""
          }
         },
         "name": "3.18",
         "offsetgroup": "3.18",
         "orientation": "v",
         "showlegend": true,
         "type": "histogram",
         "x": [
          3.18
         ],
         "xaxis": "x",
         "yaxis": "y"
        },
        {
         "alignmentgroup": "True",
         "bingroup": "x",
         "hovertemplate": "duration=%{x}<br>count=%{y}<extra></extra>",
         "legendgroup": "2.96",
         "marker": {
          "color": "rgb(229, 134, 6)",
          "pattern": {
           "shape": ""
          }
         },
         "name": "2.96",
         "offsetgroup": "2.96",
         "orientation": "v",
         "showlegend": true,
         "type": "histogram",
         "x": [
          2.96
         ],
         "xaxis": "x",
         "yaxis": "y"
        },
        {
         "alignmentgroup": "True",
         "bingroup": "x",
         "hovertemplate": "duration=%{x}<br>count=%{y}<extra></extra>",
         "legendgroup": "3.98",
         "marker": {
          "color": "rgb(93, 105, 177)",
          "pattern": {
           "shape": ""
          }
         },
         "name": "3.98",
         "offsetgroup": "3.98",
         "orientation": "v",
         "showlegend": true,
         "type": "histogram",
         "x": [
          3.98
         ],
         "xaxis": "x",
         "yaxis": "y"
        },
        {
         "alignmentgroup": "True",
         "bingroup": "x",
         "hovertemplate": "duration=%{x}<br>count=%{y}<extra></extra>",
         "legendgroup": "3.52",
         "marker": {
          "color": "rgb(82, 188, 163)",
          "pattern": {
           "shape": ""
          }
         },
         "name": "3.52",
         "offsetgroup": "3.52",
         "orientation": "v",
         "showlegend": true,
         "type": "histogram",
         "x": [
          3.52
         ],
         "xaxis": "x",
         "yaxis": "y"
        },
        {
         "alignmentgroup": "True",
         "bingroup": "x",
         "hovertemplate": "duration=%{x}<br>count=%{y}<extra></extra>",
         "legendgroup": "3.84",
         "marker": {
          "color": "rgb(153, 201, 69)",
          "pattern": {
           "shape": ""
          }
         },
         "name": "3.84",
         "offsetgroup": "3.84",
         "orientation": "v",
         "showlegend": true,
         "type": "histogram",
         "x": [
          3.84
         ],
         "xaxis": "x",
         "yaxis": "y"
        },
        {
         "alignmentgroup": "True",
         "bingroup": "x",
         "hovertemplate": "duration=%{x}<br>count=%{y}<extra></extra>",
         "legendgroup": "3.23",
         "marker": {
          "color": "rgb(204, 97, 176)",
          "pattern": {
           "shape": ""
          }
         },
         "name": "3.23",
         "offsetgroup": "3.23",
         "orientation": "v",
         "showlegend": true,
         "type": "histogram",
         "x": [
          3.23
         ],
         "xaxis": "x",
         "yaxis": "y"
        },
        {
         "alignmentgroup": "True",
         "bingroup": "x",
         "hovertemplate": "duration=%{x}<br>count=%{y}<extra></extra>",
         "legendgroup": "4.69",
         "marker": {
          "color": "rgb(36, 121, 108)",
          "pattern": {
           "shape": ""
          }
         },
         "name": "4.69",
         "offsetgroup": "4.69",
         "orientation": "v",
         "showlegend": true,
         "type": "histogram",
         "x": [
          4.69
         ],
         "xaxis": "x",
         "yaxis": "y"
        },
        {
         "alignmentgroup": "True",
         "bingroup": "x",
         "hovertemplate": "duration=%{x}<br>count=%{y}<extra></extra>",
         "legendgroup": "4.0",
         "marker": {
          "color": "rgb(218, 165, 27)",
          "pattern": {
           "shape": ""
          }
         },
         "name": "4.0",
         "offsetgroup": "4.0",
         "orientation": "v",
         "showlegend": true,
         "type": "histogram",
         "x": [
          4
         ],
         "xaxis": "x",
         "yaxis": "y"
        },
        {
         "alignmentgroup": "True",
         "bingroup": "x",
         "hovertemplate": "duration=%{x}<br>count=%{y}<extra></extra>",
         "legendgroup": "3.02",
         "marker": {
          "color": "rgb(47, 138, 196)",
          "pattern": {
           "shape": ""
          }
         },
         "name": "3.02",
         "offsetgroup": "3.02",
         "orientation": "v",
         "showlegend": true,
         "type": "histogram",
         "x": [
          3.02
         ],
         "xaxis": "x",
         "yaxis": "y"
        },
        {
         "alignmentgroup": "True",
         "bingroup": "x",
         "hovertemplate": "duration=%{x}<br>count=%{y}<extra></extra>",
         "legendgroup": "3.34",
         "marker": {
          "color": "rgb(118, 78, 159)",
          "pattern": {
           "shape": ""
          }
         },
         "name": "3.34",
         "offsetgroup": "3.34",
         "orientation": "v",
         "showlegend": true,
         "type": "histogram",
         "x": [
          3.34
         ],
         "xaxis": "x",
         "yaxis": "y"
        },
        {
         "alignmentgroup": "True",
         "bingroup": "x",
         "hovertemplate": "duration=%{x}<br>count=%{y}<extra></extra>",
         "legendgroup": "3.32",
         "marker": {
          "color": "rgb(237, 100, 90)",
          "pattern": {
           "shape": ""
          }
         },
         "name": "3.32",
         "offsetgroup": "3.32",
         "orientation": "v",
         "showlegend": true,
         "type": "histogram",
         "x": [
          3.32,
          3.32
         ],
         "xaxis": "x",
         "yaxis": "y"
        },
        {
         "alignmentgroup": "True",
         "bingroup": "x",
         "hovertemplate": "duration=%{x}<br>count=%{y}<extra></extra>",
         "legendgroup": "4.32",
         "marker": {
          "color": "rgb(165, 170, 153)",
          "pattern": {
           "shape": ""
          }
         },
         "name": "4.32",
         "offsetgroup": "4.32",
         "orientation": "v",
         "showlegend": true,
         "type": "histogram",
         "x": [
          4.32
         ],
         "xaxis": "x",
         "yaxis": "y"
        },
        {
         "alignmentgroup": "True",
         "bingroup": "x",
         "hovertemplate": "duration=%{x}<br>count=%{y}<extra></extra>",
         "legendgroup": "5.91",
         "marker": {
          "color": "rgb(229, 134, 6)",
          "pattern": {
           "shape": ""
          }
         },
         "name": "5.91",
         "offsetgroup": "5.91",
         "orientation": "v",
         "showlegend": true,
         "type": "histogram",
         "x": [
          5.91
         ],
         "xaxis": "x",
         "yaxis": "y"
        },
        {
         "alignmentgroup": "True",
         "bingroup": "x",
         "hovertemplate": "duration=%{x}<br>count=%{y}<extra></extra>",
         "legendgroup": "4.12",
         "marker": {
          "color": "rgb(93, 105, 177)",
          "pattern": {
           "shape": ""
          }
         },
         "name": "4.12",
         "offsetgroup": "4.12",
         "orientation": "v",
         "showlegend": true,
         "type": "histogram",
         "x": [
          4.12,
          4.12
         ],
         "xaxis": "x",
         "yaxis": "y"
        },
        {
         "alignmentgroup": "True",
         "bingroup": "x",
         "hovertemplate": "duration=%{x}<br>count=%{y}<extra></extra>",
         "legendgroup": "3.6",
         "marker": {
          "color": "rgb(82, 188, 163)",
          "pattern": {
           "shape": ""
          }
         },
         "name": "3.6",
         "offsetgroup": "3.6",
         "orientation": "v",
         "showlegend": true,
         "type": "histogram",
         "x": [
          3.6
         ],
         "xaxis": "x",
         "yaxis": "y"
        },
        {
         "alignmentgroup": "True",
         "bingroup": "x",
         "hovertemplate": "duration=%{x}<br>count=%{y}<extra></extra>",
         "legendgroup": "2.79",
         "marker": {
          "color": "rgb(153, 201, 69)",
          "pattern": {
           "shape": ""
          }
         },
         "name": "2.79",
         "offsetgroup": "2.79",
         "orientation": "v",
         "showlegend": true,
         "type": "histogram",
         "x": [
          2.79
         ],
         "xaxis": "x",
         "yaxis": "y"
        },
        {
         "alignmentgroup": "True",
         "bingroup": "x",
         "hovertemplate": "duration=%{x}<br>count=%{y}<extra></extra>",
         "legendgroup": "3.59",
         "marker": {
          "color": "rgb(204, 97, 176)",
          "pattern": {
           "shape": ""
          }
         },
         "name": "3.59",
         "offsetgroup": "3.59",
         "orientation": "v",
         "showlegend": true,
         "type": "histogram",
         "x": [
          3.59
         ],
         "xaxis": "x",
         "yaxis": "y"
        },
        {
         "alignmentgroup": "True",
         "bingroup": "x",
         "hovertemplate": "duration=%{x}<br>count=%{y}<extra></extra>",
         "legendgroup": "2.78",
         "marker": {
          "color": "rgb(36, 121, 108)",
          "pattern": {
           "shape": ""
          }
         },
         "name": "2.78",
         "offsetgroup": "2.78",
         "orientation": "v",
         "showlegend": true,
         "type": "histogram",
         "x": [
          2.78
         ],
         "xaxis": "x",
         "yaxis": "y"
        },
        {
         "alignmentgroup": "True",
         "bingroup": "x",
         "hovertemplate": "duration=%{x}<br>count=%{y}<extra></extra>",
         "legendgroup": "4.03",
         "marker": {
          "color": "rgb(218, 165, 27)",
          "pattern": {
           "shape": ""
          }
         },
         "name": "4.03",
         "offsetgroup": "4.03",
         "orientation": "v",
         "showlegend": true,
         "type": "histogram",
         "x": [
          4.03,
          4.03
         ],
         "xaxis": "x",
         "yaxis": "y"
        },
        {
         "alignmentgroup": "True",
         "bingroup": "x",
         "hovertemplate": "duration=%{x}<br>count=%{y}<extra></extra>",
         "legendgroup": "4.49",
         "marker": {
          "color": "rgb(47, 138, 196)",
          "pattern": {
           "shape": ""
          }
         },
         "name": "4.49",
         "offsetgroup": "4.49",
         "orientation": "v",
         "showlegend": true,
         "type": "histogram",
         "x": [
          4.49,
          4.49
         ],
         "xaxis": "x",
         "yaxis": "y"
        },
        {
         "alignmentgroup": "True",
         "bingroup": "x",
         "hovertemplate": "duration=%{x}<br>count=%{y}<extra></extra>",
         "legendgroup": "4.88",
         "marker": {
          "color": "rgb(118, 78, 159)",
          "pattern": {
           "shape": ""
          }
         },
         "name": "4.88",
         "offsetgroup": "4.88",
         "orientation": "v",
         "showlegend": true,
         "type": "histogram",
         "x": [
          4.88,
          4.88
         ],
         "xaxis": "x",
         "yaxis": "y"
        },
        {
         "alignmentgroup": "True",
         "bingroup": "x",
         "hovertemplate": "duration=%{x}<br>count=%{y}<extra></extra>",
         "legendgroup": "2.98",
         "marker": {
          "color": "rgb(237, 100, 90)",
          "pattern": {
           "shape": ""
          }
         },
         "name": "2.98",
         "offsetgroup": "2.98",
         "orientation": "v",
         "showlegend": true,
         "type": "histogram",
         "x": [
          2.98
         ],
         "xaxis": "x",
         "yaxis": "y"
        },
        {
         "alignmentgroup": "True",
         "bingroup": "x",
         "hovertemplate": "duration=%{x}<br>count=%{y}<extra></extra>",
         "legendgroup": "4.06",
         "marker": {
          "color": "rgb(165, 170, 153)",
          "pattern": {
           "shape": ""
          }
         },
         "name": "4.06",
         "offsetgroup": "4.06",
         "orientation": "v",
         "showlegend": true,
         "type": "histogram",
         "x": [
          4.06
         ],
         "xaxis": "x",
         "yaxis": "y"
        },
        {
         "alignmentgroup": "True",
         "bingroup": "x",
         "hovertemplate": "duration=%{x}<br>count=%{y}<extra></extra>",
         "legendgroup": "1.99",
         "marker": {
          "color": "rgb(229, 134, 6)",
          "pattern": {
           "shape": ""
          }
         },
         "name": "1.99",
         "offsetgroup": "1.99",
         "orientation": "v",
         "showlegend": true,
         "type": "histogram",
         "x": [
          1.99
         ],
         "xaxis": "x",
         "yaxis": "y"
        },
        {
         "alignmentgroup": "True",
         "bingroup": "x",
         "hovertemplate": "duration=%{x}<br>count=%{y}<extra></extra>",
         "legendgroup": "3.62",
         "marker": {
          "color": "rgb(93, 105, 177)",
          "pattern": {
           "shape": ""
          }
         },
         "name": "3.62",
         "offsetgroup": "3.62",
         "orientation": "v",
         "showlegend": true,
         "type": "histogram",
         "x": [
          3.62
         ],
         "xaxis": "x",
         "yaxis": "y"
        },
        {
         "alignmentgroup": "True",
         "bingroup": "x",
         "hovertemplate": "duration=%{x}<br>count=%{y}<extra></extra>",
         "legendgroup": "3.37",
         "marker": {
          "color": "rgb(82, 188, 163)",
          "pattern": {
           "shape": ""
          }
         },
         "name": "3.37",
         "offsetgroup": "3.37",
         "orientation": "v",
         "showlegend": true,
         "type": "histogram",
         "x": [
          3.37
         ],
         "xaxis": "x",
         "yaxis": "y"
        },
        {
         "alignmentgroup": "True",
         "bingroup": "x",
         "hovertemplate": "duration=%{x}<br>count=%{y}<extra></extra>",
         "legendgroup": "3.05",
         "marker": {
          "color": "rgb(153, 201, 69)",
          "pattern": {
           "shape": ""
          }
         },
         "name": "3.05",
         "offsetgroup": "3.05",
         "orientation": "v",
         "showlegend": true,
         "type": "histogram",
         "x": [
          3.05
         ],
         "xaxis": "x",
         "yaxis": "y"
        },
        {
         "alignmentgroup": "True",
         "bingroup": "x",
         "hovertemplate": "duration=%{x}<br>count=%{y}<extra></extra>",
         "legendgroup": "4.3",
         "marker": {
          "color": "rgb(204, 97, 176)",
          "pattern": {
           "shape": ""
          }
         },
         "name": "4.3",
         "offsetgroup": "4.3",
         "orientation": "v",
         "showlegend": true,
         "type": "histogram",
         "x": [
          4.3
         ],
         "xaxis": "x",
         "yaxis": "y"
        },
        {
         "alignmentgroup": "True",
         "bingroup": "x",
         "hovertemplate": "duration=%{x}<br>count=%{y}<extra></extra>",
         "legendgroup": "3.4",
         "marker": {
          "color": "rgb(36, 121, 108)",
          "pattern": {
           "shape": ""
          }
         },
         "name": "3.4",
         "offsetgroup": "3.4",
         "orientation": "v",
         "showlegend": true,
         "type": "histogram",
         "x": [
          3.4
         ],
         "xaxis": "x",
         "yaxis": "y"
        },
        {
         "alignmentgroup": "True",
         "bingroup": "x",
         "hovertemplate": "duration=%{x}<br>count=%{y}<extra></extra>",
         "legendgroup": "3.21",
         "marker": {
          "color": "rgb(218, 165, 27)",
          "pattern": {
           "shape": ""
          }
         },
         "name": "3.21",
         "offsetgroup": "3.21",
         "orientation": "v",
         "showlegend": true,
         "type": "histogram",
         "x": [
          3.21
         ],
         "xaxis": "x",
         "yaxis": "y"
        },
        {
         "alignmentgroup": "True",
         "bingroup": "x",
         "hovertemplate": "duration=%{x}<br>count=%{y}<extra></extra>",
         "legendgroup": "2.95",
         "marker": {
          "color": "rgb(47, 138, 196)",
          "pattern": {
           "shape": ""
          }
         },
         "name": "2.95",
         "offsetgroup": "2.95",
         "orientation": "v",
         "showlegend": true,
         "type": "histogram",
         "x": [
          2.95,
          2.95
         ],
         "xaxis": "x",
         "yaxis": "y"
        },
        {
         "alignmentgroup": "True",
         "bingroup": "x",
         "hovertemplate": "duration=%{x}<br>count=%{y}<extra></extra>",
         "legendgroup": "4.21",
         "marker": {
          "color": "rgb(118, 78, 159)",
          "pattern": {
           "shape": ""
          }
         },
         "name": "4.21",
         "offsetgroup": "4.21",
         "orientation": "v",
         "showlegend": true,
         "type": "histogram",
         "x": [
          4.21
         ],
         "xaxis": "x",
         "yaxis": "y"
        },
        {
         "alignmentgroup": "True",
         "bingroup": "x",
         "hovertemplate": "duration=%{x}<br>count=%{y}<extra></extra>",
         "legendgroup": "4.04",
         "marker": {
          "color": "rgb(237, 100, 90)",
          "pattern": {
           "shape": ""
          }
         },
         "name": "4.04",
         "offsetgroup": "4.04",
         "orientation": "v",
         "showlegend": true,
         "type": "histogram",
         "x": [
          4.04
         ],
         "xaxis": "x",
         "yaxis": "y"
        },
        {
         "alignmentgroup": "True",
         "bingroup": "x",
         "hovertemplate": "duration=%{x}<br>count=%{y}<extra></extra>",
         "legendgroup": "5.21",
         "marker": {
          "color": "rgb(165, 170, 153)",
          "pattern": {
           "shape": ""
          }
         },
         "name": "5.21",
         "offsetgroup": "5.21",
         "orientation": "v",
         "showlegend": true,
         "type": "histogram",
         "x": [
          5.21
         ],
         "xaxis": "x",
         "yaxis": "y"
        },
        {
         "alignmentgroup": "True",
         "bingroup": "x",
         "hovertemplate": "duration=%{x}<br>count=%{y}<extra></extra>",
         "legendgroup": "1.52",
         "marker": {
          "color": "rgb(229, 134, 6)",
          "pattern": {
           "shape": ""
          }
         },
         "name": "1.52",
         "offsetgroup": "1.52",
         "orientation": "v",
         "showlegend": true,
         "type": "histogram",
         "x": [
          1.52
         ],
         "xaxis": "x",
         "yaxis": "y"
        },
        {
         "alignmentgroup": "True",
         "bingroup": "x",
         "hovertemplate": "duration=%{x}<br>count=%{y}<extra></extra>",
         "legendgroup": "2.97",
         "marker": {
          "color": "rgb(93, 105, 177)",
          "pattern": {
           "shape": ""
          }
         },
         "name": "2.97",
         "offsetgroup": "2.97",
         "orientation": "v",
         "showlegend": true,
         "type": "histogram",
         "x": [
          2.97
         ],
         "xaxis": "x",
         "yaxis": "y"
        },
        {
         "alignmentgroup": "True",
         "bingroup": "x",
         "hovertemplate": "duration=%{x}<br>count=%{y}<extra></extra>",
         "legendgroup": "3.1",
         "marker": {
          "color": "rgb(82, 188, 163)",
          "pattern": {
           "shape": ""
          }
         },
         "name": "3.1",
         "offsetgroup": "3.1",
         "orientation": "v",
         "showlegend": true,
         "type": "histogram",
         "x": [
          3.1
         ],
         "xaxis": "x",
         "yaxis": "y"
        },
        {
         "alignmentgroup": "True",
         "bingroup": "x",
         "hovertemplate": "duration=%{x}<br>count=%{y}<extra></extra>",
         "legendgroup": "3.58",
         "marker": {
          "color": "rgb(153, 201, 69)",
          "pattern": {
           "shape": ""
          }
         },
         "name": "3.58",
         "offsetgroup": "3.58",
         "orientation": "v",
         "showlegend": true,
         "type": "histogram",
         "x": [
          3.58
         ],
         "xaxis": "x",
         "yaxis": "y"
        },
        {
         "alignmentgroup": "True",
         "bingroup": "x",
         "hovertemplate": "duration=%{x}<br>count=%{y}<extra></extra>",
         "legendgroup": "3.43",
         "marker": {
          "color": "rgb(204, 97, 176)",
          "pattern": {
           "shape": ""
          }
         },
         "name": "3.43",
         "offsetgroup": "3.43",
         "orientation": "v",
         "showlegend": true,
         "type": "histogram",
         "x": [
          3.43
         ],
         "xaxis": "x",
         "yaxis": "y"
        },
        {
         "alignmentgroup": "True",
         "bingroup": "x",
         "hovertemplate": "duration=%{x}<br>count=%{y}<extra></extra>",
         "legendgroup": "2.94",
         "marker": {
          "color": "rgb(36, 121, 108)",
          "pattern": {
           "shape": ""
          }
         },
         "name": "2.94",
         "offsetgroup": "2.94",
         "orientation": "v",
         "showlegend": true,
         "type": "histogram",
         "x": [
          2.94
         ],
         "xaxis": "x",
         "yaxis": "y"
        },
        {
         "alignmentgroup": "True",
         "bingroup": "x",
         "hovertemplate": "duration=%{x}<br>count=%{y}<extra></extra>",
         "legendgroup": "3.13",
         "marker": {
          "color": "rgb(218, 165, 27)",
          "pattern": {
           "shape": ""
          }
         },
         "name": "3.13",
         "offsetgroup": "3.13",
         "orientation": "v",
         "showlegend": true,
         "type": "histogram",
         "x": [
          3.13
         ],
         "xaxis": "x",
         "yaxis": "y"
        },
        {
         "alignmentgroup": "True",
         "bingroup": "x",
         "hovertemplate": "duration=%{x}<br>count=%{y}<extra></extra>",
         "legendgroup": "3.85",
         "marker": {
          "color": "rgb(47, 138, 196)",
          "pattern": {
           "shape": ""
          }
         },
         "name": "3.85",
         "offsetgroup": "3.85",
         "orientation": "v",
         "showlegend": true,
         "type": "histogram",
         "x": [
          3.85
         ],
         "xaxis": "x",
         "yaxis": "y"
        },
        {
         "alignmentgroup": "True",
         "bingroup": "x",
         "hovertemplate": "duration=%{x}<br>count=%{y}<extra></extra>",
         "legendgroup": "2.88",
         "marker": {
          "color": "rgb(118, 78, 159)",
          "pattern": {
           "shape": ""
          }
         },
         "name": "2.88",
         "offsetgroup": "2.88",
         "orientation": "v",
         "showlegend": true,
         "type": "histogram",
         "x": [
          2.88
         ],
         "xaxis": "x",
         "yaxis": "y"
        },
        {
         "alignmentgroup": "True",
         "bingroup": "x",
         "hovertemplate": "duration=%{x}<br>count=%{y}<extra></extra>",
         "legendgroup": "3.67",
         "marker": {
          "color": "rgb(237, 100, 90)",
          "pattern": {
           "shape": ""
          }
         },
         "name": "3.67",
         "offsetgroup": "3.67",
         "orientation": "v",
         "showlegend": true,
         "type": "histogram",
         "x": [
          3.67,
          3.67
         ],
         "xaxis": "x",
         "yaxis": "y"
        },
        {
         "alignmentgroup": "True",
         "bingroup": "x",
         "hovertemplate": "duration=%{x}<br>count=%{y}<extra></extra>",
         "legendgroup": "3.54",
         "marker": {
          "color": "rgb(165, 170, 153)",
          "pattern": {
           "shape": ""
          }
         },
         "name": "3.54",
         "offsetgroup": "3.54",
         "orientation": "v",
         "showlegend": true,
         "type": "histogram",
         "x": [
          3.54
         ],
         "xaxis": "x",
         "yaxis": "y"
        },
        {
         "alignmentgroup": "True",
         "bingroup": "x",
         "hovertemplate": "duration=%{x}<br>count=%{y}<extra></extra>",
         "legendgroup": "4.84",
         "marker": {
          "color": "rgb(229, 134, 6)",
          "pattern": {
           "shape": ""
          }
         },
         "name": "4.84",
         "offsetgroup": "4.84",
         "orientation": "v",
         "showlegend": true,
         "type": "histogram",
         "x": [
          4.84
         ],
         "xaxis": "x",
         "yaxis": "y"
        },
        {
         "alignmentgroup": "True",
         "bingroup": "x",
         "hovertemplate": "duration=%{x}<br>count=%{y}<extra></extra>",
         "legendgroup": "3.53",
         "marker": {
          "color": "rgb(93, 105, 177)",
          "pattern": {
           "shape": ""
          }
         },
         "name": "3.53",
         "offsetgroup": "3.53",
         "orientation": "v",
         "showlegend": true,
         "type": "histogram",
         "x": [
          3.53,
          3.53
         ],
         "xaxis": "x",
         "yaxis": "y"
        },
        {
         "alignmentgroup": "True",
         "bingroup": "x",
         "hovertemplate": "duration=%{x}<br>count=%{y}<extra></extra>",
         "legendgroup": "5.44",
         "marker": {
          "color": "rgb(82, 188, 163)",
          "pattern": {
           "shape": ""
          }
         },
         "name": "5.44",
         "offsetgroup": "5.44",
         "orientation": "v",
         "showlegend": true,
         "type": "histogram",
         "x": [
          5.44
         ],
         "xaxis": "x",
         "yaxis": "y"
        },
        {
         "alignmentgroup": "True",
         "bingroup": "x",
         "hovertemplate": "duration=%{x}<br>count=%{y}<extra></extra>",
         "legendgroup": "4.15",
         "marker": {
          "color": "rgb(153, 201, 69)",
          "pattern": {
           "shape": ""
          }
         },
         "name": "4.15",
         "offsetgroup": "4.15",
         "orientation": "v",
         "showlegend": true,
         "type": "histogram",
         "x": [
          4.15
         ],
         "xaxis": "x",
         "yaxis": "y"
        },
        {
         "alignmentgroup": "True",
         "bingroup": "x",
         "hovertemplate": "duration=%{x}<br>count=%{y}<extra></extra>",
         "legendgroup": "2.92",
         "marker": {
          "color": "rgb(204, 97, 176)",
          "pattern": {
           "shape": ""
          }
         },
         "name": "2.92",
         "offsetgroup": "2.92",
         "orientation": "v",
         "showlegend": true,
         "type": "histogram",
         "x": [
          2.92
         ],
         "xaxis": "x",
         "yaxis": "y"
        },
        {
         "alignmentgroup": "True",
         "bingroup": "x",
         "hovertemplate": "duration=%{x}<br>count=%{y}<extra></extra>",
         "legendgroup": "3.72",
         "marker": {
          "color": "rgb(36, 121, 108)",
          "pattern": {
           "shape": ""
          }
         },
         "name": "3.72",
         "offsetgroup": "3.72",
         "orientation": "v",
         "showlegend": true,
         "type": "histogram",
         "x": [
          3.72
         ],
         "xaxis": "x",
         "yaxis": "y"
        },
        {
         "alignmentgroup": "True",
         "bingroup": "x",
         "hovertemplate": "duration=%{x}<br>count=%{y}<extra></extra>",
         "legendgroup": "3.35",
         "marker": {
          "color": "rgb(218, 165, 27)",
          "pattern": {
           "shape": ""
          }
         },
         "name": "3.35",
         "offsetgroup": "3.35",
         "orientation": "v",
         "showlegend": true,
         "type": "histogram",
         "x": [
          3.35
         ],
         "xaxis": "x",
         "yaxis": "y"
        },
        {
         "alignmentgroup": "True",
         "bingroup": "x",
         "hovertemplate": "duration=%{x}<br>count=%{y}<extra></extra>",
         "legendgroup": "3.38",
         "marker": {
          "color": "rgb(47, 138, 196)",
          "pattern": {
           "shape": ""
          }
         },
         "name": "3.38",
         "offsetgroup": "3.38",
         "orientation": "v",
         "showlegend": true,
         "type": "histogram",
         "x": [
          3.38,
          3.38
         ],
         "xaxis": "x",
         "yaxis": "y"
        },
        {
         "alignmentgroup": "True",
         "bingroup": "x",
         "hovertemplate": "duration=%{x}<br>count=%{y}<extra></extra>",
         "legendgroup": "3.3",
         "marker": {
          "color": "rgb(118, 78, 159)",
          "pattern": {
           "shape": ""
          }
         },
         "name": "3.3",
         "offsetgroup": "3.3",
         "orientation": "v",
         "showlegend": true,
         "type": "histogram",
         "x": [
          3.3
         ],
         "xaxis": "x",
         "yaxis": "y"
        },
        {
         "alignmentgroup": "True",
         "bingroup": "x",
         "hovertemplate": "duration=%{x}<br>count=%{y}<extra></extra>",
         "legendgroup": "3.46",
         "marker": {
          "color": "rgb(237, 100, 90)",
          "pattern": {
           "shape": ""
          }
         },
         "name": "3.46",
         "offsetgroup": "3.46",
         "orientation": "v",
         "showlegend": true,
         "type": "histogram",
         "x": [
          3.46
         ],
         "xaxis": "x",
         "yaxis": "y"
        },
        {
         "alignmentgroup": "True",
         "bingroup": "x",
         "hovertemplate": "duration=%{x}<br>count=%{y}<extra></extra>",
         "legendgroup": "3.42",
         "marker": {
          "color": "rgb(165, 170, 153)",
          "pattern": {
           "shape": ""
          }
         },
         "name": "3.42",
         "offsetgroup": "3.42",
         "orientation": "v",
         "showlegend": true,
         "type": "histogram",
         "x": [
          3.42
         ],
         "xaxis": "x",
         "yaxis": "y"
        },
        {
         "alignmentgroup": "True",
         "bingroup": "x",
         "hovertemplate": "duration=%{x}<br>count=%{y}<extra></extra>",
         "legendgroup": "2.3",
         "marker": {
          "color": "rgb(229, 134, 6)",
          "pattern": {
           "shape": ""
          }
         },
         "name": "2.3",
         "offsetgroup": "2.3",
         "orientation": "v",
         "showlegend": true,
         "type": "histogram",
         "x": [
          2.3
         ],
         "xaxis": "x",
         "yaxis": "y"
        },
        {
         "alignmentgroup": "True",
         "bingroup": "x",
         "hovertemplate": "duration=%{x}<br>count=%{y}<extra></extra>",
         "legendgroup": "2.16",
         "marker": {
          "color": "rgb(93, 105, 177)",
          "pattern": {
           "shape": ""
          }
         },
         "name": "2.16",
         "offsetgroup": "2.16",
         "orientation": "v",
         "showlegend": true,
         "type": "histogram",
         "x": [
          2.16
         ],
         "xaxis": "x",
         "yaxis": "y"
        },
        {
         "alignmentgroup": "True",
         "bingroup": "x",
         "hovertemplate": "duration=%{x}<br>count=%{y}<extra></extra>",
         "legendgroup": "4.54",
         "marker": {
          "color": "rgb(82, 188, 163)",
          "pattern": {
           "shape": ""
          }
         },
         "name": "4.54",
         "offsetgroup": "4.54",
         "orientation": "v",
         "showlegend": true,
         "type": "histogram",
         "x": [
          4.54
         ],
         "xaxis": "x",
         "yaxis": "y"
        },
        {
         "alignmentgroup": "True",
         "bingroup": "x",
         "hovertemplate": "duration=%{x}<br>count=%{y}<extra></extra>",
         "legendgroup": "3.81",
         "marker": {
          "color": "rgb(153, 201, 69)",
          "pattern": {
           "shape": ""
          }
         },
         "name": "3.81",
         "offsetgroup": "3.81",
         "orientation": "v",
         "showlegend": true,
         "type": "histogram",
         "x": [
          3.81
         ],
         "xaxis": "x",
         "yaxis": "y"
        },
        {
         "alignmentgroup": "True",
         "bingroup": "x",
         "hovertemplate": "duration=%{x}<br>count=%{y}<extra></extra>",
         "legendgroup": "2.25",
         "marker": {
          "color": "rgb(204, 97, 176)",
          "pattern": {
           "shape": ""
          }
         },
         "name": "2.25",
         "offsetgroup": "2.25",
         "orientation": "v",
         "showlegend": true,
         "type": "histogram",
         "x": [
          2.25
         ],
         "xaxis": "x",
         "yaxis": "y"
        },
        {
         "alignmentgroup": "True",
         "bingroup": "x",
         "hovertemplate": "duration=%{x}<br>count=%{y}<extra></extra>",
         "legendgroup": "4.31",
         "marker": {
          "color": "rgb(36, 121, 108)",
          "pattern": {
           "shape": ""
          }
         },
         "name": "4.31",
         "offsetgroup": "4.31",
         "orientation": "v",
         "showlegend": true,
         "type": "histogram",
         "x": [
          4.31
         ],
         "xaxis": "x",
         "yaxis": "y"
        },
        {
         "alignmentgroup": "True",
         "bingroup": "x",
         "hovertemplate": "duration=%{x}<br>count=%{y}<extra></extra>",
         "legendgroup": "3.44",
         "marker": {
          "color": "rgb(218, 165, 27)",
          "pattern": {
           "shape": ""
          }
         },
         "name": "3.44",
         "offsetgroup": "3.44",
         "orientation": "v",
         "showlegend": true,
         "type": "histogram",
         "x": [
          3.44
         ],
         "xaxis": "x",
         "yaxis": "y"
        },
        {
         "alignmentgroup": "True",
         "bingroup": "x",
         "hovertemplate": "duration=%{x}<br>count=%{y}<extra></extra>",
         "legendgroup": "3.28",
         "marker": {
          "color": "rgb(47, 138, 196)",
          "pattern": {
           "shape": ""
          }
         },
         "name": "3.28",
         "offsetgroup": "3.28",
         "orientation": "v",
         "showlegend": true,
         "type": "histogram",
         "x": [
          3.28
         ],
         "xaxis": "x",
         "yaxis": "y"
        },
        {
         "alignmentgroup": "True",
         "bingroup": "x",
         "hovertemplate": "duration=%{x}<br>count=%{y}<extra></extra>",
         "legendgroup": "4.96",
         "marker": {
          "color": "rgb(118, 78, 159)",
          "pattern": {
           "shape": ""
          }
         },
         "name": "4.96",
         "offsetgroup": "4.96",
         "orientation": "v",
         "showlegend": true,
         "type": "histogram",
         "x": [
          4.96
         ],
         "xaxis": "x",
         "yaxis": "y"
        },
        {
         "alignmentgroup": "True",
         "bingroup": "x",
         "hovertemplate": "duration=%{x}<br>count=%{y}<extra></extra>",
         "legendgroup": "3.45",
         "marker": {
          "color": "rgb(237, 100, 90)",
          "pattern": {
           "shape": ""
          }
         },
         "name": "3.45",
         "offsetgroup": "3.45",
         "orientation": "v",
         "showlegend": true,
         "type": "histogram",
         "x": [
          3.45
         ],
         "xaxis": "x",
         "yaxis": "y"
        },
        {
         "alignmentgroup": "True",
         "bingroup": "x",
         "hovertemplate": "duration=%{x}<br>count=%{y}<extra></extra>",
         "legendgroup": "5.03",
         "marker": {
          "color": "rgb(165, 170, 153)",
          "pattern": {
           "shape": ""
          }
         },
         "name": "5.03",
         "offsetgroup": "5.03",
         "orientation": "v",
         "showlegend": true,
         "type": "histogram",
         "x": [
          5.03
         ],
         "xaxis": "x",
         "yaxis": "y"
        },
        {
         "alignmentgroup": "True",
         "bingroup": "x",
         "hovertemplate": "duration=%{x}<br>count=%{y}<extra></extra>",
         "legendgroup": "3.01",
         "marker": {
          "color": "rgb(229, 134, 6)",
          "pattern": {
           "shape": ""
          }
         },
         "name": "3.01",
         "offsetgroup": "3.01",
         "orientation": "v",
         "showlegend": true,
         "type": "histogram",
         "x": [
          3.01
         ],
         "xaxis": "x",
         "yaxis": "y"
        },
        {
         "alignmentgroup": "True",
         "bingroup": "x",
         "hovertemplate": "duration=%{x}<br>count=%{y}<extra></extra>",
         "legendgroup": "2.93",
         "marker": {
          "color": "rgb(93, 105, 177)",
          "pattern": {
           "shape": ""
          }
         },
         "name": "2.93",
         "offsetgroup": "2.93",
         "orientation": "v",
         "showlegend": true,
         "type": "histogram",
         "x": [
          2.93
         ],
         "xaxis": "x",
         "yaxis": "y"
        },
        {
         "alignmentgroup": "True",
         "bingroup": "x",
         "hovertemplate": "duration=%{x}<br>count=%{y}<extra></extra>",
         "legendgroup": "3.29",
         "marker": {
          "color": "rgb(82, 188, 163)",
          "pattern": {
           "shape": ""
          }
         },
         "name": "3.29",
         "offsetgroup": "3.29",
         "orientation": "v",
         "showlegend": true,
         "type": "histogram",
         "x": [
          3.29
         ],
         "xaxis": "x",
         "yaxis": "y"
        },
        {
         "alignmentgroup": "True",
         "bingroup": "x",
         "hovertemplate": "duration=%{x}<br>count=%{y}<extra></extra>",
         "legendgroup": "3.96",
         "marker": {
          "color": "rgb(153, 201, 69)",
          "pattern": {
           "shape": ""
          }
         },
         "name": "3.96",
         "offsetgroup": "3.96",
         "orientation": "v",
         "showlegend": true,
         "type": "histogram",
         "x": [
          3.96
         ],
         "xaxis": "x",
         "yaxis": "y"
        },
        {
         "alignmentgroup": "True",
         "bingroup": "x",
         "hovertemplate": "duration=%{x}<br>count=%{y}<extra></extra>",
         "legendgroup": "4.45",
         "marker": {
          "color": "rgb(204, 97, 176)",
          "pattern": {
           "shape": ""
          }
         },
         "name": "4.45",
         "offsetgroup": "4.45",
         "orientation": "v",
         "showlegend": true,
         "type": "histogram",
         "x": [
          4.45
         ],
         "xaxis": "x",
         "yaxis": "y"
        },
        {
         "alignmentgroup": "True",
         "bingroup": "x",
         "hovertemplate": "duration=%{x}<br>count=%{y}<extra></extra>",
         "legendgroup": "3.82",
         "marker": {
          "color": "rgb(36, 121, 108)",
          "pattern": {
           "shape": ""
          }
         },
         "name": "3.82",
         "offsetgroup": "3.82",
         "orientation": "v",
         "showlegend": true,
         "type": "histogram",
         "x": [
          3.82
         ],
         "xaxis": "x",
         "yaxis": "y"
        },
        {
         "alignmentgroup": "True",
         "bingroup": "x",
         "hovertemplate": "duration=%{x}<br>count=%{y}<extra></extra>",
         "legendgroup": "7.05",
         "marker": {
          "color": "rgb(218, 165, 27)",
          "pattern": {
           "shape": ""
          }
         },
         "name": "7.05",
         "offsetgroup": "7.05",
         "orientation": "v",
         "showlegend": true,
         "type": "histogram",
         "x": [
          7.05
         ],
         "xaxis": "x",
         "yaxis": "y"
        }
       ],
       "layout": {
        "barmode": "relative",
        "height": 500,
        "legend": {
         "title": {
          "text": "duration"
         },
         "tracegroupgap": 0
        },
        "template": {
         "data": {
          "bar": [
           {
            "error_x": {
             "color": "#f2f5fa"
            },
            "error_y": {
             "color": "#f2f5fa"
            },
            "marker": {
             "line": {
              "color": "rgb(17,17,17)",
              "width": 0.5
             },
             "pattern": {
              "fillmode": "overlay",
              "size": 10,
              "solidity": 0.2
             }
            },
            "type": "bar"
           }
          ],
          "barpolar": [
           {
            "marker": {
             "line": {
              "color": "rgb(17,17,17)",
              "width": 0.5
             },
             "pattern": {
              "fillmode": "overlay",
              "size": 10,
              "solidity": 0.2
             }
            },
            "type": "barpolar"
           }
          ],
          "carpet": [
           {
            "aaxis": {
             "endlinecolor": "#A2B1C6",
             "gridcolor": "#506784",
             "linecolor": "#506784",
             "minorgridcolor": "#506784",
             "startlinecolor": "#A2B1C6"
            },
            "baxis": {
             "endlinecolor": "#A2B1C6",
             "gridcolor": "#506784",
             "linecolor": "#506784",
             "minorgridcolor": "#506784",
             "startlinecolor": "#A2B1C6"
            },
            "type": "carpet"
           }
          ],
          "choropleth": [
           {
            "colorbar": {
             "outlinewidth": 0,
             "ticks": ""
            },
            "type": "choropleth"
           }
          ],
          "contour": [
           {
            "colorbar": {
             "outlinewidth": 0,
             "ticks": ""
            },
            "colorscale": [
             [
              0,
              "#0d0887"
             ],
             [
              0.1111111111111111,
              "#46039f"
             ],
             [
              0.2222222222222222,
              "#7201a8"
             ],
             [
              0.3333333333333333,
              "#9c179e"
             ],
             [
              0.4444444444444444,
              "#bd3786"
             ],
             [
              0.5555555555555556,
              "#d8576b"
             ],
             [
              0.6666666666666666,
              "#ed7953"
             ],
             [
              0.7777777777777778,
              "#fb9f3a"
             ],
             [
              0.8888888888888888,
              "#fdca26"
             ],
             [
              1,
              "#f0f921"
             ]
            ],
            "type": "contour"
           }
          ],
          "contourcarpet": [
           {
            "colorbar": {
             "outlinewidth": 0,
             "ticks": ""
            },
            "type": "contourcarpet"
           }
          ],
          "heatmap": [
           {
            "colorbar": {
             "outlinewidth": 0,
             "ticks": ""
            },
            "colorscale": [
             [
              0,
              "#0d0887"
             ],
             [
              0.1111111111111111,
              "#46039f"
             ],
             [
              0.2222222222222222,
              "#7201a8"
             ],
             [
              0.3333333333333333,
              "#9c179e"
             ],
             [
              0.4444444444444444,
              "#bd3786"
             ],
             [
              0.5555555555555556,
              "#d8576b"
             ],
             [
              0.6666666666666666,
              "#ed7953"
             ],
             [
              0.7777777777777778,
              "#fb9f3a"
             ],
             [
              0.8888888888888888,
              "#fdca26"
             ],
             [
              1,
              "#f0f921"
             ]
            ],
            "type": "heatmap"
           }
          ],
          "heatmapgl": [
           {
            "colorbar": {
             "outlinewidth": 0,
             "ticks": ""
            },
            "colorscale": [
             [
              0,
              "#0d0887"
             ],
             [
              0.1111111111111111,
              "#46039f"
             ],
             [
              0.2222222222222222,
              "#7201a8"
             ],
             [
              0.3333333333333333,
              "#9c179e"
             ],
             [
              0.4444444444444444,
              "#bd3786"
             ],
             [
              0.5555555555555556,
              "#d8576b"
             ],
             [
              0.6666666666666666,
              "#ed7953"
             ],
             [
              0.7777777777777778,
              "#fb9f3a"
             ],
             [
              0.8888888888888888,
              "#fdca26"
             ],
             [
              1,
              "#f0f921"
             ]
            ],
            "type": "heatmapgl"
           }
          ],
          "histogram": [
           {
            "marker": {
             "pattern": {
              "fillmode": "overlay",
              "size": 10,
              "solidity": 0.2
             }
            },
            "type": "histogram"
           }
          ],
          "histogram2d": [
           {
            "colorbar": {
             "outlinewidth": 0,
             "ticks": ""
            },
            "colorscale": [
             [
              0,
              "#0d0887"
             ],
             [
              0.1111111111111111,
              "#46039f"
             ],
             [
              0.2222222222222222,
              "#7201a8"
             ],
             [
              0.3333333333333333,
              "#9c179e"
             ],
             [
              0.4444444444444444,
              "#bd3786"
             ],
             [
              0.5555555555555556,
              "#d8576b"
             ],
             [
              0.6666666666666666,
              "#ed7953"
             ],
             [
              0.7777777777777778,
              "#fb9f3a"
             ],
             [
              0.8888888888888888,
              "#fdca26"
             ],
             [
              1,
              "#f0f921"
             ]
            ],
            "type": "histogram2d"
           }
          ],
          "histogram2dcontour": [
           {
            "colorbar": {
             "outlinewidth": 0,
             "ticks": ""
            },
            "colorscale": [
             [
              0,
              "#0d0887"
             ],
             [
              0.1111111111111111,
              "#46039f"
             ],
             [
              0.2222222222222222,
              "#7201a8"
             ],
             [
              0.3333333333333333,
              "#9c179e"
             ],
             [
              0.4444444444444444,
              "#bd3786"
             ],
             [
              0.5555555555555556,
              "#d8576b"
             ],
             [
              0.6666666666666666,
              "#ed7953"
             ],
             [
              0.7777777777777778,
              "#fb9f3a"
             ],
             [
              0.8888888888888888,
              "#fdca26"
             ],
             [
              1,
              "#f0f921"
             ]
            ],
            "type": "histogram2dcontour"
           }
          ],
          "mesh3d": [
           {
            "colorbar": {
             "outlinewidth": 0,
             "ticks": ""
            },
            "type": "mesh3d"
           }
          ],
          "parcoords": [
           {
            "line": {
             "colorbar": {
              "outlinewidth": 0,
              "ticks": ""
             }
            },
            "type": "parcoords"
           }
          ],
          "pie": [
           {
            "automargin": true,
            "type": "pie"
           }
          ],
          "scatter": [
           {
            "marker": {
             "line": {
              "color": "#283442"
             }
            },
            "type": "scatter"
           }
          ],
          "scatter3d": [
           {
            "line": {
             "colorbar": {
              "outlinewidth": 0,
              "ticks": ""
             }
            },
            "marker": {
             "colorbar": {
              "outlinewidth": 0,
              "ticks": ""
             }
            },
            "type": "scatter3d"
           }
          ],
          "scattercarpet": [
           {
            "marker": {
             "colorbar": {
              "outlinewidth": 0,
              "ticks": ""
             }
            },
            "type": "scattercarpet"
           }
          ],
          "scattergeo": [
           {
            "marker": {
             "colorbar": {
              "outlinewidth": 0,
              "ticks": ""
             }
            },
            "type": "scattergeo"
           }
          ],
          "scattergl": [
           {
            "marker": {
             "line": {
              "color": "#283442"
             }
            },
            "type": "scattergl"
           }
          ],
          "scattermapbox": [
           {
            "marker": {
             "colorbar": {
              "outlinewidth": 0,
              "ticks": ""
             }
            },
            "type": "scattermapbox"
           }
          ],
          "scatterpolar": [
           {
            "marker": {
             "colorbar": {
              "outlinewidth": 0,
              "ticks": ""
             }
            },
            "type": "scatterpolar"
           }
          ],
          "scatterpolargl": [
           {
            "marker": {
             "colorbar": {
              "outlinewidth": 0,
              "ticks": ""
             }
            },
            "type": "scatterpolargl"
           }
          ],
          "scatterternary": [
           {
            "marker": {
             "colorbar": {
              "outlinewidth": 0,
              "ticks": ""
             }
            },
            "type": "scatterternary"
           }
          ],
          "surface": [
           {
            "colorbar": {
             "outlinewidth": 0,
             "ticks": ""
            },
            "colorscale": [
             [
              0,
              "#0d0887"
             ],
             [
              0.1111111111111111,
              "#46039f"
             ],
             [
              0.2222222222222222,
              "#7201a8"
             ],
             [
              0.3333333333333333,
              "#9c179e"
             ],
             [
              0.4444444444444444,
              "#bd3786"
             ],
             [
              0.5555555555555556,
              "#d8576b"
             ],
             [
              0.6666666666666666,
              "#ed7953"
             ],
             [
              0.7777777777777778,
              "#fb9f3a"
             ],
             [
              0.8888888888888888,
              "#fdca26"
             ],
             [
              1,
              "#f0f921"
             ]
            ],
            "type": "surface"
           }
          ],
          "table": [
           {
            "cells": {
             "fill": {
              "color": "#506784"
             },
             "line": {
              "color": "rgb(17,17,17)"
             }
            },
            "header": {
             "fill": {
              "color": "#2a3f5f"
             },
             "line": {
              "color": "rgb(17,17,17)"
             }
            },
            "type": "table"
           }
          ]
         },
         "layout": {
          "annotationdefaults": {
           "arrowcolor": "#f2f5fa",
           "arrowhead": 0,
           "arrowwidth": 1
          },
          "autotypenumbers": "strict",
          "coloraxis": {
           "colorbar": {
            "outlinewidth": 0,
            "ticks": ""
           }
          },
          "colorscale": {
           "diverging": [
            [
             0,
             "#8e0152"
            ],
            [
             0.1,
             "#c51b7d"
            ],
            [
             0.2,
             "#de77ae"
            ],
            [
             0.3,
             "#f1b6da"
            ],
            [
             0.4,
             "#fde0ef"
            ],
            [
             0.5,
             "#f7f7f7"
            ],
            [
             0.6,
             "#e6f5d0"
            ],
            [
             0.7,
             "#b8e186"
            ],
            [
             0.8,
             "#7fbc41"
            ],
            [
             0.9,
             "#4d9221"
            ],
            [
             1,
             "#276419"
            ]
           ],
           "sequential": [
            [
             0,
             "#0d0887"
            ],
            [
             0.1111111111111111,
             "#46039f"
            ],
            [
             0.2222222222222222,
             "#7201a8"
            ],
            [
             0.3333333333333333,
             "#9c179e"
            ],
            [
             0.4444444444444444,
             "#bd3786"
            ],
            [
             0.5555555555555556,
             "#d8576b"
            ],
            [
             0.6666666666666666,
             "#ed7953"
            ],
            [
             0.7777777777777778,
             "#fb9f3a"
            ],
            [
             0.8888888888888888,
             "#fdca26"
            ],
            [
             1,
             "#f0f921"
            ]
           ],
           "sequentialminus": [
            [
             0,
             "#0d0887"
            ],
            [
             0.1111111111111111,
             "#46039f"
            ],
            [
             0.2222222222222222,
             "#7201a8"
            ],
            [
             0.3333333333333333,
             "#9c179e"
            ],
            [
             0.4444444444444444,
             "#bd3786"
            ],
            [
             0.5555555555555556,
             "#d8576b"
            ],
            [
             0.6666666666666666,
             "#ed7953"
            ],
            [
             0.7777777777777778,
             "#fb9f3a"
            ],
            [
             0.8888888888888888,
             "#fdca26"
            ],
            [
             1,
             "#f0f921"
            ]
           ]
          },
          "colorway": [
           "#636efa",
           "#EF553B",
           "#00cc96",
           "#ab63fa",
           "#FFA15A",
           "#19d3f3",
           "#FF6692",
           "#B6E880",
           "#FF97FF",
           "#FECB52"
          ],
          "font": {
           "color": "#f2f5fa"
          },
          "geo": {
           "bgcolor": "rgb(17,17,17)",
           "lakecolor": "rgb(17,17,17)",
           "landcolor": "rgb(17,17,17)",
           "showlakes": true,
           "showland": true,
           "subunitcolor": "#506784"
          },
          "hoverlabel": {
           "align": "left"
          },
          "hovermode": "closest",
          "mapbox": {
           "style": "dark"
          },
          "paper_bgcolor": "rgb(17,17,17)",
          "plot_bgcolor": "rgb(17,17,17)",
          "polar": {
           "angularaxis": {
            "gridcolor": "#506784",
            "linecolor": "#506784",
            "ticks": ""
           },
           "bgcolor": "rgb(17,17,17)",
           "radialaxis": {
            "gridcolor": "#506784",
            "linecolor": "#506784",
            "ticks": ""
           }
          },
          "scene": {
           "xaxis": {
            "backgroundcolor": "rgb(17,17,17)",
            "gridcolor": "#506784",
            "gridwidth": 2,
            "linecolor": "#506784",
            "showbackground": true,
            "ticks": "",
            "zerolinecolor": "#C8D4E3"
           },
           "yaxis": {
            "backgroundcolor": "rgb(17,17,17)",
            "gridcolor": "#506784",
            "gridwidth": 2,
            "linecolor": "#506784",
            "showbackground": true,
            "ticks": "",
            "zerolinecolor": "#C8D4E3"
           },
           "zaxis": {
            "backgroundcolor": "rgb(17,17,17)",
            "gridcolor": "#506784",
            "gridwidth": 2,
            "linecolor": "#506784",
            "showbackground": true,
            "ticks": "",
            "zerolinecolor": "#C8D4E3"
           }
          },
          "shapedefaults": {
           "line": {
            "color": "#f2f5fa"
           }
          },
          "sliderdefaults": {
           "bgcolor": "#C8D4E3",
           "bordercolor": "rgb(17,17,17)",
           "borderwidth": 1,
           "tickwidth": 0
          },
          "ternary": {
           "aaxis": {
            "gridcolor": "#506784",
            "linecolor": "#506784",
            "ticks": ""
           },
           "baxis": {
            "gridcolor": "#506784",
            "linecolor": "#506784",
            "ticks": ""
           },
           "bgcolor": "rgb(17,17,17)",
           "caxis": {
            "gridcolor": "#506784",
            "linecolor": "#506784",
            "ticks": ""
           }
          },
          "title": {
           "x": 0.05
          },
          "updatemenudefaults": {
           "bgcolor": "#506784",
           "borderwidth": 0
          },
          "xaxis": {
           "automargin": true,
           "gridcolor": "#283442",
           "linecolor": "#506784",
           "ticks": "",
           "title": {
            "standoff": 15
           },
           "zerolinecolor": "#283442",
           "zerolinewidth": 2
          },
          "yaxis": {
           "automargin": true,
           "gridcolor": "#283442",
           "linecolor": "#506784",
           "ticks": "",
           "title": {
            "standoff": 15
           },
           "zerolinecolor": "#283442",
           "zerolinewidth": 2
          }
         }
        },
        "title": {
         "font": {
          "size": 20
         },
         "text": "<b>Count vs Duration"
        },
        "width": 800,
        "xaxis": {
         "anchor": "y",
         "categoryarray": [
          3.33,
          3.9,
          3.49,
          3.04,
          3.64,
          2.63,
          2.9,
          4.08,
          4.01,
          3.41,
          3.18,
          2.96,
          3.98,
          3.52,
          3.84,
          3.23,
          4.69,
          4,
          3.02,
          3.34,
          3.32,
          4.32,
          5.91,
          4.12,
          3.6,
          2.79,
          3.59,
          2.78,
          4.03,
          4.49,
          4.88,
          2.98,
          4.06,
          1.99,
          3.62,
          3.37,
          3.05,
          4.3,
          3.4,
          3.21,
          2.95,
          4.21,
          4.04,
          5.21,
          1.52,
          2.97,
          3.1,
          3.58,
          3.43,
          2.94,
          3.13,
          3.85,
          2.88,
          3.67,
          3.54,
          4.84,
          3.53,
          5.44,
          4.15,
          2.92,
          3.72,
          3.35,
          3.38,
          3.3,
          3.46,
          3.42,
          2.3,
          2.16,
          4.54,
          3.81,
          2.25,
          4.31,
          3.44,
          3.28,
          4.96,
          3.45,
          5.03,
          3.01,
          2.93,
          3.29,
          3.96,
          4.45,
          3.82,
          7.05
         ],
         "categoryorder": "array",
         "domain": [
          0,
          1
         ],
         "title": {
          "text": "duration"
         }
        },
        "yaxis": {
         "anchor": "x",
         "domain": [
          0,
          1
         ],
         "title": {
          "text": "count"
         }
        }
       }
      }
     },
     "metadata": {},
     "output_type": "display_data"
    }
   ],
   "source": [
    "Features_copy = Features.copy()\n",
    "Features_copy['duration'] = \\\n",
    "    Features_copy['duration'].fillna('Null')\n",
    "\n",
    "fig=px.histogram(Features_copy,\n",
    "                 x = 'duration',\n",
    "                 color = 'duration',\n",
    "                 title=\"<b>Count vs Duration\",\n",
    "                 color_discrete_sequence=px.colors.qualitative.Vivid,\n",
    "                 width=800, height=500)\n",
    "fig.update_layout(template=\"plotly_dark\")\n",
    "fig.update_layout(title_font_size=20)\n",
    "fig.show()"
   ]
  },
  {
   "cell_type": "code",
   "execution_count": 7,
   "metadata": {},
   "outputs": [
    {
     "data": {
      "application/vnd.plotly.v1+json": {
       "config": {
        "plotlyServerURL": "https://plot.ly"
       },
       "data": [
        {
         "alignmentgroup": "True",
         "bingroup": "x",
         "hovertemplate": "energy=%{x}<br>count=%{y}<extra></extra>",
         "legendgroup": "0.73",
         "marker": {
          "color": "rgb(229, 134, 6)",
          "pattern": {
           "shape": ""
          }
         },
         "name": "0.73",
         "offsetgroup": "0.73",
         "orientation": "v",
         "showlegend": true,
         "type": "histogram",
         "x": [
          0.73,
          0.73
         ],
         "xaxis": "x",
         "yaxis": "y"
        },
        {
         "alignmentgroup": "True",
         "bingroup": "x",
         "hovertemplate": "energy=%{x}<br>count=%{y}<extra></extra>",
         "legendgroup": "0.652",
         "marker": {
          "color": "rgb(93, 105, 177)",
          "pattern": {
           "shape": ""
          }
         },
         "name": "0.652",
         "offsetgroup": "0.652",
         "orientation": "v",
         "showlegend": true,
         "type": "histogram",
         "x": [
          0.652
         ],
         "xaxis": "x",
         "yaxis": "y"
        },
        {
         "alignmentgroup": "True",
         "bingroup": "x",
         "hovertemplate": "energy=%{x}<br>count=%{y}<extra></extra>",
         "legendgroup": "0.588",
         "marker": {
          "color": "rgb(82, 188, 163)",
          "pattern": {
           "shape": ""
          }
         },
         "name": "0.588",
         "offsetgroup": "0.588",
         "orientation": "v",
         "showlegend": true,
         "type": "histogram",
         "x": [
          0.588
         ],
         "xaxis": "x",
         "yaxis": "y"
        },
        {
         "alignmentgroup": "True",
         "bingroup": "x",
         "hovertemplate": "energy=%{x}<br>count=%{y}<extra></extra>",
         "legendgroup": "0.405",
         "marker": {
          "color": "rgb(153, 201, 69)",
          "pattern": {
           "shape": ""
          }
         },
         "name": "0.405",
         "offsetgroup": "0.405",
         "orientation": "v",
         "showlegend": true,
         "type": "histogram",
         "x": [
          0.405
         ],
         "xaxis": "x",
         "yaxis": "y"
        },
        {
         "alignmentgroup": "True",
         "bingroup": "x",
         "hovertemplate": "energy=%{x}<br>count=%{y}<extra></extra>",
         "legendgroup": "0.52",
         "marker": {
          "color": "rgb(204, 97, 176)",
          "pattern": {
           "shape": ""
          }
         },
         "name": "0.52",
         "offsetgroup": "0.52",
         "orientation": "v",
         "showlegend": true,
         "type": "histogram",
         "x": [
          0.52
         ],
         "xaxis": "x",
         "yaxis": "y"
        },
        {
         "alignmentgroup": "True",
         "bingroup": "x",
         "hovertemplate": "energy=%{x}<br>count=%{y}<extra></extra>",
         "legendgroup": "0.479",
         "marker": {
          "color": "rgb(36, 121, 108)",
          "pattern": {
           "shape": ""
          }
         },
         "name": "0.479",
         "offsetgroup": "0.479",
         "orientation": "v",
         "showlegend": true,
         "type": "histogram",
         "x": [
          0.479
         ],
         "xaxis": "x",
         "yaxis": "y"
        },
        {
         "alignmentgroup": "True",
         "bingroup": "x",
         "hovertemplate": "energy=%{x}<br>count=%{y}<extra></extra>",
         "legendgroup": "0.625",
         "marker": {
          "color": "rgb(218, 165, 27)",
          "pattern": {
           "shape": ""
          }
         },
         "name": "0.625",
         "offsetgroup": "0.625",
         "orientation": "v",
         "showlegend": true,
         "type": "histogram",
         "x": [
          0.625
         ],
         "xaxis": "x",
         "yaxis": "y"
        },
        {
         "alignmentgroup": "True",
         "bingroup": "x",
         "hovertemplate": "energy=%{x}<br>count=%{y}<extra></extra>",
         "legendgroup": "0.524",
         "marker": {
          "color": "rgb(47, 138, 196)",
          "pattern": {
           "shape": ""
          }
         },
         "name": "0.524",
         "offsetgroup": "0.524",
         "orientation": "v",
         "showlegend": true,
         "type": "histogram",
         "x": [
          0.524
         ],
         "xaxis": "x",
         "yaxis": "y"
        },
        {
         "alignmentgroup": "True",
         "bingroup": "x",
         "hovertemplate": "energy=%{x}<br>count=%{y}<extra></extra>",
         "legendgroup": "0.31",
         "marker": {
          "color": "rgb(118, 78, 159)",
          "pattern": {
           "shape": ""
          }
         },
         "name": "0.31",
         "offsetgroup": "0.31",
         "orientation": "v",
         "showlegend": true,
         "type": "histogram",
         "x": [
          0.31
         ],
         "xaxis": "x",
         "yaxis": "y"
        },
        {
         "alignmentgroup": "True",
         "bingroup": "x",
         "hovertemplate": "energy=%{x}<br>count=%{y}<extra></extra>",
         "legendgroup": "0.78",
         "marker": {
          "color": "rgb(237, 100, 90)",
          "pattern": {
           "shape": ""
          }
         },
         "name": "0.78",
         "offsetgroup": "0.78",
         "orientation": "v",
         "showlegend": true,
         "type": "histogram",
         "x": [
          0.78
         ],
         "xaxis": "x",
         "yaxis": "y"
        },
        {
         "alignmentgroup": "True",
         "bingroup": "x",
         "hovertemplate": "energy=%{x}<br>count=%{y}<extra></extra>",
         "legendgroup": "0.548",
         "marker": {
          "color": "rgb(165, 170, 153)",
          "pattern": {
           "shape": ""
          }
         },
         "name": "0.548",
         "offsetgroup": "0.548",
         "orientation": "v",
         "showlegend": true,
         "type": "histogram",
         "x": [
          0.548
         ],
         "xaxis": "x",
         "yaxis": "y"
        },
        {
         "alignmentgroup": "True",
         "bingroup": "x",
         "hovertemplate": "energy=%{x}<br>count=%{y}<extra></extra>",
         "legendgroup": "0.663",
         "marker": {
          "color": "rgb(229, 134, 6)",
          "pattern": {
           "shape": ""
          }
         },
         "name": "0.663",
         "offsetgroup": "0.663",
         "orientation": "v",
         "showlegend": true,
         "type": "histogram",
         "x": [
          0.663
         ],
         "xaxis": "x",
         "yaxis": "y"
        },
        {
         "alignmentgroup": "True",
         "bingroup": "x",
         "hovertemplate": "energy=%{x}<br>count=%{y}<extra></extra>",
         "legendgroup": "0.525",
         "marker": {
          "color": "rgb(93, 105, 177)",
          "pattern": {
           "shape": ""
          }
         },
         "name": "0.525",
         "offsetgroup": "0.525",
         "orientation": "v",
         "showlegend": true,
         "type": "histogram",
         "x": [
          0.525
         ],
         "xaxis": "x",
         "yaxis": "y"
        },
        {
         "alignmentgroup": "True",
         "bingroup": "x",
         "hovertemplate": "energy=%{x}<br>count=%{y}<extra></extra>",
         "legendgroup": "0.557",
         "marker": {
          "color": "rgb(82, 188, 163)",
          "pattern": {
           "shape": ""
          }
         },
         "name": "0.557",
         "offsetgroup": "0.557",
         "orientation": "v",
         "showlegend": true,
         "type": "histogram",
         "x": [
          0.557
         ],
         "xaxis": "x",
         "yaxis": "y"
        },
        {
         "alignmentgroup": "True",
         "bingroup": "x",
         "hovertemplate": "energy=%{x}<br>count=%{y}<extra></extra>",
         "legendgroup": "0.587",
         "marker": {
          "color": "rgb(153, 201, 69)",
          "pattern": {
           "shape": ""
          }
         },
         "name": "0.587",
         "offsetgroup": "0.587",
         "orientation": "v",
         "showlegend": true,
         "type": "histogram",
         "x": [
          0.587
         ],
         "xaxis": "x",
         "yaxis": "y"
        },
        {
         "alignmentgroup": "True",
         "bingroup": "x",
         "hovertemplate": "energy=%{x}<br>count=%{y}<extra></extra>",
         "legendgroup": "0.425",
         "marker": {
          "color": "rgb(204, 97, 176)",
          "pattern": {
           "shape": ""
          }
         },
         "name": "0.425",
         "offsetgroup": "0.425",
         "orientation": "v",
         "showlegend": true,
         "type": "histogram",
         "x": [
          0.425
         ],
         "xaxis": "x",
         "yaxis": "y"
        },
        {
         "alignmentgroup": "True",
         "bingroup": "x",
         "hovertemplate": "energy=%{x}<br>count=%{y}<extra></extra>",
         "legendgroup": "0.445",
         "marker": {
          "color": "rgb(36, 121, 108)",
          "pattern": {
           "shape": ""
          }
         },
         "name": "0.445",
         "offsetgroup": "0.445",
         "orientation": "v",
         "showlegend": true,
         "type": "histogram",
         "x": [
          0.445
         ],
         "xaxis": "x",
         "yaxis": "y"
        },
        {
         "alignmentgroup": "True",
         "bingroup": "x",
         "hovertemplate": "energy=%{x}<br>count=%{y}<extra></extra>",
         "legendgroup": "0.566",
         "marker": {
          "color": "rgb(218, 165, 27)",
          "pattern": {
           "shape": ""
          }
         },
         "name": "0.566",
         "offsetgroup": "0.566",
         "orientation": "v",
         "showlegend": true,
         "type": "histogram",
         "x": [
          0.566
         ],
         "xaxis": "x",
         "yaxis": "y"
        },
        {
         "alignmentgroup": "True",
         "bingroup": "x",
         "hovertemplate": "energy=%{x}<br>count=%{y}<extra></extra>",
         "legendgroup": "0.185",
         "marker": {
          "color": "rgb(47, 138, 196)",
          "pattern": {
           "shape": ""
          }
         },
         "name": "0.185",
         "offsetgroup": "0.185",
         "orientation": "v",
         "showlegend": true,
         "type": "histogram",
         "x": [
          0.185
         ],
         "xaxis": "x",
         "yaxis": "y"
        },
        {
         "alignmentgroup": "True",
         "bingroup": "x",
         "hovertemplate": "energy=%{x}<br>count=%{y}<extra></extra>",
         "legendgroup": "0.296",
         "marker": {
          "color": "rgb(118, 78, 159)",
          "pattern": {
           "shape": ""
          }
         },
         "name": "0.296",
         "offsetgroup": "0.296",
         "orientation": "v",
         "showlegend": true,
         "type": "histogram",
         "x": [
          0.296
         ],
         "xaxis": "x",
         "yaxis": "y"
        },
        {
         "alignmentgroup": "True",
         "bingroup": "x",
         "hovertemplate": "energy=%{x}<br>count=%{y}<extra></extra>",
         "legendgroup": "0.816",
         "marker": {
          "color": "rgb(237, 100, 90)",
          "pattern": {
           "shape": ""
          }
         },
         "name": "0.816",
         "offsetgroup": "0.816",
         "orientation": "v",
         "showlegend": true,
         "type": "histogram",
         "x": [
          0.816,
          0.816,
          0.816
         ],
         "xaxis": "x",
         "yaxis": "y"
        },
        {
         "alignmentgroup": "True",
         "bingroup": "x",
         "hovertemplate": "energy=%{x}<br>count=%{y}<extra></extra>",
         "legendgroup": "0.449",
         "marker": {
          "color": "rgb(165, 170, 153)",
          "pattern": {
           "shape": ""
          }
         },
         "name": "0.449",
         "offsetgroup": "0.449",
         "orientation": "v",
         "showlegend": true,
         "type": "histogram",
         "x": [
          0.449
         ],
         "xaxis": "x",
         "yaxis": "y"
        },
        {
         "alignmentgroup": "True",
         "bingroup": "x",
         "hovertemplate": "energy=%{x}<br>count=%{y}<extra></extra>",
         "legendgroup": "0.379",
         "marker": {
          "color": "rgb(229, 134, 6)",
          "pattern": {
           "shape": ""
          }
         },
         "name": "0.379",
         "offsetgroup": "0.379",
         "orientation": "v",
         "showlegend": true,
         "type": "histogram",
         "x": [
          0.379
         ],
         "xaxis": "x",
         "yaxis": "y"
        },
        {
         "alignmentgroup": "True",
         "bingroup": "x",
         "hovertemplate": "energy=%{x}<br>count=%{y}<extra></extra>",
         "legendgroup": "0.402",
         "marker": {
          "color": "rgb(93, 105, 177)",
          "pattern": {
           "shape": ""
          }
         },
         "name": "0.402",
         "offsetgroup": "0.402",
         "orientation": "v",
         "showlegend": true,
         "type": "histogram",
         "x": [
          0.402
         ],
         "xaxis": "x",
         "yaxis": "y"
        },
        {
         "alignmentgroup": "True",
         "bingroup": "x",
         "hovertemplate": "energy=%{x}<br>count=%{y}<extra></extra>",
         "legendgroup": "0.635",
         "marker": {
          "color": "rgb(82, 188, 163)",
          "pattern": {
           "shape": ""
          }
         },
         "name": "0.635",
         "offsetgroup": "0.635",
         "orientation": "v",
         "showlegend": true,
         "type": "histogram",
         "x": [
          0.635
         ],
         "xaxis": "x",
         "yaxis": "y"
        },
        {
         "alignmentgroup": "True",
         "bingroup": "x",
         "hovertemplate": "energy=%{x}<br>count=%{y}<extra></extra>",
         "legendgroup": "0.807",
         "marker": {
          "color": "rgb(153, 201, 69)",
          "pattern": {
           "shape": ""
          }
         },
         "name": "0.807",
         "offsetgroup": "0.807",
         "orientation": "v",
         "showlegend": true,
         "type": "histogram",
         "x": [
          0.807
         ],
         "xaxis": "x",
         "yaxis": "y"
        },
        {
         "alignmentgroup": "True",
         "bingroup": "x",
         "hovertemplate": "energy=%{x}<br>count=%{y}<extra></extra>",
         "legendgroup": "0.385",
         "marker": {
          "color": "rgb(204, 97, 176)",
          "pattern": {
           "shape": ""
          }
         },
         "name": "0.385",
         "offsetgroup": "0.385",
         "orientation": "v",
         "showlegend": true,
         "type": "histogram",
         "x": [
          0.385
         ],
         "xaxis": "x",
         "yaxis": "y"
        },
        {
         "alignmentgroup": "True",
         "bingroup": "x",
         "hovertemplate": "energy=%{x}<br>count=%{y}<extra></extra>",
         "legendgroup": "0.731",
         "marker": {
          "color": "rgb(36, 121, 108)",
          "pattern": {
           "shape": ""
          }
         },
         "name": "0.731",
         "offsetgroup": "0.731",
         "orientation": "v",
         "showlegend": true,
         "type": "histogram",
         "x": [
          0.731,
          0.731
         ],
         "xaxis": "x",
         "yaxis": "y"
        },
        {
         "alignmentgroup": "True",
         "bingroup": "x",
         "hovertemplate": "energy=%{x}<br>count=%{y}<extra></extra>",
         "legendgroup": "0.378",
         "marker": {
          "color": "rgb(218, 165, 27)",
          "pattern": {
           "shape": ""
          }
         },
         "name": "0.378",
         "offsetgroup": "0.378",
         "orientation": "v",
         "showlegend": true,
         "type": "histogram",
         "x": [
          0.378
         ],
         "xaxis": "x",
         "yaxis": "y"
        },
        {
         "alignmentgroup": "True",
         "bingroup": "x",
         "hovertemplate": "energy=%{x}<br>count=%{y}<extra></extra>",
         "legendgroup": "0.762",
         "marker": {
          "color": "rgb(47, 138, 196)",
          "pattern": {
           "shape": ""
          }
         },
         "name": "0.762",
         "offsetgroup": "0.762",
         "orientation": "v",
         "showlegend": true,
         "type": "histogram",
         "x": [
          0.762
         ],
         "xaxis": "x",
         "yaxis": "y"
        },
        {
         "alignmentgroup": "True",
         "bingroup": "x",
         "hovertemplate": "energy=%{x}<br>count=%{y}<extra></extra>",
         "legendgroup": "0.613",
         "marker": {
          "color": "rgb(118, 78, 159)",
          "pattern": {
           "shape": ""
          }
         },
         "name": "0.613",
         "offsetgroup": "0.613",
         "orientation": "v",
         "showlegend": true,
         "type": "histogram",
         "x": [
          0.613
         ],
         "xaxis": "x",
         "yaxis": "y"
        },
        {
         "alignmentgroup": "True",
         "bingroup": "x",
         "hovertemplate": "energy=%{x}<br>count=%{y}<extra></extra>",
         "legendgroup": "0.664",
         "marker": {
          "color": "rgb(237, 100, 90)",
          "pattern": {
           "shape": ""
          }
         },
         "name": "0.664",
         "offsetgroup": "0.664",
         "orientation": "v",
         "showlegend": true,
         "type": "histogram",
         "x": [
          0.664,
          0.664
         ],
         "xaxis": "x",
         "yaxis": "y"
        },
        {
         "alignmentgroup": "True",
         "bingroup": "x",
         "hovertemplate": "energy=%{x}<br>count=%{y}<extra></extra>",
         "legendgroup": "0.264",
         "marker": {
          "color": "rgb(165, 170, 153)",
          "pattern": {
           "shape": ""
          }
         },
         "name": "0.264",
         "offsetgroup": "0.264",
         "orientation": "v",
         "showlegend": true,
         "type": "histogram",
         "x": [
          0.264
         ],
         "xaxis": "x",
         "yaxis": "y"
        },
        {
         "alignmentgroup": "True",
         "bingroup": "x",
         "hovertemplate": "energy=%{x}<br>count=%{y}<extra></extra>",
         "legendgroup": "0.89",
         "marker": {
          "color": "rgb(229, 134, 6)",
          "pattern": {
           "shape": ""
          }
         },
         "name": "0.89",
         "offsetgroup": "0.89",
         "orientation": "v",
         "showlegend": true,
         "type": "histogram",
         "x": [
          0.89
         ],
         "xaxis": "x",
         "yaxis": "y"
        },
        {
         "alignmentgroup": "True",
         "bingroup": "x",
         "hovertemplate": "energy=%{x}<br>count=%{y}<extra></extra>",
         "legendgroup": "0.317",
         "marker": {
          "color": "rgb(93, 105, 177)",
          "pattern": {
           "shape": ""
          }
         },
         "name": "0.317",
         "offsetgroup": "0.317",
         "orientation": "v",
         "showlegend": true,
         "type": "histogram",
         "x": [
          0.317
         ],
         "xaxis": "x",
         "yaxis": "y"
        },
        {
         "alignmentgroup": "True",
         "bingroup": "x",
         "hovertemplate": "energy=%{x}<br>count=%{y}<extra></extra>",
         "legendgroup": "0.728",
         "marker": {
          "color": "rgb(82, 188, 163)",
          "pattern": {
           "shape": ""
          }
         },
         "name": "0.728",
         "offsetgroup": "0.728",
         "orientation": "v",
         "showlegend": true,
         "type": "histogram",
         "x": [
          0.728
         ],
         "xaxis": "x",
         "yaxis": "y"
        },
        {
         "alignmentgroup": "True",
         "bingroup": "x",
         "hovertemplate": "energy=%{x}<br>count=%{y}<extra></extra>",
         "legendgroup": "0.391",
         "marker": {
          "color": "rgb(153, 201, 69)",
          "pattern": {
           "shape": ""
          }
         },
         "name": "0.391",
         "offsetgroup": "0.391",
         "orientation": "v",
         "showlegend": true,
         "type": "histogram",
         "x": [
          0.391
         ],
         "xaxis": "x",
         "yaxis": "y"
        },
        {
         "alignmentgroup": "True",
         "bingroup": "x",
         "hovertemplate": "energy=%{x}<br>count=%{y}<extra></extra>",
         "legendgroup": "0.523",
         "marker": {
          "color": "rgb(204, 97, 176)",
          "pattern": {
           "shape": ""
          }
         },
         "name": "0.523",
         "offsetgroup": "0.523",
         "orientation": "v",
         "showlegend": true,
         "type": "histogram",
         "x": [
          0.523
         ],
         "xaxis": "x",
         "yaxis": "y"
        },
        {
         "alignmentgroup": "True",
         "bingroup": "x",
         "hovertemplate": "energy=%{x}<br>count=%{y}<extra></extra>",
         "legendgroup": "0.637",
         "marker": {
          "color": "rgb(36, 121, 108)",
          "pattern": {
           "shape": ""
          }
         },
         "name": "0.637",
         "offsetgroup": "0.637",
         "orientation": "v",
         "showlegend": true,
         "type": "histogram",
         "x": [
          0.637
         ],
         "xaxis": "x",
         "yaxis": "y"
        },
        {
         "alignmentgroup": "True",
         "bingroup": "x",
         "hovertemplate": "energy=%{x}<br>count=%{y}<extra></extra>",
         "legendgroup": "0.75",
         "marker": {
          "color": "rgb(218, 165, 27)",
          "pattern": {
           "shape": ""
          }
         },
         "name": "0.75",
         "offsetgroup": "0.75",
         "orientation": "v",
         "showlegend": true,
         "type": "histogram",
         "x": [
          0.75
         ],
         "xaxis": "x",
         "yaxis": "y"
        },
        {
         "alignmentgroup": "True",
         "bingroup": "x",
         "hovertemplate": "energy=%{x}<br>count=%{y}<extra></extra>",
         "legendgroup": "0.705",
         "marker": {
          "color": "rgb(47, 138, 196)",
          "pattern": {
           "shape": ""
          }
         },
         "name": "0.705",
         "offsetgroup": "0.705",
         "orientation": "v",
         "showlegend": true,
         "type": "histogram",
         "x": [
          0.705
         ],
         "xaxis": "x",
         "yaxis": "y"
        },
        {
         "alignmentgroup": "True",
         "bingroup": "x",
         "hovertemplate": "energy=%{x}<br>count=%{y}<extra></extra>",
         "legendgroup": "0.7",
         "marker": {
          "color": "rgb(118, 78, 159)",
          "pattern": {
           "shape": ""
          }
         },
         "name": "0.7",
         "offsetgroup": "0.7",
         "orientation": "v",
         "showlegend": true,
         "type": "histogram",
         "x": [
          0.7
         ],
         "xaxis": "x",
         "yaxis": "y"
        },
        {
         "alignmentgroup": "True",
         "bingroup": "x",
         "hovertemplate": "energy=%{x}<br>count=%{y}<extra></extra>",
         "legendgroup": "0.783",
         "marker": {
          "color": "rgb(237, 100, 90)",
          "pattern": {
           "shape": ""
          }
         },
         "name": "0.783",
         "offsetgroup": "0.783",
         "orientation": "v",
         "showlegend": true,
         "type": "histogram",
         "x": [
          0.783,
          0.783
         ],
         "xaxis": "x",
         "yaxis": "y"
        },
        {
         "alignmentgroup": "True",
         "bingroup": "x",
         "hovertemplate": "energy=%{x}<br>count=%{y}<extra></extra>",
         "legendgroup": "0.67",
         "marker": {
          "color": "rgb(165, 170, 153)",
          "pattern": {
           "shape": ""
          }
         },
         "name": "0.67",
         "offsetgroup": "0.67",
         "orientation": "v",
         "showlegend": true,
         "type": "histogram",
         "x": [
          0.67
         ],
         "xaxis": "x",
         "yaxis": "y"
        },
        {
         "alignmentgroup": "True",
         "bingroup": "x",
         "hovertemplate": "energy=%{x}<br>count=%{y}<extra></extra>",
         "legendgroup": "0.621",
         "marker": {
          "color": "rgb(229, 134, 6)",
          "pattern": {
           "shape": ""
          }
         },
         "name": "0.621",
         "offsetgroup": "0.621",
         "orientation": "v",
         "showlegend": true,
         "type": "histogram",
         "x": [
          0.621
         ],
         "xaxis": "x",
         "yaxis": "y"
        },
        {
         "alignmentgroup": "True",
         "bingroup": "x",
         "hovertemplate": "energy=%{x}<br>count=%{y}<extra></extra>",
         "legendgroup": "0.545",
         "marker": {
          "color": "rgb(93, 105, 177)",
          "pattern": {
           "shape": ""
          }
         },
         "name": "0.545",
         "offsetgroup": "0.545",
         "orientation": "v",
         "showlegend": true,
         "type": "histogram",
         "x": [
          0.545
         ],
         "xaxis": "x",
         "yaxis": "y"
        },
        {
         "alignmentgroup": "True",
         "bingroup": "x",
         "hovertemplate": "energy=%{x}<br>count=%{y}<extra></extra>",
         "legendgroup": "0.564",
         "marker": {
          "color": "rgb(82, 188, 163)",
          "pattern": {
           "shape": ""
          }
         },
         "name": "0.564",
         "offsetgroup": "0.564",
         "orientation": "v",
         "showlegend": true,
         "type": "histogram",
         "x": [
          0.564
         ],
         "xaxis": "x",
         "yaxis": "y"
        },
        {
         "alignmentgroup": "True",
         "bingroup": "x",
         "hovertemplate": "energy=%{x}<br>count=%{y}<extra></extra>",
         "legendgroup": "0.871",
         "marker": {
          "color": "rgb(153, 201, 69)",
          "pattern": {
           "shape": ""
          }
         },
         "name": "0.871",
         "offsetgroup": "0.871",
         "orientation": "v",
         "showlegend": true,
         "type": "histogram",
         "x": [
          0.871
         ],
         "xaxis": "x",
         "yaxis": "y"
        },
        {
         "alignmentgroup": "True",
         "bingroup": "x",
         "hovertemplate": "energy=%{x}<br>count=%{y}<extra></extra>",
         "legendgroup": "0.643",
         "marker": {
          "color": "rgb(204, 97, 176)",
          "pattern": {
           "shape": ""
          }
         },
         "name": "0.643",
         "offsetgroup": "0.643",
         "orientation": "v",
         "showlegend": true,
         "type": "histogram",
         "x": [
          0.643
         ],
         "xaxis": "x",
         "yaxis": "y"
        },
        {
         "alignmentgroup": "True",
         "bingroup": "x",
         "hovertemplate": "energy=%{x}<br>count=%{y}<extra></extra>",
         "legendgroup": "0.862",
         "marker": {
          "color": "rgb(36, 121, 108)",
          "pattern": {
           "shape": ""
          }
         },
         "name": "0.862",
         "offsetgroup": "0.862",
         "orientation": "v",
         "showlegend": true,
         "type": "histogram",
         "x": [
          0.862
         ],
         "xaxis": "x",
         "yaxis": "y"
        },
        {
         "alignmentgroup": "True",
         "bingroup": "x",
         "hovertemplate": "energy=%{x}<br>count=%{y}<extra></extra>",
         "legendgroup": "0.716",
         "marker": {
          "color": "rgb(218, 165, 27)",
          "pattern": {
           "shape": ""
          }
         },
         "name": "0.716",
         "offsetgroup": "0.716",
         "orientation": "v",
         "showlegend": true,
         "type": "histogram",
         "x": [
          0.716
         ],
         "xaxis": "x",
         "yaxis": "y"
        },
        {
         "alignmentgroup": "True",
         "bingroup": "x",
         "hovertemplate": "energy=%{x}<br>count=%{y}<extra></extra>",
         "legendgroup": "0.431",
         "marker": {
          "color": "rgb(47, 138, 196)",
          "pattern": {
           "shape": ""
          }
         },
         "name": "0.431",
         "offsetgroup": "0.431",
         "orientation": "v",
         "showlegend": true,
         "type": "histogram",
         "x": [
          0.431
         ],
         "xaxis": "x",
         "yaxis": "y"
        },
        {
         "alignmentgroup": "True",
         "bingroup": "x",
         "hovertemplate": "energy=%{x}<br>count=%{y}<extra></extra>",
         "legendgroup": "0.809",
         "marker": {
          "color": "rgb(118, 78, 159)",
          "pattern": {
           "shape": ""
          }
         },
         "name": "0.809",
         "offsetgroup": "0.809",
         "orientation": "v",
         "showlegend": true,
         "type": "histogram",
         "x": [
          0.809
         ],
         "xaxis": "x",
         "yaxis": "y"
        },
        {
         "alignmentgroup": "True",
         "bingroup": "x",
         "hovertemplate": "energy=%{x}<br>count=%{y}<extra></extra>",
         "legendgroup": "0.819",
         "marker": {
          "color": "rgb(237, 100, 90)",
          "pattern": {
           "shape": ""
          }
         },
         "name": "0.819",
         "offsetgroup": "0.819",
         "orientation": "v",
         "showlegend": true,
         "type": "histogram",
         "x": [
          0.819
         ],
         "xaxis": "x",
         "yaxis": "y"
        },
        {
         "alignmentgroup": "True",
         "bingroup": "x",
         "hovertemplate": "energy=%{x}<br>count=%{y}<extra></extra>",
         "legendgroup": "0.719",
         "marker": {
          "color": "rgb(165, 170, 153)",
          "pattern": {
           "shape": ""
          }
         },
         "name": "0.719",
         "offsetgroup": "0.719",
         "orientation": "v",
         "showlegend": true,
         "type": "histogram",
         "x": [
          0.719
         ],
         "xaxis": "x",
         "yaxis": "y"
        },
        {
         "alignmentgroup": "True",
         "bingroup": "x",
         "hovertemplate": "energy=%{x}<br>count=%{y}<extra></extra>",
         "legendgroup": "0.578",
         "marker": {
          "color": "rgb(229, 134, 6)",
          "pattern": {
           "shape": ""
          }
         },
         "name": "0.578",
         "offsetgroup": "0.578",
         "orientation": "v",
         "showlegend": true,
         "type": "histogram",
         "x": [
          0.578
         ],
         "xaxis": "x",
         "yaxis": "y"
        },
        {
         "alignmentgroup": "True",
         "bingroup": "x",
         "hovertemplate": "energy=%{x}<br>count=%{y}<extra></extra>",
         "legendgroup": "0.42",
         "marker": {
          "color": "rgb(93, 105, 177)",
          "pattern": {
           "shape": ""
          }
         },
         "name": "0.42",
         "offsetgroup": "0.42",
         "orientation": "v",
         "showlegend": true,
         "type": "histogram",
         "x": [
          0.42
         ],
         "xaxis": "x",
         "yaxis": "y"
        },
        {
         "alignmentgroup": "True",
         "bingroup": "x",
         "hovertemplate": "energy=%{x}<br>count=%{y}<extra></extra>",
         "legendgroup": "0.804",
         "marker": {
          "color": "rgb(82, 188, 163)",
          "pattern": {
           "shape": ""
          }
         },
         "name": "0.804",
         "offsetgroup": "0.804",
         "orientation": "v",
         "showlegend": true,
         "type": "histogram",
         "x": [
          0.804
         ],
         "xaxis": "x",
         "yaxis": "y"
        },
        {
         "alignmentgroup": "True",
         "bingroup": "x",
         "hovertemplate": "energy=%{x}<br>count=%{y}<extra></extra>",
         "legendgroup": "0.627",
         "marker": {
          "color": "rgb(153, 201, 69)",
          "pattern": {
           "shape": ""
          }
         },
         "name": "0.627",
         "offsetgroup": "0.627",
         "orientation": "v",
         "showlegend": true,
         "type": "histogram",
         "x": [
          0.627
         ],
         "xaxis": "x",
         "yaxis": "y"
        },
        {
         "alignmentgroup": "True",
         "bingroup": "x",
         "hovertemplate": "energy=%{x}<br>count=%{y}<extra></extra>",
         "legendgroup": "0.669",
         "marker": {
          "color": "rgb(204, 97, 176)",
          "pattern": {
           "shape": ""
          }
         },
         "name": "0.669",
         "offsetgroup": "0.669",
         "orientation": "v",
         "showlegend": true,
         "type": "histogram",
         "x": [
          0.669
         ],
         "xaxis": "x",
         "yaxis": "y"
        },
        {
         "alignmentgroup": "True",
         "bingroup": "x",
         "hovertemplate": "energy=%{x}<br>count=%{y}<extra></extra>",
         "legendgroup": "0.704",
         "marker": {
          "color": "rgb(36, 121, 108)",
          "pattern": {
           "shape": ""
          }
         },
         "name": "0.704",
         "offsetgroup": "0.704",
         "orientation": "v",
         "showlegend": true,
         "type": "histogram",
         "x": [
          0.704
         ],
         "xaxis": "x",
         "yaxis": "y"
        },
        {
         "alignmentgroup": "True",
         "bingroup": "x",
         "hovertemplate": "energy=%{x}<br>count=%{y}<extra></extra>",
         "legendgroup": "0.744",
         "marker": {
          "color": "rgb(218, 165, 27)",
          "pattern": {
           "shape": ""
          }
         },
         "name": "0.744",
         "offsetgroup": "0.744",
         "orientation": "v",
         "showlegend": true,
         "type": "histogram",
         "x": [
          0.744
         ],
         "xaxis": "x",
         "yaxis": "y"
        },
        {
         "alignmentgroup": "True",
         "bingroup": "x",
         "hovertemplate": "energy=%{x}<br>count=%{y}<extra></extra>",
         "legendgroup": "0.684",
         "marker": {
          "color": "rgb(47, 138, 196)",
          "pattern": {
           "shape": ""
          }
         },
         "name": "0.684",
         "offsetgroup": "0.684",
         "orientation": "v",
         "showlegend": true,
         "type": "histogram",
         "x": [
          0.684
         ],
         "xaxis": "x",
         "yaxis": "y"
        },
        {
         "alignmentgroup": "True",
         "bingroup": "x",
         "hovertemplate": "energy=%{x}<br>count=%{y}<extra></extra>",
         "legendgroup": "0.71",
         "marker": {
          "color": "rgb(118, 78, 159)",
          "pattern": {
           "shape": ""
          }
         },
         "name": "0.71",
         "offsetgroup": "0.71",
         "orientation": "v",
         "showlegend": true,
         "type": "histogram",
         "x": [
          0.71
         ],
         "xaxis": "x",
         "yaxis": "y"
        },
        {
         "alignmentgroup": "True",
         "bingroup": "x",
         "hovertemplate": "energy=%{x}<br>count=%{y}<extra></extra>",
         "legendgroup": "0.911",
         "marker": {
          "color": "rgb(237, 100, 90)",
          "pattern": {
           "shape": ""
          }
         },
         "name": "0.911",
         "offsetgroup": "0.911",
         "orientation": "v",
         "showlegend": true,
         "type": "histogram",
         "x": [
          0.911
         ],
         "xaxis": "x",
         "yaxis": "y"
        },
        {
         "alignmentgroup": "True",
         "bingroup": "x",
         "hovertemplate": "energy=%{x}<br>count=%{y}<extra></extra>",
         "legendgroup": "0.609",
         "marker": {
          "color": "rgb(165, 170, 153)",
          "pattern": {
           "shape": ""
          }
         },
         "name": "0.609",
         "offsetgroup": "0.609",
         "orientation": "v",
         "showlegend": true,
         "type": "histogram",
         "x": [
          0.609
         ],
         "xaxis": "x",
         "yaxis": "y"
        },
        {
         "alignmentgroup": "True",
         "bingroup": "x",
         "hovertemplate": "energy=%{x}<br>count=%{y}<extra></extra>",
         "legendgroup": "0.372",
         "marker": {
          "color": "rgb(229, 134, 6)",
          "pattern": {
           "shape": ""
          }
         },
         "name": "0.372",
         "offsetgroup": "0.372",
         "orientation": "v",
         "showlegend": true,
         "type": "histogram",
         "x": [
          0.372
         ],
         "xaxis": "x",
         "yaxis": "y"
        },
        {
         "alignmentgroup": "True",
         "bingroup": "x",
         "hovertemplate": "energy=%{x}<br>count=%{y}<extra></extra>",
         "legendgroup": "0.825",
         "marker": {
          "color": "rgb(93, 105, 177)",
          "pattern": {
           "shape": ""
          }
         },
         "name": "0.825",
         "offsetgroup": "0.825",
         "orientation": "v",
         "showlegend": true,
         "type": "histogram",
         "x": [
          0.825
         ],
         "xaxis": "x",
         "yaxis": "y"
        },
        {
         "alignmentgroup": "True",
         "bingroup": "x",
         "hovertemplate": "energy=%{x}<br>count=%{y}<extra></extra>",
         "legendgroup": "0.714",
         "marker": {
          "color": "rgb(82, 188, 163)",
          "pattern": {
           "shape": ""
          }
         },
         "name": "0.714",
         "offsetgroup": "0.714",
         "orientation": "v",
         "showlegend": true,
         "type": "histogram",
         "x": [
          0.714
         ],
         "xaxis": "x",
         "yaxis": "y"
        },
        {
         "alignmentgroup": "True",
         "bingroup": "x",
         "hovertemplate": "energy=%{x}<br>count=%{y}<extra></extra>",
         "legendgroup": "0.502",
         "marker": {
          "color": "rgb(153, 201, 69)",
          "pattern": {
           "shape": ""
          }
         },
         "name": "0.502",
         "offsetgroup": "0.502",
         "orientation": "v",
         "showlegend": true,
         "type": "histogram",
         "x": [
          0.502
         ],
         "xaxis": "x",
         "yaxis": "y"
        },
        {
         "alignmentgroup": "True",
         "bingroup": "x",
         "hovertemplate": "energy=%{x}<br>count=%{y}<extra></extra>",
         "legendgroup": "0.653",
         "marker": {
          "color": "rgb(204, 97, 176)",
          "pattern": {
           "shape": ""
          }
         },
         "name": "0.653",
         "offsetgroup": "0.653",
         "orientation": "v",
         "showlegend": true,
         "type": "histogram",
         "x": [
          0.653
         ],
         "xaxis": "x",
         "yaxis": "y"
        },
        {
         "alignmentgroup": "True",
         "bingroup": "x",
         "hovertemplate": "energy=%{x}<br>count=%{y}<extra></extra>",
         "legendgroup": "0.676",
         "marker": {
          "color": "rgb(36, 121, 108)",
          "pattern": {
           "shape": ""
          }
         },
         "name": "0.676",
         "offsetgroup": "0.676",
         "orientation": "v",
         "showlegend": true,
         "type": "histogram",
         "x": [
          0.676
         ],
         "xaxis": "x",
         "yaxis": "y"
        },
        {
         "alignmentgroup": "True",
         "bingroup": "x",
         "hovertemplate": "energy=%{x}<br>count=%{y}<extra></extra>",
         "legendgroup": "0.573",
         "marker": {
          "color": "rgb(218, 165, 27)",
          "pattern": {
           "shape": ""
          }
         },
         "name": "0.573",
         "offsetgroup": "0.573",
         "orientation": "v",
         "showlegend": true,
         "type": "histogram",
         "x": [
          0.573
         ],
         "xaxis": "x",
         "yaxis": "y"
        },
        {
         "alignmentgroup": "True",
         "bingroup": "x",
         "hovertemplate": "energy=%{x}<br>count=%{y}<extra></extra>",
         "legendgroup": "0.503",
         "marker": {
          "color": "rgb(47, 138, 196)",
          "pattern": {
           "shape": ""
          }
         },
         "name": "0.503",
         "offsetgroup": "0.503",
         "orientation": "v",
         "showlegend": true,
         "type": "histogram",
         "x": [
          0.503
         ],
         "xaxis": "x",
         "yaxis": "y"
        },
        {
         "alignmentgroup": "True",
         "bingroup": "x",
         "hovertemplate": "energy=%{x}<br>count=%{y}<extra></extra>",
         "legendgroup": "0.74",
         "marker": {
          "color": "rgb(118, 78, 159)",
          "pattern": {
           "shape": ""
          }
         },
         "name": "0.74",
         "offsetgroup": "0.74",
         "orientation": "v",
         "showlegend": true,
         "type": "histogram",
         "x": [
          0.74
         ],
         "xaxis": "x",
         "yaxis": "y"
        },
        {
         "alignmentgroup": "True",
         "bingroup": "x",
         "hovertemplate": "energy=%{x}<br>count=%{y}<extra></extra>",
         "legendgroup": "0.532",
         "marker": {
          "color": "rgb(237, 100, 90)",
          "pattern": {
           "shape": ""
          }
         },
         "name": "0.532",
         "offsetgroup": "0.532",
         "orientation": "v",
         "showlegend": true,
         "type": "histogram",
         "x": [
          0.532
         ],
         "xaxis": "x",
         "yaxis": "y"
        },
        {
         "alignmentgroup": "True",
         "bingroup": "x",
         "hovertemplate": "energy=%{x}<br>count=%{y}<extra></extra>",
         "legendgroup": "0.769",
         "marker": {
          "color": "rgb(165, 170, 153)",
          "pattern": {
           "shape": ""
          }
         },
         "name": "0.769",
         "offsetgroup": "0.769",
         "orientation": "v",
         "showlegend": true,
         "type": "histogram",
         "x": [
          0.769
         ],
         "xaxis": "x",
         "yaxis": "y"
        },
        {
         "alignmentgroup": "True",
         "bingroup": "x",
         "hovertemplate": "energy=%{x}<br>count=%{y}<extra></extra>",
         "legendgroup": "0.537",
         "marker": {
          "color": "rgb(229, 134, 6)",
          "pattern": {
           "shape": ""
          }
         },
         "name": "0.537",
         "offsetgroup": "0.537",
         "orientation": "v",
         "showlegend": true,
         "type": "histogram",
         "x": [
          0.537
         ],
         "xaxis": "x",
         "yaxis": "y"
        },
        {
         "alignmentgroup": "True",
         "bingroup": "x",
         "hovertemplate": "energy=%{x}<br>count=%{y}<extra></extra>",
         "legendgroup": "0.893",
         "marker": {
          "color": "rgb(93, 105, 177)",
          "pattern": {
           "shape": ""
          }
         },
         "name": "0.893",
         "offsetgroup": "0.893",
         "orientation": "v",
         "showlegend": true,
         "type": "histogram",
         "x": [
          0.893
         ],
         "xaxis": "x",
         "yaxis": "y"
        },
        {
         "alignmentgroup": "True",
         "bingroup": "x",
         "hovertemplate": "energy=%{x}<br>count=%{y}<extra></extra>",
         "legendgroup": "0.521",
         "marker": {
          "color": "rgb(82, 188, 163)",
          "pattern": {
           "shape": ""
          }
         },
         "name": "0.521",
         "offsetgroup": "0.521",
         "orientation": "v",
         "showlegend": true,
         "type": "histogram",
         "x": [
          0.521
         ],
         "xaxis": "x",
         "yaxis": "y"
        },
        {
         "alignmentgroup": "True",
         "bingroup": "x",
         "hovertemplate": "energy=%{x}<br>count=%{y}<extra></extra>",
         "legendgroup": "0.56",
         "marker": {
          "color": "rgb(153, 201, 69)",
          "pattern": {
           "shape": ""
          }
         },
         "name": "0.56",
         "offsetgroup": "0.56",
         "orientation": "v",
         "showlegend": true,
         "type": "histogram",
         "x": [
          0.56
         ],
         "xaxis": "x",
         "yaxis": "y"
        },
        {
         "alignmentgroup": "True",
         "bingroup": "x",
         "hovertemplate": "energy=%{x}<br>count=%{y}<extra></extra>",
         "legendgroup": "0.586",
         "marker": {
          "color": "rgb(204, 97, 176)",
          "pattern": {
           "shape": ""
          }
         },
         "name": "0.586",
         "offsetgroup": "0.586",
         "orientation": "v",
         "showlegend": true,
         "type": "histogram",
         "x": [
          0.586
         ],
         "xaxis": "x",
         "yaxis": "y"
        },
        {
         "alignmentgroup": "True",
         "bingroup": "x",
         "hovertemplate": "energy=%{x}<br>count=%{y}<extra></extra>",
         "legendgroup": "0.847",
         "marker": {
          "color": "rgb(36, 121, 108)",
          "pattern": {
           "shape": ""
          }
         },
         "name": "0.847",
         "offsetgroup": "0.847",
         "orientation": "v",
         "showlegend": true,
         "type": "histogram",
         "x": [
          0.847
         ],
         "xaxis": "x",
         "yaxis": "y"
        },
        {
         "alignmentgroup": "True",
         "bingroup": "x",
         "hovertemplate": "energy=%{x}<br>count=%{y}<extra></extra>",
         "legendgroup": "0.813",
         "marker": {
          "color": "rgb(218, 165, 27)",
          "pattern": {
           "shape": ""
          }
         },
         "name": "0.813",
         "offsetgroup": "0.813",
         "orientation": "v",
         "showlegend": true,
         "type": "histogram",
         "x": [
          0.813
         ],
         "xaxis": "x",
         "yaxis": "y"
        },
        {
         "alignmentgroup": "True",
         "bingroup": "x",
         "hovertemplate": "energy=%{x}<br>count=%{y}<extra></extra>",
         "legendgroup": "0.754",
         "marker": {
          "color": "rgb(47, 138, 196)",
          "pattern": {
           "shape": ""
          }
         },
         "name": "0.754",
         "offsetgroup": "0.754",
         "orientation": "v",
         "showlegend": true,
         "type": "histogram",
         "x": [
          0.754
         ],
         "xaxis": "x",
         "yaxis": "y"
        },
        {
         "alignmentgroup": "True",
         "bingroup": "x",
         "hovertemplate": "energy=%{x}<br>count=%{y}<extra></extra>",
         "legendgroup": "0.698",
         "marker": {
          "color": "rgb(118, 78, 159)",
          "pattern": {
           "shape": ""
          }
         },
         "name": "0.698",
         "offsetgroup": "0.698",
         "orientation": "v",
         "showlegend": true,
         "type": "histogram",
         "x": [
          0.698
         ],
         "xaxis": "x",
         "yaxis": "y"
        },
        {
         "alignmentgroup": "True",
         "bingroup": "x",
         "hovertemplate": "energy=%{x}<br>count=%{y}<extra></extra>",
         "legendgroup": "0.912",
         "marker": {
          "color": "rgb(237, 100, 90)",
          "pattern": {
           "shape": ""
          }
         },
         "name": "0.912",
         "offsetgroup": "0.912",
         "orientation": "v",
         "showlegend": true,
         "type": "histogram",
         "x": [
          0.912
         ],
         "xaxis": "x",
         "yaxis": "y"
        },
        {
         "alignmentgroup": "True",
         "bingroup": "x",
         "hovertemplate": "energy=%{x}<br>count=%{y}<extra></extra>",
         "legendgroup": "0.559",
         "marker": {
          "color": "rgb(165, 170, 153)",
          "pattern": {
           "shape": ""
          }
         },
         "name": "0.559",
         "offsetgroup": "0.559",
         "orientation": "v",
         "showlegend": true,
         "type": "histogram",
         "x": [
          0.559
         ],
         "xaxis": "x",
         "yaxis": "y"
        },
        {
         "alignmentgroup": "True",
         "bingroup": "x",
         "hovertemplate": "energy=%{x}<br>count=%{y}<extra></extra>",
         "legendgroup": "0.633",
         "marker": {
          "color": "rgb(229, 134, 6)",
          "pattern": {
           "shape": ""
          }
         },
         "name": "0.633",
         "offsetgroup": "0.633",
         "orientation": "v",
         "showlegend": true,
         "type": "histogram",
         "x": [
          0.633
         ],
         "xaxis": "x",
         "yaxis": "y"
        },
        {
         "alignmentgroup": "True",
         "bingroup": "x",
         "hovertemplate": "energy=%{x}<br>count=%{y}<extra></extra>",
         "legendgroup": "0.505",
         "marker": {
          "color": "rgb(93, 105, 177)",
          "pattern": {
           "shape": ""
          }
         },
         "name": "0.505",
         "offsetgroup": "0.505",
         "orientation": "v",
         "showlegend": true,
         "type": "histogram",
         "x": [
          0.505
         ],
         "xaxis": "x",
         "yaxis": "y"
        },
        {
         "alignmentgroup": "True",
         "bingroup": "x",
         "hovertemplate": "energy=%{x}<br>count=%{y}<extra></extra>",
         "legendgroup": "0.473",
         "marker": {
          "color": "rgb(82, 188, 163)",
          "pattern": {
           "shape": ""
          }
         },
         "name": "0.473",
         "offsetgroup": "0.473",
         "orientation": "v",
         "showlegend": true,
         "type": "histogram",
         "x": [
          0.473
         ],
         "xaxis": "x",
         "yaxis": "y"
        },
        {
         "alignmentgroup": "True",
         "bingroup": "x",
         "hovertemplate": "energy=%{x}<br>count=%{y}<extra></extra>",
         "legendgroup": "0.661",
         "marker": {
          "color": "rgb(153, 201, 69)",
          "pattern": {
           "shape": ""
          }
         },
         "name": "0.661",
         "offsetgroup": "0.661",
         "orientation": "v",
         "showlegend": true,
         "type": "histogram",
         "x": [
          0.661
         ],
         "xaxis": "x",
         "yaxis": "y"
        },
        {
         "alignmentgroup": "True",
         "bingroup": "x",
         "hovertemplate": "energy=%{x}<br>count=%{y}<extra></extra>",
         "legendgroup": "0.797",
         "marker": {
          "color": "rgb(204, 97, 176)",
          "pattern": {
           "shape": ""
          }
         },
         "name": "0.797",
         "offsetgroup": "0.797",
         "orientation": "v",
         "showlegend": true,
         "type": "histogram",
         "x": [
          0.797
         ],
         "xaxis": "x",
         "yaxis": "y"
        },
        {
         "alignmentgroup": "True",
         "bingroup": "x",
         "hovertemplate": "energy=%{x}<br>count=%{y}<extra></extra>",
         "legendgroup": "0.553",
         "marker": {
          "color": "rgb(36, 121, 108)",
          "pattern": {
           "shape": ""
          }
         },
         "name": "0.553",
         "offsetgroup": "0.553",
         "orientation": "v",
         "showlegend": true,
         "type": "histogram",
         "x": [
          0.553
         ],
         "xaxis": "x",
         "yaxis": "y"
        }
       ],
       "layout": {
        "barmode": "relative",
        "height": 500,
        "legend": {
         "title": {
          "text": "energy"
         },
         "tracegroupgap": 0
        },
        "template": {
         "data": {
          "bar": [
           {
            "error_x": {
             "color": "#f2f5fa"
            },
            "error_y": {
             "color": "#f2f5fa"
            },
            "marker": {
             "line": {
              "color": "rgb(17,17,17)",
              "width": 0.5
             },
             "pattern": {
              "fillmode": "overlay",
              "size": 10,
              "solidity": 0.2
             }
            },
            "type": "bar"
           }
          ],
          "barpolar": [
           {
            "marker": {
             "line": {
              "color": "rgb(17,17,17)",
              "width": 0.5
             },
             "pattern": {
              "fillmode": "overlay",
              "size": 10,
              "solidity": 0.2
             }
            },
            "type": "barpolar"
           }
          ],
          "carpet": [
           {
            "aaxis": {
             "endlinecolor": "#A2B1C6",
             "gridcolor": "#506784",
             "linecolor": "#506784",
             "minorgridcolor": "#506784",
             "startlinecolor": "#A2B1C6"
            },
            "baxis": {
             "endlinecolor": "#A2B1C6",
             "gridcolor": "#506784",
             "linecolor": "#506784",
             "minorgridcolor": "#506784",
             "startlinecolor": "#A2B1C6"
            },
            "type": "carpet"
           }
          ],
          "choropleth": [
           {
            "colorbar": {
             "outlinewidth": 0,
             "ticks": ""
            },
            "type": "choropleth"
           }
          ],
          "contour": [
           {
            "colorbar": {
             "outlinewidth": 0,
             "ticks": ""
            },
            "colorscale": [
             [
              0,
              "#0d0887"
             ],
             [
              0.1111111111111111,
              "#46039f"
             ],
             [
              0.2222222222222222,
              "#7201a8"
             ],
             [
              0.3333333333333333,
              "#9c179e"
             ],
             [
              0.4444444444444444,
              "#bd3786"
             ],
             [
              0.5555555555555556,
              "#d8576b"
             ],
             [
              0.6666666666666666,
              "#ed7953"
             ],
             [
              0.7777777777777778,
              "#fb9f3a"
             ],
             [
              0.8888888888888888,
              "#fdca26"
             ],
             [
              1,
              "#f0f921"
             ]
            ],
            "type": "contour"
           }
          ],
          "contourcarpet": [
           {
            "colorbar": {
             "outlinewidth": 0,
             "ticks": ""
            },
            "type": "contourcarpet"
           }
          ],
          "heatmap": [
           {
            "colorbar": {
             "outlinewidth": 0,
             "ticks": ""
            },
            "colorscale": [
             [
              0,
              "#0d0887"
             ],
             [
              0.1111111111111111,
              "#46039f"
             ],
             [
              0.2222222222222222,
              "#7201a8"
             ],
             [
              0.3333333333333333,
              "#9c179e"
             ],
             [
              0.4444444444444444,
              "#bd3786"
             ],
             [
              0.5555555555555556,
              "#d8576b"
             ],
             [
              0.6666666666666666,
              "#ed7953"
             ],
             [
              0.7777777777777778,
              "#fb9f3a"
             ],
             [
              0.8888888888888888,
              "#fdca26"
             ],
             [
              1,
              "#f0f921"
             ]
            ],
            "type": "heatmap"
           }
          ],
          "heatmapgl": [
           {
            "colorbar": {
             "outlinewidth": 0,
             "ticks": ""
            },
            "colorscale": [
             [
              0,
              "#0d0887"
             ],
             [
              0.1111111111111111,
              "#46039f"
             ],
             [
              0.2222222222222222,
              "#7201a8"
             ],
             [
              0.3333333333333333,
              "#9c179e"
             ],
             [
              0.4444444444444444,
              "#bd3786"
             ],
             [
              0.5555555555555556,
              "#d8576b"
             ],
             [
              0.6666666666666666,
              "#ed7953"
             ],
             [
              0.7777777777777778,
              "#fb9f3a"
             ],
             [
              0.8888888888888888,
              "#fdca26"
             ],
             [
              1,
              "#f0f921"
             ]
            ],
            "type": "heatmapgl"
           }
          ],
          "histogram": [
           {
            "marker": {
             "pattern": {
              "fillmode": "overlay",
              "size": 10,
              "solidity": 0.2
             }
            },
            "type": "histogram"
           }
          ],
          "histogram2d": [
           {
            "colorbar": {
             "outlinewidth": 0,
             "ticks": ""
            },
            "colorscale": [
             [
              0,
              "#0d0887"
             ],
             [
              0.1111111111111111,
              "#46039f"
             ],
             [
              0.2222222222222222,
              "#7201a8"
             ],
             [
              0.3333333333333333,
              "#9c179e"
             ],
             [
              0.4444444444444444,
              "#bd3786"
             ],
             [
              0.5555555555555556,
              "#d8576b"
             ],
             [
              0.6666666666666666,
              "#ed7953"
             ],
             [
              0.7777777777777778,
              "#fb9f3a"
             ],
             [
              0.8888888888888888,
              "#fdca26"
             ],
             [
              1,
              "#f0f921"
             ]
            ],
            "type": "histogram2d"
           }
          ],
          "histogram2dcontour": [
           {
            "colorbar": {
             "outlinewidth": 0,
             "ticks": ""
            },
            "colorscale": [
             [
              0,
              "#0d0887"
             ],
             [
              0.1111111111111111,
              "#46039f"
             ],
             [
              0.2222222222222222,
              "#7201a8"
             ],
             [
              0.3333333333333333,
              "#9c179e"
             ],
             [
              0.4444444444444444,
              "#bd3786"
             ],
             [
              0.5555555555555556,
              "#d8576b"
             ],
             [
              0.6666666666666666,
              "#ed7953"
             ],
             [
              0.7777777777777778,
              "#fb9f3a"
             ],
             [
              0.8888888888888888,
              "#fdca26"
             ],
             [
              1,
              "#f0f921"
             ]
            ],
            "type": "histogram2dcontour"
           }
          ],
          "mesh3d": [
           {
            "colorbar": {
             "outlinewidth": 0,
             "ticks": ""
            },
            "type": "mesh3d"
           }
          ],
          "parcoords": [
           {
            "line": {
             "colorbar": {
              "outlinewidth": 0,
              "ticks": ""
             }
            },
            "type": "parcoords"
           }
          ],
          "pie": [
           {
            "automargin": true,
            "type": "pie"
           }
          ],
          "scatter": [
           {
            "marker": {
             "line": {
              "color": "#283442"
             }
            },
            "type": "scatter"
           }
          ],
          "scatter3d": [
           {
            "line": {
             "colorbar": {
              "outlinewidth": 0,
              "ticks": ""
             }
            },
            "marker": {
             "colorbar": {
              "outlinewidth": 0,
              "ticks": ""
             }
            },
            "type": "scatter3d"
           }
          ],
          "scattercarpet": [
           {
            "marker": {
             "colorbar": {
              "outlinewidth": 0,
              "ticks": ""
             }
            },
            "type": "scattercarpet"
           }
          ],
          "scattergeo": [
           {
            "marker": {
             "colorbar": {
              "outlinewidth": 0,
              "ticks": ""
             }
            },
            "type": "scattergeo"
           }
          ],
          "scattergl": [
           {
            "marker": {
             "line": {
              "color": "#283442"
             }
            },
            "type": "scattergl"
           }
          ],
          "scattermapbox": [
           {
            "marker": {
             "colorbar": {
              "outlinewidth": 0,
              "ticks": ""
             }
            },
            "type": "scattermapbox"
           }
          ],
          "scatterpolar": [
           {
            "marker": {
             "colorbar": {
              "outlinewidth": 0,
              "ticks": ""
             }
            },
            "type": "scatterpolar"
           }
          ],
          "scatterpolargl": [
           {
            "marker": {
             "colorbar": {
              "outlinewidth": 0,
              "ticks": ""
             }
            },
            "type": "scatterpolargl"
           }
          ],
          "scatterternary": [
           {
            "marker": {
             "colorbar": {
              "outlinewidth": 0,
              "ticks": ""
             }
            },
            "type": "scatterternary"
           }
          ],
          "surface": [
           {
            "colorbar": {
             "outlinewidth": 0,
             "ticks": ""
            },
            "colorscale": [
             [
              0,
              "#0d0887"
             ],
             [
              0.1111111111111111,
              "#46039f"
             ],
             [
              0.2222222222222222,
              "#7201a8"
             ],
             [
              0.3333333333333333,
              "#9c179e"
             ],
             [
              0.4444444444444444,
              "#bd3786"
             ],
             [
              0.5555555555555556,
              "#d8576b"
             ],
             [
              0.6666666666666666,
              "#ed7953"
             ],
             [
              0.7777777777777778,
              "#fb9f3a"
             ],
             [
              0.8888888888888888,
              "#fdca26"
             ],
             [
              1,
              "#f0f921"
             ]
            ],
            "type": "surface"
           }
          ],
          "table": [
           {
            "cells": {
             "fill": {
              "color": "#506784"
             },
             "line": {
              "color": "rgb(17,17,17)"
             }
            },
            "header": {
             "fill": {
              "color": "#2a3f5f"
             },
             "line": {
              "color": "rgb(17,17,17)"
             }
            },
            "type": "table"
           }
          ]
         },
         "layout": {
          "annotationdefaults": {
           "arrowcolor": "#f2f5fa",
           "arrowhead": 0,
           "arrowwidth": 1
          },
          "autotypenumbers": "strict",
          "coloraxis": {
           "colorbar": {
            "outlinewidth": 0,
            "ticks": ""
           }
          },
          "colorscale": {
           "diverging": [
            [
             0,
             "#8e0152"
            ],
            [
             0.1,
             "#c51b7d"
            ],
            [
             0.2,
             "#de77ae"
            ],
            [
             0.3,
             "#f1b6da"
            ],
            [
             0.4,
             "#fde0ef"
            ],
            [
             0.5,
             "#f7f7f7"
            ],
            [
             0.6,
             "#e6f5d0"
            ],
            [
             0.7,
             "#b8e186"
            ],
            [
             0.8,
             "#7fbc41"
            ],
            [
             0.9,
             "#4d9221"
            ],
            [
             1,
             "#276419"
            ]
           ],
           "sequential": [
            [
             0,
             "#0d0887"
            ],
            [
             0.1111111111111111,
             "#46039f"
            ],
            [
             0.2222222222222222,
             "#7201a8"
            ],
            [
             0.3333333333333333,
             "#9c179e"
            ],
            [
             0.4444444444444444,
             "#bd3786"
            ],
            [
             0.5555555555555556,
             "#d8576b"
            ],
            [
             0.6666666666666666,
             "#ed7953"
            ],
            [
             0.7777777777777778,
             "#fb9f3a"
            ],
            [
             0.8888888888888888,
             "#fdca26"
            ],
            [
             1,
             "#f0f921"
            ]
           ],
           "sequentialminus": [
            [
             0,
             "#0d0887"
            ],
            [
             0.1111111111111111,
             "#46039f"
            ],
            [
             0.2222222222222222,
             "#7201a8"
            ],
            [
             0.3333333333333333,
             "#9c179e"
            ],
            [
             0.4444444444444444,
             "#bd3786"
            ],
            [
             0.5555555555555556,
             "#d8576b"
            ],
            [
             0.6666666666666666,
             "#ed7953"
            ],
            [
             0.7777777777777778,
             "#fb9f3a"
            ],
            [
             0.8888888888888888,
             "#fdca26"
            ],
            [
             1,
             "#f0f921"
            ]
           ]
          },
          "colorway": [
           "#636efa",
           "#EF553B",
           "#00cc96",
           "#ab63fa",
           "#FFA15A",
           "#19d3f3",
           "#FF6692",
           "#B6E880",
           "#FF97FF",
           "#FECB52"
          ],
          "font": {
           "color": "#f2f5fa"
          },
          "geo": {
           "bgcolor": "rgb(17,17,17)",
           "lakecolor": "rgb(17,17,17)",
           "landcolor": "rgb(17,17,17)",
           "showlakes": true,
           "showland": true,
           "subunitcolor": "#506784"
          },
          "hoverlabel": {
           "align": "left"
          },
          "hovermode": "closest",
          "mapbox": {
           "style": "dark"
          },
          "paper_bgcolor": "rgb(17,17,17)",
          "plot_bgcolor": "rgb(17,17,17)",
          "polar": {
           "angularaxis": {
            "gridcolor": "#506784",
            "linecolor": "#506784",
            "ticks": ""
           },
           "bgcolor": "rgb(17,17,17)",
           "radialaxis": {
            "gridcolor": "#506784",
            "linecolor": "#506784",
            "ticks": ""
           }
          },
          "scene": {
           "xaxis": {
            "backgroundcolor": "rgb(17,17,17)",
            "gridcolor": "#506784",
            "gridwidth": 2,
            "linecolor": "#506784",
            "showbackground": true,
            "ticks": "",
            "zerolinecolor": "#C8D4E3"
           },
           "yaxis": {
            "backgroundcolor": "rgb(17,17,17)",
            "gridcolor": "#506784",
            "gridwidth": 2,
            "linecolor": "#506784",
            "showbackground": true,
            "ticks": "",
            "zerolinecolor": "#C8D4E3"
           },
           "zaxis": {
            "backgroundcolor": "rgb(17,17,17)",
            "gridcolor": "#506784",
            "gridwidth": 2,
            "linecolor": "#506784",
            "showbackground": true,
            "ticks": "",
            "zerolinecolor": "#C8D4E3"
           }
          },
          "shapedefaults": {
           "line": {
            "color": "#f2f5fa"
           }
          },
          "sliderdefaults": {
           "bgcolor": "#C8D4E3",
           "bordercolor": "rgb(17,17,17)",
           "borderwidth": 1,
           "tickwidth": 0
          },
          "ternary": {
           "aaxis": {
            "gridcolor": "#506784",
            "linecolor": "#506784",
            "ticks": ""
           },
           "baxis": {
            "gridcolor": "#506784",
            "linecolor": "#506784",
            "ticks": ""
           },
           "bgcolor": "rgb(17,17,17)",
           "caxis": {
            "gridcolor": "#506784",
            "linecolor": "#506784",
            "ticks": ""
           }
          },
          "title": {
           "x": 0.05
          },
          "updatemenudefaults": {
           "bgcolor": "#506784",
           "borderwidth": 0
          },
          "xaxis": {
           "automargin": true,
           "gridcolor": "#283442",
           "linecolor": "#506784",
           "ticks": "",
           "title": {
            "standoff": 15
           },
           "zerolinecolor": "#283442",
           "zerolinewidth": 2
          },
          "yaxis": {
           "automargin": true,
           "gridcolor": "#283442",
           "linecolor": "#506784",
           "ticks": "",
           "title": {
            "standoff": 15
           },
           "zerolinecolor": "#283442",
           "zerolinewidth": 2
          }
         }
        },
        "title": {
         "font": {
          "size": 20
         },
         "text": "<b>Count vs Energy"
        },
        "width": 800,
        "xaxis": {
         "anchor": "y",
         "categoryarray": [
          0.73,
          0.652,
          0.588,
          0.405,
          0.52,
          0.479,
          0.625,
          0.524,
          0.31,
          0.78,
          0.548,
          0.663,
          0.525,
          0.557,
          0.587,
          0.425,
          0.445,
          0.566,
          0.185,
          0.296,
          0.816,
          0.449,
          0.379,
          0.402,
          0.635,
          0.807,
          0.385,
          0.731,
          0.378,
          0.762,
          0.613,
          0.664,
          0.264,
          0.89,
          0.317,
          0.728,
          0.391,
          0.523,
          0.637,
          0.75,
          0.705,
          0.7,
          0.783,
          0.67,
          0.621,
          0.545,
          0.564,
          0.871,
          0.643,
          0.862,
          0.716,
          0.431,
          0.809,
          0.819,
          0.719,
          0.578,
          0.42,
          0.804,
          0.627,
          0.669,
          0.704,
          0.744,
          0.684,
          0.71,
          0.911,
          0.609,
          0.372,
          0.825,
          0.714,
          0.502,
          0.653,
          0.676,
          0.573,
          0.503,
          0.74,
          0.532,
          0.769,
          0.537,
          0.893,
          0.521,
          0.56,
          0.586,
          0.847,
          0.813,
          0.754,
          0.698,
          0.912,
          0.559,
          0.633,
          0.505,
          0.473,
          0.661,
          0.797,
          0.553
         ],
         "categoryorder": "array",
         "domain": [
          0,
          1
         ],
         "title": {
          "text": "energy"
         }
        },
        "yaxis": {
         "anchor": "x",
         "domain": [
          0,
          1
         ],
         "title": {
          "text": "count"
         }
        }
       }
      }
     },
     "metadata": {},
     "output_type": "display_data"
    }
   ],
   "source": [
    "Features_copy = Features.copy()\n",
    "Features_copy['energy'] = \\\n",
    "    Features_copy['energy'].fillna('Null')\n",
    "\n",
    "fig=px.histogram(Features_copy,\n",
    "                 x = 'energy',\n",
    "                 color = 'energy',\n",
    "                 title=\"<b>Count vs Energy\",\n",
    "                 color_discrete_sequence=px.colors.qualitative.Vivid,\n",
    "                 width=800, height=500)\n",
    "fig.update_layout(template=\"plotly_dark\")\n",
    "fig.update_layout(title_font_size=20)\n",
    "fig.show()"
   ]
  },
  {
   "cell_type": "code",
   "execution_count": 8,
   "metadata": {},
   "outputs": [
    {
     "data": {
      "application/vnd.plotly.v1+json": {
       "config": {
        "plotlyServerURL": "https://plot.ly"
       },
       "data": [
        {
         "alignmentgroup": "True",
         "bingroup": "x",
         "hovertemplate": "loudness=%{x}<br>count=%{y}<extra></extra>",
         "legendgroup": "-5.934",
         "marker": {
          "color": "rgb(229, 134, 6)",
          "pattern": {
           "shape": ""
          }
         },
         "name": "-5.934",
         "offsetgroup": "-5.934",
         "orientation": "v",
         "showlegend": true,
         "type": "histogram",
         "x": [
          -5.934
         ],
         "xaxis": "x",
         "yaxis": "y"
        },
        {
         "alignmentgroup": "True",
         "bingroup": "x",
         "hovertemplate": "loudness=%{x}<br>count=%{y}<extra></extra>",
         "legendgroup": "-3.183",
         "marker": {
          "color": "rgb(93, 105, 177)",
          "pattern": {
           "shape": ""
          }
         },
         "name": "-3.183",
         "offsetgroup": "-3.183",
         "orientation": "v",
         "showlegend": true,
         "type": "histogram",
         "x": [
          -3.183
         ],
         "xaxis": "x",
         "yaxis": "y"
        },
        {
         "alignmentgroup": "True",
         "bingroup": "x",
         "hovertemplate": "loudness=%{x}<br>count=%{y}<extra></extra>",
         "legendgroup": "-6.4",
         "marker": {
          "color": "rgb(82, 188, 163)",
          "pattern": {
           "shape": ""
          }
         },
         "name": "-6.4",
         "offsetgroup": "-6.4",
         "orientation": "v",
         "showlegend": true,
         "type": "histogram",
         "x": [
          -6.4
         ],
         "xaxis": "x",
         "yaxis": "y"
        },
        {
         "alignmentgroup": "True",
         "bingroup": "x",
         "hovertemplate": "loudness=%{x}<br>count=%{y}<extra></extra>",
         "legendgroup": "-5.679",
         "marker": {
          "color": "rgb(153, 201, 69)",
          "pattern": {
           "shape": ""
          }
         },
         "name": "-5.679",
         "offsetgroup": "-5.679",
         "orientation": "v",
         "showlegend": true,
         "type": "histogram",
         "x": [
          -5.679
         ],
         "xaxis": "x",
         "yaxis": "y"
        },
        {
         "alignmentgroup": "True",
         "bingroup": "x",
         "hovertemplate": "loudness=%{x}<br>count=%{y}<extra></extra>",
         "legendgroup": "-6.136",
         "marker": {
          "color": "rgb(204, 97, 176)",
          "pattern": {
           "shape": ""
          }
         },
         "name": "-6.136",
         "offsetgroup": "-6.136",
         "orientation": "v",
         "showlegend": true,
         "type": "histogram",
         "x": [
          -6.136
         ],
         "xaxis": "x",
         "yaxis": "y"
        },
        {
         "alignmentgroup": "True",
         "bingroup": "x",
         "hovertemplate": "loudness=%{x}<br>count=%{y}<extra></extra>",
         "legendgroup": "-5.574",
         "marker": {
          "color": "rgb(36, 121, 108)",
          "pattern": {
           "shape": ""
          }
         },
         "name": "-5.574",
         "offsetgroup": "-5.574",
         "orientation": "v",
         "showlegend": true,
         "type": "histogram",
         "x": [
          -5.574
         ],
         "xaxis": "x",
         "yaxis": "y"
        },
        {
         "alignmentgroup": "True",
         "bingroup": "x",
         "hovertemplate": "loudness=%{x}<br>count=%{y}<extra></extra>",
         "legendgroup": "-5.609",
         "marker": {
          "color": "rgb(218, 165, 27)",
          "pattern": {
           "shape": ""
          }
         },
         "name": "-5.609",
         "offsetgroup": "-5.609",
         "orientation": "v",
         "showlegend": true,
         "type": "histogram",
         "x": [
          -5.609
         ],
         "xaxis": "x",
         "yaxis": "y"
        },
        {
         "alignmentgroup": "True",
         "bingroup": "x",
         "hovertemplate": "loudness=%{x}<br>count=%{y}<extra></extra>",
         "legendgroup": "-5.599",
         "marker": {
          "color": "rgb(47, 138, 196)",
          "pattern": {
           "shape": ""
          }
         },
         "name": "-5.599",
         "offsetgroup": "-5.599",
         "orientation": "v",
         "showlegend": true,
         "type": "histogram",
         "x": [
          -5.599
         ],
         "xaxis": "x",
         "yaxis": "y"
        },
        {
         "alignmentgroup": "True",
         "bingroup": "x",
         "hovertemplate": "loudness=%{x}<br>count=%{y}<extra></extra>",
         "legendgroup": "-10.164",
         "marker": {
          "color": "rgb(118, 78, 159)",
          "pattern": {
           "shape": ""
          }
         },
         "name": "-10.164",
         "offsetgroup": "-10.164",
         "orientation": "v",
         "showlegend": true,
         "type": "histogram",
         "x": [
          -10.164
         ],
         "xaxis": "x",
         "yaxis": "y"
        },
        {
         "alignmentgroup": "True",
         "bingroup": "x",
         "hovertemplate": "loudness=%{x}<br>count=%{y}<extra></extra>",
         "legendgroup": "-4.374",
         "marker": {
          "color": "rgb(237, 100, 90)",
          "pattern": {
           "shape": ""
          }
         },
         "name": "-4.374",
         "offsetgroup": "-4.374",
         "orientation": "v",
         "showlegend": true,
         "type": "histogram",
         "x": [
          -4.374
         ],
         "xaxis": "x",
         "yaxis": "y"
        },
        {
         "alignmentgroup": "True",
         "bingroup": "x",
         "hovertemplate": "loudness=%{x}<br>count=%{y}<extra></extra>",
         "legendgroup": "-6.049",
         "marker": {
          "color": "rgb(165, 170, 153)",
          "pattern": {
           "shape": ""
          }
         },
         "name": "-6.049",
         "offsetgroup": "-6.049",
         "orientation": "v",
         "showlegend": true,
         "type": "histogram",
         "x": [
          -6.049
         ],
         "xaxis": "x",
         "yaxis": "y"
        },
        {
         "alignmentgroup": "True",
         "bingroup": "x",
         "hovertemplate": "loudness=%{x}<br>count=%{y}<extra></extra>",
         "legendgroup": "-6.818",
         "marker": {
          "color": "rgb(229, 134, 6)",
          "pattern": {
           "shape": ""
          }
         },
         "name": "-6.818",
         "offsetgroup": "-6.818",
         "orientation": "v",
         "showlegend": true,
         "type": "histogram",
         "x": [
          -6.818
         ],
         "xaxis": "x",
         "yaxis": "y"
        },
        {
         "alignmentgroup": "True",
         "bingroup": "x",
         "hovertemplate": "loudness=%{x}<br>count=%{y}<extra></extra>",
         "legendgroup": "-6.9",
         "marker": {
          "color": "rgb(93, 105, 177)",
          "pattern": {
           "shape": ""
          }
         },
         "name": "-6.9",
         "offsetgroup": "-6.9",
         "orientation": "v",
         "showlegend": true,
         "type": "histogram",
         "x": [
          -6.9
         ],
         "xaxis": "x",
         "yaxis": "y"
        },
        {
         "alignmentgroup": "True",
         "bingroup": "x",
         "hovertemplate": "loudness=%{x}<br>count=%{y}<extra></extra>",
         "legendgroup": "-7.398",
         "marker": {
          "color": "rgb(82, 188, 163)",
          "pattern": {
           "shape": ""
          }
         },
         "name": "-7.398",
         "offsetgroup": "-7.398",
         "orientation": "v",
         "showlegend": true,
         "type": "histogram",
         "x": [
          -7.398
         ],
         "xaxis": "x",
         "yaxis": "y"
        },
        {
         "alignmentgroup": "True",
         "bingroup": "x",
         "hovertemplate": "loudness=%{x}<br>count=%{y}<extra></extra>",
         "legendgroup": "-7.015",
         "marker": {
          "color": "rgb(153, 201, 69)",
          "pattern": {
           "shape": ""
          }
         },
         "name": "-7.015",
         "offsetgroup": "-7.015",
         "orientation": "v",
         "showlegend": true,
         "type": "histogram",
         "x": [
          -7.015
         ],
         "xaxis": "x",
         "yaxis": "y"
        },
        {
         "alignmentgroup": "True",
         "bingroup": "x",
         "hovertemplate": "loudness=%{x}<br>count=%{y}<extra></extra>",
         "legendgroup": "-10.965",
         "marker": {
          "color": "rgb(204, 97, 176)",
          "pattern": {
           "shape": ""
          }
         },
         "name": "-10.965",
         "offsetgroup": "-10.965",
         "orientation": "v",
         "showlegend": true,
         "type": "histogram",
         "x": [
          -10.965
         ],
         "xaxis": "x",
         "yaxis": "y"
        },
        {
         "alignmentgroup": "True",
         "bingroup": "x",
         "hovertemplate": "loudness=%{x}<br>count=%{y}<extra></extra>",
         "legendgroup": "-6.061",
         "marker": {
          "color": "rgb(36, 121, 108)",
          "pattern": {
           "shape": ""
          }
         },
         "name": "-6.061",
         "offsetgroup": "-6.061",
         "orientation": "v",
         "showlegend": true,
         "type": "histogram",
         "x": [
          -6.061
         ],
         "xaxis": "x",
         "yaxis": "y"
        },
        {
         "alignmentgroup": "True",
         "bingroup": "x",
         "hovertemplate": "loudness=%{x}<br>count=%{y}<extra></extra>",
         "legendgroup": "-7.23",
         "marker": {
          "color": "rgb(218, 165, 27)",
          "pattern": {
           "shape": ""
          }
         },
         "name": "-7.23",
         "offsetgroup": "-7.23",
         "orientation": "v",
         "showlegend": true,
         "type": "histogram",
         "x": [
          -7.23
         ],
         "xaxis": "x",
         "yaxis": "y"
        },
        {
         "alignmentgroup": "True",
         "bingroup": "x",
         "hovertemplate": "loudness=%{x}<br>count=%{y}<extra></extra>",
         "legendgroup": "-12.205",
         "marker": {
          "color": "rgb(47, 138, 196)",
          "pattern": {
           "shape": ""
          }
         },
         "name": "-12.205",
         "offsetgroup": "-12.205",
         "orientation": "v",
         "showlegend": true,
         "type": "histogram",
         "x": [
          -12.205
         ],
         "xaxis": "x",
         "yaxis": "y"
        },
        {
         "alignmentgroup": "True",
         "bingroup": "x",
         "hovertemplate": "loudness=%{x}<br>count=%{y}<extra></extra>",
         "legendgroup": "-10.109",
         "marker": {
          "color": "rgb(118, 78, 159)",
          "pattern": {
           "shape": ""
          }
         },
         "name": "-10.109",
         "offsetgroup": "-10.109",
         "orientation": "v",
         "showlegend": true,
         "type": "histogram",
         "x": [
          -10.109
         ],
         "xaxis": "x",
         "yaxis": "y"
        },
        {
         "alignmentgroup": "True",
         "bingroup": "x",
         "hovertemplate": "loudness=%{x}<br>count=%{y}<extra></extra>",
         "legendgroup": "-4.209",
         "marker": {
          "color": "rgb(237, 100, 90)",
          "pattern": {
           "shape": ""
          }
         },
         "name": "-4.209",
         "offsetgroup": "-4.209",
         "orientation": "v",
         "showlegend": true,
         "type": "histogram",
         "x": [
          -4.209,
          -4.209
         ],
         "xaxis": "x",
         "yaxis": "y"
        },
        {
         "alignmentgroup": "True",
         "bingroup": "x",
         "hovertemplate": "loudness=%{x}<br>count=%{y}<extra></extra>",
         "legendgroup": "-9.211",
         "marker": {
          "color": "rgb(165, 170, 153)",
          "pattern": {
           "shape": ""
          }
         },
         "name": "-9.211",
         "offsetgroup": "-9.211",
         "orientation": "v",
         "showlegend": true,
         "type": "histogram",
         "x": [
          -9.211
         ],
         "xaxis": "x",
         "yaxis": "y"
        },
        {
         "alignmentgroup": "True",
         "bingroup": "x",
         "hovertemplate": "loudness=%{x}<br>count=%{y}<extra></extra>",
         "legendgroup": "-10.48",
         "marker": {
          "color": "rgb(229, 134, 6)",
          "pattern": {
           "shape": ""
          }
         },
         "name": "-10.48",
         "offsetgroup": "-10.48",
         "orientation": "v",
         "showlegend": true,
         "type": "histogram",
         "x": [
          -10.48
         ],
         "xaxis": "x",
         "yaxis": "y"
        },
        {
         "alignmentgroup": "True",
         "bingroup": "x",
         "hovertemplate": "loudness=%{x}<br>count=%{y}<extra></extra>",
         "legendgroup": "-9.961",
         "marker": {
          "color": "rgb(93, 105, 177)",
          "pattern": {
           "shape": ""
          }
         },
         "name": "-9.961",
         "offsetgroup": "-9.961",
         "orientation": "v",
         "showlegend": true,
         "type": "histogram",
         "x": [
          -9.961
         ],
         "xaxis": "x",
         "yaxis": "y"
        },
        {
         "alignmentgroup": "True",
         "bingroup": "x",
         "hovertemplate": "loudness=%{x}<br>count=%{y}<extra></extra>",
         "legendgroup": "-6.769",
         "marker": {
          "color": "rgb(82, 188, 163)",
          "pattern": {
           "shape": ""
          }
         },
         "name": "-6.769",
         "offsetgroup": "-6.769",
         "orientation": "v",
         "showlegend": true,
         "type": "histogram",
         "x": [
          -6.769
         ],
         "xaxis": "x",
         "yaxis": "y"
        },
        {
         "alignmentgroup": "True",
         "bingroup": "x",
         "hovertemplate": "loudness=%{x}<br>count=%{y}<extra></extra>",
         "legendgroup": "-2.81",
         "marker": {
          "color": "rgb(153, 201, 69)",
          "pattern": {
           "shape": ""
          }
         },
         "name": "-2.81",
         "offsetgroup": "-2.81",
         "orientation": "v",
         "showlegend": true,
         "type": "histogram",
         "x": [
          -2.81
         ],
         "xaxis": "x",
         "yaxis": "y"
        },
        {
         "alignmentgroup": "True",
         "bingroup": "x",
         "hovertemplate": "loudness=%{x}<br>count=%{y}<extra></extra>",
         "legendgroup": "-6.362",
         "marker": {
          "color": "rgb(204, 97, 176)",
          "pattern": {
           "shape": ""
          }
         },
         "name": "-6.362",
         "offsetgroup": "-6.362",
         "orientation": "v",
         "showlegend": true,
         "type": "histogram",
         "x": [
          -6.362
         ],
         "xaxis": "x",
         "yaxis": "y"
        },
        {
         "alignmentgroup": "True",
         "bingroup": "x",
         "hovertemplate": "loudness=%{x}<br>count=%{y}<extra></extra>",
         "legendgroup": "-5.338",
         "marker": {
          "color": "rgb(36, 121, 108)",
          "pattern": {
           "shape": ""
          }
         },
         "name": "-5.338",
         "offsetgroup": "-5.338",
         "orientation": "v",
         "showlegend": true,
         "type": "histogram",
         "x": [
          -5.338
         ],
         "xaxis": "x",
         "yaxis": "y"
        },
        {
         "alignmentgroup": "True",
         "bingroup": "x",
         "hovertemplate": "loudness=%{x}<br>count=%{y}<extra></extra>",
         "legendgroup": "-9.828",
         "marker": {
          "color": "rgb(218, 165, 27)",
          "pattern": {
           "shape": ""
          }
         },
         "name": "-9.828",
         "offsetgroup": "-9.828",
         "orientation": "v",
         "showlegend": true,
         "type": "histogram",
         "x": [
          -9.828
         ],
         "xaxis": "x",
         "yaxis": "y"
        },
        {
         "alignmentgroup": "True",
         "bingroup": "x",
         "hovertemplate": "loudness=%{x}<br>count=%{y}<extra></extra>",
         "legendgroup": "-3.497",
         "marker": {
          "color": "rgb(47, 138, 196)",
          "pattern": {
           "shape": ""
          }
         },
         "name": "-3.497",
         "offsetgroup": "-3.497",
         "orientation": "v",
         "showlegend": true,
         "type": "histogram",
         "x": [
          -3.497
         ],
         "xaxis": "x",
         "yaxis": "y"
        },
        {
         "alignmentgroup": "True",
         "bingroup": "x",
         "hovertemplate": "loudness=%{x}<br>count=%{y}<extra></extra>",
         "legendgroup": "-4.88",
         "marker": {
          "color": "rgb(118, 78, 159)",
          "pattern": {
           "shape": ""
          }
         },
         "name": "-4.88",
         "offsetgroup": "-4.88",
         "orientation": "v",
         "showlegend": true,
         "type": "histogram",
         "x": [
          -4.88
         ],
         "xaxis": "x",
         "yaxis": "y"
        },
        {
         "alignmentgroup": "True",
         "bingroup": "x",
         "hovertemplate": "loudness=%{x}<br>count=%{y}<extra></extra>",
         "legendgroup": "-5.303",
         "marker": {
          "color": "rgb(237, 100, 90)",
          "pattern": {
           "shape": ""
          }
         },
         "name": "-5.303",
         "offsetgroup": "-5.303",
         "orientation": "v",
         "showlegend": true,
         "type": "histogram",
         "x": [
          -5.303
         ],
         "xaxis": "x",
         "yaxis": "y"
        },
        {
         "alignmentgroup": "True",
         "bingroup": "x",
         "hovertemplate": "loudness=%{x}<br>count=%{y}<extra></extra>",
         "legendgroup": "-7.064",
         "marker": {
          "color": "rgb(165, 170, 153)",
          "pattern": {
           "shape": ""
          }
         },
         "name": "-7.064",
         "offsetgroup": "-7.064",
         "orientation": "v",
         "showlegend": true,
         "type": "histogram",
         "x": [
          -7.064
         ],
         "xaxis": "x",
         "yaxis": "y"
        },
        {
         "alignmentgroup": "True",
         "bingroup": "x",
         "hovertemplate": "loudness=%{x}<br>count=%{y}<extra></extra>",
         "legendgroup": "-5.175",
         "marker": {
          "color": "rgb(229, 134, 6)",
          "pattern": {
           "shape": ""
          }
         },
         "name": "-5.175",
         "offsetgroup": "-5.175",
         "orientation": "v",
         "showlegend": true,
         "type": "histogram",
         "x": [
          -5.175
         ],
         "xaxis": "x",
         "yaxis": "y"
        },
        {
         "alignmentgroup": "True",
         "bingroup": "x",
         "hovertemplate": "loudness=%{x}<br>count=%{y}<extra></extra>",
         "legendgroup": "-10.732",
         "marker": {
          "color": "rgb(93, 105, 177)",
          "pattern": {
           "shape": ""
          }
         },
         "name": "-10.732",
         "offsetgroup": "-10.732",
         "orientation": "v",
         "showlegend": true,
         "type": "histogram",
         "x": [
          -10.732
         ],
         "xaxis": "x",
         "yaxis": "y"
        },
        {
         "alignmentgroup": "True",
         "bingroup": "x",
         "hovertemplate": "loudness=%{x}<br>count=%{y}<extra></extra>",
         "legendgroup": "-3.37",
         "marker": {
          "color": "rgb(82, 188, 163)",
          "pattern": {
           "shape": ""
          }
         },
         "name": "-3.37",
         "offsetgroup": "-3.37",
         "orientation": "v",
         "showlegend": true,
         "type": "histogram",
         "x": [
          -3.37
         ],
         "xaxis": "x",
         "yaxis": "y"
        },
        {
         "alignmentgroup": "True",
         "bingroup": "x",
         "hovertemplate": "loudness=%{x}<br>count=%{y}<extra></extra>",
         "legendgroup": "-9.144",
         "marker": {
          "color": "rgb(153, 201, 69)",
          "pattern": {
           "shape": ""
          }
         },
         "name": "-9.144",
         "offsetgroup": "-9.144",
         "orientation": "v",
         "showlegend": true,
         "type": "histogram",
         "x": [
          -9.144
         ],
         "xaxis": "x",
         "yaxis": "y"
        },
        {
         "alignmentgroup": "True",
         "bingroup": "x",
         "hovertemplate": "loudness=%{x}<br>count=%{y}<extra></extra>",
         "legendgroup": "-4.333",
         "marker": {
          "color": "rgb(204, 97, 176)",
          "pattern": {
           "shape": ""
          }
         },
         "name": "-4.333",
         "offsetgroup": "-4.333",
         "orientation": "v",
         "showlegend": true,
         "type": "histogram",
         "x": [
          -4.333
         ],
         "xaxis": "x",
         "yaxis": "y"
        },
        {
         "alignmentgroup": "True",
         "bingroup": "x",
         "hovertemplate": "loudness=%{x}<br>count=%{y}<extra></extra>",
         "legendgroup": "-5.677",
         "marker": {
          "color": "rgb(36, 121, 108)",
          "pattern": {
           "shape": ""
          }
         },
         "name": "-5.677",
         "offsetgroup": "-5.677",
         "orientation": "v",
         "showlegend": true,
         "type": "histogram",
         "x": [
          -5.677
         ],
         "xaxis": "x",
         "yaxis": "y"
        },
        {
         "alignmentgroup": "True",
         "bingroup": "x",
         "hovertemplate": "loudness=%{x}<br>count=%{y}<extra></extra>",
         "legendgroup": "-6.366",
         "marker": {
          "color": "rgb(218, 165, 27)",
          "pattern": {
           "shape": ""
          }
         },
         "name": "-6.366",
         "offsetgroup": "-6.366",
         "orientation": "v",
         "showlegend": true,
         "type": "histogram",
         "x": [
          -6.366
         ],
         "xaxis": "x",
         "yaxis": "y"
        },
        {
         "alignmentgroup": "True",
         "bingroup": "x",
         "hovertemplate": "loudness=%{x}<br>count=%{y}<extra></extra>",
         "legendgroup": "-4.972",
         "marker": {
          "color": "rgb(47, 138, 196)",
          "pattern": {
           "shape": ""
          }
         },
         "name": "-4.972",
         "offsetgroup": "-4.972",
         "orientation": "v",
         "showlegend": true,
         "type": "histogram",
         "x": [
          -4.972
         ],
         "xaxis": "x",
         "yaxis": "y"
        },
        {
         "alignmentgroup": "True",
         "bingroup": "x",
         "hovertemplate": "loudness=%{x}<br>count=%{y}<extra></extra>",
         "legendgroup": "-6.021",
         "marker": {
          "color": "rgb(118, 78, 159)",
          "pattern": {
           "shape": ""
          }
         },
         "name": "-6.021",
         "offsetgroup": "-6.021",
         "orientation": "v",
         "showlegend": true,
         "type": "histogram",
         "x": [
          -6.021
         ],
         "xaxis": "x",
         "yaxis": "y"
        },
        {
         "alignmentgroup": "True",
         "bingroup": "x",
         "hovertemplate": "loudness=%{x}<br>count=%{y}<extra></extra>",
         "legendgroup": "-5.697",
         "marker": {
          "color": "rgb(237, 100, 90)",
          "pattern": {
           "shape": ""
          }
         },
         "name": "-5.697",
         "offsetgroup": "-5.697",
         "orientation": "v",
         "showlegend": true,
         "type": "histogram",
         "x": [
          -5.697
         ],
         "xaxis": "x",
         "yaxis": "y"
        },
        {
         "alignmentgroup": "True",
         "bingroup": "x",
         "hovertemplate": "loudness=%{x}<br>count=%{y}<extra></extra>",
         "legendgroup": "-6.694",
         "marker": {
          "color": "rgb(165, 170, 153)",
          "pattern": {
           "shape": ""
          }
         },
         "name": "-6.694",
         "offsetgroup": "-6.694",
         "orientation": "v",
         "showlegend": true,
         "type": "histogram",
         "x": [
          -6.694
         ],
         "xaxis": "x",
         "yaxis": "y"
        },
        {
         "alignmentgroup": "True",
         "bingroup": "x",
         "hovertemplate": "loudness=%{x}<br>count=%{y}<extra></extra>",
         "legendgroup": "-6.009",
         "marker": {
          "color": "rgb(229, 134, 6)",
          "pattern": {
           "shape": ""
          }
         },
         "name": "-6.009",
         "offsetgroup": "-6.009",
         "orientation": "v",
         "showlegend": true,
         "type": "histogram",
         "x": [
          -6.009
         ],
         "xaxis": "x",
         "yaxis": "y"
        },
        {
         "alignmentgroup": "True",
         "bingroup": "x",
         "hovertemplate": "loudness=%{x}<br>count=%{y}<extra></extra>",
         "legendgroup": "-6.638",
         "marker": {
          "color": "rgb(93, 105, 177)",
          "pattern": {
           "shape": ""
          }
         },
         "name": "-6.638",
         "offsetgroup": "-6.638",
         "orientation": "v",
         "showlegend": true,
         "type": "histogram",
         "x": [
          -6.638
         ],
         "xaxis": "x",
         "yaxis": "y"
        },
        {
         "alignmentgroup": "True",
         "bingroup": "x",
         "hovertemplate": "loudness=%{x}<br>count=%{y}<extra></extra>",
         "legendgroup": "-7.346",
         "marker": {
          "color": "rgb(82, 188, 163)",
          "pattern": {
           "shape": ""
          }
         },
         "name": "-7.346",
         "offsetgroup": "-7.346",
         "orientation": "v",
         "showlegend": true,
         "type": "histogram",
         "x": [
          -7.346
         ],
         "xaxis": "x",
         "yaxis": "y"
        },
        {
         "alignmentgroup": "True",
         "bingroup": "x",
         "hovertemplate": "loudness=%{x}<br>count=%{y}<extra></extra>",
         "legendgroup": "-7.063",
         "marker": {
          "color": "rgb(153, 201, 69)",
          "pattern": {
           "shape": ""
          }
         },
         "name": "-7.063",
         "offsetgroup": "-7.063",
         "orientation": "v",
         "showlegend": true,
         "type": "histogram",
         "x": [
          -7.063
         ],
         "xaxis": "x",
         "yaxis": "y"
        },
        {
         "alignmentgroup": "True",
         "bingroup": "x",
         "hovertemplate": "loudness=%{x}<br>count=%{y}<extra></extra>",
         "legendgroup": "-3.714",
         "marker": {
          "color": "rgb(204, 97, 176)",
          "pattern": {
           "shape": ""
          }
         },
         "name": "-3.714",
         "offsetgroup": "-3.714",
         "orientation": "v",
         "showlegend": true,
         "type": "histogram",
         "x": [
          -3.714
         ],
         "xaxis": "x",
         "yaxis": "y"
        },
        {
         "alignmentgroup": "True",
         "bingroup": "x",
         "hovertemplate": "loudness=%{x}<br>count=%{y}<extra></extra>",
         "legendgroup": "-6.351",
         "marker": {
          "color": "rgb(36, 121, 108)",
          "pattern": {
           "shape": ""
          }
         },
         "name": "-6.351",
         "offsetgroup": "-6.351",
         "orientation": "v",
         "showlegend": true,
         "type": "histogram",
         "x": [
          -6.351
         ],
         "xaxis": "x",
         "yaxis": "y"
        },
        {
         "alignmentgroup": "True",
         "bingroup": "x",
         "hovertemplate": "loudness=%{x}<br>count=%{y}<extra></extra>",
         "legendgroup": "-5.044",
         "marker": {
          "color": "rgb(218, 165, 27)",
          "pattern": {
           "shape": ""
          }
         },
         "name": "-5.044",
         "offsetgroup": "-5.044",
         "orientation": "v",
         "showlegend": true,
         "type": "histogram",
         "x": [
          -5.044
         ],
         "xaxis": "x",
         "yaxis": "y"
        },
        {
         "alignmentgroup": "True",
         "bingroup": "x",
         "hovertemplate": "loudness=%{x}<br>count=%{y}<extra></extra>",
         "legendgroup": "-7.811",
         "marker": {
          "color": "rgb(47, 138, 196)",
          "pattern": {
           "shape": ""
          }
         },
         "name": "-7.811",
         "offsetgroup": "-7.811",
         "orientation": "v",
         "showlegend": true,
         "type": "histogram",
         "x": [
          -7.811
         ],
         "xaxis": "x",
         "yaxis": "y"
        },
        {
         "alignmentgroup": "True",
         "bingroup": "x",
         "hovertemplate": "loudness=%{x}<br>count=%{y}<extra></extra>",
         "legendgroup": "-3.24",
         "marker": {
          "color": "rgb(118, 78, 159)",
          "pattern": {
           "shape": ""
          }
         },
         "name": "-3.24",
         "offsetgroup": "-3.24",
         "orientation": "v",
         "showlegend": true,
         "type": "histogram",
         "x": [
          -3.24
         ],
         "xaxis": "x",
         "yaxis": "y"
        },
        {
         "alignmentgroup": "True",
         "bingroup": "x",
         "hovertemplate": "loudness=%{x}<br>count=%{y}<extra></extra>",
         "legendgroup": "-5.371",
         "marker": {
          "color": "rgb(237, 100, 90)",
          "pattern": {
           "shape": ""
          }
         },
         "name": "-5.371",
         "offsetgroup": "-5.371",
         "orientation": "v",
         "showlegend": true,
         "type": "histogram",
         "x": [
          -5.371
         ],
         "xaxis": "x",
         "yaxis": "y"
        },
        {
         "alignmentgroup": "True",
         "bingroup": "x",
         "hovertemplate": "loudness=%{x}<br>count=%{y}<extra></extra>",
         "legendgroup": "-8.81",
         "marker": {
          "color": "rgb(165, 170, 153)",
          "pattern": {
           "shape": ""
          }
         },
         "name": "-8.81",
         "offsetgroup": "-8.81",
         "orientation": "v",
         "showlegend": true,
         "type": "histogram",
         "x": [
          -8.81
         ],
         "xaxis": "x",
         "yaxis": "y"
        },
        {
         "alignmentgroup": "True",
         "bingroup": "x",
         "hovertemplate": "loudness=%{x}<br>count=%{y}<extra></extra>",
         "legendgroup": "-3.081",
         "marker": {
          "color": "rgb(229, 134, 6)",
          "pattern": {
           "shape": ""
          }
         },
         "name": "-3.081",
         "offsetgroup": "-3.081",
         "orientation": "v",
         "showlegend": true,
         "type": "histogram",
         "x": [
          -3.081
         ],
         "xaxis": "x",
         "yaxis": "y"
        },
        {
         "alignmentgroup": "True",
         "bingroup": "x",
         "hovertemplate": "loudness=%{x}<br>count=%{y}<extra></extra>",
         "legendgroup": "-4.078",
         "marker": {
          "color": "rgb(93, 105, 177)",
          "pattern": {
           "shape": ""
          }
         },
         "name": "-4.078",
         "offsetgroup": "-4.078",
         "orientation": "v",
         "showlegend": true,
         "type": "histogram",
         "x": [
          -4.078
         ],
         "xaxis": "x",
         "yaxis": "y"
        },
        {
         "alignmentgroup": "True",
         "bingroup": "x",
         "hovertemplate": "loudness=%{x}<br>count=%{y}<extra></extra>",
         "legendgroup": "-5.472",
         "marker": {
          "color": "rgb(82, 188, 163)",
          "pattern": {
           "shape": ""
          }
         },
         "name": "-5.472",
         "offsetgroup": "-5.472",
         "orientation": "v",
         "showlegend": true,
         "type": "histogram",
         "x": [
          -5.472
         ],
         "xaxis": "x",
         "yaxis": "y"
        },
        {
         "alignmentgroup": "True",
         "bingroup": "x",
         "hovertemplate": "loudness=%{x}<br>count=%{y}<extra></extra>",
         "legendgroup": "-5.804",
         "marker": {
          "color": "rgb(153, 201, 69)",
          "pattern": {
           "shape": ""
          }
         },
         "name": "-5.804",
         "offsetgroup": "-5.804",
         "orientation": "v",
         "showlegend": true,
         "type": "histogram",
         "x": [
          -5.804
         ],
         "xaxis": "x",
         "yaxis": "y"
        },
        {
         "alignmentgroup": "True",
         "bingroup": "x",
         "hovertemplate": "loudness=%{x}<br>count=%{y}<extra></extra>",
         "legendgroup": "-6.444",
         "marker": {
          "color": "rgb(204, 97, 176)",
          "pattern": {
           "shape": ""
          }
         },
         "name": "-6.444",
         "offsetgroup": "-6.444",
         "orientation": "v",
         "showlegend": true,
         "type": "histogram",
         "x": [
          -6.444
         ],
         "xaxis": "x",
         "yaxis": "y"
        },
        {
         "alignmentgroup": "True",
         "bingroup": "x",
         "hovertemplate": "loudness=%{x}<br>count=%{y}<extra></extra>",
         "legendgroup": "-4.183",
         "marker": {
          "color": "rgb(36, 121, 108)",
          "pattern": {
           "shape": ""
          }
         },
         "name": "-4.183",
         "offsetgroup": "-4.183",
         "orientation": "v",
         "showlegend": true,
         "type": "histogram",
         "x": [
          -4.183
         ],
         "xaxis": "x",
         "yaxis": "y"
        },
        {
         "alignmentgroup": "True",
         "bingroup": "x",
         "hovertemplate": "loudness=%{x}<br>count=%{y}<extra></extra>",
         "legendgroup": "-5.085",
         "marker": {
          "color": "rgb(218, 165, 27)",
          "pattern": {
           "shape": ""
          }
         },
         "name": "-5.085",
         "offsetgroup": "-5.085",
         "orientation": "v",
         "showlegend": true,
         "type": "histogram",
         "x": [
          -5.085
         ],
         "xaxis": "x",
         "yaxis": "y"
        },
        {
         "alignmentgroup": "True",
         "bingroup": "x",
         "hovertemplate": "loudness=%{x}<br>count=%{y}<extra></extra>",
         "legendgroup": "-2.827",
         "marker": {
          "color": "rgb(47, 138, 196)",
          "pattern": {
           "shape": ""
          }
         },
         "name": "-2.827",
         "offsetgroup": "-2.827",
         "orientation": "v",
         "showlegend": true,
         "type": "histogram",
         "x": [
          -2.827
         ],
         "xaxis": "x",
         "yaxis": "y"
        },
        {
         "alignmentgroup": "True",
         "bingroup": "x",
         "hovertemplate": "loudness=%{x}<br>count=%{y}<extra></extra>",
         "legendgroup": "-7.409",
         "marker": {
          "color": "rgb(118, 78, 159)",
          "pattern": {
           "shape": ""
          }
         },
         "name": "-7.409",
         "offsetgroup": "-7.409",
         "orientation": "v",
         "showlegend": true,
         "type": "histogram",
         "x": [
          -7.409
         ],
         "xaxis": "x",
         "yaxis": "y"
        },
        {
         "alignmentgroup": "True",
         "bingroup": "x",
         "hovertemplate": "loudness=%{x}<br>count=%{y}<extra></extra>",
         "legendgroup": "-4.565",
         "marker": {
          "color": "rgb(237, 100, 90)",
          "pattern": {
           "shape": ""
          }
         },
         "name": "-4.565",
         "offsetgroup": "-4.565",
         "orientation": "v",
         "showlegend": true,
         "type": "histogram",
         "x": [
          -4.565
         ],
         "xaxis": "x",
         "yaxis": "y"
        },
        {
         "alignmentgroup": "True",
         "bingroup": "x",
         "hovertemplate": "loudness=%{x}<br>count=%{y}<extra></extra>",
         "legendgroup": "-6.306",
         "marker": {
          "color": "rgb(165, 170, 153)",
          "pattern": {
           "shape": ""
          }
         },
         "name": "-6.306",
         "offsetgroup": "-6.306",
         "orientation": "v",
         "showlegend": true,
         "type": "histogram",
         "x": [
          -6.306
         ],
         "xaxis": "x",
         "yaxis": "y"
        },
        {
         "alignmentgroup": "True",
         "bingroup": "x",
         "hovertemplate": "loudness=%{x}<br>count=%{y}<extra></extra>",
         "legendgroup": "-3.015",
         "marker": {
          "color": "rgb(229, 134, 6)",
          "pattern": {
           "shape": ""
          }
         },
         "name": "-3.015",
         "offsetgroup": "-3.015",
         "orientation": "v",
         "showlegend": true,
         "type": "histogram",
         "x": [
          -3.015
         ],
         "xaxis": "x",
         "yaxis": "y"
        },
        {
         "alignmentgroup": "True",
         "bingroup": "x",
         "hovertemplate": "loudness=%{x}<br>count=%{y}<extra></extra>",
         "legendgroup": "-5.23",
         "marker": {
          "color": "rgb(93, 105, 177)",
          "pattern": {
           "shape": ""
          }
         },
         "name": "-5.23",
         "offsetgroup": "-5.23",
         "orientation": "v",
         "showlegend": true,
         "type": "histogram",
         "x": [
          -5.23
         ],
         "xaxis": "x",
         "yaxis": "y"
        },
        {
         "alignmentgroup": "True",
         "bingroup": "x",
         "hovertemplate": "loudness=%{x}<br>count=%{y}<extra></extra>",
         "legendgroup": "-7.223",
         "marker": {
          "color": "rgb(82, 188, 163)",
          "pattern": {
           "shape": ""
          }
         },
         "name": "-7.223",
         "offsetgroup": "-7.223",
         "orientation": "v",
         "showlegend": true,
         "type": "histogram",
         "x": [
          -7.223
         ],
         "xaxis": "x",
         "yaxis": "y"
        },
        {
         "alignmentgroup": "True",
         "bingroup": "x",
         "hovertemplate": "loudness=%{x}<br>count=%{y}<extra></extra>",
         "legendgroup": "-8.237",
         "marker": {
          "color": "rgb(153, 201, 69)",
          "pattern": {
           "shape": ""
          }
         },
         "name": "-8.237",
         "offsetgroup": "-8.237",
         "orientation": "v",
         "showlegend": true,
         "type": "histogram",
         "x": [
          -8.237
         ],
         "xaxis": "x",
         "yaxis": "y"
        },
        {
         "alignmentgroup": "True",
         "bingroup": "x",
         "hovertemplate": "loudness=%{x}<br>count=%{y}<extra></extra>",
         "legendgroup": "-3.787",
         "marker": {
          "color": "rgb(204, 97, 176)",
          "pattern": {
           "shape": ""
          }
         },
         "name": "-3.787",
         "offsetgroup": "-3.787",
         "orientation": "v",
         "showlegend": true,
         "type": "histogram",
         "x": [
          -3.787
         ],
         "xaxis": "x",
         "yaxis": "y"
        },
        {
         "alignmentgroup": "True",
         "bingroup": "x",
         "hovertemplate": "loudness=%{x}<br>count=%{y}<extra></extra>",
         "legendgroup": "-6.645",
         "marker": {
          "color": "rgb(36, 121, 108)",
          "pattern": {
           "shape": ""
          }
         },
         "name": "-6.645",
         "offsetgroup": "-6.645",
         "orientation": "v",
         "showlegend": true,
         "type": "histogram",
         "x": [
          -6.645
         ],
         "xaxis": "x",
         "yaxis": "y"
        },
        {
         "alignmentgroup": "True",
         "bingroup": "x",
         "hovertemplate": "loudness=%{x}<br>count=%{y}<extra></extra>",
         "legendgroup": "-7.539",
         "marker": {
          "color": "rgb(218, 165, 27)",
          "pattern": {
           "shape": ""
          }
         },
         "name": "-7.539",
         "offsetgroup": "-7.539",
         "orientation": "v",
         "showlegend": true,
         "type": "histogram",
         "x": [
          -7.539
         ],
         "xaxis": "x",
         "yaxis": "y"
        },
        {
         "alignmentgroup": "True",
         "bingroup": "x",
         "hovertemplate": "loudness=%{x}<br>count=%{y}<extra></extra>",
         "legendgroup": "-5.634",
         "marker": {
          "color": "rgb(47, 138, 196)",
          "pattern": {
           "shape": ""
          }
         },
         "name": "-5.634",
         "offsetgroup": "-5.634",
         "orientation": "v",
         "showlegend": true,
         "type": "histogram",
         "x": [
          -5.634
         ],
         "xaxis": "x",
         "yaxis": "y"
        },
        {
         "alignmentgroup": "True",
         "bingroup": "x",
         "hovertemplate": "loudness=%{x}<br>count=%{y}<extra></extra>",
         "legendgroup": "-5.041",
         "marker": {
          "color": "rgb(118, 78, 159)",
          "pattern": {
           "shape": ""
          }
         },
         "name": "-5.041",
         "offsetgroup": "-5.041",
         "orientation": "v",
         "showlegend": true,
         "type": "histogram",
         "x": [
          -5.041
         ],
         "xaxis": "x",
         "yaxis": "y"
        },
        {
         "alignmentgroup": "True",
         "bingroup": "x",
         "hovertemplate": "loudness=%{x}<br>count=%{y}<extra></extra>",
         "legendgroup": "-10.059",
         "marker": {
          "color": "rgb(237, 100, 90)",
          "pattern": {
           "shape": ""
          }
         },
         "name": "-10.059",
         "offsetgroup": "-10.059",
         "orientation": "v",
         "showlegend": true,
         "type": "histogram",
         "x": [
          -10.059
         ],
         "xaxis": "x",
         "yaxis": "y"
        },
        {
         "alignmentgroup": "True",
         "bingroup": "x",
         "hovertemplate": "loudness=%{x}<br>count=%{y}<extra></extra>",
         "legendgroup": "-6.725",
         "marker": {
          "color": "rgb(165, 170, 153)",
          "pattern": {
           "shape": ""
          }
         },
         "name": "-6.725",
         "offsetgroup": "-6.725",
         "orientation": "v",
         "showlegend": true,
         "type": "histogram",
         "x": [
          -6.725
         ],
         "xaxis": "x",
         "yaxis": "y"
        },
        {
         "alignmentgroup": "True",
         "bingroup": "x",
         "hovertemplate": "loudness=%{x}<br>count=%{y}<extra></extra>",
         "legendgroup": "-6.595",
         "marker": {
          "color": "rgb(229, 134, 6)",
          "pattern": {
           "shape": ""
          }
         },
         "name": "-6.595",
         "offsetgroup": "-6.595",
         "orientation": "v",
         "showlegend": true,
         "type": "histogram",
         "x": [
          -6.595
         ],
         "xaxis": "x",
         "yaxis": "y"
        },
        {
         "alignmentgroup": "True",
         "bingroup": "x",
         "hovertemplate": "loudness=%{x}<br>count=%{y}<extra></extra>",
         "legendgroup": "-7.596",
         "marker": {
          "color": "rgb(93, 105, 177)",
          "pattern": {
           "shape": ""
          }
         },
         "name": "-7.596",
         "offsetgroup": "-7.596",
         "orientation": "v",
         "showlegend": true,
         "type": "histogram",
         "x": [
          -7.596
         ],
         "xaxis": "x",
         "yaxis": "y"
        },
        {
         "alignmentgroup": "True",
         "bingroup": "x",
         "hovertemplate": "loudness=%{x}<br>count=%{y}<extra></extra>",
         "legendgroup": "-5.043",
         "marker": {
          "color": "rgb(82, 188, 163)",
          "pattern": {
           "shape": ""
          }
         },
         "name": "-5.043",
         "offsetgroup": "-5.043",
         "orientation": "v",
         "showlegend": true,
         "type": "histogram",
         "x": [
          -5.043
         ],
         "xaxis": "x",
         "yaxis": "y"
        },
        {
         "alignmentgroup": "True",
         "bingroup": "x",
         "hovertemplate": "loudness=%{x}<br>count=%{y}<extra></extra>",
         "legendgroup": "-3.724",
         "marker": {
          "color": "rgb(153, 201, 69)",
          "pattern": {
           "shape": ""
          }
         },
         "name": "-3.724",
         "offsetgroup": "-3.724",
         "orientation": "v",
         "showlegend": true,
         "type": "histogram",
         "x": [
          -3.724
         ],
         "xaxis": "x",
         "yaxis": "y"
        },
        {
         "alignmentgroup": "True",
         "bingroup": "x",
         "hovertemplate": "loudness=%{x}<br>count=%{y}<extra></extra>",
         "legendgroup": "-4.353",
         "marker": {
          "color": "rgb(204, 97, 176)",
          "pattern": {
           "shape": ""
          }
         },
         "name": "-4.353",
         "offsetgroup": "-4.353",
         "orientation": "v",
         "showlegend": true,
         "type": "histogram",
         "x": [
          -4.353
         ],
         "xaxis": "x",
         "yaxis": "y"
        },
        {
         "alignmentgroup": "True",
         "bingroup": "x",
         "hovertemplate": "loudness=%{x}<br>count=%{y}<extra></extra>",
         "legendgroup": "-5.723",
         "marker": {
          "color": "rgb(36, 121, 108)",
          "pattern": {
           "shape": ""
          }
         },
         "name": "-5.723",
         "offsetgroup": "-5.723",
         "orientation": "v",
         "showlegend": true,
         "type": "histogram",
         "x": [
          -5.723
         ],
         "xaxis": "x",
         "yaxis": "y"
        },
        {
         "alignmentgroup": "True",
         "bingroup": "x",
         "hovertemplate": "loudness=%{x}<br>count=%{y}<extra></extra>",
         "legendgroup": "-4.097",
         "marker": {
          "color": "rgb(218, 165, 27)",
          "pattern": {
           "shape": ""
          }
         },
         "name": "-4.097",
         "offsetgroup": "-4.097",
         "orientation": "v",
         "showlegend": true,
         "type": "histogram",
         "x": [
          -4.097
         ],
         "xaxis": "x",
         "yaxis": "y"
        },
        {
         "alignmentgroup": "True",
         "bingroup": "x",
         "hovertemplate": "loudness=%{x}<br>count=%{y}<extra></extra>",
         "legendgroup": "-8.492",
         "marker": {
          "color": "rgb(47, 138, 196)",
          "pattern": {
           "shape": ""
          }
         },
         "name": "-8.492",
         "offsetgroup": "-8.492",
         "orientation": "v",
         "showlegend": true,
         "type": "histogram",
         "x": [
          -8.492
         ],
         "xaxis": "x",
         "yaxis": "y"
        },
        {
         "alignmentgroup": "True",
         "bingroup": "x",
         "hovertemplate": "loudness=%{x}<br>count=%{y}<extra></extra>",
         "legendgroup": "-4.961",
         "marker": {
          "color": "rgb(118, 78, 159)",
          "pattern": {
           "shape": ""
          }
         },
         "name": "-4.961",
         "offsetgroup": "-4.961",
         "orientation": "v",
         "showlegend": true,
         "type": "histogram",
         "x": [
          -4.961
         ],
         "xaxis": "x",
         "yaxis": "y"
        },
        {
         "alignmentgroup": "True",
         "bingroup": "x",
         "hovertemplate": "loudness=%{x}<br>count=%{y}<extra></extra>",
         "legendgroup": "-6.687",
         "marker": {
          "color": "rgb(237, 100, 90)",
          "pattern": {
           "shape": ""
          }
         },
         "name": "-6.687",
         "offsetgroup": "-6.687",
         "orientation": "v",
         "showlegend": true,
         "type": "histogram",
         "x": [
          -6.687
         ],
         "xaxis": "x",
         "yaxis": "y"
        },
        {
         "alignmentgroup": "True",
         "bingroup": "x",
         "hovertemplate": "loudness=%{x}<br>count=%{y}<extra></extra>",
         "legendgroup": "-3.237",
         "marker": {
          "color": "rgb(165, 170, 153)",
          "pattern": {
           "shape": ""
          }
         },
         "name": "-3.237",
         "offsetgroup": "-3.237",
         "orientation": "v",
         "showlegend": true,
         "type": "histogram",
         "x": [
          -3.237
         ],
         "xaxis": "x",
         "yaxis": "y"
        },
        {
         "alignmentgroup": "True",
         "bingroup": "x",
         "hovertemplate": "loudness=%{x}<br>count=%{y}<extra></extra>",
         "legendgroup": "-4.063",
         "marker": {
          "color": "rgb(229, 134, 6)",
          "pattern": {
           "shape": ""
          }
         },
         "name": "-4.063",
         "offsetgroup": "-4.063",
         "orientation": "v",
         "showlegend": true,
         "type": "histogram",
         "x": [
          -4.063
         ],
         "xaxis": "x",
         "yaxis": "y"
        },
        {
         "alignmentgroup": "True",
         "bingroup": "x",
         "hovertemplate": "loudness=%{x}<br>count=%{y}<extra></extra>",
         "legendgroup": "-6.684",
         "marker": {
          "color": "rgb(93, 105, 177)",
          "pattern": {
           "shape": ""
          }
         },
         "name": "-6.684",
         "offsetgroup": "-6.684",
         "orientation": "v",
         "showlegend": true,
         "type": "histogram",
         "x": [
          -6.684
         ],
         "xaxis": "x",
         "yaxis": "y"
        },
        {
         "alignmentgroup": "True",
         "bingroup": "x",
         "hovertemplate": "loudness=%{x}<br>count=%{y}<extra></extra>",
         "legendgroup": "-5.608",
         "marker": {
          "color": "rgb(82, 188, 163)",
          "pattern": {
           "shape": ""
          }
         },
         "name": "-5.608",
         "offsetgroup": "-5.608",
         "orientation": "v",
         "showlegend": true,
         "type": "histogram",
         "x": [
          -5.608
         ],
         "xaxis": "x",
         "yaxis": "y"
        },
        {
         "alignmentgroup": "True",
         "bingroup": "x",
         "hovertemplate": "loudness=%{x}<br>count=%{y}<extra></extra>",
         "legendgroup": "-4.556",
         "marker": {
          "color": "rgb(153, 201, 69)",
          "pattern": {
           "shape": ""
          }
         },
         "name": "-4.556",
         "offsetgroup": "-4.556",
         "orientation": "v",
         "showlegend": true,
         "type": "histogram",
         "x": [
          -4.556
         ],
         "xaxis": "x",
         "yaxis": "y"
        },
        {
         "alignmentgroup": "True",
         "bingroup": "x",
         "hovertemplate": "loudness=%{x}<br>count=%{y}<extra></extra>",
         "legendgroup": "-9.222",
         "marker": {
          "color": "rgb(204, 97, 176)",
          "pattern": {
           "shape": ""
          }
         },
         "name": "-9.222",
         "offsetgroup": "-9.222",
         "orientation": "v",
         "showlegend": true,
         "type": "histogram",
         "x": [
          -9.222
         ],
         "xaxis": "x",
         "yaxis": "y"
        },
        {
         "alignmentgroup": "True",
         "bingroup": "x",
         "hovertemplate": "loudness=%{x}<br>count=%{y}<extra></extra>",
         "legendgroup": "-6.726",
         "marker": {
          "color": "rgb(36, 121, 108)",
          "pattern": {
           "shape": ""
          }
         },
         "name": "-6.726",
         "offsetgroup": "-6.726",
         "orientation": "v",
         "showlegend": true,
         "type": "histogram",
         "x": [
          -6.726
         ],
         "xaxis": "x",
         "yaxis": "y"
        },
        {
         "alignmentgroup": "True",
         "bingroup": "x",
         "hovertemplate": "loudness=%{x}<br>count=%{y}<extra></extra>",
         "legendgroup": "-7.621",
         "marker": {
          "color": "rgb(218, 165, 27)",
          "pattern": {
           "shape": ""
          }
         },
         "name": "-7.621",
         "offsetgroup": "-7.621",
         "orientation": "v",
         "showlegend": true,
         "type": "histogram",
         "x": [
          -7.621
         ],
         "xaxis": "x",
         "yaxis": "y"
        },
        {
         "alignmentgroup": "True",
         "bingroup": "x",
         "hovertemplate": "loudness=%{x}<br>count=%{y}<extra></extra>",
         "legendgroup": "-5.829",
         "marker": {
          "color": "rgb(47, 138, 196)",
          "pattern": {
           "shape": ""
          }
         },
         "name": "-5.829",
         "offsetgroup": "-5.829",
         "orientation": "v",
         "showlegend": true,
         "type": "histogram",
         "x": [
          -5.829
         ],
         "xaxis": "x",
         "yaxis": "y"
        },
        {
         "alignmentgroup": "True",
         "bingroup": "x",
         "hovertemplate": "loudness=%{x}<br>count=%{y}<extra></extra>",
         "legendgroup": "-7.227",
         "marker": {
          "color": "rgb(118, 78, 159)",
          "pattern": {
           "shape": ""
          }
         },
         "name": "-7.227",
         "offsetgroup": "-7.227",
         "orientation": "v",
         "showlegend": true,
         "type": "histogram",
         "x": [
          -7.227
         ],
         "xaxis": "x",
         "yaxis": "y"
        },
        {
         "alignmentgroup": "True",
         "bingroup": "x",
         "hovertemplate": "loudness=%{x}<br>count=%{y}<extra></extra>",
         "legendgroup": "-4.787",
         "marker": {
          "color": "rgb(237, 100, 90)",
          "pattern": {
           "shape": ""
          }
         },
         "name": "-4.787",
         "offsetgroup": "-4.787",
         "orientation": "v",
         "showlegend": true,
         "type": "histogram",
         "x": [
          -4.787
         ],
         "xaxis": "x",
         "yaxis": "y"
        },
        {
         "alignmentgroup": "True",
         "bingroup": "x",
         "hovertemplate": "loudness=%{x}<br>count=%{y}<extra></extra>",
         "legendgroup": "-5.51",
         "marker": {
          "color": "rgb(165, 170, 153)",
          "pattern": {
           "shape": ""
          }
         },
         "name": "-5.51",
         "offsetgroup": "-5.51",
         "orientation": "v",
         "showlegend": true,
         "type": "histogram",
         "x": [
          -5.51
         ],
         "xaxis": "x",
         "yaxis": "y"
        }
       ],
       "layout": {
        "barmode": "relative",
        "height": 500,
        "legend": {
         "title": {
          "text": "loudness"
         },
         "tracegroupgap": 0
        },
        "template": {
         "data": {
          "bar": [
           {
            "error_x": {
             "color": "#f2f5fa"
            },
            "error_y": {
             "color": "#f2f5fa"
            },
            "marker": {
             "line": {
              "color": "rgb(17,17,17)",
              "width": 0.5
             },
             "pattern": {
              "fillmode": "overlay",
              "size": 10,
              "solidity": 0.2
             }
            },
            "type": "bar"
           }
          ],
          "barpolar": [
           {
            "marker": {
             "line": {
              "color": "rgb(17,17,17)",
              "width": 0.5
             },
             "pattern": {
              "fillmode": "overlay",
              "size": 10,
              "solidity": 0.2
             }
            },
            "type": "barpolar"
           }
          ],
          "carpet": [
           {
            "aaxis": {
             "endlinecolor": "#A2B1C6",
             "gridcolor": "#506784",
             "linecolor": "#506784",
             "minorgridcolor": "#506784",
             "startlinecolor": "#A2B1C6"
            },
            "baxis": {
             "endlinecolor": "#A2B1C6",
             "gridcolor": "#506784",
             "linecolor": "#506784",
             "minorgridcolor": "#506784",
             "startlinecolor": "#A2B1C6"
            },
            "type": "carpet"
           }
          ],
          "choropleth": [
           {
            "colorbar": {
             "outlinewidth": 0,
             "ticks": ""
            },
            "type": "choropleth"
           }
          ],
          "contour": [
           {
            "colorbar": {
             "outlinewidth": 0,
             "ticks": ""
            },
            "colorscale": [
             [
              0,
              "#0d0887"
             ],
             [
              0.1111111111111111,
              "#46039f"
             ],
             [
              0.2222222222222222,
              "#7201a8"
             ],
             [
              0.3333333333333333,
              "#9c179e"
             ],
             [
              0.4444444444444444,
              "#bd3786"
             ],
             [
              0.5555555555555556,
              "#d8576b"
             ],
             [
              0.6666666666666666,
              "#ed7953"
             ],
             [
              0.7777777777777778,
              "#fb9f3a"
             ],
             [
              0.8888888888888888,
              "#fdca26"
             ],
             [
              1,
              "#f0f921"
             ]
            ],
            "type": "contour"
           }
          ],
          "contourcarpet": [
           {
            "colorbar": {
             "outlinewidth": 0,
             "ticks": ""
            },
            "type": "contourcarpet"
           }
          ],
          "heatmap": [
           {
            "colorbar": {
             "outlinewidth": 0,
             "ticks": ""
            },
            "colorscale": [
             [
              0,
              "#0d0887"
             ],
             [
              0.1111111111111111,
              "#46039f"
             ],
             [
              0.2222222222222222,
              "#7201a8"
             ],
             [
              0.3333333333333333,
              "#9c179e"
             ],
             [
              0.4444444444444444,
              "#bd3786"
             ],
             [
              0.5555555555555556,
              "#d8576b"
             ],
             [
              0.6666666666666666,
              "#ed7953"
             ],
             [
              0.7777777777777778,
              "#fb9f3a"
             ],
             [
              0.8888888888888888,
              "#fdca26"
             ],
             [
              1,
              "#f0f921"
             ]
            ],
            "type": "heatmap"
           }
          ],
          "heatmapgl": [
           {
            "colorbar": {
             "outlinewidth": 0,
             "ticks": ""
            },
            "colorscale": [
             [
              0,
              "#0d0887"
             ],
             [
              0.1111111111111111,
              "#46039f"
             ],
             [
              0.2222222222222222,
              "#7201a8"
             ],
             [
              0.3333333333333333,
              "#9c179e"
             ],
             [
              0.4444444444444444,
              "#bd3786"
             ],
             [
              0.5555555555555556,
              "#d8576b"
             ],
             [
              0.6666666666666666,
              "#ed7953"
             ],
             [
              0.7777777777777778,
              "#fb9f3a"
             ],
             [
              0.8888888888888888,
              "#fdca26"
             ],
             [
              1,
              "#f0f921"
             ]
            ],
            "type": "heatmapgl"
           }
          ],
          "histogram": [
           {
            "marker": {
             "pattern": {
              "fillmode": "overlay",
              "size": 10,
              "solidity": 0.2
             }
            },
            "type": "histogram"
           }
          ],
          "histogram2d": [
           {
            "colorbar": {
             "outlinewidth": 0,
             "ticks": ""
            },
            "colorscale": [
             [
              0,
              "#0d0887"
             ],
             [
              0.1111111111111111,
              "#46039f"
             ],
             [
              0.2222222222222222,
              "#7201a8"
             ],
             [
              0.3333333333333333,
              "#9c179e"
             ],
             [
              0.4444444444444444,
              "#bd3786"
             ],
             [
              0.5555555555555556,
              "#d8576b"
             ],
             [
              0.6666666666666666,
              "#ed7953"
             ],
             [
              0.7777777777777778,
              "#fb9f3a"
             ],
             [
              0.8888888888888888,
              "#fdca26"
             ],
             [
              1,
              "#f0f921"
             ]
            ],
            "type": "histogram2d"
           }
          ],
          "histogram2dcontour": [
           {
            "colorbar": {
             "outlinewidth": 0,
             "ticks": ""
            },
            "colorscale": [
             [
              0,
              "#0d0887"
             ],
             [
              0.1111111111111111,
              "#46039f"
             ],
             [
              0.2222222222222222,
              "#7201a8"
             ],
             [
              0.3333333333333333,
              "#9c179e"
             ],
             [
              0.4444444444444444,
              "#bd3786"
             ],
             [
              0.5555555555555556,
              "#d8576b"
             ],
             [
              0.6666666666666666,
              "#ed7953"
             ],
             [
              0.7777777777777778,
              "#fb9f3a"
             ],
             [
              0.8888888888888888,
              "#fdca26"
             ],
             [
              1,
              "#f0f921"
             ]
            ],
            "type": "histogram2dcontour"
           }
          ],
          "mesh3d": [
           {
            "colorbar": {
             "outlinewidth": 0,
             "ticks": ""
            },
            "type": "mesh3d"
           }
          ],
          "parcoords": [
           {
            "line": {
             "colorbar": {
              "outlinewidth": 0,
              "ticks": ""
             }
            },
            "type": "parcoords"
           }
          ],
          "pie": [
           {
            "automargin": true,
            "type": "pie"
           }
          ],
          "scatter": [
           {
            "marker": {
             "line": {
              "color": "#283442"
             }
            },
            "type": "scatter"
           }
          ],
          "scatter3d": [
           {
            "line": {
             "colorbar": {
              "outlinewidth": 0,
              "ticks": ""
             }
            },
            "marker": {
             "colorbar": {
              "outlinewidth": 0,
              "ticks": ""
             }
            },
            "type": "scatter3d"
           }
          ],
          "scattercarpet": [
           {
            "marker": {
             "colorbar": {
              "outlinewidth": 0,
              "ticks": ""
             }
            },
            "type": "scattercarpet"
           }
          ],
          "scattergeo": [
           {
            "marker": {
             "colorbar": {
              "outlinewidth": 0,
              "ticks": ""
             }
            },
            "type": "scattergeo"
           }
          ],
          "scattergl": [
           {
            "marker": {
             "line": {
              "color": "#283442"
             }
            },
            "type": "scattergl"
           }
          ],
          "scattermapbox": [
           {
            "marker": {
             "colorbar": {
              "outlinewidth": 0,
              "ticks": ""
             }
            },
            "type": "scattermapbox"
           }
          ],
          "scatterpolar": [
           {
            "marker": {
             "colorbar": {
              "outlinewidth": 0,
              "ticks": ""
             }
            },
            "type": "scatterpolar"
           }
          ],
          "scatterpolargl": [
           {
            "marker": {
             "colorbar": {
              "outlinewidth": 0,
              "ticks": ""
             }
            },
            "type": "scatterpolargl"
           }
          ],
          "scatterternary": [
           {
            "marker": {
             "colorbar": {
              "outlinewidth": 0,
              "ticks": ""
             }
            },
            "type": "scatterternary"
           }
          ],
          "surface": [
           {
            "colorbar": {
             "outlinewidth": 0,
             "ticks": ""
            },
            "colorscale": [
             [
              0,
              "#0d0887"
             ],
             [
              0.1111111111111111,
              "#46039f"
             ],
             [
              0.2222222222222222,
              "#7201a8"
             ],
             [
              0.3333333333333333,
              "#9c179e"
             ],
             [
              0.4444444444444444,
              "#bd3786"
             ],
             [
              0.5555555555555556,
              "#d8576b"
             ],
             [
              0.6666666666666666,
              "#ed7953"
             ],
             [
              0.7777777777777778,
              "#fb9f3a"
             ],
             [
              0.8888888888888888,
              "#fdca26"
             ],
             [
              1,
              "#f0f921"
             ]
            ],
            "type": "surface"
           }
          ],
          "table": [
           {
            "cells": {
             "fill": {
              "color": "#506784"
             },
             "line": {
              "color": "rgb(17,17,17)"
             }
            },
            "header": {
             "fill": {
              "color": "#2a3f5f"
             },
             "line": {
              "color": "rgb(17,17,17)"
             }
            },
            "type": "table"
           }
          ]
         },
         "layout": {
          "annotationdefaults": {
           "arrowcolor": "#f2f5fa",
           "arrowhead": 0,
           "arrowwidth": 1
          },
          "autotypenumbers": "strict",
          "coloraxis": {
           "colorbar": {
            "outlinewidth": 0,
            "ticks": ""
           }
          },
          "colorscale": {
           "diverging": [
            [
             0,
             "#8e0152"
            ],
            [
             0.1,
             "#c51b7d"
            ],
            [
             0.2,
             "#de77ae"
            ],
            [
             0.3,
             "#f1b6da"
            ],
            [
             0.4,
             "#fde0ef"
            ],
            [
             0.5,
             "#f7f7f7"
            ],
            [
             0.6,
             "#e6f5d0"
            ],
            [
             0.7,
             "#b8e186"
            ],
            [
             0.8,
             "#7fbc41"
            ],
            [
             0.9,
             "#4d9221"
            ],
            [
             1,
             "#276419"
            ]
           ],
           "sequential": [
            [
             0,
             "#0d0887"
            ],
            [
             0.1111111111111111,
             "#46039f"
            ],
            [
             0.2222222222222222,
             "#7201a8"
            ],
            [
             0.3333333333333333,
             "#9c179e"
            ],
            [
             0.4444444444444444,
             "#bd3786"
            ],
            [
             0.5555555555555556,
             "#d8576b"
            ],
            [
             0.6666666666666666,
             "#ed7953"
            ],
            [
             0.7777777777777778,
             "#fb9f3a"
            ],
            [
             0.8888888888888888,
             "#fdca26"
            ],
            [
             1,
             "#f0f921"
            ]
           ],
           "sequentialminus": [
            [
             0,
             "#0d0887"
            ],
            [
             0.1111111111111111,
             "#46039f"
            ],
            [
             0.2222222222222222,
             "#7201a8"
            ],
            [
             0.3333333333333333,
             "#9c179e"
            ],
            [
             0.4444444444444444,
             "#bd3786"
            ],
            [
             0.5555555555555556,
             "#d8576b"
            ],
            [
             0.6666666666666666,
             "#ed7953"
            ],
            [
             0.7777777777777778,
             "#fb9f3a"
            ],
            [
             0.8888888888888888,
             "#fdca26"
            ],
            [
             1,
             "#f0f921"
            ]
           ]
          },
          "colorway": [
           "#636efa",
           "#EF553B",
           "#00cc96",
           "#ab63fa",
           "#FFA15A",
           "#19d3f3",
           "#FF6692",
           "#B6E880",
           "#FF97FF",
           "#FECB52"
          ],
          "font": {
           "color": "#f2f5fa"
          },
          "geo": {
           "bgcolor": "rgb(17,17,17)",
           "lakecolor": "rgb(17,17,17)",
           "landcolor": "rgb(17,17,17)",
           "showlakes": true,
           "showland": true,
           "subunitcolor": "#506784"
          },
          "hoverlabel": {
           "align": "left"
          },
          "hovermode": "closest",
          "mapbox": {
           "style": "dark"
          },
          "paper_bgcolor": "rgb(17,17,17)",
          "plot_bgcolor": "rgb(17,17,17)",
          "polar": {
           "angularaxis": {
            "gridcolor": "#506784",
            "linecolor": "#506784",
            "ticks": ""
           },
           "bgcolor": "rgb(17,17,17)",
           "radialaxis": {
            "gridcolor": "#506784",
            "linecolor": "#506784",
            "ticks": ""
           }
          },
          "scene": {
           "xaxis": {
            "backgroundcolor": "rgb(17,17,17)",
            "gridcolor": "#506784",
            "gridwidth": 2,
            "linecolor": "#506784",
            "showbackground": true,
            "ticks": "",
            "zerolinecolor": "#C8D4E3"
           },
           "yaxis": {
            "backgroundcolor": "rgb(17,17,17)",
            "gridcolor": "#506784",
            "gridwidth": 2,
            "linecolor": "#506784",
            "showbackground": true,
            "ticks": "",
            "zerolinecolor": "#C8D4E3"
           },
           "zaxis": {
            "backgroundcolor": "rgb(17,17,17)",
            "gridcolor": "#506784",
            "gridwidth": 2,
            "linecolor": "#506784",
            "showbackground": true,
            "ticks": "",
            "zerolinecolor": "#C8D4E3"
           }
          },
          "shapedefaults": {
           "line": {
            "color": "#f2f5fa"
           }
          },
          "sliderdefaults": {
           "bgcolor": "#C8D4E3",
           "bordercolor": "rgb(17,17,17)",
           "borderwidth": 1,
           "tickwidth": 0
          },
          "ternary": {
           "aaxis": {
            "gridcolor": "#506784",
            "linecolor": "#506784",
            "ticks": ""
           },
           "baxis": {
            "gridcolor": "#506784",
            "linecolor": "#506784",
            "ticks": ""
           },
           "bgcolor": "rgb(17,17,17)",
           "caxis": {
            "gridcolor": "#506784",
            "linecolor": "#506784",
            "ticks": ""
           }
          },
          "title": {
           "x": 0.05
          },
          "updatemenudefaults": {
           "bgcolor": "#506784",
           "borderwidth": 0
          },
          "xaxis": {
           "automargin": true,
           "gridcolor": "#283442",
           "linecolor": "#506784",
           "ticks": "",
           "title": {
            "standoff": 15
           },
           "zerolinecolor": "#283442",
           "zerolinewidth": 2
          },
          "yaxis": {
           "automargin": true,
           "gridcolor": "#283442",
           "linecolor": "#506784",
           "ticks": "",
           "title": {
            "standoff": 15
           },
           "zerolinecolor": "#283442",
           "zerolinewidth": 2
          }
         }
        },
        "title": {
         "font": {
          "size": 20
         },
         "text": "<b>Count vs Loudness"
        },
        "width": 800,
        "xaxis": {
         "anchor": "y",
         "categoryarray": [
          -5.934,
          -3.183,
          -6.4,
          -5.679,
          -6.136,
          -5.574,
          -5.609,
          -5.599,
          -10.164,
          -4.374,
          -6.049,
          -6.818,
          -6.9,
          -7.398,
          -7.015,
          -10.965,
          -6.061,
          -7.23,
          -12.205,
          -10.109,
          -4.209,
          -9.211,
          -10.48,
          -9.961,
          -6.769,
          -2.81,
          -6.362,
          -5.338,
          -9.828,
          -3.497,
          -4.88,
          -5.303,
          -7.064,
          -5.175,
          -10.732,
          -3.37,
          -9.144,
          -4.333,
          -5.677,
          -6.366,
          -4.972,
          -6.021,
          -5.697,
          -6.694,
          -6.009,
          -6.638,
          -7.346,
          -7.063,
          -3.714,
          -6.351,
          -5.044,
          -7.811,
          -3.24,
          -5.371,
          -8.81,
          -3.081,
          -4.078,
          -5.472,
          -5.804,
          -6.444,
          -4.183,
          -5.085,
          -2.827,
          -7.409,
          -4.565,
          -6.306,
          -3.015,
          -5.23,
          -7.223,
          -8.237,
          -3.787,
          -6.645,
          -7.539,
          -5.634,
          -5.041,
          -10.059,
          -6.725,
          -6.595,
          -7.596,
          -5.043,
          -3.724,
          -4.353,
          -5.723,
          -4.097,
          -8.492,
          -4.961,
          -6.687,
          -3.237,
          -4.063,
          -6.684,
          -5.608,
          -4.556,
          -9.222,
          -6.726,
          -7.621,
          -5.829,
          -7.227,
          -4.787,
          -5.51
         ],
         "categoryorder": "array",
         "domain": [
          0,
          1
         ],
         "title": {
          "text": "loudness"
         }
        },
        "yaxis": {
         "anchor": "x",
         "domain": [
          0,
          1
         ],
         "title": {
          "text": "count"
         }
        }
       }
      }
     },
     "metadata": {},
     "output_type": "display_data"
    }
   ],
   "source": [
    "Features_copy = Features.copy()\n",
    "Features_copy['loudness'] = \\\n",
    "    Features_copy['loudness'].fillna('Null')\n",
    "\n",
    "fig=px.histogram(Features_copy,\n",
    "                 x = 'loudness',\n",
    "                 color = 'loudness',\n",
    "                 title=\"<b>Count vs Loudness\",\n",
    "                 color_discrete_sequence=px.colors.qualitative.Vivid,\n",
    "                 width=800, height=500)\n",
    "fig.update_layout(template=\"plotly_dark\")\n",
    "fig.update_layout(title_font_size=20)\n",
    "fig.show()"
   ]
  },
  {
   "cell_type": "code",
   "execution_count": 9,
   "metadata": {},
   "outputs": [
    {
     "data": {
      "application/vnd.plotly.v1+json": {
       "config": {
        "plotlyServerURL": "https://plot.ly"
       },
       "data": [
        {
         "alignmentgroup": "True",
         "bingroup": "x",
         "hovertemplate": "speechiness=%{x}<br>count=%{y}<extra></extra>",
         "legendgroup": "0.0598",
         "marker": {
          "color": "rgb(229, 134, 6)",
          "pattern": {
           "shape": ""
          }
         },
         "name": "0.0598",
         "offsetgroup": "0.0598",
         "orientation": "v",
         "showlegend": true,
         "type": "histogram",
         "x": [
          0.0598
         ],
         "xaxis": "x",
         "yaxis": "y"
        },
        {
         "alignmentgroup": "True",
         "bingroup": "x",
         "hovertemplate": "speechiness=%{x}<br>count=%{y}<extra></extra>",
         "legendgroup": "0.0802",
         "marker": {
          "color": "rgb(93, 105, 177)",
          "pattern": {
           "shape": ""
          }
         },
         "name": "0.0802",
         "offsetgroup": "0.0802",
         "orientation": "v",
         "showlegend": true,
         "type": "histogram",
         "x": [
          0.0802
         ],
         "xaxis": "x",
         "yaxis": "y"
        },
        {
         "alignmentgroup": "True",
         "bingroup": "x",
         "hovertemplate": "speechiness=%{x}<br>count=%{y}<extra></extra>",
         "legendgroup": "0.0924",
         "marker": {
          "color": "rgb(82, 188, 163)",
          "pattern": {
           "shape": ""
          }
         },
         "name": "0.0924",
         "offsetgroup": "0.0924",
         "orientation": "v",
         "showlegend": true,
         "type": "histogram",
         "x": [
          0.0924
         ],
         "xaxis": "x",
         "yaxis": "y"
        },
        {
         "alignmentgroup": "True",
         "bingroup": "x",
         "hovertemplate": "speechiness=%{x}<br>count=%{y}<extra></extra>",
         "legendgroup": "0.0319",
         "marker": {
          "color": "rgb(153, 201, 69)",
          "pattern": {
           "shape": ""
          }
         },
         "name": "0.0319",
         "offsetgroup": "0.0319",
         "orientation": "v",
         "showlegend": true,
         "type": "histogram",
         "x": [
          0.0319
         ],
         "xaxis": "x",
         "yaxis": "y"
        },
        {
         "alignmentgroup": "True",
         "bingroup": "x",
         "hovertemplate": "speechiness=%{x}<br>count=%{y}<extra></extra>",
         "legendgroup": "0.0712",
         "marker": {
          "color": "rgb(204, 97, 176)",
          "pattern": {
           "shape": ""
          }
         },
         "name": "0.0712",
         "offsetgroup": "0.0712",
         "orientation": "v",
         "showlegend": true,
         "type": "histogram",
         "x": [
          0.0712
         ],
         "xaxis": "x",
         "yaxis": "y"
        },
        {
         "alignmentgroup": "True",
         "bingroup": "x",
         "hovertemplate": "speechiness=%{x}<br>count=%{y}<extra></extra>",
         "legendgroup": "0.0466",
         "marker": {
          "color": "rgb(36, 121, 108)",
          "pattern": {
           "shape": ""
          }
         },
         "name": "0.0466",
         "offsetgroup": "0.0466",
         "orientation": "v",
         "showlegend": true,
         "type": "histogram",
         "x": [
          0.0466
         ],
         "xaxis": "x",
         "yaxis": "y"
        },
        {
         "alignmentgroup": "True",
         "bingroup": "x",
         "hovertemplate": "speechiness=%{x}<br>count=%{y}<extra></extra>",
         "legendgroup": "0.0536",
         "marker": {
          "color": "rgb(218, 165, 27)",
          "pattern": {
           "shape": ""
          }
         },
         "name": "0.0536",
         "offsetgroup": "0.0536",
         "orientation": "v",
         "showlegend": true,
         "type": "histogram",
         "x": [
          0.0536,
          0.0536
         ],
         "xaxis": "x",
         "yaxis": "y"
        },
        {
         "alignmentgroup": "True",
         "bingroup": "x",
         "hovertemplate": "speechiness=%{x}<br>count=%{y}<extra></extra>",
         "legendgroup": "0.0338",
         "marker": {
          "color": "rgb(47, 138, 196)",
          "pattern": {
           "shape": ""
          }
         },
         "name": "0.0338",
         "offsetgroup": "0.0338",
         "orientation": "v",
         "showlegend": true,
         "type": "histogram",
         "x": [
          0.0338
         ],
         "xaxis": "x",
         "yaxis": "y"
        },
        {
         "alignmentgroup": "True",
         "bingroup": "x",
         "hovertemplate": "speechiness=%{x}<br>count=%{y}<extra></extra>",
         "legendgroup": "0.0283",
         "marker": {
          "color": "rgb(118, 78, 159)",
          "pattern": {
           "shape": ""
          }
         },
         "name": "0.0283",
         "offsetgroup": "0.0283",
         "orientation": "v",
         "showlegend": true,
         "type": "histogram",
         "x": [
          0.0283
         ],
         "xaxis": "x",
         "yaxis": "y"
        },
        {
         "alignmentgroup": "True",
         "bingroup": "x",
         "hovertemplate": "speechiness=%{x}<br>count=%{y}<extra></extra>",
         "legendgroup": "0.128",
         "marker": {
          "color": "rgb(237, 100, 90)",
          "pattern": {
           "shape": ""
          }
         },
         "name": "0.128",
         "offsetgroup": "0.128",
         "orientation": "v",
         "showlegend": true,
         "type": "histogram",
         "x": [
          0.128
         ],
         "xaxis": "x",
         "yaxis": "y"
        },
        {
         "alignmentgroup": "True",
         "bingroup": "x",
         "hovertemplate": "speechiness=%{x}<br>count=%{y}<extra></extra>",
         "legendgroup": "0.029",
         "marker": {
          "color": "rgb(165, 170, 153)",
          "pattern": {
           "shape": ""
          }
         },
         "name": "0.029",
         "offsetgroup": "0.029",
         "orientation": "v",
         "showlegend": true,
         "type": "histogram",
         "x": [
          0.029
         ],
         "xaxis": "x",
         "yaxis": "y"
        },
        {
         "alignmentgroup": "True",
         "bingroup": "x",
         "hovertemplate": "speechiness=%{x}<br>count=%{y}<extra></extra>",
         "legendgroup": "0.0331",
         "marker": {
          "color": "rgb(229, 134, 6)",
          "pattern": {
           "shape": ""
          }
         },
         "name": "0.0331",
         "offsetgroup": "0.0331",
         "orientation": "v",
         "showlegend": true,
         "type": "histogram",
         "x": [
          0.0331
         ],
         "xaxis": "x",
         "yaxis": "y"
        },
        {
         "alignmentgroup": "True",
         "bingroup": "x",
         "hovertemplate": "speechiness=%{x}<br>count=%{y}<extra></extra>",
         "legendgroup": "0.0944",
         "marker": {
          "color": "rgb(93, 105, 177)",
          "pattern": {
           "shape": ""
          }
         },
         "name": "0.0944",
         "offsetgroup": "0.0944",
         "orientation": "v",
         "showlegend": true,
         "type": "histogram",
         "x": [
          0.0944
         ],
         "xaxis": "x",
         "yaxis": "y"
        },
        {
         "alignmentgroup": "True",
         "bingroup": "x",
         "hovertemplate": "speechiness=%{x}<br>count=%{y}<extra></extra>",
         "legendgroup": "0.059",
         "marker": {
          "color": "rgb(82, 188, 163)",
          "pattern": {
           "shape": ""
          }
         },
         "name": "0.059",
         "offsetgroup": "0.059",
         "orientation": "v",
         "showlegend": true,
         "type": "histogram",
         "x": [
          0.059
         ],
         "xaxis": "x",
         "yaxis": "y"
        },
        {
         "alignmentgroup": "True",
         "bingroup": "x",
         "hovertemplate": "speechiness=%{x}<br>count=%{y}<extra></extra>",
         "legendgroup": "0.276",
         "marker": {
          "color": "rgb(153, 201, 69)",
          "pattern": {
           "shape": ""
          }
         },
         "name": "0.276",
         "offsetgroup": "0.276",
         "orientation": "v",
         "showlegend": true,
         "type": "histogram",
         "x": [
          0.276
         ],
         "xaxis": "x",
         "yaxis": "y"
        },
        {
         "alignmentgroup": "True",
         "bingroup": "x",
         "hovertemplate": "speechiness=%{x}<br>count=%{y}<extra></extra>",
         "legendgroup": "0.375",
         "marker": {
          "color": "rgb(204, 97, 176)",
          "pattern": {
           "shape": ""
          }
         },
         "name": "0.375",
         "offsetgroup": "0.375",
         "orientation": "v",
         "showlegend": true,
         "type": "histogram",
         "x": [
          0.375
         ],
         "xaxis": "x",
         "yaxis": "y"
        },
        {
         "alignmentgroup": "True",
         "bingroup": "x",
         "hovertemplate": "speechiness=%{x}<br>count=%{y}<extra></extra>",
         "legendgroup": "0.0296",
         "marker": {
          "color": "rgb(36, 121, 108)",
          "pattern": {
           "shape": ""
          }
         },
         "name": "0.0296",
         "offsetgroup": "0.0296",
         "orientation": "v",
         "showlegend": true,
         "type": "histogram",
         "x": [
          0.0296
         ],
         "xaxis": "x",
         "yaxis": "y"
        },
        {
         "alignmentgroup": "True",
         "bingroup": "x",
         "hovertemplate": "speechiness=%{x}<br>count=%{y}<extra></extra>",
         "legendgroup": "0.2",
         "marker": {
          "color": "rgb(218, 165, 27)",
          "pattern": {
           "shape": ""
          }
         },
         "name": "0.2",
         "offsetgroup": "0.2",
         "orientation": "v",
         "showlegend": true,
         "type": "histogram",
         "x": [
          0.2
         ],
         "xaxis": "x",
         "yaxis": "y"
        },
        {
         "alignmentgroup": "True",
         "bingroup": "x",
         "hovertemplate": "speechiness=%{x}<br>count=%{y}<extra></extra>",
         "legendgroup": "0.0484",
         "marker": {
          "color": "rgb(47, 138, 196)",
          "pattern": {
           "shape": ""
          }
         },
         "name": "0.0484",
         "offsetgroup": "0.0484",
         "orientation": "v",
         "showlegend": true,
         "type": "histogram",
         "x": [
          0.0484,
          0.0484
         ],
         "xaxis": "x",
         "yaxis": "y"
        },
        {
         "alignmentgroup": "True",
         "bingroup": "x",
         "hovertemplate": "speechiness=%{x}<br>count=%{y}<extra></extra>",
         "legendgroup": "0.0333",
         "marker": {
          "color": "rgb(118, 78, 159)",
          "pattern": {
           "shape": ""
          }
         },
         "name": "0.0333",
         "offsetgroup": "0.0333",
         "orientation": "v",
         "showlegend": true,
         "type": "histogram",
         "x": [
          0.0333
         ],
         "xaxis": "x",
         "yaxis": "y"
        },
        {
         "alignmentgroup": "True",
         "bingroup": "x",
         "hovertemplate": "speechiness=%{x}<br>count=%{y}<extra></extra>",
         "legendgroup": "0.0465",
         "marker": {
          "color": "rgb(237, 100, 90)",
          "pattern": {
           "shape": ""
          }
         },
         "name": "0.0465",
         "offsetgroup": "0.0465",
         "orientation": "v",
         "showlegend": true,
         "type": "histogram",
         "x": [
          0.0465,
          0.0465
         ],
         "xaxis": "x",
         "yaxis": "y"
        },
        {
         "alignmentgroup": "True",
         "bingroup": "x",
         "hovertemplate": "speechiness=%{x}<br>count=%{y}<extra></extra>",
         "legendgroup": "0.109",
         "marker": {
          "color": "rgb(165, 170, 153)",
          "pattern": {
           "shape": ""
          }
         },
         "name": "0.109",
         "offsetgroup": "0.109",
         "orientation": "v",
         "showlegend": true,
         "type": "histogram",
         "x": [
          0.109
         ],
         "xaxis": "x",
         "yaxis": "y"
        },
        {
         "alignmentgroup": "True",
         "bingroup": "x",
         "hovertemplate": "speechiness=%{x}<br>count=%{y}<extra></extra>",
         "legendgroup": "0.0359",
         "marker": {
          "color": "rgb(229, 134, 6)",
          "pattern": {
           "shape": ""
          }
         },
         "name": "0.0359",
         "offsetgroup": "0.0359",
         "orientation": "v",
         "showlegend": true,
         "type": "histogram",
         "x": [
          0.0359
         ],
         "xaxis": "x",
         "yaxis": "y"
        },
        {
         "alignmentgroup": "True",
         "bingroup": "x",
         "hovertemplate": "speechiness=%{x}<br>count=%{y}<extra></extra>",
         "legendgroup": "0.0317",
         "marker": {
          "color": "rgb(93, 105, 177)",
          "pattern": {
           "shape": ""
          }
         },
         "name": "0.0317",
         "offsetgroup": "0.0317",
         "orientation": "v",
         "showlegend": true,
         "type": "histogram",
         "x": [
          0.0317
         ],
         "xaxis": "x",
         "yaxis": "y"
        },
        {
         "alignmentgroup": "True",
         "bingroup": "x",
         "hovertemplate": "speechiness=%{x}<br>count=%{y}<extra></extra>",
         "legendgroup": "0.0336",
         "marker": {
          "color": "rgb(82, 188, 163)",
          "pattern": {
           "shape": ""
          }
         },
         "name": "0.0336",
         "offsetgroup": "0.0336",
         "orientation": "v",
         "showlegend": true,
         "type": "histogram",
         "x": [
          0.0336
         ],
         "xaxis": "x",
         "yaxis": "y"
        },
        {
         "alignmentgroup": "True",
         "bingroup": "x",
         "hovertemplate": "speechiness=%{x}<br>count=%{y}<extra></extra>",
         "legendgroup": "0.0308",
         "marker": {
          "color": "rgb(153, 201, 69)",
          "pattern": {
           "shape": ""
          }
         },
         "name": "0.0308",
         "offsetgroup": "0.0308",
         "orientation": "v",
         "showlegend": true,
         "type": "histogram",
         "x": [
          0.0308
         ],
         "xaxis": "x",
         "yaxis": "y"
        },
        {
         "alignmentgroup": "True",
         "bingroup": "x",
         "hovertemplate": "speechiness=%{x}<br>count=%{y}<extra></extra>",
         "legendgroup": "0.0557",
         "marker": {
          "color": "rgb(204, 97, 176)",
          "pattern": {
           "shape": ""
          }
         },
         "name": "0.0557",
         "offsetgroup": "0.0557",
         "orientation": "v",
         "showlegend": true,
         "type": "histogram",
         "x": [
          0.0557
         ],
         "xaxis": "x",
         "yaxis": "y"
        },
        {
         "alignmentgroup": "True",
         "bingroup": "x",
         "hovertemplate": "speechiness=%{x}<br>count=%{y}<extra></extra>",
         "legendgroup": "0.438",
         "marker": {
          "color": "rgb(36, 121, 108)",
          "pattern": {
           "shape": ""
          }
         },
         "name": "0.438",
         "offsetgroup": "0.438",
         "orientation": "v",
         "showlegend": true,
         "type": "histogram",
         "x": [
          0.438
         ],
         "xaxis": "x",
         "yaxis": "y"
        },
        {
         "alignmentgroup": "True",
         "bingroup": "x",
         "hovertemplate": "speechiness=%{x}<br>count=%{y}<extra></extra>",
         "legendgroup": "0.0395",
         "marker": {
          "color": "rgb(218, 165, 27)",
          "pattern": {
           "shape": ""
          }
         },
         "name": "0.0395",
         "offsetgroup": "0.0395",
         "orientation": "v",
         "showlegend": true,
         "type": "histogram",
         "x": [
          0.0395
         ],
         "xaxis": "x",
         "yaxis": "y"
        },
        {
         "alignmentgroup": "True",
         "bingroup": "x",
         "hovertemplate": "speechiness=%{x}<br>count=%{y}<extra></extra>",
         "legendgroup": "0.145",
         "marker": {
          "color": "rgb(47, 138, 196)",
          "pattern": {
           "shape": ""
          }
         },
         "name": "0.145",
         "offsetgroup": "0.145",
         "orientation": "v",
         "showlegend": true,
         "type": "histogram",
         "x": [
          0.145
         ],
         "xaxis": "x",
         "yaxis": "y"
        },
        {
         "alignmentgroup": "True",
         "bingroup": "x",
         "hovertemplate": "speechiness=%{x}<br>count=%{y}<extra></extra>",
         "legendgroup": "0.0464",
         "marker": {
          "color": "rgb(118, 78, 159)",
          "pattern": {
           "shape": ""
          }
         },
         "name": "0.0464",
         "offsetgroup": "0.0464",
         "orientation": "v",
         "showlegend": true,
         "type": "histogram",
         "x": [
          0.0464
         ],
         "xaxis": "x",
         "yaxis": "y"
        },
        {
         "alignmentgroup": "True",
         "bingroup": "x",
         "hovertemplate": "speechiness=%{x}<br>count=%{y}<extra></extra>",
         "legendgroup": "0.0322",
         "marker": {
          "color": "rgb(237, 100, 90)",
          "pattern": {
           "shape": ""
          }
         },
         "name": "0.0322",
         "offsetgroup": "0.0322",
         "orientation": "v",
         "showlegend": true,
         "type": "histogram",
         "x": [
          0.0322
         ],
         "xaxis": "x",
         "yaxis": "y"
        },
        {
         "alignmentgroup": "True",
         "bingroup": "x",
         "hovertemplate": "speechiness=%{x}<br>count=%{y}<extra></extra>",
         "legendgroup": "0.0364",
         "marker": {
          "color": "rgb(165, 170, 153)",
          "pattern": {
           "shape": ""
          }
         },
         "name": "0.0364",
         "offsetgroup": "0.0364",
         "orientation": "v",
         "showlegend": true,
         "type": "histogram",
         "x": [
          0.0364
         ],
         "xaxis": "x",
         "yaxis": "y"
        },
        {
         "alignmentgroup": "True",
         "bingroup": "x",
         "hovertemplate": "speechiness=%{x}<br>count=%{y}<extra></extra>",
         "legendgroup": "0.334",
         "marker": {
          "color": "rgb(229, 134, 6)",
          "pattern": {
           "shape": ""
          }
         },
         "name": "0.334",
         "offsetgroup": "0.334",
         "orientation": "v",
         "showlegend": true,
         "type": "histogram",
         "x": [
          0.334
         ],
         "xaxis": "x",
         "yaxis": "y"
        },
        {
         "alignmentgroup": "True",
         "bingroup": "x",
         "hovertemplate": "speechiness=%{x}<br>count=%{y}<extra></extra>",
         "legendgroup": "0.242",
         "marker": {
          "color": "rgb(93, 105, 177)",
          "pattern": {
           "shape": ""
          }
         },
         "name": "0.242",
         "offsetgroup": "0.242",
         "orientation": "v",
         "showlegend": true,
         "type": "histogram",
         "x": [
          0.242
         ],
         "xaxis": "x",
         "yaxis": "y"
        },
        {
         "alignmentgroup": "True",
         "bingroup": "x",
         "hovertemplate": "speechiness=%{x}<br>count=%{y}<extra></extra>",
         "legendgroup": "0.03",
         "marker": {
          "color": "rgb(82, 188, 163)",
          "pattern": {
           "shape": ""
          }
         },
         "name": "0.03",
         "offsetgroup": "0.03",
         "orientation": "v",
         "showlegend": true,
         "type": "histogram",
         "x": [
          0.03
         ],
         "xaxis": "x",
         "yaxis": "y"
        },
        {
         "alignmentgroup": "True",
         "bingroup": "x",
         "hovertemplate": "speechiness=%{x}<br>count=%{y}<extra></extra>",
         "legendgroup": "0.141",
         "marker": {
          "color": "rgb(153, 201, 69)",
          "pattern": {
           "shape": ""
          }
         },
         "name": "0.141",
         "offsetgroup": "0.141",
         "orientation": "v",
         "showlegend": true,
         "type": "histogram",
         "x": [
          0.141
         ],
         "xaxis": "x",
         "yaxis": "y"
        },
        {
         "alignmentgroup": "True",
         "bingroup": "x",
         "hovertemplate": "speechiness=%{x}<br>count=%{y}<extra></extra>",
         "legendgroup": "0.231",
         "marker": {
          "color": "rgb(204, 97, 176)",
          "pattern": {
           "shape": ""
          }
         },
         "name": "0.231",
         "offsetgroup": "0.231",
         "orientation": "v",
         "showlegend": true,
         "type": "histogram",
         "x": [
          0.231
         ],
         "xaxis": "x",
         "yaxis": "y"
        },
        {
         "alignmentgroup": "True",
         "bingroup": "x",
         "hovertemplate": "speechiness=%{x}<br>count=%{y}<extra></extra>",
         "legendgroup": "0.0382",
         "marker": {
          "color": "rgb(36, 121, 108)",
          "pattern": {
           "shape": ""
          }
         },
         "name": "0.0382",
         "offsetgroup": "0.0382",
         "orientation": "v",
         "showlegend": true,
         "type": "histogram",
         "x": [
          0.0382
         ],
         "xaxis": "x",
         "yaxis": "y"
        },
        {
         "alignmentgroup": "True",
         "bingroup": "x",
         "hovertemplate": "speechiness=%{x}<br>count=%{y}<extra></extra>",
         "legendgroup": "0.0694",
         "marker": {
          "color": "rgb(218, 165, 27)",
          "pattern": {
           "shape": ""
          }
         },
         "name": "0.0694",
         "offsetgroup": "0.0694",
         "orientation": "v",
         "showlegend": true,
         "type": "histogram",
         "x": [
          0.0694
         ],
         "xaxis": "x",
         "yaxis": "y"
        },
        {
         "alignmentgroup": "True",
         "bingroup": "x",
         "hovertemplate": "speechiness=%{x}<br>count=%{y}<extra></extra>",
         "legendgroup": "0.0523",
         "marker": {
          "color": "rgb(47, 138, 196)",
          "pattern": {
           "shape": ""
          }
         },
         "name": "0.0523",
         "offsetgroup": "0.0523",
         "orientation": "v",
         "showlegend": true,
         "type": "histogram",
         "x": [
          0.0523
         ],
         "xaxis": "x",
         "yaxis": "y"
        },
        {
         "alignmentgroup": "True",
         "bingroup": "x",
         "hovertemplate": "speechiness=%{x}<br>count=%{y}<extra></extra>",
         "legendgroup": "0.0379",
         "marker": {
          "color": "rgb(118, 78, 159)",
          "pattern": {
           "shape": ""
          }
         },
         "name": "0.0379",
         "offsetgroup": "0.0379",
         "orientation": "v",
         "showlegend": true,
         "type": "histogram",
         "x": [
          0.0379
         ],
         "xaxis": "x",
         "yaxis": "y"
        },
        {
         "alignmentgroup": "True",
         "bingroup": "x",
         "hovertemplate": "speechiness=%{x}<br>count=%{y}<extra></extra>",
         "legendgroup": "0.0751",
         "marker": {
          "color": "rgb(237, 100, 90)",
          "pattern": {
           "shape": ""
          }
         },
         "name": "0.0751",
         "offsetgroup": "0.0751",
         "orientation": "v",
         "showlegend": true,
         "type": "histogram",
         "x": [
          0.0751
         ],
         "xaxis": "x",
         "yaxis": "y"
        },
        {
         "alignmentgroup": "True",
         "bingroup": "x",
         "hovertemplate": "speechiness=%{x}<br>count=%{y}<extra></extra>",
         "legendgroup": "0.102",
         "marker": {
          "color": "rgb(165, 170, 153)",
          "pattern": {
           "shape": ""
          }
         },
         "name": "0.102",
         "offsetgroup": "0.102",
         "orientation": "v",
         "showlegend": true,
         "type": "histogram",
         "x": [
          0.102
         ],
         "xaxis": "x",
         "yaxis": "y"
        },
        {
         "alignmentgroup": "True",
         "bingroup": "x",
         "hovertemplate": "speechiness=%{x}<br>count=%{y}<extra></extra>",
         "legendgroup": "0.0688",
         "marker": {
          "color": "rgb(229, 134, 6)",
          "pattern": {
           "shape": ""
          }
         },
         "name": "0.0688",
         "offsetgroup": "0.0688",
         "orientation": "v",
         "showlegend": true,
         "type": "histogram",
         "x": [
          0.0688
         ],
         "xaxis": "x",
         "yaxis": "y"
        },
        {
         "alignmentgroup": "True",
         "bingroup": "x",
         "hovertemplate": "speechiness=%{x}<br>count=%{y}<extra></extra>",
         "legendgroup": "0.0515",
         "marker": {
          "color": "rgb(93, 105, 177)",
          "pattern": {
           "shape": ""
          }
         },
         "name": "0.0515",
         "offsetgroup": "0.0515",
         "orientation": "v",
         "showlegend": true,
         "type": "histogram",
         "x": [
          0.0515
         ],
         "xaxis": "x",
         "yaxis": "y"
        },
        {
         "alignmentgroup": "True",
         "bingroup": "x",
         "hovertemplate": "speechiness=%{x}<br>count=%{y}<extra></extra>",
         "legendgroup": "0.222",
         "marker": {
          "color": "rgb(82, 188, 163)",
          "pattern": {
           "shape": ""
          }
         },
         "name": "0.222",
         "offsetgroup": "0.222",
         "orientation": "v",
         "showlegend": true,
         "type": "histogram",
         "x": [
          0.222
         ],
         "xaxis": "x",
         "yaxis": "y"
        },
        {
         "alignmentgroup": "True",
         "bingroup": "x",
         "hovertemplate": "speechiness=%{x}<br>count=%{y}<extra></extra>",
         "legendgroup": "0.0752",
         "marker": {
          "color": "rgb(153, 201, 69)",
          "pattern": {
           "shape": ""
          }
         },
         "name": "0.0752",
         "offsetgroup": "0.0752",
         "orientation": "v",
         "showlegend": true,
         "type": "histogram",
         "x": [
          0.0752
         ],
         "xaxis": "x",
         "yaxis": "y"
        },
        {
         "alignmentgroup": "True",
         "bingroup": "x",
         "hovertemplate": "speechiness=%{x}<br>count=%{y}<extra></extra>",
         "legendgroup": "0.154",
         "marker": {
          "color": "rgb(204, 97, 176)",
          "pattern": {
           "shape": ""
          }
         },
         "name": "0.154",
         "offsetgroup": "0.154",
         "orientation": "v",
         "showlegend": true,
         "type": "histogram",
         "x": [
          0.154
         ],
         "xaxis": "x",
         "yaxis": "y"
        },
        {
         "alignmentgroup": "True",
         "bingroup": "x",
         "hovertemplate": "speechiness=%{x}<br>count=%{y}<extra></extra>",
         "legendgroup": "0.0984",
         "marker": {
          "color": "rgb(36, 121, 108)",
          "pattern": {
           "shape": ""
          }
         },
         "name": "0.0984",
         "offsetgroup": "0.0984",
         "orientation": "v",
         "showlegend": true,
         "type": "histogram",
         "x": [
          0.0984
         ],
         "xaxis": "x",
         "yaxis": "y"
        },
        {
         "alignmentgroup": "True",
         "bingroup": "x",
         "hovertemplate": "speechiness=%{x}<br>count=%{y}<extra></extra>",
         "legendgroup": "0.11",
         "marker": {
          "color": "rgb(218, 165, 27)",
          "pattern": {
           "shape": ""
          }
         },
         "name": "0.11",
         "offsetgroup": "0.11",
         "orientation": "v",
         "showlegend": true,
         "type": "histogram",
         "x": [
          0.11
         ],
         "xaxis": "x",
         "yaxis": "y"
        },
        {
         "alignmentgroup": "True",
         "bingroup": "x",
         "hovertemplate": "speechiness=%{x}<br>count=%{y}<extra></extra>",
         "legendgroup": "0.0349",
         "marker": {
          "color": "rgb(47, 138, 196)",
          "pattern": {
           "shape": ""
          }
         },
         "name": "0.0349",
         "offsetgroup": "0.0349",
         "orientation": "v",
         "showlegend": true,
         "type": "histogram",
         "x": [
          0.0349
         ],
         "xaxis": "x",
         "yaxis": "y"
        },
        {
         "alignmentgroup": "True",
         "bingroup": "x",
         "hovertemplate": "speechiness=%{x}<br>count=%{y}<extra></extra>",
         "legendgroup": "0.0578",
         "marker": {
          "color": "rgb(118, 78, 159)",
          "pattern": {
           "shape": ""
          }
         },
         "name": "0.0578",
         "offsetgroup": "0.0578",
         "orientation": "v",
         "showlegend": true,
         "type": "histogram",
         "x": [
          0.0578
         ],
         "xaxis": "x",
         "yaxis": "y"
        },
        {
         "alignmentgroup": "True",
         "bingroup": "x",
         "hovertemplate": "speechiness=%{x}<br>count=%{y}<extra></extra>",
         "legendgroup": "0.0625",
         "marker": {
          "color": "rgb(237, 100, 90)",
          "pattern": {
           "shape": ""
          }
         },
         "name": "0.0625",
         "offsetgroup": "0.0625",
         "orientation": "v",
         "showlegend": true,
         "type": "histogram",
         "x": [
          0.0625
         ],
         "xaxis": "x",
         "yaxis": "y"
        },
        {
         "alignmentgroup": "True",
         "bingroup": "x",
         "hovertemplate": "speechiness=%{x}<br>count=%{y}<extra></extra>",
         "legendgroup": "0.341",
         "marker": {
          "color": "rgb(165, 170, 153)",
          "pattern": {
           "shape": ""
          }
         },
         "name": "0.341",
         "offsetgroup": "0.341",
         "orientation": "v",
         "showlegend": true,
         "type": "histogram",
         "x": [
          0.341
         ],
         "xaxis": "x",
         "yaxis": "y"
        },
        {
         "alignmentgroup": "True",
         "bingroup": "x",
         "hovertemplate": "speechiness=%{x}<br>count=%{y}<extra></extra>",
         "legendgroup": "0.0474",
         "marker": {
          "color": "rgb(229, 134, 6)",
          "pattern": {
           "shape": ""
          }
         },
         "name": "0.0474",
         "offsetgroup": "0.0474",
         "orientation": "v",
         "showlegend": true,
         "type": "histogram",
         "x": [
          0.0474
         ],
         "xaxis": "x",
         "yaxis": "y"
        },
        {
         "alignmentgroup": "True",
         "bingroup": "x",
         "hovertemplate": "speechiness=%{x}<br>count=%{y}<extra></extra>",
         "legendgroup": "0.04",
         "marker": {
          "color": "rgb(93, 105, 177)",
          "pattern": {
           "shape": ""
          }
         },
         "name": "0.04",
         "offsetgroup": "0.04",
         "orientation": "v",
         "showlegend": true,
         "type": "histogram",
         "x": [
          0.04
         ],
         "xaxis": "x",
         "yaxis": "y"
        },
        {
         "alignmentgroup": "True",
         "bingroup": "x",
         "hovertemplate": "speechiness=%{x}<br>count=%{y}<extra></extra>",
         "legendgroup": "0.0414",
         "marker": {
          "color": "rgb(82, 188, 163)",
          "pattern": {
           "shape": ""
          }
         },
         "name": "0.0414",
         "offsetgroup": "0.0414",
         "orientation": "v",
         "showlegend": true,
         "type": "histogram",
         "x": [
          0.0414
         ],
         "xaxis": "x",
         "yaxis": "y"
        },
        {
         "alignmentgroup": "True",
         "bingroup": "x",
         "hovertemplate": "speechiness=%{x}<br>count=%{y}<extra></extra>",
         "legendgroup": "0.0363",
         "marker": {
          "color": "rgb(153, 201, 69)",
          "pattern": {
           "shape": ""
          }
         },
         "name": "0.0363",
         "offsetgroup": "0.0363",
         "orientation": "v",
         "showlegend": true,
         "type": "histogram",
         "x": [
          0.0363
         ],
         "xaxis": "x",
         "yaxis": "y"
        },
        {
         "alignmentgroup": "True",
         "bingroup": "x",
         "hovertemplate": "speechiness=%{x}<br>count=%{y}<extra></extra>",
         "legendgroup": "0.0476",
         "marker": {
          "color": "rgb(204, 97, 176)",
          "pattern": {
           "shape": ""
          }
         },
         "name": "0.0476",
         "offsetgroup": "0.0476",
         "orientation": "v",
         "showlegend": true,
         "type": "histogram",
         "x": [
          0.0476
         ],
         "xaxis": "x",
         "yaxis": "y"
        },
        {
         "alignmentgroup": "True",
         "bingroup": "x",
         "hovertemplate": "speechiness=%{x}<br>count=%{y}<extra></extra>",
         "legendgroup": "0.0738",
         "marker": {
          "color": "rgb(36, 121, 108)",
          "pattern": {
           "shape": ""
          }
         },
         "name": "0.0738",
         "offsetgroup": "0.0738",
         "orientation": "v",
         "showlegend": true,
         "type": "histogram",
         "x": [
          0.0738
         ],
         "xaxis": "x",
         "yaxis": "y"
        },
        {
         "alignmentgroup": "True",
         "bingroup": "x",
         "hovertemplate": "speechiness=%{x}<br>count=%{y}<extra></extra>",
         "legendgroup": "0.0615",
         "marker": {
          "color": "rgb(218, 165, 27)",
          "pattern": {
           "shape": ""
          }
         },
         "name": "0.0615",
         "offsetgroup": "0.0615",
         "orientation": "v",
         "showlegend": true,
         "type": "histogram",
         "x": [
          0.0615,
          0.0615
         ],
         "xaxis": "x",
         "yaxis": "y"
        },
        {
         "alignmentgroup": "True",
         "bingroup": "x",
         "hovertemplate": "speechiness=%{x}<br>count=%{y}<extra></extra>",
         "legendgroup": "0.257",
         "marker": {
          "color": "rgb(47, 138, 196)",
          "pattern": {
           "shape": ""
          }
         },
         "name": "0.257",
         "offsetgroup": "0.257",
         "orientation": "v",
         "showlegend": true,
         "type": "histogram",
         "x": [
          0.257
         ],
         "xaxis": "x",
         "yaxis": "y"
        },
        {
         "alignmentgroup": "True",
         "bingroup": "x",
         "hovertemplate": "speechiness=%{x}<br>count=%{y}<extra></extra>",
         "legendgroup": "0.044",
         "marker": {
          "color": "rgb(118, 78, 159)",
          "pattern": {
           "shape": ""
          }
         },
         "name": "0.044",
         "offsetgroup": "0.044",
         "orientation": "v",
         "showlegend": true,
         "type": "histogram",
         "x": [
          0.044
         ],
         "xaxis": "x",
         "yaxis": "y"
        },
        {
         "alignmentgroup": "True",
         "bingroup": "x",
         "hovertemplate": "speechiness=%{x}<br>count=%{y}<extra></extra>",
         "legendgroup": "0.0321",
         "marker": {
          "color": "rgb(237, 100, 90)",
          "pattern": {
           "shape": ""
          }
         },
         "name": "0.0321",
         "offsetgroup": "0.0321",
         "orientation": "v",
         "showlegend": true,
         "type": "histogram",
         "x": [
          0.0321
         ],
         "xaxis": "x",
         "yaxis": "y"
        },
        {
         "alignmentgroup": "True",
         "bingroup": "x",
         "hovertemplate": "speechiness=%{x}<br>count=%{y}<extra></extra>",
         "legendgroup": "0.0747",
         "marker": {
          "color": "rgb(165, 170, 153)",
          "pattern": {
           "shape": ""
          }
         },
         "name": "0.0747",
         "offsetgroup": "0.0747",
         "orientation": "v",
         "showlegend": true,
         "type": "histogram",
         "x": [
          0.0747
         ],
         "xaxis": "x",
         "yaxis": "y"
        },
        {
         "alignmentgroup": "True",
         "bingroup": "x",
         "hovertemplate": "speechiness=%{x}<br>count=%{y}<extra></extra>",
         "legendgroup": "0.0824",
         "marker": {
          "color": "rgb(229, 134, 6)",
          "pattern": {
           "shape": ""
          }
         },
         "name": "0.0824",
         "offsetgroup": "0.0824",
         "orientation": "v",
         "showlegend": true,
         "type": "histogram",
         "x": [
          0.0824
         ],
         "xaxis": "x",
         "yaxis": "y"
        },
        {
         "alignmentgroup": "True",
         "bingroup": "x",
         "hovertemplate": "speechiness=%{x}<br>count=%{y}<extra></extra>",
         "legendgroup": "0.0432",
         "marker": {
          "color": "rgb(93, 105, 177)",
          "pattern": {
           "shape": ""
          }
         },
         "name": "0.0432",
         "offsetgroup": "0.0432",
         "orientation": "v",
         "showlegend": true,
         "type": "histogram",
         "x": [
          0.0432
         ],
         "xaxis": "x",
         "yaxis": "y"
        },
        {
         "alignmentgroup": "True",
         "bingroup": "x",
         "hovertemplate": "speechiness=%{x}<br>count=%{y}<extra></extra>",
         "legendgroup": "0.0601",
         "marker": {
          "color": "rgb(82, 188, 163)",
          "pattern": {
           "shape": ""
          }
         },
         "name": "0.0601",
         "offsetgroup": "0.0601",
         "orientation": "v",
         "showlegend": true,
         "type": "histogram",
         "x": [
          0.0601
         ],
         "xaxis": "x",
         "yaxis": "y"
        },
        {
         "alignmentgroup": "True",
         "bingroup": "x",
         "hovertemplate": "speechiness=%{x}<br>count=%{y}<extra></extra>",
         "legendgroup": "0.111",
         "marker": {
          "color": "rgb(153, 201, 69)",
          "pattern": {
           "shape": ""
          }
         },
         "name": "0.111",
         "offsetgroup": "0.111",
         "orientation": "v",
         "showlegend": true,
         "type": "histogram",
         "x": [
          0.111
         ],
         "xaxis": "x",
         "yaxis": "y"
        },
        {
         "alignmentgroup": "True",
         "bingroup": "x",
         "hovertemplate": "speechiness=%{x}<br>count=%{y}<extra></extra>",
         "legendgroup": "0.0493",
         "marker": {
          "color": "rgb(204, 97, 176)",
          "pattern": {
           "shape": ""
          }
         },
         "name": "0.0493",
         "offsetgroup": "0.0493",
         "orientation": "v",
         "showlegend": true,
         "type": "histogram",
         "x": [
          0.0493
         ],
         "xaxis": "x",
         "yaxis": "y"
        },
        {
         "alignmentgroup": "True",
         "bingroup": "x",
         "hovertemplate": "speechiness=%{x}<br>count=%{y}<extra></extra>",
         "legendgroup": "0.0658",
         "marker": {
          "color": "rgb(36, 121, 108)",
          "pattern": {
           "shape": ""
          }
         },
         "name": "0.0658",
         "offsetgroup": "0.0658",
         "orientation": "v",
         "showlegend": true,
         "type": "histogram",
         "x": [
          0.0658
         ],
         "xaxis": "x",
         "yaxis": "y"
        },
        {
         "alignmentgroup": "True",
         "bingroup": "x",
         "hovertemplate": "speechiness=%{x}<br>count=%{y}<extra></extra>",
         "legendgroup": "0.0442",
         "marker": {
          "color": "rgb(218, 165, 27)",
          "pattern": {
           "shape": ""
          }
         },
         "name": "0.0442",
         "offsetgroup": "0.0442",
         "orientation": "v",
         "showlegend": true,
         "type": "histogram",
         "x": [
          0.0442
         ],
         "xaxis": "x",
         "yaxis": "y"
        },
        {
         "alignmentgroup": "True",
         "bingroup": "x",
         "hovertemplate": "speechiness=%{x}<br>count=%{y}<extra></extra>",
         "legendgroup": "0.0544",
         "marker": {
          "color": "rgb(47, 138, 196)",
          "pattern": {
           "shape": ""
          }
         },
         "name": "0.0544",
         "offsetgroup": "0.0544",
         "orientation": "v",
         "showlegend": true,
         "type": "histogram",
         "x": [
          0.0544
         ],
         "xaxis": "x",
         "yaxis": "y"
        },
        {
         "alignmentgroup": "True",
         "bingroup": "x",
         "hovertemplate": "speechiness=%{x}<br>count=%{y}<extra></extra>",
         "legendgroup": "0.22",
         "marker": {
          "color": "rgb(118, 78, 159)",
          "pattern": {
           "shape": ""
          }
         },
         "name": "0.22",
         "offsetgroup": "0.22",
         "orientation": "v",
         "showlegend": true,
         "type": "histogram",
         "x": [
          0.22
         ],
         "xaxis": "x",
         "yaxis": "y"
        },
        {
         "alignmentgroup": "True",
         "bingroup": "x",
         "hovertemplate": "speechiness=%{x}<br>count=%{y}<extra></extra>",
         "legendgroup": "0.336",
         "marker": {
          "color": "rgb(237, 100, 90)",
          "pattern": {
           "shape": ""
          }
         },
         "name": "0.336",
         "offsetgroup": "0.336",
         "orientation": "v",
         "showlegend": true,
         "type": "histogram",
         "x": [
          0.336
         ],
         "xaxis": "x",
         "yaxis": "y"
        },
        {
         "alignmentgroup": "True",
         "bingroup": "x",
         "hovertemplate": "speechiness=%{x}<br>count=%{y}<extra></extra>",
         "legendgroup": "0.0323",
         "marker": {
          "color": "rgb(165, 170, 153)",
          "pattern": {
           "shape": ""
          }
         },
         "name": "0.0323",
         "offsetgroup": "0.0323",
         "orientation": "v",
         "showlegend": true,
         "type": "histogram",
         "x": [
          0.0323
         ],
         "xaxis": "x",
         "yaxis": "y"
        },
        {
         "alignmentgroup": "True",
         "bingroup": "x",
         "hovertemplate": "speechiness=%{x}<br>count=%{y}<extra></extra>",
         "legendgroup": "0.123",
         "marker": {
          "color": "rgb(229, 134, 6)",
          "pattern": {
           "shape": ""
          }
         },
         "name": "0.123",
         "offsetgroup": "0.123",
         "orientation": "v",
         "showlegend": true,
         "type": "histogram",
         "x": [
          0.123
         ],
         "xaxis": "x",
         "yaxis": "y"
        },
        {
         "alignmentgroup": "True",
         "bingroup": "x",
         "hovertemplate": "speechiness=%{x}<br>count=%{y}<extra></extra>",
         "legendgroup": "0.0859",
         "marker": {
          "color": "rgb(93, 105, 177)",
          "pattern": {
           "shape": ""
          }
         },
         "name": "0.0859",
         "offsetgroup": "0.0859",
         "orientation": "v",
         "showlegend": true,
         "type": "histogram",
         "x": [
          0.0859
         ],
         "xaxis": "x",
         "yaxis": "y"
        },
        {
         "alignmentgroup": "True",
         "bingroup": "x",
         "hovertemplate": "speechiness=%{x}<br>count=%{y}<extra></extra>",
         "legendgroup": "0.167",
         "marker": {
          "color": "rgb(82, 188, 163)",
          "pattern": {
           "shape": ""
          }
         },
         "name": "0.167",
         "offsetgroup": "0.167",
         "orientation": "v",
         "showlegend": true,
         "type": "histogram",
         "x": [
          0.167
         ],
         "xaxis": "x",
         "yaxis": "y"
        },
        {
         "alignmentgroup": "True",
         "bingroup": "x",
         "hovertemplate": "speechiness=%{x}<br>count=%{y}<extra></extra>",
         "legendgroup": "0.0804",
         "marker": {
          "color": "rgb(153, 201, 69)",
          "pattern": {
           "shape": ""
          }
         },
         "name": "0.0804",
         "offsetgroup": "0.0804",
         "orientation": "v",
         "showlegend": true,
         "type": "histogram",
         "x": [
          0.0804
         ],
         "xaxis": "x",
         "yaxis": "y"
        },
        {
         "alignmentgroup": "True",
         "bingroup": "x",
         "hovertemplate": "speechiness=%{x}<br>count=%{y}<extra></extra>",
         "legendgroup": "0.0406",
         "marker": {
          "color": "rgb(204, 97, 176)",
          "pattern": {
           "shape": ""
          }
         },
         "name": "0.0406",
         "offsetgroup": "0.0406",
         "orientation": "v",
         "showlegend": true,
         "type": "histogram",
         "x": [
          0.0406,
          0.0406
         ],
         "xaxis": "x",
         "yaxis": "y"
        },
        {
         "alignmentgroup": "True",
         "bingroup": "x",
         "hovertemplate": "speechiness=%{x}<br>count=%{y}<extra></extra>",
         "legendgroup": "0.339",
         "marker": {
          "color": "rgb(36, 121, 108)",
          "pattern": {
           "shape": ""
          }
         },
         "name": "0.339",
         "offsetgroup": "0.339",
         "orientation": "v",
         "showlegend": true,
         "type": "histogram",
         "x": [
          0.339
         ],
         "xaxis": "x",
         "yaxis": "y"
        },
        {
         "alignmentgroup": "True",
         "bingroup": "x",
         "hovertemplate": "speechiness=%{x}<br>count=%{y}<extra></extra>",
         "legendgroup": "0.0559",
         "marker": {
          "color": "rgb(218, 165, 27)",
          "pattern": {
           "shape": ""
          }
         },
         "name": "0.0559",
         "offsetgroup": "0.0559",
         "orientation": "v",
         "showlegend": true,
         "type": "histogram",
         "x": [
          0.0559
         ],
         "xaxis": "x",
         "yaxis": "y"
        },
        {
         "alignmentgroup": "True",
         "bingroup": "x",
         "hovertemplate": "speechiness=%{x}<br>count=%{y}<extra></extra>",
         "legendgroup": "0.186",
         "marker": {
          "color": "rgb(47, 138, 196)",
          "pattern": {
           "shape": ""
          }
         },
         "name": "0.186",
         "offsetgroup": "0.186",
         "orientation": "v",
         "showlegend": true,
         "type": "histogram",
         "x": [
          0.186
         ],
         "xaxis": "x",
         "yaxis": "y"
        },
        {
         "alignmentgroup": "True",
         "bingroup": "x",
         "hovertemplate": "speechiness=%{x}<br>count=%{y}<extra></extra>",
         "legendgroup": "0.0554",
         "marker": {
          "color": "rgb(118, 78, 159)",
          "pattern": {
           "shape": ""
          }
         },
         "name": "0.0554",
         "offsetgroup": "0.0554",
         "orientation": "v",
         "showlegend": true,
         "type": "histogram",
         "x": [
          0.0554
         ],
         "xaxis": "x",
         "yaxis": "y"
        },
        {
         "alignmentgroup": "True",
         "bingroup": "x",
         "hovertemplate": "speechiness=%{x}<br>count=%{y}<extra></extra>",
         "legendgroup": "0.105",
         "marker": {
          "color": "rgb(237, 100, 90)",
          "pattern": {
           "shape": ""
          }
         },
         "name": "0.105",
         "offsetgroup": "0.105",
         "orientation": "v",
         "showlegend": true,
         "type": "histogram",
         "x": [
          0.105
         ],
         "xaxis": "x",
         "yaxis": "y"
        },
        {
         "alignmentgroup": "True",
         "bingroup": "x",
         "hovertemplate": "speechiness=%{x}<br>count=%{y}<extra></extra>",
         "legendgroup": "0.0564",
         "marker": {
          "color": "rgb(165, 170, 153)",
          "pattern": {
           "shape": ""
          }
         },
         "name": "0.0564",
         "offsetgroup": "0.0564",
         "orientation": "v",
         "showlegend": true,
         "type": "histogram",
         "x": [
          0.0564
         ],
         "xaxis": "x",
         "yaxis": "y"
        },
        {
         "alignmentgroup": "True",
         "bingroup": "x",
         "hovertemplate": "speechiness=%{x}<br>count=%{y}<extra></extra>",
         "legendgroup": "0.0959",
         "marker": {
          "color": "rgb(229, 134, 6)",
          "pattern": {
           "shape": ""
          }
         },
         "name": "0.0959",
         "offsetgroup": "0.0959",
         "orientation": "v",
         "showlegend": true,
         "type": "histogram",
         "x": [
          0.0959
         ],
         "xaxis": "x",
         "yaxis": "y"
        },
        {
         "alignmentgroup": "True",
         "bingroup": "x",
         "hovertemplate": "speechiness=%{x}<br>count=%{y}<extra></extra>",
         "legendgroup": "0.0711",
         "marker": {
          "color": "rgb(93, 105, 177)",
          "pattern": {
           "shape": ""
          }
         },
         "name": "0.0711",
         "offsetgroup": "0.0711",
         "orientation": "v",
         "showlegend": true,
         "type": "histogram",
         "x": [
          0.0711
         ],
         "xaxis": "x",
         "yaxis": "y"
        },
        {
         "alignmentgroup": "True",
         "bingroup": "x",
         "hovertemplate": "speechiness=%{x}<br>count=%{y}<extra></extra>",
         "legendgroup": "0.255",
         "marker": {
          "color": "rgb(82, 188, 163)",
          "pattern": {
           "shape": ""
          }
         },
         "name": "0.255",
         "offsetgroup": "0.255",
         "orientation": "v",
         "showlegend": true,
         "type": "histogram",
         "x": [
          0.255
         ],
         "xaxis": "x",
         "yaxis": "y"
        },
        {
         "alignmentgroup": "True",
         "bingroup": "x",
         "hovertemplate": "speechiness=%{x}<br>count=%{y}<extra></extra>",
         "legendgroup": "0.0514",
         "marker": {
          "color": "rgb(153, 201, 69)",
          "pattern": {
           "shape": ""
          }
         },
         "name": "0.0514",
         "offsetgroup": "0.0514",
         "orientation": "v",
         "showlegend": true,
         "type": "histogram",
         "x": [
          0.0514
         ],
         "xaxis": "x",
         "yaxis": "y"
        },
        {
         "alignmentgroup": "True",
         "bingroup": "x",
         "hovertemplate": "speechiness=%{x}<br>count=%{y}<extra></extra>",
         "legendgroup": "0.0281",
         "marker": {
          "color": "rgb(204, 97, 176)",
          "pattern": {
           "shape": ""
          }
         },
         "name": "0.0281",
         "offsetgroup": "0.0281",
         "orientation": "v",
         "showlegend": true,
         "type": "histogram",
         "x": [
          0.0281
         ],
         "xaxis": "x",
         "yaxis": "y"
        },
        {
         "alignmentgroup": "True",
         "bingroup": "x",
         "hovertemplate": "speechiness=%{x}<br>count=%{y}<extra></extra>",
         "legendgroup": "0.153",
         "marker": {
          "color": "rgb(36, 121, 108)",
          "pattern": {
           "shape": ""
          }
         },
         "name": "0.153",
         "offsetgroup": "0.153",
         "orientation": "v",
         "showlegend": true,
         "type": "histogram",
         "x": [
          0.153
         ],
         "xaxis": "x",
         "yaxis": "y"
        },
        {
         "alignmentgroup": "True",
         "bingroup": "x",
         "hovertemplate": "speechiness=%{x}<br>count=%{y}<extra></extra>",
         "legendgroup": "0.0773",
         "marker": {
          "color": "rgb(218, 165, 27)",
          "pattern": {
           "shape": ""
          }
         },
         "name": "0.0773",
         "offsetgroup": "0.0773",
         "orientation": "v",
         "showlegend": true,
         "type": "histogram",
         "x": [
          0.0773
         ],
         "xaxis": "x",
         "yaxis": "y"
        }
       ],
       "layout": {
        "barmode": "relative",
        "height": 500,
        "legend": {
         "title": {
          "text": "speechiness"
         },
         "tracegroupgap": 0
        },
        "template": {
         "data": {
          "bar": [
           {
            "error_x": {
             "color": "#f2f5fa"
            },
            "error_y": {
             "color": "#f2f5fa"
            },
            "marker": {
             "line": {
              "color": "rgb(17,17,17)",
              "width": 0.5
             },
             "pattern": {
              "fillmode": "overlay",
              "size": 10,
              "solidity": 0.2
             }
            },
            "type": "bar"
           }
          ],
          "barpolar": [
           {
            "marker": {
             "line": {
              "color": "rgb(17,17,17)",
              "width": 0.5
             },
             "pattern": {
              "fillmode": "overlay",
              "size": 10,
              "solidity": 0.2
             }
            },
            "type": "barpolar"
           }
          ],
          "carpet": [
           {
            "aaxis": {
             "endlinecolor": "#A2B1C6",
             "gridcolor": "#506784",
             "linecolor": "#506784",
             "minorgridcolor": "#506784",
             "startlinecolor": "#A2B1C6"
            },
            "baxis": {
             "endlinecolor": "#A2B1C6",
             "gridcolor": "#506784",
             "linecolor": "#506784",
             "minorgridcolor": "#506784",
             "startlinecolor": "#A2B1C6"
            },
            "type": "carpet"
           }
          ],
          "choropleth": [
           {
            "colorbar": {
             "outlinewidth": 0,
             "ticks": ""
            },
            "type": "choropleth"
           }
          ],
          "contour": [
           {
            "colorbar": {
             "outlinewidth": 0,
             "ticks": ""
            },
            "colorscale": [
             [
              0,
              "#0d0887"
             ],
             [
              0.1111111111111111,
              "#46039f"
             ],
             [
              0.2222222222222222,
              "#7201a8"
             ],
             [
              0.3333333333333333,
              "#9c179e"
             ],
             [
              0.4444444444444444,
              "#bd3786"
             ],
             [
              0.5555555555555556,
              "#d8576b"
             ],
             [
              0.6666666666666666,
              "#ed7953"
             ],
             [
              0.7777777777777778,
              "#fb9f3a"
             ],
             [
              0.8888888888888888,
              "#fdca26"
             ],
             [
              1,
              "#f0f921"
             ]
            ],
            "type": "contour"
           }
          ],
          "contourcarpet": [
           {
            "colorbar": {
             "outlinewidth": 0,
             "ticks": ""
            },
            "type": "contourcarpet"
           }
          ],
          "heatmap": [
           {
            "colorbar": {
             "outlinewidth": 0,
             "ticks": ""
            },
            "colorscale": [
             [
              0,
              "#0d0887"
             ],
             [
              0.1111111111111111,
              "#46039f"
             ],
             [
              0.2222222222222222,
              "#7201a8"
             ],
             [
              0.3333333333333333,
              "#9c179e"
             ],
             [
              0.4444444444444444,
              "#bd3786"
             ],
             [
              0.5555555555555556,
              "#d8576b"
             ],
             [
              0.6666666666666666,
              "#ed7953"
             ],
             [
              0.7777777777777778,
              "#fb9f3a"
             ],
             [
              0.8888888888888888,
              "#fdca26"
             ],
             [
              1,
              "#f0f921"
             ]
            ],
            "type": "heatmap"
           }
          ],
          "heatmapgl": [
           {
            "colorbar": {
             "outlinewidth": 0,
             "ticks": ""
            },
            "colorscale": [
             [
              0,
              "#0d0887"
             ],
             [
              0.1111111111111111,
              "#46039f"
             ],
             [
              0.2222222222222222,
              "#7201a8"
             ],
             [
              0.3333333333333333,
              "#9c179e"
             ],
             [
              0.4444444444444444,
              "#bd3786"
             ],
             [
              0.5555555555555556,
              "#d8576b"
             ],
             [
              0.6666666666666666,
              "#ed7953"
             ],
             [
              0.7777777777777778,
              "#fb9f3a"
             ],
             [
              0.8888888888888888,
              "#fdca26"
             ],
             [
              1,
              "#f0f921"
             ]
            ],
            "type": "heatmapgl"
           }
          ],
          "histogram": [
           {
            "marker": {
             "pattern": {
              "fillmode": "overlay",
              "size": 10,
              "solidity": 0.2
             }
            },
            "type": "histogram"
           }
          ],
          "histogram2d": [
           {
            "colorbar": {
             "outlinewidth": 0,
             "ticks": ""
            },
            "colorscale": [
             [
              0,
              "#0d0887"
             ],
             [
              0.1111111111111111,
              "#46039f"
             ],
             [
              0.2222222222222222,
              "#7201a8"
             ],
             [
              0.3333333333333333,
              "#9c179e"
             ],
             [
              0.4444444444444444,
              "#bd3786"
             ],
             [
              0.5555555555555556,
              "#d8576b"
             ],
             [
              0.6666666666666666,
              "#ed7953"
             ],
             [
              0.7777777777777778,
              "#fb9f3a"
             ],
             [
              0.8888888888888888,
              "#fdca26"
             ],
             [
              1,
              "#f0f921"
             ]
            ],
            "type": "histogram2d"
           }
          ],
          "histogram2dcontour": [
           {
            "colorbar": {
             "outlinewidth": 0,
             "ticks": ""
            },
            "colorscale": [
             [
              0,
              "#0d0887"
             ],
             [
              0.1111111111111111,
              "#46039f"
             ],
             [
              0.2222222222222222,
              "#7201a8"
             ],
             [
              0.3333333333333333,
              "#9c179e"
             ],
             [
              0.4444444444444444,
              "#bd3786"
             ],
             [
              0.5555555555555556,
              "#d8576b"
             ],
             [
              0.6666666666666666,
              "#ed7953"
             ],
             [
              0.7777777777777778,
              "#fb9f3a"
             ],
             [
              0.8888888888888888,
              "#fdca26"
             ],
             [
              1,
              "#f0f921"
             ]
            ],
            "type": "histogram2dcontour"
           }
          ],
          "mesh3d": [
           {
            "colorbar": {
             "outlinewidth": 0,
             "ticks": ""
            },
            "type": "mesh3d"
           }
          ],
          "parcoords": [
           {
            "line": {
             "colorbar": {
              "outlinewidth": 0,
              "ticks": ""
             }
            },
            "type": "parcoords"
           }
          ],
          "pie": [
           {
            "automargin": true,
            "type": "pie"
           }
          ],
          "scatter": [
           {
            "marker": {
             "line": {
              "color": "#283442"
             }
            },
            "type": "scatter"
           }
          ],
          "scatter3d": [
           {
            "line": {
             "colorbar": {
              "outlinewidth": 0,
              "ticks": ""
             }
            },
            "marker": {
             "colorbar": {
              "outlinewidth": 0,
              "ticks": ""
             }
            },
            "type": "scatter3d"
           }
          ],
          "scattercarpet": [
           {
            "marker": {
             "colorbar": {
              "outlinewidth": 0,
              "ticks": ""
             }
            },
            "type": "scattercarpet"
           }
          ],
          "scattergeo": [
           {
            "marker": {
             "colorbar": {
              "outlinewidth": 0,
              "ticks": ""
             }
            },
            "type": "scattergeo"
           }
          ],
          "scattergl": [
           {
            "marker": {
             "line": {
              "color": "#283442"
             }
            },
            "type": "scattergl"
           }
          ],
          "scattermapbox": [
           {
            "marker": {
             "colorbar": {
              "outlinewidth": 0,
              "ticks": ""
             }
            },
            "type": "scattermapbox"
           }
          ],
          "scatterpolar": [
           {
            "marker": {
             "colorbar": {
              "outlinewidth": 0,
              "ticks": ""
             }
            },
            "type": "scatterpolar"
           }
          ],
          "scatterpolargl": [
           {
            "marker": {
             "colorbar": {
              "outlinewidth": 0,
              "ticks": ""
             }
            },
            "type": "scatterpolargl"
           }
          ],
          "scatterternary": [
           {
            "marker": {
             "colorbar": {
              "outlinewidth": 0,
              "ticks": ""
             }
            },
            "type": "scatterternary"
           }
          ],
          "surface": [
           {
            "colorbar": {
             "outlinewidth": 0,
             "ticks": ""
            },
            "colorscale": [
             [
              0,
              "#0d0887"
             ],
             [
              0.1111111111111111,
              "#46039f"
             ],
             [
              0.2222222222222222,
              "#7201a8"
             ],
             [
              0.3333333333333333,
              "#9c179e"
             ],
             [
              0.4444444444444444,
              "#bd3786"
             ],
             [
              0.5555555555555556,
              "#d8576b"
             ],
             [
              0.6666666666666666,
              "#ed7953"
             ],
             [
              0.7777777777777778,
              "#fb9f3a"
             ],
             [
              0.8888888888888888,
              "#fdca26"
             ],
             [
              1,
              "#f0f921"
             ]
            ],
            "type": "surface"
           }
          ],
          "table": [
           {
            "cells": {
             "fill": {
              "color": "#506784"
             },
             "line": {
              "color": "rgb(17,17,17)"
             }
            },
            "header": {
             "fill": {
              "color": "#2a3f5f"
             },
             "line": {
              "color": "rgb(17,17,17)"
             }
            },
            "type": "table"
           }
          ]
         },
         "layout": {
          "annotationdefaults": {
           "arrowcolor": "#f2f5fa",
           "arrowhead": 0,
           "arrowwidth": 1
          },
          "autotypenumbers": "strict",
          "coloraxis": {
           "colorbar": {
            "outlinewidth": 0,
            "ticks": ""
           }
          },
          "colorscale": {
           "diverging": [
            [
             0,
             "#8e0152"
            ],
            [
             0.1,
             "#c51b7d"
            ],
            [
             0.2,
             "#de77ae"
            ],
            [
             0.3,
             "#f1b6da"
            ],
            [
             0.4,
             "#fde0ef"
            ],
            [
             0.5,
             "#f7f7f7"
            ],
            [
             0.6,
             "#e6f5d0"
            ],
            [
             0.7,
             "#b8e186"
            ],
            [
             0.8,
             "#7fbc41"
            ],
            [
             0.9,
             "#4d9221"
            ],
            [
             1,
             "#276419"
            ]
           ],
           "sequential": [
            [
             0,
             "#0d0887"
            ],
            [
             0.1111111111111111,
             "#46039f"
            ],
            [
             0.2222222222222222,
             "#7201a8"
            ],
            [
             0.3333333333333333,
             "#9c179e"
            ],
            [
             0.4444444444444444,
             "#bd3786"
            ],
            [
             0.5555555555555556,
             "#d8576b"
            ],
            [
             0.6666666666666666,
             "#ed7953"
            ],
            [
             0.7777777777777778,
             "#fb9f3a"
            ],
            [
             0.8888888888888888,
             "#fdca26"
            ],
            [
             1,
             "#f0f921"
            ]
           ],
           "sequentialminus": [
            [
             0,
             "#0d0887"
            ],
            [
             0.1111111111111111,
             "#46039f"
            ],
            [
             0.2222222222222222,
             "#7201a8"
            ],
            [
             0.3333333333333333,
             "#9c179e"
            ],
            [
             0.4444444444444444,
             "#bd3786"
            ],
            [
             0.5555555555555556,
             "#d8576b"
            ],
            [
             0.6666666666666666,
             "#ed7953"
            ],
            [
             0.7777777777777778,
             "#fb9f3a"
            ],
            [
             0.8888888888888888,
             "#fdca26"
            ],
            [
             1,
             "#f0f921"
            ]
           ]
          },
          "colorway": [
           "#636efa",
           "#EF553B",
           "#00cc96",
           "#ab63fa",
           "#FFA15A",
           "#19d3f3",
           "#FF6692",
           "#B6E880",
           "#FF97FF",
           "#FECB52"
          ],
          "font": {
           "color": "#f2f5fa"
          },
          "geo": {
           "bgcolor": "rgb(17,17,17)",
           "lakecolor": "rgb(17,17,17)",
           "landcolor": "rgb(17,17,17)",
           "showlakes": true,
           "showland": true,
           "subunitcolor": "#506784"
          },
          "hoverlabel": {
           "align": "left"
          },
          "hovermode": "closest",
          "mapbox": {
           "style": "dark"
          },
          "paper_bgcolor": "rgb(17,17,17)",
          "plot_bgcolor": "rgb(17,17,17)",
          "polar": {
           "angularaxis": {
            "gridcolor": "#506784",
            "linecolor": "#506784",
            "ticks": ""
           },
           "bgcolor": "rgb(17,17,17)",
           "radialaxis": {
            "gridcolor": "#506784",
            "linecolor": "#506784",
            "ticks": ""
           }
          },
          "scene": {
           "xaxis": {
            "backgroundcolor": "rgb(17,17,17)",
            "gridcolor": "#506784",
            "gridwidth": 2,
            "linecolor": "#506784",
            "showbackground": true,
            "ticks": "",
            "zerolinecolor": "#C8D4E3"
           },
           "yaxis": {
            "backgroundcolor": "rgb(17,17,17)",
            "gridcolor": "#506784",
            "gridwidth": 2,
            "linecolor": "#506784",
            "showbackground": true,
            "ticks": "",
            "zerolinecolor": "#C8D4E3"
           },
           "zaxis": {
            "backgroundcolor": "rgb(17,17,17)",
            "gridcolor": "#506784",
            "gridwidth": 2,
            "linecolor": "#506784",
            "showbackground": true,
            "ticks": "",
            "zerolinecolor": "#C8D4E3"
           }
          },
          "shapedefaults": {
           "line": {
            "color": "#f2f5fa"
           }
          },
          "sliderdefaults": {
           "bgcolor": "#C8D4E3",
           "bordercolor": "rgb(17,17,17)",
           "borderwidth": 1,
           "tickwidth": 0
          },
          "ternary": {
           "aaxis": {
            "gridcolor": "#506784",
            "linecolor": "#506784",
            "ticks": ""
           },
           "baxis": {
            "gridcolor": "#506784",
            "linecolor": "#506784",
            "ticks": ""
           },
           "bgcolor": "rgb(17,17,17)",
           "caxis": {
            "gridcolor": "#506784",
            "linecolor": "#506784",
            "ticks": ""
           }
          },
          "title": {
           "x": 0.05
          },
          "updatemenudefaults": {
           "bgcolor": "#506784",
           "borderwidth": 0
          },
          "xaxis": {
           "automargin": true,
           "gridcolor": "#283442",
           "linecolor": "#506784",
           "ticks": "",
           "title": {
            "standoff": 15
           },
           "zerolinecolor": "#283442",
           "zerolinewidth": 2
          },
          "yaxis": {
           "automargin": true,
           "gridcolor": "#283442",
           "linecolor": "#506784",
           "ticks": "",
           "title": {
            "standoff": 15
           },
           "zerolinecolor": "#283442",
           "zerolinewidth": 2
          }
         }
        },
        "title": {
         "font": {
          "size": 20
         },
         "text": "<b>Count vs Speechiness"
        },
        "width": 800,
        "xaxis": {
         "anchor": "y",
         "categoryarray": [
          0.0598,
          0.0802,
          0.0924,
          0.0319,
          0.0712,
          0.0466,
          0.0536,
          0.0338,
          0.0283,
          0.128,
          0.029,
          0.0331,
          0.0944,
          0.059,
          0.276,
          0.375,
          0.0296,
          0.2,
          0.0484,
          0.0333,
          0.0465,
          0.109,
          0.0359,
          0.0317,
          0.0336,
          0.0308,
          0.0557,
          0.438,
          0.0395,
          0.145,
          0.0464,
          0.0322,
          0.0364,
          0.334,
          0.242,
          0.03,
          0.141,
          0.231,
          0.0382,
          0.0694,
          0.0523,
          0.0379,
          0.0751,
          0.102,
          0.0688,
          0.0515,
          0.222,
          0.0752,
          0.154,
          0.0984,
          0.11,
          0.0349,
          0.0578,
          0.0625,
          0.341,
          0.0474,
          0.04,
          0.0414,
          0.0363,
          0.0476,
          0.0738,
          0.0615,
          0.257,
          0.044,
          0.0321,
          0.0747,
          0.0824,
          0.0432,
          0.0601,
          0.111,
          0.0493,
          0.0658,
          0.0442,
          0.0544,
          0.22,
          0.336,
          0.0323,
          0.123,
          0.0859,
          0.167,
          0.0804,
          0.0406,
          0.339,
          0.0559,
          0.186,
          0.0554,
          0.105,
          0.0564,
          0.0959,
          0.0711,
          0.255,
          0.0514,
          0.0281,
          0.153,
          0.0773
         ],
         "categoryorder": "array",
         "domain": [
          0,
          1
         ],
         "title": {
          "text": "speechiness"
         }
        },
        "yaxis": {
         "anchor": "x",
         "domain": [
          0,
          1
         ],
         "title": {
          "text": "count"
         }
        }
       }
      }
     },
     "metadata": {},
     "output_type": "display_data"
    }
   ],
   "source": [
    "Features_copy = Features.copy()\n",
    "Features_copy['speechiness'] = \\\n",
    "    Features_copy['speechiness'].fillna('Null')\n",
    "\n",
    "fig=px.histogram(Features_copy,\n",
    "                 x = 'speechiness',\n",
    "                 color = 'speechiness',\n",
    "                 title=\"<b>Count vs Speechiness\",\n",
    "                 color_discrete_sequence=px.colors.qualitative.Vivid,\n",
    "                 width=800, height=500)\n",
    "fig.update_layout(template=\"plotly_dark\")\n",
    "fig.update_layout(title_font_size=20)\n",
    "fig.show()"
   ]
  },
  {
   "cell_type": "code",
   "execution_count": 10,
   "metadata": {},
   "outputs": [
    {
     "data": {
      "application/vnd.plotly.v1+json": {
       "config": {
        "plotlyServerURL": "https://plot.ly"
       },
       "data": [
        {
         "alignmentgroup": "True",
         "bingroup": "x",
         "hovertemplate": "acousticness=%{x}<br>count=%{y}<extra></extra>",
         "legendgroup": "0.00146",
         "marker": {
          "color": "rgb(229, 134, 6)",
          "pattern": {
           "shape": ""
          }
         },
         "name": "0.00146",
         "offsetgroup": "0.00146",
         "orientation": "v",
         "showlegend": true,
         "type": "histogram",
         "x": [
          0.00146
         ],
         "xaxis": "x",
         "yaxis": "y"
        },
        {
         "alignmentgroup": "True",
         "bingroup": "x",
         "hovertemplate": "acousticness=%{x}<br>count=%{y}<extra></extra>",
         "legendgroup": "0.581",
         "marker": {
          "color": "rgb(93, 105, 177)",
          "pattern": {
           "shape": ""
          }
         },
         "name": "0.581",
         "offsetgroup": "0.581",
         "orientation": "v",
         "showlegend": true,
         "type": "histogram",
         "x": [
          0.581
         ],
         "xaxis": "x",
         "yaxis": "y"
        },
        {
         "alignmentgroup": "True",
         "bingroup": "x",
         "hovertemplate": "acousticness=%{x}<br>count=%{y}<extra></extra>",
         "legendgroup": "0.692",
         "marker": {
          "color": "rgb(82, 188, 163)",
          "pattern": {
           "shape": ""
          }
         },
         "name": "0.692",
         "offsetgroup": "0.692",
         "orientation": "v",
         "showlegend": true,
         "type": "histogram",
         "x": [
          0.692
         ],
         "xaxis": "x",
         "yaxis": "y"
        },
        {
         "alignmentgroup": "True",
         "bingroup": "x",
         "hovertemplate": "acousticness=%{x}<br>count=%{y}<extra></extra>",
         "legendgroup": "0.751",
         "marker": {
          "color": "rgb(153, 201, 69)",
          "pattern": {
           "shape": ""
          }
         },
         "name": "0.751",
         "offsetgroup": "0.751",
         "orientation": "v",
         "showlegend": true,
         "type": "histogram",
         "x": [
          0.751
         ],
         "xaxis": "x",
         "yaxis": "y"
        },
        {
         "alignmentgroup": "True",
         "bingroup": "x",
         "hovertemplate": "acousticness=%{x}<br>count=%{y}<extra></extra>",
         "legendgroup": "0.124",
         "marker": {
          "color": "rgb(204, 97, 176)",
          "pattern": {
           "shape": ""
          }
         },
         "name": "0.124",
         "offsetgroup": "0.124",
         "orientation": "v",
         "showlegend": true,
         "type": "histogram",
         "x": [
          0.124
         ],
         "xaxis": "x",
         "yaxis": "y"
        },
        {
         "alignmentgroup": "True",
         "bingroup": "x",
         "hovertemplate": "acousticness=%{x}<br>count=%{y}<extra></extra>",
         "legendgroup": "0.556",
         "marker": {
          "color": "rgb(36, 121, 108)",
          "pattern": {
           "shape": ""
          }
         },
         "name": "0.556",
         "offsetgroup": "0.556",
         "orientation": "v",
         "showlegend": true,
         "type": "histogram",
         "x": [
          0.556,
          0.556
         ],
         "xaxis": "x",
         "yaxis": "y"
        },
        {
         "alignmentgroup": "True",
         "bingroup": "x",
         "hovertemplate": "acousticness=%{x}<br>count=%{y}<extra></extra>",
         "legendgroup": "0.00776",
         "marker": {
          "color": "rgb(218, 165, 27)",
          "pattern": {
           "shape": ""
          }
         },
         "name": "0.00776",
         "offsetgroup": "0.00776",
         "orientation": "v",
         "showlegend": true,
         "type": "histogram",
         "x": [
          0.00776
         ],
         "xaxis": "x",
         "yaxis": "y"
        },
        {
         "alignmentgroup": "True",
         "bingroup": "x",
         "hovertemplate": "acousticness=%{x}<br>count=%{y}<extra></extra>",
         "legendgroup": "0.414",
         "marker": {
          "color": "rgb(47, 138, 196)",
          "pattern": {
           "shape": ""
          }
         },
         "name": "0.414",
         "offsetgroup": "0.414",
         "orientation": "v",
         "showlegend": true,
         "type": "histogram",
         "x": [
          0.414
         ],
         "xaxis": "x",
         "yaxis": "y"
        },
        {
         "alignmentgroup": "True",
         "bingroup": "x",
         "hovertemplate": "acousticness=%{x}<br>count=%{y}<extra></extra>",
         "legendgroup": "0.945",
         "marker": {
          "color": "rgb(118, 78, 159)",
          "pattern": {
           "shape": ""
          }
         },
         "name": "0.945",
         "offsetgroup": "0.945",
         "orientation": "v",
         "showlegend": true,
         "type": "histogram",
         "x": [
          0.945
         ],
         "xaxis": "x",
         "yaxis": "y"
        },
        {
         "alignmentgroup": "True",
         "bingroup": "x",
         "hovertemplate": "acousticness=%{x}<br>count=%{y}<extra></extra>",
         "legendgroup": "0.0622",
         "marker": {
          "color": "rgb(237, 100, 90)",
          "pattern": {
           "shape": ""
          }
         },
         "name": "0.0622",
         "offsetgroup": "0.0622",
         "orientation": "v",
         "showlegend": true,
         "type": "histogram",
         "x": [
          0.0622,
          0.0622
         ],
         "xaxis": "x",
         "yaxis": "y"
        },
        {
         "alignmentgroup": "True",
         "bingroup": "x",
         "hovertemplate": "acousticness=%{x}<br>count=%{y}<extra></extra>",
         "legendgroup": "0.0392",
         "marker": {
          "color": "rgb(165, 170, 153)",
          "pattern": {
           "shape": ""
          }
         },
         "name": "0.0392",
         "offsetgroup": "0.0392",
         "orientation": "v",
         "showlegend": true,
         "type": "histogram",
         "x": [
          0.0392
         ],
         "xaxis": "x",
         "yaxis": "y"
        },
        {
         "alignmentgroup": "True",
         "bingroup": "x",
         "hovertemplate": "acousticness=%{x}<br>count=%{y}<extra></extra>",
         "legendgroup": "0.433",
         "marker": {
          "color": "rgb(229, 134, 6)",
          "pattern": {
           "shape": ""
          }
         },
         "name": "0.433",
         "offsetgroup": "0.433",
         "orientation": "v",
         "showlegend": true,
         "type": "histogram",
         "x": [
          0.433
         ],
         "xaxis": "x",
         "yaxis": "y"
        },
        {
         "alignmentgroup": "True",
         "bingroup": "x",
         "hovertemplate": "acousticness=%{x}<br>count=%{y}<extra></extra>",
         "legendgroup": "0.44",
         "marker": {
          "color": "rgb(93, 105, 177)",
          "pattern": {
           "shape": ""
          }
         },
         "name": "0.44",
         "offsetgroup": "0.44",
         "orientation": "v",
         "showlegend": true,
         "type": "histogram",
         "x": [
          0.44
         ],
         "xaxis": "x",
         "yaxis": "y"
        },
        {
         "alignmentgroup": "True",
         "bingroup": "x",
         "hovertemplate": "acousticness=%{x}<br>count=%{y}<extra></extra>",
         "legendgroup": "0.695",
         "marker": {
          "color": "rgb(82, 188, 163)",
          "pattern": {
           "shape": ""
          }
         },
         "name": "0.695",
         "offsetgroup": "0.695",
         "orientation": "v",
         "showlegend": true,
         "type": "histogram",
         "x": [
          0.695
         ],
         "xaxis": "x",
         "yaxis": "y"
        },
        {
         "alignmentgroup": "True",
         "bingroup": "x",
         "hovertemplate": "acousticness=%{x}<br>count=%{y}<extra></extra>",
         "legendgroup": "0.141",
         "marker": {
          "color": "rgb(153, 201, 69)",
          "pattern": {
           "shape": ""
          }
         },
         "name": "0.141",
         "offsetgroup": "0.141",
         "orientation": "v",
         "showlegend": true,
         "type": "histogram",
         "x": [
          0.141
         ],
         "xaxis": "x",
         "yaxis": "y"
        },
        {
         "alignmentgroup": "True",
         "bingroup": "x",
         "hovertemplate": "acousticness=%{x}<br>count=%{y}<extra></extra>",
         "legendgroup": "0.328",
         "marker": {
          "color": "rgb(204, 97, 176)",
          "pattern": {
           "shape": ""
          }
         },
         "name": "0.328",
         "offsetgroup": "0.328",
         "orientation": "v",
         "showlegend": true,
         "type": "histogram",
         "x": [
          0.328
         ],
         "xaxis": "x",
         "yaxis": "y"
        },
        {
         "alignmentgroup": "True",
         "bingroup": "x",
         "hovertemplate": "acousticness=%{x}<br>count=%{y}<extra></extra>",
         "legendgroup": "0.474",
         "marker": {
          "color": "rgb(36, 121, 108)",
          "pattern": {
           "shape": ""
          }
         },
         "name": "0.474",
         "offsetgroup": "0.474",
         "orientation": "v",
         "showlegend": true,
         "type": "histogram",
         "x": [
          0.474
         ],
         "xaxis": "x",
         "yaxis": "y"
        },
        {
         "alignmentgroup": "True",
         "bingroup": "x",
         "hovertemplate": "acousticness=%{x}<br>count=%{y}<extra></extra>",
         "legendgroup": "0.349",
         "marker": {
          "color": "rgb(218, 165, 27)",
          "pattern": {
           "shape": ""
          }
         },
         "name": "0.349",
         "offsetgroup": "0.349",
         "orientation": "v",
         "showlegend": true,
         "type": "histogram",
         "x": [
          0.349
         ],
         "xaxis": "x",
         "yaxis": "y"
        },
        {
         "alignmentgroup": "True",
         "bingroup": "x",
         "hovertemplate": "acousticness=%{x}<br>count=%{y}<extra></extra>",
         "legendgroup": "0.876",
         "marker": {
          "color": "rgb(47, 138, 196)",
          "pattern": {
           "shape": ""
          }
         },
         "name": "0.876",
         "offsetgroup": "0.876",
         "orientation": "v",
         "showlegend": true,
         "type": "histogram",
         "x": [
          0.876
         ],
         "xaxis": "x",
         "yaxis": "y"
        },
        {
         "alignmentgroup": "True",
         "bingroup": "x",
         "hovertemplate": "acousticness=%{x}<br>count=%{y}<extra></extra>",
         "legendgroup": "0.934",
         "marker": {
          "color": "rgb(118, 78, 159)",
          "pattern": {
           "shape": ""
          }
         },
         "name": "0.934",
         "offsetgroup": "0.934",
         "orientation": "v",
         "showlegend": true,
         "type": "histogram",
         "x": [
          0.934
         ],
         "xaxis": "x",
         "yaxis": "y"
        },
        {
         "alignmentgroup": "True",
         "bingroup": "x",
         "hovertemplate": "acousticness=%{x}<br>count=%{y}<extra></extra>",
         "legendgroup": "0.122",
         "marker": {
          "color": "rgb(237, 100, 90)",
          "pattern": {
           "shape": ""
          }
         },
         "name": "0.122",
         "offsetgroup": "0.122",
         "orientation": "v",
         "showlegend": true,
         "type": "histogram",
         "x": [
          0.122,
          0.122
         ],
         "xaxis": "x",
         "yaxis": "y"
        },
        {
         "alignmentgroup": "True",
         "bingroup": "x",
         "hovertemplate": "acousticness=%{x}<br>count=%{y}<extra></extra>",
         "legendgroup": "0.0332",
         "marker": {
          "color": "rgb(165, 170, 153)",
          "pattern": {
           "shape": ""
          }
         },
         "name": "0.0332",
         "offsetgroup": "0.0332",
         "orientation": "v",
         "showlegend": true,
         "type": "histogram",
         "x": [
          0.0332
         ],
         "xaxis": "x",
         "yaxis": "y"
        },
        {
         "alignmentgroup": "True",
         "bingroup": "x",
         "hovertemplate": "acousticness=%{x}<br>count=%{y}<extra></extra>",
         "legendgroup": "0.607",
         "marker": {
          "color": "rgb(229, 134, 6)",
          "pattern": {
           "shape": ""
          }
         },
         "name": "0.607",
         "offsetgroup": "0.607",
         "orientation": "v",
         "showlegend": true,
         "type": "histogram",
         "x": [
          0.607
         ],
         "xaxis": "x",
         "yaxis": "y"
        },
        {
         "alignmentgroup": "True",
         "bingroup": "x",
         "hovertemplate": "acousticness=%{x}<br>count=%{y}<extra></extra>",
         "legendgroup": "0.288",
         "marker": {
          "color": "rgb(93, 105, 177)",
          "pattern": {
           "shape": ""
          }
         },
         "name": "0.288",
         "offsetgroup": "0.288",
         "orientation": "v",
         "showlegend": true,
         "type": "histogram",
         "x": [
          0.288
         ],
         "xaxis": "x",
         "yaxis": "y"
        },
        {
         "alignmentgroup": "True",
         "bingroup": "x",
         "hovertemplate": "acousticness=%{x}<br>count=%{y}<extra></extra>",
         "legendgroup": "0.0498",
         "marker": {
          "color": "rgb(82, 188, 163)",
          "pattern": {
           "shape": ""
          }
         },
         "name": "0.0498",
         "offsetgroup": "0.0498",
         "orientation": "v",
         "showlegend": true,
         "type": "histogram",
         "x": [
          0.0498
         ],
         "xaxis": "x",
         "yaxis": "y"
        },
        {
         "alignmentgroup": "True",
         "bingroup": "x",
         "hovertemplate": "acousticness=%{x}<br>count=%{y}<extra></extra>",
         "legendgroup": "0.0495",
         "marker": {
          "color": "rgb(153, 201, 69)",
          "pattern": {
           "shape": ""
          }
         },
         "name": "0.0495",
         "offsetgroup": "0.0495",
         "orientation": "v",
         "showlegend": true,
         "type": "histogram",
         "x": [
          0.0495
         ],
         "xaxis": "x",
         "yaxis": "y"
        },
        {
         "alignmentgroup": "True",
         "bingroup": "x",
         "hovertemplate": "acousticness=%{x}<br>count=%{y}<extra></extra>",
         "legendgroup": "0.371",
         "marker": {
          "color": "rgb(204, 97, 176)",
          "pattern": {
           "shape": ""
          }
         },
         "name": "0.371",
         "offsetgroup": "0.371",
         "orientation": "v",
         "showlegend": true,
         "type": "histogram",
         "x": [
          0.371,
          0.371
         ],
         "xaxis": "x",
         "yaxis": "y"
        },
        {
         "alignmentgroup": "True",
         "bingroup": "x",
         "hovertemplate": "acousticness=%{x}<br>count=%{y}<extra></extra>",
         "legendgroup": "0.342",
         "marker": {
          "color": "rgb(36, 121, 108)",
          "pattern": {
           "shape": ""
          }
         },
         "name": "0.342",
         "offsetgroup": "0.342",
         "orientation": "v",
         "showlegend": true,
         "type": "histogram",
         "x": [
          0.342
         ],
         "xaxis": "x",
         "yaxis": "y"
        },
        {
         "alignmentgroup": "True",
         "bingroup": "x",
         "hovertemplate": "acousticness=%{x}<br>count=%{y}<extra></extra>",
         "legendgroup": "0.835",
         "marker": {
          "color": "rgb(218, 165, 27)",
          "pattern": {
           "shape": ""
          }
         },
         "name": "0.835",
         "offsetgroup": "0.835",
         "orientation": "v",
         "showlegend": true,
         "type": "histogram",
         "x": [
          0.835
         ],
         "xaxis": "x",
         "yaxis": "y"
        },
        {
         "alignmentgroup": "True",
         "bingroup": "x",
         "hovertemplate": "acousticness=%{x}<br>count=%{y}<extra></extra>",
         "legendgroup": "0.192",
         "marker": {
          "color": "rgb(47, 138, 196)",
          "pattern": {
           "shape": ""
          }
         },
         "name": "0.192",
         "offsetgroup": "0.192",
         "orientation": "v",
         "showlegend": true,
         "type": "histogram",
         "x": [
          0.192
         ],
         "xaxis": "x",
         "yaxis": "y"
        },
        {
         "alignmentgroup": "True",
         "bingroup": "x",
         "hovertemplate": "acousticness=%{x}<br>count=%{y}<extra></extra>",
         "legendgroup": "0.258",
         "marker": {
          "color": "rgb(118, 78, 159)",
          "pattern": {
           "shape": ""
          }
         },
         "name": "0.258",
         "offsetgroup": "0.258",
         "orientation": "v",
         "showlegend": true,
         "type": "histogram",
         "x": [
          0.258
         ],
         "xaxis": "x",
         "yaxis": "y"
        },
        {
         "alignmentgroup": "True",
         "bingroup": "x",
         "hovertemplate": "acousticness=%{x}<br>count=%{y}<extra></extra>",
         "legendgroup": "0.634",
         "marker": {
          "color": "rgb(237, 100, 90)",
          "pattern": {
           "shape": ""
          }
         },
         "name": "0.634",
         "offsetgroup": "0.634",
         "orientation": "v",
         "showlegend": true,
         "type": "histogram",
         "x": [
          0.634
         ],
         "xaxis": "x",
         "yaxis": "y"
        },
        {
         "alignmentgroup": "True",
         "bingroup": "x",
         "hovertemplate": "acousticness=%{x}<br>count=%{y}<extra></extra>",
         "legendgroup": "0.922",
         "marker": {
          "color": "rgb(165, 170, 153)",
          "pattern": {
           "shape": ""
          }
         },
         "name": "0.922",
         "offsetgroup": "0.922",
         "orientation": "v",
         "showlegend": true,
         "type": "histogram",
         "x": [
          0.922
         ],
         "xaxis": "x",
         "yaxis": "y"
        },
        {
         "alignmentgroup": "True",
         "bingroup": "x",
         "hovertemplate": "acousticness=%{x}<br>count=%{y}<extra></extra>",
         "legendgroup": "0.000147",
         "marker": {
          "color": "rgb(229, 134, 6)",
          "pattern": {
           "shape": ""
          }
         },
         "name": "0.000147",
         "offsetgroup": "0.000147",
         "orientation": "v",
         "showlegend": true,
         "type": "histogram",
         "x": [
          0.000147
         ],
         "xaxis": "x",
         "yaxis": "y"
        },
        {
         "alignmentgroup": "True",
         "bingroup": "x",
         "hovertemplate": "acousticness=%{x}<br>count=%{y}<extra></extra>",
         "legendgroup": "0.592",
         "marker": {
          "color": "rgb(93, 105, 177)",
          "pattern": {
           "shape": ""
          }
         },
         "name": "0.592",
         "offsetgroup": "0.592",
         "orientation": "v",
         "showlegend": true,
         "type": "histogram",
         "x": [
          0.592
         ],
         "xaxis": "x",
         "yaxis": "y"
        },
        {
         "alignmentgroup": "True",
         "bingroup": "x",
         "hovertemplate": "acousticness=%{x}<br>count=%{y}<extra></extra>",
         "legendgroup": "0.0847",
         "marker": {
          "color": "rgb(82, 188, 163)",
          "pattern": {
           "shape": ""
          }
         },
         "name": "0.0847",
         "offsetgroup": "0.0847",
         "orientation": "v",
         "showlegend": true,
         "type": "histogram",
         "x": [
          0.0847
         ],
         "xaxis": "x",
         "yaxis": "y"
        },
        {
         "alignmentgroup": "True",
         "bingroup": "x",
         "hovertemplate": "acousticness=%{x}<br>count=%{y}<extra></extra>",
         "legendgroup": "0.469",
         "marker": {
          "color": "rgb(153, 201, 69)",
          "pattern": {
           "shape": ""
          }
         },
         "name": "0.469",
         "offsetgroup": "0.469",
         "orientation": "v",
         "showlegend": true,
         "type": "histogram",
         "x": [
          0.469
         ],
         "xaxis": "x",
         "yaxis": "y"
        },
        {
         "alignmentgroup": "True",
         "bingroup": "x",
         "hovertemplate": "acousticness=%{x}<br>count=%{y}<extra></extra>",
         "legendgroup": "0.184",
         "marker": {
          "color": "rgb(204, 97, 176)",
          "pattern": {
           "shape": ""
          }
         },
         "name": "0.184",
         "offsetgroup": "0.184",
         "orientation": "v",
         "showlegend": true,
         "type": "histogram",
         "x": [
          0.184
         ],
         "xaxis": "x",
         "yaxis": "y"
        },
        {
         "alignmentgroup": "True",
         "bingroup": "x",
         "hovertemplate": "acousticness=%{x}<br>count=%{y}<extra></extra>",
         "legendgroup": "0.0462",
         "marker": {
          "color": "rgb(36, 121, 108)",
          "pattern": {
           "shape": ""
          }
         },
         "name": "0.0462",
         "offsetgroup": "0.0462",
         "orientation": "v",
         "showlegend": true,
         "type": "histogram",
         "x": [
          0.0462
         ],
         "xaxis": "x",
         "yaxis": "y"
        },
        {
         "alignmentgroup": "True",
         "bingroup": "x",
         "hovertemplate": "acousticness=%{x}<br>count=%{y}<extra></extra>",
         "legendgroup": "0.00264",
         "marker": {
          "color": "rgb(218, 165, 27)",
          "pattern": {
           "shape": ""
          }
         },
         "name": "0.00264",
         "offsetgroup": "0.00264",
         "orientation": "v",
         "showlegend": true,
         "type": "histogram",
         "x": [
          0.00264
         ],
         "xaxis": "x",
         "yaxis": "y"
        },
        {
         "alignmentgroup": "True",
         "bingroup": "x",
         "hovertemplate": "acousticness=%{x}<br>count=%{y}<extra></extra>",
         "legendgroup": "0.0654",
         "marker": {
          "color": "rgb(47, 138, 196)",
          "pattern": {
           "shape": ""
          }
         },
         "name": "0.0654",
         "offsetgroup": "0.0654",
         "orientation": "v",
         "showlegend": true,
         "type": "histogram",
         "x": [
          0.0654
         ],
         "xaxis": "x",
         "yaxis": "y"
        },
        {
         "alignmentgroup": "True",
         "bingroup": "x",
         "hovertemplate": "acousticness=%{x}<br>count=%{y}<extra></extra>",
         "legendgroup": "0.00265",
         "marker": {
          "color": "rgb(118, 78, 159)",
          "pattern": {
           "shape": ""
          }
         },
         "name": "0.00265",
         "offsetgroup": "0.00265",
         "orientation": "v",
         "showlegend": true,
         "type": "histogram",
         "x": [
          0.00265
         ],
         "xaxis": "x",
         "yaxis": "y"
        },
        {
         "alignmentgroup": "True",
         "bingroup": "x",
         "hovertemplate": "acousticness=%{x}<br>count=%{y}<extra></extra>",
         "legendgroup": "0.0038",
         "marker": {
          "color": "rgb(237, 100, 90)",
          "pattern": {
           "shape": ""
          }
         },
         "name": "0.0038",
         "offsetgroup": "0.0038",
         "orientation": "v",
         "showlegend": true,
         "type": "histogram",
         "x": [
          0.0038
         ],
         "xaxis": "x",
         "yaxis": "y"
        },
        {
         "alignmentgroup": "True",
         "bingroup": "x",
         "hovertemplate": "acousticness=%{x}<br>count=%{y}<extra></extra>",
         "legendgroup": "0.431",
         "marker": {
          "color": "rgb(165, 170, 153)",
          "pattern": {
           "shape": ""
          }
         },
         "name": "0.431",
         "offsetgroup": "0.431",
         "orientation": "v",
         "showlegend": true,
         "type": "histogram",
         "x": [
          0.431
         ],
         "xaxis": "x",
         "yaxis": "y"
        },
        {
         "alignmentgroup": "True",
         "bingroup": "x",
         "hovertemplate": "acousticness=%{x}<br>count=%{y}<extra></extra>",
         "legendgroup": "0.121",
         "marker": {
          "color": "rgb(229, 134, 6)",
          "pattern": {
           "shape": ""
          }
         },
         "name": "0.121",
         "offsetgroup": "0.121",
         "orientation": "v",
         "showlegend": true,
         "type": "histogram",
         "x": [
          0.121
         ],
         "xaxis": "x",
         "yaxis": "y"
        },
        {
         "alignmentgroup": "True",
         "bingroup": "x",
         "hovertemplate": "acousticness=%{x}<br>count=%{y}<extra></extra>",
         "legendgroup": "0.000282",
         "marker": {
          "color": "rgb(93, 105, 177)",
          "pattern": {
           "shape": ""
          }
         },
         "name": "0.000282",
         "offsetgroup": "0.000282",
         "orientation": "v",
         "showlegend": true,
         "type": "histogram",
         "x": [
          0.000282
         ],
         "xaxis": "x",
         "yaxis": "y"
        },
        {
         "alignmentgroup": "True",
         "bingroup": "x",
         "hovertemplate": "acousticness=%{x}<br>count=%{y}<extra></extra>",
         "legendgroup": "0.365",
         "marker": {
          "color": "rgb(82, 188, 163)",
          "pattern": {
           "shape": ""
          }
         },
         "name": "0.365",
         "offsetgroup": "0.365",
         "orientation": "v",
         "showlegend": true,
         "type": "histogram",
         "x": [
          0.365
         ],
         "xaxis": "x",
         "yaxis": "y"
        },
        {
         "alignmentgroup": "True",
         "bingroup": "x",
         "hovertemplate": "acousticness=%{x}<br>count=%{y}<extra></extra>",
         "legendgroup": "0.0671",
         "marker": {
          "color": "rgb(153, 201, 69)",
          "pattern": {
           "shape": ""
          }
         },
         "name": "0.0671",
         "offsetgroup": "0.0671",
         "orientation": "v",
         "showlegend": true,
         "type": "histogram",
         "x": [
          0.0671
         ],
         "xaxis": "x",
         "yaxis": "y"
        },
        {
         "alignmentgroup": "True",
         "bingroup": "x",
         "hovertemplate": "acousticness=%{x}<br>count=%{y}<extra></extra>",
         "legendgroup": "0.00513",
         "marker": {
          "color": "rgb(204, 97, 176)",
          "pattern": {
           "shape": ""
          }
         },
         "name": "0.00513",
         "offsetgroup": "0.00513",
         "orientation": "v",
         "showlegend": true,
         "type": "histogram",
         "x": [
          0.00513
         ],
         "xaxis": "x",
         "yaxis": "y"
        },
        {
         "alignmentgroup": "True",
         "bingroup": "x",
         "hovertemplate": "acousticness=%{x}<br>count=%{y}<extra></extra>",
         "legendgroup": "0.000744",
         "marker": {
          "color": "rgb(36, 121, 108)",
          "pattern": {
           "shape": ""
          }
         },
         "name": "0.000744",
         "offsetgroup": "0.000744",
         "orientation": "v",
         "showlegend": true,
         "type": "histogram",
         "x": [
          0.000744
         ],
         "xaxis": "x",
         "yaxis": "y"
        },
        {
         "alignmentgroup": "True",
         "bingroup": "x",
         "hovertemplate": "acousticness=%{x}<br>count=%{y}<extra></extra>",
         "legendgroup": "0.335",
         "marker": {
          "color": "rgb(218, 165, 27)",
          "pattern": {
           "shape": ""
          }
         },
         "name": "0.335",
         "offsetgroup": "0.335",
         "orientation": "v",
         "showlegend": true,
         "type": "histogram",
         "x": [
          0.335
         ],
         "xaxis": "x",
         "yaxis": "y"
        },
        {
         "alignmentgroup": "True",
         "bingroup": "x",
         "hovertemplate": "acousticness=%{x}<br>count=%{y}<extra></extra>",
         "legendgroup": "8.47e-05",
         "marker": {
          "color": "rgb(47, 138, 196)",
          "pattern": {
           "shape": ""
          }
         },
         "name": "8.47e-05",
         "offsetgroup": "8.47e-05",
         "orientation": "v",
         "showlegend": true,
         "type": "histogram",
         "x": [
          0.0000847
         ],
         "xaxis": "x",
         "yaxis": "y"
        },
        {
         "alignmentgroup": "True",
         "bingroup": "x",
         "hovertemplate": "acousticness=%{x}<br>count=%{y}<extra></extra>",
         "legendgroup": "0.037",
         "marker": {
          "color": "rgb(118, 78, 159)",
          "pattern": {
           "shape": ""
          }
         },
         "name": "0.037",
         "offsetgroup": "0.037",
         "orientation": "v",
         "showlegend": true,
         "type": "histogram",
         "x": [
          0.037
         ],
         "xaxis": "x",
         "yaxis": "y"
        },
        {
         "alignmentgroup": "True",
         "bingroup": "x",
         "hovertemplate": "acousticness=%{x}<br>count=%{y}<extra></extra>",
         "legendgroup": "0.0863",
         "marker": {
          "color": "rgb(237, 100, 90)",
          "pattern": {
           "shape": ""
          }
         },
         "name": "0.0863",
         "offsetgroup": "0.0863",
         "orientation": "v",
         "showlegend": true,
         "type": "histogram",
         "x": [
          0.0863
         ],
         "xaxis": "x",
         "yaxis": "y"
        },
        {
         "alignmentgroup": "True",
         "bingroup": "x",
         "hovertemplate": "acousticness=%{x}<br>count=%{y}<extra></extra>",
         "legendgroup": "0.768",
         "marker": {
          "color": "rgb(165, 170, 153)",
          "pattern": {
           "shape": ""
          }
         },
         "name": "0.768",
         "offsetgroup": "0.768",
         "orientation": "v",
         "showlegend": true,
         "type": "histogram",
         "x": [
          0.768
         ],
         "xaxis": "x",
         "yaxis": "y"
        },
        {
         "alignmentgroup": "True",
         "bingroup": "x",
         "hovertemplate": "acousticness=%{x}<br>count=%{y}<extra></extra>",
         "legendgroup": "0.00346",
         "marker": {
          "color": "rgb(229, 134, 6)",
          "pattern": {
           "shape": ""
          }
         },
         "name": "0.00346",
         "offsetgroup": "0.00346",
         "orientation": "v",
         "showlegend": true,
         "type": "histogram",
         "x": [
          0.00346
         ],
         "xaxis": "x",
         "yaxis": "y"
        },
        {
         "alignmentgroup": "True",
         "bingroup": "x",
         "hovertemplate": "acousticness=%{x}<br>count=%{y}<extra></extra>",
         "legendgroup": "0.106",
         "marker": {
          "color": "rgb(93, 105, 177)",
          "pattern": {
           "shape": ""
          }
         },
         "name": "0.106",
         "offsetgroup": "0.106",
         "orientation": "v",
         "showlegend": true,
         "type": "histogram",
         "x": [
          0.106
         ],
         "xaxis": "x",
         "yaxis": "y"
        },
        {
         "alignmentgroup": "True",
         "bingroup": "x",
         "hovertemplate": "acousticness=%{x}<br>count=%{y}<extra></extra>",
         "legendgroup": "0.0143",
         "marker": {
          "color": "rgb(82, 188, 163)",
          "pattern": {
           "shape": ""
          }
         },
         "name": "0.0143",
         "offsetgroup": "0.0143",
         "orientation": "v",
         "showlegend": true,
         "type": "histogram",
         "x": [
          0.0143
         ],
         "xaxis": "x",
         "yaxis": "y"
        },
        {
         "alignmentgroup": "True",
         "bingroup": "x",
         "hovertemplate": "acousticness=%{x}<br>count=%{y}<extra></extra>",
         "legendgroup": "0.331",
         "marker": {
          "color": "rgb(153, 201, 69)",
          "pattern": {
           "shape": ""
          }
         },
         "name": "0.331",
         "offsetgroup": "0.331",
         "orientation": "v",
         "showlegend": true,
         "type": "histogram",
         "x": [
          0.331
         ],
         "xaxis": "x",
         "yaxis": "y"
        },
        {
         "alignmentgroup": "True",
         "bingroup": "x",
         "hovertemplate": "acousticness=%{x}<br>count=%{y}<extra></extra>",
         "legendgroup": "0.588",
         "marker": {
          "color": "rgb(204, 97, 176)",
          "pattern": {
           "shape": ""
          }
         },
         "name": "0.588",
         "offsetgroup": "0.588",
         "orientation": "v",
         "showlegend": true,
         "type": "histogram",
         "x": [
          0.588
         ],
         "xaxis": "x",
         "yaxis": "y"
        },
        {
         "alignmentgroup": "True",
         "bingroup": "x",
         "hovertemplate": "acousticness=%{x}<br>count=%{y}<extra></extra>",
         "legendgroup": "0.215",
         "marker": {
          "color": "rgb(36, 121, 108)",
          "pattern": {
           "shape": ""
          }
         },
         "name": "0.215",
         "offsetgroup": "0.215",
         "orientation": "v",
         "showlegend": true,
         "type": "histogram",
         "x": [
          0.215
         ],
         "xaxis": "x",
         "yaxis": "y"
        },
        {
         "alignmentgroup": "True",
         "bingroup": "x",
         "hovertemplate": "acousticness=%{x}<br>count=%{y}<extra></extra>",
         "legendgroup": "0.0281",
         "marker": {
          "color": "rgb(218, 165, 27)",
          "pattern": {
           "shape": ""
          }
         },
         "name": "0.0281",
         "offsetgroup": "0.0281",
         "orientation": "v",
         "showlegend": true,
         "type": "histogram",
         "x": [
          0.0281
         ],
         "xaxis": "x",
         "yaxis": "y"
        },
        {
         "alignmentgroup": "True",
         "bingroup": "x",
         "hovertemplate": "acousticness=%{x}<br>count=%{y}<extra></extra>",
         "legendgroup": "0.00286",
         "marker": {
          "color": "rgb(47, 138, 196)",
          "pattern": {
           "shape": ""
          }
         },
         "name": "0.00286",
         "offsetgroup": "0.00286",
         "orientation": "v",
         "showlegend": true,
         "type": "histogram",
         "x": [
          0.00286
         ],
         "xaxis": "x",
         "yaxis": "y"
        },
        {
         "alignmentgroup": "True",
         "bingroup": "x",
         "hovertemplate": "acousticness=%{x}<br>count=%{y}<extra></extra>",
         "legendgroup": "0.0203",
         "marker": {
          "color": "rgb(118, 78, 159)",
          "pattern": {
           "shape": ""
          }
         },
         "name": "0.0203",
         "offsetgroup": "0.0203",
         "orientation": "v",
         "showlegend": true,
         "type": "histogram",
         "x": [
          0.0203
         ],
         "xaxis": "x",
         "yaxis": "y"
        },
        {
         "alignmentgroup": "True",
         "bingroup": "x",
         "hovertemplate": "acousticness=%{x}<br>count=%{y}<extra></extra>",
         "legendgroup": "0.00868",
         "marker": {
          "color": "rgb(237, 100, 90)",
          "pattern": {
           "shape": ""
          }
         },
         "name": "0.00868",
         "offsetgroup": "0.00868",
         "orientation": "v",
         "showlegend": true,
         "type": "histogram",
         "x": [
          0.00868
         ],
         "xaxis": "x",
         "yaxis": "y"
        },
        {
         "alignmentgroup": "True",
         "bingroup": "x",
         "hovertemplate": "acousticness=%{x}<br>count=%{y}<extra></extra>",
         "legendgroup": "0.00979",
         "marker": {
          "color": "rgb(165, 170, 153)",
          "pattern": {
           "shape": ""
          }
         },
         "name": "0.00979",
         "offsetgroup": "0.00979",
         "orientation": "v",
         "showlegend": true,
         "type": "histogram",
         "x": [
          0.00979
         ],
         "xaxis": "x",
         "yaxis": "y"
        },
        {
         "alignmentgroup": "True",
         "bingroup": "x",
         "hovertemplate": "acousticness=%{x}<br>count=%{y}<extra></extra>",
         "legendgroup": "0.19",
         "marker": {
          "color": "rgb(229, 134, 6)",
          "pattern": {
           "shape": ""
          }
         },
         "name": "0.19",
         "offsetgroup": "0.19",
         "orientation": "v",
         "showlegend": true,
         "type": "histogram",
         "x": [
          0.19
         ],
         "xaxis": "x",
         "yaxis": "y"
        },
        {
         "alignmentgroup": "True",
         "bingroup": "x",
         "hovertemplate": "acousticness=%{x}<br>count=%{y}<extra></extra>",
         "legendgroup": "0.00121",
         "marker": {
          "color": "rgb(93, 105, 177)",
          "pattern": {
           "shape": ""
          }
         },
         "name": "0.00121",
         "offsetgroup": "0.00121",
         "orientation": "v",
         "showlegend": true,
         "type": "histogram",
         "x": [
          0.00121
         ],
         "xaxis": "x",
         "yaxis": "y"
        },
        {
         "alignmentgroup": "True",
         "bingroup": "x",
         "hovertemplate": "acousticness=%{x}<br>count=%{y}<extra></extra>",
         "legendgroup": "0.00801",
         "marker": {
          "color": "rgb(82, 188, 163)",
          "pattern": {
           "shape": ""
          }
         },
         "name": "0.00801",
         "offsetgroup": "0.00801",
         "orientation": "v",
         "showlegend": true,
         "type": "histogram",
         "x": [
          0.00801
         ],
         "xaxis": "x",
         "yaxis": "y"
        },
        {
         "alignmentgroup": "True",
         "bingroup": "x",
         "hovertemplate": "acousticness=%{x}<br>count=%{y}<extra></extra>",
         "legendgroup": "0.64",
         "marker": {
          "color": "rgb(153, 201, 69)",
          "pattern": {
           "shape": ""
          }
         },
         "name": "0.64",
         "offsetgroup": "0.64",
         "orientation": "v",
         "showlegend": true,
         "type": "histogram",
         "x": [
          0.64
         ],
         "xaxis": "x",
         "yaxis": "y"
        },
        {
         "alignmentgroup": "True",
         "bingroup": "x",
         "hovertemplate": "acousticness=%{x}<br>count=%{y}<extra></extra>",
         "legendgroup": "0.00883",
         "marker": {
          "color": "rgb(204, 97, 176)",
          "pattern": {
           "shape": ""
          }
         },
         "name": "0.00883",
         "offsetgroup": "0.00883",
         "orientation": "v",
         "showlegend": true,
         "type": "histogram",
         "x": [
          0.00883
         ],
         "xaxis": "x",
         "yaxis": "y"
        },
        {
         "alignmentgroup": "True",
         "bingroup": "x",
         "hovertemplate": "acousticness=%{x}<br>count=%{y}<extra></extra>",
         "legendgroup": "0.0353",
         "marker": {
          "color": "rgb(36, 121, 108)",
          "pattern": {
           "shape": ""
          }
         },
         "name": "0.0353",
         "offsetgroup": "0.0353",
         "orientation": "v",
         "showlegend": true,
         "type": "histogram",
         "x": [
          0.0353
         ],
         "xaxis": "x",
         "yaxis": "y"
        },
        {
         "alignmentgroup": "True",
         "bingroup": "x",
         "hovertemplate": "acousticness=%{x}<br>count=%{y}<extra></extra>",
         "legendgroup": "0.699",
         "marker": {
          "color": "rgb(218, 165, 27)",
          "pattern": {
           "shape": ""
          }
         },
         "name": "0.699",
         "offsetgroup": "0.699",
         "orientation": "v",
         "showlegend": true,
         "type": "histogram",
         "x": [
          0.699
         ],
         "xaxis": "x",
         "yaxis": "y"
        },
        {
         "alignmentgroup": "True",
         "bingroup": "x",
         "hovertemplate": "acousticness=%{x}<br>count=%{y}<extra></extra>",
         "legendgroup": "0.229",
         "marker": {
          "color": "rgb(47, 138, 196)",
          "pattern": {
           "shape": ""
          }
         },
         "name": "0.229",
         "offsetgroup": "0.229",
         "orientation": "v",
         "showlegend": true,
         "type": "histogram",
         "x": [
          0.229
         ],
         "xaxis": "x",
         "yaxis": "y"
        },
        {
         "alignmentgroup": "True",
         "bingroup": "x",
         "hovertemplate": "acousticness=%{x}<br>count=%{y}<extra></extra>",
         "legendgroup": "0.0902",
         "marker": {
          "color": "rgb(118, 78, 159)",
          "pattern": {
           "shape": ""
          }
         },
         "name": "0.0902",
         "offsetgroup": "0.0902",
         "orientation": "v",
         "showlegend": true,
         "type": "histogram",
         "x": [
          0.0902
         ],
         "xaxis": "x",
         "yaxis": "y"
        },
        {
         "alignmentgroup": "True",
         "bingroup": "x",
         "hovertemplate": "acousticness=%{x}<br>count=%{y}<extra></extra>",
         "legendgroup": "0.401",
         "marker": {
          "color": "rgb(237, 100, 90)",
          "pattern": {
           "shape": ""
          }
         },
         "name": "0.401",
         "offsetgroup": "0.401",
         "orientation": "v",
         "showlegend": true,
         "type": "histogram",
         "x": [
          0.401
         ],
         "xaxis": "x",
         "yaxis": "y"
        },
        {
         "alignmentgroup": "True",
         "bingroup": "x",
         "hovertemplate": "acousticness=%{x}<br>count=%{y}<extra></extra>",
         "legendgroup": "0.293",
         "marker": {
          "color": "rgb(165, 170, 153)",
          "pattern": {
           "shape": ""
          }
         },
         "name": "0.293",
         "offsetgroup": "0.293",
         "orientation": "v",
         "showlegend": true,
         "type": "histogram",
         "x": [
          0.293
         ],
         "xaxis": "x",
         "yaxis": "y"
        },
        {
         "alignmentgroup": "True",
         "bingroup": "x",
         "hovertemplate": "acousticness=%{x}<br>count=%{y}<extra></extra>",
         "legendgroup": "0.696",
         "marker": {
          "color": "rgb(229, 134, 6)",
          "pattern": {
           "shape": ""
          }
         },
         "name": "0.696",
         "offsetgroup": "0.696",
         "orientation": "v",
         "showlegend": true,
         "type": "histogram",
         "x": [
          0.696
         ],
         "xaxis": "x",
         "yaxis": "y"
        },
        {
         "alignmentgroup": "True",
         "bingroup": "x",
         "hovertemplate": "acousticness=%{x}<br>count=%{y}<extra></extra>",
         "legendgroup": "0.186",
         "marker": {
          "color": "rgb(93, 105, 177)",
          "pattern": {
           "shape": ""
          }
         },
         "name": "0.186",
         "offsetgroup": "0.186",
         "orientation": "v",
         "showlegend": true,
         "type": "histogram",
         "x": [
          0.186
         ],
         "xaxis": "x",
         "yaxis": "y"
        },
        {
         "alignmentgroup": "True",
         "bingroup": "x",
         "hovertemplate": "acousticness=%{x}<br>count=%{y}<extra></extra>",
         "legendgroup": "0.0293",
         "marker": {
          "color": "rgb(82, 188, 163)",
          "pattern": {
           "shape": ""
          }
         },
         "name": "0.0293",
         "offsetgroup": "0.0293",
         "orientation": "v",
         "showlegend": true,
         "type": "histogram",
         "x": [
          0.0293
         ],
         "xaxis": "x",
         "yaxis": "y"
        },
        {
         "alignmentgroup": "True",
         "bingroup": "x",
         "hovertemplate": "acousticness=%{x}<br>count=%{y}<extra></extra>",
         "legendgroup": "0.00379",
         "marker": {
          "color": "rgb(153, 201, 69)",
          "pattern": {
           "shape": ""
          }
         },
         "name": "0.00379",
         "offsetgroup": "0.00379",
         "orientation": "v",
         "showlegend": true,
         "type": "histogram",
         "x": [
          0.00379
         ],
         "xaxis": "x",
         "yaxis": "y"
        },
        {
         "alignmentgroup": "True",
         "bingroup": "x",
         "hovertemplate": "acousticness=%{x}<br>count=%{y}<extra></extra>",
         "legendgroup": "0.228",
         "marker": {
          "color": "rgb(204, 97, 176)",
          "pattern": {
           "shape": ""
          }
         },
         "name": "0.228",
         "offsetgroup": "0.228",
         "orientation": "v",
         "showlegend": true,
         "type": "histogram",
         "x": [
          0.228
         ],
         "xaxis": "x",
         "yaxis": "y"
        },
        {
         "alignmentgroup": "True",
         "bingroup": "x",
         "hovertemplate": "acousticness=%{x}<br>count=%{y}<extra></extra>",
         "legendgroup": "0.000509",
         "marker": {
          "color": "rgb(36, 121, 108)",
          "pattern": {
           "shape": ""
          }
         },
         "name": "0.000509",
         "offsetgroup": "0.000509",
         "orientation": "v",
         "showlegend": true,
         "type": "histogram",
         "x": [
          0.000509
         ],
         "xaxis": "x",
         "yaxis": "y"
        },
        {
         "alignmentgroup": "True",
         "bingroup": "x",
         "hovertemplate": "acousticness=%{x}<br>count=%{y}<extra></extra>",
         "legendgroup": "0.324",
         "marker": {
          "color": "rgb(218, 165, 27)",
          "pattern": {
           "shape": ""
          }
         },
         "name": "0.324",
         "offsetgroup": "0.324",
         "orientation": "v",
         "showlegend": true,
         "type": "histogram",
         "x": [
          0.324
         ],
         "xaxis": "x",
         "yaxis": "y"
        },
        {
         "alignmentgroup": "True",
         "bingroup": "x",
         "hovertemplate": "acousticness=%{x}<br>count=%{y}<extra></extra>",
         "legendgroup": "0.013",
         "marker": {
          "color": "rgb(47, 138, 196)",
          "pattern": {
           "shape": ""
          }
         },
         "name": "0.013",
         "offsetgroup": "0.013",
         "orientation": "v",
         "showlegend": true,
         "type": "histogram",
         "x": [
          0.013
         ],
         "xaxis": "x",
         "yaxis": "y"
        },
        {
         "alignmentgroup": "True",
         "bingroup": "x",
         "hovertemplate": "acousticness=%{x}<br>count=%{y}<extra></extra>",
         "legendgroup": "0.104",
         "marker": {
          "color": "rgb(118, 78, 159)",
          "pattern": {
           "shape": ""
          }
         },
         "name": "0.104",
         "offsetgroup": "0.104",
         "orientation": "v",
         "showlegend": true,
         "type": "histogram",
         "x": [
          0.104
         ],
         "xaxis": "x",
         "yaxis": "y"
        },
        {
         "alignmentgroup": "True",
         "bingroup": "x",
         "hovertemplate": "acousticness=%{x}<br>count=%{y}<extra></extra>",
         "legendgroup": "0.38",
         "marker": {
          "color": "rgb(237, 100, 90)",
          "pattern": {
           "shape": ""
          }
         },
         "name": "0.38",
         "offsetgroup": "0.38",
         "orientation": "v",
         "showlegend": true,
         "type": "histogram",
         "x": [
          0.38
         ],
         "xaxis": "x",
         "yaxis": "y"
        },
        {
         "alignmentgroup": "True",
         "bingroup": "x",
         "hovertemplate": "acousticness=%{x}<br>count=%{y}<extra></extra>",
         "legendgroup": "0.0151",
         "marker": {
          "color": "rgb(165, 170, 153)",
          "pattern": {
           "shape": ""
          }
         },
         "name": "0.0151",
         "offsetgroup": "0.0151",
         "orientation": "v",
         "showlegend": true,
         "type": "histogram",
         "x": [
          0.0151
         ],
         "xaxis": "x",
         "yaxis": "y"
        },
        {
         "alignmentgroup": "True",
         "bingroup": "x",
         "hovertemplate": "acousticness=%{x}<br>count=%{y}<extra></extra>",
         "legendgroup": "0.0472",
         "marker": {
          "color": "rgb(229, 134, 6)",
          "pattern": {
           "shape": ""
          }
         },
         "name": "0.0472",
         "offsetgroup": "0.0472",
         "orientation": "v",
         "showlegend": true,
         "type": "histogram",
         "x": [
          0.0472
         ],
         "xaxis": "x",
         "yaxis": "y"
        },
        {
         "alignmentgroup": "True",
         "bingroup": "x",
         "hovertemplate": "acousticness=%{x}<br>count=%{y}<extra></extra>",
         "legendgroup": "2.55e-05",
         "marker": {
          "color": "rgb(93, 105, 177)",
          "pattern": {
           "shape": ""
          }
         },
         "name": "2.55e-05",
         "offsetgroup": "2.55e-05",
         "orientation": "v",
         "showlegend": true,
         "type": "histogram",
         "x": [
          0.0000255
         ],
         "xaxis": "x",
         "yaxis": "y"
        },
        {
         "alignmentgroup": "True",
         "bingroup": "x",
         "hovertemplate": "acousticness=%{x}<br>count=%{y}<extra></extra>",
         "legendgroup": "0.0886",
         "marker": {
          "color": "rgb(82, 188, 163)",
          "pattern": {
           "shape": ""
          }
         },
         "name": "0.0886",
         "offsetgroup": "0.0886",
         "orientation": "v",
         "showlegend": true,
         "type": "histogram",
         "x": [
          0.0886
         ],
         "xaxis": "x",
         "yaxis": "y"
        },
        {
         "alignmentgroup": "True",
         "bingroup": "x",
         "hovertemplate": "acousticness=%{x}<br>count=%{y}<extra></extra>",
         "legendgroup": "0.534",
         "marker": {
          "color": "rgb(153, 201, 69)",
          "pattern": {
           "shape": ""
          }
         },
         "name": "0.534",
         "offsetgroup": "0.534",
         "orientation": "v",
         "showlegend": true,
         "type": "histogram",
         "x": [
          0.534
         ],
         "xaxis": "x",
         "yaxis": "y"
        },
        {
         "alignmentgroup": "True",
         "bingroup": "x",
         "hovertemplate": "acousticness=%{x}<br>count=%{y}<extra></extra>",
         "legendgroup": "0.287",
         "marker": {
          "color": "rgb(204, 97, 176)",
          "pattern": {
           "shape": ""
          }
         },
         "name": "0.287",
         "offsetgroup": "0.287",
         "orientation": "v",
         "showlegend": true,
         "type": "histogram",
         "x": [
          0.287
         ],
         "xaxis": "x",
         "yaxis": "y"
        },
        {
         "alignmentgroup": "True",
         "bingroup": "x",
         "hovertemplate": "acousticness=%{x}<br>count=%{y}<extra></extra>",
         "legendgroup": "0.00239",
         "marker": {
          "color": "rgb(36, 121, 108)",
          "pattern": {
           "shape": ""
          }
         },
         "name": "0.00239",
         "offsetgroup": "0.00239",
         "orientation": "v",
         "showlegend": true,
         "type": "histogram",
         "x": [
          0.00239
         ],
         "xaxis": "x",
         "yaxis": "y"
        },
        {
         "alignmentgroup": "True",
         "bingroup": "x",
         "hovertemplate": "acousticness=%{x}<br>count=%{y}<extra></extra>",
         "legendgroup": "0.198",
         "marker": {
          "color": "rgb(218, 165, 27)",
          "pattern": {
           "shape": ""
          }
         },
         "name": "0.198",
         "offsetgroup": "0.198",
         "orientation": "v",
         "showlegend": true,
         "type": "histogram",
         "x": [
          0.198
         ],
         "xaxis": "x",
         "yaxis": "y"
        },
        {
         "alignmentgroup": "True",
         "bingroup": "x",
         "hovertemplate": "acousticness=%{x}<br>count=%{y}<extra></extra>",
         "legendgroup": "0.71",
         "marker": {
          "color": "rgb(47, 138, 196)",
          "pattern": {
           "shape": ""
          }
         },
         "name": "0.71",
         "offsetgroup": "0.71",
         "orientation": "v",
         "showlegend": true,
         "type": "histogram",
         "x": [
          0.71
         ],
         "xaxis": "x",
         "yaxis": "y"
        }
       ],
       "layout": {
        "barmode": "relative",
        "height": 500,
        "legend": {
         "title": {
          "text": "acousticness"
         },
         "tracegroupgap": 0
        },
        "template": {
         "data": {
          "bar": [
           {
            "error_x": {
             "color": "#f2f5fa"
            },
            "error_y": {
             "color": "#f2f5fa"
            },
            "marker": {
             "line": {
              "color": "rgb(17,17,17)",
              "width": 0.5
             },
             "pattern": {
              "fillmode": "overlay",
              "size": 10,
              "solidity": 0.2
             }
            },
            "type": "bar"
           }
          ],
          "barpolar": [
           {
            "marker": {
             "line": {
              "color": "rgb(17,17,17)",
              "width": 0.5
             },
             "pattern": {
              "fillmode": "overlay",
              "size": 10,
              "solidity": 0.2
             }
            },
            "type": "barpolar"
           }
          ],
          "carpet": [
           {
            "aaxis": {
             "endlinecolor": "#A2B1C6",
             "gridcolor": "#506784",
             "linecolor": "#506784",
             "minorgridcolor": "#506784",
             "startlinecolor": "#A2B1C6"
            },
            "baxis": {
             "endlinecolor": "#A2B1C6",
             "gridcolor": "#506784",
             "linecolor": "#506784",
             "minorgridcolor": "#506784",
             "startlinecolor": "#A2B1C6"
            },
            "type": "carpet"
           }
          ],
          "choropleth": [
           {
            "colorbar": {
             "outlinewidth": 0,
             "ticks": ""
            },
            "type": "choropleth"
           }
          ],
          "contour": [
           {
            "colorbar": {
             "outlinewidth": 0,
             "ticks": ""
            },
            "colorscale": [
             [
              0,
              "#0d0887"
             ],
             [
              0.1111111111111111,
              "#46039f"
             ],
             [
              0.2222222222222222,
              "#7201a8"
             ],
             [
              0.3333333333333333,
              "#9c179e"
             ],
             [
              0.4444444444444444,
              "#bd3786"
             ],
             [
              0.5555555555555556,
              "#d8576b"
             ],
             [
              0.6666666666666666,
              "#ed7953"
             ],
             [
              0.7777777777777778,
              "#fb9f3a"
             ],
             [
              0.8888888888888888,
              "#fdca26"
             ],
             [
              1,
              "#f0f921"
             ]
            ],
            "type": "contour"
           }
          ],
          "contourcarpet": [
           {
            "colorbar": {
             "outlinewidth": 0,
             "ticks": ""
            },
            "type": "contourcarpet"
           }
          ],
          "heatmap": [
           {
            "colorbar": {
             "outlinewidth": 0,
             "ticks": ""
            },
            "colorscale": [
             [
              0,
              "#0d0887"
             ],
             [
              0.1111111111111111,
              "#46039f"
             ],
             [
              0.2222222222222222,
              "#7201a8"
             ],
             [
              0.3333333333333333,
              "#9c179e"
             ],
             [
              0.4444444444444444,
              "#bd3786"
             ],
             [
              0.5555555555555556,
              "#d8576b"
             ],
             [
              0.6666666666666666,
              "#ed7953"
             ],
             [
              0.7777777777777778,
              "#fb9f3a"
             ],
             [
              0.8888888888888888,
              "#fdca26"
             ],
             [
              1,
              "#f0f921"
             ]
            ],
            "type": "heatmap"
           }
          ],
          "heatmapgl": [
           {
            "colorbar": {
             "outlinewidth": 0,
             "ticks": ""
            },
            "colorscale": [
             [
              0,
              "#0d0887"
             ],
             [
              0.1111111111111111,
              "#46039f"
             ],
             [
              0.2222222222222222,
              "#7201a8"
             ],
             [
              0.3333333333333333,
              "#9c179e"
             ],
             [
              0.4444444444444444,
              "#bd3786"
             ],
             [
              0.5555555555555556,
              "#d8576b"
             ],
             [
              0.6666666666666666,
              "#ed7953"
             ],
             [
              0.7777777777777778,
              "#fb9f3a"
             ],
             [
              0.8888888888888888,
              "#fdca26"
             ],
             [
              1,
              "#f0f921"
             ]
            ],
            "type": "heatmapgl"
           }
          ],
          "histogram": [
           {
            "marker": {
             "pattern": {
              "fillmode": "overlay",
              "size": 10,
              "solidity": 0.2
             }
            },
            "type": "histogram"
           }
          ],
          "histogram2d": [
           {
            "colorbar": {
             "outlinewidth": 0,
             "ticks": ""
            },
            "colorscale": [
             [
              0,
              "#0d0887"
             ],
             [
              0.1111111111111111,
              "#46039f"
             ],
             [
              0.2222222222222222,
              "#7201a8"
             ],
             [
              0.3333333333333333,
              "#9c179e"
             ],
             [
              0.4444444444444444,
              "#bd3786"
             ],
             [
              0.5555555555555556,
              "#d8576b"
             ],
             [
              0.6666666666666666,
              "#ed7953"
             ],
             [
              0.7777777777777778,
              "#fb9f3a"
             ],
             [
              0.8888888888888888,
              "#fdca26"
             ],
             [
              1,
              "#f0f921"
             ]
            ],
            "type": "histogram2d"
           }
          ],
          "histogram2dcontour": [
           {
            "colorbar": {
             "outlinewidth": 0,
             "ticks": ""
            },
            "colorscale": [
             [
              0,
              "#0d0887"
             ],
             [
              0.1111111111111111,
              "#46039f"
             ],
             [
              0.2222222222222222,
              "#7201a8"
             ],
             [
              0.3333333333333333,
              "#9c179e"
             ],
             [
              0.4444444444444444,
              "#bd3786"
             ],
             [
              0.5555555555555556,
              "#d8576b"
             ],
             [
              0.6666666666666666,
              "#ed7953"
             ],
             [
              0.7777777777777778,
              "#fb9f3a"
             ],
             [
              0.8888888888888888,
              "#fdca26"
             ],
             [
              1,
              "#f0f921"
             ]
            ],
            "type": "histogram2dcontour"
           }
          ],
          "mesh3d": [
           {
            "colorbar": {
             "outlinewidth": 0,
             "ticks": ""
            },
            "type": "mesh3d"
           }
          ],
          "parcoords": [
           {
            "line": {
             "colorbar": {
              "outlinewidth": 0,
              "ticks": ""
             }
            },
            "type": "parcoords"
           }
          ],
          "pie": [
           {
            "automargin": true,
            "type": "pie"
           }
          ],
          "scatter": [
           {
            "marker": {
             "line": {
              "color": "#283442"
             }
            },
            "type": "scatter"
           }
          ],
          "scatter3d": [
           {
            "line": {
             "colorbar": {
              "outlinewidth": 0,
              "ticks": ""
             }
            },
            "marker": {
             "colorbar": {
              "outlinewidth": 0,
              "ticks": ""
             }
            },
            "type": "scatter3d"
           }
          ],
          "scattercarpet": [
           {
            "marker": {
             "colorbar": {
              "outlinewidth": 0,
              "ticks": ""
             }
            },
            "type": "scattercarpet"
           }
          ],
          "scattergeo": [
           {
            "marker": {
             "colorbar": {
              "outlinewidth": 0,
              "ticks": ""
             }
            },
            "type": "scattergeo"
           }
          ],
          "scattergl": [
           {
            "marker": {
             "line": {
              "color": "#283442"
             }
            },
            "type": "scattergl"
           }
          ],
          "scattermapbox": [
           {
            "marker": {
             "colorbar": {
              "outlinewidth": 0,
              "ticks": ""
             }
            },
            "type": "scattermapbox"
           }
          ],
          "scatterpolar": [
           {
            "marker": {
             "colorbar": {
              "outlinewidth": 0,
              "ticks": ""
             }
            },
            "type": "scatterpolar"
           }
          ],
          "scatterpolargl": [
           {
            "marker": {
             "colorbar": {
              "outlinewidth": 0,
              "ticks": ""
             }
            },
            "type": "scatterpolargl"
           }
          ],
          "scatterternary": [
           {
            "marker": {
             "colorbar": {
              "outlinewidth": 0,
              "ticks": ""
             }
            },
            "type": "scatterternary"
           }
          ],
          "surface": [
           {
            "colorbar": {
             "outlinewidth": 0,
             "ticks": ""
            },
            "colorscale": [
             [
              0,
              "#0d0887"
             ],
             [
              0.1111111111111111,
              "#46039f"
             ],
             [
              0.2222222222222222,
              "#7201a8"
             ],
             [
              0.3333333333333333,
              "#9c179e"
             ],
             [
              0.4444444444444444,
              "#bd3786"
             ],
             [
              0.5555555555555556,
              "#d8576b"
             ],
             [
              0.6666666666666666,
              "#ed7953"
             ],
             [
              0.7777777777777778,
              "#fb9f3a"
             ],
             [
              0.8888888888888888,
              "#fdca26"
             ],
             [
              1,
              "#f0f921"
             ]
            ],
            "type": "surface"
           }
          ],
          "table": [
           {
            "cells": {
             "fill": {
              "color": "#506784"
             },
             "line": {
              "color": "rgb(17,17,17)"
             }
            },
            "header": {
             "fill": {
              "color": "#2a3f5f"
             },
             "line": {
              "color": "rgb(17,17,17)"
             }
            },
            "type": "table"
           }
          ]
         },
         "layout": {
          "annotationdefaults": {
           "arrowcolor": "#f2f5fa",
           "arrowhead": 0,
           "arrowwidth": 1
          },
          "autotypenumbers": "strict",
          "coloraxis": {
           "colorbar": {
            "outlinewidth": 0,
            "ticks": ""
           }
          },
          "colorscale": {
           "diverging": [
            [
             0,
             "#8e0152"
            ],
            [
             0.1,
             "#c51b7d"
            ],
            [
             0.2,
             "#de77ae"
            ],
            [
             0.3,
             "#f1b6da"
            ],
            [
             0.4,
             "#fde0ef"
            ],
            [
             0.5,
             "#f7f7f7"
            ],
            [
             0.6,
             "#e6f5d0"
            ],
            [
             0.7,
             "#b8e186"
            ],
            [
             0.8,
             "#7fbc41"
            ],
            [
             0.9,
             "#4d9221"
            ],
            [
             1,
             "#276419"
            ]
           ],
           "sequential": [
            [
             0,
             "#0d0887"
            ],
            [
             0.1111111111111111,
             "#46039f"
            ],
            [
             0.2222222222222222,
             "#7201a8"
            ],
            [
             0.3333333333333333,
             "#9c179e"
            ],
            [
             0.4444444444444444,
             "#bd3786"
            ],
            [
             0.5555555555555556,
             "#d8576b"
            ],
            [
             0.6666666666666666,
             "#ed7953"
            ],
            [
             0.7777777777777778,
             "#fb9f3a"
            ],
            [
             0.8888888888888888,
             "#fdca26"
            ],
            [
             1,
             "#f0f921"
            ]
           ],
           "sequentialminus": [
            [
             0,
             "#0d0887"
            ],
            [
             0.1111111111111111,
             "#46039f"
            ],
            [
             0.2222222222222222,
             "#7201a8"
            ],
            [
             0.3333333333333333,
             "#9c179e"
            ],
            [
             0.4444444444444444,
             "#bd3786"
            ],
            [
             0.5555555555555556,
             "#d8576b"
            ],
            [
             0.6666666666666666,
             "#ed7953"
            ],
            [
             0.7777777777777778,
             "#fb9f3a"
            ],
            [
             0.8888888888888888,
             "#fdca26"
            ],
            [
             1,
             "#f0f921"
            ]
           ]
          },
          "colorway": [
           "#636efa",
           "#EF553B",
           "#00cc96",
           "#ab63fa",
           "#FFA15A",
           "#19d3f3",
           "#FF6692",
           "#B6E880",
           "#FF97FF",
           "#FECB52"
          ],
          "font": {
           "color": "#f2f5fa"
          },
          "geo": {
           "bgcolor": "rgb(17,17,17)",
           "lakecolor": "rgb(17,17,17)",
           "landcolor": "rgb(17,17,17)",
           "showlakes": true,
           "showland": true,
           "subunitcolor": "#506784"
          },
          "hoverlabel": {
           "align": "left"
          },
          "hovermode": "closest",
          "mapbox": {
           "style": "dark"
          },
          "paper_bgcolor": "rgb(17,17,17)",
          "plot_bgcolor": "rgb(17,17,17)",
          "polar": {
           "angularaxis": {
            "gridcolor": "#506784",
            "linecolor": "#506784",
            "ticks": ""
           },
           "bgcolor": "rgb(17,17,17)",
           "radialaxis": {
            "gridcolor": "#506784",
            "linecolor": "#506784",
            "ticks": ""
           }
          },
          "scene": {
           "xaxis": {
            "backgroundcolor": "rgb(17,17,17)",
            "gridcolor": "#506784",
            "gridwidth": 2,
            "linecolor": "#506784",
            "showbackground": true,
            "ticks": "",
            "zerolinecolor": "#C8D4E3"
           },
           "yaxis": {
            "backgroundcolor": "rgb(17,17,17)",
            "gridcolor": "#506784",
            "gridwidth": 2,
            "linecolor": "#506784",
            "showbackground": true,
            "ticks": "",
            "zerolinecolor": "#C8D4E3"
           },
           "zaxis": {
            "backgroundcolor": "rgb(17,17,17)",
            "gridcolor": "#506784",
            "gridwidth": 2,
            "linecolor": "#506784",
            "showbackground": true,
            "ticks": "",
            "zerolinecolor": "#C8D4E3"
           }
          },
          "shapedefaults": {
           "line": {
            "color": "#f2f5fa"
           }
          },
          "sliderdefaults": {
           "bgcolor": "#C8D4E3",
           "bordercolor": "rgb(17,17,17)",
           "borderwidth": 1,
           "tickwidth": 0
          },
          "ternary": {
           "aaxis": {
            "gridcolor": "#506784",
            "linecolor": "#506784",
            "ticks": ""
           },
           "baxis": {
            "gridcolor": "#506784",
            "linecolor": "#506784",
            "ticks": ""
           },
           "bgcolor": "rgb(17,17,17)",
           "caxis": {
            "gridcolor": "#506784",
            "linecolor": "#506784",
            "ticks": ""
           }
          },
          "title": {
           "x": 0.05
          },
          "updatemenudefaults": {
           "bgcolor": "#506784",
           "borderwidth": 0
          },
          "xaxis": {
           "automargin": true,
           "gridcolor": "#283442",
           "linecolor": "#506784",
           "ticks": "",
           "title": {
            "standoff": 15
           },
           "zerolinecolor": "#283442",
           "zerolinewidth": 2
          },
          "yaxis": {
           "automargin": true,
           "gridcolor": "#283442",
           "linecolor": "#506784",
           "ticks": "",
           "title": {
            "standoff": 15
           },
           "zerolinecolor": "#283442",
           "zerolinewidth": 2
          }
         }
        },
        "title": {
         "font": {
          "size": 20
         },
         "text": "<b>Count vs Acousticness"
        },
        "width": 800,
        "xaxis": {
         "anchor": "y",
         "categoryarray": [
          0.00146,
          0.581,
          0.692,
          0.751,
          0.124,
          0.556,
          0.00776,
          0.414,
          0.945,
          0.0622,
          0.0392,
          0.433,
          0.44,
          0.695,
          0.141,
          0.328,
          0.474,
          0.349,
          0.876,
          0.934,
          0.122,
          0.0332,
          0.607,
          0.288,
          0.0498,
          0.0495,
          0.371,
          0.342,
          0.835,
          0.192,
          0.258,
          0.634,
          0.922,
          0.000147,
          0.592,
          0.0847,
          0.469,
          0.184,
          0.0462,
          0.00264,
          0.0654,
          0.00265,
          0.0038,
          0.431,
          0.121,
          0.000282,
          0.365,
          0.0671,
          0.00513,
          0.000744,
          0.335,
          0.0000847,
          0.037,
          0.0863,
          0.768,
          0.00346,
          0.106,
          0.0143,
          0.331,
          0.588,
          0.215,
          0.0281,
          0.00286,
          0.0203,
          0.00868,
          0.00979,
          0.19,
          0.00121,
          0.00801,
          0.64,
          0.00883,
          0.0353,
          0.699,
          0.229,
          0.0902,
          0.401,
          0.293,
          0.696,
          0.186,
          0.0293,
          0.00379,
          0.228,
          0.000509,
          0.324,
          0.013,
          0.104,
          0.38,
          0.0151,
          0.0472,
          0.0000255,
          0.0886,
          0.534,
          0.287,
          0.00239,
          0.198,
          0.71
         ],
         "categoryorder": "array",
         "domain": [
          0,
          1
         ],
         "title": {
          "text": "acousticness"
         }
        },
        "yaxis": {
         "anchor": "x",
         "domain": [
          0,
          1
         ],
         "title": {
          "text": "count"
         }
        }
       }
      }
     },
     "metadata": {},
     "output_type": "display_data"
    }
   ],
   "source": [
    "Features_copy = Features.copy()\n",
    "Features_copy['acousticness'] = \\\n",
    "    Features_copy['acousticness'].fillna('Null')\n",
    "\n",
    "fig=px.histogram(Features_copy,\n",
    "                 x = 'acousticness',\n",
    "                 color = 'acousticness',\n",
    "                 title=\"<b>Count vs Acousticness\",\n",
    "                 color_discrete_sequence=px.colors.qualitative.Vivid,\n",
    "                 width=800, height=500)\n",
    "fig.update_layout(template=\"plotly_dark\")\n",
    "fig.update_layout(title_font_size=20)\n",
    "fig.show()"
   ]
  },
  {
   "cell_type": "code",
   "execution_count": 11,
   "metadata": {},
   "outputs": [
    {
     "data": {
      "application/vnd.plotly.v1+json": {
       "config": {
        "plotlyServerURL": "https://plot.ly"
       },
       "data": [
        {
         "alignmentgroup": "True",
         "bingroup": "x",
         "hovertemplate": "instrumentalness=%{x}<br>count=%{y}<extra></extra>",
         "legendgroup": "9.54e-05",
         "marker": {
          "color": "rgb(229, 134, 6)",
          "pattern": {
           "shape": ""
          }
         },
         "name": "9.54e-05",
         "offsetgroup": "9.54e-05",
         "orientation": "v",
         "showlegend": true,
         "type": "histogram",
         "x": [
          0.0000954
         ],
         "xaxis": "x",
         "yaxis": "y"
        },
        {
         "alignmentgroup": "True",
         "bingroup": "x",
         "hovertemplate": "instrumentalness=%{x}<br>count=%{y}<extra></extra>",
         "legendgroup": "0.0",
         "marker": {
          "color": "rgb(93, 105, 177)",
          "pattern": {
           "shape": ""
          }
         },
         "name": "0.0",
         "offsetgroup": "0.0",
         "orientation": "v",
         "showlegend": true,
         "type": "histogram",
         "x": [
          0,
          0,
          0,
          0,
          0,
          0,
          0,
          0,
          0,
          0,
          0,
          0,
          0,
          0,
          0,
          0,
          0,
          0,
          0,
          0,
          0,
          0,
          0,
          0,
          0,
          0,
          0,
          0,
          0,
          0,
          0,
          0,
          0,
          0,
          0,
          0,
          0,
          0,
          0,
          0,
          0,
          0,
          0,
          0,
          0,
          0,
          0,
          0,
          0,
          0,
          0,
          0,
          0
         ],
         "xaxis": "x",
         "yaxis": "y"
        },
        {
         "alignmentgroup": "True",
         "bingroup": "x",
         "hovertemplate": "instrumentalness=%{x}<br>count=%{y}<extra></extra>",
         "legendgroup": "0.000104",
         "marker": {
          "color": "rgb(82, 188, 163)",
          "pattern": {
           "shape": ""
          }
         },
         "name": "0.000104",
         "offsetgroup": "0.000104",
         "orientation": "v",
         "showlegend": true,
         "type": "histogram",
         "x": [
          0.000104
         ],
         "xaxis": "x",
         "yaxis": "y"
        },
        {
         "alignmentgroup": "True",
         "bingroup": "x",
         "hovertemplate": "instrumentalness=%{x}<br>count=%{y}<extra></extra>",
         "legendgroup": "7.01e-05",
         "marker": {
          "color": "rgb(153, 201, 69)",
          "pattern": {
           "shape": ""
          }
         },
         "name": "7.01e-05",
         "offsetgroup": "7.01e-05",
         "orientation": "v",
         "showlegend": true,
         "type": "histogram",
         "x": [
          0.0000701
         ],
         "xaxis": "x",
         "yaxis": "y"
        },
        {
         "alignmentgroup": "True",
         "bingroup": "x",
         "hovertemplate": "instrumentalness=%{x}<br>count=%{y}<extra></extra>",
         "legendgroup": "0.0018",
         "marker": {
          "color": "rgb(204, 97, 176)",
          "pattern": {
           "shape": ""
          }
         },
         "name": "0.0018",
         "offsetgroup": "0.0018",
         "orientation": "v",
         "showlegend": true,
         "type": "histogram",
         "x": [
          0.0018
         ],
         "xaxis": "x",
         "yaxis": "y"
        },
        {
         "alignmentgroup": "True",
         "bingroup": "x",
         "hovertemplate": "instrumentalness=%{x}<br>count=%{y}<extra></extra>",
         "legendgroup": "6.12e-05",
         "marker": {
          "color": "rgb(36, 121, 108)",
          "pattern": {
           "shape": ""
          }
         },
         "name": "6.12e-05",
         "offsetgroup": "6.12e-05",
         "orientation": "v",
         "showlegend": true,
         "type": "histogram",
         "x": [
          0.0000612
         ],
         "xaxis": "x",
         "yaxis": "y"
        },
        {
         "alignmentgroup": "True",
         "bingroup": "x",
         "hovertemplate": "instrumentalness=%{x}<br>count=%{y}<extra></extra>",
         "legendgroup": "0.124",
         "marker": {
          "color": "rgb(218, 165, 27)",
          "pattern": {
           "shape": ""
          }
         },
         "name": "0.124",
         "offsetgroup": "0.124",
         "orientation": "v",
         "showlegend": true,
         "type": "histogram",
         "x": [
          0.124
         ],
         "xaxis": "x",
         "yaxis": "y"
        },
        {
         "alignmentgroup": "True",
         "bingroup": "x",
         "hovertemplate": "instrumentalness=%{x}<br>count=%{y}<extra></extra>",
         "legendgroup": "6.7e-06",
         "marker": {
          "color": "rgb(47, 138, 196)",
          "pattern": {
           "shape": ""
          }
         },
         "name": "6.7e-06",
         "offsetgroup": "6.7e-06",
         "orientation": "v",
         "showlegend": true,
         "type": "histogram",
         "x": [
          0.0000067
         ],
         "xaxis": "x",
         "yaxis": "y"
        },
        {
         "alignmentgroup": "True",
         "bingroup": "x",
         "hovertemplate": "instrumentalness=%{x}<br>count=%{y}<extra></extra>",
         "legendgroup": "6.35e-06",
         "marker": {
          "color": "rgb(118, 78, 159)",
          "pattern": {
           "shape": ""
          }
         },
         "name": "6.35e-06",
         "offsetgroup": "6.35e-06",
         "orientation": "v",
         "showlegend": true,
         "type": "histogram",
         "x": [
          0.00000635
         ],
         "xaxis": "x",
         "yaxis": "y"
        },
        {
         "alignmentgroup": "True",
         "bingroup": "x",
         "hovertemplate": "instrumentalness=%{x}<br>count=%{y}<extra></extra>",
         "legendgroup": "0.13",
         "marker": {
          "color": "rgb(237, 100, 90)",
          "pattern": {
           "shape": ""
          }
         },
         "name": "0.13",
         "offsetgroup": "0.13",
         "orientation": "v",
         "showlegend": true,
         "type": "histogram",
         "x": [
          0.13
         ],
         "xaxis": "x",
         "yaxis": "y"
        },
        {
         "alignmentgroup": "True",
         "bingroup": "x",
         "hovertemplate": "instrumentalness=%{x}<br>count=%{y}<extra></extra>",
         "legendgroup": "0.459",
         "marker": {
          "color": "rgb(165, 170, 153)",
          "pattern": {
           "shape": ""
          }
         },
         "name": "0.459",
         "offsetgroup": "0.459",
         "orientation": "v",
         "showlegend": true,
         "type": "histogram",
         "x": [
          0.459
         ],
         "xaxis": "x",
         "yaxis": "y"
        },
        {
         "alignmentgroup": "True",
         "bingroup": "x",
         "hovertemplate": "instrumentalness=%{x}<br>count=%{y}<extra></extra>",
         "legendgroup": "8.29e-05",
         "marker": {
          "color": "rgb(229, 134, 6)",
          "pattern": {
           "shape": ""
          }
         },
         "name": "8.29e-05",
         "offsetgroup": "8.29e-05",
         "orientation": "v",
         "showlegend": true,
         "type": "histogram",
         "x": [
          0.0000829
         ],
         "xaxis": "x",
         "yaxis": "y"
        },
        {
         "alignmentgroup": "True",
         "bingroup": "x",
         "hovertemplate": "instrumentalness=%{x}<br>count=%{y}<extra></extra>",
         "legendgroup": "0.000472",
         "marker": {
          "color": "rgb(93, 105, 177)",
          "pattern": {
           "shape": ""
          }
         },
         "name": "0.000472",
         "offsetgroup": "0.000472",
         "orientation": "v",
         "showlegend": true,
         "type": "histogram",
         "x": [
          0.000472
         ],
         "xaxis": "x",
         "yaxis": "y"
        },
        {
         "alignmentgroup": "True",
         "bingroup": "x",
         "hovertemplate": "instrumentalness=%{x}<br>count=%{y}<extra></extra>",
         "legendgroup": "1.44e-05",
         "marker": {
          "color": "rgb(82, 188, 163)",
          "pattern": {
           "shape": ""
          }
         },
         "name": "1.44e-05",
         "offsetgroup": "1.44e-05",
         "orientation": "v",
         "showlegend": true,
         "type": "histogram",
         "x": [
          0.0000144
         ],
         "xaxis": "x",
         "yaxis": "y"
        },
        {
         "alignmentgroup": "True",
         "bingroup": "x",
         "hovertemplate": "instrumentalness=%{x}<br>count=%{y}<extra></extra>",
         "legendgroup": "0.0177",
         "marker": {
          "color": "rgb(153, 201, 69)",
          "pattern": {
           "shape": ""
          }
         },
         "name": "0.0177",
         "offsetgroup": "0.0177",
         "orientation": "v",
         "showlegend": true,
         "type": "histogram",
         "x": [
          0.0177
         ],
         "xaxis": "x",
         "yaxis": "y"
        },
        {
         "alignmentgroup": "True",
         "bingroup": "x",
         "hovertemplate": "instrumentalness=%{x}<br>count=%{y}<extra></extra>",
         "legendgroup": "0.00101",
         "marker": {
          "color": "rgb(204, 97, 176)",
          "pattern": {
           "shape": ""
          }
         },
         "name": "0.00101",
         "offsetgroup": "0.00101",
         "orientation": "v",
         "showlegend": true,
         "type": "histogram",
         "x": [
          0.00101
         ],
         "xaxis": "x",
         "yaxis": "y"
        },
        {
         "alignmentgroup": "True",
         "bingroup": "x",
         "hovertemplate": "instrumentalness=%{x}<br>count=%{y}<extra></extra>",
         "legendgroup": "0.00244",
         "marker": {
          "color": "rgb(36, 121, 108)",
          "pattern": {
           "shape": ""
          }
         },
         "name": "0.00244",
         "offsetgroup": "0.00244",
         "orientation": "v",
         "showlegend": true,
         "type": "histogram",
         "x": [
          0.00244
         ],
         "xaxis": "x",
         "yaxis": "y"
        },
        {
         "alignmentgroup": "True",
         "bingroup": "x",
         "hovertemplate": "instrumentalness=%{x}<br>count=%{y}<extra></extra>",
         "legendgroup": "0.00372",
         "marker": {
          "color": "rgb(218, 165, 27)",
          "pattern": {
           "shape": ""
          }
         },
         "name": "0.00372",
         "offsetgroup": "0.00372",
         "orientation": "v",
         "showlegend": true,
         "type": "histogram",
         "x": [
          0.00372
         ],
         "xaxis": "x",
         "yaxis": "y"
        },
        {
         "alignmentgroup": "True",
         "bingroup": "x",
         "hovertemplate": "instrumentalness=%{x}<br>count=%{y}<extra></extra>",
         "legendgroup": "0.0117",
         "marker": {
          "color": "rgb(47, 138, 196)",
          "pattern": {
           "shape": ""
          }
         },
         "name": "0.0117",
         "offsetgroup": "0.0117",
         "orientation": "v",
         "showlegend": true,
         "type": "histogram",
         "x": [
          0.0117
         ],
         "xaxis": "x",
         "yaxis": "y"
        },
        {
         "alignmentgroup": "True",
         "bingroup": "x",
         "hovertemplate": "instrumentalness=%{x}<br>count=%{y}<extra></extra>",
         "legendgroup": "4.13e-06",
         "marker": {
          "color": "rgb(118, 78, 159)",
          "pattern": {
           "shape": ""
          }
         },
         "name": "4.13e-06",
         "offsetgroup": "4.13e-06",
         "orientation": "v",
         "showlegend": true,
         "type": "histogram",
         "x": [
          0.00000413
         ],
         "xaxis": "x",
         "yaxis": "y"
        },
        {
         "alignmentgroup": "True",
         "bingroup": "x",
         "hovertemplate": "instrumentalness=%{x}<br>count=%{y}<extra></extra>",
         "legendgroup": "3.56e-05",
         "marker": {
          "color": "rgb(237, 100, 90)",
          "pattern": {
           "shape": ""
          }
         },
         "name": "3.56e-05",
         "offsetgroup": "3.56e-05",
         "orientation": "v",
         "showlegend": true,
         "type": "histogram",
         "x": [
          0.0000356
         ],
         "xaxis": "x",
         "yaxis": "y"
        },
        {
         "alignmentgroup": "True",
         "bingroup": "x",
         "hovertemplate": "instrumentalness=%{x}<br>count=%{y}<extra></extra>",
         "legendgroup": "2.29e-05",
         "marker": {
          "color": "rgb(165, 170, 153)",
          "pattern": {
           "shape": ""
          }
         },
         "name": "2.29e-05",
         "offsetgroup": "2.29e-05",
         "orientation": "v",
         "showlegend": true,
         "type": "histogram",
         "x": [
          0.0000229
         ],
         "xaxis": "x",
         "yaxis": "y"
        },
        {
         "alignmentgroup": "True",
         "bingroup": "x",
         "hovertemplate": "instrumentalness=%{x}<br>count=%{y}<extra></extra>",
         "legendgroup": "1.55e-05",
         "marker": {
          "color": "rgb(229, 134, 6)",
          "pattern": {
           "shape": ""
          }
         },
         "name": "1.55e-05",
         "offsetgroup": "1.55e-05",
         "orientation": "v",
         "showlegend": true,
         "type": "histogram",
         "x": [
          0.0000155
         ],
         "xaxis": "x",
         "yaxis": "y"
        },
        {
         "alignmentgroup": "True",
         "bingroup": "x",
         "hovertemplate": "instrumentalness=%{x}<br>count=%{y}<extra></extra>",
         "legendgroup": "0.0012",
         "marker": {
          "color": "rgb(93, 105, 177)",
          "pattern": {
           "shape": ""
          }
         },
         "name": "0.0012",
         "offsetgroup": "0.0012",
         "orientation": "v",
         "showlegend": true,
         "type": "histogram",
         "x": [
          0.0012
         ],
         "xaxis": "x",
         "yaxis": "y"
        },
        {
         "alignmentgroup": "True",
         "bingroup": "x",
         "hovertemplate": "instrumentalness=%{x}<br>count=%{y}<extra></extra>",
         "legendgroup": "5.39e-05",
         "marker": {
          "color": "rgb(82, 188, 163)",
          "pattern": {
           "shape": ""
          }
         },
         "name": "5.39e-05",
         "offsetgroup": "5.39e-05",
         "orientation": "v",
         "showlegend": true,
         "type": "histogram",
         "x": [
          0.0000539
         ],
         "xaxis": "x",
         "yaxis": "y"
        },
        {
         "alignmentgroup": "True",
         "bingroup": "x",
         "hovertemplate": "instrumentalness=%{x}<br>count=%{y}<extra></extra>",
         "legendgroup": "0.00498",
         "marker": {
          "color": "rgb(153, 201, 69)",
          "pattern": {
           "shape": ""
          }
         },
         "name": "0.00498",
         "offsetgroup": "0.00498",
         "orientation": "v",
         "showlegend": true,
         "type": "histogram",
         "x": [
          0.00498
         ],
         "xaxis": "x",
         "yaxis": "y"
        },
        {
         "alignmentgroup": "True",
         "bingroup": "x",
         "hovertemplate": "instrumentalness=%{x}<br>count=%{y}<extra></extra>",
         "legendgroup": "2.19e-05",
         "marker": {
          "color": "rgb(204, 97, 176)",
          "pattern": {
           "shape": ""
          }
         },
         "name": "2.19e-05",
         "offsetgroup": "2.19e-05",
         "orientation": "v",
         "showlegend": true,
         "type": "histogram",
         "x": [
          0.0000219
         ],
         "xaxis": "x",
         "yaxis": "y"
        },
        {
         "alignmentgroup": "True",
         "bingroup": "x",
         "hovertemplate": "instrumentalness=%{x}<br>count=%{y}<extra></extra>",
         "legendgroup": "2.63e-05",
         "marker": {
          "color": "rgb(36, 121, 108)",
          "pattern": {
           "shape": ""
          }
         },
         "name": "2.63e-05",
         "offsetgroup": "2.63e-05",
         "orientation": "v",
         "showlegend": true,
         "type": "histogram",
         "x": [
          0.0000263
         ],
         "xaxis": "x",
         "yaxis": "y"
        },
        {
         "alignmentgroup": "True",
         "bingroup": "x",
         "hovertemplate": "instrumentalness=%{x}<br>count=%{y}<extra></extra>",
         "legendgroup": "1.42e-05",
         "marker": {
          "color": "rgb(218, 165, 27)",
          "pattern": {
           "shape": ""
          }
         },
         "name": "1.42e-05",
         "offsetgroup": "1.42e-05",
         "orientation": "v",
         "showlegend": true,
         "type": "histogram",
         "x": [
          0.0000142
         ],
         "xaxis": "x",
         "yaxis": "y"
        },
        {
         "alignmentgroup": "True",
         "bingroup": "x",
         "hovertemplate": "instrumentalness=%{x}<br>count=%{y}<extra></extra>",
         "legendgroup": "0.00123",
         "marker": {
          "color": "rgb(47, 138, 196)",
          "pattern": {
           "shape": ""
          }
         },
         "name": "0.00123",
         "offsetgroup": "0.00123",
         "orientation": "v",
         "showlegend": true,
         "type": "histogram",
         "x": [
          0.00123
         ],
         "xaxis": "x",
         "yaxis": "y"
        },
        {
         "alignmentgroup": "True",
         "bingroup": "x",
         "hovertemplate": "instrumentalness=%{x}<br>count=%{y}<extra></extra>",
         "legendgroup": "0.00777",
         "marker": {
          "color": "rgb(118, 78, 159)",
          "pattern": {
           "shape": ""
          }
         },
         "name": "0.00777",
         "offsetgroup": "0.00777",
         "orientation": "v",
         "showlegend": true,
         "type": "histogram",
         "x": [
          0.00777
         ],
         "xaxis": "x",
         "yaxis": "y"
        },
        {
         "alignmentgroup": "True",
         "bingroup": "x",
         "hovertemplate": "instrumentalness=%{x}<br>count=%{y}<extra></extra>",
         "legendgroup": "6.39e-05",
         "marker": {
          "color": "rgb(237, 100, 90)",
          "pattern": {
           "shape": ""
          }
         },
         "name": "6.39e-05",
         "offsetgroup": "6.39e-05",
         "orientation": "v",
         "showlegend": true,
         "type": "histogram",
         "x": [
          0.0000639
         ],
         "xaxis": "x",
         "yaxis": "y"
        },
        {
         "alignmentgroup": "True",
         "bingroup": "x",
         "hovertemplate": "instrumentalness=%{x}<br>count=%{y}<extra></extra>",
         "legendgroup": "7.97e-06",
         "marker": {
          "color": "rgb(165, 170, 153)",
          "pattern": {
           "shape": ""
          }
         },
         "name": "7.97e-06",
         "offsetgroup": "7.97e-06",
         "orientation": "v",
         "showlegend": true,
         "type": "histogram",
         "x": [
          0.00000797
         ],
         "xaxis": "x",
         "yaxis": "y"
        },
        {
         "alignmentgroup": "True",
         "bingroup": "x",
         "hovertemplate": "instrumentalness=%{x}<br>count=%{y}<extra></extra>",
         "legendgroup": "0.000423",
         "marker": {
          "color": "rgb(229, 134, 6)",
          "pattern": {
           "shape": ""
          }
         },
         "name": "0.000423",
         "offsetgroup": "0.000423",
         "orientation": "v",
         "showlegend": true,
         "type": "histogram",
         "x": [
          0.000423
         ],
         "xaxis": "x",
         "yaxis": "y"
        },
        {
         "alignmentgroup": "True",
         "bingroup": "x",
         "hovertemplate": "instrumentalness=%{x}<br>count=%{y}<extra></extra>",
         "legendgroup": "0.00025",
         "marker": {
          "color": "rgb(93, 105, 177)",
          "pattern": {
           "shape": ""
          }
         },
         "name": "0.00025",
         "offsetgroup": "0.00025",
         "orientation": "v",
         "showlegend": true,
         "type": "histogram",
         "x": [
          0.00025
         ],
         "xaxis": "x",
         "yaxis": "y"
        },
        {
         "alignmentgroup": "True",
         "bingroup": "x",
         "hovertemplate": "instrumentalness=%{x}<br>count=%{y}<extra></extra>",
         "legendgroup": "8.15e-05",
         "marker": {
          "color": "rgb(82, 188, 163)",
          "pattern": {
           "shape": ""
          }
         },
         "name": "8.15e-05",
         "offsetgroup": "8.15e-05",
         "orientation": "v",
         "showlegend": true,
         "type": "histogram",
         "x": [
          0.0000815
         ],
         "xaxis": "x",
         "yaxis": "y"
        },
        {
         "alignmentgroup": "True",
         "bingroup": "x",
         "hovertemplate": "instrumentalness=%{x}<br>count=%{y}<extra></extra>",
         "legendgroup": "8.42e-06",
         "marker": {
          "color": "rgb(153, 201, 69)",
          "pattern": {
           "shape": ""
          }
         },
         "name": "8.42e-06",
         "offsetgroup": "8.42e-06",
         "orientation": "v",
         "showlegend": true,
         "type": "histogram",
         "x": [
          0.00000842
         ],
         "xaxis": "x",
         "yaxis": "y"
        },
        {
         "alignmentgroup": "True",
         "bingroup": "x",
         "hovertemplate": "instrumentalness=%{x}<br>count=%{y}<extra></extra>",
         "legendgroup": "0.000156",
         "marker": {
          "color": "rgb(204, 97, 176)",
          "pattern": {
           "shape": ""
          }
         },
         "name": "0.000156",
         "offsetgroup": "0.000156",
         "orientation": "v",
         "showlegend": true,
         "type": "histogram",
         "x": [
          0.000156
         ],
         "xaxis": "x",
         "yaxis": "y"
        },
        {
         "alignmentgroup": "True",
         "bingroup": "x",
         "hovertemplate": "instrumentalness=%{x}<br>count=%{y}<extra></extra>",
         "legendgroup": "5.22e-05",
         "marker": {
          "color": "rgb(36, 121, 108)",
          "pattern": {
           "shape": ""
          }
         },
         "name": "5.22e-05",
         "offsetgroup": "5.22e-05",
         "orientation": "v",
         "showlegend": true,
         "type": "histogram",
         "x": [
          0.0000522
         ],
         "xaxis": "x",
         "yaxis": "y"
        },
        {
         "alignmentgroup": "True",
         "bingroup": "x",
         "hovertemplate": "instrumentalness=%{x}<br>count=%{y}<extra></extra>",
         "legendgroup": "6.81e-06",
         "marker": {
          "color": "rgb(218, 165, 27)",
          "pattern": {
           "shape": ""
          }
         },
         "name": "6.81e-06",
         "offsetgroup": "6.81e-06",
         "orientation": "v",
         "showlegend": true,
         "type": "histogram",
         "x": [
          0.00000681
         ],
         "xaxis": "x",
         "yaxis": "y"
        },
        {
         "alignmentgroup": "True",
         "bingroup": "x",
         "hovertemplate": "instrumentalness=%{x}<br>count=%{y}<extra></extra>",
         "legendgroup": "0.000263",
         "marker": {
          "color": "rgb(47, 138, 196)",
          "pattern": {
           "shape": ""
          }
         },
         "name": "0.000263",
         "offsetgroup": "0.000263",
         "orientation": "v",
         "showlegend": true,
         "type": "histogram",
         "x": [
          0.000263
         ],
         "xaxis": "x",
         "yaxis": "y"
        },
        {
         "alignmentgroup": "True",
         "bingroup": "x",
         "hovertemplate": "instrumentalness=%{x}<br>count=%{y}<extra></extra>",
         "legendgroup": "0.0101",
         "marker": {
          "color": "rgb(118, 78, 159)",
          "pattern": {
           "shape": ""
          }
         },
         "name": "0.0101",
         "offsetgroup": "0.0101",
         "orientation": "v",
         "showlegend": true,
         "type": "histogram",
         "x": [
          0.0101
         ],
         "xaxis": "x",
         "yaxis": "y"
        },
        {
         "alignmentgroup": "True",
         "bingroup": "x",
         "hovertemplate": "instrumentalness=%{x}<br>count=%{y}<extra></extra>",
         "legendgroup": "0.00404",
         "marker": {
          "color": "rgb(237, 100, 90)",
          "pattern": {
           "shape": ""
          }
         },
         "name": "0.00404",
         "offsetgroup": "0.00404",
         "orientation": "v",
         "showlegend": true,
         "type": "histogram",
         "x": [
          0.00404
         ],
         "xaxis": "x",
         "yaxis": "y"
        },
        {
         "alignmentgroup": "True",
         "bingroup": "x",
         "hovertemplate": "instrumentalness=%{x}<br>count=%{y}<extra></extra>",
         "legendgroup": "0.00143",
         "marker": {
          "color": "rgb(165, 170, 153)",
          "pattern": {
           "shape": ""
          }
         },
         "name": "0.00143",
         "offsetgroup": "0.00143",
         "orientation": "v",
         "showlegend": true,
         "type": "histogram",
         "x": [
          0.00143
         ],
         "xaxis": "x",
         "yaxis": "y"
        },
        {
         "alignmentgroup": "True",
         "bingroup": "x",
         "hovertemplate": "instrumentalness=%{x}<br>count=%{y}<extra></extra>",
         "legendgroup": "0.000173",
         "marker": {
          "color": "rgb(229, 134, 6)",
          "pattern": {
           "shape": ""
          }
         },
         "name": "0.000173",
         "offsetgroup": "0.000173",
         "orientation": "v",
         "showlegend": true,
         "type": "histogram",
         "x": [
          0.000173
         ],
         "xaxis": "x",
         "yaxis": "y"
        },
        {
         "alignmentgroup": "True",
         "bingroup": "x",
         "hovertemplate": "instrumentalness=%{x}<br>count=%{y}<extra></extra>",
         "legendgroup": "7.49e-06",
         "marker": {
          "color": "rgb(93, 105, 177)",
          "pattern": {
           "shape": ""
          }
         },
         "name": "7.49e-06",
         "offsetgroup": "7.49e-06",
         "orientation": "v",
         "showlegend": true,
         "type": "histogram",
         "x": [
          0.00000749
         ],
         "xaxis": "x",
         "yaxis": "y"
        },
        {
         "alignmentgroup": "True",
         "bingroup": "x",
         "hovertemplate": "instrumentalness=%{x}<br>count=%{y}<extra></extra>",
         "legendgroup": "2.58e-06",
         "marker": {
          "color": "rgb(82, 188, 163)",
          "pattern": {
           "shape": ""
          }
         },
         "name": "2.58e-06",
         "offsetgroup": "2.58e-06",
         "orientation": "v",
         "showlegend": true,
         "type": "histogram",
         "x": [
          0.00000258
         ],
         "xaxis": "x",
         "yaxis": "y"
        },
        {
         "alignmentgroup": "True",
         "bingroup": "x",
         "hovertemplate": "instrumentalness=%{x}<br>count=%{y}<extra></extra>",
         "legendgroup": "0.000121",
         "marker": {
          "color": "rgb(153, 201, 69)",
          "pattern": {
           "shape": ""
          }
         },
         "name": "0.000121",
         "offsetgroup": "0.000121",
         "orientation": "v",
         "showlegend": true,
         "type": "histogram",
         "x": [
          0.000121
         ],
         "xaxis": "x",
         "yaxis": "y"
        }
       ],
       "layout": {
        "barmode": "relative",
        "height": 500,
        "legend": {
         "title": {
          "text": "instrumentalness"
         },
         "tracegroupgap": 0
        },
        "template": {
         "data": {
          "bar": [
           {
            "error_x": {
             "color": "#f2f5fa"
            },
            "error_y": {
             "color": "#f2f5fa"
            },
            "marker": {
             "line": {
              "color": "rgb(17,17,17)",
              "width": 0.5
             },
             "pattern": {
              "fillmode": "overlay",
              "size": 10,
              "solidity": 0.2
             }
            },
            "type": "bar"
           }
          ],
          "barpolar": [
           {
            "marker": {
             "line": {
              "color": "rgb(17,17,17)",
              "width": 0.5
             },
             "pattern": {
              "fillmode": "overlay",
              "size": 10,
              "solidity": 0.2
             }
            },
            "type": "barpolar"
           }
          ],
          "carpet": [
           {
            "aaxis": {
             "endlinecolor": "#A2B1C6",
             "gridcolor": "#506784",
             "linecolor": "#506784",
             "minorgridcolor": "#506784",
             "startlinecolor": "#A2B1C6"
            },
            "baxis": {
             "endlinecolor": "#A2B1C6",
             "gridcolor": "#506784",
             "linecolor": "#506784",
             "minorgridcolor": "#506784",
             "startlinecolor": "#A2B1C6"
            },
            "type": "carpet"
           }
          ],
          "choropleth": [
           {
            "colorbar": {
             "outlinewidth": 0,
             "ticks": ""
            },
            "type": "choropleth"
           }
          ],
          "contour": [
           {
            "colorbar": {
             "outlinewidth": 0,
             "ticks": ""
            },
            "colorscale": [
             [
              0,
              "#0d0887"
             ],
             [
              0.1111111111111111,
              "#46039f"
             ],
             [
              0.2222222222222222,
              "#7201a8"
             ],
             [
              0.3333333333333333,
              "#9c179e"
             ],
             [
              0.4444444444444444,
              "#bd3786"
             ],
             [
              0.5555555555555556,
              "#d8576b"
             ],
             [
              0.6666666666666666,
              "#ed7953"
             ],
             [
              0.7777777777777778,
              "#fb9f3a"
             ],
             [
              0.8888888888888888,
              "#fdca26"
             ],
             [
              1,
              "#f0f921"
             ]
            ],
            "type": "contour"
           }
          ],
          "contourcarpet": [
           {
            "colorbar": {
             "outlinewidth": 0,
             "ticks": ""
            },
            "type": "contourcarpet"
           }
          ],
          "heatmap": [
           {
            "colorbar": {
             "outlinewidth": 0,
             "ticks": ""
            },
            "colorscale": [
             [
              0,
              "#0d0887"
             ],
             [
              0.1111111111111111,
              "#46039f"
             ],
             [
              0.2222222222222222,
              "#7201a8"
             ],
             [
              0.3333333333333333,
              "#9c179e"
             ],
             [
              0.4444444444444444,
              "#bd3786"
             ],
             [
              0.5555555555555556,
              "#d8576b"
             ],
             [
              0.6666666666666666,
              "#ed7953"
             ],
             [
              0.7777777777777778,
              "#fb9f3a"
             ],
             [
              0.8888888888888888,
              "#fdca26"
             ],
             [
              1,
              "#f0f921"
             ]
            ],
            "type": "heatmap"
           }
          ],
          "heatmapgl": [
           {
            "colorbar": {
             "outlinewidth": 0,
             "ticks": ""
            },
            "colorscale": [
             [
              0,
              "#0d0887"
             ],
             [
              0.1111111111111111,
              "#46039f"
             ],
             [
              0.2222222222222222,
              "#7201a8"
             ],
             [
              0.3333333333333333,
              "#9c179e"
             ],
             [
              0.4444444444444444,
              "#bd3786"
             ],
             [
              0.5555555555555556,
              "#d8576b"
             ],
             [
              0.6666666666666666,
              "#ed7953"
             ],
             [
              0.7777777777777778,
              "#fb9f3a"
             ],
             [
              0.8888888888888888,
              "#fdca26"
             ],
             [
              1,
              "#f0f921"
             ]
            ],
            "type": "heatmapgl"
           }
          ],
          "histogram": [
           {
            "marker": {
             "pattern": {
              "fillmode": "overlay",
              "size": 10,
              "solidity": 0.2
             }
            },
            "type": "histogram"
           }
          ],
          "histogram2d": [
           {
            "colorbar": {
             "outlinewidth": 0,
             "ticks": ""
            },
            "colorscale": [
             [
              0,
              "#0d0887"
             ],
             [
              0.1111111111111111,
              "#46039f"
             ],
             [
              0.2222222222222222,
              "#7201a8"
             ],
             [
              0.3333333333333333,
              "#9c179e"
             ],
             [
              0.4444444444444444,
              "#bd3786"
             ],
             [
              0.5555555555555556,
              "#d8576b"
             ],
             [
              0.6666666666666666,
              "#ed7953"
             ],
             [
              0.7777777777777778,
              "#fb9f3a"
             ],
             [
              0.8888888888888888,
              "#fdca26"
             ],
             [
              1,
              "#f0f921"
             ]
            ],
            "type": "histogram2d"
           }
          ],
          "histogram2dcontour": [
           {
            "colorbar": {
             "outlinewidth": 0,
             "ticks": ""
            },
            "colorscale": [
             [
              0,
              "#0d0887"
             ],
             [
              0.1111111111111111,
              "#46039f"
             ],
             [
              0.2222222222222222,
              "#7201a8"
             ],
             [
              0.3333333333333333,
              "#9c179e"
             ],
             [
              0.4444444444444444,
              "#bd3786"
             ],
             [
              0.5555555555555556,
              "#d8576b"
             ],
             [
              0.6666666666666666,
              "#ed7953"
             ],
             [
              0.7777777777777778,
              "#fb9f3a"
             ],
             [
              0.8888888888888888,
              "#fdca26"
             ],
             [
              1,
              "#f0f921"
             ]
            ],
            "type": "histogram2dcontour"
           }
          ],
          "mesh3d": [
           {
            "colorbar": {
             "outlinewidth": 0,
             "ticks": ""
            },
            "type": "mesh3d"
           }
          ],
          "parcoords": [
           {
            "line": {
             "colorbar": {
              "outlinewidth": 0,
              "ticks": ""
             }
            },
            "type": "parcoords"
           }
          ],
          "pie": [
           {
            "automargin": true,
            "type": "pie"
           }
          ],
          "scatter": [
           {
            "marker": {
             "line": {
              "color": "#283442"
             }
            },
            "type": "scatter"
           }
          ],
          "scatter3d": [
           {
            "line": {
             "colorbar": {
              "outlinewidth": 0,
              "ticks": ""
             }
            },
            "marker": {
             "colorbar": {
              "outlinewidth": 0,
              "ticks": ""
             }
            },
            "type": "scatter3d"
           }
          ],
          "scattercarpet": [
           {
            "marker": {
             "colorbar": {
              "outlinewidth": 0,
              "ticks": ""
             }
            },
            "type": "scattercarpet"
           }
          ],
          "scattergeo": [
           {
            "marker": {
             "colorbar": {
              "outlinewidth": 0,
              "ticks": ""
             }
            },
            "type": "scattergeo"
           }
          ],
          "scattergl": [
           {
            "marker": {
             "line": {
              "color": "#283442"
             }
            },
            "type": "scattergl"
           }
          ],
          "scattermapbox": [
           {
            "marker": {
             "colorbar": {
              "outlinewidth": 0,
              "ticks": ""
             }
            },
            "type": "scattermapbox"
           }
          ],
          "scatterpolar": [
           {
            "marker": {
             "colorbar": {
              "outlinewidth": 0,
              "ticks": ""
             }
            },
            "type": "scatterpolar"
           }
          ],
          "scatterpolargl": [
           {
            "marker": {
             "colorbar": {
              "outlinewidth": 0,
              "ticks": ""
             }
            },
            "type": "scatterpolargl"
           }
          ],
          "scatterternary": [
           {
            "marker": {
             "colorbar": {
              "outlinewidth": 0,
              "ticks": ""
             }
            },
            "type": "scatterternary"
           }
          ],
          "surface": [
           {
            "colorbar": {
             "outlinewidth": 0,
             "ticks": ""
            },
            "colorscale": [
             [
              0,
              "#0d0887"
             ],
             [
              0.1111111111111111,
              "#46039f"
             ],
             [
              0.2222222222222222,
              "#7201a8"
             ],
             [
              0.3333333333333333,
              "#9c179e"
             ],
             [
              0.4444444444444444,
              "#bd3786"
             ],
             [
              0.5555555555555556,
              "#d8576b"
             ],
             [
              0.6666666666666666,
              "#ed7953"
             ],
             [
              0.7777777777777778,
              "#fb9f3a"
             ],
             [
              0.8888888888888888,
              "#fdca26"
             ],
             [
              1,
              "#f0f921"
             ]
            ],
            "type": "surface"
           }
          ],
          "table": [
           {
            "cells": {
             "fill": {
              "color": "#506784"
             },
             "line": {
              "color": "rgb(17,17,17)"
             }
            },
            "header": {
             "fill": {
              "color": "#2a3f5f"
             },
             "line": {
              "color": "rgb(17,17,17)"
             }
            },
            "type": "table"
           }
          ]
         },
         "layout": {
          "annotationdefaults": {
           "arrowcolor": "#f2f5fa",
           "arrowhead": 0,
           "arrowwidth": 1
          },
          "autotypenumbers": "strict",
          "coloraxis": {
           "colorbar": {
            "outlinewidth": 0,
            "ticks": ""
           }
          },
          "colorscale": {
           "diverging": [
            [
             0,
             "#8e0152"
            ],
            [
             0.1,
             "#c51b7d"
            ],
            [
             0.2,
             "#de77ae"
            ],
            [
             0.3,
             "#f1b6da"
            ],
            [
             0.4,
             "#fde0ef"
            ],
            [
             0.5,
             "#f7f7f7"
            ],
            [
             0.6,
             "#e6f5d0"
            ],
            [
             0.7,
             "#b8e186"
            ],
            [
             0.8,
             "#7fbc41"
            ],
            [
             0.9,
             "#4d9221"
            ],
            [
             1,
             "#276419"
            ]
           ],
           "sequential": [
            [
             0,
             "#0d0887"
            ],
            [
             0.1111111111111111,
             "#46039f"
            ],
            [
             0.2222222222222222,
             "#7201a8"
            ],
            [
             0.3333333333333333,
             "#9c179e"
            ],
            [
             0.4444444444444444,
             "#bd3786"
            ],
            [
             0.5555555555555556,
             "#d8576b"
            ],
            [
             0.6666666666666666,
             "#ed7953"
            ],
            [
             0.7777777777777778,
             "#fb9f3a"
            ],
            [
             0.8888888888888888,
             "#fdca26"
            ],
            [
             1,
             "#f0f921"
            ]
           ],
           "sequentialminus": [
            [
             0,
             "#0d0887"
            ],
            [
             0.1111111111111111,
             "#46039f"
            ],
            [
             0.2222222222222222,
             "#7201a8"
            ],
            [
             0.3333333333333333,
             "#9c179e"
            ],
            [
             0.4444444444444444,
             "#bd3786"
            ],
            [
             0.5555555555555556,
             "#d8576b"
            ],
            [
             0.6666666666666666,
             "#ed7953"
            ],
            [
             0.7777777777777778,
             "#fb9f3a"
            ],
            [
             0.8888888888888888,
             "#fdca26"
            ],
            [
             1,
             "#f0f921"
            ]
           ]
          },
          "colorway": [
           "#636efa",
           "#EF553B",
           "#00cc96",
           "#ab63fa",
           "#FFA15A",
           "#19d3f3",
           "#FF6692",
           "#B6E880",
           "#FF97FF",
           "#FECB52"
          ],
          "font": {
           "color": "#f2f5fa"
          },
          "geo": {
           "bgcolor": "rgb(17,17,17)",
           "lakecolor": "rgb(17,17,17)",
           "landcolor": "rgb(17,17,17)",
           "showlakes": true,
           "showland": true,
           "subunitcolor": "#506784"
          },
          "hoverlabel": {
           "align": "left"
          },
          "hovermode": "closest",
          "mapbox": {
           "style": "dark"
          },
          "paper_bgcolor": "rgb(17,17,17)",
          "plot_bgcolor": "rgb(17,17,17)",
          "polar": {
           "angularaxis": {
            "gridcolor": "#506784",
            "linecolor": "#506784",
            "ticks": ""
           },
           "bgcolor": "rgb(17,17,17)",
           "radialaxis": {
            "gridcolor": "#506784",
            "linecolor": "#506784",
            "ticks": ""
           }
          },
          "scene": {
           "xaxis": {
            "backgroundcolor": "rgb(17,17,17)",
            "gridcolor": "#506784",
            "gridwidth": 2,
            "linecolor": "#506784",
            "showbackground": true,
            "ticks": "",
            "zerolinecolor": "#C8D4E3"
           },
           "yaxis": {
            "backgroundcolor": "rgb(17,17,17)",
            "gridcolor": "#506784",
            "gridwidth": 2,
            "linecolor": "#506784",
            "showbackground": true,
            "ticks": "",
            "zerolinecolor": "#C8D4E3"
           },
           "zaxis": {
            "backgroundcolor": "rgb(17,17,17)",
            "gridcolor": "#506784",
            "gridwidth": 2,
            "linecolor": "#506784",
            "showbackground": true,
            "ticks": "",
            "zerolinecolor": "#C8D4E3"
           }
          },
          "shapedefaults": {
           "line": {
            "color": "#f2f5fa"
           }
          },
          "sliderdefaults": {
           "bgcolor": "#C8D4E3",
           "bordercolor": "rgb(17,17,17)",
           "borderwidth": 1,
           "tickwidth": 0
          },
          "ternary": {
           "aaxis": {
            "gridcolor": "#506784",
            "linecolor": "#506784",
            "ticks": ""
           },
           "baxis": {
            "gridcolor": "#506784",
            "linecolor": "#506784",
            "ticks": ""
           },
           "bgcolor": "rgb(17,17,17)",
           "caxis": {
            "gridcolor": "#506784",
            "linecolor": "#506784",
            "ticks": ""
           }
          },
          "title": {
           "x": 0.05
          },
          "updatemenudefaults": {
           "bgcolor": "#506784",
           "borderwidth": 0
          },
          "xaxis": {
           "automargin": true,
           "gridcolor": "#283442",
           "linecolor": "#506784",
           "ticks": "",
           "title": {
            "standoff": 15
           },
           "zerolinecolor": "#283442",
           "zerolinewidth": 2
          },
          "yaxis": {
           "automargin": true,
           "gridcolor": "#283442",
           "linecolor": "#506784",
           "ticks": "",
           "title": {
            "standoff": 15
           },
           "zerolinecolor": "#283442",
           "zerolinewidth": 2
          }
         }
        },
        "title": {
         "font": {
          "size": 20
         },
         "text": "<b>Count vs Instrumentalness"
        },
        "width": 800,
        "xaxis": {
         "anchor": "y",
         "categoryarray": [
          0.0000954,
          0,
          0.000104,
          0.0000701,
          0.0018,
          0.0000612,
          0.124,
          0.0000067,
          0.00000635,
          0.13,
          0.459,
          0.0000829,
          0.000472,
          0.0000144,
          0.0177,
          0.00101,
          0.00244,
          0.00372,
          0.0117,
          0.00000413,
          0.0000356,
          0.0000229,
          0.0000155,
          0.0012,
          0.0000539,
          0.00498,
          0.0000219,
          0.0000263,
          0.0000142,
          0.00123,
          0.00777,
          0.0000639,
          0.00000797,
          0.000423,
          0.00025,
          0.0000815,
          0.00000842,
          0.000156,
          0.0000522,
          0.00000681,
          0.000263,
          0.0101,
          0.00404,
          0.00143,
          0.000173,
          0.00000749,
          0.00000258,
          0.000121
         ],
         "categoryorder": "array",
         "domain": [
          0,
          1
         ],
         "title": {
          "text": "instrumentalness"
         }
        },
        "yaxis": {
         "anchor": "x",
         "domain": [
          0,
          1
         ],
         "title": {
          "text": "count"
         }
        }
       }
      }
     },
     "metadata": {},
     "output_type": "display_data"
    }
   ],
   "source": [
    "Features_copy = Features.copy()\n",
    "Features_copy['instrumentalness'] = \\\n",
    "    Features_copy['instrumentalness'].fillna('Null')\n",
    "\n",
    "fig=px.histogram(Features_copy,\n",
    "                 x = 'instrumentalness',\n",
    "                 color = 'instrumentalness',\n",
    "                 title=\"<b>Count vs Instrumentalness\",\n",
    "                 color_discrete_sequence=px.colors.qualitative.Vivid,\n",
    "                 width=800, height=500)\n",
    "fig.update_layout(template=\"plotly_dark\")\n",
    "fig.update_layout(title_font_size=20)\n",
    "fig.show()"
   ]
  },
  {
   "cell_type": "code",
   "execution_count": 12,
   "metadata": {},
   "outputs": [
    {
     "data": {
      "application/vnd.plotly.v1+json": {
       "config": {
        "plotlyServerURL": "https://plot.ly"
       },
       "data": [
        {
         "alignmentgroup": "True",
         "bingroup": "x",
         "hovertemplate": "liveness=%{x}<br>count=%{y}<extra></extra>",
         "legendgroup": "0.0897",
         "marker": {
          "color": "rgb(229, 134, 6)",
          "pattern": {
           "shape": ""
          }
         },
         "name": "0.0897",
         "offsetgroup": "0.0897",
         "orientation": "v",
         "showlegend": true,
         "type": "histogram",
         "x": [
          0.0897
         ],
         "xaxis": "x",
         "yaxis": "y"
        },
        {
         "alignmentgroup": "True",
         "bingroup": "x",
         "hovertemplate": "liveness=%{x}<br>count=%{y}<extra></extra>",
         "legendgroup": "0.0931",
         "marker": {
          "color": "rgb(93, 105, 177)",
          "pattern": {
           "shape": ""
          }
         },
         "name": "0.0931",
         "offsetgroup": "0.0931",
         "orientation": "v",
         "showlegend": true,
         "type": "histogram",
         "x": [
          0.0931
         ],
         "xaxis": "x",
         "yaxis": "y"
        },
        {
         "alignmentgroup": "True",
         "bingroup": "x",
         "hovertemplate": "liveness=%{x}<br>count=%{y}<extra></extra>",
         "legendgroup": "0.149",
         "marker": {
          "color": "rgb(82, 188, 163)",
          "pattern": {
           "shape": ""
          }
         },
         "name": "0.149",
         "offsetgroup": "0.149",
         "orientation": "v",
         "showlegend": true,
         "type": "histogram",
         "x": [
          0.149,
          0.149
         ],
         "xaxis": "x",
         "yaxis": "y"
        },
        {
         "alignmentgroup": "True",
         "bingroup": "x",
         "hovertemplate": "liveness=%{x}<br>count=%{y}<extra></extra>",
         "legendgroup": "0.105",
         "marker": {
          "color": "rgb(153, 201, 69)",
          "pattern": {
           "shape": ""
          }
         },
         "name": "0.105",
         "offsetgroup": "0.105",
         "orientation": "v",
         "showlegend": true,
         "type": "histogram",
         "x": [
          0.105
         ],
         "xaxis": "x",
         "yaxis": "y"
        },
        {
         "alignmentgroup": "True",
         "bingroup": "x",
         "hovertemplate": "liveness=%{x}<br>count=%{y}<extra></extra>",
         "legendgroup": "0.131",
         "marker": {
          "color": "rgb(204, 97, 176)",
          "pattern": {
           "shape": ""
          }
         },
         "name": "0.131",
         "offsetgroup": "0.131",
         "orientation": "v",
         "showlegend": true,
         "type": "histogram",
         "x": [
          0.131
         ],
         "xaxis": "x",
         "yaxis": "y"
        },
        {
         "alignmentgroup": "True",
         "bingroup": "x",
         "hovertemplate": "liveness=%{x}<br>count=%{y}<extra></extra>",
         "legendgroup": "0.0703",
         "marker": {
          "color": "rgb(36, 121, 108)",
          "pattern": {
           "shape": ""
          }
         },
         "name": "0.0703",
         "offsetgroup": "0.0703",
         "orientation": "v",
         "showlegend": true,
         "type": "histogram",
         "x": [
          0.0703
         ],
         "xaxis": "x",
         "yaxis": "y"
        },
        {
         "alignmentgroup": "True",
         "bingroup": "x",
         "hovertemplate": "liveness=%{x}<br>count=%{y}<extra></extra>",
         "legendgroup": "0.329",
         "marker": {
          "color": "rgb(218, 165, 27)",
          "pattern": {
           "shape": ""
          }
         },
         "name": "0.329",
         "offsetgroup": "0.329",
         "orientation": "v",
         "showlegend": true,
         "type": "histogram",
         "x": [
          0.329,
          0.329
         ],
         "xaxis": "x",
         "yaxis": "y"
        },
        {
         "alignmentgroup": "True",
         "bingroup": "x",
         "hovertemplate": "liveness=%{x}<br>count=%{y}<extra></extra>",
         "legendgroup": "0.111",
         "marker": {
          "color": "rgb(47, 138, 196)",
          "pattern": {
           "shape": ""
          }
         },
         "name": "0.111",
         "offsetgroup": "0.111",
         "orientation": "v",
         "showlegend": true,
         "type": "histogram",
         "x": [
          0.111
         ],
         "xaxis": "x",
         "yaxis": "y"
        },
        {
         "alignmentgroup": "True",
         "bingroup": "x",
         "hovertemplate": "liveness=%{x}<br>count=%{y}<extra></extra>",
         "legendgroup": "0.117",
         "marker": {
          "color": "rgb(118, 78, 159)",
          "pattern": {
           "shape": ""
          }
         },
         "name": "0.117",
         "offsetgroup": "0.117",
         "orientation": "v",
         "showlegend": true,
         "type": "histogram",
         "x": [
          0.117
         ],
         "xaxis": "x",
         "yaxis": "y"
        },
        {
         "alignmentgroup": "True",
         "bingroup": "x",
         "hovertemplate": "liveness=%{x}<br>count=%{y}<extra></extra>",
         "legendgroup": "0.081",
         "marker": {
          "color": "rgb(237, 100, 90)",
          "pattern": {
           "shape": ""
          }
         },
         "name": "0.081",
         "offsetgroup": "0.081",
         "orientation": "v",
         "showlegend": true,
         "type": "histogram",
         "x": [
          0.081
         ],
         "xaxis": "x",
         "yaxis": "y"
        },
        {
         "alignmentgroup": "True",
         "bingroup": "x",
         "hovertemplate": "liveness=%{x}<br>count=%{y}<extra></extra>",
         "legendgroup": "0.0828",
         "marker": {
          "color": "rgb(165, 170, 153)",
          "pattern": {
           "shape": ""
          }
         },
         "name": "0.0828",
         "offsetgroup": "0.0828",
         "orientation": "v",
         "showlegend": true,
         "type": "histogram",
         "x": [
          0.0828
         ],
         "xaxis": "x",
         "yaxis": "y"
        },
        {
         "alignmentgroup": "True",
         "bingroup": "x",
         "hovertemplate": "liveness=%{x}<br>count=%{y}<extra></extra>",
         "legendgroup": "0.102",
         "marker": {
          "color": "rgb(229, 134, 6)",
          "pattern": {
           "shape": ""
          }
         },
         "name": "0.102",
         "offsetgroup": "0.102",
         "orientation": "v",
         "showlegend": true,
         "type": "histogram",
         "x": [
          0.102,
          0.102
         ],
         "xaxis": "x",
         "yaxis": "y"
        },
        {
         "alignmentgroup": "True",
         "bingroup": "x",
         "hovertemplate": "liveness=%{x}<br>count=%{y}<extra></extra>",
         "legendgroup": "0.0921",
         "marker": {
          "color": "rgb(93, 105, 177)",
          "pattern": {
           "shape": ""
          }
         },
         "name": "0.0921",
         "offsetgroup": "0.0921",
         "orientation": "v",
         "showlegend": true,
         "type": "histogram",
         "x": [
          0.0921
         ],
         "xaxis": "x",
         "yaxis": "y"
        },
        {
         "alignmentgroup": "True",
         "bingroup": "x",
         "hovertemplate": "liveness=%{x}<br>count=%{y}<extra></extra>",
         "legendgroup": "0.0902",
         "marker": {
          "color": "rgb(82, 188, 163)",
          "pattern": {
           "shape": ""
          }
         },
         "name": "0.0902",
         "offsetgroup": "0.0902",
         "orientation": "v",
         "showlegend": true,
         "type": "histogram",
         "x": [
          0.0902
         ],
         "xaxis": "x",
         "yaxis": "y"
        },
        {
         "alignmentgroup": "True",
         "bingroup": "x",
         "hovertemplate": "liveness=%{x}<br>count=%{y}<extra></extra>",
         "legendgroup": "0.137",
         "marker": {
          "color": "rgb(153, 201, 69)",
          "pattern": {
           "shape": ""
          }
         },
         "name": "0.137",
         "offsetgroup": "0.137",
         "orientation": "v",
         "showlegend": true,
         "type": "histogram",
         "x": [
          0.137
         ],
         "xaxis": "x",
         "yaxis": "y"
        },
        {
         "alignmentgroup": "True",
         "bingroup": "x",
         "hovertemplate": "liveness=%{x}<br>count=%{y}<extra></extra>",
         "legendgroup": "0.1",
         "marker": {
          "color": "rgb(204, 97, 176)",
          "pattern": {
           "shape": ""
          }
         },
         "name": "0.1",
         "offsetgroup": "0.1",
         "orientation": "v",
         "showlegend": true,
         "type": "histogram",
         "x": [
          0.1
         ],
         "xaxis": "x",
         "yaxis": "y"
        },
        {
         "alignmentgroup": "True",
         "bingroup": "x",
         "hovertemplate": "liveness=%{x}<br>count=%{y}<extra></extra>",
         "legendgroup": "0.184",
         "marker": {
          "color": "rgb(36, 121, 108)",
          "pattern": {
           "shape": ""
          }
         },
         "name": "0.184",
         "offsetgroup": "0.184",
         "orientation": "v",
         "showlegend": true,
         "type": "histogram",
         "x": [
          0.184
         ],
         "xaxis": "x",
         "yaxis": "y"
        },
        {
         "alignmentgroup": "True",
         "bingroup": "x",
         "hovertemplate": "liveness=%{x}<br>count=%{y}<extra></extra>",
         "legendgroup": "0.34",
         "marker": {
          "color": "rgb(218, 165, 27)",
          "pattern": {
           "shape": ""
          }
         },
         "name": "0.34",
         "offsetgroup": "0.34",
         "orientation": "v",
         "showlegend": true,
         "type": "histogram",
         "x": [
          0.34
         ],
         "xaxis": "x",
         "yaxis": "y"
        },
        {
         "alignmentgroup": "True",
         "bingroup": "x",
         "hovertemplate": "liveness=%{x}<br>count=%{y}<extra></extra>",
         "legendgroup": "0.237",
         "marker": {
          "color": "rgb(47, 138, 196)",
          "pattern": {
           "shape": ""
          }
         },
         "name": "0.237",
         "offsetgroup": "0.237",
         "orientation": "v",
         "showlegend": true,
         "type": "histogram",
         "x": [
          0.237,
          0.237
         ],
         "xaxis": "x",
         "yaxis": "y"
        },
        {
         "alignmentgroup": "True",
         "bingroup": "x",
         "hovertemplate": "liveness=%{x}<br>count=%{y}<extra></extra>",
         "legendgroup": "0.095",
         "marker": {
          "color": "rgb(118, 78, 159)",
          "pattern": {
           "shape": ""
          }
         },
         "name": "0.095",
         "offsetgroup": "0.095",
         "orientation": "v",
         "showlegend": true,
         "type": "histogram",
         "x": [
          0.095
         ],
         "xaxis": "x",
         "yaxis": "y"
        },
        {
         "alignmentgroup": "True",
         "bingroup": "x",
         "hovertemplate": "liveness=%{x}<br>count=%{y}<extra></extra>",
         "legendgroup": "0.335",
         "marker": {
          "color": "rgb(237, 100, 90)",
          "pattern": {
           "shape": ""
          }
         },
         "name": "0.335",
         "offsetgroup": "0.335",
         "orientation": "v",
         "showlegend": true,
         "type": "histogram",
         "x": [
          0.335,
          0.335
         ],
         "xaxis": "x",
         "yaxis": "y"
        },
        {
         "alignmentgroup": "True",
         "bingroup": "x",
         "hovertemplate": "liveness=%{x}<br>count=%{y}<extra></extra>",
         "legendgroup": "0.552",
         "marker": {
          "color": "rgb(165, 170, 153)",
          "pattern": {
           "shape": ""
          }
         },
         "name": "0.552",
         "offsetgroup": "0.552",
         "orientation": "v",
         "showlegend": true,
         "type": "histogram",
         "x": [
          0.552
         ],
         "xaxis": "x",
         "yaxis": "y"
        },
        {
         "alignmentgroup": "True",
         "bingroup": "x",
         "hovertemplate": "liveness=%{x}<br>count=%{y}<extra></extra>",
         "legendgroup": "0.0986",
         "marker": {
          "color": "rgb(229, 134, 6)",
          "pattern": {
           "shape": ""
          }
         },
         "name": "0.0986",
         "offsetgroup": "0.0986",
         "orientation": "v",
         "showlegend": true,
         "type": "histogram",
         "x": [
          0.0986
         ],
         "xaxis": "x",
         "yaxis": "y"
        },
        {
         "alignmentgroup": "True",
         "bingroup": "x",
         "hovertemplate": "liveness=%{x}<br>count=%{y}<extra></extra>",
         "legendgroup": "0.243",
         "marker": {
          "color": "rgb(93, 105, 177)",
          "pattern": {
           "shape": ""
          }
         },
         "name": "0.243",
         "offsetgroup": "0.243",
         "orientation": "v",
         "showlegend": true,
         "type": "histogram",
         "x": [
          0.243
         ],
         "xaxis": "x",
         "yaxis": "y"
        },
        {
         "alignmentgroup": "True",
         "bingroup": "x",
         "hovertemplate": "liveness=%{x}<br>count=%{y}<extra></extra>",
         "legendgroup": "0.164",
         "marker": {
          "color": "rgb(82, 188, 163)",
          "pattern": {
           "shape": ""
          }
         },
         "name": "0.164",
         "offsetgroup": "0.164",
         "orientation": "v",
         "showlegend": true,
         "type": "histogram",
         "x": [
          0.164
         ],
         "xaxis": "x",
         "yaxis": "y"
        },
        {
         "alignmentgroup": "True",
         "bingroup": "x",
         "hovertemplate": "liveness=%{x}<br>count=%{y}<extra></extra>",
         "legendgroup": "0.101",
         "marker": {
          "color": "rgb(153, 201, 69)",
          "pattern": {
           "shape": ""
          }
         },
         "name": "0.101",
         "offsetgroup": "0.101",
         "orientation": "v",
         "showlegend": true,
         "type": "histogram",
         "x": [
          0.101,
          0.101,
          0.101
         ],
         "xaxis": "x",
         "yaxis": "y"
        },
        {
         "alignmentgroup": "True",
         "bingroup": "x",
         "hovertemplate": "liveness=%{x}<br>count=%{y}<extra></extra>",
         "legendgroup": "0.231",
         "marker": {
          "color": "rgb(204, 97, 176)",
          "pattern": {
           "shape": ""
          }
         },
         "name": "0.231",
         "offsetgroup": "0.231",
         "orientation": "v",
         "showlegend": true,
         "type": "histogram",
         "x": [
          0.231
         ],
         "xaxis": "x",
         "yaxis": "y"
        },
        {
         "alignmentgroup": "True",
         "bingroup": "x",
         "hovertemplate": "liveness=%{x}<br>count=%{y}<extra></extra>",
         "legendgroup": "0.311",
         "marker": {
          "color": "rgb(36, 121, 108)",
          "pattern": {
           "shape": ""
          }
         },
         "name": "0.311",
         "offsetgroup": "0.311",
         "orientation": "v",
         "showlegend": true,
         "type": "histogram",
         "x": [
          0.311
         ],
         "xaxis": "x",
         "yaxis": "y"
        },
        {
         "alignmentgroup": "True",
         "bingroup": "x",
         "hovertemplate": "liveness=%{x}<br>count=%{y}<extra></extra>",
         "legendgroup": "0.28",
         "marker": {
          "color": "rgb(218, 165, 27)",
          "pattern": {
           "shape": ""
          }
         },
         "name": "0.28",
         "offsetgroup": "0.28",
         "orientation": "v",
         "showlegend": true,
         "type": "histogram",
         "x": [
          0.28
         ],
         "xaxis": "x",
         "yaxis": "y"
        },
        {
         "alignmentgroup": "True",
         "bingroup": "x",
         "hovertemplate": "liveness=%{x}<br>count=%{y}<extra></extra>",
         "legendgroup": "0.0863",
         "marker": {
          "color": "rgb(47, 138, 196)",
          "pattern": {
           "shape": ""
          }
         },
         "name": "0.0863",
         "offsetgroup": "0.0863",
         "orientation": "v",
         "showlegend": true,
         "type": "histogram",
         "x": [
          0.0863
         ],
         "xaxis": "x",
         "yaxis": "y"
        },
        {
         "alignmentgroup": "True",
         "bingroup": "x",
         "hovertemplate": "liveness=%{x}<br>count=%{y}<extra></extra>",
         "legendgroup": "0.123",
         "marker": {
          "color": "rgb(118, 78, 159)",
          "pattern": {
           "shape": ""
          }
         },
         "name": "0.123",
         "offsetgroup": "0.123",
         "orientation": "v",
         "showlegend": true,
         "type": "histogram",
         "x": [
          0.123
         ],
         "xaxis": "x",
         "yaxis": "y"
        },
        {
         "alignmentgroup": "True",
         "bingroup": "x",
         "hovertemplate": "liveness=%{x}<br>count=%{y}<extra></extra>",
         "legendgroup": "0.116",
         "marker": {
          "color": "rgb(237, 100, 90)",
          "pattern": {
           "shape": ""
          }
         },
         "name": "0.116",
         "offsetgroup": "0.116",
         "orientation": "v",
         "showlegend": true,
         "type": "histogram",
         "x": [
          0.116,
          0.116
         ],
         "xaxis": "x",
         "yaxis": "y"
        },
        {
         "alignmentgroup": "True",
         "bingroup": "x",
         "hovertemplate": "liveness=%{x}<br>count=%{y}<extra></extra>",
         "legendgroup": "0.132",
         "marker": {
          "color": "rgb(165, 170, 153)",
          "pattern": {
           "shape": ""
          }
         },
         "name": "0.132",
         "offsetgroup": "0.132",
         "orientation": "v",
         "showlegend": true,
         "type": "histogram",
         "x": [
          0.132,
          0.132
         ],
         "xaxis": "x",
         "yaxis": "y"
        },
        {
         "alignmentgroup": "True",
         "bingroup": "x",
         "hovertemplate": "liveness=%{x}<br>count=%{y}<extra></extra>",
         "legendgroup": "0.217",
         "marker": {
          "color": "rgb(229, 134, 6)",
          "pattern": {
           "shape": ""
          }
         },
         "name": "0.217",
         "offsetgroup": "0.217",
         "orientation": "v",
         "showlegend": true,
         "type": "histogram",
         "x": [
          0.217,
          0.217
         ],
         "xaxis": "x",
         "yaxis": "y"
        },
        {
         "alignmentgroup": "True",
         "bingroup": "x",
         "hovertemplate": "liveness=%{x}<br>count=%{y}<extra></extra>",
         "legendgroup": "0.0881",
         "marker": {
          "color": "rgb(93, 105, 177)",
          "pattern": {
           "shape": ""
          }
         },
         "name": "0.0881",
         "offsetgroup": "0.0881",
         "orientation": "v",
         "showlegend": true,
         "type": "histogram",
         "x": [
          0.0881
         ],
         "xaxis": "x",
         "yaxis": "y"
        },
        {
         "alignmentgroup": "True",
         "bingroup": "x",
         "hovertemplate": "liveness=%{x}<br>count=%{y}<extra></extra>",
         "legendgroup": "0.297",
         "marker": {
          "color": "rgb(82, 188, 163)",
          "pattern": {
           "shape": ""
          }
         },
         "name": "0.297",
         "offsetgroup": "0.297",
         "orientation": "v",
         "showlegend": true,
         "type": "histogram",
         "x": [
          0.297
         ],
         "xaxis": "x",
         "yaxis": "y"
        },
        {
         "alignmentgroup": "True",
         "bingroup": "x",
         "hovertemplate": "liveness=%{x}<br>count=%{y}<extra></extra>",
         "legendgroup": "0.0602",
         "marker": {
          "color": "rgb(153, 201, 69)",
          "pattern": {
           "shape": ""
          }
         },
         "name": "0.0602",
         "offsetgroup": "0.0602",
         "orientation": "v",
         "showlegend": true,
         "type": "histogram",
         "x": [
          0.0602
         ],
         "xaxis": "x",
         "yaxis": "y"
        },
        {
         "alignmentgroup": "True",
         "bingroup": "x",
         "hovertemplate": "liveness=%{x}<br>count=%{y}<extra></extra>",
         "legendgroup": "0.109",
         "marker": {
          "color": "rgb(204, 97, 176)",
          "pattern": {
           "shape": ""
          }
         },
         "name": "0.109",
         "offsetgroup": "0.109",
         "orientation": "v",
         "showlegend": true,
         "type": "histogram",
         "x": [
          0.109,
          0.109
         ],
         "xaxis": "x",
         "yaxis": "y"
        },
        {
         "alignmentgroup": "True",
         "bingroup": "x",
         "hovertemplate": "liveness=%{x}<br>count=%{y}<extra></extra>",
         "legendgroup": "0.115",
         "marker": {
          "color": "rgb(36, 121, 108)",
          "pattern": {
           "shape": ""
          }
         },
         "name": "0.115",
         "offsetgroup": "0.115",
         "orientation": "v",
         "showlegend": true,
         "type": "histogram",
         "x": [
          0.115
         ],
         "xaxis": "x",
         "yaxis": "y"
        },
        {
         "alignmentgroup": "True",
         "bingroup": "x",
         "hovertemplate": "liveness=%{x}<br>count=%{y}<extra></extra>",
         "legendgroup": "0.153",
         "marker": {
          "color": "rgb(218, 165, 27)",
          "pattern": {
           "shape": ""
          }
         },
         "name": "0.153",
         "offsetgroup": "0.153",
         "orientation": "v",
         "showlegend": true,
         "type": "histogram",
         "x": [
          0.153
         ],
         "xaxis": "x",
         "yaxis": "y"
        },
        {
         "alignmentgroup": "True",
         "bingroup": "x",
         "hovertemplate": "liveness=%{x}<br>count=%{y}<extra></extra>",
         "legendgroup": "0.161",
         "marker": {
          "color": "rgb(47, 138, 196)",
          "pattern": {
           "shape": ""
          }
         },
         "name": "0.161",
         "offsetgroup": "0.161",
         "orientation": "v",
         "showlegend": true,
         "type": "histogram",
         "x": [
          0.161
         ],
         "xaxis": "x",
         "yaxis": "y"
        },
        {
         "alignmentgroup": "True",
         "bingroup": "x",
         "hovertemplate": "liveness=%{x}<br>count=%{y}<extra></extra>",
         "legendgroup": "0.151",
         "marker": {
          "color": "rgb(118, 78, 159)",
          "pattern": {
           "shape": ""
          }
         },
         "name": "0.151",
         "offsetgroup": "0.151",
         "orientation": "v",
         "showlegend": true,
         "type": "histogram",
         "x": [
          0.151
         ],
         "xaxis": "x",
         "yaxis": "y"
        },
        {
         "alignmentgroup": "True",
         "bingroup": "x",
         "hovertemplate": "liveness=%{x}<br>count=%{y}<extra></extra>",
         "legendgroup": "0.121",
         "marker": {
          "color": "rgb(237, 100, 90)",
          "pattern": {
           "shape": ""
          }
         },
         "name": "0.121",
         "offsetgroup": "0.121",
         "orientation": "v",
         "showlegend": true,
         "type": "histogram",
         "x": [
          0.121
         ],
         "xaxis": "x",
         "yaxis": "y"
        },
        {
         "alignmentgroup": "True",
         "bingroup": "x",
         "hovertemplate": "liveness=%{x}<br>count=%{y}<extra></extra>",
         "legendgroup": "0.0958",
         "marker": {
          "color": "rgb(165, 170, 153)",
          "pattern": {
           "shape": ""
          }
         },
         "name": "0.0958",
         "offsetgroup": "0.0958",
         "orientation": "v",
         "showlegend": true,
         "type": "histogram",
         "x": [
          0.0958
         ],
         "xaxis": "x",
         "yaxis": "y"
        },
        {
         "alignmentgroup": "True",
         "bingroup": "x",
         "hovertemplate": "liveness=%{x}<br>count=%{y}<extra></extra>",
         "legendgroup": "0.0963",
         "marker": {
          "color": "rgb(229, 134, 6)",
          "pattern": {
           "shape": ""
          }
         },
         "name": "0.0963",
         "offsetgroup": "0.0963",
         "orientation": "v",
         "showlegend": true,
         "type": "histogram",
         "x": [
          0.0963
         ],
         "xaxis": "x",
         "yaxis": "y"
        },
        {
         "alignmentgroup": "True",
         "bingroup": "x",
         "hovertemplate": "liveness=%{x}<br>count=%{y}<extra></extra>",
         "legendgroup": "0.135",
         "marker": {
          "color": "rgb(93, 105, 177)",
          "pattern": {
           "shape": ""
          }
         },
         "name": "0.135",
         "offsetgroup": "0.135",
         "orientation": "v",
         "showlegend": true,
         "type": "histogram",
         "x": [
          0.135,
          0.135,
          0.135
         ],
         "xaxis": "x",
         "yaxis": "y"
        },
        {
         "alignmentgroup": "True",
         "bingroup": "x",
         "hovertemplate": "liveness=%{x}<br>count=%{y}<extra></extra>",
         "legendgroup": "0.124",
         "marker": {
          "color": "rgb(82, 188, 163)",
          "pattern": {
           "shape": ""
          }
         },
         "name": "0.124",
         "offsetgroup": "0.124",
         "orientation": "v",
         "showlegend": true,
         "type": "histogram",
         "x": [
          0.124
         ],
         "xaxis": "x",
         "yaxis": "y"
        },
        {
         "alignmentgroup": "True",
         "bingroup": "x",
         "hovertemplate": "liveness=%{x}<br>count=%{y}<extra></extra>",
         "legendgroup": "0.253",
         "marker": {
          "color": "rgb(153, 201, 69)",
          "pattern": {
           "shape": ""
          }
         },
         "name": "0.253",
         "offsetgroup": "0.253",
         "orientation": "v",
         "showlegend": true,
         "type": "histogram",
         "x": [
          0.253,
          0.253
         ],
         "xaxis": "x",
         "yaxis": "y"
        },
        {
         "alignmentgroup": "True",
         "bingroup": "x",
         "hovertemplate": "liveness=%{x}<br>count=%{y}<extra></extra>",
         "legendgroup": "0.0849",
         "marker": {
          "color": "rgb(204, 97, 176)",
          "pattern": {
           "shape": ""
          }
         },
         "name": "0.0849",
         "offsetgroup": "0.0849",
         "orientation": "v",
         "showlegend": true,
         "type": "histogram",
         "x": [
          0.0849
         ],
         "xaxis": "x",
         "yaxis": "y"
        },
        {
         "alignmentgroup": "True",
         "bingroup": "x",
         "hovertemplate": "liveness=%{x}<br>count=%{y}<extra></extra>",
         "legendgroup": "0.203",
         "marker": {
          "color": "rgb(36, 121, 108)",
          "pattern": {
           "shape": ""
          }
         },
         "name": "0.203",
         "offsetgroup": "0.203",
         "orientation": "v",
         "showlegend": true,
         "type": "histogram",
         "x": [
          0.203
         ],
         "xaxis": "x",
         "yaxis": "y"
        },
        {
         "alignmentgroup": "True",
         "bingroup": "x",
         "hovertemplate": "liveness=%{x}<br>count=%{y}<extra></extra>",
         "legendgroup": "0.0814",
         "marker": {
          "color": "rgb(218, 165, 27)",
          "pattern": {
           "shape": ""
          }
         },
         "name": "0.0814",
         "offsetgroup": "0.0814",
         "orientation": "v",
         "showlegend": true,
         "type": "histogram",
         "x": [
          0.0814
         ],
         "xaxis": "x",
         "yaxis": "y"
        },
        {
         "alignmentgroup": "True",
         "bingroup": "x",
         "hovertemplate": "liveness=%{x}<br>count=%{y}<extra></extra>",
         "legendgroup": "0.106",
         "marker": {
          "color": "rgb(47, 138, 196)",
          "pattern": {
           "shape": ""
          }
         },
         "name": "0.106",
         "offsetgroup": "0.106",
         "orientation": "v",
         "showlegend": true,
         "type": "histogram",
         "x": [
          0.106,
          0.106
         ],
         "xaxis": "x",
         "yaxis": "y"
        },
        {
         "alignmentgroup": "True",
         "bingroup": "x",
         "hovertemplate": "liveness=%{x}<br>count=%{y}<extra></extra>",
         "legendgroup": "0.565",
         "marker": {
          "color": "rgb(118, 78, 159)",
          "pattern": {
           "shape": ""
          }
         },
         "name": "0.565",
         "offsetgroup": "0.565",
         "orientation": "v",
         "showlegend": true,
         "type": "histogram",
         "x": [
          0.565
         ],
         "xaxis": "x",
         "yaxis": "y"
        },
        {
         "alignmentgroup": "True",
         "bingroup": "x",
         "hovertemplate": "liveness=%{x}<br>count=%{y}<extra></extra>",
         "legendgroup": "0.107",
         "marker": {
          "color": "rgb(237, 100, 90)",
          "pattern": {
           "shape": ""
          }
         },
         "name": "0.107",
         "offsetgroup": "0.107",
         "orientation": "v",
         "showlegend": true,
         "type": "histogram",
         "x": [
          0.107
         ],
         "xaxis": "x",
         "yaxis": "y"
        },
        {
         "alignmentgroup": "True",
         "bingroup": "x",
         "hovertemplate": "liveness=%{x}<br>count=%{y}<extra></extra>",
         "legendgroup": "0.359",
         "marker": {
          "color": "rgb(165, 170, 153)",
          "pattern": {
           "shape": ""
          }
         },
         "name": "0.359",
         "offsetgroup": "0.359",
         "orientation": "v",
         "showlegend": true,
         "type": "histogram",
         "x": [
          0.359,
          0.359
         ],
         "xaxis": "x",
         "yaxis": "y"
        },
        {
         "alignmentgroup": "True",
         "bingroup": "x",
         "hovertemplate": "liveness=%{x}<br>count=%{y}<extra></extra>",
         "legendgroup": "0.11",
         "marker": {
          "color": "rgb(229, 134, 6)",
          "pattern": {
           "shape": ""
          }
         },
         "name": "0.11",
         "offsetgroup": "0.11",
         "orientation": "v",
         "showlegend": true,
         "type": "histogram",
         "x": [
          0.11,
          0.11
         ],
         "xaxis": "x",
         "yaxis": "y"
        },
        {
         "alignmentgroup": "True",
         "bingroup": "x",
         "hovertemplate": "liveness=%{x}<br>count=%{y}<extra></extra>",
         "legendgroup": "0.0501",
         "marker": {
          "color": "rgb(93, 105, 177)",
          "pattern": {
           "shape": ""
          }
         },
         "name": "0.0501",
         "offsetgroup": "0.0501",
         "orientation": "v",
         "showlegend": true,
         "type": "histogram",
         "x": [
          0.0501
         ],
         "xaxis": "x",
         "yaxis": "y"
        },
        {
         "alignmentgroup": "True",
         "bingroup": "x",
         "hovertemplate": "liveness=%{x}<br>count=%{y}<extra></extra>",
         "legendgroup": "0.348",
         "marker": {
          "color": "rgb(82, 188, 163)",
          "pattern": {
           "shape": ""
          }
         },
         "name": "0.348",
         "offsetgroup": "0.348",
         "orientation": "v",
         "showlegend": true,
         "type": "histogram",
         "x": [
          0.348
         ],
         "xaxis": "x",
         "yaxis": "y"
        },
        {
         "alignmentgroup": "True",
         "bingroup": "x",
         "hovertemplate": "liveness=%{x}<br>count=%{y}<extra></extra>",
         "legendgroup": "0.0995",
         "marker": {
          "color": "rgb(153, 201, 69)",
          "pattern": {
           "shape": ""
          }
         },
         "name": "0.0995",
         "offsetgroup": "0.0995",
         "orientation": "v",
         "showlegend": true,
         "type": "histogram",
         "x": [
          0.0995
         ],
         "xaxis": "x",
         "yaxis": "y"
        },
        {
         "alignmentgroup": "True",
         "bingroup": "x",
         "hovertemplate": "liveness=%{x}<br>count=%{y}<extra></extra>",
         "legendgroup": "0.0344",
         "marker": {
          "color": "rgb(204, 97, 176)",
          "pattern": {
           "shape": ""
          }
         },
         "name": "0.0344",
         "offsetgroup": "0.0344",
         "orientation": "v",
         "showlegend": true,
         "type": "histogram",
         "x": [
          0.0344
         ],
         "xaxis": "x",
         "yaxis": "y"
        },
        {
         "alignmentgroup": "True",
         "bingroup": "x",
         "hovertemplate": "liveness=%{x}<br>count=%{y}<extra></extra>",
         "legendgroup": "0.169",
         "marker": {
          "color": "rgb(36, 121, 108)",
          "pattern": {
           "shape": ""
          }
         },
         "name": "0.169",
         "offsetgroup": "0.169",
         "orientation": "v",
         "showlegend": true,
         "type": "histogram",
         "x": [
          0.169
         ],
         "xaxis": "x",
         "yaxis": "y"
        },
        {
         "alignmentgroup": "True",
         "bingroup": "x",
         "hovertemplate": "liveness=%{x}<br>count=%{y}<extra></extra>",
         "legendgroup": "0.0674",
         "marker": {
          "color": "rgb(218, 165, 27)",
          "pattern": {
           "shape": ""
          }
         },
         "name": "0.0674",
         "offsetgroup": "0.0674",
         "orientation": "v",
         "showlegend": true,
         "type": "histogram",
         "x": [
          0.0674
         ],
         "xaxis": "x",
         "yaxis": "y"
        },
        {
         "alignmentgroup": "True",
         "bingroup": "x",
         "hovertemplate": "liveness=%{x}<br>count=%{y}<extra></extra>",
         "legendgroup": "0.0843",
         "marker": {
          "color": "rgb(47, 138, 196)",
          "pattern": {
           "shape": ""
          }
         },
         "name": "0.0843",
         "offsetgroup": "0.0843",
         "orientation": "v",
         "showlegend": true,
         "type": "histogram",
         "x": [
          0.0843
         ],
         "xaxis": "x",
         "yaxis": "y"
        },
        {
         "alignmentgroup": "True",
         "bingroup": "x",
         "hovertemplate": "liveness=%{x}<br>count=%{y}<extra></extra>",
         "legendgroup": "0.094",
         "marker": {
          "color": "rgb(118, 78, 159)",
          "pattern": {
           "shape": ""
          }
         },
         "name": "0.094",
         "offsetgroup": "0.094",
         "orientation": "v",
         "showlegend": true,
         "type": "histogram",
         "x": [
          0.094
         ],
         "xaxis": "x",
         "yaxis": "y"
        },
        {
         "alignmentgroup": "True",
         "bingroup": "x",
         "hovertemplate": "liveness=%{x}<br>count=%{y}<extra></extra>",
         "legendgroup": "0.0894",
         "marker": {
          "color": "rgb(237, 100, 90)",
          "pattern": {
           "shape": ""
          }
         },
         "name": "0.0894",
         "offsetgroup": "0.0894",
         "orientation": "v",
         "showlegend": true,
         "type": "histogram",
         "x": [
          0.0894
         ],
         "xaxis": "x",
         "yaxis": "y"
        },
        {
         "alignmentgroup": "True",
         "bingroup": "x",
         "hovertemplate": "liveness=%{x}<br>count=%{y}<extra></extra>",
         "legendgroup": "0.113",
         "marker": {
          "color": "rgb(165, 170, 153)",
          "pattern": {
           "shape": ""
          }
         },
         "name": "0.113",
         "offsetgroup": "0.113",
         "orientation": "v",
         "showlegend": true,
         "type": "histogram",
         "x": [
          0.113
         ],
         "xaxis": "x",
         "yaxis": "y"
        },
        {
         "alignmentgroup": "True",
         "bingroup": "x",
         "hovertemplate": "liveness=%{x}<br>count=%{y}<extra></extra>",
         "legendgroup": "0.405",
         "marker": {
          "color": "rgb(229, 134, 6)",
          "pattern": {
           "shape": ""
          }
         },
         "name": "0.405",
         "offsetgroup": "0.405",
         "orientation": "v",
         "showlegend": true,
         "type": "histogram",
         "x": [
          0.405
         ],
         "xaxis": "x",
         "yaxis": "y"
        },
        {
         "alignmentgroup": "True",
         "bingroup": "x",
         "hovertemplate": "liveness=%{x}<br>count=%{y}<extra></extra>",
         "legendgroup": "0.23",
         "marker": {
          "color": "rgb(93, 105, 177)",
          "pattern": {
           "shape": ""
          }
         },
         "name": "0.23",
         "offsetgroup": "0.23",
         "orientation": "v",
         "showlegend": true,
         "type": "histogram",
         "x": [
          0.23
         ],
         "xaxis": "x",
         "yaxis": "y"
        },
        {
         "alignmentgroup": "True",
         "bingroup": "x",
         "hovertemplate": "liveness=%{x}<br>count=%{y}<extra></extra>",
         "legendgroup": "0.104",
         "marker": {
          "color": "rgb(82, 188, 163)",
          "pattern": {
           "shape": ""
          }
         },
         "name": "0.104",
         "offsetgroup": "0.104",
         "orientation": "v",
         "showlegend": true,
         "type": "histogram",
         "x": [
          0.104,
          0.104
         ],
         "xaxis": "x",
         "yaxis": "y"
        },
        {
         "alignmentgroup": "True",
         "bingroup": "x",
         "hovertemplate": "liveness=%{x}<br>count=%{y}<extra></extra>",
         "legendgroup": "0.036",
         "marker": {
          "color": "rgb(153, 201, 69)",
          "pattern": {
           "shape": ""
          }
         },
         "name": "0.036",
         "offsetgroup": "0.036",
         "orientation": "v",
         "showlegend": true,
         "type": "histogram",
         "x": [
          0.036
         ],
         "xaxis": "x",
         "yaxis": "y"
        },
        {
         "alignmentgroup": "True",
         "bingroup": "x",
         "hovertemplate": "liveness=%{x}<br>count=%{y}<extra></extra>",
         "legendgroup": "0.0967",
         "marker": {
          "color": "rgb(204, 97, 176)",
          "pattern": {
           "shape": ""
          }
         },
         "name": "0.0967",
         "offsetgroup": "0.0967",
         "orientation": "v",
         "showlegend": true,
         "type": "histogram",
         "x": [
          0.0967
         ],
         "xaxis": "x",
         "yaxis": "y"
        },
        {
         "alignmentgroup": "True",
         "bingroup": "x",
         "hovertemplate": "liveness=%{x}<br>count=%{y}<extra></extra>",
         "legendgroup": "0.187",
         "marker": {
          "color": "rgb(36, 121, 108)",
          "pattern": {
           "shape": ""
          }
         },
         "name": "0.187",
         "offsetgroup": "0.187",
         "orientation": "v",
         "showlegend": true,
         "type": "histogram",
         "x": [
          0.187
         ],
         "xaxis": "x",
         "yaxis": "y"
        },
        {
         "alignmentgroup": "True",
         "bingroup": "x",
         "hovertemplate": "liveness=%{x}<br>count=%{y}<extra></extra>",
         "legendgroup": "0.0534",
         "marker": {
          "color": "rgb(218, 165, 27)",
          "pattern": {
           "shape": ""
          }
         },
         "name": "0.0534",
         "offsetgroup": "0.0534",
         "orientation": "v",
         "showlegend": true,
         "type": "histogram",
         "x": [
          0.0534
         ],
         "xaxis": "x",
         "yaxis": "y"
        },
        {
         "alignmentgroup": "True",
         "bingroup": "x",
         "hovertemplate": "liveness=%{x}<br>count=%{y}<extra></extra>",
         "legendgroup": "0.0944",
         "marker": {
          "color": "rgb(47, 138, 196)",
          "pattern": {
           "shape": ""
          }
         },
         "name": "0.0944",
         "offsetgroup": "0.0944",
         "orientation": "v",
         "showlegend": true,
         "type": "histogram",
         "x": [
          0.0944
         ],
         "xaxis": "x",
         "yaxis": "y"
        },
        {
         "alignmentgroup": "True",
         "bingroup": "x",
         "hovertemplate": "liveness=%{x}<br>count=%{y}<extra></extra>",
         "legendgroup": "0.79",
         "marker": {
          "color": "rgb(118, 78, 159)",
          "pattern": {
           "shape": ""
          }
         },
         "name": "0.79",
         "offsetgroup": "0.79",
         "orientation": "v",
         "showlegend": true,
         "type": "histogram",
         "x": [
          0.79
         ],
         "xaxis": "x",
         "yaxis": "y"
        },
        {
         "alignmentgroup": "True",
         "bingroup": "x",
         "hovertemplate": "liveness=%{x}<br>count=%{y}<extra></extra>",
         "legendgroup": "0.0816",
         "marker": {
          "color": "rgb(237, 100, 90)",
          "pattern": {
           "shape": ""
          }
         },
         "name": "0.0816",
         "offsetgroup": "0.0816",
         "orientation": "v",
         "showlegend": true,
         "type": "histogram",
         "x": [
          0.0816
         ],
         "xaxis": "x",
         "yaxis": "y"
        },
        {
         "alignmentgroup": "True",
         "bingroup": "x",
         "hovertemplate": "liveness=%{x}<br>count=%{y}<extra></extra>",
         "legendgroup": "0.0779",
         "marker": {
          "color": "rgb(165, 170, 153)",
          "pattern": {
           "shape": ""
          }
         },
         "name": "0.0779",
         "offsetgroup": "0.0779",
         "orientation": "v",
         "showlegend": true,
         "type": "histogram",
         "x": [
          0.0779
         ],
         "xaxis": "x",
         "yaxis": "y"
        },
        {
         "alignmentgroup": "True",
         "bingroup": "x",
         "hovertemplate": "liveness=%{x}<br>count=%{y}<extra></extra>",
         "legendgroup": "0.0486",
         "marker": {
          "color": "rgb(229, 134, 6)",
          "pattern": {
           "shape": ""
          }
         },
         "name": "0.0486",
         "offsetgroup": "0.0486",
         "orientation": "v",
         "showlegend": true,
         "type": "histogram",
         "x": [
          0.0486
         ],
         "xaxis": "x",
         "yaxis": "y"
        },
        {
         "alignmentgroup": "True",
         "bingroup": "x",
         "hovertemplate": "liveness=%{x}<br>count=%{y}<extra></extra>",
         "legendgroup": "0.0907",
         "marker": {
          "color": "rgb(93, 105, 177)",
          "pattern": {
           "shape": ""
          }
         },
         "name": "0.0907",
         "offsetgroup": "0.0907",
         "orientation": "v",
         "showlegend": true,
         "type": "histogram",
         "x": [
          0.0907
         ],
         "xaxis": "x",
         "yaxis": "y"
        },
        {
         "alignmentgroup": "True",
         "bingroup": "x",
         "hovertemplate": "liveness=%{x}<br>count=%{y}<extra></extra>",
         "legendgroup": "0.391",
         "marker": {
          "color": "rgb(82, 188, 163)",
          "pattern": {
           "shape": ""
          }
         },
         "name": "0.391",
         "offsetgroup": "0.391",
         "orientation": "v",
         "showlegend": true,
         "type": "histogram",
         "x": [
          0.391
         ],
         "xaxis": "x",
         "yaxis": "y"
        },
        {
         "alignmentgroup": "True",
         "bingroup": "x",
         "hovertemplate": "liveness=%{x}<br>count=%{y}<extra></extra>",
         "legendgroup": "0.234",
         "marker": {
          "color": "rgb(153, 201, 69)",
          "pattern": {
           "shape": ""
          }
         },
         "name": "0.234",
         "offsetgroup": "0.234",
         "orientation": "v",
         "showlegend": true,
         "type": "histogram",
         "x": [
          0.234
         ],
         "xaxis": "x",
         "yaxis": "y"
        },
        {
         "alignmentgroup": "True",
         "bingroup": "x",
         "hovertemplate": "liveness=%{x}<br>count=%{y}<extra></extra>",
         "legendgroup": "0.067",
         "marker": {
          "color": "rgb(204, 97, 176)",
          "pattern": {
           "shape": ""
          }
         },
         "name": "0.067",
         "offsetgroup": "0.067",
         "orientation": "v",
         "showlegend": true,
         "type": "histogram",
         "x": [
          0.067
         ],
         "xaxis": "x",
         "yaxis": "y"
        }
       ],
       "layout": {
        "barmode": "relative",
        "height": 500,
        "legend": {
         "title": {
          "text": "liveness"
         },
         "tracegroupgap": 0
        },
        "template": {
         "data": {
          "bar": [
           {
            "error_x": {
             "color": "#f2f5fa"
            },
            "error_y": {
             "color": "#f2f5fa"
            },
            "marker": {
             "line": {
              "color": "rgb(17,17,17)",
              "width": 0.5
             },
             "pattern": {
              "fillmode": "overlay",
              "size": 10,
              "solidity": 0.2
             }
            },
            "type": "bar"
           }
          ],
          "barpolar": [
           {
            "marker": {
             "line": {
              "color": "rgb(17,17,17)",
              "width": 0.5
             },
             "pattern": {
              "fillmode": "overlay",
              "size": 10,
              "solidity": 0.2
             }
            },
            "type": "barpolar"
           }
          ],
          "carpet": [
           {
            "aaxis": {
             "endlinecolor": "#A2B1C6",
             "gridcolor": "#506784",
             "linecolor": "#506784",
             "minorgridcolor": "#506784",
             "startlinecolor": "#A2B1C6"
            },
            "baxis": {
             "endlinecolor": "#A2B1C6",
             "gridcolor": "#506784",
             "linecolor": "#506784",
             "minorgridcolor": "#506784",
             "startlinecolor": "#A2B1C6"
            },
            "type": "carpet"
           }
          ],
          "choropleth": [
           {
            "colorbar": {
             "outlinewidth": 0,
             "ticks": ""
            },
            "type": "choropleth"
           }
          ],
          "contour": [
           {
            "colorbar": {
             "outlinewidth": 0,
             "ticks": ""
            },
            "colorscale": [
             [
              0,
              "#0d0887"
             ],
             [
              0.1111111111111111,
              "#46039f"
             ],
             [
              0.2222222222222222,
              "#7201a8"
             ],
             [
              0.3333333333333333,
              "#9c179e"
             ],
             [
              0.4444444444444444,
              "#bd3786"
             ],
             [
              0.5555555555555556,
              "#d8576b"
             ],
             [
              0.6666666666666666,
              "#ed7953"
             ],
             [
              0.7777777777777778,
              "#fb9f3a"
             ],
             [
              0.8888888888888888,
              "#fdca26"
             ],
             [
              1,
              "#f0f921"
             ]
            ],
            "type": "contour"
           }
          ],
          "contourcarpet": [
           {
            "colorbar": {
             "outlinewidth": 0,
             "ticks": ""
            },
            "type": "contourcarpet"
           }
          ],
          "heatmap": [
           {
            "colorbar": {
             "outlinewidth": 0,
             "ticks": ""
            },
            "colorscale": [
             [
              0,
              "#0d0887"
             ],
             [
              0.1111111111111111,
              "#46039f"
             ],
             [
              0.2222222222222222,
              "#7201a8"
             ],
             [
              0.3333333333333333,
              "#9c179e"
             ],
             [
              0.4444444444444444,
              "#bd3786"
             ],
             [
              0.5555555555555556,
              "#d8576b"
             ],
             [
              0.6666666666666666,
              "#ed7953"
             ],
             [
              0.7777777777777778,
              "#fb9f3a"
             ],
             [
              0.8888888888888888,
              "#fdca26"
             ],
             [
              1,
              "#f0f921"
             ]
            ],
            "type": "heatmap"
           }
          ],
          "heatmapgl": [
           {
            "colorbar": {
             "outlinewidth": 0,
             "ticks": ""
            },
            "colorscale": [
             [
              0,
              "#0d0887"
             ],
             [
              0.1111111111111111,
              "#46039f"
             ],
             [
              0.2222222222222222,
              "#7201a8"
             ],
             [
              0.3333333333333333,
              "#9c179e"
             ],
             [
              0.4444444444444444,
              "#bd3786"
             ],
             [
              0.5555555555555556,
              "#d8576b"
             ],
             [
              0.6666666666666666,
              "#ed7953"
             ],
             [
              0.7777777777777778,
              "#fb9f3a"
             ],
             [
              0.8888888888888888,
              "#fdca26"
             ],
             [
              1,
              "#f0f921"
             ]
            ],
            "type": "heatmapgl"
           }
          ],
          "histogram": [
           {
            "marker": {
             "pattern": {
              "fillmode": "overlay",
              "size": 10,
              "solidity": 0.2
             }
            },
            "type": "histogram"
           }
          ],
          "histogram2d": [
           {
            "colorbar": {
             "outlinewidth": 0,
             "ticks": ""
            },
            "colorscale": [
             [
              0,
              "#0d0887"
             ],
             [
              0.1111111111111111,
              "#46039f"
             ],
             [
              0.2222222222222222,
              "#7201a8"
             ],
             [
              0.3333333333333333,
              "#9c179e"
             ],
             [
              0.4444444444444444,
              "#bd3786"
             ],
             [
              0.5555555555555556,
              "#d8576b"
             ],
             [
              0.6666666666666666,
              "#ed7953"
             ],
             [
              0.7777777777777778,
              "#fb9f3a"
             ],
             [
              0.8888888888888888,
              "#fdca26"
             ],
             [
              1,
              "#f0f921"
             ]
            ],
            "type": "histogram2d"
           }
          ],
          "histogram2dcontour": [
           {
            "colorbar": {
             "outlinewidth": 0,
             "ticks": ""
            },
            "colorscale": [
             [
              0,
              "#0d0887"
             ],
             [
              0.1111111111111111,
              "#46039f"
             ],
             [
              0.2222222222222222,
              "#7201a8"
             ],
             [
              0.3333333333333333,
              "#9c179e"
             ],
             [
              0.4444444444444444,
              "#bd3786"
             ],
             [
              0.5555555555555556,
              "#d8576b"
             ],
             [
              0.6666666666666666,
              "#ed7953"
             ],
             [
              0.7777777777777778,
              "#fb9f3a"
             ],
             [
              0.8888888888888888,
              "#fdca26"
             ],
             [
              1,
              "#f0f921"
             ]
            ],
            "type": "histogram2dcontour"
           }
          ],
          "mesh3d": [
           {
            "colorbar": {
             "outlinewidth": 0,
             "ticks": ""
            },
            "type": "mesh3d"
           }
          ],
          "parcoords": [
           {
            "line": {
             "colorbar": {
              "outlinewidth": 0,
              "ticks": ""
             }
            },
            "type": "parcoords"
           }
          ],
          "pie": [
           {
            "automargin": true,
            "type": "pie"
           }
          ],
          "scatter": [
           {
            "marker": {
             "line": {
              "color": "#283442"
             }
            },
            "type": "scatter"
           }
          ],
          "scatter3d": [
           {
            "line": {
             "colorbar": {
              "outlinewidth": 0,
              "ticks": ""
             }
            },
            "marker": {
             "colorbar": {
              "outlinewidth": 0,
              "ticks": ""
             }
            },
            "type": "scatter3d"
           }
          ],
          "scattercarpet": [
           {
            "marker": {
             "colorbar": {
              "outlinewidth": 0,
              "ticks": ""
             }
            },
            "type": "scattercarpet"
           }
          ],
          "scattergeo": [
           {
            "marker": {
             "colorbar": {
              "outlinewidth": 0,
              "ticks": ""
             }
            },
            "type": "scattergeo"
           }
          ],
          "scattergl": [
           {
            "marker": {
             "line": {
              "color": "#283442"
             }
            },
            "type": "scattergl"
           }
          ],
          "scattermapbox": [
           {
            "marker": {
             "colorbar": {
              "outlinewidth": 0,
              "ticks": ""
             }
            },
            "type": "scattermapbox"
           }
          ],
          "scatterpolar": [
           {
            "marker": {
             "colorbar": {
              "outlinewidth": 0,
              "ticks": ""
             }
            },
            "type": "scatterpolar"
           }
          ],
          "scatterpolargl": [
           {
            "marker": {
             "colorbar": {
              "outlinewidth": 0,
              "ticks": ""
             }
            },
            "type": "scatterpolargl"
           }
          ],
          "scatterternary": [
           {
            "marker": {
             "colorbar": {
              "outlinewidth": 0,
              "ticks": ""
             }
            },
            "type": "scatterternary"
           }
          ],
          "surface": [
           {
            "colorbar": {
             "outlinewidth": 0,
             "ticks": ""
            },
            "colorscale": [
             [
              0,
              "#0d0887"
             ],
             [
              0.1111111111111111,
              "#46039f"
             ],
             [
              0.2222222222222222,
              "#7201a8"
             ],
             [
              0.3333333333333333,
              "#9c179e"
             ],
             [
              0.4444444444444444,
              "#bd3786"
             ],
             [
              0.5555555555555556,
              "#d8576b"
             ],
             [
              0.6666666666666666,
              "#ed7953"
             ],
             [
              0.7777777777777778,
              "#fb9f3a"
             ],
             [
              0.8888888888888888,
              "#fdca26"
             ],
             [
              1,
              "#f0f921"
             ]
            ],
            "type": "surface"
           }
          ],
          "table": [
           {
            "cells": {
             "fill": {
              "color": "#506784"
             },
             "line": {
              "color": "rgb(17,17,17)"
             }
            },
            "header": {
             "fill": {
              "color": "#2a3f5f"
             },
             "line": {
              "color": "rgb(17,17,17)"
             }
            },
            "type": "table"
           }
          ]
         },
         "layout": {
          "annotationdefaults": {
           "arrowcolor": "#f2f5fa",
           "arrowhead": 0,
           "arrowwidth": 1
          },
          "autotypenumbers": "strict",
          "coloraxis": {
           "colorbar": {
            "outlinewidth": 0,
            "ticks": ""
           }
          },
          "colorscale": {
           "diverging": [
            [
             0,
             "#8e0152"
            ],
            [
             0.1,
             "#c51b7d"
            ],
            [
             0.2,
             "#de77ae"
            ],
            [
             0.3,
             "#f1b6da"
            ],
            [
             0.4,
             "#fde0ef"
            ],
            [
             0.5,
             "#f7f7f7"
            ],
            [
             0.6,
             "#e6f5d0"
            ],
            [
             0.7,
             "#b8e186"
            ],
            [
             0.8,
             "#7fbc41"
            ],
            [
             0.9,
             "#4d9221"
            ],
            [
             1,
             "#276419"
            ]
           ],
           "sequential": [
            [
             0,
             "#0d0887"
            ],
            [
             0.1111111111111111,
             "#46039f"
            ],
            [
             0.2222222222222222,
             "#7201a8"
            ],
            [
             0.3333333333333333,
             "#9c179e"
            ],
            [
             0.4444444444444444,
             "#bd3786"
            ],
            [
             0.5555555555555556,
             "#d8576b"
            ],
            [
             0.6666666666666666,
             "#ed7953"
            ],
            [
             0.7777777777777778,
             "#fb9f3a"
            ],
            [
             0.8888888888888888,
             "#fdca26"
            ],
            [
             1,
             "#f0f921"
            ]
           ],
           "sequentialminus": [
            [
             0,
             "#0d0887"
            ],
            [
             0.1111111111111111,
             "#46039f"
            ],
            [
             0.2222222222222222,
             "#7201a8"
            ],
            [
             0.3333333333333333,
             "#9c179e"
            ],
            [
             0.4444444444444444,
             "#bd3786"
            ],
            [
             0.5555555555555556,
             "#d8576b"
            ],
            [
             0.6666666666666666,
             "#ed7953"
            ],
            [
             0.7777777777777778,
             "#fb9f3a"
            ],
            [
             0.8888888888888888,
             "#fdca26"
            ],
            [
             1,
             "#f0f921"
            ]
           ]
          },
          "colorway": [
           "#636efa",
           "#EF553B",
           "#00cc96",
           "#ab63fa",
           "#FFA15A",
           "#19d3f3",
           "#FF6692",
           "#B6E880",
           "#FF97FF",
           "#FECB52"
          ],
          "font": {
           "color": "#f2f5fa"
          },
          "geo": {
           "bgcolor": "rgb(17,17,17)",
           "lakecolor": "rgb(17,17,17)",
           "landcolor": "rgb(17,17,17)",
           "showlakes": true,
           "showland": true,
           "subunitcolor": "#506784"
          },
          "hoverlabel": {
           "align": "left"
          },
          "hovermode": "closest",
          "mapbox": {
           "style": "dark"
          },
          "paper_bgcolor": "rgb(17,17,17)",
          "plot_bgcolor": "rgb(17,17,17)",
          "polar": {
           "angularaxis": {
            "gridcolor": "#506784",
            "linecolor": "#506784",
            "ticks": ""
           },
           "bgcolor": "rgb(17,17,17)",
           "radialaxis": {
            "gridcolor": "#506784",
            "linecolor": "#506784",
            "ticks": ""
           }
          },
          "scene": {
           "xaxis": {
            "backgroundcolor": "rgb(17,17,17)",
            "gridcolor": "#506784",
            "gridwidth": 2,
            "linecolor": "#506784",
            "showbackground": true,
            "ticks": "",
            "zerolinecolor": "#C8D4E3"
           },
           "yaxis": {
            "backgroundcolor": "rgb(17,17,17)",
            "gridcolor": "#506784",
            "gridwidth": 2,
            "linecolor": "#506784",
            "showbackground": true,
            "ticks": "",
            "zerolinecolor": "#C8D4E3"
           },
           "zaxis": {
            "backgroundcolor": "rgb(17,17,17)",
            "gridcolor": "#506784",
            "gridwidth": 2,
            "linecolor": "#506784",
            "showbackground": true,
            "ticks": "",
            "zerolinecolor": "#C8D4E3"
           }
          },
          "shapedefaults": {
           "line": {
            "color": "#f2f5fa"
           }
          },
          "sliderdefaults": {
           "bgcolor": "#C8D4E3",
           "bordercolor": "rgb(17,17,17)",
           "borderwidth": 1,
           "tickwidth": 0
          },
          "ternary": {
           "aaxis": {
            "gridcolor": "#506784",
            "linecolor": "#506784",
            "ticks": ""
           },
           "baxis": {
            "gridcolor": "#506784",
            "linecolor": "#506784",
            "ticks": ""
           },
           "bgcolor": "rgb(17,17,17)",
           "caxis": {
            "gridcolor": "#506784",
            "linecolor": "#506784",
            "ticks": ""
           }
          },
          "title": {
           "x": 0.05
          },
          "updatemenudefaults": {
           "bgcolor": "#506784",
           "borderwidth": 0
          },
          "xaxis": {
           "automargin": true,
           "gridcolor": "#283442",
           "linecolor": "#506784",
           "ticks": "",
           "title": {
            "standoff": 15
           },
           "zerolinecolor": "#283442",
           "zerolinewidth": 2
          },
          "yaxis": {
           "automargin": true,
           "gridcolor": "#283442",
           "linecolor": "#506784",
           "ticks": "",
           "title": {
            "standoff": 15
           },
           "zerolinecolor": "#283442",
           "zerolinewidth": 2
          }
         }
        },
        "title": {
         "font": {
          "size": 20
         },
         "text": "<b>Count vs Liveness"
        },
        "width": 800,
        "xaxis": {
         "anchor": "y",
         "categoryarray": [
          0.0897,
          0.0931,
          0.149,
          0.105,
          0.131,
          0.0703,
          0.329,
          0.111,
          0.117,
          0.081,
          0.0828,
          0.102,
          0.0921,
          0.0902,
          0.137,
          0.1,
          0.184,
          0.34,
          0.237,
          0.095,
          0.335,
          0.552,
          0.0986,
          0.243,
          0.164,
          0.101,
          0.231,
          0.311,
          0.28,
          0.0863,
          0.123,
          0.116,
          0.132,
          0.217,
          0.0881,
          0.297,
          0.0602,
          0.109,
          0.115,
          0.153,
          0.161,
          0.151,
          0.121,
          0.0958,
          0.0963,
          0.135,
          0.124,
          0.253,
          0.0849,
          0.203,
          0.0814,
          0.106,
          0.565,
          0.107,
          0.359,
          0.11,
          0.0501,
          0.348,
          0.0995,
          0.0344,
          0.169,
          0.0674,
          0.0843,
          0.094,
          0.0894,
          0.113,
          0.405,
          0.23,
          0.104,
          0.036,
          0.0967,
          0.187,
          0.0534,
          0.0944,
          0.79,
          0.0816,
          0.0779,
          0.0486,
          0.0907,
          0.391,
          0.234,
          0.067
         ],
         "categoryorder": "array",
         "domain": [
          0,
          1
         ],
         "title": {
          "text": "liveness"
         }
        },
        "yaxis": {
         "anchor": "x",
         "domain": [
          0,
          1
         ],
         "title": {
          "text": "count"
         }
        }
       }
      }
     },
     "metadata": {},
     "output_type": "display_data"
    }
   ],
   "source": [
    "Features_copy = Features.copy()\n",
    "Features_copy['liveness'] = \\\n",
    "    Features_copy['liveness'].fillna('Null')\n",
    "\n",
    "fig=px.histogram(Features_copy,\n",
    "                 x = 'liveness',\n",
    "                 color = 'liveness',\n",
    "                 title=\"<b>Count vs Liveness\",\n",
    "                 color_discrete_sequence=px.colors.qualitative.Vivid,\n",
    "                 width=800, height=500)\n",
    "fig.update_layout(template=\"plotly_dark\")\n",
    "fig.update_layout(title_font_size=20)\n",
    "fig.show()"
   ]
  },
  {
   "cell_type": "code",
   "execution_count": 13,
   "metadata": {},
   "outputs": [
    {
     "data": {
      "application/vnd.plotly.v1+json": {
       "config": {
        "plotlyServerURL": "https://plot.ly"
       },
       "data": [
        {
         "alignmentgroup": "True",
         "bingroup": "x",
         "hovertemplate": "valence=%{x}<br>count=%{y}<extra></extra>",
         "legendgroup": "0.334",
         "marker": {
          "color": "rgb(229, 134, 6)",
          "pattern": {
           "shape": ""
          }
         },
         "name": "0.334",
         "offsetgroup": "0.334",
         "orientation": "v",
         "showlegend": true,
         "type": "histogram",
         "x": [
          0.334
         ],
         "xaxis": "x",
         "yaxis": "y"
        },
        {
         "alignmentgroup": "True",
         "bingroup": "x",
         "hovertemplate": "valence=%{x}<br>count=%{y}<extra></extra>",
         "legendgroup": "0.931",
         "marker": {
          "color": "rgb(93, 105, 177)",
          "pattern": {
           "shape": ""
          }
         },
         "name": "0.931",
         "offsetgroup": "0.931",
         "orientation": "v",
         "showlegend": true,
         "type": "histogram",
         "x": [
          0.931
         ],
         "xaxis": "x",
         "yaxis": "y"
        },
        {
         "alignmentgroup": "True",
         "bingroup": "x",
         "hovertemplate": "valence=%{x}<br>count=%{y}<extra></extra>",
         "legendgroup": "0.513",
         "marker": {
          "color": "rgb(82, 188, 163)",
          "pattern": {
           "shape": ""
          }
         },
         "name": "0.513",
         "offsetgroup": "0.513",
         "orientation": "v",
         "showlegend": true,
         "type": "histogram",
         "x": [
          0.513
         ],
         "xaxis": "x",
         "yaxis": "y"
        },
        {
         "alignmentgroup": "True",
         "bingroup": "x",
         "hovertemplate": "valence=%{x}<br>count=%{y}<extra></extra>",
         "legendgroup": "0.446",
         "marker": {
          "color": "rgb(153, 201, 69)",
          "pattern": {
           "shape": ""
          }
         },
         "name": "0.446",
         "offsetgroup": "0.446",
         "orientation": "v",
         "showlegend": true,
         "type": "histogram",
         "x": [
          0.446,
          0.446,
          0.446
         ],
         "xaxis": "x",
         "yaxis": "y"
        },
        {
         "alignmentgroup": "True",
         "bingroup": "x",
         "hovertemplate": "valence=%{x}<br>count=%{y}<extra></extra>",
         "legendgroup": "0.129",
         "marker": {
          "color": "rgb(204, 97, 176)",
          "pattern": {
           "shape": ""
          }
         },
         "name": "0.129",
         "offsetgroup": "0.129",
         "orientation": "v",
         "showlegend": true,
         "type": "histogram",
         "x": [
          0.129
         ],
         "xaxis": "x",
         "yaxis": "y"
        },
        {
         "alignmentgroup": "True",
         "bingroup": "x",
         "hovertemplate": "valence=%{x}<br>count=%{y}<extra></extra>",
         "legendgroup": "0.913",
         "marker": {
          "color": "rgb(36, 121, 108)",
          "pattern": {
           "shape": ""
          }
         },
         "name": "0.913",
         "offsetgroup": "0.913",
         "orientation": "v",
         "showlegend": true,
         "type": "histogram",
         "x": [
          0.913
         ],
         "xaxis": "x",
         "yaxis": "y"
        },
        {
         "alignmentgroup": "True",
         "bingroup": "x",
         "hovertemplate": "valence=%{x}<br>count=%{y}<extra></extra>",
         "legendgroup": "0.37",
         "marker": {
          "color": "rgb(218, 165, 27)",
          "pattern": {
           "shape": ""
          }
         },
         "name": "0.37",
         "offsetgroup": "0.37",
         "orientation": "v",
         "showlegend": true,
         "type": "histogram",
         "x": [
          0.37
         ],
         "xaxis": "x",
         "yaxis": "y"
        },
        {
         "alignmentgroup": "True",
         "bingroup": "x",
         "hovertemplate": "valence=%{x}<br>count=%{y}<extra></extra>",
         "legendgroup": "0.661",
         "marker": {
          "color": "rgb(47, 138, 196)",
          "pattern": {
           "shape": ""
          }
         },
         "name": "0.661",
         "offsetgroup": "0.661",
         "orientation": "v",
         "showlegend": true,
         "type": "histogram",
         "x": [
          0.661
         ],
         "xaxis": "x",
         "yaxis": "y"
        },
        {
         "alignmentgroup": "True",
         "bingroup": "x",
         "hovertemplate": "valence=%{x}<br>count=%{y}<extra></extra>",
         "legendgroup": "0.125",
         "marker": {
          "color": "rgb(118, 78, 159)",
          "pattern": {
           "shape": ""
          }
         },
         "name": "0.125",
         "offsetgroup": "0.125",
         "orientation": "v",
         "showlegend": true,
         "type": "histogram",
         "x": [
          0.125
         ],
         "xaxis": "x",
         "yaxis": "y"
        },
        {
         "alignmentgroup": "True",
         "bingroup": "x",
         "hovertemplate": "valence=%{x}<br>count=%{y}<extra></extra>",
         "legendgroup": "0.666",
         "marker": {
          "color": "rgb(237, 100, 90)",
          "pattern": {
           "shape": ""
          }
         },
         "name": "0.666",
         "offsetgroup": "0.666",
         "orientation": "v",
         "showlegend": true,
         "type": "histogram",
         "x": [
          0.666
         ],
         "xaxis": "x",
         "yaxis": "y"
        },
        {
         "alignmentgroup": "True",
         "bingroup": "x",
         "hovertemplate": "valence=%{x}<br>count=%{y}<extra></extra>",
         "legendgroup": "0.749",
         "marker": {
          "color": "rgb(165, 170, 153)",
          "pattern": {
           "shape": ""
          }
         },
         "name": "0.749",
         "offsetgroup": "0.749",
         "orientation": "v",
         "showlegend": true,
         "type": "histogram",
         "x": [
          0.749
         ],
         "xaxis": "x",
         "yaxis": "y"
        },
        {
         "alignmentgroup": "True",
         "bingroup": "x",
         "hovertemplate": "valence=%{x}<br>count=%{y}<extra></extra>",
         "legendgroup": "0.6",
         "marker": {
          "color": "rgb(229, 134, 6)",
          "pattern": {
           "shape": ""
          }
         },
         "name": "0.6",
         "offsetgroup": "0.6",
         "orientation": "v",
         "showlegend": true,
         "type": "histogram",
         "x": [
          0.6
         ],
         "xaxis": "x",
         "yaxis": "y"
        },
        {
         "alignmentgroup": "True",
         "bingroup": "x",
         "hovertemplate": "valence=%{x}<br>count=%{y}<extra></extra>",
         "legendgroup": "0.531",
         "marker": {
          "color": "rgb(93, 105, 177)",
          "pattern": {
           "shape": ""
          }
         },
         "name": "0.531",
         "offsetgroup": "0.531",
         "orientation": "v",
         "showlegend": true,
         "type": "histogram",
         "x": [
          0.531
         ],
         "xaxis": "x",
         "yaxis": "y"
        },
        {
         "alignmentgroup": "True",
         "bingroup": "x",
         "hovertemplate": "valence=%{x}<br>count=%{y}<extra></extra>",
         "legendgroup": "0.494",
         "marker": {
          "color": "rgb(82, 188, 163)",
          "pattern": {
           "shape": ""
          }
         },
         "name": "0.494",
         "offsetgroup": "0.494",
         "orientation": "v",
         "showlegend": true,
         "type": "histogram",
         "x": [
          0.494,
          0.494
         ],
         "xaxis": "x",
         "yaxis": "y"
        },
        {
         "alignmentgroup": "True",
         "bingroup": "x",
         "hovertemplate": "valence=%{x}<br>count=%{y}<extra></extra>",
         "legendgroup": "0.486",
         "marker": {
          "color": "rgb(153, 201, 69)",
          "pattern": {
           "shape": ""
          }
         },
         "name": "0.486",
         "offsetgroup": "0.486",
         "orientation": "v",
         "showlegend": true,
         "type": "histogram",
         "x": [
          0.486
         ],
         "xaxis": "x",
         "yaxis": "y"
        },
        {
         "alignmentgroup": "True",
         "bingroup": "x",
         "hovertemplate": "valence=%{x}<br>count=%{y}<extra></extra>",
         "legendgroup": "0.562",
         "marker": {
          "color": "rgb(204, 97, 176)",
          "pattern": {
           "shape": ""
          }
         },
         "name": "0.562",
         "offsetgroup": "0.562",
         "orientation": "v",
         "showlegend": true,
         "type": "histogram",
         "x": [
          0.562
         ],
         "xaxis": "x",
         "yaxis": "y"
        },
        {
         "alignmentgroup": "True",
         "bingroup": "x",
         "hovertemplate": "valence=%{x}<br>count=%{y}<extra></extra>",
         "legendgroup": "0.591",
         "marker": {
          "color": "rgb(36, 121, 108)",
          "pattern": {
           "shape": ""
          }
         },
         "name": "0.591",
         "offsetgroup": "0.591",
         "orientation": "v",
         "showlegend": true,
         "type": "histogram",
         "x": [
          0.591
         ],
         "xaxis": "x",
         "yaxis": "y"
        },
        {
         "alignmentgroup": "True",
         "bingroup": "x",
         "hovertemplate": "valence=%{x}<br>count=%{y}<extra></extra>",
         "legendgroup": "0.218",
         "marker": {
          "color": "rgb(218, 165, 27)",
          "pattern": {
           "shape": ""
          }
         },
         "name": "0.218",
         "offsetgroup": "0.218",
         "orientation": "v",
         "showlegend": true,
         "type": "histogram",
         "x": [
          0.218
         ],
         "xaxis": "x",
         "yaxis": "y"
        },
        {
         "alignmentgroup": "True",
         "bingroup": "x",
         "hovertemplate": "valence=%{x}<br>count=%{y}<extra></extra>",
         "legendgroup": "0.707",
         "marker": {
          "color": "rgb(47, 138, 196)",
          "pattern": {
           "shape": ""
          }
         },
         "name": "0.707",
         "offsetgroup": "0.707",
         "orientation": "v",
         "showlegend": true,
         "type": "histogram",
         "x": [
          0.707
         ],
         "xaxis": "x",
         "yaxis": "y"
        },
        {
         "alignmentgroup": "True",
         "bingroup": "x",
         "hovertemplate": "valence=%{x}<br>count=%{y}<extra></extra>",
         "legendgroup": "0.12",
         "marker": {
          "color": "rgb(118, 78, 159)",
          "pattern": {
           "shape": ""
          }
         },
         "name": "0.12",
         "offsetgroup": "0.12",
         "orientation": "v",
         "showlegend": true,
         "type": "histogram",
         "x": [
          0.12
         ],
         "xaxis": "x",
         "yaxis": "y"
        },
        {
         "alignmentgroup": "True",
         "bingroup": "x",
         "hovertemplate": "valence=%{x}<br>count=%{y}<extra></extra>",
         "legendgroup": "0.557",
         "marker": {
          "color": "rgb(237, 100, 90)",
          "pattern": {
           "shape": ""
          }
         },
         "name": "0.557",
         "offsetgroup": "0.557",
         "orientation": "v",
         "showlegend": true,
         "type": "histogram",
         "x": [
          0.557,
          0.557
         ],
         "xaxis": "x",
         "yaxis": "y"
        },
        {
         "alignmentgroup": "True",
         "bingroup": "x",
         "hovertemplate": "valence=%{x}<br>count=%{y}<extra></extra>",
         "legendgroup": "0.357",
         "marker": {
          "color": "rgb(165, 170, 153)",
          "pattern": {
           "shape": ""
          }
         },
         "name": "0.357",
         "offsetgroup": "0.357",
         "orientation": "v",
         "showlegend": true,
         "type": "histogram",
         "x": [
          0.357
         ],
         "xaxis": "x",
         "yaxis": "y"
        },
        {
         "alignmentgroup": "True",
         "bingroup": "x",
         "hovertemplate": "valence=%{x}<br>count=%{y}<extra></extra>",
         "legendgroup": "0.22",
         "marker": {
          "color": "rgb(229, 134, 6)",
          "pattern": {
           "shape": ""
          }
         },
         "name": "0.22",
         "offsetgroup": "0.22",
         "orientation": "v",
         "showlegend": true,
         "type": "histogram",
         "x": [
          0.22
         ],
         "xaxis": "x",
         "yaxis": "y"
        },
        {
         "alignmentgroup": "True",
         "bingroup": "x",
         "hovertemplate": "valence=%{x}<br>count=%{y}<extra></extra>",
         "legendgroup": "0.228",
         "marker": {
          "color": "rgb(93, 105, 177)",
          "pattern": {
           "shape": ""
          }
         },
         "name": "0.228",
         "offsetgroup": "0.228",
         "orientation": "v",
         "showlegend": true,
         "type": "histogram",
         "x": [
          0.228
         ],
         "xaxis": "x",
         "yaxis": "y"
        },
        {
         "alignmentgroup": "True",
         "bingroup": "x",
         "hovertemplate": "valence=%{x}<br>count=%{y}<extra></extra>",
         "legendgroup": "0.398",
         "marker": {
          "color": "rgb(82, 188, 163)",
          "pattern": {
           "shape": ""
          }
         },
         "name": "0.398",
         "offsetgroup": "0.398",
         "orientation": "v",
         "showlegend": true,
         "type": "histogram",
         "x": [
          0.398
         ],
         "xaxis": "x",
         "yaxis": "y"
        },
        {
         "alignmentgroup": "True",
         "bingroup": "x",
         "hovertemplate": "valence=%{x}<br>count=%{y}<extra></extra>",
         "legendgroup": "0.323",
         "marker": {
          "color": "rgb(153, 201, 69)",
          "pattern": {
           "shape": ""
          }
         },
         "name": "0.323",
         "offsetgroup": "0.323",
         "orientation": "v",
         "showlegend": true,
         "type": "histogram",
         "x": [
          0.323
         ],
         "xaxis": "x",
         "yaxis": "y"
        },
        {
         "alignmentgroup": "True",
         "bingroup": "x",
         "hovertemplate": "valence=%{x}<br>count=%{y}<extra></extra>",
         "legendgroup": "0.662",
         "marker": {
          "color": "rgb(204, 97, 176)",
          "pattern": {
           "shape": ""
          }
         },
         "name": "0.662",
         "offsetgroup": "0.662",
         "orientation": "v",
         "showlegend": true,
         "type": "histogram",
         "x": [
          0.662,
          0.662
         ],
         "xaxis": "x",
         "yaxis": "y"
        },
        {
         "alignmentgroup": "True",
         "bingroup": "x",
         "hovertemplate": "valence=%{x}<br>count=%{y}<extra></extra>",
         "legendgroup": "0.515",
         "marker": {
          "color": "rgb(36, 121, 108)",
          "pattern": {
           "shape": ""
          }
         },
         "name": "0.515",
         "offsetgroup": "0.515",
         "orientation": "v",
         "showlegend": true,
         "type": "histogram",
         "x": [
          0.515
         ],
         "xaxis": "x",
         "yaxis": "y"
        },
        {
         "alignmentgroup": "True",
         "bingroup": "x",
         "hovertemplate": "valence=%{x}<br>count=%{y}<extra></extra>",
         "legendgroup": "0.553",
         "marker": {
          "color": "rgb(218, 165, 27)",
          "pattern": {
           "shape": ""
          }
         },
         "name": "0.553",
         "offsetgroup": "0.553",
         "orientation": "v",
         "showlegend": true,
         "type": "histogram",
         "x": [
          0.553
         ],
         "xaxis": "x",
         "yaxis": "y"
        },
        {
         "alignmentgroup": "True",
         "bingroup": "x",
         "hovertemplate": "valence=%{x}<br>count=%{y}<extra></extra>",
         "legendgroup": "0.473",
         "marker": {
          "color": "rgb(47, 138, 196)",
          "pattern": {
           "shape": ""
          }
         },
         "name": "0.473",
         "offsetgroup": "0.473",
         "orientation": "v",
         "showlegend": true,
         "type": "histogram",
         "x": [
          0.473
         ],
         "xaxis": "x",
         "yaxis": "y"
        },
        {
         "alignmentgroup": "True",
         "bingroup": "x",
         "hovertemplate": "valence=%{x}<br>count=%{y}<extra></extra>",
         "legendgroup": "0.437",
         "marker": {
          "color": "rgb(118, 78, 159)",
          "pattern": {
           "shape": ""
          }
         },
         "name": "0.437",
         "offsetgroup": "0.437",
         "orientation": "v",
         "showlegend": true,
         "type": "histogram",
         "x": [
          0.437,
          0.437
         ],
         "xaxis": "x",
         "yaxis": "y"
        },
        {
         "alignmentgroup": "True",
         "bingroup": "x",
         "hovertemplate": "valence=%{x}<br>count=%{y}<extra></extra>",
         "legendgroup": "0.331",
         "marker": {
          "color": "rgb(237, 100, 90)",
          "pattern": {
           "shape": ""
          }
         },
         "name": "0.331",
         "offsetgroup": "0.331",
         "orientation": "v",
         "showlegend": true,
         "type": "histogram",
         "x": [
          0.331
         ],
         "xaxis": "x",
         "yaxis": "y"
        },
        {
         "alignmentgroup": "True",
         "bingroup": "x",
         "hovertemplate": "valence=%{x}<br>count=%{y}<extra></extra>",
         "legendgroup": "0.259",
         "marker": {
          "color": "rgb(165, 170, 153)",
          "pattern": {
           "shape": ""
          }
         },
         "name": "0.259",
         "offsetgroup": "0.259",
         "orientation": "v",
         "showlegend": true,
         "type": "histogram",
         "x": [
          0.259
         ],
         "xaxis": "x",
         "yaxis": "y"
        },
        {
         "alignmentgroup": "True",
         "bingroup": "x",
         "hovertemplate": "valence=%{x}<br>count=%{y}<extra></extra>",
         "legendgroup": "0.327",
         "marker": {
          "color": "rgb(229, 134, 6)",
          "pattern": {
           "shape": ""
          }
         },
         "name": "0.327",
         "offsetgroup": "0.327",
         "orientation": "v",
         "showlegend": true,
         "type": "histogram",
         "x": [
          0.327
         ],
         "xaxis": "x",
         "yaxis": "y"
        },
        {
         "alignmentgroup": "True",
         "bingroup": "x",
         "hovertemplate": "valence=%{x}<br>count=%{y}<extra></extra>",
         "legendgroup": "0.43",
         "marker": {
          "color": "rgb(93, 105, 177)",
          "pattern": {
           "shape": ""
          }
         },
         "name": "0.43",
         "offsetgroup": "0.43",
         "orientation": "v",
         "showlegend": true,
         "type": "histogram",
         "x": [
          0.43
         ],
         "xaxis": "x",
         "yaxis": "y"
        },
        {
         "alignmentgroup": "True",
         "bingroup": "x",
         "hovertemplate": "valence=%{x}<br>count=%{y}<extra></extra>",
         "legendgroup": "0.394",
         "marker": {
          "color": "rgb(82, 188, 163)",
          "pattern": {
           "shape": ""
          }
         },
         "name": "0.394",
         "offsetgroup": "0.394",
         "orientation": "v",
         "showlegend": true,
         "type": "histogram",
         "x": [
          0.394
         ],
         "xaxis": "x",
         "yaxis": "y"
        },
        {
         "alignmentgroup": "True",
         "bingroup": "x",
         "hovertemplate": "valence=%{x}<br>count=%{y}<extra></extra>",
         "legendgroup": "0.648",
         "marker": {
          "color": "rgb(153, 201, 69)",
          "pattern": {
           "shape": ""
          }
         },
         "name": "0.648",
         "offsetgroup": "0.648",
         "orientation": "v",
         "showlegend": true,
         "type": "histogram",
         "x": [
          0.648
         ],
         "xaxis": "x",
         "yaxis": "y"
        },
        {
         "alignmentgroup": "True",
         "bingroup": "x",
         "hovertemplate": "valence=%{x}<br>count=%{y}<extra></extra>",
         "legendgroup": "0.401",
         "marker": {
          "color": "rgb(204, 97, 176)",
          "pattern": {
           "shape": ""
          }
         },
         "name": "0.401",
         "offsetgroup": "0.401",
         "orientation": "v",
         "showlegend": true,
         "type": "histogram",
         "x": [
          0.401
         ],
         "xaxis": "x",
         "yaxis": "y"
        },
        {
         "alignmentgroup": "True",
         "bingroup": "x",
         "hovertemplate": "valence=%{x}<br>count=%{y}<extra></extra>",
         "legendgroup": "0.477",
         "marker": {
          "color": "rgb(36, 121, 108)",
          "pattern": {
           "shape": ""
          }
         },
         "name": "0.477",
         "offsetgroup": "0.477",
         "orientation": "v",
         "showlegend": true,
         "type": "histogram",
         "x": [
          0.477
         ],
         "xaxis": "x",
         "yaxis": "y"
        },
        {
         "alignmentgroup": "True",
         "bingroup": "x",
         "hovertemplate": "valence=%{x}<br>count=%{y}<extra></extra>",
         "legendgroup": "0.608",
         "marker": {
          "color": "rgb(218, 165, 27)",
          "pattern": {
           "shape": ""
          }
         },
         "name": "0.608",
         "offsetgroup": "0.608",
         "orientation": "v",
         "showlegend": true,
         "type": "histogram",
         "x": [
          0.608
         ],
         "xaxis": "x",
         "yaxis": "y"
        },
        {
         "alignmentgroup": "True",
         "bingroup": "x",
         "hovertemplate": "valence=%{x}<br>count=%{y}<extra></extra>",
         "legendgroup": "0.643",
         "marker": {
          "color": "rgb(47, 138, 196)",
          "pattern": {
           "shape": ""
          }
         },
         "name": "0.643",
         "offsetgroup": "0.643",
         "orientation": "v",
         "showlegend": true,
         "type": "histogram",
         "x": [
          0.643
         ],
         "xaxis": "x",
         "yaxis": "y"
        },
        {
         "alignmentgroup": "True",
         "bingroup": "x",
         "hovertemplate": "valence=%{x}<br>count=%{y}<extra></extra>",
         "legendgroup": "0.51",
         "marker": {
          "color": "rgb(118, 78, 159)",
          "pattern": {
           "shape": ""
          }
         },
         "name": "0.51",
         "offsetgroup": "0.51",
         "orientation": "v",
         "showlegend": true,
         "type": "histogram",
         "x": [
          0.51
         ],
         "xaxis": "x",
         "yaxis": "y"
        },
        {
         "alignmentgroup": "True",
         "bingroup": "x",
         "hovertemplate": "valence=%{x}<br>count=%{y}<extra></extra>",
         "legendgroup": "0.472",
         "marker": {
          "color": "rgb(237, 100, 90)",
          "pattern": {
           "shape": ""
          }
         },
         "name": "0.472",
         "offsetgroup": "0.472",
         "orientation": "v",
         "showlegend": true,
         "type": "histogram",
         "x": [
          0.472
         ],
         "xaxis": "x",
         "yaxis": "y"
        },
        {
         "alignmentgroup": "True",
         "bingroup": "x",
         "hovertemplate": "valence=%{x}<br>count=%{y}<extra></extra>",
         "legendgroup": "0.421",
         "marker": {
          "color": "rgb(165, 170, 153)",
          "pattern": {
           "shape": ""
          }
         },
         "name": "0.421",
         "offsetgroup": "0.421",
         "orientation": "v",
         "showlegend": true,
         "type": "histogram",
         "x": [
          0.421
         ],
         "xaxis": "x",
         "yaxis": "y"
        },
        {
         "alignmentgroup": "True",
         "bingroup": "x",
         "hovertemplate": "valence=%{x}<br>count=%{y}<extra></extra>",
         "legendgroup": "0.243",
         "marker": {
          "color": "rgb(229, 134, 6)",
          "pattern": {
           "shape": ""
          }
         },
         "name": "0.243",
         "offsetgroup": "0.243",
         "orientation": "v",
         "showlegend": true,
         "type": "histogram",
         "x": [
          0.243
         ],
         "xaxis": "x",
         "yaxis": "y"
        },
        {
         "alignmentgroup": "True",
         "bingroup": "x",
         "hovertemplate": "valence=%{x}<br>count=%{y}<extra></extra>",
         "legendgroup": "0.137",
         "marker": {
          "color": "rgb(93, 105, 177)",
          "pattern": {
           "shape": ""
          }
         },
         "name": "0.137",
         "offsetgroup": "0.137",
         "orientation": "v",
         "showlegend": true,
         "type": "histogram",
         "x": [
          0.137,
          0.137
         ],
         "xaxis": "x",
         "yaxis": "y"
        },
        {
         "alignmentgroup": "True",
         "bingroup": "x",
         "hovertemplate": "valence=%{x}<br>count=%{y}<extra></extra>",
         "legendgroup": "0.219",
         "marker": {
          "color": "rgb(82, 188, 163)",
          "pattern": {
           "shape": ""
          }
         },
         "name": "0.219",
         "offsetgroup": "0.219",
         "orientation": "v",
         "showlegend": true,
         "type": "histogram",
         "x": [
          0.219
         ],
         "xaxis": "x",
         "yaxis": "y"
        },
        {
         "alignmentgroup": "True",
         "bingroup": "x",
         "hovertemplate": "valence=%{x}<br>count=%{y}<extra></extra>",
         "legendgroup": "0.688",
         "marker": {
          "color": "rgb(153, 201, 69)",
          "pattern": {
           "shape": ""
          }
         },
         "name": "0.688",
         "offsetgroup": "0.688",
         "orientation": "v",
         "showlegend": true,
         "type": "histogram",
         "x": [
          0.688
         ],
         "xaxis": "x",
         "yaxis": "y"
        },
        {
         "alignmentgroup": "True",
         "bingroup": "x",
         "hovertemplate": "valence=%{x}<br>count=%{y}<extra></extra>",
         "legendgroup": "0.492",
         "marker": {
          "color": "rgb(204, 97, 176)",
          "pattern": {
           "shape": ""
          }
         },
         "name": "0.492",
         "offsetgroup": "0.492",
         "orientation": "v",
         "showlegend": true,
         "type": "histogram",
         "x": [
          0.492,
          0.492
         ],
         "xaxis": "x",
         "yaxis": "y"
        },
        {
         "alignmentgroup": "True",
         "bingroup": "x",
         "hovertemplate": "valence=%{x}<br>count=%{y}<extra></extra>",
         "legendgroup": "0.592",
         "marker": {
          "color": "rgb(36, 121, 108)",
          "pattern": {
           "shape": ""
          }
         },
         "name": "0.592",
         "offsetgroup": "0.592",
         "orientation": "v",
         "showlegend": true,
         "type": "histogram",
         "x": [
          0.592
         ],
         "xaxis": "x",
         "yaxis": "y"
        },
        {
         "alignmentgroup": "True",
         "bingroup": "x",
         "hovertemplate": "valence=%{x}<br>count=%{y}<extra></extra>",
         "legendgroup": "0.163",
         "marker": {
          "color": "rgb(218, 165, 27)",
          "pattern": {
           "shape": ""
          }
         },
         "name": "0.163",
         "offsetgroup": "0.163",
         "orientation": "v",
         "showlegend": true,
         "type": "histogram",
         "x": [
          0.163
         ],
         "xaxis": "x",
         "yaxis": "y"
        },
        {
         "alignmentgroup": "True",
         "bingroup": "x",
         "hovertemplate": "valence=%{x}<br>count=%{y}<extra></extra>",
         "legendgroup": "0.274",
         "marker": {
          "color": "rgb(47, 138, 196)",
          "pattern": {
           "shape": ""
          }
         },
         "name": "0.274",
         "offsetgroup": "0.274",
         "orientation": "v",
         "showlegend": true,
         "type": "histogram",
         "x": [
          0.274
         ],
         "xaxis": "x",
         "yaxis": "y"
        },
        {
         "alignmentgroup": "True",
         "bingroup": "x",
         "hovertemplate": "valence=%{x}<br>count=%{y}<extra></extra>",
         "legendgroup": "0.747",
         "marker": {
          "color": "rgb(118, 78, 159)",
          "pattern": {
           "shape": ""
          }
         },
         "name": "0.747",
         "offsetgroup": "0.747",
         "orientation": "v",
         "showlegend": true,
         "type": "histogram",
         "x": [
          0.747
         ],
         "xaxis": "x",
         "yaxis": "y"
        },
        {
         "alignmentgroup": "True",
         "bingroup": "x",
         "hovertemplate": "valence=%{x}<br>count=%{y}<extra></extra>",
         "legendgroup": "0.863",
         "marker": {
          "color": "rgb(237, 100, 90)",
          "pattern": {
           "shape": ""
          }
         },
         "name": "0.863",
         "offsetgroup": "0.863",
         "orientation": "v",
         "showlegend": true,
         "type": "histogram",
         "x": [
          0.863
         ],
         "xaxis": "x",
         "yaxis": "y"
        },
        {
         "alignmentgroup": "True",
         "bingroup": "x",
         "hovertemplate": "valence=%{x}<br>count=%{y}<extra></extra>",
         "legendgroup": "0.341",
         "marker": {
          "color": "rgb(165, 170, 153)",
          "pattern": {
           "shape": ""
          }
         },
         "name": "0.341",
         "offsetgroup": "0.341",
         "orientation": "v",
         "showlegend": true,
         "type": "histogram",
         "x": [
          0.341
         ],
         "xaxis": "x",
         "yaxis": "y"
        },
        {
         "alignmentgroup": "True",
         "bingroup": "x",
         "hovertemplate": "valence=%{x}<br>count=%{y}<extra></extra>",
         "legendgroup": "0.184",
         "marker": {
          "color": "rgb(229, 134, 6)",
          "pattern": {
           "shape": ""
          }
         },
         "name": "0.184",
         "offsetgroup": "0.184",
         "orientation": "v",
         "showlegend": true,
         "type": "histogram",
         "x": [
          0.184
         ],
         "xaxis": "x",
         "yaxis": "y"
        },
        {
         "alignmentgroup": "True",
         "bingroup": "x",
         "hovertemplate": "valence=%{x}<br>count=%{y}<extra></extra>",
         "legendgroup": "0.159",
         "marker": {
          "color": "rgb(93, 105, 177)",
          "pattern": {
           "shape": ""
          }
         },
         "name": "0.159",
         "offsetgroup": "0.159",
         "orientation": "v",
         "showlegend": true,
         "type": "histogram",
         "x": [
          0.159
         ],
         "xaxis": "x",
         "yaxis": "y"
        },
        {
         "alignmentgroup": "True",
         "bingroup": "x",
         "hovertemplate": "valence=%{x}<br>count=%{y}<extra></extra>",
         "legendgroup": "0.894",
         "marker": {
          "color": "rgb(82, 188, 163)",
          "pattern": {
           "shape": ""
          }
         },
         "name": "0.894",
         "offsetgroup": "0.894",
         "orientation": "v",
         "showlegend": true,
         "type": "histogram",
         "x": [
          0.894
         ],
         "xaxis": "x",
         "yaxis": "y"
        },
        {
         "alignmentgroup": "True",
         "bingroup": "x",
         "hovertemplate": "valence=%{x}<br>count=%{y}<extra></extra>",
         "legendgroup": "0.0612",
         "marker": {
          "color": "rgb(153, 201, 69)",
          "pattern": {
           "shape": ""
          }
         },
         "name": "0.0612",
         "offsetgroup": "0.0612",
         "orientation": "v",
         "showlegend": true,
         "type": "histogram",
         "x": [
          0.0612
         ],
         "xaxis": "x",
         "yaxis": "y"
        },
        {
         "alignmentgroup": "True",
         "bingroup": "x",
         "hovertemplate": "valence=%{x}<br>count=%{y}<extra></extra>",
         "legendgroup": "0.556",
         "marker": {
          "color": "rgb(204, 97, 176)",
          "pattern": {
           "shape": ""
          }
         },
         "name": "0.556",
         "offsetgroup": "0.556",
         "orientation": "v",
         "showlegend": true,
         "type": "histogram",
         "x": [
          0.556
         ],
         "xaxis": "x",
         "yaxis": "y"
        },
        {
         "alignmentgroup": "True",
         "bingroup": "x",
         "hovertemplate": "valence=%{x}<br>count=%{y}<extra></extra>",
         "legendgroup": "0.428",
         "marker": {
          "color": "rgb(36, 121, 108)",
          "pattern": {
           "shape": ""
          }
         },
         "name": "0.428",
         "offsetgroup": "0.428",
         "orientation": "v",
         "showlegend": true,
         "type": "histogram",
         "x": [
          0.428
         ],
         "xaxis": "x",
         "yaxis": "y"
        },
        {
         "alignmentgroup": "True",
         "bingroup": "x",
         "hovertemplate": "valence=%{x}<br>count=%{y}<extra></extra>",
         "legendgroup": "0.236",
         "marker": {
          "color": "rgb(218, 165, 27)",
          "pattern": {
           "shape": ""
          }
         },
         "name": "0.236",
         "offsetgroup": "0.236",
         "orientation": "v",
         "showlegend": true,
         "type": "histogram",
         "x": [
          0.236
         ],
         "xaxis": "x",
         "yaxis": "y"
        },
        {
         "alignmentgroup": "True",
         "bingroup": "x",
         "hovertemplate": "valence=%{x}<br>count=%{y}<extra></extra>",
         "legendgroup": "0.928",
         "marker": {
          "color": "rgb(47, 138, 196)",
          "pattern": {
           "shape": ""
          }
         },
         "name": "0.928",
         "offsetgroup": "0.928",
         "orientation": "v",
         "showlegend": true,
         "type": "histogram",
         "x": [
          0.928
         ],
         "xaxis": "x",
         "yaxis": "y"
        },
        {
         "alignmentgroup": "True",
         "bingroup": "x",
         "hovertemplate": "valence=%{x}<br>count=%{y}<extra></extra>",
         "legendgroup": "0.476",
         "marker": {
          "color": "rgb(118, 78, 159)",
          "pattern": {
           "shape": ""
          }
         },
         "name": "0.476",
         "offsetgroup": "0.476",
         "orientation": "v",
         "showlegend": true,
         "type": "histogram",
         "x": [
          0.476
         ],
         "xaxis": "x",
         "yaxis": "y"
        },
        {
         "alignmentgroup": "True",
         "bingroup": "x",
         "hovertemplate": "valence=%{x}<br>count=%{y}<extra></extra>",
         "legendgroup": "0.915",
         "marker": {
          "color": "rgb(237, 100, 90)",
          "pattern": {
           "shape": ""
          }
         },
         "name": "0.915",
         "offsetgroup": "0.915",
         "orientation": "v",
         "showlegend": true,
         "type": "histogram",
         "x": [
          0.915
         ],
         "xaxis": "x",
         "yaxis": "y"
        },
        {
         "alignmentgroup": "True",
         "bingroup": "x",
         "hovertemplate": "valence=%{x}<br>count=%{y}<extra></extra>",
         "legendgroup": "0.71",
         "marker": {
          "color": "rgb(165, 170, 153)",
          "pattern": {
           "shape": ""
          }
         },
         "name": "0.71",
         "offsetgroup": "0.71",
         "orientation": "v",
         "showlegend": true,
         "type": "histogram",
         "x": [
          0.71,
          0.71
         ],
         "xaxis": "x",
         "yaxis": "y"
        },
        {
         "alignmentgroup": "True",
         "bingroup": "x",
         "hovertemplate": "valence=%{x}<br>count=%{y}<extra></extra>",
         "legendgroup": "0.674",
         "marker": {
          "color": "rgb(229, 134, 6)",
          "pattern": {
           "shape": ""
          }
         },
         "name": "0.674",
         "offsetgroup": "0.674",
         "orientation": "v",
         "showlegend": true,
         "type": "histogram",
         "x": [
          0.674
         ],
         "xaxis": "x",
         "yaxis": "y"
        },
        {
         "alignmentgroup": "True",
         "bingroup": "x",
         "hovertemplate": "valence=%{x}<br>count=%{y}<extra></extra>",
         "legendgroup": "0.412",
         "marker": {
          "color": "rgb(93, 105, 177)",
          "pattern": {
           "shape": ""
          }
         },
         "name": "0.412",
         "offsetgroup": "0.412",
         "orientation": "v",
         "showlegend": true,
         "type": "histogram",
         "x": [
          0.412
         ],
         "xaxis": "x",
         "yaxis": "y"
        },
        {
         "alignmentgroup": "True",
         "bingroup": "x",
         "hovertemplate": "valence=%{x}<br>count=%{y}<extra></extra>",
         "legendgroup": "0.843",
         "marker": {
          "color": "rgb(82, 188, 163)",
          "pattern": {
           "shape": ""
          }
         },
         "name": "0.843",
         "offsetgroup": "0.843",
         "orientation": "v",
         "showlegend": true,
         "type": "histogram",
         "x": [
          0.843
         ],
         "xaxis": "x",
         "yaxis": "y"
        },
        {
         "alignmentgroup": "True",
         "bingroup": "x",
         "hovertemplate": "valence=%{x}<br>count=%{y}<extra></extra>",
         "legendgroup": "0.145",
         "marker": {
          "color": "rgb(153, 201, 69)",
          "pattern": {
           "shape": ""
          }
         },
         "name": "0.145",
         "offsetgroup": "0.145",
         "orientation": "v",
         "showlegend": true,
         "type": "histogram",
         "x": [
          0.145
         ],
         "xaxis": "x",
         "yaxis": "y"
        },
        {
         "alignmentgroup": "True",
         "bingroup": "x",
         "hovertemplate": "valence=%{x}<br>count=%{y}<extra></extra>",
         "legendgroup": "0.532",
         "marker": {
          "color": "rgb(204, 97, 176)",
          "pattern": {
           "shape": ""
          }
         },
         "name": "0.532",
         "offsetgroup": "0.532",
         "orientation": "v",
         "showlegend": true,
         "type": "histogram",
         "x": [
          0.532
         ],
         "xaxis": "x",
         "yaxis": "y"
        },
        {
         "alignmentgroup": "True",
         "bingroup": "x",
         "hovertemplate": "valence=%{x}<br>count=%{y}<extra></extra>",
         "legendgroup": "0.405",
         "marker": {
          "color": "rgb(36, 121, 108)",
          "pattern": {
           "shape": ""
          }
         },
         "name": "0.405",
         "offsetgroup": "0.405",
         "orientation": "v",
         "showlegend": true,
         "type": "histogram",
         "x": [
          0.405
         ],
         "xaxis": "x",
         "yaxis": "y"
        },
        {
         "alignmentgroup": "True",
         "bingroup": "x",
         "hovertemplate": "valence=%{x}<br>count=%{y}<extra></extra>",
         "legendgroup": "0.733",
         "marker": {
          "color": "rgb(218, 165, 27)",
          "pattern": {
           "shape": ""
          }
         },
         "name": "0.733",
         "offsetgroup": "0.733",
         "orientation": "v",
         "showlegend": true,
         "type": "histogram",
         "x": [
          0.733
         ],
         "xaxis": "x",
         "yaxis": "y"
        },
        {
         "alignmentgroup": "True",
         "bingroup": "x",
         "hovertemplate": "valence=%{x}<br>count=%{y}<extra></extra>",
         "legendgroup": "0.816",
         "marker": {
          "color": "rgb(47, 138, 196)",
          "pattern": {
           "shape": ""
          }
         },
         "name": "0.816",
         "offsetgroup": "0.816",
         "orientation": "v",
         "showlegend": true,
         "type": "histogram",
         "x": [
          0.816,
          0.816
         ],
         "xaxis": "x",
         "yaxis": "y"
        },
        {
         "alignmentgroup": "True",
         "bingroup": "x",
         "hovertemplate": "valence=%{x}<br>count=%{y}<extra></extra>",
         "legendgroup": "0.711",
         "marker": {
          "color": "rgb(118, 78, 159)",
          "pattern": {
           "shape": ""
          }
         },
         "name": "0.711",
         "offsetgroup": "0.711",
         "orientation": "v",
         "showlegend": true,
         "type": "histogram",
         "x": [
          0.711
         ],
         "xaxis": "x",
         "yaxis": "y"
        },
        {
         "alignmentgroup": "True",
         "bingroup": "x",
         "hovertemplate": "valence=%{x}<br>count=%{y}<extra></extra>",
         "legendgroup": "0.434",
         "marker": {
          "color": "rgb(237, 100, 90)",
          "pattern": {
           "shape": ""
          }
         },
         "name": "0.434",
         "offsetgroup": "0.434",
         "orientation": "v",
         "showlegend": true,
         "type": "histogram",
         "x": [
          0.434
         ],
         "xaxis": "x",
         "yaxis": "y"
        },
        {
         "alignmentgroup": "True",
         "bingroup": "x",
         "hovertemplate": "valence=%{x}<br>count=%{y}<extra></extra>",
         "legendgroup": "0.86",
         "marker": {
          "color": "rgb(165, 170, 153)",
          "pattern": {
           "shape": ""
          }
         },
         "name": "0.86",
         "offsetgroup": "0.86",
         "orientation": "v",
         "showlegend": true,
         "type": "histogram",
         "x": [
          0.86
         ],
         "xaxis": "x",
         "yaxis": "y"
        },
        {
         "alignmentgroup": "True",
         "bingroup": "x",
         "hovertemplate": "valence=%{x}<br>count=%{y}<extra></extra>",
         "legendgroup": "0.642",
         "marker": {
          "color": "rgb(229, 134, 6)",
          "pattern": {
           "shape": ""
          }
         },
         "name": "0.642",
         "offsetgroup": "0.642",
         "orientation": "v",
         "showlegend": true,
         "type": "histogram",
         "x": [
          0.642
         ],
         "xaxis": "x",
         "yaxis": "y"
        },
        {
         "alignmentgroup": "True",
         "bingroup": "x",
         "hovertemplate": "valence=%{x}<br>count=%{y}<extra></extra>",
         "legendgroup": "0.1",
         "marker": {
          "color": "rgb(93, 105, 177)",
          "pattern": {
           "shape": ""
          }
         },
         "name": "0.1",
         "offsetgroup": "0.1",
         "orientation": "v",
         "showlegend": true,
         "type": "histogram",
         "x": [
          0.1
         ],
         "xaxis": "x",
         "yaxis": "y"
        },
        {
         "alignmentgroup": "True",
         "bingroup": "x",
         "hovertemplate": "valence=%{x}<br>count=%{y}<extra></extra>",
         "legendgroup": "0.969",
         "marker": {
          "color": "rgb(82, 188, 163)",
          "pattern": {
           "shape": ""
          }
         },
         "name": "0.969",
         "offsetgroup": "0.969",
         "orientation": "v",
         "showlegend": true,
         "type": "histogram",
         "x": [
          0.969
         ],
         "xaxis": "x",
         "yaxis": "y"
        },
        {
         "alignmentgroup": "True",
         "bingroup": "x",
         "hovertemplate": "valence=%{x}<br>count=%{y}<extra></extra>",
         "legendgroup": "0.755",
         "marker": {
          "color": "rgb(153, 201, 69)",
          "pattern": {
           "shape": ""
          }
         },
         "name": "0.755",
         "offsetgroup": "0.755",
         "orientation": "v",
         "showlegend": true,
         "type": "histogram",
         "x": [
          0.755
         ],
         "xaxis": "x",
         "yaxis": "y"
        },
        {
         "alignmentgroup": "True",
         "bingroup": "x",
         "hovertemplate": "valence=%{x}<br>count=%{y}<extra></extra>",
         "legendgroup": "0.732",
         "marker": {
          "color": "rgb(204, 97, 176)",
          "pattern": {
           "shape": ""
          }
         },
         "name": "0.732",
         "offsetgroup": "0.732",
         "orientation": "v",
         "showlegend": true,
         "type": "histogram",
         "x": [
          0.732
         ],
         "xaxis": "x",
         "yaxis": "y"
        },
        {
         "alignmentgroup": "True",
         "bingroup": "x",
         "hovertemplate": "valence=%{x}<br>count=%{y}<extra></extra>",
         "legendgroup": "0.72",
         "marker": {
          "color": "rgb(36, 121, 108)",
          "pattern": {
           "shape": ""
          }
         },
         "name": "0.72",
         "offsetgroup": "0.72",
         "orientation": "v",
         "showlegend": true,
         "type": "histogram",
         "x": [
          0.72
         ],
         "xaxis": "x",
         "yaxis": "y"
        },
        {
         "alignmentgroup": "True",
         "bingroup": "x",
         "hovertemplate": "valence=%{x}<br>count=%{y}<extra></extra>",
         "legendgroup": "0.62",
         "marker": {
          "color": "rgb(218, 165, 27)",
          "pattern": {
           "shape": ""
          }
         },
         "name": "0.62",
         "offsetgroup": "0.62",
         "orientation": "v",
         "showlegend": true,
         "type": "histogram",
         "x": [
          0.62
         ],
         "xaxis": "x",
         "yaxis": "y"
        },
        {
         "alignmentgroup": "True",
         "bingroup": "x",
         "hovertemplate": "valence=%{x}<br>count=%{y}<extra></extra>",
         "legendgroup": "0.505",
         "marker": {
          "color": "rgb(47, 138, 196)",
          "pattern": {
           "shape": ""
          }
         },
         "name": "0.505",
         "offsetgroup": "0.505",
         "orientation": "v",
         "showlegend": true,
         "type": "histogram",
         "x": [
          0.505
         ],
         "xaxis": "x",
         "yaxis": "y"
        },
        {
         "alignmentgroup": "True",
         "bingroup": "x",
         "hovertemplate": "valence=%{x}<br>count=%{y}<extra></extra>",
         "legendgroup": "0.419",
         "marker": {
          "color": "rgb(118, 78, 159)",
          "pattern": {
           "shape": ""
          }
         },
         "name": "0.419",
         "offsetgroup": "0.419",
         "orientation": "v",
         "showlegend": true,
         "type": "histogram",
         "x": [
          0.419,
          0.419
         ],
         "xaxis": "x",
         "yaxis": "y"
        },
        {
         "alignmentgroup": "True",
         "bingroup": "x",
         "hovertemplate": "valence=%{x}<br>count=%{y}<extra></extra>",
         "legendgroup": "0.34",
         "marker": {
          "color": "rgb(237, 100, 90)",
          "pattern": {
           "shape": ""
          }
         },
         "name": "0.34",
         "offsetgroup": "0.34",
         "orientation": "v",
         "showlegend": true,
         "type": "histogram",
         "x": [
          0.34
         ],
         "xaxis": "x",
         "yaxis": "y"
        },
        {
         "alignmentgroup": "True",
         "bingroup": "x",
         "hovertemplate": "valence=%{x}<br>count=%{y}<extra></extra>",
         "legendgroup": "0.285",
         "marker": {
          "color": "rgb(165, 170, 153)",
          "pattern": {
           "shape": ""
          }
         },
         "name": "0.285",
         "offsetgroup": "0.285",
         "orientation": "v",
         "showlegend": true,
         "type": "histogram",
         "x": [
          0.285
         ],
         "xaxis": "x",
         "yaxis": "y"
        },
        {
         "alignmentgroup": "True",
         "bingroup": "x",
         "hovertemplate": "valence=%{x}<br>count=%{y}<extra></extra>",
         "legendgroup": "0.839",
         "marker": {
          "color": "rgb(229, 134, 6)",
          "pattern": {
           "shape": ""
          }
         },
         "name": "0.839",
         "offsetgroup": "0.839",
         "orientation": "v",
         "showlegend": true,
         "type": "histogram",
         "x": [
          0.839
         ],
         "xaxis": "x",
         "yaxis": "y"
        }
       ],
       "layout": {
        "barmode": "relative",
        "height": 500,
        "legend": {
         "title": {
          "text": "valence"
         },
         "tracegroupgap": 0
        },
        "template": {
         "data": {
          "bar": [
           {
            "error_x": {
             "color": "#f2f5fa"
            },
            "error_y": {
             "color": "#f2f5fa"
            },
            "marker": {
             "line": {
              "color": "rgb(17,17,17)",
              "width": 0.5
             },
             "pattern": {
              "fillmode": "overlay",
              "size": 10,
              "solidity": 0.2
             }
            },
            "type": "bar"
           }
          ],
          "barpolar": [
           {
            "marker": {
             "line": {
              "color": "rgb(17,17,17)",
              "width": 0.5
             },
             "pattern": {
              "fillmode": "overlay",
              "size": 10,
              "solidity": 0.2
             }
            },
            "type": "barpolar"
           }
          ],
          "carpet": [
           {
            "aaxis": {
             "endlinecolor": "#A2B1C6",
             "gridcolor": "#506784",
             "linecolor": "#506784",
             "minorgridcolor": "#506784",
             "startlinecolor": "#A2B1C6"
            },
            "baxis": {
             "endlinecolor": "#A2B1C6",
             "gridcolor": "#506784",
             "linecolor": "#506784",
             "minorgridcolor": "#506784",
             "startlinecolor": "#A2B1C6"
            },
            "type": "carpet"
           }
          ],
          "choropleth": [
           {
            "colorbar": {
             "outlinewidth": 0,
             "ticks": ""
            },
            "type": "choropleth"
           }
          ],
          "contour": [
           {
            "colorbar": {
             "outlinewidth": 0,
             "ticks": ""
            },
            "colorscale": [
             [
              0,
              "#0d0887"
             ],
             [
              0.1111111111111111,
              "#46039f"
             ],
             [
              0.2222222222222222,
              "#7201a8"
             ],
             [
              0.3333333333333333,
              "#9c179e"
             ],
             [
              0.4444444444444444,
              "#bd3786"
             ],
             [
              0.5555555555555556,
              "#d8576b"
             ],
             [
              0.6666666666666666,
              "#ed7953"
             ],
             [
              0.7777777777777778,
              "#fb9f3a"
             ],
             [
              0.8888888888888888,
              "#fdca26"
             ],
             [
              1,
              "#f0f921"
             ]
            ],
            "type": "contour"
           }
          ],
          "contourcarpet": [
           {
            "colorbar": {
             "outlinewidth": 0,
             "ticks": ""
            },
            "type": "contourcarpet"
           }
          ],
          "heatmap": [
           {
            "colorbar": {
             "outlinewidth": 0,
             "ticks": ""
            },
            "colorscale": [
             [
              0,
              "#0d0887"
             ],
             [
              0.1111111111111111,
              "#46039f"
             ],
             [
              0.2222222222222222,
              "#7201a8"
             ],
             [
              0.3333333333333333,
              "#9c179e"
             ],
             [
              0.4444444444444444,
              "#bd3786"
             ],
             [
              0.5555555555555556,
              "#d8576b"
             ],
             [
              0.6666666666666666,
              "#ed7953"
             ],
             [
              0.7777777777777778,
              "#fb9f3a"
             ],
             [
              0.8888888888888888,
              "#fdca26"
             ],
             [
              1,
              "#f0f921"
             ]
            ],
            "type": "heatmap"
           }
          ],
          "heatmapgl": [
           {
            "colorbar": {
             "outlinewidth": 0,
             "ticks": ""
            },
            "colorscale": [
             [
              0,
              "#0d0887"
             ],
             [
              0.1111111111111111,
              "#46039f"
             ],
             [
              0.2222222222222222,
              "#7201a8"
             ],
             [
              0.3333333333333333,
              "#9c179e"
             ],
             [
              0.4444444444444444,
              "#bd3786"
             ],
             [
              0.5555555555555556,
              "#d8576b"
             ],
             [
              0.6666666666666666,
              "#ed7953"
             ],
             [
              0.7777777777777778,
              "#fb9f3a"
             ],
             [
              0.8888888888888888,
              "#fdca26"
             ],
             [
              1,
              "#f0f921"
             ]
            ],
            "type": "heatmapgl"
           }
          ],
          "histogram": [
           {
            "marker": {
             "pattern": {
              "fillmode": "overlay",
              "size": 10,
              "solidity": 0.2
             }
            },
            "type": "histogram"
           }
          ],
          "histogram2d": [
           {
            "colorbar": {
             "outlinewidth": 0,
             "ticks": ""
            },
            "colorscale": [
             [
              0,
              "#0d0887"
             ],
             [
              0.1111111111111111,
              "#46039f"
             ],
             [
              0.2222222222222222,
              "#7201a8"
             ],
             [
              0.3333333333333333,
              "#9c179e"
             ],
             [
              0.4444444444444444,
              "#bd3786"
             ],
             [
              0.5555555555555556,
              "#d8576b"
             ],
             [
              0.6666666666666666,
              "#ed7953"
             ],
             [
              0.7777777777777778,
              "#fb9f3a"
             ],
             [
              0.8888888888888888,
              "#fdca26"
             ],
             [
              1,
              "#f0f921"
             ]
            ],
            "type": "histogram2d"
           }
          ],
          "histogram2dcontour": [
           {
            "colorbar": {
             "outlinewidth": 0,
             "ticks": ""
            },
            "colorscale": [
             [
              0,
              "#0d0887"
             ],
             [
              0.1111111111111111,
              "#46039f"
             ],
             [
              0.2222222222222222,
              "#7201a8"
             ],
             [
              0.3333333333333333,
              "#9c179e"
             ],
             [
              0.4444444444444444,
              "#bd3786"
             ],
             [
              0.5555555555555556,
              "#d8576b"
             ],
             [
              0.6666666666666666,
              "#ed7953"
             ],
             [
              0.7777777777777778,
              "#fb9f3a"
             ],
             [
              0.8888888888888888,
              "#fdca26"
             ],
             [
              1,
              "#f0f921"
             ]
            ],
            "type": "histogram2dcontour"
           }
          ],
          "mesh3d": [
           {
            "colorbar": {
             "outlinewidth": 0,
             "ticks": ""
            },
            "type": "mesh3d"
           }
          ],
          "parcoords": [
           {
            "line": {
             "colorbar": {
              "outlinewidth": 0,
              "ticks": ""
             }
            },
            "type": "parcoords"
           }
          ],
          "pie": [
           {
            "automargin": true,
            "type": "pie"
           }
          ],
          "scatter": [
           {
            "marker": {
             "line": {
              "color": "#283442"
             }
            },
            "type": "scatter"
           }
          ],
          "scatter3d": [
           {
            "line": {
             "colorbar": {
              "outlinewidth": 0,
              "ticks": ""
             }
            },
            "marker": {
             "colorbar": {
              "outlinewidth": 0,
              "ticks": ""
             }
            },
            "type": "scatter3d"
           }
          ],
          "scattercarpet": [
           {
            "marker": {
             "colorbar": {
              "outlinewidth": 0,
              "ticks": ""
             }
            },
            "type": "scattercarpet"
           }
          ],
          "scattergeo": [
           {
            "marker": {
             "colorbar": {
              "outlinewidth": 0,
              "ticks": ""
             }
            },
            "type": "scattergeo"
           }
          ],
          "scattergl": [
           {
            "marker": {
             "line": {
              "color": "#283442"
             }
            },
            "type": "scattergl"
           }
          ],
          "scattermapbox": [
           {
            "marker": {
             "colorbar": {
              "outlinewidth": 0,
              "ticks": ""
             }
            },
            "type": "scattermapbox"
           }
          ],
          "scatterpolar": [
           {
            "marker": {
             "colorbar": {
              "outlinewidth": 0,
              "ticks": ""
             }
            },
            "type": "scatterpolar"
           }
          ],
          "scatterpolargl": [
           {
            "marker": {
             "colorbar": {
              "outlinewidth": 0,
              "ticks": ""
             }
            },
            "type": "scatterpolargl"
           }
          ],
          "scatterternary": [
           {
            "marker": {
             "colorbar": {
              "outlinewidth": 0,
              "ticks": ""
             }
            },
            "type": "scatterternary"
           }
          ],
          "surface": [
           {
            "colorbar": {
             "outlinewidth": 0,
             "ticks": ""
            },
            "colorscale": [
             [
              0,
              "#0d0887"
             ],
             [
              0.1111111111111111,
              "#46039f"
             ],
             [
              0.2222222222222222,
              "#7201a8"
             ],
             [
              0.3333333333333333,
              "#9c179e"
             ],
             [
              0.4444444444444444,
              "#bd3786"
             ],
             [
              0.5555555555555556,
              "#d8576b"
             ],
             [
              0.6666666666666666,
              "#ed7953"
             ],
             [
              0.7777777777777778,
              "#fb9f3a"
             ],
             [
              0.8888888888888888,
              "#fdca26"
             ],
             [
              1,
              "#f0f921"
             ]
            ],
            "type": "surface"
           }
          ],
          "table": [
           {
            "cells": {
             "fill": {
              "color": "#506784"
             },
             "line": {
              "color": "rgb(17,17,17)"
             }
            },
            "header": {
             "fill": {
              "color": "#2a3f5f"
             },
             "line": {
              "color": "rgb(17,17,17)"
             }
            },
            "type": "table"
           }
          ]
         },
         "layout": {
          "annotationdefaults": {
           "arrowcolor": "#f2f5fa",
           "arrowhead": 0,
           "arrowwidth": 1
          },
          "autotypenumbers": "strict",
          "coloraxis": {
           "colorbar": {
            "outlinewidth": 0,
            "ticks": ""
           }
          },
          "colorscale": {
           "diverging": [
            [
             0,
             "#8e0152"
            ],
            [
             0.1,
             "#c51b7d"
            ],
            [
             0.2,
             "#de77ae"
            ],
            [
             0.3,
             "#f1b6da"
            ],
            [
             0.4,
             "#fde0ef"
            ],
            [
             0.5,
             "#f7f7f7"
            ],
            [
             0.6,
             "#e6f5d0"
            ],
            [
             0.7,
             "#b8e186"
            ],
            [
             0.8,
             "#7fbc41"
            ],
            [
             0.9,
             "#4d9221"
            ],
            [
             1,
             "#276419"
            ]
           ],
           "sequential": [
            [
             0,
             "#0d0887"
            ],
            [
             0.1111111111111111,
             "#46039f"
            ],
            [
             0.2222222222222222,
             "#7201a8"
            ],
            [
             0.3333333333333333,
             "#9c179e"
            ],
            [
             0.4444444444444444,
             "#bd3786"
            ],
            [
             0.5555555555555556,
             "#d8576b"
            ],
            [
             0.6666666666666666,
             "#ed7953"
            ],
            [
             0.7777777777777778,
             "#fb9f3a"
            ],
            [
             0.8888888888888888,
             "#fdca26"
            ],
            [
             1,
             "#f0f921"
            ]
           ],
           "sequentialminus": [
            [
             0,
             "#0d0887"
            ],
            [
             0.1111111111111111,
             "#46039f"
            ],
            [
             0.2222222222222222,
             "#7201a8"
            ],
            [
             0.3333333333333333,
             "#9c179e"
            ],
            [
             0.4444444444444444,
             "#bd3786"
            ],
            [
             0.5555555555555556,
             "#d8576b"
            ],
            [
             0.6666666666666666,
             "#ed7953"
            ],
            [
             0.7777777777777778,
             "#fb9f3a"
            ],
            [
             0.8888888888888888,
             "#fdca26"
            ],
            [
             1,
             "#f0f921"
            ]
           ]
          },
          "colorway": [
           "#636efa",
           "#EF553B",
           "#00cc96",
           "#ab63fa",
           "#FFA15A",
           "#19d3f3",
           "#FF6692",
           "#B6E880",
           "#FF97FF",
           "#FECB52"
          ],
          "font": {
           "color": "#f2f5fa"
          },
          "geo": {
           "bgcolor": "rgb(17,17,17)",
           "lakecolor": "rgb(17,17,17)",
           "landcolor": "rgb(17,17,17)",
           "showlakes": true,
           "showland": true,
           "subunitcolor": "#506784"
          },
          "hoverlabel": {
           "align": "left"
          },
          "hovermode": "closest",
          "mapbox": {
           "style": "dark"
          },
          "paper_bgcolor": "rgb(17,17,17)",
          "plot_bgcolor": "rgb(17,17,17)",
          "polar": {
           "angularaxis": {
            "gridcolor": "#506784",
            "linecolor": "#506784",
            "ticks": ""
           },
           "bgcolor": "rgb(17,17,17)",
           "radialaxis": {
            "gridcolor": "#506784",
            "linecolor": "#506784",
            "ticks": ""
           }
          },
          "scene": {
           "xaxis": {
            "backgroundcolor": "rgb(17,17,17)",
            "gridcolor": "#506784",
            "gridwidth": 2,
            "linecolor": "#506784",
            "showbackground": true,
            "ticks": "",
            "zerolinecolor": "#C8D4E3"
           },
           "yaxis": {
            "backgroundcolor": "rgb(17,17,17)",
            "gridcolor": "#506784",
            "gridwidth": 2,
            "linecolor": "#506784",
            "showbackground": true,
            "ticks": "",
            "zerolinecolor": "#C8D4E3"
           },
           "zaxis": {
            "backgroundcolor": "rgb(17,17,17)",
            "gridcolor": "#506784",
            "gridwidth": 2,
            "linecolor": "#506784",
            "showbackground": true,
            "ticks": "",
            "zerolinecolor": "#C8D4E3"
           }
          },
          "shapedefaults": {
           "line": {
            "color": "#f2f5fa"
           }
          },
          "sliderdefaults": {
           "bgcolor": "#C8D4E3",
           "bordercolor": "rgb(17,17,17)",
           "borderwidth": 1,
           "tickwidth": 0
          },
          "ternary": {
           "aaxis": {
            "gridcolor": "#506784",
            "linecolor": "#506784",
            "ticks": ""
           },
           "baxis": {
            "gridcolor": "#506784",
            "linecolor": "#506784",
            "ticks": ""
           },
           "bgcolor": "rgb(17,17,17)",
           "caxis": {
            "gridcolor": "#506784",
            "linecolor": "#506784",
            "ticks": ""
           }
          },
          "title": {
           "x": 0.05
          },
          "updatemenudefaults": {
           "bgcolor": "#506784",
           "borderwidth": 0
          },
          "xaxis": {
           "automargin": true,
           "gridcolor": "#283442",
           "linecolor": "#506784",
           "ticks": "",
           "title": {
            "standoff": 15
           },
           "zerolinecolor": "#283442",
           "zerolinewidth": 2
          },
          "yaxis": {
           "automargin": true,
           "gridcolor": "#283442",
           "linecolor": "#506784",
           "ticks": "",
           "title": {
            "standoff": 15
           },
           "zerolinecolor": "#283442",
           "zerolinewidth": 2
          }
         }
        },
        "title": {
         "font": {
          "size": 20
         },
         "text": "<b>Count vs Valence"
        },
        "width": 800,
        "xaxis": {
         "anchor": "y",
         "categoryarray": [
          0.334,
          0.931,
          0.513,
          0.446,
          0.129,
          0.913,
          0.37,
          0.661,
          0.125,
          0.666,
          0.749,
          0.6,
          0.531,
          0.494,
          0.486,
          0.562,
          0.591,
          0.218,
          0.707,
          0.12,
          0.557,
          0.357,
          0.22,
          0.228,
          0.398,
          0.323,
          0.662,
          0.515,
          0.553,
          0.473,
          0.437,
          0.331,
          0.259,
          0.327,
          0.43,
          0.394,
          0.648,
          0.401,
          0.477,
          0.608,
          0.643,
          0.51,
          0.472,
          0.421,
          0.243,
          0.137,
          0.219,
          0.688,
          0.492,
          0.592,
          0.163,
          0.274,
          0.747,
          0.863,
          0.341,
          0.184,
          0.159,
          0.894,
          0.0612,
          0.556,
          0.428,
          0.236,
          0.928,
          0.476,
          0.915,
          0.71,
          0.674,
          0.412,
          0.843,
          0.145,
          0.532,
          0.405,
          0.733,
          0.816,
          0.711,
          0.434,
          0.86,
          0.642,
          0.1,
          0.969,
          0.755,
          0.732,
          0.72,
          0.62,
          0.505,
          0.419,
          0.34,
          0.285,
          0.839
         ],
         "categoryorder": "array",
         "domain": [
          0,
          1
         ],
         "title": {
          "text": "valence"
         }
        },
        "yaxis": {
         "anchor": "x",
         "domain": [
          0,
          1
         ],
         "title": {
          "text": "count"
         }
        }
       }
      }
     },
     "metadata": {},
     "output_type": "display_data"
    }
   ],
   "source": [
    "Features_copy = Features.copy()\n",
    "Features_copy['valence'] = \\\n",
    "    Features_copy['valence'].fillna('Null')\n",
    "\n",
    "fig=px.histogram(Features_copy,\n",
    "                 x = 'valence',\n",
    "                 color = 'valence',\n",
    "                 title=\"<b>Count vs Valence\",\n",
    "                 color_discrete_sequence=px.colors.qualitative.Vivid,\n",
    "                 width=800, height=500)\n",
    "fig.update_layout(template=\"plotly_dark\")\n",
    "fig.update_layout(title_font_size=20)\n",
    "fig.show()"
   ]
  },
  {
   "cell_type": "code",
   "execution_count": 14,
   "metadata": {},
   "outputs": [
    {
     "data": {
      "application/vnd.plotly.v1+json": {
       "config": {
        "plotlyServerURL": "https://plot.ly"
       },
       "data": [
        {
         "alignmentgroup": "True",
         "bingroup": "x",
         "hovertemplate": "tempo=%{x}<br>count=%{y}<extra></extra>",
         "legendgroup": "171.005",
         "marker": {
          "color": "rgb(229, 134, 6)",
          "pattern": {
           "shape": ""
          }
         },
         "name": "171.005",
         "offsetgroup": "171.005",
         "orientation": "v",
         "showlegend": true,
         "type": "histogram",
         "x": [
          171.005
         ],
         "xaxis": "x",
         "yaxis": "y"
        },
        {
         "alignmentgroup": "True",
         "bingroup": "x",
         "hovertemplate": "tempo=%{x}<br>count=%{y}<extra></extra>",
         "legendgroup": "95.977",
         "marker": {
          "color": "rgb(93, 105, 177)",
          "pattern": {
           "shape": ""
          }
         },
         "name": "95.977",
         "offsetgroup": "95.977",
         "orientation": "v",
         "showlegend": true,
         "type": "histogram",
         "x": [
          95.977
         ],
         "xaxis": "x",
         "yaxis": "y"
        },
        {
         "alignmentgroup": "True",
         "bingroup": "x",
         "hovertemplate": "tempo=%{x}<br>count=%{y}<extra></extra>",
         "legendgroup": "98.027",
         "marker": {
          "color": "rgb(82, 188, 163)",
          "pattern": {
           "shape": ""
          }
         },
         "name": "98.027",
         "offsetgroup": "98.027",
         "orientation": "v",
         "showlegend": true,
         "type": "histogram",
         "x": [
          98.027
         ],
         "xaxis": "x",
         "yaxis": "y"
        },
        {
         "alignmentgroup": "True",
         "bingroup": "x",
         "hovertemplate": "tempo=%{x}<br>count=%{y}<extra></extra>",
         "legendgroup": "109.891",
         "marker": {
          "color": "rgb(153, 201, 69)",
          "pattern": {
           "shape": ""
          }
         },
         "name": "109.891",
         "offsetgroup": "109.891",
         "orientation": "v",
         "showlegend": true,
         "type": "histogram",
         "x": [
          109.891
         ],
         "xaxis": "x",
         "yaxis": "y"
        },
        {
         "alignmentgroup": "True",
         "bingroup": "x",
         "hovertemplate": "tempo=%{x}<br>count=%{y}<extra></extra>",
         "legendgroup": "159.801",
         "marker": {
          "color": "rgb(204, 97, 176)",
          "pattern": {
           "shape": ""
          }
         },
         "name": "159.801",
         "offsetgroup": "159.801",
         "orientation": "v",
         "showlegend": true,
         "type": "histogram",
         "x": [
          159.801
         ],
         "xaxis": "x",
         "yaxis": "y"
        },
        {
         "alignmentgroup": "True",
         "bingroup": "x",
         "hovertemplate": "tempo=%{x}<br>count=%{y}<extra></extra>",
         "legendgroup": "89.911",
         "marker": {
          "color": "rgb(36, 121, 108)",
          "pattern": {
           "shape": ""
          }
         },
         "name": "89.911",
         "offsetgroup": "89.911",
         "orientation": "v",
         "showlegend": true,
         "type": "histogram",
         "x": [
          89.911
         ],
         "xaxis": "x",
         "yaxis": "y"
        },
        {
         "alignmentgroup": "True",
         "bingroup": "x",
         "hovertemplate": "tempo=%{x}<br>count=%{y}<extra></extra>",
         "legendgroup": "103.967",
         "marker": {
          "color": "rgb(218, 165, 27)",
          "pattern": {
           "shape": ""
          }
         },
         "name": "103.967",
         "offsetgroup": "103.967",
         "orientation": "v",
         "showlegend": true,
         "type": "histogram",
         "x": [
          103.967
         ],
         "xaxis": "x",
         "yaxis": "y"
        },
        {
         "alignmentgroup": "True",
         "bingroup": "x",
         "hovertemplate": "tempo=%{x}<br>count=%{y}<extra></extra>",
         "legendgroup": "95.01",
         "marker": {
          "color": "rgb(47, 138, 196)",
          "pattern": {
           "shape": ""
          }
         },
         "name": "95.01",
         "offsetgroup": "95.01",
         "orientation": "v",
         "showlegend": true,
         "type": "histogram",
         "x": [
          95.01
         ],
         "xaxis": "x",
         "yaxis": "y"
        },
        {
         "alignmentgroup": "True",
         "bingroup": "x",
         "hovertemplate": "tempo=%{x}<br>count=%{y}<extra></extra>",
         "legendgroup": "111.893",
         "marker": {
          "color": "rgb(118, 78, 159)",
          "pattern": {
           "shape": ""
          }
         },
         "name": "111.893",
         "offsetgroup": "111.893",
         "orientation": "v",
         "showlegend": true,
         "type": "histogram",
         "x": [
          111.893
         ],
         "xaxis": "x",
         "yaxis": "y"
        },
        {
         "alignmentgroup": "True",
         "bingroup": "x",
         "hovertemplate": "tempo=%{x}<br>count=%{y}<extra></extra>",
         "legendgroup": "124.949",
         "marker": {
          "color": "rgb(237, 100, 90)",
          "pattern": {
           "shape": ""
          }
         },
         "name": "124.949",
         "offsetgroup": "124.949",
         "orientation": "v",
         "showlegend": true,
         "type": "histogram",
         "x": [
          124.949
         ],
         "xaxis": "x",
         "yaxis": "y"
        },
        {
         "alignmentgroup": "True",
         "bingroup": "x",
         "hovertemplate": "tempo=%{x}<br>count=%{y}<extra></extra>",
         "legendgroup": "116.967",
         "marker": {
          "color": "rgb(165, 170, 153)",
          "pattern": {
           "shape": ""
          }
         },
         "name": "116.967",
         "offsetgroup": "116.967",
         "orientation": "v",
         "showlegend": true,
         "type": "histogram",
         "x": [
          116.967
         ],
         "xaxis": "x",
         "yaxis": "y"
        },
        {
         "alignmentgroup": "True",
         "bingroup": "x",
         "hovertemplate": "tempo=%{x}<br>count=%{y}<extra></extra>",
         "legendgroup": "146.053",
         "marker": {
          "color": "rgb(229, 134, 6)",
          "pattern": {
           "shape": ""
          }
         },
         "name": "146.053",
         "offsetgroup": "146.053",
         "orientation": "v",
         "showlegend": true,
         "type": "histogram",
         "x": [
          146.053
         ],
         "xaxis": "x",
         "yaxis": "y"
        },
        {
         "alignmentgroup": "True",
         "bingroup": "x",
         "hovertemplate": "tempo=%{x}<br>count=%{y}<extra></extra>",
         "legendgroup": "80.87",
         "marker": {
          "color": "rgb(93, 105, 177)",
          "pattern": {
           "shape": ""
          }
         },
         "name": "80.87",
         "offsetgroup": "80.87",
         "orientation": "v",
         "showlegend": true,
         "type": "histogram",
         "x": [
          80.87
         ],
         "xaxis": "x",
         "yaxis": "y"
        },
        {
         "alignmentgroup": "True",
         "bingroup": "x",
         "hovertemplate": "tempo=%{x}<br>count=%{y}<extra></extra>",
         "legendgroup": "85.043",
         "marker": {
          "color": "rgb(82, 188, 163)",
          "pattern": {
           "shape": ""
          }
         },
         "name": "85.043",
         "offsetgroup": "85.043",
         "orientation": "v",
         "showlegend": true,
         "type": "histogram",
         "x": [
          85.043
         ],
         "xaxis": "x",
         "yaxis": "y"
        },
        {
         "alignmentgroup": "True",
         "bingroup": "x",
         "hovertemplate": "tempo=%{x}<br>count=%{y}<extra></extra>",
         "legendgroup": "186.003",
         "marker": {
          "color": "rgb(153, 201, 69)",
          "pattern": {
           "shape": ""
          }
         },
         "name": "186.003",
         "offsetgroup": "186.003",
         "orientation": "v",
         "showlegend": true,
         "type": "histogram",
         "x": [
          186.003
         ],
         "xaxis": "x",
         "yaxis": "y"
        },
        {
         "alignmentgroup": "True",
         "bingroup": "x",
         "hovertemplate": "tempo=%{x}<br>count=%{y}<extra></extra>",
         "legendgroup": "135.128",
         "marker": {
          "color": "rgb(204, 97, 176)",
          "pattern": {
           "shape": ""
          }
         },
         "name": "135.128",
         "offsetgroup": "135.128",
         "orientation": "v",
         "showlegend": true,
         "type": "histogram",
         "x": [
          135.128
         ],
         "xaxis": "x",
         "yaxis": "y"
        },
        {
         "alignmentgroup": "True",
         "bingroup": "x",
         "hovertemplate": "tempo=%{x}<br>count=%{y}<extra></extra>",
         "legendgroup": "78.997",
         "marker": {
          "color": "rgb(36, 121, 108)",
          "pattern": {
           "shape": ""
          }
         },
         "name": "78.997",
         "offsetgroup": "78.997",
         "orientation": "v",
         "showlegend": true,
         "type": "histogram",
         "x": [
          78.997
         ],
         "xaxis": "x",
         "yaxis": "y"
        },
        {
         "alignmentgroup": "True",
         "bingroup": "x",
         "hovertemplate": "tempo=%{x}<br>count=%{y}<extra></extra>",
         "legendgroup": "83.903",
         "marker": {
          "color": "rgb(218, 165, 27)",
          "pattern": {
           "shape": ""
          }
         },
         "name": "83.903",
         "offsetgroup": "83.903",
         "orientation": "v",
         "showlegend": true,
         "type": "histogram",
         "x": [
          83.903
         ],
         "xaxis": "x",
         "yaxis": "y"
        },
        {
         "alignmentgroup": "True",
         "bingroup": "x",
         "hovertemplate": "tempo=%{x}<br>count=%{y}<extra></extra>",
         "legendgroup": "78.775",
         "marker": {
          "color": "rgb(47, 138, 196)",
          "pattern": {
           "shape": ""
          }
         },
         "name": "78.775",
         "offsetgroup": "78.775",
         "orientation": "v",
         "showlegend": true,
         "type": "histogram",
         "x": [
          78.775
         ],
         "xaxis": "x",
         "yaxis": "y"
        },
        {
         "alignmentgroup": "True",
         "bingroup": "x",
         "hovertemplate": "tempo=%{x}<br>count=%{y}<extra></extra>",
         "legendgroup": "115.284",
         "marker": {
          "color": "rgb(118, 78, 159)",
          "pattern": {
           "shape": ""
          }
         },
         "name": "115.284",
         "offsetgroup": "115.284",
         "orientation": "v",
         "showlegend": true,
         "type": "histogram",
         "x": [
          115.284
         ],
         "xaxis": "x",
         "yaxis": "y"
        },
        {
         "alignmentgroup": "True",
         "bingroup": "x",
         "hovertemplate": "tempo=%{x}<br>count=%{y}<extra></extra>",
         "legendgroup": "95.39",
         "marker": {
          "color": "rgb(237, 100, 90)",
          "pattern": {
           "shape": ""
          }
         },
         "name": "95.39",
         "offsetgroup": "95.39",
         "orientation": "v",
         "showlegend": true,
         "type": "histogram",
         "x": [
          95.39,
          95.39
         ],
         "xaxis": "x",
         "yaxis": "y"
        },
        {
         "alignmentgroup": "True",
         "bingroup": "x",
         "hovertemplate": "tempo=%{x}<br>count=%{y}<extra></extra>",
         "legendgroup": "77.169",
         "marker": {
          "color": "rgb(165, 170, 153)",
          "pattern": {
           "shape": ""
          }
         },
         "name": "77.169",
         "offsetgroup": "77.169",
         "orientation": "v",
         "showlegend": true,
         "type": "histogram",
         "x": [
          77.169
         ],
         "xaxis": "x",
         "yaxis": "y"
        },
        {
         "alignmentgroup": "True",
         "bingroup": "x",
         "hovertemplate": "tempo=%{x}<br>count=%{y}<extra></extra>",
         "legendgroup": "108.033",
         "marker": {
          "color": "rgb(229, 134, 6)",
          "pattern": {
           "shape": ""
          }
         },
         "name": "108.033",
         "offsetgroup": "108.033",
         "orientation": "v",
         "showlegend": true,
         "type": "histogram",
         "x": [
          108.033
         ],
         "xaxis": "x",
         "yaxis": "y"
        },
        {
         "alignmentgroup": "True",
         "bingroup": "x",
         "hovertemplate": "tempo=%{x}<br>count=%{y}<extra></extra>",
         "legendgroup": "143.883",
         "marker": {
          "color": "rgb(93, 105, 177)",
          "pattern": {
           "shape": ""
          }
         },
         "name": "143.883",
         "offsetgroup": "143.883",
         "orientation": "v",
         "showlegend": true,
         "type": "histogram",
         "x": [
          143.883
         ],
         "xaxis": "x",
         "yaxis": "y"
        },
        {
         "alignmentgroup": "True",
         "bingroup": "x",
         "hovertemplate": "tempo=%{x}<br>count=%{y}<extra></extra>",
         "legendgroup": "103.019",
         "marker": {
          "color": "rgb(82, 188, 163)",
          "pattern": {
           "shape": ""
          }
         },
         "name": "103.019",
         "offsetgroup": "103.019",
         "orientation": "v",
         "showlegend": true,
         "type": "histogram",
         "x": [
          103.019
         ],
         "xaxis": "x",
         "yaxis": "y"
        },
        {
         "alignmentgroup": "True",
         "bingroup": "x",
         "hovertemplate": "tempo=%{x}<br>count=%{y}<extra></extra>",
         "legendgroup": "124.053",
         "marker": {
          "color": "rgb(153, 201, 69)",
          "pattern": {
           "shape": ""
          }
         },
         "name": "124.053",
         "offsetgroup": "124.053",
         "orientation": "v",
         "showlegend": true,
         "type": "histogram",
         "x": [
          124.053
         ],
         "xaxis": "x",
         "yaxis": "y"
        },
        {
         "alignmentgroup": "True",
         "bingroup": "x",
         "hovertemplate": "tempo=%{x}<br>count=%{y}<extra></extra>",
         "legendgroup": "95.799",
         "marker": {
          "color": "rgb(204, 97, 176)",
          "pattern": {
           "shape": ""
          }
         },
         "name": "95.799",
         "offsetgroup": "95.799",
         "orientation": "v",
         "showlegend": true,
         "type": "histogram",
         "x": [
          95.799
         ],
         "xaxis": "x",
         "yaxis": "y"
        },
        {
         "alignmentgroup": "True",
         "bingroup": "x",
         "hovertemplate": "tempo=%{x}<br>count=%{y}<extra></extra>",
         "legendgroup": "173.93",
         "marker": {
          "color": "rgb(36, 121, 108)",
          "pattern": {
           "shape": ""
          }
         },
         "name": "173.93",
         "offsetgroup": "173.93",
         "orientation": "v",
         "showlegend": true,
         "type": "histogram",
         "x": [
          173.93
         ],
         "xaxis": "x",
         "yaxis": "y"
        },
        {
         "alignmentgroup": "True",
         "bingroup": "x",
         "hovertemplate": "tempo=%{x}<br>count=%{y}<extra></extra>",
         "legendgroup": "100.418",
         "marker": {
          "color": "rgb(218, 165, 27)",
          "pattern": {
           "shape": ""
          }
         },
         "name": "100.418",
         "offsetgroup": "100.418",
         "orientation": "v",
         "showlegend": true,
         "type": "histogram",
         "x": [
          100.418
         ],
         "xaxis": "x",
         "yaxis": "y"
        },
        {
         "alignmentgroup": "True",
         "bingroup": "x",
         "hovertemplate": "tempo=%{x}<br>count=%{y}<extra></extra>",
         "legendgroup": "120.042",
         "marker": {
          "color": "rgb(47, 138, 196)",
          "pattern": {
           "shape": ""
          }
         },
         "name": "120.042",
         "offsetgroup": "120.042",
         "orientation": "v",
         "showlegend": true,
         "type": "histogram",
         "x": [
          120.042
         ],
         "xaxis": "x",
         "yaxis": "y"
        },
        {
         "alignmentgroup": "True",
         "bingroup": "x",
         "hovertemplate": "tempo=%{x}<br>count=%{y}<extra></extra>",
         "legendgroup": "75.023",
         "marker": {
          "color": "rgb(118, 78, 159)",
          "pattern": {
           "shape": ""
          }
         },
         "name": "75.023",
         "offsetgroup": "75.023",
         "orientation": "v",
         "showlegend": true,
         "type": "histogram",
         "x": [
          75.023
         ],
         "xaxis": "x",
         "yaxis": "y"
        },
        {
         "alignmentgroup": "True",
         "bingroup": "x",
         "hovertemplate": "tempo=%{x}<br>count=%{y}<extra></extra>",
         "legendgroup": "128.945",
         "marker": {
          "color": "rgb(237, 100, 90)",
          "pattern": {
           "shape": ""
          }
         },
         "name": "128.945",
         "offsetgroup": "128.945",
         "orientation": "v",
         "showlegend": true,
         "type": "histogram",
         "x": [
          128.945
         ],
         "xaxis": "x",
         "yaxis": "y"
        },
        {
         "alignmentgroup": "True",
         "bingroup": "x",
         "hovertemplate": "tempo=%{x}<br>count=%{y}<extra></extra>",
         "legendgroup": "119.93",
         "marker": {
          "color": "rgb(165, 170, 153)",
          "pattern": {
           "shape": ""
          }
         },
         "name": "119.93",
         "offsetgroup": "119.93",
         "orientation": "v",
         "showlegend": true,
         "type": "histogram",
         "x": [
          119.93
         ],
         "xaxis": "x",
         "yaxis": "y"
        },
        {
         "alignmentgroup": "True",
         "bingroup": "x",
         "hovertemplate": "tempo=%{x}<br>count=%{y}<extra></extra>",
         "legendgroup": "133.52",
         "marker": {
          "color": "rgb(229, 134, 6)",
          "pattern": {
           "shape": ""
          }
         },
         "name": "133.52",
         "offsetgroup": "133.52",
         "orientation": "v",
         "showlegend": true,
         "type": "histogram",
         "x": [
          133.52
         ],
         "xaxis": "x",
         "yaxis": "y"
        },
        {
         "alignmentgroup": "True",
         "bingroup": "x",
         "hovertemplate": "tempo=%{x}<br>count=%{y}<extra></extra>",
         "legendgroup": "140.048",
         "marker": {
          "color": "rgb(93, 105, 177)",
          "pattern": {
           "shape": ""
          }
         },
         "name": "140.048",
         "offsetgroup": "140.048",
         "orientation": "v",
         "showlegend": true,
         "type": "histogram",
         "x": [
          140.048
         ],
         "xaxis": "x",
         "yaxis": "y"
        },
        {
         "alignmentgroup": "True",
         "bingroup": "x",
         "hovertemplate": "tempo=%{x}<br>count=%{y}<extra></extra>",
         "legendgroup": "130.049",
         "marker": {
          "color": "rgb(82, 188, 163)",
          "pattern": {
           "shape": ""
          }
         },
         "name": "130.049",
         "offsetgroup": "130.049",
         "orientation": "v",
         "showlegend": true,
         "type": "histogram",
         "x": [
          130.049
         ],
         "xaxis": "x",
         "yaxis": "y"
        },
        {
         "alignmentgroup": "True",
         "bingroup": "x",
         "hovertemplate": "tempo=%{x}<br>count=%{y}<extra></extra>",
         "legendgroup": "134.021",
         "marker": {
          "color": "rgb(153, 201, 69)",
          "pattern": {
           "shape": ""
          }
         },
         "name": "134.021",
         "offsetgroup": "134.021",
         "orientation": "v",
         "showlegend": true,
         "type": "histogram",
         "x": [
          134.021
         ],
         "xaxis": "x",
         "yaxis": "y"
        },
        {
         "alignmentgroup": "True",
         "bingroup": "x",
         "hovertemplate": "tempo=%{x}<br>count=%{y}<extra></extra>",
         "legendgroup": "104.988",
         "marker": {
          "color": "rgb(204, 97, 176)",
          "pattern": {
           "shape": ""
          }
         },
         "name": "104.988",
         "offsetgroup": "104.988",
         "orientation": "v",
         "showlegend": true,
         "type": "histogram",
         "x": [
          104.988
         ],
         "xaxis": "x",
         "yaxis": "y"
        },
        {
         "alignmentgroup": "True",
         "bingroup": "x",
         "hovertemplate": "tempo=%{x}<br>count=%{y}<extra></extra>",
         "legendgroup": "169.977",
         "marker": {
          "color": "rgb(36, 121, 108)",
          "pattern": {
           "shape": ""
          }
         },
         "name": "169.977",
         "offsetgroup": "169.977",
         "orientation": "v",
         "showlegend": true,
         "type": "histogram",
         "x": [
          169.977
         ],
         "xaxis": "x",
         "yaxis": "y"
        },
        {
         "alignmentgroup": "True",
         "bingroup": "x",
         "hovertemplate": "tempo=%{x}<br>count=%{y}<extra></extra>",
         "legendgroup": "155.096",
         "marker": {
          "color": "rgb(218, 165, 27)",
          "pattern": {
           "shape": ""
          }
         },
         "name": "155.096",
         "offsetgroup": "155.096",
         "orientation": "v",
         "showlegend": true,
         "type": "histogram",
         "x": [
          155.096
         ],
         "xaxis": "x",
         "yaxis": "y"
        },
        {
         "alignmentgroup": "True",
         "bingroup": "x",
         "hovertemplate": "tempo=%{x}<br>count=%{y}<extra></extra>",
         "legendgroup": "122.017",
         "marker": {
          "color": "rgb(47, 138, 196)",
          "pattern": {
           "shape": ""
          }
         },
         "name": "122.017",
         "offsetgroup": "122.017",
         "orientation": "v",
         "showlegend": true,
         "type": "histogram",
         "x": [
          122.017
         ],
         "xaxis": "x",
         "yaxis": "y"
        },
        {
         "alignmentgroup": "True",
         "bingroup": "x",
         "hovertemplate": "tempo=%{x}<br>count=%{y}<extra></extra>",
         "legendgroup": "116.078",
         "marker": {
          "color": "rgb(118, 78, 159)",
          "pattern": {
           "shape": ""
          }
         },
         "name": "116.078",
         "offsetgroup": "116.078",
         "orientation": "v",
         "showlegend": true,
         "type": "histogram",
         "x": [
          116.078
         ],
         "xaxis": "x",
         "yaxis": "y"
        },
        {
         "alignmentgroup": "True",
         "bingroup": "x",
         "hovertemplate": "tempo=%{x}<br>count=%{y}<extra></extra>",
         "legendgroup": "124.08",
         "marker": {
          "color": "rgb(237, 100, 90)",
          "pattern": {
           "shape": ""
          }
         },
         "name": "124.08",
         "offsetgroup": "124.08",
         "orientation": "v",
         "showlegend": true,
         "type": "histogram",
         "x": [
          124.08
         ],
         "xaxis": "x",
         "yaxis": "y"
        },
        {
         "alignmentgroup": "True",
         "bingroup": "x",
         "hovertemplate": "tempo=%{x}<br>count=%{y}<extra></extra>",
         "legendgroup": "101.654",
         "marker": {
          "color": "rgb(165, 170, 153)",
          "pattern": {
           "shape": ""
          }
         },
         "name": "101.654",
         "offsetgroup": "101.654",
         "orientation": "v",
         "showlegend": true,
         "type": "histogram",
         "x": [
          101.654
         ],
         "xaxis": "x",
         "yaxis": "y"
        },
        {
         "alignmentgroup": "True",
         "bingroup": "x",
         "hovertemplate": "tempo=%{x}<br>count=%{y}<extra></extra>",
         "legendgroup": "100.964",
         "marker": {
          "color": "rgb(229, 134, 6)",
          "pattern": {
           "shape": ""
          }
         },
         "name": "100.964",
         "offsetgroup": "100.964",
         "orientation": "v",
         "showlegend": true,
         "type": "histogram",
         "x": [
          100.964
         ],
         "xaxis": "x",
         "yaxis": "y"
        },
        {
         "alignmentgroup": "True",
         "bingroup": "x",
         "hovertemplate": "tempo=%{x}<br>count=%{y}<extra></extra>",
         "legendgroup": "150.011",
         "marker": {
          "color": "rgb(93, 105, 177)",
          "pattern": {
           "shape": ""
          }
         },
         "name": "150.011",
         "offsetgroup": "150.011",
         "orientation": "v",
         "showlegend": true,
         "type": "histogram",
         "x": [
          150.011
         ],
         "xaxis": "x",
         "yaxis": "y"
        },
        {
         "alignmentgroup": "True",
         "bingroup": "x",
         "hovertemplate": "tempo=%{x}<br>count=%{y}<extra></extra>",
         "legendgroup": "74.897",
         "marker": {
          "color": "rgb(82, 188, 163)",
          "pattern": {
           "shape": ""
          }
         },
         "name": "74.897",
         "offsetgroup": "74.897",
         "orientation": "v",
         "showlegend": true,
         "type": "histogram",
         "x": [
          74.897
         ],
         "xaxis": "x",
         "yaxis": "y"
        },
        {
         "alignmentgroup": "True",
         "bingroup": "x",
         "hovertemplate": "tempo=%{x}<br>count=%{y}<extra></extra>",
         "legendgroup": "113.003",
         "marker": {
          "color": "rgb(153, 201, 69)",
          "pattern": {
           "shape": ""
          }
         },
         "name": "113.003",
         "offsetgroup": "113.003",
         "orientation": "v",
         "showlegend": true,
         "type": "histogram",
         "x": [
          113.003
         ],
         "xaxis": "x",
         "yaxis": "y"
        },
        {
         "alignmentgroup": "True",
         "bingroup": "x",
         "hovertemplate": "tempo=%{x}<br>count=%{y}<extra></extra>",
         "legendgroup": "155.008",
         "marker": {
          "color": "rgb(204, 97, 176)",
          "pattern": {
           "shape": ""
          }
         },
         "name": "155.008",
         "offsetgroup": "155.008",
         "orientation": "v",
         "showlegend": true,
         "type": "histogram",
         "x": [
          155.008
         ],
         "xaxis": "x",
         "yaxis": "y"
        },
        {
         "alignmentgroup": "True",
         "bingroup": "x",
         "hovertemplate": "tempo=%{x}<br>count=%{y}<extra></extra>",
         "legendgroup": "128.044",
         "marker": {
          "color": "rgb(36, 121, 108)",
          "pattern": {
           "shape": ""
          }
         },
         "name": "128.044",
         "offsetgroup": "128.044",
         "orientation": "v",
         "showlegend": true,
         "type": "histogram",
         "x": [
          128.044
         ],
         "xaxis": "x",
         "yaxis": "y"
        },
        {
         "alignmentgroup": "True",
         "bingroup": "x",
         "hovertemplate": "tempo=%{x}<br>count=%{y}<extra></extra>",
         "legendgroup": "166.928",
         "marker": {
          "color": "rgb(218, 165, 27)",
          "pattern": {
           "shape": ""
          }
         },
         "name": "166.928",
         "offsetgroup": "166.928",
         "orientation": "v",
         "showlegend": true,
         "type": "histogram",
         "x": [
          166.928
         ],
         "xaxis": "x",
         "yaxis": "y"
        },
        {
         "alignmentgroup": "True",
         "bingroup": "x",
         "hovertemplate": "tempo=%{x}<br>count=%{y}<extra></extra>",
         "legendgroup": "141.961",
         "marker": {
          "color": "rgb(47, 138, 196)",
          "pattern": {
           "shape": ""
          }
         },
         "name": "141.961",
         "offsetgroup": "141.961",
         "orientation": "v",
         "showlegend": true,
         "type": "histogram",
         "x": [
          141.961
         ],
         "xaxis": "x",
         "yaxis": "y"
        },
        {
         "alignmentgroup": "True",
         "bingroup": "x",
         "hovertemplate": "tempo=%{x}<br>count=%{y}<extra></extra>",
         "legendgroup": "123.994",
         "marker": {
          "color": "rgb(118, 78, 159)",
          "pattern": {
           "shape": ""
          }
         },
         "name": "123.994",
         "offsetgroup": "123.994",
         "orientation": "v",
         "showlegend": true,
         "type": "histogram",
         "x": [
          123.994
         ],
         "xaxis": "x",
         "yaxis": "y"
        },
        {
         "alignmentgroup": "True",
         "bingroup": "x",
         "hovertemplate": "tempo=%{x}<br>count=%{y}<extra></extra>",
         "legendgroup": "99.988",
         "marker": {
          "color": "rgb(237, 100, 90)",
          "pattern": {
           "shape": ""
          }
         },
         "name": "99.988",
         "offsetgroup": "99.988",
         "orientation": "v",
         "showlegend": true,
         "type": "histogram",
         "x": [
          99.988
         ],
         "xaxis": "x",
         "yaxis": "y"
        },
        {
         "alignmentgroup": "True",
         "bingroup": "x",
         "hovertemplate": "tempo=%{x}<br>count=%{y}<extra></extra>",
         "legendgroup": "143.875",
         "marker": {
          "color": "rgb(165, 170, 153)",
          "pattern": {
           "shape": ""
          }
         },
         "name": "143.875",
         "offsetgroup": "143.875",
         "orientation": "v",
         "showlegend": true,
         "type": "histogram",
         "x": [
          143.875
         ],
         "xaxis": "x",
         "yaxis": "y"
        },
        {
         "alignmentgroup": "True",
         "bingroup": "x",
         "hovertemplate": "tempo=%{x}<br>count=%{y}<extra></extra>",
         "legendgroup": "98.007",
         "marker": {
          "color": "rgb(229, 134, 6)",
          "pattern": {
           "shape": ""
          }
         },
         "name": "98.007",
         "offsetgroup": "98.007",
         "orientation": "v",
         "showlegend": true,
         "type": "histogram",
         "x": [
          98.007
         ],
         "xaxis": "x",
         "yaxis": "y"
        },
        {
         "alignmentgroup": "True",
         "bingroup": "x",
         "hovertemplate": "tempo=%{x}<br>count=%{y}<extra></extra>",
         "legendgroup": "82.695",
         "marker": {
          "color": "rgb(93, 105, 177)",
          "pattern": {
           "shape": ""
          }
         },
         "name": "82.695",
         "offsetgroup": "82.695",
         "orientation": "v",
         "showlegend": true,
         "type": "histogram",
         "x": [
          82.695
         ],
         "xaxis": "x",
         "yaxis": "y"
        },
        {
         "alignmentgroup": "True",
         "bingroup": "x",
         "hovertemplate": "tempo=%{x}<br>count=%{y}<extra></extra>",
         "legendgroup": "121.955",
         "marker": {
          "color": "rgb(82, 188, 163)",
          "pattern": {
           "shape": ""
          }
         },
         "name": "121.955",
         "offsetgroup": "121.955",
         "orientation": "v",
         "showlegend": true,
         "type": "histogram",
         "x": [
          121.955
         ],
         "xaxis": "x",
         "yaxis": "y"
        },
        {
         "alignmentgroup": "True",
         "bingroup": "x",
         "hovertemplate": "tempo=%{x}<br>count=%{y}<extra></extra>",
         "legendgroup": "145.038",
         "marker": {
          "color": "rgb(153, 201, 69)",
          "pattern": {
           "shape": ""
          }
         },
         "name": "145.038",
         "offsetgroup": "145.038",
         "orientation": "v",
         "showlegend": true,
         "type": "histogram",
         "x": [
          145.038
         ],
         "xaxis": "x",
         "yaxis": "y"
        },
        {
         "alignmentgroup": "True",
         "bingroup": "x",
         "hovertemplate": "tempo=%{x}<br>count=%{y}<extra></extra>",
         "legendgroup": "84.094",
         "marker": {
          "color": "rgb(204, 97, 176)",
          "pattern": {
           "shape": ""
          }
         },
         "name": "84.094",
         "offsetgroup": "84.094",
         "orientation": "v",
         "showlegend": true,
         "type": "histogram",
         "x": [
          84.094
         ],
         "xaxis": "x",
         "yaxis": "y"
        },
        {
         "alignmentgroup": "True",
         "bingroup": "x",
         "hovertemplate": "tempo=%{x}<br>count=%{y}<extra></extra>",
         "legendgroup": "123.146",
         "marker": {
          "color": "rgb(36, 121, 108)",
          "pattern": {
           "shape": ""
          }
         },
         "name": "123.146",
         "offsetgroup": "123.146",
         "orientation": "v",
         "showlegend": true,
         "type": "histogram",
         "x": [
          123.146
         ],
         "xaxis": "x",
         "yaxis": "y"
        },
        {
         "alignmentgroup": "True",
         "bingroup": "x",
         "hovertemplate": "tempo=%{x}<br>count=%{y}<extra></extra>",
         "legendgroup": "179.642",
         "marker": {
          "color": "rgb(218, 165, 27)",
          "pattern": {
           "shape": ""
          }
         },
         "name": "179.642",
         "offsetgroup": "179.642",
         "orientation": "v",
         "showlegend": true,
         "type": "histogram",
         "x": [
          179.642
         ],
         "xaxis": "x",
         "yaxis": "y"
        },
        {
         "alignmentgroup": "True",
         "bingroup": "x",
         "hovertemplate": "tempo=%{x}<br>count=%{y}<extra></extra>",
         "legendgroup": "112.238",
         "marker": {
          "color": "rgb(47, 138, 196)",
          "pattern": {
           "shape": ""
          }
         },
         "name": "112.238",
         "offsetgroup": "112.238",
         "orientation": "v",
         "showlegend": true,
         "type": "histogram",
         "x": [
          112.238
         ],
         "xaxis": "x",
         "yaxis": "y"
        },
        {
         "alignmentgroup": "True",
         "bingroup": "x",
         "hovertemplate": "tempo=%{x}<br>count=%{y}<extra></extra>",
         "legendgroup": "149.995",
         "marker": {
          "color": "rgb(118, 78, 159)",
          "pattern": {
           "shape": ""
          }
         },
         "name": "149.995",
         "offsetgroup": "149.995",
         "orientation": "v",
         "showlegend": true,
         "type": "histogram",
         "x": [
          149.995
         ],
         "xaxis": "x",
         "yaxis": "y"
        },
        {
         "alignmentgroup": "True",
         "bingroup": "x",
         "hovertemplate": "tempo=%{x}<br>count=%{y}<extra></extra>",
         "legendgroup": "171.374",
         "marker": {
          "color": "rgb(237, 100, 90)",
          "pattern": {
           "shape": ""
          }
         },
         "name": "171.374",
         "offsetgroup": "171.374",
         "orientation": "v",
         "showlegend": true,
         "type": "histogram",
         "x": [
          171.374
         ],
         "xaxis": "x",
         "yaxis": "y"
        },
        {
         "alignmentgroup": "True",
         "bingroup": "x",
         "hovertemplate": "tempo=%{x}<br>count=%{y}<extra></extra>",
         "legendgroup": "112.969",
         "marker": {
          "color": "rgb(165, 170, 153)",
          "pattern": {
           "shape": ""
          }
         },
         "name": "112.969",
         "offsetgroup": "112.969",
         "orientation": "v",
         "showlegend": true,
         "type": "histogram",
         "x": [
          112.969
         ],
         "xaxis": "x",
         "yaxis": "y"
        },
        {
         "alignmentgroup": "True",
         "bingroup": "x",
         "hovertemplate": "tempo=%{x}<br>count=%{y}<extra></extra>",
         "legendgroup": "89.938",
         "marker": {
          "color": "rgb(229, 134, 6)",
          "pattern": {
           "shape": ""
          }
         },
         "name": "89.938",
         "offsetgroup": "89.938",
         "orientation": "v",
         "showlegend": true,
         "type": "histogram",
         "x": [
          89.938
         ],
         "xaxis": "x",
         "yaxis": "y"
        },
        {
         "alignmentgroup": "True",
         "bingroup": "x",
         "hovertemplate": "tempo=%{x}<br>count=%{y}<extra></extra>",
         "legendgroup": "148.033",
         "marker": {
          "color": "rgb(93, 105, 177)",
          "pattern": {
           "shape": ""
          }
         },
         "name": "148.033",
         "offsetgroup": "148.033",
         "orientation": "v",
         "showlegend": true,
         "type": "histogram",
         "x": [
          148.033
         ],
         "xaxis": "x",
         "yaxis": "y"
        },
        {
         "alignmentgroup": "True",
         "bingroup": "x",
         "hovertemplate": "tempo=%{x}<br>count=%{y}<extra></extra>",
         "legendgroup": "114.988",
         "marker": {
          "color": "rgb(82, 188, 163)",
          "pattern": {
           "shape": ""
          }
         },
         "name": "114.988",
         "offsetgroup": "114.988",
         "orientation": "v",
         "showlegend": true,
         "type": "histogram",
         "x": [
          114.988
         ],
         "xaxis": "x",
         "yaxis": "y"
        },
        {
         "alignmentgroup": "True",
         "bingroup": "x",
         "hovertemplate": "tempo=%{x}<br>count=%{y}<extra></extra>",
         "legendgroup": "91.873",
         "marker": {
          "color": "rgb(153, 201, 69)",
          "pattern": {
           "shape": ""
          }
         },
         "name": "91.873",
         "offsetgroup": "91.873",
         "orientation": "v",
         "showlegend": true,
         "type": "histogram",
         "x": [
          91.873
         ],
         "xaxis": "x",
         "yaxis": "y"
        },
        {
         "alignmentgroup": "True",
         "bingroup": "x",
         "hovertemplate": "tempo=%{x}<br>count=%{y}<extra></extra>",
         "legendgroup": "102.977",
         "marker": {
          "color": "rgb(204, 97, 176)",
          "pattern": {
           "shape": ""
          }
         },
         "name": "102.977",
         "offsetgroup": "102.977",
         "orientation": "v",
         "showlegend": true,
         "type": "histogram",
         "x": [
          102.977
         ],
         "xaxis": "x",
         "yaxis": "y"
        },
        {
         "alignmentgroup": "True",
         "bingroup": "x",
         "hovertemplate": "tempo=%{x}<br>count=%{y}<extra></extra>",
         "legendgroup": "101.969",
         "marker": {
          "color": "rgb(36, 121, 108)",
          "pattern": {
           "shape": ""
          }
         },
         "name": "101.969",
         "offsetgroup": "101.969",
         "orientation": "v",
         "showlegend": true,
         "type": "histogram",
         "x": [
          101.969
         ],
         "xaxis": "x",
         "yaxis": "y"
        },
        {
         "alignmentgroup": "True",
         "bingroup": "x",
         "hovertemplate": "tempo=%{x}<br>count=%{y}<extra></extra>",
         "legendgroup": "163.347",
         "marker": {
          "color": "rgb(218, 165, 27)",
          "pattern": {
           "shape": ""
          }
         },
         "name": "163.347",
         "offsetgroup": "163.347",
         "orientation": "v",
         "showlegend": true,
         "type": "histogram",
         "x": [
          163.347
         ],
         "xaxis": "x",
         "yaxis": "y"
        },
        {
         "alignmentgroup": "True",
         "bingroup": "x",
         "hovertemplate": "tempo=%{x}<br>count=%{y}<extra></extra>",
         "legendgroup": "106.966",
         "marker": {
          "color": "rgb(47, 138, 196)",
          "pattern": {
           "shape": ""
          }
         },
         "name": "106.966",
         "offsetgroup": "106.966",
         "orientation": "v",
         "showlegend": true,
         "type": "histogram",
         "x": [
          106.966
         ],
         "xaxis": "x",
         "yaxis": "y"
        },
        {
         "alignmentgroup": "True",
         "bingroup": "x",
         "hovertemplate": "tempo=%{x}<br>count=%{y}<extra></extra>",
         "legendgroup": "101.956",
         "marker": {
          "color": "rgb(118, 78, 159)",
          "pattern": {
           "shape": ""
          }
         },
         "name": "101.956",
         "offsetgroup": "101.956",
         "orientation": "v",
         "showlegend": true,
         "type": "histogram",
         "x": [
          101.956
         ],
         "xaxis": "x",
         "yaxis": "y"
        },
        {
         "alignmentgroup": "True",
         "bingroup": "x",
         "hovertemplate": "tempo=%{x}<br>count=%{y}<extra></extra>",
         "legendgroup": "109.928",
         "marker": {
          "color": "rgb(237, 100, 90)",
          "pattern": {
           "shape": ""
          }
         },
         "name": "109.928",
         "offsetgroup": "109.928",
         "orientation": "v",
         "showlegend": true,
         "type": "histogram",
         "x": [
          109.928
         ],
         "xaxis": "x",
         "yaxis": "y"
        },
        {
         "alignmentgroup": "True",
         "bingroup": "x",
         "hovertemplate": "tempo=%{x}<br>count=%{y}<extra></extra>",
         "legendgroup": "178.781",
         "marker": {
          "color": "rgb(165, 170, 153)",
          "pattern": {
           "shape": ""
          }
         },
         "name": "178.781",
         "offsetgroup": "178.781",
         "orientation": "v",
         "showlegend": true,
         "type": "histogram",
         "x": [
          178.781
         ],
         "xaxis": "x",
         "yaxis": "y"
        },
        {
         "alignmentgroup": "True",
         "bingroup": "x",
         "hovertemplate": "tempo=%{x}<br>count=%{y}<extra></extra>",
         "legendgroup": "141.059",
         "marker": {
          "color": "rgb(229, 134, 6)",
          "pattern": {
           "shape": ""
          }
         },
         "name": "141.059",
         "offsetgroup": "141.059",
         "orientation": "v",
         "showlegend": true,
         "type": "histogram",
         "x": [
          141.059
         ],
         "xaxis": "x",
         "yaxis": "y"
        },
        {
         "alignmentgroup": "True",
         "bingroup": "x",
         "hovertemplate": "tempo=%{x}<br>count=%{y}<extra></extra>",
         "legendgroup": "85.03",
         "marker": {
          "color": "rgb(93, 105, 177)",
          "pattern": {
           "shape": ""
          }
         },
         "name": "85.03",
         "offsetgroup": "85.03",
         "orientation": "v",
         "showlegend": true,
         "type": "histogram",
         "x": [
          85.03
         ],
         "xaxis": "x",
         "yaxis": "y"
        },
        {
         "alignmentgroup": "True",
         "bingroup": "x",
         "hovertemplate": "tempo=%{x}<br>count=%{y}<extra></extra>",
         "legendgroup": "97.985",
         "marker": {
          "color": "rgb(82, 188, 163)",
          "pattern": {
           "shape": ""
          }
         },
         "name": "97.985",
         "offsetgroup": "97.985",
         "orientation": "v",
         "showlegend": true,
         "type": "histogram",
         "x": [
          97.985
         ],
         "xaxis": "x",
         "yaxis": "y"
        },
        {
         "alignmentgroup": "True",
         "bingroup": "x",
         "hovertemplate": "tempo=%{x}<br>count=%{y}<extra></extra>",
         "legendgroup": "119.975",
         "marker": {
          "color": "rgb(153, 201, 69)",
          "pattern": {
           "shape": ""
          }
         },
         "name": "119.975",
         "offsetgroup": "119.975",
         "orientation": "v",
         "showlegend": true,
         "type": "histogram",
         "x": [
          119.975
         ],
         "xaxis": "x",
         "yaxis": "y"
        },
        {
         "alignmentgroup": "True",
         "bingroup": "x",
         "hovertemplate": "tempo=%{x}<br>count=%{y}<extra></extra>",
         "legendgroup": "178.085",
         "marker": {
          "color": "rgb(204, 97, 176)",
          "pattern": {
           "shape": ""
          }
         },
         "name": "178.085",
         "offsetgroup": "178.085",
         "orientation": "v",
         "showlegend": true,
         "type": "histogram",
         "x": [
          178.085
         ],
         "xaxis": "x",
         "yaxis": "y"
        },
        {
         "alignmentgroup": "True",
         "bingroup": "x",
         "hovertemplate": "tempo=%{x}<br>count=%{y}<extra></extra>",
         "legendgroup": "128.009",
         "marker": {
          "color": "rgb(36, 121, 108)",
          "pattern": {
           "shape": ""
          }
         },
         "name": "128.009",
         "offsetgroup": "128.009",
         "orientation": "v",
         "showlegend": true,
         "type": "histogram",
         "x": [
          128.009
         ],
         "xaxis": "x",
         "yaxis": "y"
        },
        {
         "alignmentgroup": "True",
         "bingroup": "x",
         "hovertemplate": "tempo=%{x}<br>count=%{y}<extra></extra>",
         "legendgroup": "174.323",
         "marker": {
          "color": "rgb(218, 165, 27)",
          "pattern": {
           "shape": ""
          }
         },
         "name": "174.323",
         "offsetgroup": "174.323",
         "orientation": "v",
         "showlegend": true,
         "type": "histogram",
         "x": [
          174.323
         ],
         "xaxis": "x",
         "yaxis": "y"
        },
        {
         "alignmentgroup": "True",
         "bingroup": "x",
         "hovertemplate": "tempo=%{x}<br>count=%{y}<extra></extra>",
         "legendgroup": "100.028",
         "marker": {
          "color": "rgb(47, 138, 196)",
          "pattern": {
           "shape": ""
          }
         },
         "name": "100.028",
         "offsetgroup": "100.028",
         "orientation": "v",
         "showlegend": true,
         "type": "histogram",
         "x": [
          100.028
         ],
         "xaxis": "x",
         "yaxis": "y"
        },
        {
         "alignmentgroup": "True",
         "bingroup": "x",
         "hovertemplate": "tempo=%{x}<br>count=%{y}<extra></extra>",
         "legendgroup": "134.066",
         "marker": {
          "color": "rgb(118, 78, 159)",
          "pattern": {
           "shape": ""
          }
         },
         "name": "134.066",
         "offsetgroup": "134.066",
         "orientation": "v",
         "showlegend": true,
         "type": "histogram",
         "x": [
          134.066
         ],
         "xaxis": "x",
         "yaxis": "y"
        },
        {
         "alignmentgroup": "True",
         "bingroup": "x",
         "hovertemplate": "tempo=%{x}<br>count=%{y}<extra></extra>",
         "legendgroup": "116.971",
         "marker": {
          "color": "rgb(237, 100, 90)",
          "pattern": {
           "shape": ""
          }
         },
         "name": "116.971",
         "offsetgroup": "116.971",
         "orientation": "v",
         "showlegend": true,
         "type": "histogram",
         "x": [
          116.971
         ],
         "xaxis": "x",
         "yaxis": "y"
        },
        {
         "alignmentgroup": "True",
         "bingroup": "x",
         "hovertemplate": "tempo=%{x}<br>count=%{y}<extra></extra>",
         "legendgroup": "171.447",
         "marker": {
          "color": "rgb(165, 170, 153)",
          "pattern": {
           "shape": ""
          }
         },
         "name": "171.447",
         "offsetgroup": "171.447",
         "orientation": "v",
         "showlegend": true,
         "type": "histogram",
         "x": [
          171.447
         ],
         "xaxis": "x",
         "yaxis": "y"
        },
        {
         "alignmentgroup": "True",
         "bingroup": "x",
         "hovertemplate": "tempo=%{x}<br>count=%{y}<extra></extra>",
         "legendgroup": "121.998",
         "marker": {
          "color": "rgb(229, 134, 6)",
          "pattern": {
           "shape": ""
          }
         },
         "name": "121.998",
         "offsetgroup": "121.998",
         "orientation": "v",
         "showlegend": true,
         "type": "histogram",
         "x": [
          121.998
         ],
         "xaxis": "x",
         "yaxis": "y"
        },
        {
         "alignmentgroup": "True",
         "bingroup": "x",
         "hovertemplate": "tempo=%{x}<br>count=%{y}<extra></extra>",
         "legendgroup": "149.789",
         "marker": {
          "color": "rgb(93, 105, 177)",
          "pattern": {
           "shape": ""
          }
         },
         "name": "149.789",
         "offsetgroup": "149.789",
         "orientation": "v",
         "showlegend": true,
         "type": "histogram",
         "x": [
          149.789
         ],
         "xaxis": "x",
         "yaxis": "y"
        },
        {
         "alignmentgroup": "True",
         "bingroup": "x",
         "hovertemplate": "tempo=%{x}<br>count=%{y}<extra></extra>",
         "legendgroup": "89.976",
         "marker": {
          "color": "rgb(82, 188, 163)",
          "pattern": {
           "shape": ""
          }
         },
         "name": "89.976",
         "offsetgroup": "89.976",
         "orientation": "v",
         "showlegend": true,
         "type": "histogram",
         "x": [
          89.976
         ],
         "xaxis": "x",
         "yaxis": "y"
        },
        {
         "alignmentgroup": "True",
         "bingroup": "x",
         "hovertemplate": "tempo=%{x}<br>count=%{y}<extra></extra>",
         "legendgroup": "116.761",
         "marker": {
          "color": "rgb(153, 201, 69)",
          "pattern": {
           "shape": ""
          }
         },
         "name": "116.761",
         "offsetgroup": "116.761",
         "orientation": "v",
         "showlegend": true,
         "type": "histogram",
         "x": [
          116.761
         ],
         "xaxis": "x",
         "yaxis": "y"
        },
        {
         "alignmentgroup": "True",
         "bingroup": "x",
         "hovertemplate": "tempo=%{x}<br>count=%{y}<extra></extra>",
         "legendgroup": "78.558",
         "marker": {
          "color": "rgb(204, 97, 176)",
          "pattern": {
           "shape": ""
          }
         },
         "name": "78.558",
         "offsetgroup": "78.558",
         "orientation": "v",
         "showlegend": true,
         "type": "histogram",
         "x": [
          78.558
         ],
         "xaxis": "x",
         "yaxis": "y"
        },
        {
         "alignmentgroup": "True",
         "bingroup": "x",
         "hovertemplate": "tempo=%{x}<br>count=%{y}<extra></extra>",
         "legendgroup": "94.875",
         "marker": {
          "color": "rgb(36, 121, 108)",
          "pattern": {
           "shape": ""
          }
         },
         "name": "94.875",
         "offsetgroup": "94.875",
         "orientation": "v",
         "showlegend": true,
         "type": "histogram",
         "x": [
          94.875
         ],
         "xaxis": "x",
         "yaxis": "y"
        },
        {
         "alignmentgroup": "True",
         "bingroup": "x",
         "hovertemplate": "tempo=%{x}<br>count=%{y}<extra></extra>",
         "legendgroup": "91.972",
         "marker": {
          "color": "rgb(218, 165, 27)",
          "pattern": {
           "shape": ""
          }
         },
         "name": "91.972",
         "offsetgroup": "91.972",
         "orientation": "v",
         "showlegend": true,
         "type": "histogram",
         "x": [
          91.972
         ],
         "xaxis": "x",
         "yaxis": "y"
        },
        {
         "alignmentgroup": "True",
         "bingroup": "x",
         "hovertemplate": "tempo=%{x}<br>count=%{y}<extra></extra>",
         "legendgroup": "119.992",
         "marker": {
          "color": "rgb(47, 138, 196)",
          "pattern": {
           "shape": ""
          }
         },
         "name": "119.992",
         "offsetgroup": "119.992",
         "orientation": "v",
         "showlegend": true,
         "type": "histogram",
         "x": [
          119.992
         ],
         "xaxis": "x",
         "yaxis": "y"
        },
        {
         "alignmentgroup": "True",
         "bingroup": "x",
         "hovertemplate": "tempo=%{x}<br>count=%{y}<extra></extra>",
         "legendgroup": "173.372",
         "marker": {
          "color": "rgb(118, 78, 159)",
          "pattern": {
           "shape": ""
          }
         },
         "name": "173.372",
         "offsetgroup": "173.372",
         "orientation": "v",
         "showlegend": true,
         "type": "histogram",
         "x": [
          173.372
         ],
         "xaxis": "x",
         "yaxis": "y"
        },
        {
         "alignmentgroup": "True",
         "bingroup": "x",
         "hovertemplate": "tempo=%{x}<br>count=%{y}<extra></extra>",
         "legendgroup": "177.928",
         "marker": {
          "color": "rgb(237, 100, 90)",
          "pattern": {
           "shape": ""
          }
         },
         "name": "177.928",
         "offsetgroup": "177.928",
         "orientation": "v",
         "showlegend": true,
         "type": "histogram",
         "x": [
          177.928
         ],
         "xaxis": "x",
         "yaxis": "y"
        },
        {
         "alignmentgroup": "True",
         "bingroup": "x",
         "hovertemplate": "tempo=%{x}<br>count=%{y}<extra></extra>",
         "legendgroup": "112.603",
         "marker": {
          "color": "rgb(165, 170, 153)",
          "pattern": {
           "shape": ""
          }
         },
         "name": "112.603",
         "offsetgroup": "112.603",
         "orientation": "v",
         "showlegend": true,
         "type": "histogram",
         "x": [
          112.603
         ],
         "xaxis": "x",
         "yaxis": "y"
        }
       ],
       "layout": {
        "barmode": "relative",
        "height": 500,
        "legend": {
         "title": {
          "text": "tempo"
         },
         "tracegroupgap": 0
        },
        "template": {
         "data": {
          "bar": [
           {
            "error_x": {
             "color": "#f2f5fa"
            },
            "error_y": {
             "color": "#f2f5fa"
            },
            "marker": {
             "line": {
              "color": "rgb(17,17,17)",
              "width": 0.5
             },
             "pattern": {
              "fillmode": "overlay",
              "size": 10,
              "solidity": 0.2
             }
            },
            "type": "bar"
           }
          ],
          "barpolar": [
           {
            "marker": {
             "line": {
              "color": "rgb(17,17,17)",
              "width": 0.5
             },
             "pattern": {
              "fillmode": "overlay",
              "size": 10,
              "solidity": 0.2
             }
            },
            "type": "barpolar"
           }
          ],
          "carpet": [
           {
            "aaxis": {
             "endlinecolor": "#A2B1C6",
             "gridcolor": "#506784",
             "linecolor": "#506784",
             "minorgridcolor": "#506784",
             "startlinecolor": "#A2B1C6"
            },
            "baxis": {
             "endlinecolor": "#A2B1C6",
             "gridcolor": "#506784",
             "linecolor": "#506784",
             "minorgridcolor": "#506784",
             "startlinecolor": "#A2B1C6"
            },
            "type": "carpet"
           }
          ],
          "choropleth": [
           {
            "colorbar": {
             "outlinewidth": 0,
             "ticks": ""
            },
            "type": "choropleth"
           }
          ],
          "contour": [
           {
            "colorbar": {
             "outlinewidth": 0,
             "ticks": ""
            },
            "colorscale": [
             [
              0,
              "#0d0887"
             ],
             [
              0.1111111111111111,
              "#46039f"
             ],
             [
              0.2222222222222222,
              "#7201a8"
             ],
             [
              0.3333333333333333,
              "#9c179e"
             ],
             [
              0.4444444444444444,
              "#bd3786"
             ],
             [
              0.5555555555555556,
              "#d8576b"
             ],
             [
              0.6666666666666666,
              "#ed7953"
             ],
             [
              0.7777777777777778,
              "#fb9f3a"
             ],
             [
              0.8888888888888888,
              "#fdca26"
             ],
             [
              1,
              "#f0f921"
             ]
            ],
            "type": "contour"
           }
          ],
          "contourcarpet": [
           {
            "colorbar": {
             "outlinewidth": 0,
             "ticks": ""
            },
            "type": "contourcarpet"
           }
          ],
          "heatmap": [
           {
            "colorbar": {
             "outlinewidth": 0,
             "ticks": ""
            },
            "colorscale": [
             [
              0,
              "#0d0887"
             ],
             [
              0.1111111111111111,
              "#46039f"
             ],
             [
              0.2222222222222222,
              "#7201a8"
             ],
             [
              0.3333333333333333,
              "#9c179e"
             ],
             [
              0.4444444444444444,
              "#bd3786"
             ],
             [
              0.5555555555555556,
              "#d8576b"
             ],
             [
              0.6666666666666666,
              "#ed7953"
             ],
             [
              0.7777777777777778,
              "#fb9f3a"
             ],
             [
              0.8888888888888888,
              "#fdca26"
             ],
             [
              1,
              "#f0f921"
             ]
            ],
            "type": "heatmap"
           }
          ],
          "heatmapgl": [
           {
            "colorbar": {
             "outlinewidth": 0,
             "ticks": ""
            },
            "colorscale": [
             [
              0,
              "#0d0887"
             ],
             [
              0.1111111111111111,
              "#46039f"
             ],
             [
              0.2222222222222222,
              "#7201a8"
             ],
             [
              0.3333333333333333,
              "#9c179e"
             ],
             [
              0.4444444444444444,
              "#bd3786"
             ],
             [
              0.5555555555555556,
              "#d8576b"
             ],
             [
              0.6666666666666666,
              "#ed7953"
             ],
             [
              0.7777777777777778,
              "#fb9f3a"
             ],
             [
              0.8888888888888888,
              "#fdca26"
             ],
             [
              1,
              "#f0f921"
             ]
            ],
            "type": "heatmapgl"
           }
          ],
          "histogram": [
           {
            "marker": {
             "pattern": {
              "fillmode": "overlay",
              "size": 10,
              "solidity": 0.2
             }
            },
            "type": "histogram"
           }
          ],
          "histogram2d": [
           {
            "colorbar": {
             "outlinewidth": 0,
             "ticks": ""
            },
            "colorscale": [
             [
              0,
              "#0d0887"
             ],
             [
              0.1111111111111111,
              "#46039f"
             ],
             [
              0.2222222222222222,
              "#7201a8"
             ],
             [
              0.3333333333333333,
              "#9c179e"
             ],
             [
              0.4444444444444444,
              "#bd3786"
             ],
             [
              0.5555555555555556,
              "#d8576b"
             ],
             [
              0.6666666666666666,
              "#ed7953"
             ],
             [
              0.7777777777777778,
              "#fb9f3a"
             ],
             [
              0.8888888888888888,
              "#fdca26"
             ],
             [
              1,
              "#f0f921"
             ]
            ],
            "type": "histogram2d"
           }
          ],
          "histogram2dcontour": [
           {
            "colorbar": {
             "outlinewidth": 0,
             "ticks": ""
            },
            "colorscale": [
             [
              0,
              "#0d0887"
             ],
             [
              0.1111111111111111,
              "#46039f"
             ],
             [
              0.2222222222222222,
              "#7201a8"
             ],
             [
              0.3333333333333333,
              "#9c179e"
             ],
             [
              0.4444444444444444,
              "#bd3786"
             ],
             [
              0.5555555555555556,
              "#d8576b"
             ],
             [
              0.6666666666666666,
              "#ed7953"
             ],
             [
              0.7777777777777778,
              "#fb9f3a"
             ],
             [
              0.8888888888888888,
              "#fdca26"
             ],
             [
              1,
              "#f0f921"
             ]
            ],
            "type": "histogram2dcontour"
           }
          ],
          "mesh3d": [
           {
            "colorbar": {
             "outlinewidth": 0,
             "ticks": ""
            },
            "type": "mesh3d"
           }
          ],
          "parcoords": [
           {
            "line": {
             "colorbar": {
              "outlinewidth": 0,
              "ticks": ""
             }
            },
            "type": "parcoords"
           }
          ],
          "pie": [
           {
            "automargin": true,
            "type": "pie"
           }
          ],
          "scatter": [
           {
            "marker": {
             "line": {
              "color": "#283442"
             }
            },
            "type": "scatter"
           }
          ],
          "scatter3d": [
           {
            "line": {
             "colorbar": {
              "outlinewidth": 0,
              "ticks": ""
             }
            },
            "marker": {
             "colorbar": {
              "outlinewidth": 0,
              "ticks": ""
             }
            },
            "type": "scatter3d"
           }
          ],
          "scattercarpet": [
           {
            "marker": {
             "colorbar": {
              "outlinewidth": 0,
              "ticks": ""
             }
            },
            "type": "scattercarpet"
           }
          ],
          "scattergeo": [
           {
            "marker": {
             "colorbar": {
              "outlinewidth": 0,
              "ticks": ""
             }
            },
            "type": "scattergeo"
           }
          ],
          "scattergl": [
           {
            "marker": {
             "line": {
              "color": "#283442"
             }
            },
            "type": "scattergl"
           }
          ],
          "scattermapbox": [
           {
            "marker": {
             "colorbar": {
              "outlinewidth": 0,
              "ticks": ""
             }
            },
            "type": "scattermapbox"
           }
          ],
          "scatterpolar": [
           {
            "marker": {
             "colorbar": {
              "outlinewidth": 0,
              "ticks": ""
             }
            },
            "type": "scatterpolar"
           }
          ],
          "scatterpolargl": [
           {
            "marker": {
             "colorbar": {
              "outlinewidth": 0,
              "ticks": ""
             }
            },
            "type": "scatterpolargl"
           }
          ],
          "scatterternary": [
           {
            "marker": {
             "colorbar": {
              "outlinewidth": 0,
              "ticks": ""
             }
            },
            "type": "scatterternary"
           }
          ],
          "surface": [
           {
            "colorbar": {
             "outlinewidth": 0,
             "ticks": ""
            },
            "colorscale": [
             [
              0,
              "#0d0887"
             ],
             [
              0.1111111111111111,
              "#46039f"
             ],
             [
              0.2222222222222222,
              "#7201a8"
             ],
             [
              0.3333333333333333,
              "#9c179e"
             ],
             [
              0.4444444444444444,
              "#bd3786"
             ],
             [
              0.5555555555555556,
              "#d8576b"
             ],
             [
              0.6666666666666666,
              "#ed7953"
             ],
             [
              0.7777777777777778,
              "#fb9f3a"
             ],
             [
              0.8888888888888888,
              "#fdca26"
             ],
             [
              1,
              "#f0f921"
             ]
            ],
            "type": "surface"
           }
          ],
          "table": [
           {
            "cells": {
             "fill": {
              "color": "#506784"
             },
             "line": {
              "color": "rgb(17,17,17)"
             }
            },
            "header": {
             "fill": {
              "color": "#2a3f5f"
             },
             "line": {
              "color": "rgb(17,17,17)"
             }
            },
            "type": "table"
           }
          ]
         },
         "layout": {
          "annotationdefaults": {
           "arrowcolor": "#f2f5fa",
           "arrowhead": 0,
           "arrowwidth": 1
          },
          "autotypenumbers": "strict",
          "coloraxis": {
           "colorbar": {
            "outlinewidth": 0,
            "ticks": ""
           }
          },
          "colorscale": {
           "diverging": [
            [
             0,
             "#8e0152"
            ],
            [
             0.1,
             "#c51b7d"
            ],
            [
             0.2,
             "#de77ae"
            ],
            [
             0.3,
             "#f1b6da"
            ],
            [
             0.4,
             "#fde0ef"
            ],
            [
             0.5,
             "#f7f7f7"
            ],
            [
             0.6,
             "#e6f5d0"
            ],
            [
             0.7,
             "#b8e186"
            ],
            [
             0.8,
             "#7fbc41"
            ],
            [
             0.9,
             "#4d9221"
            ],
            [
             1,
             "#276419"
            ]
           ],
           "sequential": [
            [
             0,
             "#0d0887"
            ],
            [
             0.1111111111111111,
             "#46039f"
            ],
            [
             0.2222222222222222,
             "#7201a8"
            ],
            [
             0.3333333333333333,
             "#9c179e"
            ],
            [
             0.4444444444444444,
             "#bd3786"
            ],
            [
             0.5555555555555556,
             "#d8576b"
            ],
            [
             0.6666666666666666,
             "#ed7953"
            ],
            [
             0.7777777777777778,
             "#fb9f3a"
            ],
            [
             0.8888888888888888,
             "#fdca26"
            ],
            [
             1,
             "#f0f921"
            ]
           ],
           "sequentialminus": [
            [
             0,
             "#0d0887"
            ],
            [
             0.1111111111111111,
             "#46039f"
            ],
            [
             0.2222222222222222,
             "#7201a8"
            ],
            [
             0.3333333333333333,
             "#9c179e"
            ],
            [
             0.4444444444444444,
             "#bd3786"
            ],
            [
             0.5555555555555556,
             "#d8576b"
            ],
            [
             0.6666666666666666,
             "#ed7953"
            ],
            [
             0.7777777777777778,
             "#fb9f3a"
            ],
            [
             0.8888888888888888,
             "#fdca26"
            ],
            [
             1,
             "#f0f921"
            ]
           ]
          },
          "colorway": [
           "#636efa",
           "#EF553B",
           "#00cc96",
           "#ab63fa",
           "#FFA15A",
           "#19d3f3",
           "#FF6692",
           "#B6E880",
           "#FF97FF",
           "#FECB52"
          ],
          "font": {
           "color": "#f2f5fa"
          },
          "geo": {
           "bgcolor": "rgb(17,17,17)",
           "lakecolor": "rgb(17,17,17)",
           "landcolor": "rgb(17,17,17)",
           "showlakes": true,
           "showland": true,
           "subunitcolor": "#506784"
          },
          "hoverlabel": {
           "align": "left"
          },
          "hovermode": "closest",
          "mapbox": {
           "style": "dark"
          },
          "paper_bgcolor": "rgb(17,17,17)",
          "plot_bgcolor": "rgb(17,17,17)",
          "polar": {
           "angularaxis": {
            "gridcolor": "#506784",
            "linecolor": "#506784",
            "ticks": ""
           },
           "bgcolor": "rgb(17,17,17)",
           "radialaxis": {
            "gridcolor": "#506784",
            "linecolor": "#506784",
            "ticks": ""
           }
          },
          "scene": {
           "xaxis": {
            "backgroundcolor": "rgb(17,17,17)",
            "gridcolor": "#506784",
            "gridwidth": 2,
            "linecolor": "#506784",
            "showbackground": true,
            "ticks": "",
            "zerolinecolor": "#C8D4E3"
           },
           "yaxis": {
            "backgroundcolor": "rgb(17,17,17)",
            "gridcolor": "#506784",
            "gridwidth": 2,
            "linecolor": "#506784",
            "showbackground": true,
            "ticks": "",
            "zerolinecolor": "#C8D4E3"
           },
           "zaxis": {
            "backgroundcolor": "rgb(17,17,17)",
            "gridcolor": "#506784",
            "gridwidth": 2,
            "linecolor": "#506784",
            "showbackground": true,
            "ticks": "",
            "zerolinecolor": "#C8D4E3"
           }
          },
          "shapedefaults": {
           "line": {
            "color": "#f2f5fa"
           }
          },
          "sliderdefaults": {
           "bgcolor": "#C8D4E3",
           "bordercolor": "rgb(17,17,17)",
           "borderwidth": 1,
           "tickwidth": 0
          },
          "ternary": {
           "aaxis": {
            "gridcolor": "#506784",
            "linecolor": "#506784",
            "ticks": ""
           },
           "baxis": {
            "gridcolor": "#506784",
            "linecolor": "#506784",
            "ticks": ""
           },
           "bgcolor": "rgb(17,17,17)",
           "caxis": {
            "gridcolor": "#506784",
            "linecolor": "#506784",
            "ticks": ""
           }
          },
          "title": {
           "x": 0.05
          },
          "updatemenudefaults": {
           "bgcolor": "#506784",
           "borderwidth": 0
          },
          "xaxis": {
           "automargin": true,
           "gridcolor": "#283442",
           "linecolor": "#506784",
           "ticks": "",
           "title": {
            "standoff": 15
           },
           "zerolinecolor": "#283442",
           "zerolinewidth": 2
          },
          "yaxis": {
           "automargin": true,
           "gridcolor": "#283442",
           "linecolor": "#506784",
           "ticks": "",
           "title": {
            "standoff": 15
           },
           "zerolinecolor": "#283442",
           "zerolinewidth": 2
          }
         }
        },
        "title": {
         "font": {
          "size": 20
         },
         "text": "<b>Count vs Tempo"
        },
        "width": 800,
        "xaxis": {
         "anchor": "y",
         "categoryarray": [
          171.005,
          95.977,
          98.027,
          109.891,
          159.801,
          89.911,
          103.967,
          95.01,
          111.893,
          124.949,
          116.967,
          146.053,
          80.87,
          85.043,
          186.003,
          135.128,
          78.997,
          83.903,
          78.775,
          115.284,
          95.39,
          77.169,
          108.033,
          143.883,
          103.019,
          124.053,
          95.799,
          173.93,
          100.418,
          120.042,
          75.023,
          128.945,
          119.93,
          133.52,
          140.048,
          130.049,
          134.021,
          104.988,
          169.977,
          155.096,
          122.017,
          116.078,
          124.08,
          101.654,
          100.964,
          150.011,
          74.897,
          113.003,
          155.008,
          128.044,
          166.928,
          141.961,
          123.994,
          99.988,
          143.875,
          98.007,
          82.695,
          121.955,
          145.038,
          84.094,
          123.146,
          179.642,
          112.238,
          149.995,
          171.374,
          112.969,
          89.938,
          148.033,
          114.988,
          91.873,
          102.977,
          101.969,
          163.347,
          106.966,
          101.956,
          109.928,
          178.781,
          141.059,
          85.03,
          97.985,
          119.975,
          178.085,
          128.009,
          174.323,
          100.028,
          134.066,
          116.971,
          171.447,
          121.998,
          149.789,
          89.976,
          116.761,
          78.558,
          94.875,
          91.972,
          119.992,
          173.372,
          177.928,
          112.603
         ],
         "categoryorder": "array",
         "domain": [
          0,
          1
         ],
         "title": {
          "text": "tempo"
         }
        },
        "yaxis": {
         "anchor": "x",
         "domain": [
          0,
          1
         ],
         "title": {
          "text": "count"
         }
        }
       }
      }
     },
     "metadata": {},
     "output_type": "display_data"
    }
   ],
   "source": [
    "Features_copy = Features.copy()\n",
    "Features_copy['tempo'] = \\\n",
    "    Features_copy['tempo'].fillna('Null')\n",
    "\n",
    "fig=px.histogram(Features_copy,\n",
    "                 x = 'tempo',\n",
    "                 color = 'tempo',\n",
    "                 title=\"<b>Count vs Tempo\",\n",
    "                 color_discrete_sequence=px.colors.qualitative.Vivid,\n",
    "                 width=800, height=500)\n",
    "fig.update_layout(template=\"plotly_dark\")\n",
    "fig.update_layout(title_font_size=20)\n",
    "fig.show()"
   ]
  },
  {
   "cell_type": "code",
   "execution_count": 15,
   "metadata": {},
   "outputs": [
    {
     "data": {
      "application/vnd.plotly.v1+json": {
       "config": {
        "plotlyServerURL": "https://plot.ly"
       },
       "data": [
        {
         "alignmentgroup": "True",
         "bingroup": "x",
         "hovertemplate": "danceability=%{x}<br>count=%{y}<extra></extra>",
         "legendgroup": "0.514",
         "marker": {
          "color": "rgb(229, 134, 6)",
          "pattern": {
           "shape": ""
          }
         },
         "name": "0.514",
         "offsetgroup": "0.514",
         "orientation": "v",
         "showlegend": true,
         "type": "histogram",
         "x": [
          0.514
         ],
         "xaxis": "x",
         "yaxis": "y"
        },
        {
         "alignmentgroup": "True",
         "bingroup": "x",
         "hovertemplate": "danceability=%{x}<br>count=%{y}<extra></extra>",
         "legendgroup": "0.825",
         "marker": {
          "color": "rgb(93, 105, 177)",
          "pattern": {
           "shape": ""
          }
         },
         "name": "0.825",
         "offsetgroup": "0.825",
         "orientation": "v",
         "showlegend": true,
         "type": "histogram",
         "x": [
          0.825
         ],
         "xaxis": "x",
         "yaxis": "y"
        },
        {
         "alignmentgroup": "True",
         "bingroup": "x",
         "hovertemplate": "danceability=%{x}<br>count=%{y}<extra></extra>",
         "legendgroup": "0.824",
         "marker": {
          "color": "rgb(82, 188, 163)",
          "pattern": {
           "shape": ""
          }
         },
         "name": "0.824",
         "offsetgroup": "0.824",
         "orientation": "v",
         "showlegend": true,
         "type": "histogram",
         "x": [
          0.824
         ],
         "xaxis": "x",
         "yaxis": "y"
        },
        {
         "alignmentgroup": "True",
         "bingroup": "x",
         "hovertemplate": "danceability=%{x}<br>count=%{y}<extra></extra>",
         "legendgroup": "0.501",
         "marker": {
          "color": "rgb(153, 201, 69)",
          "pattern": {
           "shape": ""
          }
         },
         "name": "0.501",
         "offsetgroup": "0.501",
         "orientation": "v",
         "showlegend": true,
         "type": "histogram",
         "x": [
          0.501
         ],
         "xaxis": "x",
         "yaxis": "y"
        },
        {
         "alignmentgroup": "True",
         "bingroup": "x",
         "hovertemplate": "danceability=%{x}<br>count=%{y}<extra></extra>",
         "legendgroup": "0.585",
         "marker": {
          "color": "rgb(204, 97, 176)",
          "pattern": {
           "shape": ""
          }
         },
         "name": "0.585",
         "offsetgroup": "0.585",
         "orientation": "v",
         "showlegend": true,
         "type": "histogram",
         "x": [
          0.585,
          0.585
         ],
         "xaxis": "x",
         "yaxis": "y"
        },
        {
         "alignmentgroup": "True",
         "bingroup": "x",
         "hovertemplate": "danceability=%{x}<br>count=%{y}<extra></extra>",
         "legendgroup": "0.76",
         "marker": {
          "color": "rgb(36, 121, 108)",
          "pattern": {
           "shape": ""
          }
         },
         "name": "0.76",
         "offsetgroup": "0.76",
         "orientation": "v",
         "showlegend": true,
         "type": "histogram",
         "x": [
          0.76
         ],
         "xaxis": "x",
         "yaxis": "y"
        },
        {
         "alignmentgroup": "True",
         "bingroup": "x",
         "hovertemplate": "danceability=%{x}<br>count=%{y}<extra></extra>",
         "legendgroup": "0.792",
         "marker": {
          "color": "rgb(218, 165, 27)",
          "pattern": {
           "shape": ""
          }
         },
         "name": "0.792",
         "offsetgroup": "0.792",
         "orientation": "v",
         "showlegend": true,
         "type": "histogram",
         "x": [
          0.792
         ],
         "xaxis": "x",
         "yaxis": "y"
        },
        {
         "alignmentgroup": "True",
         "bingroup": "x",
         "hovertemplate": "danceability=%{x}<br>count=%{y}<extra></extra>",
         "legendgroup": "0.748",
         "marker": {
          "color": "rgb(47, 138, 196)",
          "pattern": {
           "shape": ""
          }
         },
         "name": "0.748",
         "offsetgroup": "0.748",
         "orientation": "v",
         "showlegend": true,
         "type": "histogram",
         "x": [
          0.748
         ],
         "xaxis": "x",
         "yaxis": "y"
        },
        {
         "alignmentgroup": "True",
         "bingroup": "x",
         "hovertemplate": "danceability=%{x}<br>count=%{y}<extra></extra>",
         "legendgroup": "0.621",
         "marker": {
          "color": "rgb(118, 78, 159)",
          "pattern": {
           "shape": ""
          }
         },
         "name": "0.621",
         "offsetgroup": "0.621",
         "orientation": "v",
         "showlegend": true,
         "type": "histogram",
         "x": [
          0.621
         ],
         "xaxis": "x",
         "yaxis": "y"
        },
        {
         "alignmentgroup": "True",
         "bingroup": "x",
         "hovertemplate": "danceability=%{x}<br>count=%{y}<extra></extra>",
         "legendgroup": "0.776",
         "marker": {
          "color": "rgb(237, 100, 90)",
          "pattern": {
           "shape": ""
          }
         },
         "name": "0.776",
         "offsetgroup": "0.776",
         "orientation": "v",
         "showlegend": true,
         "type": "histogram",
         "x": [
          0.776
         ],
         "xaxis": "x",
         "yaxis": "y"
        },
        {
         "alignmentgroup": "True",
         "bingroup": "x",
         "hovertemplate": "danceability=%{x}<br>count=%{y}<extra></extra>",
         "legendgroup": "0.759",
         "marker": {
          "color": "rgb(165, 170, 153)",
          "pattern": {
           "shape": ""
          }
         },
         "name": "0.759",
         "offsetgroup": "0.759",
         "orientation": "v",
         "showlegend": true,
         "type": "histogram",
         "x": [
          0.759
         ],
         "xaxis": "x",
         "yaxis": "y"
        },
        {
         "alignmentgroup": "True",
         "bingroup": "x",
         "hovertemplate": "danceability=%{x}<br>count=%{y}<extra></extra>",
         "legendgroup": "0.634",
         "marker": {
          "color": "rgb(229, 134, 6)",
          "pattern": {
           "shape": ""
          }
         },
         "name": "0.634",
         "offsetgroup": "0.634",
         "orientation": "v",
         "showlegend": true,
         "type": "histogram",
         "x": [
          0.634
         ],
         "xaxis": "x",
         "yaxis": "y"
        },
        {
         "alignmentgroup": "True",
         "bingroup": "x",
         "hovertemplate": "danceability=%{x}<br>count=%{y}<extra></extra>",
         "legendgroup": "0.761",
         "marker": {
          "color": "rgb(93, 105, 177)",
          "pattern": {
           "shape": ""
          }
         },
         "name": "0.761",
         "offsetgroup": "0.761",
         "orientation": "v",
         "showlegend": true,
         "type": "histogram",
         "x": [
          0.761
         ],
         "xaxis": "x",
         "yaxis": "y"
        },
        {
         "alignmentgroup": "True",
         "bingroup": "x",
         "hovertemplate": "danceability=%{x}<br>count=%{y}<extra></extra>",
         "legendgroup": "0.358",
         "marker": {
          "color": "rgb(82, 188, 163)",
          "pattern": {
           "shape": ""
          }
         },
         "name": "0.358",
         "offsetgroup": "0.358",
         "orientation": "v",
         "showlegend": true,
         "type": "histogram",
         "x": [
          0.358
         ],
         "xaxis": "x",
         "yaxis": "y"
        },
        {
         "alignmentgroup": "True",
         "bingroup": "x",
         "hovertemplate": "danceability=%{x}<br>count=%{y}<extra></extra>",
         "legendgroup": "0.679",
         "marker": {
          "color": "rgb(153, 201, 69)",
          "pattern": {
           "shape": ""
          }
         },
         "name": "0.679",
         "offsetgroup": "0.679",
         "orientation": "v",
         "showlegend": true,
         "type": "histogram",
         "x": [
          0.679
         ],
         "xaxis": "x",
         "yaxis": "y"
        },
        {
         "alignmentgroup": "True",
         "bingroup": "x",
         "hovertemplate": "danceability=%{x}<br>count=%{y}<extra></extra>",
         "legendgroup": "0.701",
         "marker": {
          "color": "rgb(204, 97, 176)",
          "pattern": {
           "shape": ""
          }
         },
         "name": "0.701",
         "offsetgroup": "0.701",
         "orientation": "v",
         "showlegend": true,
         "type": "histogram",
         "x": [
          0.701
         ],
         "xaxis": "x",
         "yaxis": "y"
        },
        {
         "alignmentgroup": "True",
         "bingroup": "x",
         "hovertemplate": "danceability=%{x}<br>count=%{y}<extra></extra>",
         "legendgroup": "0.781",
         "marker": {
          "color": "rgb(36, 121, 108)",
          "pattern": {
           "shape": ""
          }
         },
         "name": "0.781",
         "offsetgroup": "0.781",
         "orientation": "v",
         "showlegend": true,
         "type": "histogram",
         "x": [
          0.781
         ],
         "xaxis": "x",
         "yaxis": "y"
        },
        {
         "alignmentgroup": "True",
         "bingroup": "x",
         "hovertemplate": "danceability=%{x}<br>count=%{y}<extra></extra>",
         "legendgroup": "0.511",
         "marker": {
          "color": "rgb(218, 165, 27)",
          "pattern": {
           "shape": ""
          }
         },
         "name": "0.511",
         "offsetgroup": "0.511",
         "orientation": "v",
         "showlegend": true,
         "type": "histogram",
         "x": [
          0.511
         ],
         "xaxis": "x",
         "yaxis": "y"
        },
        {
         "alignmentgroup": "True",
         "bingroup": "x",
         "hovertemplate": "danceability=%{x}<br>count=%{y}<extra></extra>",
         "legendgroup": "0.498",
         "marker": {
          "color": "rgb(47, 138, 196)",
          "pattern": {
           "shape": ""
          }
         },
         "name": "0.498",
         "offsetgroup": "0.498",
         "orientation": "v",
         "showlegend": true,
         "type": "histogram",
         "x": [
          0.498
         ],
         "xaxis": "x",
         "yaxis": "y"
        },
        {
         "alignmentgroup": "True",
         "bingroup": "x",
         "hovertemplate": "danceability=%{x}<br>count=%{y}<extra></extra>",
         "legendgroup": "0.351",
         "marker": {
          "color": "rgb(118, 78, 159)",
          "pattern": {
           "shape": ""
          }
         },
         "name": "0.351",
         "offsetgroup": "0.351",
         "orientation": "v",
         "showlegend": true,
         "type": "histogram",
         "x": [
          0.351
         ],
         "xaxis": "x",
         "yaxis": "y"
        },
        {
         "alignmentgroup": "True",
         "bingroup": "x",
         "hovertemplate": "danceability=%{x}<br>count=%{y}<extra></extra>",
         "legendgroup": "0.548",
         "marker": {
          "color": "rgb(237, 100, 90)",
          "pattern": {
           "shape": ""
          }
         },
         "name": "0.548",
         "offsetgroup": "0.548",
         "orientation": "v",
         "showlegend": true,
         "type": "histogram",
         "x": [
          0.548,
          0.548,
          0.548,
          0.548
         ],
         "xaxis": "x",
         "yaxis": "y"
        },
        {
         "alignmentgroup": "True",
         "bingroup": "x",
         "hovertemplate": "danceability=%{x}<br>count=%{y}<extra></extra>",
         "legendgroup": "0.754",
         "marker": {
          "color": "rgb(165, 170, 153)",
          "pattern": {
           "shape": ""
          }
         },
         "name": "0.754",
         "offsetgroup": "0.754",
         "orientation": "v",
         "showlegend": true,
         "type": "histogram",
         "x": [
          0.754
         ],
         "xaxis": "x",
         "yaxis": "y"
        },
        {
         "alignmentgroup": "True",
         "bingroup": "x",
         "hovertemplate": "danceability=%{x}<br>count=%{y}<extra></extra>",
         "legendgroup": "0.718",
         "marker": {
          "color": "rgb(229, 134, 6)",
          "pattern": {
           "shape": ""
          }
         },
         "name": "0.718",
         "offsetgroup": "0.718",
         "orientation": "v",
         "showlegend": true,
         "type": "histogram",
         "x": [
          0.718
         ],
         "xaxis": "x",
         "yaxis": "y"
        },
        {
         "alignmentgroup": "True",
         "bingroup": "x",
         "hovertemplate": "danceability=%{x}<br>count=%{y}<extra></extra>",
         "legendgroup": "0.392",
         "marker": {
          "color": "rgb(93, 105, 177)",
          "pattern": {
           "shape": ""
          }
         },
         "name": "0.392",
         "offsetgroup": "0.392",
         "orientation": "v",
         "showlegend": true,
         "type": "histogram",
         "x": [
          0.392
         ],
         "xaxis": "x",
         "yaxis": "y"
        },
        {
         "alignmentgroup": "True",
         "bingroup": "x",
         "hovertemplate": "danceability=%{x}<br>count=%{y}<extra></extra>",
         "legendgroup": "0.617",
         "marker": {
          "color": "rgb(82, 188, 163)",
          "pattern": {
           "shape": ""
          }
         },
         "name": "0.617",
         "offsetgroup": "0.617",
         "orientation": "v",
         "showlegend": true,
         "type": "histogram",
         "x": [
          0.617
         ],
         "xaxis": "x",
         "yaxis": "y"
        },
        {
         "alignmentgroup": "True",
         "bingroup": "x",
         "hovertemplate": "danceability=%{x}<br>count=%{y}<extra></extra>",
         "legendgroup": "0.612",
         "marker": {
          "color": "rgb(153, 201, 69)",
          "pattern": {
           "shape": ""
          }
         },
         "name": "0.612",
         "offsetgroup": "0.612",
         "orientation": "v",
         "showlegend": true,
         "type": "histogram",
         "x": [
          0.612
         ],
         "xaxis": "x",
         "yaxis": "y"
        },
        {
         "alignmentgroup": "True",
         "bingroup": "x",
         "hovertemplate": "danceability=%{x}<br>count=%{y}<extra></extra>",
         "legendgroup": "0.572",
         "marker": {
          "color": "rgb(204, 97, 176)",
          "pattern": {
           "shape": ""
          }
         },
         "name": "0.572",
         "offsetgroup": "0.572",
         "orientation": "v",
         "showlegend": true,
         "type": "histogram",
         "x": [
          0.572
         ],
         "xaxis": "x",
         "yaxis": "y"
        },
        {
         "alignmentgroup": "True",
         "bingroup": "x",
         "hovertemplate": "danceability=%{x}<br>count=%{y}<extra></extra>",
         "legendgroup": "0.52",
         "marker": {
          "color": "rgb(36, 121, 108)",
          "pattern": {
           "shape": ""
          }
         },
         "name": "0.52",
         "offsetgroup": "0.52",
         "orientation": "v",
         "showlegend": true,
         "type": "histogram",
         "x": [
          0.52
         ],
         "xaxis": "x",
         "yaxis": "y"
        },
        {
         "alignmentgroup": "True",
         "bingroup": "x",
         "hovertemplate": "danceability=%{x}<br>count=%{y}<extra></extra>",
         "legendgroup": "0.609",
         "marker": {
          "color": "rgb(218, 165, 27)",
          "pattern": {
           "shape": ""
          }
         },
         "name": "0.609",
         "offsetgroup": "0.609",
         "orientation": "v",
         "showlegend": true,
         "type": "histogram",
         "x": [
          0.609
         ],
         "xaxis": "x",
         "yaxis": "y"
        },
        {
         "alignmentgroup": "True",
         "bingroup": "x",
         "hovertemplate": "danceability=%{x}<br>count=%{y}<extra></extra>",
         "legendgroup": "0.695",
         "marker": {
          "color": "rgb(47, 138, 196)",
          "pattern": {
           "shape": ""
          }
         },
         "name": "0.695",
         "offsetgroup": "0.695",
         "orientation": "v",
         "showlegend": true,
         "type": "histogram",
         "x": [
          0.695
         ],
         "xaxis": "x",
         "yaxis": "y"
        },
        {
         "alignmentgroup": "True",
         "bingroup": "x",
         "hovertemplate": "danceability=%{x}<br>count=%{y}<extra></extra>",
         "legendgroup": "0.74",
         "marker": {
          "color": "rgb(118, 78, 159)",
          "pattern": {
           "shape": ""
          }
         },
         "name": "0.74",
         "offsetgroup": "0.74",
         "orientation": "v",
         "showlegend": true,
         "type": "histogram",
         "x": [
          0.74
         ],
         "xaxis": "x",
         "yaxis": "y"
        },
        {
         "alignmentgroup": "True",
         "bingroup": "x",
         "hovertemplate": "danceability=%{x}<br>count=%{y}<extra></extra>",
         "legendgroup": "0.566",
         "marker": {
          "color": "rgb(237, 100, 90)",
          "pattern": {
           "shape": ""
          }
         },
         "name": "0.566",
         "offsetgroup": "0.566",
         "orientation": "v",
         "showlegend": true,
         "type": "histogram",
         "x": [
          0.566
         ],
         "xaxis": "x",
         "yaxis": "y"
        },
        {
         "alignmentgroup": "True",
         "bingroup": "x",
         "hovertemplate": "danceability=%{x}<br>count=%{y}<extra></extra>",
         "legendgroup": "0.422",
         "marker": {
          "color": "rgb(165, 170, 153)",
          "pattern": {
           "shape": ""
          }
         },
         "name": "0.422",
         "offsetgroup": "0.422",
         "orientation": "v",
         "showlegend": true,
         "type": "histogram",
         "x": [
          0.422
         ],
         "xaxis": "x",
         "yaxis": "y"
        },
        {
         "alignmentgroup": "True",
         "bingroup": "x",
         "hovertemplate": "danceability=%{x}<br>count=%{y}<extra></extra>",
         "legendgroup": "0.502",
         "marker": {
          "color": "rgb(229, 134, 6)",
          "pattern": {
           "shape": ""
          }
         },
         "name": "0.502",
         "offsetgroup": "0.502",
         "orientation": "v",
         "showlegend": true,
         "type": "histogram",
         "x": [
          0.502,
          0.502
         ],
         "xaxis": "x",
         "yaxis": "y"
        },
        {
         "alignmentgroup": "True",
         "bingroup": "x",
         "hovertemplate": "danceability=%{x}<br>count=%{y}<extra></extra>",
         "legendgroup": "0.778",
         "marker": {
          "color": "rgb(93, 105, 177)",
          "pattern": {
           "shape": ""
          }
         },
         "name": "0.778",
         "offsetgroup": "0.778",
         "orientation": "v",
         "showlegend": true,
         "type": "histogram",
         "x": [
          0.778
         ],
         "xaxis": "x",
         "yaxis": "y"
        },
        {
         "alignmentgroup": "True",
         "bingroup": "x",
         "hovertemplate": "danceability=%{x}<br>count=%{y}<extra></extra>",
         "legendgroup": "0.841",
         "marker": {
          "color": "rgb(82, 188, 163)",
          "pattern": {
           "shape": ""
          }
         },
         "name": "0.841",
         "offsetgroup": "0.841",
         "orientation": "v",
         "showlegend": true,
         "type": "histogram",
         "x": [
          0.841
         ],
         "xaxis": "x",
         "yaxis": "y"
        },
        {
         "alignmentgroup": "True",
         "bingroup": "x",
         "hovertemplate": "danceability=%{x}<br>count=%{y}<extra></extra>",
         "legendgroup": "0.872",
         "marker": {
          "color": "rgb(153, 201, 69)",
          "pattern": {
           "shape": ""
          }
         },
         "name": "0.872",
         "offsetgroup": "0.872",
         "orientation": "v",
         "showlegend": true,
         "type": "histogram",
         "x": [
          0.872
         ],
         "xaxis": "x",
         "yaxis": "y"
        },
        {
         "alignmentgroup": "True",
         "bingroup": "x",
         "hovertemplate": "danceability=%{x}<br>count=%{y}<extra></extra>",
         "legendgroup": "0.765",
         "marker": {
          "color": "rgb(204, 97, 176)",
          "pattern": {
           "shape": ""
          }
         },
         "name": "0.765",
         "offsetgroup": "0.765",
         "orientation": "v",
         "showlegend": true,
         "type": "histogram",
         "x": [
          0.765,
          0.765
         ],
         "xaxis": "x",
         "yaxis": "y"
        },
        {
         "alignmentgroup": "True",
         "bingroup": "x",
         "hovertemplate": "danceability=%{x}<br>count=%{y}<extra></extra>",
         "legendgroup": "0.734",
         "marker": {
          "color": "rgb(36, 121, 108)",
          "pattern": {
           "shape": ""
          }
         },
         "name": "0.734",
         "offsetgroup": "0.734",
         "orientation": "v",
         "showlegend": true,
         "type": "histogram",
         "x": [
          0.734
         ],
         "xaxis": "x",
         "yaxis": "y"
        },
        {
         "alignmentgroup": "True",
         "bingroup": "x",
         "hovertemplate": "danceability=%{x}<br>count=%{y}<extra></extra>",
         "legendgroup": "0.732",
         "marker": {
          "color": "rgb(218, 165, 27)",
          "pattern": {
           "shape": ""
          }
         },
         "name": "0.732",
         "offsetgroup": "0.732",
         "orientation": "v",
         "showlegend": true,
         "type": "histogram",
         "x": [
          0.732
         ],
         "xaxis": "x",
         "yaxis": "y"
        },
        {
         "alignmentgroup": "True",
         "bingroup": "x",
         "hovertemplate": "danceability=%{x}<br>count=%{y}<extra></extra>",
         "legendgroup": "0.664",
         "marker": {
          "color": "rgb(47, 138, 196)",
          "pattern": {
           "shape": ""
          }
         },
         "name": "0.664",
         "offsetgroup": "0.664",
         "orientation": "v",
         "showlegend": true,
         "type": "histogram",
         "x": [
          0.664,
          0.664
         ],
         "xaxis": "x",
         "yaxis": "y"
        },
        {
         "alignmentgroup": "True",
         "bingroup": "x",
         "hovertemplate": "danceability=%{x}<br>count=%{y}<extra></extra>",
         "legendgroup": "0.762",
         "marker": {
          "color": "rgb(118, 78, 159)",
          "pattern": {
           "shape": ""
          }
         },
         "name": "0.762",
         "offsetgroup": "0.762",
         "orientation": "v",
         "showlegend": true,
         "type": "histogram",
         "x": [
          0.762
         ],
         "xaxis": "x",
         "yaxis": "y"
        },
        {
         "alignmentgroup": "True",
         "bingroup": "x",
         "hovertemplate": "danceability=%{x}<br>count=%{y}<extra></extra>",
         "legendgroup": "0.532",
         "marker": {
          "color": "rgb(237, 100, 90)",
          "pattern": {
           "shape": ""
          }
         },
         "name": "0.532",
         "offsetgroup": "0.532",
         "orientation": "v",
         "showlegend": true,
         "type": "histogram",
         "x": [
          0.532
         ],
         "xaxis": "x",
         "yaxis": "y"
        },
        {
         "alignmentgroup": "True",
         "bingroup": "x",
         "hovertemplate": "danceability=%{x}<br>count=%{y}<extra></extra>",
         "legendgroup": "0.484",
         "marker": {
          "color": "rgb(165, 170, 153)",
          "pattern": {
           "shape": ""
          }
         },
         "name": "0.484",
         "offsetgroup": "0.484",
         "orientation": "v",
         "showlegend": true,
         "type": "histogram",
         "x": [
          0.484
         ],
         "xaxis": "x",
         "yaxis": "y"
        },
        {
         "alignmentgroup": "True",
         "bingroup": "x",
         "hovertemplate": "danceability=%{x}<br>count=%{y}<extra></extra>",
         "legendgroup": "0.733",
         "marker": {
          "color": "rgb(229, 134, 6)",
          "pattern": {
           "shape": ""
          }
         },
         "name": "0.733",
         "offsetgroup": "0.733",
         "orientation": "v",
         "showlegend": true,
         "type": "histogram",
         "x": [
          0.733
         ],
         "xaxis": "x",
         "yaxis": "y"
        },
        {
         "alignmentgroup": "True",
         "bingroup": "x",
         "hovertemplate": "danceability=%{x}<br>count=%{y}<extra></extra>",
         "legendgroup": "0.908",
         "marker": {
          "color": "rgb(93, 105, 177)",
          "pattern": {
           "shape": ""
          }
         },
         "name": "0.908",
         "offsetgroup": "0.908",
         "orientation": "v",
         "showlegend": true,
         "type": "histogram",
         "x": [
          0.908,
          0.908
         ],
         "xaxis": "x",
         "yaxis": "y"
        },
        {
         "alignmentgroup": "True",
         "bingroup": "x",
         "hovertemplate": "danceability=%{x}<br>count=%{y}<extra></extra>",
         "legendgroup": "0.479",
         "marker": {
          "color": "rgb(82, 188, 163)",
          "pattern": {
           "shape": ""
          }
         },
         "name": "0.479",
         "offsetgroup": "0.479",
         "orientation": "v",
         "showlegend": true,
         "type": "histogram",
         "x": [
          0.479
         ],
         "xaxis": "x",
         "yaxis": "y"
        },
        {
         "alignmentgroup": "True",
         "bingroup": "x",
         "hovertemplate": "danceability=%{x}<br>count=%{y}<extra></extra>",
         "legendgroup": "0.834",
         "marker": {
          "color": "rgb(153, 201, 69)",
          "pattern": {
           "shape": ""
          }
         },
         "name": "0.834",
         "offsetgroup": "0.834",
         "orientation": "v",
         "showlegend": true,
         "type": "histogram",
         "x": [
          0.834
         ],
         "xaxis": "x",
         "yaxis": "y"
        },
        {
         "alignmentgroup": "True",
         "bingroup": "x",
         "hovertemplate": "danceability=%{x}<br>count=%{y}<extra></extra>",
         "legendgroup": "0.556",
         "marker": {
          "color": "rgb(204, 97, 176)",
          "pattern": {
           "shape": ""
          }
         },
         "name": "0.556",
         "offsetgroup": "0.556",
         "orientation": "v",
         "showlegend": true,
         "type": "histogram",
         "x": [
          0.556
         ],
         "xaxis": "x",
         "yaxis": "y"
        },
        {
         "alignmentgroup": "True",
         "bingroup": "x",
         "hovertemplate": "danceability=%{x}<br>count=%{y}<extra></extra>",
         "legendgroup": "0.563",
         "marker": {
          "color": "rgb(36, 121, 108)",
          "pattern": {
           "shape": ""
          }
         },
         "name": "0.563",
         "offsetgroup": "0.563",
         "orientation": "v",
         "showlegend": true,
         "type": "histogram",
         "x": [
          0.563
         ],
         "xaxis": "x",
         "yaxis": "y"
        },
        {
         "alignmentgroup": "True",
         "bingroup": "x",
         "hovertemplate": "danceability=%{x}<br>count=%{y}<extra></extra>",
         "legendgroup": "0.73",
         "marker": {
          "color": "rgb(218, 165, 27)",
          "pattern": {
           "shape": ""
          }
         },
         "name": "0.73",
         "offsetgroup": "0.73",
         "orientation": "v",
         "showlegend": true,
         "type": "histogram",
         "x": [
          0.73
         ],
         "xaxis": "x",
         "yaxis": "y"
        },
        {
         "alignmentgroup": "True",
         "bingroup": "x",
         "hovertemplate": "danceability=%{x}<br>count=%{y}<extra></extra>",
         "legendgroup": "0.791",
         "marker": {
          "color": "rgb(47, 138, 196)",
          "pattern": {
           "shape": ""
          }
         },
         "name": "0.791",
         "offsetgroup": "0.791",
         "orientation": "v",
         "showlegend": true,
         "type": "histogram",
         "x": [
          0.791
         ],
         "xaxis": "x",
         "yaxis": "y"
        },
        {
         "alignmentgroup": "True",
         "bingroup": "x",
         "hovertemplate": "danceability=%{x}<br>count=%{y}<extra></extra>",
         "legendgroup": "0.649",
         "marker": {
          "color": "rgb(118, 78, 159)",
          "pattern": {
           "shape": ""
          }
         },
         "name": "0.649",
         "offsetgroup": "0.649",
         "orientation": "v",
         "showlegend": true,
         "type": "histogram",
         "x": [
          0.649
         ],
         "xaxis": "x",
         "yaxis": "y"
        },
        {
         "alignmentgroup": "True",
         "bingroup": "x",
         "hovertemplate": "danceability=%{x}<br>count=%{y}<extra></extra>",
         "legendgroup": "0.561",
         "marker": {
          "color": "rgb(237, 100, 90)",
          "pattern": {
           "shape": ""
          }
         },
         "name": "0.561",
         "offsetgroup": "0.561",
         "orientation": "v",
         "showlegend": true,
         "type": "histogram",
         "x": [
          0.561
         ],
         "xaxis": "x",
         "yaxis": "y"
        },
        {
         "alignmentgroup": "True",
         "bingroup": "x",
         "hovertemplate": "danceability=%{x}<br>count=%{y}<extra></extra>",
         "legendgroup": "0.723",
         "marker": {
          "color": "rgb(165, 170, 153)",
          "pattern": {
           "shape": ""
          }
         },
         "name": "0.723",
         "offsetgroup": "0.723",
         "orientation": "v",
         "showlegend": true,
         "type": "histogram",
         "x": [
          0.723
         ],
         "xaxis": "x",
         "yaxis": "y"
        },
        {
         "alignmentgroup": "True",
         "bingroup": "x",
         "hovertemplate": "danceability=%{x}<br>count=%{y}<extra></extra>",
         "legendgroup": "0.444",
         "marker": {
          "color": "rgb(229, 134, 6)",
          "pattern": {
           "shape": ""
          }
         },
         "name": "0.444",
         "offsetgroup": "0.444",
         "orientation": "v",
         "showlegend": true,
         "type": "histogram",
         "x": [
          0.444
         ],
         "xaxis": "x",
         "yaxis": "y"
        },
        {
         "alignmentgroup": "True",
         "bingroup": "x",
         "hovertemplate": "danceability=%{x}<br>count=%{y}<extra></extra>",
         "legendgroup": "0.769",
         "marker": {
          "color": "rgb(93, 105, 177)",
          "pattern": {
           "shape": ""
          }
         },
         "name": "0.769",
         "offsetgroup": "0.769",
         "orientation": "v",
         "showlegend": true,
         "type": "histogram",
         "x": [
          0.769
         ],
         "xaxis": "x",
         "yaxis": "y"
        },
        {
         "alignmentgroup": "True",
         "bingroup": "x",
         "hovertemplate": "danceability=%{x}<br>count=%{y}<extra></extra>",
         "legendgroup": "0.68",
         "marker": {
          "color": "rgb(82, 188, 163)",
          "pattern": {
           "shape": ""
          }
         },
         "name": "0.68",
         "offsetgroup": "0.68",
         "orientation": "v",
         "showlegend": true,
         "type": "histogram",
         "x": [
          0.68
         ],
         "xaxis": "x",
         "yaxis": "y"
        },
        {
         "alignmentgroup": "True",
         "bingroup": "x",
         "hovertemplate": "danceability=%{x}<br>count=%{y}<extra></extra>",
         "legendgroup": "0.418",
         "marker": {
          "color": "rgb(153, 201, 69)",
          "pattern": {
           "shape": ""
          }
         },
         "name": "0.418",
         "offsetgroup": "0.418",
         "orientation": "v",
         "showlegend": true,
         "type": "histogram",
         "x": [
          0.418
         ],
         "xaxis": "x",
         "yaxis": "y"
        },
        {
         "alignmentgroup": "True",
         "bingroup": "x",
         "hovertemplate": "danceability=%{x}<br>count=%{y}<extra></extra>",
         "legendgroup": "0.63",
         "marker": {
          "color": "rgb(204, 97, 176)",
          "pattern": {
           "shape": ""
          }
         },
         "name": "0.63",
         "offsetgroup": "0.63",
         "orientation": "v",
         "showlegend": true,
         "type": "histogram",
         "x": [
          0.63
         ],
         "xaxis": "x",
         "yaxis": "y"
        },
        {
         "alignmentgroup": "True",
         "bingroup": "x",
         "hovertemplate": "danceability=%{x}<br>count=%{y}<extra></extra>",
         "legendgroup": "0.468",
         "marker": {
          "color": "rgb(36, 121, 108)",
          "pattern": {
           "shape": ""
          }
         },
         "name": "0.468",
         "offsetgroup": "0.468",
         "orientation": "v",
         "showlegend": true,
         "type": "histogram",
         "x": [
          0.468
         ],
         "xaxis": "x",
         "yaxis": "y"
        },
        {
         "alignmentgroup": "True",
         "bingroup": "x",
         "hovertemplate": "danceability=%{x}<br>count=%{y}<extra></extra>",
         "legendgroup": "0.736",
         "marker": {
          "color": "rgb(218, 165, 27)",
          "pattern": {
           "shape": ""
          }
         },
         "name": "0.736",
         "offsetgroup": "0.736",
         "orientation": "v",
         "showlegend": true,
         "type": "histogram",
         "x": [
          0.736
         ],
         "xaxis": "x",
         "yaxis": "y"
        },
        {
         "alignmentgroup": "True",
         "bingroup": "x",
         "hovertemplate": "danceability=%{x}<br>count=%{y}<extra></extra>",
         "legendgroup": "0.692",
         "marker": {
          "color": "rgb(47, 138, 196)",
          "pattern": {
           "shape": ""
          }
         },
         "name": "0.692",
         "offsetgroup": "0.692",
         "orientation": "v",
         "showlegend": true,
         "type": "histogram",
         "x": [
          0.692
         ],
         "xaxis": "x",
         "yaxis": "y"
        },
        {
         "alignmentgroup": "True",
         "bingroup": "x",
         "hovertemplate": "danceability=%{x}<br>count=%{y}<extra></extra>",
         "legendgroup": "0.34",
         "marker": {
          "color": "rgb(118, 78, 159)",
          "pattern": {
           "shape": ""
          }
         },
         "name": "0.34",
         "offsetgroup": "0.34",
         "orientation": "v",
         "showlegend": true,
         "type": "histogram",
         "x": [
          0.34
         ],
         "xaxis": "x",
         "yaxis": "y"
        },
        {
         "alignmentgroup": "True",
         "bingroup": "x",
         "hovertemplate": "danceability=%{x}<br>count=%{y}<extra></extra>",
         "legendgroup": "0.505",
         "marker": {
          "color": "rgb(237, 100, 90)",
          "pattern": {
           "shape": ""
          }
         },
         "name": "0.505",
         "offsetgroup": "0.505",
         "orientation": "v",
         "showlegend": true,
         "type": "histogram",
         "x": [
          0.505
         ],
         "xaxis": "x",
         "yaxis": "y"
        },
        {
         "alignmentgroup": "True",
         "bingroup": "x",
         "hovertemplate": "danceability=%{x}<br>count=%{y}<extra></extra>",
         "legendgroup": "0.352",
         "marker": {
          "color": "rgb(165, 170, 153)",
          "pattern": {
           "shape": ""
          }
         },
         "name": "0.352",
         "offsetgroup": "0.352",
         "orientation": "v",
         "showlegend": true,
         "type": "histogram",
         "x": [
          0.352
         ],
         "xaxis": "x",
         "yaxis": "y"
        },
        {
         "alignmentgroup": "True",
         "bingroup": "x",
         "hovertemplate": "danceability=%{x}<br>count=%{y}<extra></extra>",
         "legendgroup": "0.856",
         "marker": {
          "color": "rgb(229, 134, 6)",
          "pattern": {
           "shape": ""
          }
         },
         "name": "0.856",
         "offsetgroup": "0.856",
         "orientation": "v",
         "showlegend": true,
         "type": "histogram",
         "x": [
          0.856
         ],
         "xaxis": "x",
         "yaxis": "y"
        },
        {
         "alignmentgroup": "True",
         "bingroup": "x",
         "hovertemplate": "danceability=%{x}<br>count=%{y}<extra></extra>",
         "legendgroup": "0.681",
         "marker": {
          "color": "rgb(93, 105, 177)",
          "pattern": {
           "shape": ""
          }
         },
         "name": "0.681",
         "offsetgroup": "0.681",
         "orientation": "v",
         "showlegend": true,
         "type": "histogram",
         "x": [
          0.681
         ],
         "xaxis": "x",
         "yaxis": "y"
        },
        {
         "alignmentgroup": "True",
         "bingroup": "x",
         "hovertemplate": "danceability=%{x}<br>count=%{y}<extra></extra>",
         "legendgroup": "0.702",
         "marker": {
          "color": "rgb(82, 188, 163)",
          "pattern": {
           "shape": ""
          }
         },
         "name": "0.702",
         "offsetgroup": "0.702",
         "orientation": "v",
         "showlegend": true,
         "type": "histogram",
         "x": [
          0.702
         ],
         "xaxis": "x",
         "yaxis": "y"
        },
        {
         "alignmentgroup": "True",
         "bingroup": "x",
         "hovertemplate": "danceability=%{x}<br>count=%{y}<extra></extra>",
         "legendgroup": "0.455",
         "marker": {
          "color": "rgb(153, 201, 69)",
          "pattern": {
           "shape": ""
          }
         },
         "name": "0.455",
         "offsetgroup": "0.455",
         "orientation": "v",
         "showlegend": true,
         "type": "histogram",
         "x": [
          0.455
         ],
         "xaxis": "x",
         "yaxis": "y"
        },
        {
         "alignmentgroup": "True",
         "bingroup": "x",
         "hovertemplate": "danceability=%{x}<br>count=%{y}<extra></extra>",
         "legendgroup": "0.717",
         "marker": {
          "color": "rgb(204, 97, 176)",
          "pattern": {
           "shape": ""
          }
         },
         "name": "0.717",
         "offsetgroup": "0.717",
         "orientation": "v",
         "showlegend": true,
         "type": "histogram",
         "x": [
          0.717
         ],
         "xaxis": "x",
         "yaxis": "y"
        },
        {
         "alignmentgroup": "True",
         "bingroup": "x",
         "hovertemplate": "danceability=%{x}<br>count=%{y}<extra></extra>",
         "legendgroup": "0.798",
         "marker": {
          "color": "rgb(36, 121, 108)",
          "pattern": {
           "shape": ""
          }
         },
         "name": "0.798",
         "offsetgroup": "0.798",
         "orientation": "v",
         "showlegend": true,
         "type": "histogram",
         "x": [
          0.798
         ],
         "xaxis": "x",
         "yaxis": "y"
        },
        {
         "alignmentgroup": "True",
         "bingroup": "x",
         "hovertemplate": "danceability=%{x}<br>count=%{y}<extra></extra>",
         "legendgroup": "0.731",
         "marker": {
          "color": "rgb(218, 165, 27)",
          "pattern": {
           "shape": ""
          }
         },
         "name": "0.731",
         "offsetgroup": "0.731",
         "orientation": "v",
         "showlegend": true,
         "type": "histogram",
         "x": [
          0.731
         ],
         "xaxis": "x",
         "yaxis": "y"
        },
        {
         "alignmentgroup": "True",
         "bingroup": "x",
         "hovertemplate": "danceability=%{x}<br>count=%{y}<extra></extra>",
         "legendgroup": "0.593",
         "marker": {
          "color": "rgb(47, 138, 196)",
          "pattern": {
           "shape": ""
          }
         },
         "name": "0.593",
         "offsetgroup": "0.593",
         "orientation": "v",
         "showlegend": true,
         "type": "histogram",
         "x": [
          0.593
         ],
         "xaxis": "x",
         "yaxis": "y"
        },
        {
         "alignmentgroup": "True",
         "bingroup": "x",
         "hovertemplate": "danceability=%{x}<br>count=%{y}<extra></extra>",
         "legendgroup": "0.768",
         "marker": {
          "color": "rgb(118, 78, 159)",
          "pattern": {
           "shape": ""
          }
         },
         "name": "0.768",
         "offsetgroup": "0.768",
         "orientation": "v",
         "showlegend": true,
         "type": "histogram",
         "x": [
          0.768
         ],
         "xaxis": "x",
         "yaxis": "y"
        },
        {
         "alignmentgroup": "True",
         "bingroup": "x",
         "hovertemplate": "danceability=%{x}<br>count=%{y}<extra></extra>",
         "legendgroup": "0.726",
         "marker": {
          "color": "rgb(237, 100, 90)",
          "pattern": {
           "shape": ""
          }
         },
         "name": "0.726",
         "offsetgroup": "0.726",
         "orientation": "v",
         "showlegend": true,
         "type": "histogram",
         "x": [
          0.726
         ],
         "xaxis": "x",
         "yaxis": "y"
        },
        {
         "alignmentgroup": "True",
         "bingroup": "x",
         "hovertemplate": "danceability=%{x}<br>count=%{y}<extra></extra>",
         "legendgroup": "0.751",
         "marker": {
          "color": "rgb(165, 170, 153)",
          "pattern": {
           "shape": ""
          }
         },
         "name": "0.751",
         "offsetgroup": "0.751",
         "orientation": "v",
         "showlegend": true,
         "type": "histogram",
         "x": [
          0.751
         ],
         "xaxis": "x",
         "yaxis": "y"
        },
        {
         "alignmentgroup": "True",
         "bingroup": "x",
         "hovertemplate": "danceability=%{x}<br>count=%{y}<extra></extra>",
         "legendgroup": "0.653",
         "marker": {
          "color": "rgb(229, 134, 6)",
          "pattern": {
           "shape": ""
          }
         },
         "name": "0.653",
         "offsetgroup": "0.653",
         "orientation": "v",
         "showlegend": true,
         "type": "histogram",
         "x": [
          0.653
         ],
         "xaxis": "x",
         "yaxis": "y"
        },
        {
         "alignmentgroup": "True",
         "bingroup": "x",
         "hovertemplate": "danceability=%{x}<br>count=%{y}<extra></extra>",
         "legendgroup": "0.921",
         "marker": {
          "color": "rgb(93, 105, 177)",
          "pattern": {
           "shape": ""
          }
         },
         "name": "0.921",
         "offsetgroup": "0.921",
         "orientation": "v",
         "showlegend": true,
         "type": "histogram",
         "x": [
          0.921
         ],
         "xaxis": "x",
         "yaxis": "y"
        },
        {
         "alignmentgroup": "True",
         "bingroup": "x",
         "hovertemplate": "danceability=%{x}<br>count=%{y}<extra></extra>",
         "legendgroup": "0.375",
         "marker": {
          "color": "rgb(82, 188, 163)",
          "pattern": {
           "shape": ""
          }
         },
         "name": "0.375",
         "offsetgroup": "0.375",
         "orientation": "v",
         "showlegend": true,
         "type": "histogram",
         "x": [
          0.375
         ],
         "xaxis": "x",
         "yaxis": "y"
        },
        {
         "alignmentgroup": "True",
         "bingroup": "x",
         "hovertemplate": "danceability=%{x}<br>count=%{y}<extra></extra>",
         "legendgroup": "0.69",
         "marker": {
          "color": "rgb(153, 201, 69)",
          "pattern": {
           "shape": ""
          }
         },
         "name": "0.69",
         "offsetgroup": "0.69",
         "orientation": "v",
         "showlegend": true,
         "type": "histogram",
         "x": [
          0.69
         ],
         "xaxis": "x",
         "yaxis": "y"
        },
        {
         "alignmentgroup": "True",
         "bingroup": "x",
         "hovertemplate": "danceability=%{x}<br>count=%{y}<extra></extra>",
         "legendgroup": "0.853",
         "marker": {
          "color": "rgb(204, 97, 176)",
          "pattern": {
           "shape": ""
          }
         },
         "name": "0.853",
         "offsetgroup": "0.853",
         "orientation": "v",
         "showlegend": true,
         "type": "histogram",
         "x": [
          0.853
         ],
         "xaxis": "x",
         "yaxis": "y"
        },
        {
         "alignmentgroup": "True",
         "bingroup": "x",
         "hovertemplate": "danceability=%{x}<br>count=%{y}<extra></extra>",
         "legendgroup": "0.896",
         "marker": {
          "color": "rgb(36, 121, 108)",
          "pattern": {
           "shape": ""
          }
         },
         "name": "0.896",
         "offsetgroup": "0.896",
         "orientation": "v",
         "showlegend": true,
         "type": "histogram",
         "x": [
          0.896
         ],
         "xaxis": "x",
         "yaxis": "y"
        },
        {
         "alignmentgroup": "True",
         "bingroup": "x",
         "hovertemplate": "danceability=%{x}<br>count=%{y}<extra></extra>",
         "legendgroup": "0.866",
         "marker": {
          "color": "rgb(218, 165, 27)",
          "pattern": {
           "shape": ""
          }
         },
         "name": "0.866",
         "offsetgroup": "0.866",
         "orientation": "v",
         "showlegend": true,
         "type": "histogram",
         "x": [
          0.866
         ],
         "xaxis": "x",
         "yaxis": "y"
        },
        {
         "alignmentgroup": "True",
         "bingroup": "x",
         "hovertemplate": "danceability=%{x}<br>count=%{y}<extra></extra>",
         "legendgroup": "0.752",
         "marker": {
          "color": "rgb(47, 138, 196)",
          "pattern": {
           "shape": ""
          }
         },
         "name": "0.752",
         "offsetgroup": "0.752",
         "orientation": "v",
         "showlegend": true,
         "type": "histogram",
         "x": [
          0.752
         ],
         "xaxis": "x",
         "yaxis": "y"
        },
        {
         "alignmentgroup": "True",
         "bingroup": "x",
         "hovertemplate": "danceability=%{x}<br>count=%{y}<extra></extra>",
         "legendgroup": "0.628",
         "marker": {
          "color": "rgb(118, 78, 159)",
          "pattern": {
           "shape": ""
          }
         },
         "name": "0.628",
         "offsetgroup": "0.628",
         "orientation": "v",
         "showlegend": true,
         "type": "histogram",
         "x": [
          0.628
         ],
         "xaxis": "x",
         "yaxis": "y"
        },
        {
         "alignmentgroup": "True",
         "bingroup": "x",
         "hovertemplate": "danceability=%{x}<br>count=%{y}<extra></extra>",
         "legendgroup": "0.558",
         "marker": {
          "color": "rgb(237, 100, 90)",
          "pattern": {
           "shape": ""
          }
         },
         "name": "0.558",
         "offsetgroup": "0.558",
         "orientation": "v",
         "showlegend": true,
         "type": "histogram",
         "x": [
          0.558
         ],
         "xaxis": "x",
         "yaxis": "y"
        },
        {
         "alignmentgroup": "True",
         "bingroup": "x",
         "hovertemplate": "danceability=%{x}<br>count=%{y}<extra></extra>",
         "legendgroup": "0.646",
         "marker": {
          "color": "rgb(165, 170, 153)",
          "pattern": {
           "shape": ""
          }
         },
         "name": "0.646",
         "offsetgroup": "0.646",
         "orientation": "v",
         "showlegend": true,
         "type": "histogram",
         "x": [
          0.646
         ],
         "xaxis": "x",
         "yaxis": "y"
        },
        {
         "alignmentgroup": "True",
         "bingroup": "x",
         "hovertemplate": "danceability=%{x}<br>count=%{y}<extra></extra>",
         "legendgroup": "0.753",
         "marker": {
          "color": "rgb(229, 134, 6)",
          "pattern": {
           "shape": ""
          }
         },
         "name": "0.753",
         "offsetgroup": "0.753",
         "orientation": "v",
         "showlegend": true,
         "type": "histogram",
         "x": [
          0.753
         ],
         "xaxis": "x",
         "yaxis": "y"
        },
        {
         "alignmentgroup": "True",
         "bingroup": "x",
         "hovertemplate": "danceability=%{x}<br>count=%{y}<extra></extra>",
         "legendgroup": "0.429",
         "marker": {
          "color": "rgb(93, 105, 177)",
          "pattern": {
           "shape": ""
          }
         },
         "name": "0.429",
         "offsetgroup": "0.429",
         "orientation": "v",
         "showlegend": true,
         "type": "histogram",
         "x": [
          0.429
         ],
         "xaxis": "x",
         "yaxis": "y"
        },
        {
         "alignmentgroup": "True",
         "bingroup": "x",
         "hovertemplate": "danceability=%{x}<br>count=%{y}<extra></extra>",
         "legendgroup": "0.655",
         "marker": {
          "color": "rgb(82, 188, 163)",
          "pattern": {
           "shape": ""
          }
         },
         "name": "0.655",
         "offsetgroup": "0.655",
         "orientation": "v",
         "showlegend": true,
         "type": "histogram",
         "x": [
          0.655
         ],
         "xaxis": "x",
         "yaxis": "y"
        },
        {
         "alignmentgroup": "True",
         "bingroup": "x",
         "hovertemplate": "danceability=%{x}<br>count=%{y}<extra></extra>",
         "legendgroup": "0.471",
         "marker": {
          "color": "rgb(153, 201, 69)",
          "pattern": {
           "shape": ""
          }
         },
         "name": "0.471",
         "offsetgroup": "0.471",
         "orientation": "v",
         "showlegend": true,
         "type": "histogram",
         "x": [
          0.471
         ],
         "xaxis": "x",
         "yaxis": "y"
        }
       ],
       "layout": {
        "barmode": "relative",
        "height": 500,
        "legend": {
         "title": {
          "text": "danceability"
         },
         "tracegroupgap": 0
        },
        "template": {
         "data": {
          "bar": [
           {
            "error_x": {
             "color": "#f2f5fa"
            },
            "error_y": {
             "color": "#f2f5fa"
            },
            "marker": {
             "line": {
              "color": "rgb(17,17,17)",
              "width": 0.5
             },
             "pattern": {
              "fillmode": "overlay",
              "size": 10,
              "solidity": 0.2
             }
            },
            "type": "bar"
           }
          ],
          "barpolar": [
           {
            "marker": {
             "line": {
              "color": "rgb(17,17,17)",
              "width": 0.5
             },
             "pattern": {
              "fillmode": "overlay",
              "size": 10,
              "solidity": 0.2
             }
            },
            "type": "barpolar"
           }
          ],
          "carpet": [
           {
            "aaxis": {
             "endlinecolor": "#A2B1C6",
             "gridcolor": "#506784",
             "linecolor": "#506784",
             "minorgridcolor": "#506784",
             "startlinecolor": "#A2B1C6"
            },
            "baxis": {
             "endlinecolor": "#A2B1C6",
             "gridcolor": "#506784",
             "linecolor": "#506784",
             "minorgridcolor": "#506784",
             "startlinecolor": "#A2B1C6"
            },
            "type": "carpet"
           }
          ],
          "choropleth": [
           {
            "colorbar": {
             "outlinewidth": 0,
             "ticks": ""
            },
            "type": "choropleth"
           }
          ],
          "contour": [
           {
            "colorbar": {
             "outlinewidth": 0,
             "ticks": ""
            },
            "colorscale": [
             [
              0,
              "#0d0887"
             ],
             [
              0.1111111111111111,
              "#46039f"
             ],
             [
              0.2222222222222222,
              "#7201a8"
             ],
             [
              0.3333333333333333,
              "#9c179e"
             ],
             [
              0.4444444444444444,
              "#bd3786"
             ],
             [
              0.5555555555555556,
              "#d8576b"
             ],
             [
              0.6666666666666666,
              "#ed7953"
             ],
             [
              0.7777777777777778,
              "#fb9f3a"
             ],
             [
              0.8888888888888888,
              "#fdca26"
             ],
             [
              1,
              "#f0f921"
             ]
            ],
            "type": "contour"
           }
          ],
          "contourcarpet": [
           {
            "colorbar": {
             "outlinewidth": 0,
             "ticks": ""
            },
            "type": "contourcarpet"
           }
          ],
          "heatmap": [
           {
            "colorbar": {
             "outlinewidth": 0,
             "ticks": ""
            },
            "colorscale": [
             [
              0,
              "#0d0887"
             ],
             [
              0.1111111111111111,
              "#46039f"
             ],
             [
              0.2222222222222222,
              "#7201a8"
             ],
             [
              0.3333333333333333,
              "#9c179e"
             ],
             [
              0.4444444444444444,
              "#bd3786"
             ],
             [
              0.5555555555555556,
              "#d8576b"
             ],
             [
              0.6666666666666666,
              "#ed7953"
             ],
             [
              0.7777777777777778,
              "#fb9f3a"
             ],
             [
              0.8888888888888888,
              "#fdca26"
             ],
             [
              1,
              "#f0f921"
             ]
            ],
            "type": "heatmap"
           }
          ],
          "heatmapgl": [
           {
            "colorbar": {
             "outlinewidth": 0,
             "ticks": ""
            },
            "colorscale": [
             [
              0,
              "#0d0887"
             ],
             [
              0.1111111111111111,
              "#46039f"
             ],
             [
              0.2222222222222222,
              "#7201a8"
             ],
             [
              0.3333333333333333,
              "#9c179e"
             ],
             [
              0.4444444444444444,
              "#bd3786"
             ],
             [
              0.5555555555555556,
              "#d8576b"
             ],
             [
              0.6666666666666666,
              "#ed7953"
             ],
             [
              0.7777777777777778,
              "#fb9f3a"
             ],
             [
              0.8888888888888888,
              "#fdca26"
             ],
             [
              1,
              "#f0f921"
             ]
            ],
            "type": "heatmapgl"
           }
          ],
          "histogram": [
           {
            "marker": {
             "pattern": {
              "fillmode": "overlay",
              "size": 10,
              "solidity": 0.2
             }
            },
            "type": "histogram"
           }
          ],
          "histogram2d": [
           {
            "colorbar": {
             "outlinewidth": 0,
             "ticks": ""
            },
            "colorscale": [
             [
              0,
              "#0d0887"
             ],
             [
              0.1111111111111111,
              "#46039f"
             ],
             [
              0.2222222222222222,
              "#7201a8"
             ],
             [
              0.3333333333333333,
              "#9c179e"
             ],
             [
              0.4444444444444444,
              "#bd3786"
             ],
             [
              0.5555555555555556,
              "#d8576b"
             ],
             [
              0.6666666666666666,
              "#ed7953"
             ],
             [
              0.7777777777777778,
              "#fb9f3a"
             ],
             [
              0.8888888888888888,
              "#fdca26"
             ],
             [
              1,
              "#f0f921"
             ]
            ],
            "type": "histogram2d"
           }
          ],
          "histogram2dcontour": [
           {
            "colorbar": {
             "outlinewidth": 0,
             "ticks": ""
            },
            "colorscale": [
             [
              0,
              "#0d0887"
             ],
             [
              0.1111111111111111,
              "#46039f"
             ],
             [
              0.2222222222222222,
              "#7201a8"
             ],
             [
              0.3333333333333333,
              "#9c179e"
             ],
             [
              0.4444444444444444,
              "#bd3786"
             ],
             [
              0.5555555555555556,
              "#d8576b"
             ],
             [
              0.6666666666666666,
              "#ed7953"
             ],
             [
              0.7777777777777778,
              "#fb9f3a"
             ],
             [
              0.8888888888888888,
              "#fdca26"
             ],
             [
              1,
              "#f0f921"
             ]
            ],
            "type": "histogram2dcontour"
           }
          ],
          "mesh3d": [
           {
            "colorbar": {
             "outlinewidth": 0,
             "ticks": ""
            },
            "type": "mesh3d"
           }
          ],
          "parcoords": [
           {
            "line": {
             "colorbar": {
              "outlinewidth": 0,
              "ticks": ""
             }
            },
            "type": "parcoords"
           }
          ],
          "pie": [
           {
            "automargin": true,
            "type": "pie"
           }
          ],
          "scatter": [
           {
            "marker": {
             "line": {
              "color": "#283442"
             }
            },
            "type": "scatter"
           }
          ],
          "scatter3d": [
           {
            "line": {
             "colorbar": {
              "outlinewidth": 0,
              "ticks": ""
             }
            },
            "marker": {
             "colorbar": {
              "outlinewidth": 0,
              "ticks": ""
             }
            },
            "type": "scatter3d"
           }
          ],
          "scattercarpet": [
           {
            "marker": {
             "colorbar": {
              "outlinewidth": 0,
              "ticks": ""
             }
            },
            "type": "scattercarpet"
           }
          ],
          "scattergeo": [
           {
            "marker": {
             "colorbar": {
              "outlinewidth": 0,
              "ticks": ""
             }
            },
            "type": "scattergeo"
           }
          ],
          "scattergl": [
           {
            "marker": {
             "line": {
              "color": "#283442"
             }
            },
            "type": "scattergl"
           }
          ],
          "scattermapbox": [
           {
            "marker": {
             "colorbar": {
              "outlinewidth": 0,
              "ticks": ""
             }
            },
            "type": "scattermapbox"
           }
          ],
          "scatterpolar": [
           {
            "marker": {
             "colorbar": {
              "outlinewidth": 0,
              "ticks": ""
             }
            },
            "type": "scatterpolar"
           }
          ],
          "scatterpolargl": [
           {
            "marker": {
             "colorbar": {
              "outlinewidth": 0,
              "ticks": ""
             }
            },
            "type": "scatterpolargl"
           }
          ],
          "scatterternary": [
           {
            "marker": {
             "colorbar": {
              "outlinewidth": 0,
              "ticks": ""
             }
            },
            "type": "scatterternary"
           }
          ],
          "surface": [
           {
            "colorbar": {
             "outlinewidth": 0,
             "ticks": ""
            },
            "colorscale": [
             [
              0,
              "#0d0887"
             ],
             [
              0.1111111111111111,
              "#46039f"
             ],
             [
              0.2222222222222222,
              "#7201a8"
             ],
             [
              0.3333333333333333,
              "#9c179e"
             ],
             [
              0.4444444444444444,
              "#bd3786"
             ],
             [
              0.5555555555555556,
              "#d8576b"
             ],
             [
              0.6666666666666666,
              "#ed7953"
             ],
             [
              0.7777777777777778,
              "#fb9f3a"
             ],
             [
              0.8888888888888888,
              "#fdca26"
             ],
             [
              1,
              "#f0f921"
             ]
            ],
            "type": "surface"
           }
          ],
          "table": [
           {
            "cells": {
             "fill": {
              "color": "#506784"
             },
             "line": {
              "color": "rgb(17,17,17)"
             }
            },
            "header": {
             "fill": {
              "color": "#2a3f5f"
             },
             "line": {
              "color": "rgb(17,17,17)"
             }
            },
            "type": "table"
           }
          ]
         },
         "layout": {
          "annotationdefaults": {
           "arrowcolor": "#f2f5fa",
           "arrowhead": 0,
           "arrowwidth": 1
          },
          "autotypenumbers": "strict",
          "coloraxis": {
           "colorbar": {
            "outlinewidth": 0,
            "ticks": ""
           }
          },
          "colorscale": {
           "diverging": [
            [
             0,
             "#8e0152"
            ],
            [
             0.1,
             "#c51b7d"
            ],
            [
             0.2,
             "#de77ae"
            ],
            [
             0.3,
             "#f1b6da"
            ],
            [
             0.4,
             "#fde0ef"
            ],
            [
             0.5,
             "#f7f7f7"
            ],
            [
             0.6,
             "#e6f5d0"
            ],
            [
             0.7,
             "#b8e186"
            ],
            [
             0.8,
             "#7fbc41"
            ],
            [
             0.9,
             "#4d9221"
            ],
            [
             1,
             "#276419"
            ]
           ],
           "sequential": [
            [
             0,
             "#0d0887"
            ],
            [
             0.1111111111111111,
             "#46039f"
            ],
            [
             0.2222222222222222,
             "#7201a8"
            ],
            [
             0.3333333333333333,
             "#9c179e"
            ],
            [
             0.4444444444444444,
             "#bd3786"
            ],
            [
             0.5555555555555556,
             "#d8576b"
            ],
            [
             0.6666666666666666,
             "#ed7953"
            ],
            [
             0.7777777777777778,
             "#fb9f3a"
            ],
            [
             0.8888888888888888,
             "#fdca26"
            ],
            [
             1,
             "#f0f921"
            ]
           ],
           "sequentialminus": [
            [
             0,
             "#0d0887"
            ],
            [
             0.1111111111111111,
             "#46039f"
            ],
            [
             0.2222222222222222,
             "#7201a8"
            ],
            [
             0.3333333333333333,
             "#9c179e"
            ],
            [
             0.4444444444444444,
             "#bd3786"
            ],
            [
             0.5555555555555556,
             "#d8576b"
            ],
            [
             0.6666666666666666,
             "#ed7953"
            ],
            [
             0.7777777777777778,
             "#fb9f3a"
            ],
            [
             0.8888888888888888,
             "#fdca26"
            ],
            [
             1,
             "#f0f921"
            ]
           ]
          },
          "colorway": [
           "#636efa",
           "#EF553B",
           "#00cc96",
           "#ab63fa",
           "#FFA15A",
           "#19d3f3",
           "#FF6692",
           "#B6E880",
           "#FF97FF",
           "#FECB52"
          ],
          "font": {
           "color": "#f2f5fa"
          },
          "geo": {
           "bgcolor": "rgb(17,17,17)",
           "lakecolor": "rgb(17,17,17)",
           "landcolor": "rgb(17,17,17)",
           "showlakes": true,
           "showland": true,
           "subunitcolor": "#506784"
          },
          "hoverlabel": {
           "align": "left"
          },
          "hovermode": "closest",
          "mapbox": {
           "style": "dark"
          },
          "paper_bgcolor": "rgb(17,17,17)",
          "plot_bgcolor": "rgb(17,17,17)",
          "polar": {
           "angularaxis": {
            "gridcolor": "#506784",
            "linecolor": "#506784",
            "ticks": ""
           },
           "bgcolor": "rgb(17,17,17)",
           "radialaxis": {
            "gridcolor": "#506784",
            "linecolor": "#506784",
            "ticks": ""
           }
          },
          "scene": {
           "xaxis": {
            "backgroundcolor": "rgb(17,17,17)",
            "gridcolor": "#506784",
            "gridwidth": 2,
            "linecolor": "#506784",
            "showbackground": true,
            "ticks": "",
            "zerolinecolor": "#C8D4E3"
           },
           "yaxis": {
            "backgroundcolor": "rgb(17,17,17)",
            "gridcolor": "#506784",
            "gridwidth": 2,
            "linecolor": "#506784",
            "showbackground": true,
            "ticks": "",
            "zerolinecolor": "#C8D4E3"
           },
           "zaxis": {
            "backgroundcolor": "rgb(17,17,17)",
            "gridcolor": "#506784",
            "gridwidth": 2,
            "linecolor": "#506784",
            "showbackground": true,
            "ticks": "",
            "zerolinecolor": "#C8D4E3"
           }
          },
          "shapedefaults": {
           "line": {
            "color": "#f2f5fa"
           }
          },
          "sliderdefaults": {
           "bgcolor": "#C8D4E3",
           "bordercolor": "rgb(17,17,17)",
           "borderwidth": 1,
           "tickwidth": 0
          },
          "ternary": {
           "aaxis": {
            "gridcolor": "#506784",
            "linecolor": "#506784",
            "ticks": ""
           },
           "baxis": {
            "gridcolor": "#506784",
            "linecolor": "#506784",
            "ticks": ""
           },
           "bgcolor": "rgb(17,17,17)",
           "caxis": {
            "gridcolor": "#506784",
            "linecolor": "#506784",
            "ticks": ""
           }
          },
          "title": {
           "x": 0.05
          },
          "updatemenudefaults": {
           "bgcolor": "#506784",
           "borderwidth": 0
          },
          "xaxis": {
           "automargin": true,
           "gridcolor": "#283442",
           "linecolor": "#506784",
           "ticks": "",
           "title": {
            "standoff": 15
           },
           "zerolinecolor": "#283442",
           "zerolinewidth": 2
          },
          "yaxis": {
           "automargin": true,
           "gridcolor": "#283442",
           "linecolor": "#506784",
           "ticks": "",
           "title": {
            "standoff": 15
           },
           "zerolinecolor": "#283442",
           "zerolinewidth": 2
          }
         }
        },
        "title": {
         "font": {
          "size": 20
         },
         "text": "<b>Count vs Danceability"
        },
        "width": 800,
        "xaxis": {
         "anchor": "y",
         "categoryarray": [
          0.514,
          0.825,
          0.824,
          0.501,
          0.585,
          0.76,
          0.792,
          0.748,
          0.621,
          0.776,
          0.759,
          0.634,
          0.761,
          0.358,
          0.679,
          0.701,
          0.781,
          0.511,
          0.498,
          0.351,
          0.548,
          0.754,
          0.718,
          0.392,
          0.617,
          0.612,
          0.572,
          0.52,
          0.609,
          0.695,
          0.74,
          0.566,
          0.422,
          0.502,
          0.778,
          0.841,
          0.872,
          0.765,
          0.734,
          0.732,
          0.664,
          0.762,
          0.532,
          0.484,
          0.733,
          0.908,
          0.479,
          0.834,
          0.556,
          0.563,
          0.73,
          0.791,
          0.649,
          0.561,
          0.723,
          0.444,
          0.769,
          0.68,
          0.418,
          0.63,
          0.468,
          0.736,
          0.692,
          0.34,
          0.505,
          0.352,
          0.856,
          0.681,
          0.702,
          0.455,
          0.717,
          0.798,
          0.731,
          0.593,
          0.768,
          0.726,
          0.751,
          0.653,
          0.921,
          0.375,
          0.69,
          0.853,
          0.896,
          0.866,
          0.752,
          0.628,
          0.558,
          0.646,
          0.753,
          0.429,
          0.655,
          0.471
         ],
         "categoryorder": "array",
         "domain": [
          0,
          1
         ],
         "title": {
          "text": "danceability"
         }
        },
        "yaxis": {
         "anchor": "x",
         "domain": [
          0,
          1
         ],
         "title": {
          "text": "count"
         }
        }
       }
      }
     },
     "metadata": {},
     "output_type": "display_data"
    }
   ],
   "source": [
    "Features_copy = Features.copy()\n",
    "Features_copy['danceability'] = \\\n",
    "    Features_copy['danceability'].fillna('Null')\n",
    "\n",
    "fig=px.histogram(Features_copy,\n",
    "                 x = 'danceability',\n",
    "                 color = 'danceability',\n",
    "                 title=\"<b>Count vs Danceability\",\n",
    "                 color_discrete_sequence=px.colors.qualitative.Vivid,\n",
    "                 width=800, height=500)\n",
    "fig.update_layout(template=\"plotly_dark\")\n",
    "fig.update_layout(title_font_size=20)\n",
    "fig.show()"
   ]
  },
  {
   "cell_type": "code",
   "execution_count": 17,
   "metadata": {},
   "outputs": [],
   "source": [
    "# Calculate Summary analystics\n",
    "summary = Features.describe()\n",
    "# Calculate Mode\n",
    "mode = Features.mode()"
   ]
  },
  {
   "cell_type": "code",
   "execution_count": 18,
   "metadata": {},
   "outputs": [
    {
     "data": {
      "text/html": [
       "<style type=\"text/css\">\n",
       "#T_f21ba_row0_col0, #T_f21ba_row0_col1, #T_f21ba_row0_col2, #T_f21ba_row0_col3, #T_f21ba_row0_col4, #T_f21ba_row0_col5, #T_f21ba_row0_col6, #T_f21ba_row0_col7, #T_f21ba_row0_col8, #T_f21ba_row0_col9, #T_f21ba_row0_col10, #T_f21ba_row0_col11, #T_f21ba_row1_col0, #T_f21ba_row1_col1, #T_f21ba_row1_col2, #T_f21ba_row1_col3, #T_f21ba_row1_col4, #T_f21ba_row1_col5, #T_f21ba_row1_col6, #T_f21ba_row1_col7, #T_f21ba_row1_col8, #T_f21ba_row1_col9, #T_f21ba_row1_col10, #T_f21ba_row1_col11, #T_f21ba_row2_col0, #T_f21ba_row2_col1, #T_f21ba_row2_col2, #T_f21ba_row2_col3, #T_f21ba_row2_col4, #T_f21ba_row2_col5, #T_f21ba_row2_col6, #T_f21ba_row2_col7, #T_f21ba_row2_col8, #T_f21ba_row2_col9, #T_f21ba_row2_col10, #T_f21ba_row2_col11, #T_f21ba_row3_col0, #T_f21ba_row3_col1, #T_f21ba_row3_col2, #T_f21ba_row3_col3, #T_f21ba_row3_col4, #T_f21ba_row3_col5, #T_f21ba_row3_col6, #T_f21ba_row3_col7, #T_f21ba_row3_col8, #T_f21ba_row3_col9, #T_f21ba_row3_col10, #T_f21ba_row3_col11, #T_f21ba_row4_col0, #T_f21ba_row4_col1, #T_f21ba_row4_col2, #T_f21ba_row4_col3, #T_f21ba_row4_col4, #T_f21ba_row4_col5, #T_f21ba_row4_col6, #T_f21ba_row4_col7, #T_f21ba_row4_col8, #T_f21ba_row4_col9, #T_f21ba_row4_col10, #T_f21ba_row4_col11, #T_f21ba_row5_col0, #T_f21ba_row5_col1, #T_f21ba_row5_col2, #T_f21ba_row5_col3, #T_f21ba_row5_col4, #T_f21ba_row5_col5, #T_f21ba_row5_col6, #T_f21ba_row5_col7, #T_f21ba_row5_col8, #T_f21ba_row5_col9, #T_f21ba_row5_col10, #T_f21ba_row5_col11, #T_f21ba_row6_col0, #T_f21ba_row6_col1, #T_f21ba_row6_col2, #T_f21ba_row6_col3, #T_f21ba_row6_col4, #T_f21ba_row6_col5, #T_f21ba_row6_col6, #T_f21ba_row6_col7, #T_f21ba_row6_col8, #T_f21ba_row6_col9, #T_f21ba_row6_col10, #T_f21ba_row6_col11, #T_f21ba_row7_col0, #T_f21ba_row7_col1, #T_f21ba_row7_col2, #T_f21ba_row7_col3, #T_f21ba_row7_col4, #T_f21ba_row7_col5, #T_f21ba_row7_col6, #T_f21ba_row7_col7, #T_f21ba_row7_col8, #T_f21ba_row7_col9, #T_f21ba_row7_col10, #T_f21ba_row7_col11 {\n",
       "  background-color: #212636;\n",
       "  color: white;\n",
       "  border: 1.5px solid white;\n",
       "}\n",
       "</style>\n",
       "<table id=\"T_f21ba\">\n",
       "  <thead>\n",
       "    <tr>\n",
       "      <th class=\"blank level0\" >&nbsp;</th>\n",
       "      <th id=\"T_f21ba_level0_col0\" class=\"col_heading level0 col0\" >duration</th>\n",
       "      <th id=\"T_f21ba_level0_col1\" class=\"col_heading level0 col1\" >energy</th>\n",
       "      <th id=\"T_f21ba_level0_col2\" class=\"col_heading level0 col2\" >key</th>\n",
       "      <th id=\"T_f21ba_level0_col3\" class=\"col_heading level0 col3\" >loudness</th>\n",
       "      <th id=\"T_f21ba_level0_col4\" class=\"col_heading level0 col4\" >mode</th>\n",
       "      <th id=\"T_f21ba_level0_col5\" class=\"col_heading level0 col5\" >speechiness</th>\n",
       "      <th id=\"T_f21ba_level0_col6\" class=\"col_heading level0 col6\" >acousticness</th>\n",
       "      <th id=\"T_f21ba_level0_col7\" class=\"col_heading level0 col7\" >instrumentalness</th>\n",
       "      <th id=\"T_f21ba_level0_col8\" class=\"col_heading level0 col8\" >liveness</th>\n",
       "      <th id=\"T_f21ba_level0_col9\" class=\"col_heading level0 col9\" >valence</th>\n",
       "      <th id=\"T_f21ba_level0_col10\" class=\"col_heading level0 col10\" >tempo</th>\n",
       "      <th id=\"T_f21ba_level0_col11\" class=\"col_heading level0 col11\" >danceability</th>\n",
       "    </tr>\n",
       "  </thead>\n",
       "  <tbody>\n",
       "    <tr>\n",
       "      <th id=\"T_f21ba_level0_row0\" class=\"row_heading level0 row0\" >count</th>\n",
       "      <td id=\"T_f21ba_row0_col0\" class=\"data row0 col0\" >100.000000</td>\n",
       "      <td id=\"T_f21ba_row0_col1\" class=\"data row0 col1\" >100.000000</td>\n",
       "      <td id=\"T_f21ba_row0_col2\" class=\"data row0 col2\" >100.000000</td>\n",
       "      <td id=\"T_f21ba_row0_col3\" class=\"data row0 col3\" >100.000000</td>\n",
       "      <td id=\"T_f21ba_row0_col4\" class=\"data row0 col4\" >100.000000</td>\n",
       "      <td id=\"T_f21ba_row0_col5\" class=\"data row0 col5\" >100.000000</td>\n",
       "      <td id=\"T_f21ba_row0_col6\" class=\"data row0 col6\" >100.000000</td>\n",
       "      <td id=\"T_f21ba_row0_col7\" class=\"data row0 col7\" >100.000000</td>\n",
       "      <td id=\"T_f21ba_row0_col8\" class=\"data row0 col8\" >100.000000</td>\n",
       "      <td id=\"T_f21ba_row0_col9\" class=\"data row0 col9\" >100.000000</td>\n",
       "      <td id=\"T_f21ba_row0_col10\" class=\"data row0 col10\" >100.000000</td>\n",
       "      <td id=\"T_f21ba_row0_col11\" class=\"data row0 col11\" >100.000000</td>\n",
       "    </tr>\n",
       "    <tr>\n",
       "      <th id=\"T_f21ba_level0_row1\" class=\"row_heading level0 row1\" >mean</th>\n",
       "      <td id=\"T_f21ba_row1_col0\" class=\"data row1 col0\" >3.635300</td>\n",
       "      <td id=\"T_f21ba_row1_col1\" class=\"data row1 col1\" >0.625500</td>\n",
       "      <td id=\"T_f21ba_row1_col2\" class=\"data row1 col2\" >5.340000</td>\n",
       "      <td id=\"T_f21ba_row1_col3\" class=\"data row1 col3\" >-6.176310</td>\n",
       "      <td id=\"T_f21ba_row1_col4\" class=\"data row1 col4\" >0.650000</td>\n",
       "      <td id=\"T_f21ba_row1_col5\" class=\"data row1 col5\" >0.096448</td>\n",
       "      <td id=\"T_f21ba_row1_col6\" class=\"data row1 col6\" >0.260955</td>\n",
       "      <td id=\"T_f21ba_row1_col7\" class=\"data row1 col7\" >0.007848</td>\n",
       "      <td id=\"T_f21ba_row1_col8\" class=\"data row1 col8\" >0.165682</td>\n",
       "      <td id=\"T_f21ba_row1_col9\" class=\"data row1 col9\" >0.502032</td>\n",
       "      <td id=\"T_f21ba_row1_col10\" class=\"data row1 col10\" >121.253900</td>\n",
       "      <td id=\"T_f21ba_row1_col11\" class=\"data row1 col11\" >0.649630</td>\n",
       "    </tr>\n",
       "    <tr>\n",
       "      <th id=\"T_f21ba_level0_row2\" class=\"row_heading level0 row2\" >std</th>\n",
       "      <td id=\"T_f21ba_row2_col0\" class=\"data row2 col0\" >0.807997</td>\n",
       "      <td id=\"T_f21ba_row2_col1\" class=\"data row2 col1\" >0.160045</td>\n",
       "      <td id=\"T_f21ba_row2_col2\" class=\"data row2 col2\" >3.627114</td>\n",
       "      <td id=\"T_f21ba_row2_col3\" class=\"data row2 col3\" >2.008580</td>\n",
       "      <td id=\"T_f21ba_row2_col4\" class=\"data row2 col4\" >0.479372</td>\n",
       "      <td id=\"T_f21ba_row2_col5\" class=\"data row2 col5\" >0.088872</td>\n",
       "      <td id=\"T_f21ba_row2_col6\" class=\"data row2 col6\" >0.272764</td>\n",
       "      <td id=\"T_f21ba_row2_col7\" class=\"data row2 col7\" >0.048977</td>\n",
       "      <td id=\"T_f21ba_row2_col8\" class=\"data row2 col8\" >0.122867</td>\n",
       "      <td id=\"T_f21ba_row2_col9\" class=\"data row2 col9\" >0.224953</td>\n",
       "      <td id=\"T_f21ba_row2_col10\" class=\"data row2 col10\" >29.544364</td>\n",
       "      <td id=\"T_f21ba_row2_col11\" class=\"data row2 col11\" >0.144618</td>\n",
       "    </tr>\n",
       "    <tr>\n",
       "      <th id=\"T_f21ba_level0_row3\" class=\"row_heading level0 row3\" >min</th>\n",
       "      <td id=\"T_f21ba_row3_col0\" class=\"data row3 col0\" >1.520000</td>\n",
       "      <td id=\"T_f21ba_row3_col1\" class=\"data row3 col1\" >0.185000</td>\n",
       "      <td id=\"T_f21ba_row3_col2\" class=\"data row3 col2\" >0.000000</td>\n",
       "      <td id=\"T_f21ba_row3_col3\" class=\"data row3 col3\" >-12.205000</td>\n",
       "      <td id=\"T_f21ba_row3_col4\" class=\"data row3 col4\" >0.000000</td>\n",
       "      <td id=\"T_f21ba_row3_col5\" class=\"data row3 col5\" >0.028100</td>\n",
       "      <td id=\"T_f21ba_row3_col6\" class=\"data row3 col6\" >0.000025</td>\n",
       "      <td id=\"T_f21ba_row3_col7\" class=\"data row3 col7\" >0.000000</td>\n",
       "      <td id=\"T_f21ba_row3_col8\" class=\"data row3 col8\" >0.034400</td>\n",
       "      <td id=\"T_f21ba_row3_col9\" class=\"data row3 col9\" >0.061200</td>\n",
       "      <td id=\"T_f21ba_row3_col10\" class=\"data row3 col10\" >74.897000</td>\n",
       "      <td id=\"T_f21ba_row3_col11\" class=\"data row3 col11\" >0.340000</td>\n",
       "    </tr>\n",
       "    <tr>\n",
       "      <th id=\"T_f21ba_level0_row4\" class=\"row_heading level0 row4\" >25%</th>\n",
       "      <td id=\"T_f21ba_row4_col0\" class=\"data row4 col0\" >3.122500</td>\n",
       "      <td id=\"T_f21ba_row4_col1\" class=\"data row4 col1\" >0.523750</td>\n",
       "      <td id=\"T_f21ba_row4_col2\" class=\"data row4 col2\" >2.000000</td>\n",
       "      <td id=\"T_f21ba_row4_col3\" class=\"data row4 col3\" >-7.103750</td>\n",
       "      <td id=\"T_f21ba_row4_col4\" class=\"data row4 col4\" >0.000000</td>\n",
       "      <td id=\"T_f21ba_row4_col5\" class=\"data row4 col5\" >0.041200</td>\n",
       "      <td id=\"T_f21ba_row4_col6\" class=\"data row4 col6\" >0.026150</td>\n",
       "      <td id=\"T_f21ba_row4_col7\" class=\"data row4 col7\" >0.000000</td>\n",
       "      <td id=\"T_f21ba_row4_col8\" class=\"data row4 col8\" >0.094300</td>\n",
       "      <td id=\"T_f21ba_row4_col9\" class=\"data row4 col9\" >0.340750</td>\n",
       "      <td id=\"T_f21ba_row4_col10\" class=\"data row4 col10\" >98.022000</td>\n",
       "      <td id=\"T_f21ba_row4_col11\" class=\"data row4 col11\" >0.548000</td>\n",
       "    </tr>\n",
       "    <tr>\n",
       "      <th id=\"T_f21ba_level0_row5\" class=\"row_heading level0 row5\" >50%</th>\n",
       "      <td id=\"T_f21ba_row5_col0\" class=\"data row5 col0\" >3.505000</td>\n",
       "      <td id=\"T_f21ba_row5_col1\" class=\"data row5 col1\" >0.640000</td>\n",
       "      <td id=\"T_f21ba_row5_col2\" class=\"data row5 col2\" >6.000000</td>\n",
       "      <td id=\"T_f21ba_row5_col3\" class=\"data row5 col3\" >-5.971500</td>\n",
       "      <td id=\"T_f21ba_row5_col4\" class=\"data row5 col4\" >1.000000</td>\n",
       "      <td id=\"T_f21ba_row5_col5\" class=\"data row5 col5\" >0.059400</td>\n",
       "      <td id=\"T_f21ba_row5_col6\" class=\"data row5 col6\" >0.162500</td>\n",
       "      <td id=\"T_f21ba_row5_col7\" class=\"data row5 col7\" >0.000000</td>\n",
       "      <td id=\"T_f21ba_row5_col8\" class=\"data row5 col8\" >0.114000</td>\n",
       "      <td id=\"T_f21ba_row5_col9\" class=\"data row5 col9\" >0.492000</td>\n",
       "      <td id=\"T_f21ba_row5_col10\" class=\"data row5 col10\" >116.864000</td>\n",
       "      <td id=\"T_f21ba_row5_col11\" class=\"data row5 col11\" >0.671500</td>\n",
       "    </tr>\n",
       "    <tr>\n",
       "      <th id=\"T_f21ba_level0_row6\" class=\"row_heading level0 row6\" >75%</th>\n",
       "      <td id=\"T_f21ba_row6_col0\" class=\"data row6 col0\" >4.030000</td>\n",
       "      <td id=\"T_f21ba_row6_col1\" class=\"data row6 col1\" >0.741000</td>\n",
       "      <td id=\"T_f21ba_row6_col2\" class=\"data row6 col2\" >8.250000</td>\n",
       "      <td id=\"T_f21ba_row6_col3\" class=\"data row6 col3\" >-4.940750</td>\n",
       "      <td id=\"T_f21ba_row6_col4\" class=\"data row6 col4\" >1.000000</td>\n",
       "      <td id=\"T_f21ba_row6_col5\" class=\"data row6 col5\" >0.106000</td>\n",
       "      <td id=\"T_f21ba_row6_col6\" class=\"data row6 col6\" >0.431500</td>\n",
       "      <td id=\"T_f21ba_row6_col7\" class=\"data row6 col7\" >0.000086</td>\n",
       "      <td id=\"T_f21ba_row6_col8\" class=\"data row6 col8\" >0.217000</td>\n",
       "      <td id=\"T_f21ba_row6_col9\" class=\"data row6 col9\" >0.663000</td>\n",
       "      <td id=\"T_f21ba_row6_col10\" class=\"data row6 col10\" >142.439500</td>\n",
       "      <td id=\"T_f21ba_row6_col11\" class=\"data row6 col11\" >0.759250</td>\n",
       "    </tr>\n",
       "    <tr>\n",
       "      <th id=\"T_f21ba_level0_row7\" class=\"row_heading level0 row7\" >max</th>\n",
       "      <td id=\"T_f21ba_row7_col0\" class=\"data row7 col0\" >7.050000</td>\n",
       "      <td id=\"T_f21ba_row7_col1\" class=\"data row7 col1\" >0.912000</td>\n",
       "      <td id=\"T_f21ba_row7_col2\" class=\"data row7 col2\" >11.000000</td>\n",
       "      <td id=\"T_f21ba_row7_col3\" class=\"data row7 col3\" >-2.810000</td>\n",
       "      <td id=\"T_f21ba_row7_col4\" class=\"data row7 col4\" >1.000000</td>\n",
       "      <td id=\"T_f21ba_row7_col5\" class=\"data row7 col5\" >0.438000</td>\n",
       "      <td id=\"T_f21ba_row7_col6\" class=\"data row7 col6\" >0.945000</td>\n",
       "      <td id=\"T_f21ba_row7_col7\" class=\"data row7 col7\" >0.459000</td>\n",
       "      <td id=\"T_f21ba_row7_col8\" class=\"data row7 col8\" >0.790000</td>\n",
       "      <td id=\"T_f21ba_row7_col9\" class=\"data row7 col9\" >0.969000</td>\n",
       "      <td id=\"T_f21ba_row7_col10\" class=\"data row7 col10\" >186.003000</td>\n",
       "      <td id=\"T_f21ba_row7_col11\" class=\"data row7 col11\" >0.921000</td>\n",
       "    </tr>\n",
       "  </tbody>\n",
       "</table>\n"
      ],
      "text/plain": [
       "<pandas.io.formats.style.Styler at 0x257b998de90>"
      ]
     },
     "metadata": {},
     "output_type": "display_data"
    },
    {
     "data": {
      "text/html": [
       "<style type=\"text/css\">\n",
       "#T_ba00c_row0_col0, #T_ba00c_row0_col1, #T_ba00c_row0_col2, #T_ba00c_row0_col3, #T_ba00c_row0_col4, #T_ba00c_row0_col5, #T_ba00c_row0_col6, #T_ba00c_row0_col7, #T_ba00c_row0_col8, #T_ba00c_row0_col9, #T_ba00c_row0_col10, #T_ba00c_row0_col11, #T_ba00c_row0_col12, #T_ba00c_row0_col13, #T_ba00c_row1_col0, #T_ba00c_row1_col1, #T_ba00c_row1_col2, #T_ba00c_row1_col3, #T_ba00c_row1_col4, #T_ba00c_row1_col5, #T_ba00c_row1_col6, #T_ba00c_row1_col7, #T_ba00c_row1_col8, #T_ba00c_row1_col9, #T_ba00c_row1_col10, #T_ba00c_row1_col11, #T_ba00c_row1_col12, #T_ba00c_row1_col13, #T_ba00c_row2_col0, #T_ba00c_row2_col1, #T_ba00c_row2_col2, #T_ba00c_row2_col3, #T_ba00c_row2_col4, #T_ba00c_row2_col5, #T_ba00c_row2_col6, #T_ba00c_row2_col7, #T_ba00c_row2_col8, #T_ba00c_row2_col9, #T_ba00c_row2_col10, #T_ba00c_row2_col11, #T_ba00c_row2_col12, #T_ba00c_row2_col13, #T_ba00c_row3_col0, #T_ba00c_row3_col1, #T_ba00c_row3_col2, #T_ba00c_row3_col3, #T_ba00c_row3_col4, #T_ba00c_row3_col5, #T_ba00c_row3_col6, #T_ba00c_row3_col7, #T_ba00c_row3_col8, #T_ba00c_row3_col9, #T_ba00c_row3_col10, #T_ba00c_row3_col11, #T_ba00c_row3_col12, #T_ba00c_row3_col13, #T_ba00c_row4_col0, #T_ba00c_row4_col1, #T_ba00c_row4_col2, #T_ba00c_row4_col3, #T_ba00c_row4_col4, #T_ba00c_row4_col5, #T_ba00c_row4_col6, #T_ba00c_row4_col7, #T_ba00c_row4_col8, #T_ba00c_row4_col9, #T_ba00c_row4_col10, #T_ba00c_row4_col11, #T_ba00c_row4_col12, #T_ba00c_row4_col13, #T_ba00c_row5_col0, #T_ba00c_row5_col1, #T_ba00c_row5_col2, #T_ba00c_row5_col3, #T_ba00c_row5_col4, #T_ba00c_row5_col5, #T_ba00c_row5_col6, #T_ba00c_row5_col7, #T_ba00c_row5_col8, #T_ba00c_row5_col9, #T_ba00c_row5_col10, #T_ba00c_row5_col11, #T_ba00c_row5_col12, #T_ba00c_row5_col13, #T_ba00c_row6_col0, #T_ba00c_row6_col1, #T_ba00c_row6_col2, #T_ba00c_row6_col3, #T_ba00c_row6_col4, #T_ba00c_row6_col5, #T_ba00c_row6_col6, #T_ba00c_row6_col7, #T_ba00c_row6_col8, #T_ba00c_row6_col9, #T_ba00c_row6_col10, #T_ba00c_row6_col11, #T_ba00c_row6_col12, #T_ba00c_row6_col13, #T_ba00c_row7_col0, #T_ba00c_row7_col1, #T_ba00c_row7_col2, #T_ba00c_row7_col3, #T_ba00c_row7_col4, #T_ba00c_row7_col5, #T_ba00c_row7_col6, #T_ba00c_row7_col7, #T_ba00c_row7_col8, #T_ba00c_row7_col9, #T_ba00c_row7_col10, #T_ba00c_row7_col11, #T_ba00c_row7_col12, #T_ba00c_row7_col13, #T_ba00c_row8_col0, #T_ba00c_row8_col1, #T_ba00c_row8_col2, #T_ba00c_row8_col3, #T_ba00c_row8_col4, #T_ba00c_row8_col5, #T_ba00c_row8_col6, #T_ba00c_row8_col7, #T_ba00c_row8_col8, #T_ba00c_row8_col9, #T_ba00c_row8_col10, #T_ba00c_row8_col11, #T_ba00c_row8_col12, #T_ba00c_row8_col13, #T_ba00c_row9_col0, #T_ba00c_row9_col1, #T_ba00c_row9_col2, #T_ba00c_row9_col3, #T_ba00c_row9_col4, #T_ba00c_row9_col5, #T_ba00c_row9_col6, #T_ba00c_row9_col7, #T_ba00c_row9_col8, #T_ba00c_row9_col9, #T_ba00c_row9_col10, #T_ba00c_row9_col11, #T_ba00c_row9_col12, #T_ba00c_row9_col13, #T_ba00c_row10_col0, #T_ba00c_row10_col1, #T_ba00c_row10_col2, #T_ba00c_row10_col3, #T_ba00c_row10_col4, #T_ba00c_row10_col5, #T_ba00c_row10_col6, #T_ba00c_row10_col7, #T_ba00c_row10_col8, #T_ba00c_row10_col9, #T_ba00c_row10_col10, #T_ba00c_row10_col11, #T_ba00c_row10_col12, #T_ba00c_row10_col13, #T_ba00c_row11_col0, #T_ba00c_row11_col1, #T_ba00c_row11_col2, #T_ba00c_row11_col3, #T_ba00c_row11_col4, #T_ba00c_row11_col5, #T_ba00c_row11_col6, #T_ba00c_row11_col7, #T_ba00c_row11_col8, #T_ba00c_row11_col9, #T_ba00c_row11_col10, #T_ba00c_row11_col11, #T_ba00c_row11_col12, #T_ba00c_row11_col13, #T_ba00c_row12_col0, #T_ba00c_row12_col1, #T_ba00c_row12_col2, #T_ba00c_row12_col3, #T_ba00c_row12_col4, #T_ba00c_row12_col5, #T_ba00c_row12_col6, #T_ba00c_row12_col7, #T_ba00c_row12_col8, #T_ba00c_row12_col9, #T_ba00c_row12_col10, #T_ba00c_row12_col11, #T_ba00c_row12_col12, #T_ba00c_row12_col13, #T_ba00c_row13_col0, #T_ba00c_row13_col1, #T_ba00c_row13_col2, #T_ba00c_row13_col3, #T_ba00c_row13_col4, #T_ba00c_row13_col5, #T_ba00c_row13_col6, #T_ba00c_row13_col7, #T_ba00c_row13_col8, #T_ba00c_row13_col9, #T_ba00c_row13_col10, #T_ba00c_row13_col11, #T_ba00c_row13_col12, #T_ba00c_row13_col13, #T_ba00c_row14_col0, #T_ba00c_row14_col1, #T_ba00c_row14_col2, #T_ba00c_row14_col3, #T_ba00c_row14_col4, #T_ba00c_row14_col5, #T_ba00c_row14_col6, #T_ba00c_row14_col7, #T_ba00c_row14_col8, #T_ba00c_row14_col9, #T_ba00c_row14_col10, #T_ba00c_row14_col11, #T_ba00c_row14_col12, #T_ba00c_row14_col13 {\n",
       "  background-color: #212636;\n",
       "  color: white;\n",
       "  border: 1.5px solid white;\n",
       "}\n",
       "</style>\n",
       "<table id=\"T_ba00c\">\n",
       "  <thead>\n",
       "    <tr>\n",
       "      <th class=\"blank level0\" >&nbsp;</th>\n",
       "      <th id=\"T_ba00c_level0_col0\" class=\"col_heading level0 col0\" >id</th>\n",
       "      <th id=\"T_ba00c_level0_col1\" class=\"col_heading level0 col1\" >name</th>\n",
       "      <th id=\"T_ba00c_level0_col2\" class=\"col_heading level0 col2\" >duration</th>\n",
       "      <th id=\"T_ba00c_level0_col3\" class=\"col_heading level0 col3\" >energy</th>\n",
       "      <th id=\"T_ba00c_level0_col4\" class=\"col_heading level0 col4\" >key</th>\n",
       "      <th id=\"T_ba00c_level0_col5\" class=\"col_heading level0 col5\" >loudness</th>\n",
       "      <th id=\"T_ba00c_level0_col6\" class=\"col_heading level0 col6\" >mode</th>\n",
       "      <th id=\"T_ba00c_level0_col7\" class=\"col_heading level0 col7\" >speechiness</th>\n",
       "      <th id=\"T_ba00c_level0_col8\" class=\"col_heading level0 col8\" >acousticness</th>\n",
       "      <th id=\"T_ba00c_level0_col9\" class=\"col_heading level0 col9\" >instrumentalness</th>\n",
       "      <th id=\"T_ba00c_level0_col10\" class=\"col_heading level0 col10\" >liveness</th>\n",
       "      <th id=\"T_ba00c_level0_col11\" class=\"col_heading level0 col11\" >valence</th>\n",
       "      <th id=\"T_ba00c_level0_col12\" class=\"col_heading level0 col12\" >tempo</th>\n",
       "      <th id=\"T_ba00c_level0_col13\" class=\"col_heading level0 col13\" >danceability</th>\n",
       "    </tr>\n",
       "  </thead>\n",
       "  <tbody>\n",
       "    <tr>\n",
       "      <th id=\"T_ba00c_level0_row0\" class=\"row_heading level0 row0\" >0</th>\n",
       "      <td id=\"T_ba00c_row0_col0\" class=\"data row0 col0\" >6UelLqGlWMcVH1E5c4H7lY</td>\n",
       "      <td id=\"T_ba00c_row0_col1\" class=\"data row0 col1\" >'Till I Collapse</td>\n",
       "      <td id=\"T_ba00c_row0_col2\" class=\"data row0 col2\" >2.900000</td>\n",
       "      <td id=\"T_ba00c_row0_col3\" class=\"data row0 col3\" >0.816000</td>\n",
       "      <td id=\"T_ba00c_row0_col4\" class=\"data row0 col4\" >1.000000</td>\n",
       "      <td id=\"T_ba00c_row0_col5\" class=\"data row0 col5\" >-4.209000</td>\n",
       "      <td id=\"T_ba00c_row0_col6\" class=\"data row0 col6\" >1.000000</td>\n",
       "      <td id=\"T_ba00c_row0_col7\" class=\"data row0 col7\" >0.040600</td>\n",
       "      <td id=\"T_ba00c_row0_col8\" class=\"data row0 col8\" >0.062200</td>\n",
       "      <td id=\"T_ba00c_row0_col9\" class=\"data row0 col9\" >0.000000</td>\n",
       "      <td id=\"T_ba00c_row0_col10\" class=\"data row0 col10\" >0.101000</td>\n",
       "      <td id=\"T_ba00c_row0_col11\" class=\"data row0 col11\" >0.446000</td>\n",
       "      <td id=\"T_ba00c_row0_col12\" class=\"data row0 col12\" >95.390000</td>\n",
       "      <td id=\"T_ba00c_row0_col13\" class=\"data row0 col13\" >0.548000</td>\n",
       "    </tr>\n",
       "    <tr>\n",
       "      <th id=\"T_ba00c_level0_row1\" class=\"row_heading level0 row1\" >1</th>\n",
       "      <td id=\"T_ba00c_row1_col0\" class=\"data row1 col0\" >nan</td>\n",
       "      <td id=\"T_ba00c_row1_col1\" class=\"data row1 col1\" >7 Rings</td>\n",
       "      <td id=\"T_ba00c_row1_col2\" class=\"data row1 col2\" >3.490000</td>\n",
       "      <td id=\"T_ba00c_row1_col3\" class=\"data row1 col3\" >nan</td>\n",
       "      <td id=\"T_ba00c_row1_col4\" class=\"data row1 col4\" >nan</td>\n",
       "      <td id=\"T_ba00c_row1_col5\" class=\"data row1 col5\" >nan</td>\n",
       "      <td id=\"T_ba00c_row1_col6\" class=\"data row1 col6\" >nan</td>\n",
       "      <td id=\"T_ba00c_row1_col7\" class=\"data row1 col7\" >0.046500</td>\n",
       "      <td id=\"T_ba00c_row1_col8\" class=\"data row1 col8\" >0.122000</td>\n",
       "      <td id=\"T_ba00c_row1_col9\" class=\"data row1 col9\" >nan</td>\n",
       "      <td id=\"T_ba00c_row1_col10\" class=\"data row1 col10\" >0.135000</td>\n",
       "      <td id=\"T_ba00c_row1_col11\" class=\"data row1 col11\" >nan</td>\n",
       "      <td id=\"T_ba00c_row1_col12\" class=\"data row1 col12\" >nan</td>\n",
       "      <td id=\"T_ba00c_row1_col13\" class=\"data row1 col13\" >nan</td>\n",
       "    </tr>\n",
       "    <tr>\n",
       "      <th id=\"T_ba00c_level0_row2\" class=\"row_heading level0 row2\" >2</th>\n",
       "      <td id=\"T_ba00c_row2_col0\" class=\"data row2 col0\" >nan</td>\n",
       "      <td id=\"T_ba00c_row2_col1\" class=\"data row2 col1\" >7 Years</td>\n",
       "      <td id=\"T_ba00c_row2_col2\" class=\"data row2 col2\" >3.900000</td>\n",
       "      <td id=\"T_ba00c_row2_col3\" class=\"data row2 col3\" >nan</td>\n",
       "      <td id=\"T_ba00c_row2_col4\" class=\"data row2 col4\" >nan</td>\n",
       "      <td id=\"T_ba00c_row2_col5\" class=\"data row2 col5\" >nan</td>\n",
       "      <td id=\"T_ba00c_row2_col6\" class=\"data row2 col6\" >nan</td>\n",
       "      <td id=\"T_ba00c_row2_col7\" class=\"data row2 col7\" >0.048400</td>\n",
       "      <td id=\"T_ba00c_row2_col8\" class=\"data row2 col8\" >0.371000</td>\n",
       "      <td id=\"T_ba00c_row2_col9\" class=\"data row2 col9\" >nan</td>\n",
       "      <td id=\"T_ba00c_row2_col10\" class=\"data row2 col10\" >nan</td>\n",
       "      <td id=\"T_ba00c_row2_col11\" class=\"data row2 col11\" >nan</td>\n",
       "      <td id=\"T_ba00c_row2_col12\" class=\"data row2 col12\" >nan</td>\n",
       "      <td id=\"T_ba00c_row2_col13\" class=\"data row2 col13\" >nan</td>\n",
       "    </tr>\n",
       "    <tr>\n",
       "      <th id=\"T_ba00c_level0_row3\" class=\"row_heading level0 row3\" >3</th>\n",
       "      <td id=\"T_ba00c_row3_col0\" class=\"data row3 col0\" >nan</td>\n",
       "      <td id=\"T_ba00c_row3_col1\" class=\"data row3 col1\" >All of Me</td>\n",
       "      <td id=\"T_ba00c_row3_col2\" class=\"data row3 col2\" >nan</td>\n",
       "      <td id=\"T_ba00c_row3_col3\" class=\"data row3 col3\" >nan</td>\n",
       "      <td id=\"T_ba00c_row3_col4\" class=\"data row3 col4\" >nan</td>\n",
       "      <td id=\"T_ba00c_row3_col5\" class=\"data row3 col5\" >nan</td>\n",
       "      <td id=\"T_ba00c_row3_col6\" class=\"data row3 col6\" >nan</td>\n",
       "      <td id=\"T_ba00c_row3_col7\" class=\"data row3 col7\" >0.053600</td>\n",
       "      <td id=\"T_ba00c_row3_col8\" class=\"data row3 col8\" >0.556000</td>\n",
       "      <td id=\"T_ba00c_row3_col9\" class=\"data row3 col9\" >nan</td>\n",
       "      <td id=\"T_ba00c_row3_col10\" class=\"data row3 col10\" >nan</td>\n",
       "      <td id=\"T_ba00c_row3_col11\" class=\"data row3 col11\" >nan</td>\n",
       "      <td id=\"T_ba00c_row3_col12\" class=\"data row3 col12\" >nan</td>\n",
       "      <td id=\"T_ba00c_row3_col13\" class=\"data row3 col13\" >nan</td>\n",
       "    </tr>\n",
       "    <tr>\n",
       "      <th id=\"T_ba00c_level0_row4\" class=\"row_heading level0 row4\" >4</th>\n",
       "      <td id=\"T_ba00c_row4_col0\" class=\"data row4 col0\" >nan</td>\n",
       "      <td id=\"T_ba00c_row4_col1\" class=\"data row4 col1\" >As It Was</td>\n",
       "      <td id=\"T_ba00c_row4_col2\" class=\"data row4 col2\" >nan</td>\n",
       "      <td id=\"T_ba00c_row4_col3\" class=\"data row4 col3\" >nan</td>\n",
       "      <td id=\"T_ba00c_row4_col4\" class=\"data row4 col4\" >nan</td>\n",
       "      <td id=\"T_ba00c_row4_col5\" class=\"data row4 col5\" >nan</td>\n",
       "      <td id=\"T_ba00c_row4_col6\" class=\"data row4 col6\" >nan</td>\n",
       "      <td id=\"T_ba00c_row4_col7\" class=\"data row4 col7\" >0.061500</td>\n",
       "      <td id=\"T_ba00c_row4_col8\" class=\"data row4 col8\" >nan</td>\n",
       "      <td id=\"T_ba00c_row4_col9\" class=\"data row4 col9\" >nan</td>\n",
       "      <td id=\"T_ba00c_row4_col10\" class=\"data row4 col10\" >nan</td>\n",
       "      <td id=\"T_ba00c_row4_col11\" class=\"data row4 col11\" >nan</td>\n",
       "      <td id=\"T_ba00c_row4_col12\" class=\"data row4 col12\" >nan</td>\n",
       "      <td id=\"T_ba00c_row4_col13\" class=\"data row4 col13\" >nan</td>\n",
       "    </tr>\n",
       "    <tr>\n",
       "      <th id=\"T_ba00c_level0_row5\" class=\"row_heading level0 row5\" >5</th>\n",
       "      <td id=\"T_ba00c_row5_col0\" class=\"data row5 col0\" >nan</td>\n",
       "      <td id=\"T_ba00c_row5_col1\" class=\"data row5 col1\" >Bad Guy</td>\n",
       "      <td id=\"T_ba00c_row5_col2\" class=\"data row5 col2\" >nan</td>\n",
       "      <td id=\"T_ba00c_row5_col3\" class=\"data row5 col3\" >nan</td>\n",
       "      <td id=\"T_ba00c_row5_col4\" class=\"data row5 col4\" >nan</td>\n",
       "      <td id=\"T_ba00c_row5_col5\" class=\"data row5 col5\" >nan</td>\n",
       "      <td id=\"T_ba00c_row5_col6\" class=\"data row5 col6\" >nan</td>\n",
       "      <td id=\"T_ba00c_row5_col7\" class=\"data row5 col7\" >nan</td>\n",
       "      <td id=\"T_ba00c_row5_col8\" class=\"data row5 col8\" >nan</td>\n",
       "      <td id=\"T_ba00c_row5_col9\" class=\"data row5 col9\" >nan</td>\n",
       "      <td id=\"T_ba00c_row5_col10\" class=\"data row5 col10\" >nan</td>\n",
       "      <td id=\"T_ba00c_row5_col11\" class=\"data row5 col11\" >nan</td>\n",
       "      <td id=\"T_ba00c_row5_col12\" class=\"data row5 col12\" >nan</td>\n",
       "      <td id=\"T_ba00c_row5_col13\" class=\"data row5 col13\" >nan</td>\n",
       "    </tr>\n",
       "    <tr>\n",
       "      <th id=\"T_ba00c_level0_row6\" class=\"row_heading level0 row6\" >6</th>\n",
       "      <td id=\"T_ba00c_row6_col0\" class=\"data row6 col0\" >nan</td>\n",
       "      <td id=\"T_ba00c_row6_col1\" class=\"data row6 col1\" >Believer</td>\n",
       "      <td id=\"T_ba00c_row6_col2\" class=\"data row6 col2\" >nan</td>\n",
       "      <td id=\"T_ba00c_row6_col3\" class=\"data row6 col3\" >nan</td>\n",
       "      <td id=\"T_ba00c_row6_col4\" class=\"data row6 col4\" >nan</td>\n",
       "      <td id=\"T_ba00c_row6_col5\" class=\"data row6 col5\" >nan</td>\n",
       "      <td id=\"T_ba00c_row6_col6\" class=\"data row6 col6\" >nan</td>\n",
       "      <td id=\"T_ba00c_row6_col7\" class=\"data row6 col7\" >nan</td>\n",
       "      <td id=\"T_ba00c_row6_col8\" class=\"data row6 col8\" >nan</td>\n",
       "      <td id=\"T_ba00c_row6_col9\" class=\"data row6 col9\" >nan</td>\n",
       "      <td id=\"T_ba00c_row6_col10\" class=\"data row6 col10\" >nan</td>\n",
       "      <td id=\"T_ba00c_row6_col11\" class=\"data row6 col11\" >nan</td>\n",
       "      <td id=\"T_ba00c_row6_col12\" class=\"data row6 col12\" >nan</td>\n",
       "      <td id=\"T_ba00c_row6_col13\" class=\"data row6 col13\" >nan</td>\n",
       "    </tr>\n",
       "    <tr>\n",
       "      <th id=\"T_ba00c_level0_row7\" class=\"row_heading level0 row7\" >7</th>\n",
       "      <td id=\"T_ba00c_row7_col0\" class=\"data row7 col0\" >nan</td>\n",
       "      <td id=\"T_ba00c_row7_col1\" class=\"data row7 col1\" >Better Now</td>\n",
       "      <td id=\"T_ba00c_row7_col2\" class=\"data row7 col2\" >nan</td>\n",
       "      <td id=\"T_ba00c_row7_col3\" class=\"data row7 col3\" >nan</td>\n",
       "      <td id=\"T_ba00c_row7_col4\" class=\"data row7 col4\" >nan</td>\n",
       "      <td id=\"T_ba00c_row7_col5\" class=\"data row7 col5\" >nan</td>\n",
       "      <td id=\"T_ba00c_row7_col6\" class=\"data row7 col6\" >nan</td>\n",
       "      <td id=\"T_ba00c_row7_col7\" class=\"data row7 col7\" >nan</td>\n",
       "      <td id=\"T_ba00c_row7_col8\" class=\"data row7 col8\" >nan</td>\n",
       "      <td id=\"T_ba00c_row7_col9\" class=\"data row7 col9\" >nan</td>\n",
       "      <td id=\"T_ba00c_row7_col10\" class=\"data row7 col10\" >nan</td>\n",
       "      <td id=\"T_ba00c_row7_col11\" class=\"data row7 col11\" >nan</td>\n",
       "      <td id=\"T_ba00c_row7_col12\" class=\"data row7 col12\" >nan</td>\n",
       "      <td id=\"T_ba00c_row7_col13\" class=\"data row7 col13\" >nan</td>\n",
       "    </tr>\n",
       "    <tr>\n",
       "      <th id=\"T_ba00c_level0_row8\" class=\"row_heading level0 row8\" >8</th>\n",
       "      <td id=\"T_ba00c_row8_col0\" class=\"data row8 col0\" >nan</td>\n",
       "      <td id=\"T_ba00c_row8_col1\" class=\"data row8 col1\" >Blinding Lights</td>\n",
       "      <td id=\"T_ba00c_row8_col2\" class=\"data row8 col2\" >nan</td>\n",
       "      <td id=\"T_ba00c_row8_col3\" class=\"data row8 col3\" >nan</td>\n",
       "      <td id=\"T_ba00c_row8_col4\" class=\"data row8 col4\" >nan</td>\n",
       "      <td id=\"T_ba00c_row8_col5\" class=\"data row8 col5\" >nan</td>\n",
       "      <td id=\"T_ba00c_row8_col6\" class=\"data row8 col6\" >nan</td>\n",
       "      <td id=\"T_ba00c_row8_col7\" class=\"data row8 col7\" >nan</td>\n",
       "      <td id=\"T_ba00c_row8_col8\" class=\"data row8 col8\" >nan</td>\n",
       "      <td id=\"T_ba00c_row8_col9\" class=\"data row8 col9\" >nan</td>\n",
       "      <td id=\"T_ba00c_row8_col10\" class=\"data row8 col10\" >nan</td>\n",
       "      <td id=\"T_ba00c_row8_col11\" class=\"data row8 col11\" >nan</td>\n",
       "      <td id=\"T_ba00c_row8_col12\" class=\"data row8 col12\" >nan</td>\n",
       "      <td id=\"T_ba00c_row8_col13\" class=\"data row8 col13\" >nan</td>\n",
       "    </tr>\n",
       "    <tr>\n",
       "      <th id=\"T_ba00c_level0_row9\" class=\"row_heading level0 row9\" >9</th>\n",
       "      <td id=\"T_ba00c_row9_col0\" class=\"data row9 col0\" >nan</td>\n",
       "      <td id=\"T_ba00c_row9_col1\" class=\"data row9 col1\" >Bohemian Rhapsody</td>\n",
       "      <td id=\"T_ba00c_row9_col2\" class=\"data row9 col2\" >nan</td>\n",
       "      <td id=\"T_ba00c_row9_col3\" class=\"data row9 col3\" >nan</td>\n",
       "      <td id=\"T_ba00c_row9_col4\" class=\"data row9 col4\" >nan</td>\n",
       "      <td id=\"T_ba00c_row9_col5\" class=\"data row9 col5\" >nan</td>\n",
       "      <td id=\"T_ba00c_row9_col6\" class=\"data row9 col6\" >nan</td>\n",
       "      <td id=\"T_ba00c_row9_col7\" class=\"data row9 col7\" >nan</td>\n",
       "      <td id=\"T_ba00c_row9_col8\" class=\"data row9 col8\" >nan</td>\n",
       "      <td id=\"T_ba00c_row9_col9\" class=\"data row9 col9\" >nan</td>\n",
       "      <td id=\"T_ba00c_row9_col10\" class=\"data row9 col10\" >nan</td>\n",
       "      <td id=\"T_ba00c_row9_col11\" class=\"data row9 col11\" >nan</td>\n",
       "      <td id=\"T_ba00c_row9_col12\" class=\"data row9 col12\" >nan</td>\n",
       "      <td id=\"T_ba00c_row9_col13\" class=\"data row9 col13\" >nan</td>\n",
       "    </tr>\n",
       "    <tr>\n",
       "      <th id=\"T_ba00c_level0_row10\" class=\"row_heading level0 row10\" >10</th>\n",
       "      <td id=\"T_ba00c_row10_col0\" class=\"data row10 col0\" >nan</td>\n",
       "      <td id=\"T_ba00c_row10_col1\" class=\"data row10 col1\" >Can't Hold Us</td>\n",
       "      <td id=\"T_ba00c_row10_col2\" class=\"data row10 col2\" >nan</td>\n",
       "      <td id=\"T_ba00c_row10_col3\" class=\"data row10 col3\" >nan</td>\n",
       "      <td id=\"T_ba00c_row10_col4\" class=\"data row10 col4\" >nan</td>\n",
       "      <td id=\"T_ba00c_row10_col5\" class=\"data row10 col5\" >nan</td>\n",
       "      <td id=\"T_ba00c_row10_col6\" class=\"data row10 col6\" >nan</td>\n",
       "      <td id=\"T_ba00c_row10_col7\" class=\"data row10 col7\" >nan</td>\n",
       "      <td id=\"T_ba00c_row10_col8\" class=\"data row10 col8\" >nan</td>\n",
       "      <td id=\"T_ba00c_row10_col9\" class=\"data row10 col9\" >nan</td>\n",
       "      <td id=\"T_ba00c_row10_col10\" class=\"data row10 col10\" >nan</td>\n",
       "      <td id=\"T_ba00c_row10_col11\" class=\"data row10 col11\" >nan</td>\n",
       "      <td id=\"T_ba00c_row10_col12\" class=\"data row10 col12\" >nan</td>\n",
       "      <td id=\"T_ba00c_row10_col13\" class=\"data row10 col13\" >nan</td>\n",
       "    </tr>\n",
       "    <tr>\n",
       "      <th id=\"T_ba00c_level0_row11\" class=\"row_heading level0 row11\" >11</th>\n",
       "      <td id=\"T_ba00c_row11_col0\" class=\"data row11 col0\" >nan</td>\n",
       "      <td id=\"T_ba00c_row11_col1\" class=\"data row11 col1\" >Cheap Thrills</td>\n",
       "      <td id=\"T_ba00c_row11_col2\" class=\"data row11 col2\" >nan</td>\n",
       "      <td id=\"T_ba00c_row11_col3\" class=\"data row11 col3\" >nan</td>\n",
       "      <td id=\"T_ba00c_row11_col4\" class=\"data row11 col4\" >nan</td>\n",
       "      <td id=\"T_ba00c_row11_col5\" class=\"data row11 col5\" >nan</td>\n",
       "      <td id=\"T_ba00c_row11_col6\" class=\"data row11 col6\" >nan</td>\n",
       "      <td id=\"T_ba00c_row11_col7\" class=\"data row11 col7\" >nan</td>\n",
       "      <td id=\"T_ba00c_row11_col8\" class=\"data row11 col8\" >nan</td>\n",
       "      <td id=\"T_ba00c_row11_col9\" class=\"data row11 col9\" >nan</td>\n",
       "      <td id=\"T_ba00c_row11_col10\" class=\"data row11 col10\" >nan</td>\n",
       "      <td id=\"T_ba00c_row11_col11\" class=\"data row11 col11\" >nan</td>\n",
       "      <td id=\"T_ba00c_row11_col12\" class=\"data row11 col12\" >nan</td>\n",
       "      <td id=\"T_ba00c_row11_col13\" class=\"data row11 col13\" >nan</td>\n",
       "    </tr>\n",
       "    <tr>\n",
       "      <th id=\"T_ba00c_level0_row12\" class=\"row_heading level0 row12\" >12</th>\n",
       "      <td id=\"T_ba00c_row12_col0\" class=\"data row12 col0\" >nan</td>\n",
       "      <td id=\"T_ba00c_row12_col1\" class=\"data row12 col1\" >Circles</td>\n",
       "      <td id=\"T_ba00c_row12_col2\" class=\"data row12 col2\" >nan</td>\n",
       "      <td id=\"T_ba00c_row12_col3\" class=\"data row12 col3\" >nan</td>\n",
       "      <td id=\"T_ba00c_row12_col4\" class=\"data row12 col4\" >nan</td>\n",
       "      <td id=\"T_ba00c_row12_col5\" class=\"data row12 col5\" >nan</td>\n",
       "      <td id=\"T_ba00c_row12_col6\" class=\"data row12 col6\" >nan</td>\n",
       "      <td id=\"T_ba00c_row12_col7\" class=\"data row12 col7\" >nan</td>\n",
       "      <td id=\"T_ba00c_row12_col8\" class=\"data row12 col8\" >nan</td>\n",
       "      <td id=\"T_ba00c_row12_col9\" class=\"data row12 col9\" >nan</td>\n",
       "      <td id=\"T_ba00c_row12_col10\" class=\"data row12 col10\" >nan</td>\n",
       "      <td id=\"T_ba00c_row12_col11\" class=\"data row12 col11\" >nan</td>\n",
       "      <td id=\"T_ba00c_row12_col12\" class=\"data row12 col12\" >nan</td>\n",
       "      <td id=\"T_ba00c_row12_col13\" class=\"data row12 col13\" >nan</td>\n",
       "    </tr>\n",
       "    <tr>\n",
       "      <th id=\"T_ba00c_level0_row13\" class=\"row_heading level0 row13\" >13</th>\n",
       "      <td id=\"T_ba00c_row13_col0\" class=\"data row13 col0\" >nan</td>\n",
       "      <td id=\"T_ba00c_row13_col1\" class=\"data row13 col1\" >Closer</td>\n",
       "      <td id=\"T_ba00c_row13_col2\" class=\"data row13 col2\" >nan</td>\n",
       "      <td id=\"T_ba00c_row13_col3\" class=\"data row13 col3\" >nan</td>\n",
       "      <td id=\"T_ba00c_row13_col4\" class=\"data row13 col4\" >nan</td>\n",
       "      <td id=\"T_ba00c_row13_col5\" class=\"data row13 col5\" >nan</td>\n",
       "      <td id=\"T_ba00c_row13_col6\" class=\"data row13 col6\" >nan</td>\n",
       "      <td id=\"T_ba00c_row13_col7\" class=\"data row13 col7\" >nan</td>\n",
       "      <td id=\"T_ba00c_row13_col8\" class=\"data row13 col8\" >nan</td>\n",
       "      <td id=\"T_ba00c_row13_col9\" class=\"data row13 col9\" >nan</td>\n",
       "      <td id=\"T_ba00c_row13_col10\" class=\"data row13 col10\" >nan</td>\n",
       "      <td id=\"T_ba00c_row13_col11\" class=\"data row13 col11\" >nan</td>\n",
       "      <td id=\"T_ba00c_row13_col12\" class=\"data row13 col12\" >nan</td>\n",
       "      <td id=\"T_ba00c_row13_col13\" class=\"data row13 col13\" >nan</td>\n",
       "    </tr>\n",
       "    <tr>\n",
       "      <th id=\"T_ba00c_level0_row14\" class=\"row_heading level0 row14\" >14</th>\n",
       "      <td id=\"T_ba00c_row14_col0\" class=\"data row14 col0\" >nan</td>\n",
       "      <td id=\"T_ba00c_row14_col1\" class=\"data row14 col1\" >Congratulations</td>\n",
       "      <td id=\"T_ba00c_row14_col2\" class=\"data row14 col2\" >nan</td>\n",
       "      <td id=\"T_ba00c_row14_col3\" class=\"data row14 col3\" >nan</td>\n",
       "      <td id=\"T_ba00c_row14_col4\" class=\"data row14 col4\" >nan</td>\n",
       "      <td id=\"T_ba00c_row14_col5\" class=\"data row14 col5\" >nan</td>\n",
       "      <td id=\"T_ba00c_row14_col6\" class=\"data row14 col6\" >nan</td>\n",
       "      <td id=\"T_ba00c_row14_col7\" class=\"data row14 col7\" >nan</td>\n",
       "      <td id=\"T_ba00c_row14_col8\" class=\"data row14 col8\" >nan</td>\n",
       "      <td id=\"T_ba00c_row14_col9\" class=\"data row14 col9\" >nan</td>\n",
       "      <td id=\"T_ba00c_row14_col10\" class=\"data row14 col10\" >nan</td>\n",
       "      <td id=\"T_ba00c_row14_col11\" class=\"data row14 col11\" >nan</td>\n",
       "      <td id=\"T_ba00c_row14_col12\" class=\"data row14 col12\" >nan</td>\n",
       "      <td id=\"T_ba00c_row14_col13\" class=\"data row14 col13\" >nan</td>\n",
       "    </tr>\n",
       "  </tbody>\n",
       "</table>\n"
      ],
      "text/plain": [
       "<pandas.io.formats.style.Styler at 0x257b8ce0f10>"
      ]
     },
     "metadata": {},
     "output_type": "display_data"
    }
   ],
   "source": [
    "display(summary.head(15).style.set_properties(\n",
    "    **{\"background-color\": \"#212636\",\"color\":\"white\",\"border\": \"1.5px solid white\"}))\n",
    "\n",
    "display(mode.head(15).style.set_properties(\n",
    "    **{\"background-color\": \"#212636\",\"color\":\"white\",\"border\": \"1.5px solid white\"}))\n"
   ]
  },
  {
   "cell_type": "code",
   "execution_count": 19,
   "metadata": {},
   "outputs": [
    {
     "data": {
      "application/vnd.plotly.v1+json": {
       "config": {
        "plotlyServerURL": "https://plot.ly"
       },
       "data": [
        {
         "coloraxis": "coloraxis",
         "hovertemplate": "Features: %{x}<br>Features: %{y}<br>Correlation: %{z}<extra></extra>",
         "name": "0",
         "type": "heatmap",
         "x": [
          "duration",
          "energy",
          "key",
          "loudness",
          "mode",
          "speechiness",
          "acousticness",
          "instrumentalness",
          "liveness",
          "valence",
          "tempo",
          "danceability"
         ],
         "xaxis": "x",
         "y": [
          "duration",
          "energy",
          "key",
          "loudness",
          "mode",
          "speechiness",
          "acousticness",
          "instrumentalness",
          "liveness",
          "valence",
          "tempo",
          "danceability"
         ],
         "yaxis": "y",
         "z": [
          [
           1,
           0.008278614200594534,
           -0.046874750505900314,
           0.07343194842763727,
           0.16391612065235409,
           -0.07393835035806474,
           -0.03654176043653525,
           -0.10744973383221322,
           -0.12560303719153165,
           -0.2044256400579198,
           0.0639215106168033,
           -0.20087233464148227
          ],
          [
           0.008278614200594534,
           1,
           -0.08754193814226693,
           0.741793502987356,
           0.09525516594024587,
           -0.05964367755397553,
           -0.7035515059812375,
           -0.27503397994943996,
           -0.03325132300307001,
           0.23865934271999706,
           0.25986317310798107,
           0.014443446799637383
          ],
          [
           -0.046874750505900314,
           -0.08754193814226693,
           1,
           -0.08133864011876027,
           -0.16324382286961345,
           0.034264593163458396,
           0.050491818214248425,
           0.20654719260796486,
           0.10796099918629051,
           0.03144839600421261,
           -0.09284467690299435,
           0.04341581757436363
          ],
          [
           0.07343194842763727,
           0.741793502987356,
           -0.08133864011876027,
           1,
           0.17908753864867694,
           -0.21400859527291832,
           -0.5111766423472645,
           -0.3453495741252484,
           -0.019159187566629293,
           0.26039739741510215,
           0.12191553151792427,
           0.13903918009979674
          ],
          [
           0.16391612065235409,
           0.09525516594024587,
           -0.16324382286961345,
           0.17908753864867694,
           1,
           -0.11528172938662606,
           -0.02659284077668303,
           -0.08279376827361168,
           -0.03504187057255182,
           -0.07895240269377798,
           -0.0278198021632115,
           -0.18328793377278424
          ],
          [
           -0.07393835035806474,
           -0.05964367755397553,
           0.034264593163458396,
           -0.21400859527291832,
           -0.11528172938662606,
           1,
           0.07903033844378839,
           0.009310982611582752,
           -0.007594313388843635,
           0.02660260017970011,
           0.17232408325980925,
           0.16208857727808712
          ],
          [
           -0.03654176043653525,
           -0.7035515059812375,
           0.050491818214248425,
           -0.5111766423472645,
           -0.02659284077668303,
           0.07903033844378839,
           1,
           0.2266349850095711,
           -0.12215418296018644,
           -0.1398982315335356,
           -0.23581047438913233,
           -0.1860991514493598
          ],
          [
           -0.10744973383221322,
           -0.27503397994943996,
           0.20654719260796486,
           -0.3453495741252484,
           -0.08279376827361168,
           0.009310982611582752,
           0.2266349850095711,
           1,
           0.029135847760233164,
           0.104192154226373,
           -0.10337207609801355,
           -0.09196819918254653
          ],
          [
           -0.12560303719153165,
           -0.03325132300307001,
           0.10796099918629051,
           -0.019159187566629293,
           -0.03504187057255182,
           -0.007594313388843635,
           -0.12215418296018644,
           0.029135847760233164,
           1,
           -0.16977733889273874,
           -0.09047199530470293,
           0.010374016238572169
          ],
          [
           -0.2044256400579198,
           0.23865934271999706,
           0.03144839600421261,
           0.26039739741510215,
           -0.07895240269377798,
           0.02660260017970011,
           -0.1398982315335356,
           0.104192154226373,
           -0.16977733889273874,
           1,
           -0.05904329506998928,
           0.37964280244192977
          ],
          [
           0.0639215106168033,
           0.25986317310798107,
           -0.09284467690299435,
           0.12191553151792427,
           -0.0278198021632115,
           0.17232408325980925,
           -0.23581047438913233,
           -0.10337207609801355,
           -0.09047199530470293,
           -0.05904329506998928,
           1,
           -0.05772721185569122
          ],
          [
           -0.20087233464148227,
           0.014443446799637383,
           0.04341581757436363,
           0.13903918009979674,
           -0.18328793377278424,
           0.16208857727808712,
           -0.1860991514493598,
           -0.09196819918254653,
           0.010374016238572169,
           0.37964280244192977,
           -0.05772721185569122,
           1
          ]
         ]
        }
       ],
       "layout": {
        "coloraxis": {
         "colorbar": {
          "title": {
           "text": "Correlation"
          }
         },
         "colorscale": [
          [
           0,
           "#0d0887"
          ],
          [
           0.1111111111111111,
           "#46039f"
          ],
          [
           0.2222222222222222,
           "#7201a8"
          ],
          [
           0.3333333333333333,
           "#9c179e"
          ],
          [
           0.4444444444444444,
           "#bd3786"
          ],
          [
           0.5555555555555556,
           "#d8576b"
          ],
          [
           0.6666666666666666,
           "#ed7953"
          ],
          [
           0.7777777777777778,
           "#fb9f3a"
          ],
          [
           0.8888888888888888,
           "#fdca26"
          ],
          [
           1,
           "#f0f921"
          ]
         ]
        },
        "height": 1000,
        "template": {
         "data": {
          "bar": [
           {
            "error_x": {
             "color": "#2a3f5f"
            },
            "error_y": {
             "color": "#2a3f5f"
            },
            "marker": {
             "line": {
              "color": "#E5ECF6",
              "width": 0.5
             },
             "pattern": {
              "fillmode": "overlay",
              "size": 10,
              "solidity": 0.2
             }
            },
            "type": "bar"
           }
          ],
          "barpolar": [
           {
            "marker": {
             "line": {
              "color": "#E5ECF6",
              "width": 0.5
             },
             "pattern": {
              "fillmode": "overlay",
              "size": 10,
              "solidity": 0.2
             }
            },
            "type": "barpolar"
           }
          ],
          "carpet": [
           {
            "aaxis": {
             "endlinecolor": "#2a3f5f",
             "gridcolor": "white",
             "linecolor": "white",
             "minorgridcolor": "white",
             "startlinecolor": "#2a3f5f"
            },
            "baxis": {
             "endlinecolor": "#2a3f5f",
             "gridcolor": "white",
             "linecolor": "white",
             "minorgridcolor": "white",
             "startlinecolor": "#2a3f5f"
            },
            "type": "carpet"
           }
          ],
          "choropleth": [
           {
            "colorbar": {
             "outlinewidth": 0,
             "ticks": ""
            },
            "type": "choropleth"
           }
          ],
          "contour": [
           {
            "colorbar": {
             "outlinewidth": 0,
             "ticks": ""
            },
            "colorscale": [
             [
              0,
              "#0d0887"
             ],
             [
              0.1111111111111111,
              "#46039f"
             ],
             [
              0.2222222222222222,
              "#7201a8"
             ],
             [
              0.3333333333333333,
              "#9c179e"
             ],
             [
              0.4444444444444444,
              "#bd3786"
             ],
             [
              0.5555555555555556,
              "#d8576b"
             ],
             [
              0.6666666666666666,
              "#ed7953"
             ],
             [
              0.7777777777777778,
              "#fb9f3a"
             ],
             [
              0.8888888888888888,
              "#fdca26"
             ],
             [
              1,
              "#f0f921"
             ]
            ],
            "type": "contour"
           }
          ],
          "contourcarpet": [
           {
            "colorbar": {
             "outlinewidth": 0,
             "ticks": ""
            },
            "type": "contourcarpet"
           }
          ],
          "heatmap": [
           {
            "colorbar": {
             "outlinewidth": 0,
             "ticks": ""
            },
            "colorscale": [
             [
              0,
              "#0d0887"
             ],
             [
              0.1111111111111111,
              "#46039f"
             ],
             [
              0.2222222222222222,
              "#7201a8"
             ],
             [
              0.3333333333333333,
              "#9c179e"
             ],
             [
              0.4444444444444444,
              "#bd3786"
             ],
             [
              0.5555555555555556,
              "#d8576b"
             ],
             [
              0.6666666666666666,
              "#ed7953"
             ],
             [
              0.7777777777777778,
              "#fb9f3a"
             ],
             [
              0.8888888888888888,
              "#fdca26"
             ],
             [
              1,
              "#f0f921"
             ]
            ],
            "type": "heatmap"
           }
          ],
          "heatmapgl": [
           {
            "colorbar": {
             "outlinewidth": 0,
             "ticks": ""
            },
            "colorscale": [
             [
              0,
              "#0d0887"
             ],
             [
              0.1111111111111111,
              "#46039f"
             ],
             [
              0.2222222222222222,
              "#7201a8"
             ],
             [
              0.3333333333333333,
              "#9c179e"
             ],
             [
              0.4444444444444444,
              "#bd3786"
             ],
             [
              0.5555555555555556,
              "#d8576b"
             ],
             [
              0.6666666666666666,
              "#ed7953"
             ],
             [
              0.7777777777777778,
              "#fb9f3a"
             ],
             [
              0.8888888888888888,
              "#fdca26"
             ],
             [
              1,
              "#f0f921"
             ]
            ],
            "type": "heatmapgl"
           }
          ],
          "histogram": [
           {
            "marker": {
             "pattern": {
              "fillmode": "overlay",
              "size": 10,
              "solidity": 0.2
             }
            },
            "type": "histogram"
           }
          ],
          "histogram2d": [
           {
            "colorbar": {
             "outlinewidth": 0,
             "ticks": ""
            },
            "colorscale": [
             [
              0,
              "#0d0887"
             ],
             [
              0.1111111111111111,
              "#46039f"
             ],
             [
              0.2222222222222222,
              "#7201a8"
             ],
             [
              0.3333333333333333,
              "#9c179e"
             ],
             [
              0.4444444444444444,
              "#bd3786"
             ],
             [
              0.5555555555555556,
              "#d8576b"
             ],
             [
              0.6666666666666666,
              "#ed7953"
             ],
             [
              0.7777777777777778,
              "#fb9f3a"
             ],
             [
              0.8888888888888888,
              "#fdca26"
             ],
             [
              1,
              "#f0f921"
             ]
            ],
            "type": "histogram2d"
           }
          ],
          "histogram2dcontour": [
           {
            "colorbar": {
             "outlinewidth": 0,
             "ticks": ""
            },
            "colorscale": [
             [
              0,
              "#0d0887"
             ],
             [
              0.1111111111111111,
              "#46039f"
             ],
             [
              0.2222222222222222,
              "#7201a8"
             ],
             [
              0.3333333333333333,
              "#9c179e"
             ],
             [
              0.4444444444444444,
              "#bd3786"
             ],
             [
              0.5555555555555556,
              "#d8576b"
             ],
             [
              0.6666666666666666,
              "#ed7953"
             ],
             [
              0.7777777777777778,
              "#fb9f3a"
             ],
             [
              0.8888888888888888,
              "#fdca26"
             ],
             [
              1,
              "#f0f921"
             ]
            ],
            "type": "histogram2dcontour"
           }
          ],
          "mesh3d": [
           {
            "colorbar": {
             "outlinewidth": 0,
             "ticks": ""
            },
            "type": "mesh3d"
           }
          ],
          "parcoords": [
           {
            "line": {
             "colorbar": {
              "outlinewidth": 0,
              "ticks": ""
             }
            },
            "type": "parcoords"
           }
          ],
          "pie": [
           {
            "automargin": true,
            "type": "pie"
           }
          ],
          "scatter": [
           {
            "fillpattern": {
             "fillmode": "overlay",
             "size": 10,
             "solidity": 0.2
            },
            "type": "scatter"
           }
          ],
          "scatter3d": [
           {
            "line": {
             "colorbar": {
              "outlinewidth": 0,
              "ticks": ""
             }
            },
            "marker": {
             "colorbar": {
              "outlinewidth": 0,
              "ticks": ""
             }
            },
            "type": "scatter3d"
           }
          ],
          "scattercarpet": [
           {
            "marker": {
             "colorbar": {
              "outlinewidth": 0,
              "ticks": ""
             }
            },
            "type": "scattercarpet"
           }
          ],
          "scattergeo": [
           {
            "marker": {
             "colorbar": {
              "outlinewidth": 0,
              "ticks": ""
             }
            },
            "type": "scattergeo"
           }
          ],
          "scattergl": [
           {
            "marker": {
             "colorbar": {
              "outlinewidth": 0,
              "ticks": ""
             }
            },
            "type": "scattergl"
           }
          ],
          "scattermapbox": [
           {
            "marker": {
             "colorbar": {
              "outlinewidth": 0,
              "ticks": ""
             }
            },
            "type": "scattermapbox"
           }
          ],
          "scatterpolar": [
           {
            "marker": {
             "colorbar": {
              "outlinewidth": 0,
              "ticks": ""
             }
            },
            "type": "scatterpolar"
           }
          ],
          "scatterpolargl": [
           {
            "marker": {
             "colorbar": {
              "outlinewidth": 0,
              "ticks": ""
             }
            },
            "type": "scatterpolargl"
           }
          ],
          "scatterternary": [
           {
            "marker": {
             "colorbar": {
              "outlinewidth": 0,
              "ticks": ""
             }
            },
            "type": "scatterternary"
           }
          ],
          "surface": [
           {
            "colorbar": {
             "outlinewidth": 0,
             "ticks": ""
            },
            "colorscale": [
             [
              0,
              "#0d0887"
             ],
             [
              0.1111111111111111,
              "#46039f"
             ],
             [
              0.2222222222222222,
              "#7201a8"
             ],
             [
              0.3333333333333333,
              "#9c179e"
             ],
             [
              0.4444444444444444,
              "#bd3786"
             ],
             [
              0.5555555555555556,
              "#d8576b"
             ],
             [
              0.6666666666666666,
              "#ed7953"
             ],
             [
              0.7777777777777778,
              "#fb9f3a"
             ],
             [
              0.8888888888888888,
              "#fdca26"
             ],
             [
              1,
              "#f0f921"
             ]
            ],
            "type": "surface"
           }
          ],
          "table": [
           {
            "cells": {
             "fill": {
              "color": "#EBF0F8"
             },
             "line": {
              "color": "white"
             }
            },
            "header": {
             "fill": {
              "color": "#C8D4E3"
             },
             "line": {
              "color": "white"
             }
            },
            "type": "table"
           }
          ]
         },
         "layout": {
          "annotationdefaults": {
           "arrowcolor": "#2a3f5f",
           "arrowhead": 0,
           "arrowwidth": 1
          },
          "autotypenumbers": "strict",
          "coloraxis": {
           "colorbar": {
            "outlinewidth": 0,
            "ticks": ""
           }
          },
          "colorscale": {
           "diverging": [
            [
             0,
             "#8e0152"
            ],
            [
             0.1,
             "#c51b7d"
            ],
            [
             0.2,
             "#de77ae"
            ],
            [
             0.3,
             "#f1b6da"
            ],
            [
             0.4,
             "#fde0ef"
            ],
            [
             0.5,
             "#f7f7f7"
            ],
            [
             0.6,
             "#e6f5d0"
            ],
            [
             0.7,
             "#b8e186"
            ],
            [
             0.8,
             "#7fbc41"
            ],
            [
             0.9,
             "#4d9221"
            ],
            [
             1,
             "#276419"
            ]
           ],
           "sequential": [
            [
             0,
             "#0d0887"
            ],
            [
             0.1111111111111111,
             "#46039f"
            ],
            [
             0.2222222222222222,
             "#7201a8"
            ],
            [
             0.3333333333333333,
             "#9c179e"
            ],
            [
             0.4444444444444444,
             "#bd3786"
            ],
            [
             0.5555555555555556,
             "#d8576b"
            ],
            [
             0.6666666666666666,
             "#ed7953"
            ],
            [
             0.7777777777777778,
             "#fb9f3a"
            ],
            [
             0.8888888888888888,
             "#fdca26"
            ],
            [
             1,
             "#f0f921"
            ]
           ],
           "sequentialminus": [
            [
             0,
             "#0d0887"
            ],
            [
             0.1111111111111111,
             "#46039f"
            ],
            [
             0.2222222222222222,
             "#7201a8"
            ],
            [
             0.3333333333333333,
             "#9c179e"
            ],
            [
             0.4444444444444444,
             "#bd3786"
            ],
            [
             0.5555555555555556,
             "#d8576b"
            ],
            [
             0.6666666666666666,
             "#ed7953"
            ],
            [
             0.7777777777777778,
             "#fb9f3a"
            ],
            [
             0.8888888888888888,
             "#fdca26"
            ],
            [
             1,
             "#f0f921"
            ]
           ]
          },
          "colorway": [
           "#636efa",
           "#EF553B",
           "#00cc96",
           "#ab63fa",
           "#FFA15A",
           "#19d3f3",
           "#FF6692",
           "#B6E880",
           "#FF97FF",
           "#FECB52"
          ],
          "font": {
           "color": "#2a3f5f"
          },
          "geo": {
           "bgcolor": "white",
           "lakecolor": "white",
           "landcolor": "#E5ECF6",
           "showlakes": true,
           "showland": true,
           "subunitcolor": "white"
          },
          "hoverlabel": {
           "align": "left"
          },
          "hovermode": "closest",
          "mapbox": {
           "style": "light"
          },
          "paper_bgcolor": "white",
          "plot_bgcolor": "#E5ECF6",
          "polar": {
           "angularaxis": {
            "gridcolor": "white",
            "linecolor": "white",
            "ticks": ""
           },
           "bgcolor": "#E5ECF6",
           "radialaxis": {
            "gridcolor": "white",
            "linecolor": "white",
            "ticks": ""
           }
          },
          "scene": {
           "xaxis": {
            "backgroundcolor": "#E5ECF6",
            "gridcolor": "white",
            "gridwidth": 2,
            "linecolor": "white",
            "showbackground": true,
            "ticks": "",
            "zerolinecolor": "white"
           },
           "yaxis": {
            "backgroundcolor": "#E5ECF6",
            "gridcolor": "white",
            "gridwidth": 2,
            "linecolor": "white",
            "showbackground": true,
            "ticks": "",
            "zerolinecolor": "white"
           },
           "zaxis": {
            "backgroundcolor": "#E5ECF6",
            "gridcolor": "white",
            "gridwidth": 2,
            "linecolor": "white",
            "showbackground": true,
            "ticks": "",
            "zerolinecolor": "white"
           }
          },
          "shapedefaults": {
           "line": {
            "color": "#2a3f5f"
           }
          },
          "ternary": {
           "aaxis": {
            "gridcolor": "white",
            "linecolor": "white",
            "ticks": ""
           },
           "baxis": {
            "gridcolor": "white",
            "linecolor": "white",
            "ticks": ""
           },
           "bgcolor": "#E5ECF6",
           "caxis": {
            "gridcolor": "white",
            "linecolor": "white",
            "ticks": ""
           }
          },
          "title": {
           "x": 0.05
          },
          "xaxis": {
           "automargin": true,
           "gridcolor": "white",
           "linecolor": "white",
           "ticks": "",
           "title": {
            "standoff": 15
           },
           "zerolinecolor": "white",
           "zerolinewidth": 2
          },
          "yaxis": {
           "automargin": true,
           "gridcolor": "white",
           "linecolor": "white",
           "ticks": "",
           "title": {
            "standoff": 15
           },
           "zerolinecolor": "white",
           "zerolinewidth": 2
          }
         }
        },
        "title": {
         "text": "Correlation Matrix Visualized using Heatmap"
        },
        "width": 1000,
        "xaxis": {
         "anchor": "y",
         "constrain": "domain",
         "domain": [
          0,
          1
         ],
         "scaleanchor": "y",
         "side": "top",
         "title": {
          "text": "Features"
         }
        },
        "yaxis": {
         "anchor": "x",
         "autorange": "reversed",
         "constrain": "domain",
         "domain": [
          0,
          1
         ],
         "title": {
          "text": "Features"
         }
        }
       }
      }
     },
     "metadata": {},
     "output_type": "display_data"
    }
   ],
   "source": [
    "corr_matrix = Features.corr()\n",
    "fig = px.imshow(corr_matrix.T.values,\n",
    "                labels=dict(x=\"Features\", y=\"Features\", color=\"Correlation\"),\n",
    "                x=list(corr_matrix.columns),\n",
    "                y=list(corr_matrix.columns),\n",
    "                width=1000,\n",
    "                height=1000,\n",
    "                title='Correlation Matrix Visualized using Heatmap')\n",
    "fig.update_xaxes(side=\"top\")\n",
    "fig.show()\n",
    "\n",
    "\n"
   ]
  },
  {
   "cell_type": "code",
   "execution_count": 20,
   "metadata": {},
   "outputs": [
    {
     "name": "stdout",
     "output_type": "stream",
     "text": [
      "Loudness and energy Corr Matrix value: 0.7417935029873552\n"
     ]
    }
   ],
   "source": [
    "# Correlation between loudness and energy\n",
    "loudness_energy_corr = Features['loudness'].corr(Features['energy'])\n",
    "print(\"Loudness and energy Corr Matrix value:\", loudness_energy_corr)\n"
   ]
  },
  {
   "attachments": {},
   "cell_type": "markdown",
   "metadata": {},
   "source": [
    "The Corelation between Loudness and energy as observed in the graph above and data value printed above showcases that the values are loudness and energy are highly co-rellated."
   ]
  },
  {
   "cell_type": "code",
   "execution_count": 21,
   "metadata": {},
   "outputs": [
    {
     "data": {
      "application/vnd.plotly.v1+json": {
       "config": {
        "plotlyServerURL": "https://plot.ly"
       },
       "data": [
        {
         "hovertemplate": "energy=%{x}<br>loudness=%{y}<extra></extra>",
         "legendgroup": "",
         "marker": {
          "color": "#636efa",
          "symbol": "circle"
         },
         "mode": "markers",
         "name": "",
         "orientation": "v",
         "showlegend": false,
         "type": "scatter",
         "x": [
          0.73,
          0.652,
          0.588,
          0.405,
          0.52,
          0.479,
          0.625,
          0.524,
          0.31,
          0.78,
          0.548,
          0.663,
          0.525,
          0.557,
          0.587,
          0.425,
          0.445,
          0.566,
          0.185,
          0.296,
          0.816,
          0.449,
          0.379,
          0.402,
          0.635,
          0.807,
          0.385,
          0.731,
          0.378,
          0.762,
          0.613,
          0.664,
          0.264,
          0.89,
          0.317,
          0.728,
          0.391,
          0.523,
          0.637,
          0.75,
          0.705,
          0.7,
          0.783,
          0.731,
          0.67,
          0.621,
          0.545,
          0.564,
          0.73,
          0.871,
          0.664,
          0.643,
          0.862,
          0.716,
          0.431,
          0.809,
          0.819,
          0.719,
          0.578,
          0.42,
          0.804,
          0.627,
          0.669,
          0.704,
          0.744,
          0.684,
          0.71,
          0.911,
          0.609,
          0.372,
          0.825,
          0.714,
          0.502,
          0.653,
          0.676,
          0.573,
          0.503,
          0.74,
          0.532,
          0.769,
          0.783,
          0.816,
          0.537,
          0.893,
          0.521,
          0.56,
          0.586,
          0.847,
          0.813,
          0.754,
          0.698,
          0.912,
          0.559,
          0.633,
          0.505,
          0.473,
          0.661,
          0.816,
          0.797,
          0.553
         ],
         "xaxis": "x",
         "y": [
          -5.934,
          -3.183,
          -6.4,
          -5.679,
          -6.136,
          -5.574,
          -5.609,
          -5.599,
          -10.164,
          -4.374,
          -6.049,
          -6.818,
          -6.9,
          -7.398,
          -7.015,
          -10.965,
          -6.061,
          -7.23,
          -12.205,
          -10.109,
          -4.209,
          -9.211,
          -10.48,
          -9.961,
          -6.769,
          -2.81,
          -6.362,
          -5.338,
          -9.828,
          -3.497,
          -4.88,
          -5.303,
          -7.064,
          -5.175,
          -10.732,
          -3.37,
          -9.144,
          -4.333,
          -5.677,
          -6.366,
          -4.972,
          -6.021,
          -5.697,
          -6.694,
          -6.009,
          -6.638,
          -7.346,
          -7.063,
          -3.714,
          -6.351,
          -5.044,
          -7.811,
          -3.24,
          -5.371,
          -8.81,
          -3.081,
          -4.078,
          -5.472,
          -5.804,
          -6.444,
          -4.183,
          -5.085,
          -2.827,
          -7.409,
          -4.565,
          -6.306,
          -3.015,
          -5.23,
          -7.223,
          -8.237,
          -3.787,
          -6.645,
          -7.539,
          -5.634,
          -5.041,
          -10.059,
          -6.725,
          -6.595,
          -7.596,
          -5.043,
          -3.724,
          -4.353,
          -5.723,
          -4.097,
          -8.492,
          -4.961,
          -6.687,
          -3.237,
          -4.063,
          -6.684,
          -5.608,
          -4.556,
          -9.222,
          -6.726,
          -7.621,
          -5.829,
          -7.227,
          -4.209,
          -4.787,
          -5.51
         ],
         "yaxis": "y"
        }
       ],
       "layout": {
        "legend": {
         "tracegroupgap": 0
        },
        "template": {
         "data": {
          "bar": [
           {
            "error_x": {
             "color": "#f2f5fa"
            },
            "error_y": {
             "color": "#f2f5fa"
            },
            "marker": {
             "line": {
              "color": "rgb(17,17,17)",
              "width": 0.5
             },
             "pattern": {
              "fillmode": "overlay",
              "size": 10,
              "solidity": 0.2
             }
            },
            "type": "bar"
           }
          ],
          "barpolar": [
           {
            "marker": {
             "line": {
              "color": "rgb(17,17,17)",
              "width": 0.5
             },
             "pattern": {
              "fillmode": "overlay",
              "size": 10,
              "solidity": 0.2
             }
            },
            "type": "barpolar"
           }
          ],
          "carpet": [
           {
            "aaxis": {
             "endlinecolor": "#A2B1C6",
             "gridcolor": "#506784",
             "linecolor": "#506784",
             "minorgridcolor": "#506784",
             "startlinecolor": "#A2B1C6"
            },
            "baxis": {
             "endlinecolor": "#A2B1C6",
             "gridcolor": "#506784",
             "linecolor": "#506784",
             "minorgridcolor": "#506784",
             "startlinecolor": "#A2B1C6"
            },
            "type": "carpet"
           }
          ],
          "choropleth": [
           {
            "colorbar": {
             "outlinewidth": 0,
             "ticks": ""
            },
            "type": "choropleth"
           }
          ],
          "contour": [
           {
            "colorbar": {
             "outlinewidth": 0,
             "ticks": ""
            },
            "colorscale": [
             [
              0,
              "#0d0887"
             ],
             [
              0.1111111111111111,
              "#46039f"
             ],
             [
              0.2222222222222222,
              "#7201a8"
             ],
             [
              0.3333333333333333,
              "#9c179e"
             ],
             [
              0.4444444444444444,
              "#bd3786"
             ],
             [
              0.5555555555555556,
              "#d8576b"
             ],
             [
              0.6666666666666666,
              "#ed7953"
             ],
             [
              0.7777777777777778,
              "#fb9f3a"
             ],
             [
              0.8888888888888888,
              "#fdca26"
             ],
             [
              1,
              "#f0f921"
             ]
            ],
            "type": "contour"
           }
          ],
          "contourcarpet": [
           {
            "colorbar": {
             "outlinewidth": 0,
             "ticks": ""
            },
            "type": "contourcarpet"
           }
          ],
          "heatmap": [
           {
            "colorbar": {
             "outlinewidth": 0,
             "ticks": ""
            },
            "colorscale": [
             [
              0,
              "#0d0887"
             ],
             [
              0.1111111111111111,
              "#46039f"
             ],
             [
              0.2222222222222222,
              "#7201a8"
             ],
             [
              0.3333333333333333,
              "#9c179e"
             ],
             [
              0.4444444444444444,
              "#bd3786"
             ],
             [
              0.5555555555555556,
              "#d8576b"
             ],
             [
              0.6666666666666666,
              "#ed7953"
             ],
             [
              0.7777777777777778,
              "#fb9f3a"
             ],
             [
              0.8888888888888888,
              "#fdca26"
             ],
             [
              1,
              "#f0f921"
             ]
            ],
            "type": "heatmap"
           }
          ],
          "heatmapgl": [
           {
            "colorbar": {
             "outlinewidth": 0,
             "ticks": ""
            },
            "colorscale": [
             [
              0,
              "#0d0887"
             ],
             [
              0.1111111111111111,
              "#46039f"
             ],
             [
              0.2222222222222222,
              "#7201a8"
             ],
             [
              0.3333333333333333,
              "#9c179e"
             ],
             [
              0.4444444444444444,
              "#bd3786"
             ],
             [
              0.5555555555555556,
              "#d8576b"
             ],
             [
              0.6666666666666666,
              "#ed7953"
             ],
             [
              0.7777777777777778,
              "#fb9f3a"
             ],
             [
              0.8888888888888888,
              "#fdca26"
             ],
             [
              1,
              "#f0f921"
             ]
            ],
            "type": "heatmapgl"
           }
          ],
          "histogram": [
           {
            "marker": {
             "pattern": {
              "fillmode": "overlay",
              "size": 10,
              "solidity": 0.2
             }
            },
            "type": "histogram"
           }
          ],
          "histogram2d": [
           {
            "colorbar": {
             "outlinewidth": 0,
             "ticks": ""
            },
            "colorscale": [
             [
              0,
              "#0d0887"
             ],
             [
              0.1111111111111111,
              "#46039f"
             ],
             [
              0.2222222222222222,
              "#7201a8"
             ],
             [
              0.3333333333333333,
              "#9c179e"
             ],
             [
              0.4444444444444444,
              "#bd3786"
             ],
             [
              0.5555555555555556,
              "#d8576b"
             ],
             [
              0.6666666666666666,
              "#ed7953"
             ],
             [
              0.7777777777777778,
              "#fb9f3a"
             ],
             [
              0.8888888888888888,
              "#fdca26"
             ],
             [
              1,
              "#f0f921"
             ]
            ],
            "type": "histogram2d"
           }
          ],
          "histogram2dcontour": [
           {
            "colorbar": {
             "outlinewidth": 0,
             "ticks": ""
            },
            "colorscale": [
             [
              0,
              "#0d0887"
             ],
             [
              0.1111111111111111,
              "#46039f"
             ],
             [
              0.2222222222222222,
              "#7201a8"
             ],
             [
              0.3333333333333333,
              "#9c179e"
             ],
             [
              0.4444444444444444,
              "#bd3786"
             ],
             [
              0.5555555555555556,
              "#d8576b"
             ],
             [
              0.6666666666666666,
              "#ed7953"
             ],
             [
              0.7777777777777778,
              "#fb9f3a"
             ],
             [
              0.8888888888888888,
              "#fdca26"
             ],
             [
              1,
              "#f0f921"
             ]
            ],
            "type": "histogram2dcontour"
           }
          ],
          "mesh3d": [
           {
            "colorbar": {
             "outlinewidth": 0,
             "ticks": ""
            },
            "type": "mesh3d"
           }
          ],
          "parcoords": [
           {
            "line": {
             "colorbar": {
              "outlinewidth": 0,
              "ticks": ""
             }
            },
            "type": "parcoords"
           }
          ],
          "pie": [
           {
            "automargin": true,
            "type": "pie"
           }
          ],
          "scatter": [
           {
            "marker": {
             "line": {
              "color": "#283442"
             }
            },
            "type": "scatter"
           }
          ],
          "scatter3d": [
           {
            "line": {
             "colorbar": {
              "outlinewidth": 0,
              "ticks": ""
             }
            },
            "marker": {
             "colorbar": {
              "outlinewidth": 0,
              "ticks": ""
             }
            },
            "type": "scatter3d"
           }
          ],
          "scattercarpet": [
           {
            "marker": {
             "colorbar": {
              "outlinewidth": 0,
              "ticks": ""
             }
            },
            "type": "scattercarpet"
           }
          ],
          "scattergeo": [
           {
            "marker": {
             "colorbar": {
              "outlinewidth": 0,
              "ticks": ""
             }
            },
            "type": "scattergeo"
           }
          ],
          "scattergl": [
           {
            "marker": {
             "line": {
              "color": "#283442"
             }
            },
            "type": "scattergl"
           }
          ],
          "scattermapbox": [
           {
            "marker": {
             "colorbar": {
              "outlinewidth": 0,
              "ticks": ""
             }
            },
            "type": "scattermapbox"
           }
          ],
          "scatterpolar": [
           {
            "marker": {
             "colorbar": {
              "outlinewidth": 0,
              "ticks": ""
             }
            },
            "type": "scatterpolar"
           }
          ],
          "scatterpolargl": [
           {
            "marker": {
             "colorbar": {
              "outlinewidth": 0,
              "ticks": ""
             }
            },
            "type": "scatterpolargl"
           }
          ],
          "scatterternary": [
           {
            "marker": {
             "colorbar": {
              "outlinewidth": 0,
              "ticks": ""
             }
            },
            "type": "scatterternary"
           }
          ],
          "surface": [
           {
            "colorbar": {
             "outlinewidth": 0,
             "ticks": ""
            },
            "colorscale": [
             [
              0,
              "#0d0887"
             ],
             [
              0.1111111111111111,
              "#46039f"
             ],
             [
              0.2222222222222222,
              "#7201a8"
             ],
             [
              0.3333333333333333,
              "#9c179e"
             ],
             [
              0.4444444444444444,
              "#bd3786"
             ],
             [
              0.5555555555555556,
              "#d8576b"
             ],
             [
              0.6666666666666666,
              "#ed7953"
             ],
             [
              0.7777777777777778,
              "#fb9f3a"
             ],
             [
              0.8888888888888888,
              "#fdca26"
             ],
             [
              1,
              "#f0f921"
             ]
            ],
            "type": "surface"
           }
          ],
          "table": [
           {
            "cells": {
             "fill": {
              "color": "#506784"
             },
             "line": {
              "color": "rgb(17,17,17)"
             }
            },
            "header": {
             "fill": {
              "color": "#2a3f5f"
             },
             "line": {
              "color": "rgb(17,17,17)"
             }
            },
            "type": "table"
           }
          ]
         },
         "layout": {
          "annotationdefaults": {
           "arrowcolor": "#f2f5fa",
           "arrowhead": 0,
           "arrowwidth": 1
          },
          "autotypenumbers": "strict",
          "coloraxis": {
           "colorbar": {
            "outlinewidth": 0,
            "ticks": ""
           }
          },
          "colorscale": {
           "diverging": [
            [
             0,
             "#8e0152"
            ],
            [
             0.1,
             "#c51b7d"
            ],
            [
             0.2,
             "#de77ae"
            ],
            [
             0.3,
             "#f1b6da"
            ],
            [
             0.4,
             "#fde0ef"
            ],
            [
             0.5,
             "#f7f7f7"
            ],
            [
             0.6,
             "#e6f5d0"
            ],
            [
             0.7,
             "#b8e186"
            ],
            [
             0.8,
             "#7fbc41"
            ],
            [
             0.9,
             "#4d9221"
            ],
            [
             1,
             "#276419"
            ]
           ],
           "sequential": [
            [
             0,
             "#0d0887"
            ],
            [
             0.1111111111111111,
             "#46039f"
            ],
            [
             0.2222222222222222,
             "#7201a8"
            ],
            [
             0.3333333333333333,
             "#9c179e"
            ],
            [
             0.4444444444444444,
             "#bd3786"
            ],
            [
             0.5555555555555556,
             "#d8576b"
            ],
            [
             0.6666666666666666,
             "#ed7953"
            ],
            [
             0.7777777777777778,
             "#fb9f3a"
            ],
            [
             0.8888888888888888,
             "#fdca26"
            ],
            [
             1,
             "#f0f921"
            ]
           ],
           "sequentialminus": [
            [
             0,
             "#0d0887"
            ],
            [
             0.1111111111111111,
             "#46039f"
            ],
            [
             0.2222222222222222,
             "#7201a8"
            ],
            [
             0.3333333333333333,
             "#9c179e"
            ],
            [
             0.4444444444444444,
             "#bd3786"
            ],
            [
             0.5555555555555556,
             "#d8576b"
            ],
            [
             0.6666666666666666,
             "#ed7953"
            ],
            [
             0.7777777777777778,
             "#fb9f3a"
            ],
            [
             0.8888888888888888,
             "#fdca26"
            ],
            [
             1,
             "#f0f921"
            ]
           ]
          },
          "colorway": [
           "#636efa",
           "#EF553B",
           "#00cc96",
           "#ab63fa",
           "#FFA15A",
           "#19d3f3",
           "#FF6692",
           "#B6E880",
           "#FF97FF",
           "#FECB52"
          ],
          "font": {
           "color": "#f2f5fa"
          },
          "geo": {
           "bgcolor": "rgb(17,17,17)",
           "lakecolor": "rgb(17,17,17)",
           "landcolor": "rgb(17,17,17)",
           "showlakes": true,
           "showland": true,
           "subunitcolor": "#506784"
          },
          "hoverlabel": {
           "align": "left"
          },
          "hovermode": "closest",
          "mapbox": {
           "style": "dark"
          },
          "paper_bgcolor": "rgb(17,17,17)",
          "plot_bgcolor": "rgb(17,17,17)",
          "polar": {
           "angularaxis": {
            "gridcolor": "#506784",
            "linecolor": "#506784",
            "ticks": ""
           },
           "bgcolor": "rgb(17,17,17)",
           "radialaxis": {
            "gridcolor": "#506784",
            "linecolor": "#506784",
            "ticks": ""
           }
          },
          "scene": {
           "xaxis": {
            "backgroundcolor": "rgb(17,17,17)",
            "gridcolor": "#506784",
            "gridwidth": 2,
            "linecolor": "#506784",
            "showbackground": true,
            "ticks": "",
            "zerolinecolor": "#C8D4E3"
           },
           "yaxis": {
            "backgroundcolor": "rgb(17,17,17)",
            "gridcolor": "#506784",
            "gridwidth": 2,
            "linecolor": "#506784",
            "showbackground": true,
            "ticks": "",
            "zerolinecolor": "#C8D4E3"
           },
           "zaxis": {
            "backgroundcolor": "rgb(17,17,17)",
            "gridcolor": "#506784",
            "gridwidth": 2,
            "linecolor": "#506784",
            "showbackground": true,
            "ticks": "",
            "zerolinecolor": "#C8D4E3"
           }
          },
          "shapedefaults": {
           "line": {
            "color": "#f2f5fa"
           }
          },
          "sliderdefaults": {
           "bgcolor": "#C8D4E3",
           "bordercolor": "rgb(17,17,17)",
           "borderwidth": 1,
           "tickwidth": 0
          },
          "ternary": {
           "aaxis": {
            "gridcolor": "#506784",
            "linecolor": "#506784",
            "ticks": ""
           },
           "baxis": {
            "gridcolor": "#506784",
            "linecolor": "#506784",
            "ticks": ""
           },
           "bgcolor": "rgb(17,17,17)",
           "caxis": {
            "gridcolor": "#506784",
            "linecolor": "#506784",
            "ticks": ""
           }
          },
          "title": {
           "x": 0.05
          },
          "updatemenudefaults": {
           "bgcolor": "#506784",
           "borderwidth": 0
          },
          "xaxis": {
           "automargin": true,
           "gridcolor": "#283442",
           "linecolor": "#506784",
           "ticks": "",
           "title": {
            "standoff": 15
           },
           "zerolinecolor": "#283442",
           "zerolinewidth": 2
          },
          "yaxis": {
           "automargin": true,
           "gridcolor": "#283442",
           "linecolor": "#506784",
           "ticks": "",
           "title": {
            "standoff": 15
           },
           "zerolinecolor": "#283442",
           "zerolinewidth": 2
          }
         }
        },
        "title": {
         "font": {
          "size": 20
         },
         "text": "Energy vs. Loudness"
        },
        "xaxis": {
         "anchor": "y",
         "domain": [
          0,
          1
         ],
         "title": {
          "text": "Energy"
         }
        },
        "yaxis": {
         "anchor": "x",
         "domain": [
          0,
          1
         ],
         "title": {
          "text": "Loudness"
         }
        }
       }
      }
     },
     "metadata": {},
     "output_type": "display_data"
    }
   ],
   "source": [
    "fig = px.scatter(Features, x=\"energy\", y=\"loudness\", title=\"Energy vs. Loudness\")\n",
    "fig.update_layout(template=\"plotly_dark\")\n",
    "fig.update_layout(title_font_size=20)\n",
    "fig.update_layout(xaxis_title=\"Energy\", yaxis_title=\"Loudness\")\n",
    "fig.show()\n"
   ]
  },
  {
   "cell_type": "code",
   "execution_count": 22,
   "metadata": {},
   "outputs": [
    {
     "data": {
      "application/vnd.plotly.v1+json": {
       "config": {
        "plotlyServerURL": "https://plot.ly"
       },
       "data": [
        {
         "hovertemplate": "tempo=%{x}<br>energy=%{y}<br>color=%{marker.color}<extra></extra>",
         "legendgroup": "",
         "marker": {
          "color": [
           1,
           0,
           0,
           2,
           1,
           0,
           0,
           0,
           2,
           2,
           2,
           1,
           0,
           0,
           1,
           2,
           0,
           0,
           0,
           2,
           0,
           0,
           2,
           1,
           0,
           2,
           0,
           1,
           0,
           2,
           0,
           2,
           2,
           2,
           2,
           2,
           2,
           0,
           1,
           1,
           2,
           2,
           2,
           0,
           0,
           1,
           0,
           2,
           1,
           2,
           1,
           2,
           2,
           0,
           1,
           0,
           0,
           2,
           1,
           0,
           2,
           1,
           2,
           1,
           1,
           2,
           0,
           1,
           2,
           0,
           0,
           0,
           1,
           0,
           0,
           2,
           1,
           2,
           0,
           0,
           2,
           1,
           2,
           1,
           0,
           2,
           2,
           1,
           2,
           1,
           0,
           2,
           0,
           0,
           0,
           2,
           1,
           0,
           1,
           2
          ],
          "coloraxis": "coloraxis",
          "symbol": "circle"
         },
         "mode": "markers",
         "name": "",
         "orientation": "v",
         "showlegend": false,
         "type": "scatter",
         "x": [
          171.005,
          95.977,
          98.027,
          109.891,
          159.801,
          89.911,
          103.967,
          95.01,
          111.893,
          124.949,
          116.967,
          146.053,
          80.87,
          85.043,
          186.003,
          135.128,
          78.997,
          83.903,
          78.775,
          115.284,
          95.39,
          77.169,
          108.033,
          143.883,
          103.019,
          124.053,
          95.799,
          173.93,
          100.418,
          120.042,
          75.023,
          128.945,
          119.93,
          133.52,
          140.048,
          130.049,
          134.021,
          104.988,
          169.977,
          155.096,
          122.017,
          116.078,
          124.08,
          101.654,
          100.964,
          150.011,
          74.897,
          113.003,
          155.008,
          128.044,
          166.928,
          141.961,
          123.994,
          99.988,
          143.875,
          98.007,
          82.695,
          121.955,
          145.038,
          84.094,
          123.146,
          179.642,
          112.238,
          149.995,
          171.374,
          112.969,
          89.938,
          148.033,
          114.988,
          91.873,
          102.977,
          101.969,
          163.347,
          106.966,
          101.956,
          109.928,
          178.781,
          141.059,
          85.03,
          97.985,
          119.975,
          178.085,
          128.009,
          174.323,
          100.028,
          134.066,
          116.971,
          171.447,
          121.998,
          149.789,
          89.976,
          116.761,
          78.558,
          94.875,
          91.972,
          119.992,
          173.372,
          95.39,
          177.928,
          112.603
         ],
         "xaxis": "x",
         "y": [
          0.73,
          0.652,
          0.588,
          0.405,
          0.52,
          0.479,
          0.625,
          0.524,
          0.31,
          0.78,
          0.548,
          0.663,
          0.525,
          0.557,
          0.587,
          0.425,
          0.445,
          0.566,
          0.185,
          0.296,
          0.816,
          0.449,
          0.379,
          0.402,
          0.635,
          0.807,
          0.385,
          0.731,
          0.378,
          0.762,
          0.613,
          0.664,
          0.264,
          0.89,
          0.317,
          0.728,
          0.391,
          0.523,
          0.637,
          0.75,
          0.705,
          0.7,
          0.783,
          0.731,
          0.67,
          0.621,
          0.545,
          0.564,
          0.73,
          0.871,
          0.664,
          0.643,
          0.862,
          0.716,
          0.431,
          0.809,
          0.819,
          0.719,
          0.578,
          0.42,
          0.804,
          0.627,
          0.669,
          0.704,
          0.744,
          0.684,
          0.71,
          0.911,
          0.609,
          0.372,
          0.825,
          0.714,
          0.502,
          0.653,
          0.676,
          0.573,
          0.503,
          0.74,
          0.532,
          0.769,
          0.783,
          0.816,
          0.537,
          0.893,
          0.521,
          0.56,
          0.586,
          0.847,
          0.813,
          0.754,
          0.698,
          0.912,
          0.559,
          0.633,
          0.505,
          0.473,
          0.661,
          0.816,
          0.797,
          0.553
         ],
         "yaxis": "y"
        }
       ],
       "layout": {
        "coloraxis": {
         "colorbar": {
          "title": {
           "text": "color"
          }
         },
         "colorscale": [
          [
           0,
           "rgb(150,0,90)"
          ],
          [
           0.125,
           "rgb(0,0,200)"
          ],
          [
           0.25,
           "rgb(0,25,255)"
          ],
          [
           0.375,
           "rgb(0,152,255)"
          ],
          [
           0.5,
           "rgb(44,255,150)"
          ],
          [
           0.625,
           "rgb(151,255,0)"
          ],
          [
           0.75,
           "rgb(255,234,0)"
          ],
          [
           0.875,
           "rgb(255,111,0)"
          ],
          [
           1,
           "rgb(255,0,0)"
          ]
         ]
        },
        "legend": {
         "tracegroupgap": 0
        },
        "template": {
         "data": {
          "bar": [
           {
            "error_x": {
             "color": "#f2f5fa"
            },
            "error_y": {
             "color": "#f2f5fa"
            },
            "marker": {
             "line": {
              "color": "rgb(17,17,17)",
              "width": 0.5
             },
             "pattern": {
              "fillmode": "overlay",
              "size": 10,
              "solidity": 0.2
             }
            },
            "type": "bar"
           }
          ],
          "barpolar": [
           {
            "marker": {
             "line": {
              "color": "rgb(17,17,17)",
              "width": 0.5
             },
             "pattern": {
              "fillmode": "overlay",
              "size": 10,
              "solidity": 0.2
             }
            },
            "type": "barpolar"
           }
          ],
          "carpet": [
           {
            "aaxis": {
             "endlinecolor": "#A2B1C6",
             "gridcolor": "#506784",
             "linecolor": "#506784",
             "minorgridcolor": "#506784",
             "startlinecolor": "#A2B1C6"
            },
            "baxis": {
             "endlinecolor": "#A2B1C6",
             "gridcolor": "#506784",
             "linecolor": "#506784",
             "minorgridcolor": "#506784",
             "startlinecolor": "#A2B1C6"
            },
            "type": "carpet"
           }
          ],
          "choropleth": [
           {
            "colorbar": {
             "outlinewidth": 0,
             "ticks": ""
            },
            "type": "choropleth"
           }
          ],
          "contour": [
           {
            "colorbar": {
             "outlinewidth": 0,
             "ticks": ""
            },
            "colorscale": [
             [
              0,
              "#0d0887"
             ],
             [
              0.1111111111111111,
              "#46039f"
             ],
             [
              0.2222222222222222,
              "#7201a8"
             ],
             [
              0.3333333333333333,
              "#9c179e"
             ],
             [
              0.4444444444444444,
              "#bd3786"
             ],
             [
              0.5555555555555556,
              "#d8576b"
             ],
             [
              0.6666666666666666,
              "#ed7953"
             ],
             [
              0.7777777777777778,
              "#fb9f3a"
             ],
             [
              0.8888888888888888,
              "#fdca26"
             ],
             [
              1,
              "#f0f921"
             ]
            ],
            "type": "contour"
           }
          ],
          "contourcarpet": [
           {
            "colorbar": {
             "outlinewidth": 0,
             "ticks": ""
            },
            "type": "contourcarpet"
           }
          ],
          "heatmap": [
           {
            "colorbar": {
             "outlinewidth": 0,
             "ticks": ""
            },
            "colorscale": [
             [
              0,
              "#0d0887"
             ],
             [
              0.1111111111111111,
              "#46039f"
             ],
             [
              0.2222222222222222,
              "#7201a8"
             ],
             [
              0.3333333333333333,
              "#9c179e"
             ],
             [
              0.4444444444444444,
              "#bd3786"
             ],
             [
              0.5555555555555556,
              "#d8576b"
             ],
             [
              0.6666666666666666,
              "#ed7953"
             ],
             [
              0.7777777777777778,
              "#fb9f3a"
             ],
             [
              0.8888888888888888,
              "#fdca26"
             ],
             [
              1,
              "#f0f921"
             ]
            ],
            "type": "heatmap"
           }
          ],
          "heatmapgl": [
           {
            "colorbar": {
             "outlinewidth": 0,
             "ticks": ""
            },
            "colorscale": [
             [
              0,
              "#0d0887"
             ],
             [
              0.1111111111111111,
              "#46039f"
             ],
             [
              0.2222222222222222,
              "#7201a8"
             ],
             [
              0.3333333333333333,
              "#9c179e"
             ],
             [
              0.4444444444444444,
              "#bd3786"
             ],
             [
              0.5555555555555556,
              "#d8576b"
             ],
             [
              0.6666666666666666,
              "#ed7953"
             ],
             [
              0.7777777777777778,
              "#fb9f3a"
             ],
             [
              0.8888888888888888,
              "#fdca26"
             ],
             [
              1,
              "#f0f921"
             ]
            ],
            "type": "heatmapgl"
           }
          ],
          "histogram": [
           {
            "marker": {
             "pattern": {
              "fillmode": "overlay",
              "size": 10,
              "solidity": 0.2
             }
            },
            "type": "histogram"
           }
          ],
          "histogram2d": [
           {
            "colorbar": {
             "outlinewidth": 0,
             "ticks": ""
            },
            "colorscale": [
             [
              0,
              "#0d0887"
             ],
             [
              0.1111111111111111,
              "#46039f"
             ],
             [
              0.2222222222222222,
              "#7201a8"
             ],
             [
              0.3333333333333333,
              "#9c179e"
             ],
             [
              0.4444444444444444,
              "#bd3786"
             ],
             [
              0.5555555555555556,
              "#d8576b"
             ],
             [
              0.6666666666666666,
              "#ed7953"
             ],
             [
              0.7777777777777778,
              "#fb9f3a"
             ],
             [
              0.8888888888888888,
              "#fdca26"
             ],
             [
              1,
              "#f0f921"
             ]
            ],
            "type": "histogram2d"
           }
          ],
          "histogram2dcontour": [
           {
            "colorbar": {
             "outlinewidth": 0,
             "ticks": ""
            },
            "colorscale": [
             [
              0,
              "#0d0887"
             ],
             [
              0.1111111111111111,
              "#46039f"
             ],
             [
              0.2222222222222222,
              "#7201a8"
             ],
             [
              0.3333333333333333,
              "#9c179e"
             ],
             [
              0.4444444444444444,
              "#bd3786"
             ],
             [
              0.5555555555555556,
              "#d8576b"
             ],
             [
              0.6666666666666666,
              "#ed7953"
             ],
             [
              0.7777777777777778,
              "#fb9f3a"
             ],
             [
              0.8888888888888888,
              "#fdca26"
             ],
             [
              1,
              "#f0f921"
             ]
            ],
            "type": "histogram2dcontour"
           }
          ],
          "mesh3d": [
           {
            "colorbar": {
             "outlinewidth": 0,
             "ticks": ""
            },
            "type": "mesh3d"
           }
          ],
          "parcoords": [
           {
            "line": {
             "colorbar": {
              "outlinewidth": 0,
              "ticks": ""
             }
            },
            "type": "parcoords"
           }
          ],
          "pie": [
           {
            "automargin": true,
            "type": "pie"
           }
          ],
          "scatter": [
           {
            "marker": {
             "line": {
              "color": "#283442"
             }
            },
            "type": "scatter"
           }
          ],
          "scatter3d": [
           {
            "line": {
             "colorbar": {
              "outlinewidth": 0,
              "ticks": ""
             }
            },
            "marker": {
             "colorbar": {
              "outlinewidth": 0,
              "ticks": ""
             }
            },
            "type": "scatter3d"
           }
          ],
          "scattercarpet": [
           {
            "marker": {
             "colorbar": {
              "outlinewidth": 0,
              "ticks": ""
             }
            },
            "type": "scattercarpet"
           }
          ],
          "scattergeo": [
           {
            "marker": {
             "colorbar": {
              "outlinewidth": 0,
              "ticks": ""
             }
            },
            "type": "scattergeo"
           }
          ],
          "scattergl": [
           {
            "marker": {
             "line": {
              "color": "#283442"
             }
            },
            "type": "scattergl"
           }
          ],
          "scattermapbox": [
           {
            "marker": {
             "colorbar": {
              "outlinewidth": 0,
              "ticks": ""
             }
            },
            "type": "scattermapbox"
           }
          ],
          "scatterpolar": [
           {
            "marker": {
             "colorbar": {
              "outlinewidth": 0,
              "ticks": ""
             }
            },
            "type": "scatterpolar"
           }
          ],
          "scatterpolargl": [
           {
            "marker": {
             "colorbar": {
              "outlinewidth": 0,
              "ticks": ""
             }
            },
            "type": "scatterpolargl"
           }
          ],
          "scatterternary": [
           {
            "marker": {
             "colorbar": {
              "outlinewidth": 0,
              "ticks": ""
             }
            },
            "type": "scatterternary"
           }
          ],
          "surface": [
           {
            "colorbar": {
             "outlinewidth": 0,
             "ticks": ""
            },
            "colorscale": [
             [
              0,
              "#0d0887"
             ],
             [
              0.1111111111111111,
              "#46039f"
             ],
             [
              0.2222222222222222,
              "#7201a8"
             ],
             [
              0.3333333333333333,
              "#9c179e"
             ],
             [
              0.4444444444444444,
              "#bd3786"
             ],
             [
              0.5555555555555556,
              "#d8576b"
             ],
             [
              0.6666666666666666,
              "#ed7953"
             ],
             [
              0.7777777777777778,
              "#fb9f3a"
             ],
             [
              0.8888888888888888,
              "#fdca26"
             ],
             [
              1,
              "#f0f921"
             ]
            ],
            "type": "surface"
           }
          ],
          "table": [
           {
            "cells": {
             "fill": {
              "color": "#506784"
             },
             "line": {
              "color": "rgb(17,17,17)"
             }
            },
            "header": {
             "fill": {
              "color": "#2a3f5f"
             },
             "line": {
              "color": "rgb(17,17,17)"
             }
            },
            "type": "table"
           }
          ]
         },
         "layout": {
          "annotationdefaults": {
           "arrowcolor": "#f2f5fa",
           "arrowhead": 0,
           "arrowwidth": 1
          },
          "autotypenumbers": "strict",
          "coloraxis": {
           "colorbar": {
            "outlinewidth": 0,
            "ticks": ""
           }
          },
          "colorscale": {
           "diverging": [
            [
             0,
             "#8e0152"
            ],
            [
             0.1,
             "#c51b7d"
            ],
            [
             0.2,
             "#de77ae"
            ],
            [
             0.3,
             "#f1b6da"
            ],
            [
             0.4,
             "#fde0ef"
            ],
            [
             0.5,
             "#f7f7f7"
            ],
            [
             0.6,
             "#e6f5d0"
            ],
            [
             0.7,
             "#b8e186"
            ],
            [
             0.8,
             "#7fbc41"
            ],
            [
             0.9,
             "#4d9221"
            ],
            [
             1,
             "#276419"
            ]
           ],
           "sequential": [
            [
             0,
             "#0d0887"
            ],
            [
             0.1111111111111111,
             "#46039f"
            ],
            [
             0.2222222222222222,
             "#7201a8"
            ],
            [
             0.3333333333333333,
             "#9c179e"
            ],
            [
             0.4444444444444444,
             "#bd3786"
            ],
            [
             0.5555555555555556,
             "#d8576b"
            ],
            [
             0.6666666666666666,
             "#ed7953"
            ],
            [
             0.7777777777777778,
             "#fb9f3a"
            ],
            [
             0.8888888888888888,
             "#fdca26"
            ],
            [
             1,
             "#f0f921"
            ]
           ],
           "sequentialminus": [
            [
             0,
             "#0d0887"
            ],
            [
             0.1111111111111111,
             "#46039f"
            ],
            [
             0.2222222222222222,
             "#7201a8"
            ],
            [
             0.3333333333333333,
             "#9c179e"
            ],
            [
             0.4444444444444444,
             "#bd3786"
            ],
            [
             0.5555555555555556,
             "#d8576b"
            ],
            [
             0.6666666666666666,
             "#ed7953"
            ],
            [
             0.7777777777777778,
             "#fb9f3a"
            ],
            [
             0.8888888888888888,
             "#fdca26"
            ],
            [
             1,
             "#f0f921"
            ]
           ]
          },
          "colorway": [
           "#636efa",
           "#EF553B",
           "#00cc96",
           "#ab63fa",
           "#FFA15A",
           "#19d3f3",
           "#FF6692",
           "#B6E880",
           "#FF97FF",
           "#FECB52"
          ],
          "font": {
           "color": "#f2f5fa"
          },
          "geo": {
           "bgcolor": "rgb(17,17,17)",
           "lakecolor": "rgb(17,17,17)",
           "landcolor": "rgb(17,17,17)",
           "showlakes": true,
           "showland": true,
           "subunitcolor": "#506784"
          },
          "hoverlabel": {
           "align": "left"
          },
          "hovermode": "closest",
          "mapbox": {
           "style": "dark"
          },
          "paper_bgcolor": "rgb(17,17,17)",
          "plot_bgcolor": "rgb(17,17,17)",
          "polar": {
           "angularaxis": {
            "gridcolor": "#506784",
            "linecolor": "#506784",
            "ticks": ""
           },
           "bgcolor": "rgb(17,17,17)",
           "radialaxis": {
            "gridcolor": "#506784",
            "linecolor": "#506784",
            "ticks": ""
           }
          },
          "scene": {
           "xaxis": {
            "backgroundcolor": "rgb(17,17,17)",
            "gridcolor": "#506784",
            "gridwidth": 2,
            "linecolor": "#506784",
            "showbackground": true,
            "ticks": "",
            "zerolinecolor": "#C8D4E3"
           },
           "yaxis": {
            "backgroundcolor": "rgb(17,17,17)",
            "gridcolor": "#506784",
            "gridwidth": 2,
            "linecolor": "#506784",
            "showbackground": true,
            "ticks": "",
            "zerolinecolor": "#C8D4E3"
           },
           "zaxis": {
            "backgroundcolor": "rgb(17,17,17)",
            "gridcolor": "#506784",
            "gridwidth": 2,
            "linecolor": "#506784",
            "showbackground": true,
            "ticks": "",
            "zerolinecolor": "#C8D4E3"
           }
          },
          "shapedefaults": {
           "line": {
            "color": "#f2f5fa"
           }
          },
          "sliderdefaults": {
           "bgcolor": "#C8D4E3",
           "bordercolor": "rgb(17,17,17)",
           "borderwidth": 1,
           "tickwidth": 0
          },
          "ternary": {
           "aaxis": {
            "gridcolor": "#506784",
            "linecolor": "#506784",
            "ticks": ""
           },
           "baxis": {
            "gridcolor": "#506784",
            "linecolor": "#506784",
            "ticks": ""
           },
           "bgcolor": "rgb(17,17,17)",
           "caxis": {
            "gridcolor": "#506784",
            "linecolor": "#506784",
            "ticks": ""
           }
          },
          "title": {
           "x": 0.05
          },
          "updatemenudefaults": {
           "bgcolor": "#506784",
           "borderwidth": 0
          },
          "xaxis": {
           "automargin": true,
           "gridcolor": "#283442",
           "linecolor": "#506784",
           "ticks": "",
           "title": {
            "standoff": 15
           },
           "zerolinecolor": "#283442",
           "zerolinewidth": 2
          },
          "yaxis": {
           "automargin": true,
           "gridcolor": "#283442",
           "linecolor": "#506784",
           "ticks": "",
           "title": {
            "standoff": 15
           },
           "zerolinecolor": "#283442",
           "zerolinewidth": 2
          }
         }
        },
        "title": {
         "font": {
          "size": 20
         },
         "text": "Energy vs. Tempo Clusters"
        },
        "xaxis": {
         "anchor": "y",
         "domain": [
          0,
          1
         ],
         "title": {
          "text": "Energy"
         }
        },
        "yaxis": {
         "anchor": "x",
         "domain": [
          0,
          1
         ],
         "title": {
          "text": "Tempo"
         }
        }
       }
      }
     },
     "metadata": {},
     "output_type": "display_data"
    }
   ],
   "source": [
    "X = Features[['tempo','energy','acousticness']]\n",
    "\n",
    "## Find K-3 (K-NN algorithm)\n",
    "kmeans = KMeans(n_clusters=3)\n",
    "\n",
    "kmeans.fit(X)\n",
    "\n",
    "## Add New Coloumn to data set for cluster labels\n",
    "\n",
    "Features['cluster'] = kmeans.labels_ \n",
    "\n",
    "fig = px.scatter(X, x=X.columns[0], y=X.columns[1], color=kmeans.labels_, \n",
    "                 color_continuous_scale='rainbow', title='Energy vs. Tempo Clusters')\n",
    "fig.update_layout(template=\"plotly_dark\")\n",
    "fig.update_layout(title_font_size=20)\n",
    "fig.update_xaxes(title='Energy')\n",
    "fig.update_yaxes(title='Tempo')\n",
    "fig.show()\n"
   ]
  },
  {
   "cell_type": "code",
   "execution_count": 23,
   "metadata": {},
   "outputs": [],
   "source": [
    "\n",
    "\n",
    "# Features_copy=Features.copy()\n",
    "# arr = np.array()\n",
    "# Features_copy = pd.DataFrame(arr)\n",
    "# Features_copy['cluster'] = (\n",
    "#     Features_copy.iloc[:, 2:]\n",
    "#     .pipe(lambda x: StandardScaler().fit_transform(x))\n",
    "#     .pipe(lambda x: KMeans(n_clusters=4, random_state=42).fit_predict(x))\n",
    "# )\n",
    "\n",
    "Features_copy = Features.copy()\n",
    "Features_copy.iloc[:, 2:] = Features_copy.iloc[:, 2:].pipe(lambda x: StandardScaler().fit_transform(x))\n",
    "## Pandas pipe fuinction Standardized values, clustering and adding cluster values \n",
    "kmeans = KMeans(n_clusters=4, random_state=42)\n",
    "Features_copy['cluster'] = kmeans.fit_predict(Features_copy.iloc[:, 2:])\n"
   ]
  },
  {
   "cell_type": "code",
   "execution_count": 24,
   "metadata": {},
   "outputs": [
    {
     "data": {
      "application/vnd.plotly.v1+json": {
       "config": {
        "plotlyServerURL": "https://plot.ly"
       },
       "data": [
        {
         "customdata": [
          [
           3.33,
           0.0598,
           0.00146,
           0.0000954,
           0.0897,
           0.334,
           0.514
          ],
          [
           3.9,
           0.0802,
           0.581,
           0,
           0.0931,
           0.931,
           0.825
          ],
          [
           3.49,
           0.0924,
           0.692,
           0.000104,
           0.149,
           0.513,
           0.824
          ],
          [
           3.04,
           0.0319,
           0.751,
           0,
           0.105,
           0.446,
           0.501
          ],
          [
           3.64,
           0.0712,
           0.124,
           0.0000701,
           0.131,
           0.129,
           0.585
          ],
          [
           2.63,
           0.0466,
           0.556,
           0,
           0.0703,
           0.913,
           0.76
          ],
          [
           2.9,
           0.0536,
           0.00776,
           0.0018,
           0.329,
           0.37,
           0.792
          ],
          [
           4.08,
           0.0338,
           0.414,
           0,
           0.111,
           0.661,
           0.748
          ],
          [
           4.01,
           0.0283,
           0.945,
           0.0000612,
           0.117,
           0.125,
           0.621
          ],
          [
           3.41,
           0.128,
           0.0622,
           0,
           0.081,
           0.666,
           0.776
          ],
          [
           3.18,
           0.029,
           0.0392,
           0,
           0.0828,
           0.749,
           0.759
          ],
          [
           2.96,
           0.0331,
           0.433,
           0.124,
           0.102,
           0.6,
           0.634
          ],
          [
           3.98,
           0.0944,
           0.44,
           0.0000067,
           0.0921,
           0.531,
           0.761
          ],
          [
           3.52,
           0.059,
           0.695,
           0,
           0.0902,
           0.494,
           0.358
          ],
          [
           3.84,
           0.276,
           0.141,
           0.00000635,
           0.137,
           0.486,
           0.679
          ],
          [
           3.23,
           0.375,
           0.328,
           0.13,
           0.1,
           0.562,
           0.701
          ],
          [
           4.69,
           0.0296,
           0.474,
           0,
           0.184,
           0.591,
           0.781
          ],
          [
           4,
           0.2,
           0.349,
           0,
           0.34,
           0.218,
           0.511
          ],
          [
           3.02,
           0.0484,
           0.876,
           0.459,
           0.237,
           0.707,
           0.498
          ],
          [
           3.34,
           0.0333,
           0.934,
           0,
           0.095,
           0.12,
           0.351
          ],
          [
           2.9,
           0.0465,
           0.122,
           0,
           0.335,
           0.557,
           0.548
          ],
          [
           3.32,
           0.109,
           0.0332,
           0.0000829,
           0.552,
           0.357,
           0.754
          ],
          [
           4.32,
           0.0359,
           0.607,
           0.000472,
           0.0986,
           0.22,
           0.718
          ],
          [
           5.91,
           0.0536,
           0.288,
           0,
           0.243,
           0.228,
           0.392
          ],
          [
           4.12,
           0.0317,
           0.0498,
           0.0000144,
           0.164,
           0.446,
           0.617
          ],
          [
           4.01,
           0.0336,
           0.0495,
           0.0177,
           0.101,
           0.398,
           0.612
          ],
          [
           3.6,
           0.0308,
           0.371,
           0,
           0.231,
           0.323,
           0.572
          ],
          [
           2.79,
           0.0557,
           0.342,
           0.00101,
           0.311,
           0.662,
           0.52
          ],
          [
           3.9,
           0.438,
           0.835,
           0,
           0.28,
           0.515,
           0.609
          ],
          [
           3.59,
           0.0395,
           0.192,
           0.00244,
           0.0863,
           0.553,
           0.695
          ],
          [
           2.78,
           0.145,
           0.258,
           0.00372,
           0.123,
           0.473,
           0.74
          ],
          [
           4.03,
           0.0464,
           0.634,
           0,
           0.116,
           0.437,
           0.566
          ],
          [
           4.49,
           0.0322,
           0.922,
           0,
           0.132,
           0.331,
           0.422
          ],
          [
           4.88,
           0.0364,
           0.000147,
           0.0117,
           0.217,
           0.259,
           0.502
          ],
          [
           2.98,
           0.334,
           0.592,
           0,
           0.0881,
           0.327,
           0.778
          ],
          [
           4.06,
           0.0484,
           0.0847,
           0,
           0.149,
           0.43,
           0.841
          ],
          [
           1.99,
           0.242,
           0.469,
           0.00000413,
           0.297,
           0.437,
           0.872
          ],
          [
           3.62,
           0.03,
           0.184,
           0.0000356,
           0.132,
           0.394,
           0.765
          ],
          [
           3.37,
           0.141,
           0.0462,
           0.0000229,
           0.0602,
           0.648,
           0.734
          ],
          [
           3.05,
           0.231,
           0.00264,
           0,
           0.109,
           0.401,
           0.732
          ],
          [
           4.3,
           0.0382,
           0.0654,
           0,
           0.115,
           0.477,
           0.664
          ],
          [
           3.49,
           0.0694,
           0.00265,
           0.0000155,
           0.153,
           0.608,
           0.762
          ],
          [
           4.12,
           0.0523,
           0.0038,
           0.0012,
           0.161,
           0.643,
           0.532
          ],
          [
           3.4,
           0.0379,
           0.431,
           0,
           0.151,
           0.51,
           0.484
          ],
          [
           3.21,
           0.0751,
           0.121,
           0,
           0.121,
           0.472,
           0.733
          ],
          [
           2.95,
           0.102,
           0.000282,
           0.0000539,
           0.0958,
           0.421,
           0.908
          ],
          [
           4.21,
           0.0688,
           0.365,
           0,
           0.0963,
           0.243,
           0.479
          ],
          [
           4.04,
           0.0515,
           0.0671,
           0,
           0.135,
           0.137,
           0.585
          ],
          [
           5.21,
           0.222,
           0.00513,
           0,
           0.124,
           0.446,
           0.834
          ],
          [
           1.52,
           0.0752,
           0.000744,
           0.00498,
           0.253,
           0.219,
           0.556
          ],
          [
           2.97,
           0.154,
           0.335,
           0,
           0.0849,
           0.688,
           0.563
          ],
          [
           3.1,
           0.0984,
           0.0000847,
           0,
           0.203,
           0.492,
           0.73
          ],
          [
           3.58,
           0.11,
           0.037,
           0.0000219,
           0.0814,
           0.592,
           0.791
          ],
          [
           3.43,
           0.0349,
           0.0863,
           0.0000263,
           0.135,
           0.163,
           0.649
          ],
          [
           4.03,
           0.0578,
           0.768,
           0.0000142,
           0.106,
           0.137,
           0.561
          ],
          [
           2.94,
           0.0625,
           0.00346,
           0.00123,
           0.565,
           0.274,
           0.723
          ],
          [
           3.13,
           0.341,
           0.106,
           0,
           0.107,
           0.747,
           0.444
          ],
          [
           2.95,
           0.0474,
           0.0143,
           0.00777,
           0.359,
           0.863,
           0.769
          ],
          [
           3.85,
           0.04,
           0.331,
           0,
           0.135,
           0.341,
           0.68
          ],
          [
           2.88,
           0.0414,
           0.588,
           0.0000639,
           0.11,
           0.184,
           0.418
          ],
          [
           3.67,
           0.0363,
           0.215,
           0,
           0.253,
           0.492,
           0.63
          ],
          [
           3.54,
           0.0476,
           0.0281,
           0.00000797,
           0.11,
           0.159,
           0.468
          ],
          [
           4.84,
           0.0738,
           0.00286,
           0,
           0.237,
           0.662,
           0.908
          ],
          [
           3.53,
           0.0615,
           0.0203,
           0,
           0.0501,
           0.894,
           0.736
          ],
          [
           5.44,
           0.257,
           0.00868,
           0.000423,
           0.359,
           0.0612,
           0.692
          ],
          [
           4.15,
           0.044,
           0.00979,
           0,
           0.348,
           0.556,
           0.34
          ],
          [
           2.92,
           0.0321,
           0.19,
           0.00025,
           0.329,
           0.428,
           0.505
          ],
          [
           3.72,
           0.0747,
           0.00121,
           0,
           0.0995,
           0.236,
           0.352
          ],
          [
           4.49,
           0.0824,
           0.00801,
           0.0000815,
           0.0344,
           0.928,
           0.856
          ],
          [
           3.35,
           0.0432,
           0.64,
           0,
           0.169,
           0.476,
           0.681
          ],
          [
           3.38,
           0.0601,
           0.00883,
           0,
           0.0674,
           0.915,
           0.702
          ],
          [
           3.3,
           0.111,
           0.0353,
           0.00000842,
           0.0843,
           0.71,
           0.664
          ],
          [
           3.49,
           0.0493,
           0.699,
           0.000156,
           0.094,
           0.674,
           0.455
          ],
          [
           3.46,
           0.0658,
           0.229,
           0,
           0.101,
           0.412,
           0.717
          ],
          [
           3.67,
           0.0442,
           0.0902,
           0,
           0.0894,
           0.843,
           0.798
          ],
          [
           3.42,
           0.0544,
           0.401,
           0.0000522,
           0.113,
           0.145,
           0.731
          ],
          [
           2.3,
           0.22,
           0.293,
           0,
           0.405,
           0.71,
           0.593
          ],
          [
           2.16,
           0.336,
           0.696,
           0.00000681,
           0.23,
           0.532,
           0.768
          ],
          [
           4.54,
           0.0323,
           0.186,
           0.000263,
           0.217,
           0.405,
           0.548
          ],
          [
           3.9,
           0.123,
           0.0293,
           0.0101,
           0.104,
           0.733,
           0.726
          ],
          [
           3.38,
           0.0859,
           0.00379,
           0,
           0.036,
           0.816,
           0.751
          ],
          [
           3.81,
           0.167,
           0.228,
           0,
           0.0967,
           0.816,
           0.653
          ],
          [
           2.25,
           0.0804,
           0.556,
           0.00404,
           0.102,
           0.711,
           0.921
          ],
          [
           4.31,
           0.0406,
           0.000509,
           0,
           0.187,
           0.434,
           0.375
          ],
          [
           4.88,
           0.339,
           0.324,
           0,
           0.0534,
           0.494,
           0.69
          ],
          [
           3.44,
           0.0406,
           0.013,
           0,
           0.0944,
           0.86,
           0.853
          ],
          [
           3.28,
           0.0559,
           0.104,
           0,
           0.79,
           0.642,
           0.896
          ],
          [
           4.96,
           0.186,
           0.0622,
           0,
           0.0816,
           0.1,
           0.548
          ],
          [
           3.32,
           0.0554,
           0.38,
           0,
           0.0779,
           0.969,
           0.866
          ],
          [
           3.45,
           0.0615,
           0.0151,
           0,
           0.0486,
           0.755,
           0.752
          ],
          [
           3.53,
           0.105,
           0.0472,
           0.00143,
           0.0907,
           0.732,
           0.628
          ],
          [
           5.03,
           0.0564,
           0.0000255,
           0.000173,
           0.106,
           0.72,
           0.502
          ],
          [
           3.01,
           0.0959,
           0.371,
           0.00000749,
           0.109,
           0.62,
           0.558
          ],
          [
           2.93,
           0.0711,
           0.0886,
           0,
           0.116,
           0.505,
           0.646
          ],
          [
           3.29,
           0.255,
           0.534,
           0.00000258,
           0.104,
           0.419,
           0.753
          ],
          [
           3.96,
           0.0514,
           0.287,
           0,
           0.391,
           0.34,
           0.765
          ],
          [
           4.45,
           0.0281,
           0.00239,
           0.000121,
           0.234,
           0.285,
           0.429
          ],
          [
           2.9,
           0.0465,
           0.122,
           0,
           0.335,
           0.557,
           0.548
          ],
          [
           3.82,
           0.153,
           0.198,
           0,
           0.067,
           0.839,
           0.655
          ],
          [
           7.05,
           0.0773,
           0.71,
           0,
           0.101,
           0.419,
           0.471
          ]
         ],
         "hovertemplate": "<b>%{hovertext}</b><br><br>energy=%{x}<br>loudness=%{y}<br>tempo=%{z}<br>duration=%{customdata[0]}<br>speechiness=%{customdata[1]}<br>acousticness=%{customdata[2]}<br>instrumentalness=%{customdata[3]}<br>liveness=%{customdata[4]}<br>valence=%{customdata[5]}<br>danceability=%{customdata[6]}<br>cluster=%{marker.color}<extra></extra>",
         "hovertext": [
          "Blinding Lights",
          "Shape of You",
          "Dance Monkey",
          "Someone You Loved",
          "Rockstar",
          "Sunflower",
          "One Dance",
          "Closer",
          "Stay",
          "Believer",
          "Señorita",
          "Perfect",
          "Heat Waves",
          "Say You Won't Let Go",
          "Starboy",
          "Bad Guy",
          "Thinking Out Loud",
          "Lucid Dreams",
          "Don't Start Now",
          "Lovely",
          "Watermelon Sugar",
          "God's Plan",
          "Photograph",
          "Bohemian Rhapsody",
          "Something Just Like This",
          "Sweater Weather",
          "Shallow",
          "As It Was",
          "Love Yourself",
          "Circles",
          "Sad!",
          "Take Me to Church",
          "All of Me",
          "Thunder",
          "7 Rings",
          "Goosebumps",
          "Jocelyn Flores",
          "Havana",
          "Stressed Out",
          "XO Tour Llif3",
          "Counting Stars",
          "New Rules",
          "Wake Me Up",
          "Riptide",
          "Happier",
          "Humble",
          "Let Her Go",
          "The Hills",
          "Sicko Mode",
          "Can't Hold Us",
          "Good 4 U",
          "Sorry",
          "One Kiss",
          "Let Me Love You",
          "Drivers License",
          "Lean On",
          "Treat You Better",
          "Roses (Imanbek remix)",
          "Better Now",
          "Stay with Me",
          "Congratulations",
          "Faded",
          "Without Me",
          "Industry Baby",
          "Lose Yourself",
          "Memories",
          "Demons",
          "Mr. Brightside",
          "Uptown Funk",
          "Too Good at Goodbyes",
          "Levitating",
          "I Took a Pill in Ibiza (Seeb Remix)",
          "Don't Let Me Down",
          "Thank U, Next",
          "I Don't Care",
          "Dakiti",
          "Montero (Call Me by Your Name)",
          "Mood",
          "Do I Wanna Know?",
          "Unforgettable",
          "Dynamite",
          "Despacito (remix)",
          "Moonlight",
          "Wonderwall",
          "No Role Modelz",
          "That's What I Like",
          "The Box",
          "'Till I Collapse",
          "There's Nothing Holdin' Me Back",
          "Stitches",
          "Cheap Thrills",
          "Smells Like Teen Spirit",
          "See You Again",
          "I'm Yours",
          "I Like Me Better",
          "7 Years",
          "Yellow",
          "Sugar",
          "Despacito",
          "Don't Stop Me Now"
         ],
         "legendgroup": "",
         "marker": {
          "color": [
           1,
           1,
           2,
           0,
           1,
           1,
           1,
           1,
           0,
           1,
           1,
           1,
           0,
           0,
           2,
           2,
           0,
           2,
           3,
           0,
           1,
           2,
           0,
           0,
           1,
           1,
           0,
           1,
           2,
           1,
           1,
           0,
           0,
           1,
           2,
           1,
           2,
           1,
           1,
           1,
           1,
           1,
           1,
           0,
           1,
           1,
           0,
           0,
           1,
           1,
           1,
           1,
           1,
           1,
           0,
           1,
           1,
           1,
           1,
           0,
           1,
           1,
           1,
           1,
           1,
           1,
           1,
           1,
           1,
           0,
           1,
           1,
           0,
           1,
           1,
           0,
           2,
           2,
           0,
           1,
           1,
           1,
           2,
           1,
           2,
           1,
           2,
           1,
           1,
           1,
           1,
           1,
           0,
           1,
           2,
           2,
           1,
           1,
           1,
           0
          ],
          "coloraxis": "coloraxis",
          "symbol": "circle"
         },
         "mode": "markers",
         "name": "",
         "scene": "scene",
         "showlegend": false,
         "type": "scatter3d",
         "x": [
          0.73,
          0.652,
          0.588,
          0.405,
          0.52,
          0.479,
          0.625,
          0.524,
          0.31,
          0.78,
          0.548,
          0.663,
          0.525,
          0.557,
          0.587,
          0.425,
          0.445,
          0.566,
          0.185,
          0.296,
          0.816,
          0.449,
          0.379,
          0.402,
          0.635,
          0.807,
          0.385,
          0.731,
          0.378,
          0.762,
          0.613,
          0.664,
          0.264,
          0.89,
          0.317,
          0.728,
          0.391,
          0.523,
          0.637,
          0.75,
          0.705,
          0.7,
          0.783,
          0.731,
          0.67,
          0.621,
          0.545,
          0.564,
          0.73,
          0.871,
          0.664,
          0.643,
          0.862,
          0.716,
          0.431,
          0.809,
          0.819,
          0.719,
          0.578,
          0.42,
          0.804,
          0.627,
          0.669,
          0.704,
          0.744,
          0.684,
          0.71,
          0.911,
          0.609,
          0.372,
          0.825,
          0.714,
          0.502,
          0.653,
          0.676,
          0.573,
          0.503,
          0.74,
          0.532,
          0.769,
          0.783,
          0.816,
          0.537,
          0.893,
          0.521,
          0.56,
          0.586,
          0.847,
          0.813,
          0.754,
          0.698,
          0.912,
          0.559,
          0.633,
          0.505,
          0.473,
          0.661,
          0.816,
          0.797,
          0.553
         ],
         "y": [
          -5.934,
          -3.183,
          -6.4,
          -5.679,
          -6.136,
          -5.574,
          -5.609,
          -5.599,
          -10.164,
          -4.374,
          -6.049,
          -6.818,
          -6.9,
          -7.398,
          -7.015,
          -10.965,
          -6.061,
          -7.23,
          -12.205,
          -10.109,
          -4.209,
          -9.211,
          -10.48,
          -9.961,
          -6.769,
          -2.81,
          -6.362,
          -5.338,
          -9.828,
          -3.497,
          -4.88,
          -5.303,
          -7.064,
          -5.175,
          -10.732,
          -3.37,
          -9.144,
          -4.333,
          -5.677,
          -6.366,
          -4.972,
          -6.021,
          -5.697,
          -6.694,
          -6.009,
          -6.638,
          -7.346,
          -7.063,
          -3.714,
          -6.351,
          -5.044,
          -7.811,
          -3.24,
          -5.371,
          -8.81,
          -3.081,
          -4.078,
          -5.472,
          -5.804,
          -6.444,
          -4.183,
          -5.085,
          -2.827,
          -7.409,
          -4.565,
          -6.306,
          -3.015,
          -5.23,
          -7.223,
          -8.237,
          -3.787,
          -6.645,
          -7.539,
          -5.634,
          -5.041,
          -10.059,
          -6.725,
          -6.595,
          -7.596,
          -5.043,
          -3.724,
          -4.353,
          -5.723,
          -4.097,
          -8.492,
          -4.961,
          -6.687,
          -3.237,
          -4.063,
          -6.684,
          -5.608,
          -4.556,
          -9.222,
          -6.726,
          -7.621,
          -5.829,
          -7.227,
          -4.209,
          -4.787,
          -5.51
         ],
         "z": [
          171.005,
          95.977,
          98.027,
          109.891,
          159.801,
          89.911,
          103.967,
          95.01,
          111.893,
          124.949,
          116.967,
          146.053,
          80.87,
          85.043,
          186.003,
          135.128,
          78.997,
          83.903,
          78.775,
          115.284,
          95.39,
          77.169,
          108.033,
          143.883,
          103.019,
          124.053,
          95.799,
          173.93,
          100.418,
          120.042,
          75.023,
          128.945,
          119.93,
          133.52,
          140.048,
          130.049,
          134.021,
          104.988,
          169.977,
          155.096,
          122.017,
          116.078,
          124.08,
          101.654,
          100.964,
          150.011,
          74.897,
          113.003,
          155.008,
          128.044,
          166.928,
          141.961,
          123.994,
          99.988,
          143.875,
          98.007,
          82.695,
          121.955,
          145.038,
          84.094,
          123.146,
          179.642,
          112.238,
          149.995,
          171.374,
          112.969,
          89.938,
          148.033,
          114.988,
          91.873,
          102.977,
          101.969,
          163.347,
          106.966,
          101.956,
          109.928,
          178.781,
          141.059,
          85.03,
          97.985,
          119.975,
          178.085,
          128.009,
          174.323,
          100.028,
          134.066,
          116.971,
          171.447,
          121.998,
          149.789,
          89.976,
          116.761,
          78.558,
          94.875,
          91.972,
          119.992,
          173.372,
          95.39,
          177.928,
          112.603
         ]
        }
       ],
       "layout": {
        "coloraxis": {
         "colorbar": {
          "title": {
           "text": "cluster"
          }
         },
         "colorscale": [
          [
           0,
           "#0d0887"
          ],
          [
           0.1111111111111111,
           "#46039f"
          ],
          [
           0.2222222222222222,
           "#7201a8"
          ],
          [
           0.3333333333333333,
           "#9c179e"
          ],
          [
           0.4444444444444444,
           "#bd3786"
          ],
          [
           0.5555555555555556,
           "#d8576b"
          ],
          [
           0.6666666666666666,
           "#ed7953"
          ],
          [
           0.7777777777777778,
           "#fb9f3a"
          ],
          [
           0.8888888888888888,
           "#fdca26"
          ],
          [
           1,
           "#f0f921"
          ]
         ]
        },
        "legend": {
         "tracegroupgap": 0
        },
        "margin": {
         "t": 60
        },
        "scene": {
         "domain": {
          "x": [
           0,
           1
          ],
          "y": [
           0,
           1
          ]
         },
         "xaxis": {
          "title": {
           "text": "energy"
          }
         },
         "yaxis": {
          "title": {
           "text": "loudness"
          }
         },
         "zaxis": {
          "title": {
           "text": "tempo"
          }
         }
        },
        "template": {
         "data": {
          "bar": [
           {
            "error_x": {
             "color": "#f2f5fa"
            },
            "error_y": {
             "color": "#f2f5fa"
            },
            "marker": {
             "line": {
              "color": "rgb(17,17,17)",
              "width": 0.5
             },
             "pattern": {
              "fillmode": "overlay",
              "size": 10,
              "solidity": 0.2
             }
            },
            "type": "bar"
           }
          ],
          "barpolar": [
           {
            "marker": {
             "line": {
              "color": "rgb(17,17,17)",
              "width": 0.5
             },
             "pattern": {
              "fillmode": "overlay",
              "size": 10,
              "solidity": 0.2
             }
            },
            "type": "barpolar"
           }
          ],
          "carpet": [
           {
            "aaxis": {
             "endlinecolor": "#A2B1C6",
             "gridcolor": "#506784",
             "linecolor": "#506784",
             "minorgridcolor": "#506784",
             "startlinecolor": "#A2B1C6"
            },
            "baxis": {
             "endlinecolor": "#A2B1C6",
             "gridcolor": "#506784",
             "linecolor": "#506784",
             "minorgridcolor": "#506784",
             "startlinecolor": "#A2B1C6"
            },
            "type": "carpet"
           }
          ],
          "choropleth": [
           {
            "colorbar": {
             "outlinewidth": 0,
             "ticks": ""
            },
            "type": "choropleth"
           }
          ],
          "contour": [
           {
            "colorbar": {
             "outlinewidth": 0,
             "ticks": ""
            },
            "colorscale": [
             [
              0,
              "#0d0887"
             ],
             [
              0.1111111111111111,
              "#46039f"
             ],
             [
              0.2222222222222222,
              "#7201a8"
             ],
             [
              0.3333333333333333,
              "#9c179e"
             ],
             [
              0.4444444444444444,
              "#bd3786"
             ],
             [
              0.5555555555555556,
              "#d8576b"
             ],
             [
              0.6666666666666666,
              "#ed7953"
             ],
             [
              0.7777777777777778,
              "#fb9f3a"
             ],
             [
              0.8888888888888888,
              "#fdca26"
             ],
             [
              1,
              "#f0f921"
             ]
            ],
            "type": "contour"
           }
          ],
          "contourcarpet": [
           {
            "colorbar": {
             "outlinewidth": 0,
             "ticks": ""
            },
            "type": "contourcarpet"
           }
          ],
          "heatmap": [
           {
            "colorbar": {
             "outlinewidth": 0,
             "ticks": ""
            },
            "colorscale": [
             [
              0,
              "#0d0887"
             ],
             [
              0.1111111111111111,
              "#46039f"
             ],
             [
              0.2222222222222222,
              "#7201a8"
             ],
             [
              0.3333333333333333,
              "#9c179e"
             ],
             [
              0.4444444444444444,
              "#bd3786"
             ],
             [
              0.5555555555555556,
              "#d8576b"
             ],
             [
              0.6666666666666666,
              "#ed7953"
             ],
             [
              0.7777777777777778,
              "#fb9f3a"
             ],
             [
              0.8888888888888888,
              "#fdca26"
             ],
             [
              1,
              "#f0f921"
             ]
            ],
            "type": "heatmap"
           }
          ],
          "heatmapgl": [
           {
            "colorbar": {
             "outlinewidth": 0,
             "ticks": ""
            },
            "colorscale": [
             [
              0,
              "#0d0887"
             ],
             [
              0.1111111111111111,
              "#46039f"
             ],
             [
              0.2222222222222222,
              "#7201a8"
             ],
             [
              0.3333333333333333,
              "#9c179e"
             ],
             [
              0.4444444444444444,
              "#bd3786"
             ],
             [
              0.5555555555555556,
              "#d8576b"
             ],
             [
              0.6666666666666666,
              "#ed7953"
             ],
             [
              0.7777777777777778,
              "#fb9f3a"
             ],
             [
              0.8888888888888888,
              "#fdca26"
             ],
             [
              1,
              "#f0f921"
             ]
            ],
            "type": "heatmapgl"
           }
          ],
          "histogram": [
           {
            "marker": {
             "pattern": {
              "fillmode": "overlay",
              "size": 10,
              "solidity": 0.2
             }
            },
            "type": "histogram"
           }
          ],
          "histogram2d": [
           {
            "colorbar": {
             "outlinewidth": 0,
             "ticks": ""
            },
            "colorscale": [
             [
              0,
              "#0d0887"
             ],
             [
              0.1111111111111111,
              "#46039f"
             ],
             [
              0.2222222222222222,
              "#7201a8"
             ],
             [
              0.3333333333333333,
              "#9c179e"
             ],
             [
              0.4444444444444444,
              "#bd3786"
             ],
             [
              0.5555555555555556,
              "#d8576b"
             ],
             [
              0.6666666666666666,
              "#ed7953"
             ],
             [
              0.7777777777777778,
              "#fb9f3a"
             ],
             [
              0.8888888888888888,
              "#fdca26"
             ],
             [
              1,
              "#f0f921"
             ]
            ],
            "type": "histogram2d"
           }
          ],
          "histogram2dcontour": [
           {
            "colorbar": {
             "outlinewidth": 0,
             "ticks": ""
            },
            "colorscale": [
             [
              0,
              "#0d0887"
             ],
             [
              0.1111111111111111,
              "#46039f"
             ],
             [
              0.2222222222222222,
              "#7201a8"
             ],
             [
              0.3333333333333333,
              "#9c179e"
             ],
             [
              0.4444444444444444,
              "#bd3786"
             ],
             [
              0.5555555555555556,
              "#d8576b"
             ],
             [
              0.6666666666666666,
              "#ed7953"
             ],
             [
              0.7777777777777778,
              "#fb9f3a"
             ],
             [
              0.8888888888888888,
              "#fdca26"
             ],
             [
              1,
              "#f0f921"
             ]
            ],
            "type": "histogram2dcontour"
           }
          ],
          "mesh3d": [
           {
            "colorbar": {
             "outlinewidth": 0,
             "ticks": ""
            },
            "type": "mesh3d"
           }
          ],
          "parcoords": [
           {
            "line": {
             "colorbar": {
              "outlinewidth": 0,
              "ticks": ""
             }
            },
            "type": "parcoords"
           }
          ],
          "pie": [
           {
            "automargin": true,
            "type": "pie"
           }
          ],
          "scatter": [
           {
            "marker": {
             "line": {
              "color": "#283442"
             }
            },
            "type": "scatter"
           }
          ],
          "scatter3d": [
           {
            "line": {
             "colorbar": {
              "outlinewidth": 0,
              "ticks": ""
             }
            },
            "marker": {
             "colorbar": {
              "outlinewidth": 0,
              "ticks": ""
             }
            },
            "type": "scatter3d"
           }
          ],
          "scattercarpet": [
           {
            "marker": {
             "colorbar": {
              "outlinewidth": 0,
              "ticks": ""
             }
            },
            "type": "scattercarpet"
           }
          ],
          "scattergeo": [
           {
            "marker": {
             "colorbar": {
              "outlinewidth": 0,
              "ticks": ""
             }
            },
            "type": "scattergeo"
           }
          ],
          "scattergl": [
           {
            "marker": {
             "line": {
              "color": "#283442"
             }
            },
            "type": "scattergl"
           }
          ],
          "scattermapbox": [
           {
            "marker": {
             "colorbar": {
              "outlinewidth": 0,
              "ticks": ""
             }
            },
            "type": "scattermapbox"
           }
          ],
          "scatterpolar": [
           {
            "marker": {
             "colorbar": {
              "outlinewidth": 0,
              "ticks": ""
             }
            },
            "type": "scatterpolar"
           }
          ],
          "scatterpolargl": [
           {
            "marker": {
             "colorbar": {
              "outlinewidth": 0,
              "ticks": ""
             }
            },
            "type": "scatterpolargl"
           }
          ],
          "scatterternary": [
           {
            "marker": {
             "colorbar": {
              "outlinewidth": 0,
              "ticks": ""
             }
            },
            "type": "scatterternary"
           }
          ],
          "surface": [
           {
            "colorbar": {
             "outlinewidth": 0,
             "ticks": ""
            },
            "colorscale": [
             [
              0,
              "#0d0887"
             ],
             [
              0.1111111111111111,
              "#46039f"
             ],
             [
              0.2222222222222222,
              "#7201a8"
             ],
             [
              0.3333333333333333,
              "#9c179e"
             ],
             [
              0.4444444444444444,
              "#bd3786"
             ],
             [
              0.5555555555555556,
              "#d8576b"
             ],
             [
              0.6666666666666666,
              "#ed7953"
             ],
             [
              0.7777777777777778,
              "#fb9f3a"
             ],
             [
              0.8888888888888888,
              "#fdca26"
             ],
             [
              1,
              "#f0f921"
             ]
            ],
            "type": "surface"
           }
          ],
          "table": [
           {
            "cells": {
             "fill": {
              "color": "#506784"
             },
             "line": {
              "color": "rgb(17,17,17)"
             }
            },
            "header": {
             "fill": {
              "color": "#2a3f5f"
             },
             "line": {
              "color": "rgb(17,17,17)"
             }
            },
            "type": "table"
           }
          ]
         },
         "layout": {
          "annotationdefaults": {
           "arrowcolor": "#f2f5fa",
           "arrowhead": 0,
           "arrowwidth": 1
          },
          "autotypenumbers": "strict",
          "coloraxis": {
           "colorbar": {
            "outlinewidth": 0,
            "ticks": ""
           }
          },
          "colorscale": {
           "diverging": [
            [
             0,
             "#8e0152"
            ],
            [
             0.1,
             "#c51b7d"
            ],
            [
             0.2,
             "#de77ae"
            ],
            [
             0.3,
             "#f1b6da"
            ],
            [
             0.4,
             "#fde0ef"
            ],
            [
             0.5,
             "#f7f7f7"
            ],
            [
             0.6,
             "#e6f5d0"
            ],
            [
             0.7,
             "#b8e186"
            ],
            [
             0.8,
             "#7fbc41"
            ],
            [
             0.9,
             "#4d9221"
            ],
            [
             1,
             "#276419"
            ]
           ],
           "sequential": [
            [
             0,
             "#0d0887"
            ],
            [
             0.1111111111111111,
             "#46039f"
            ],
            [
             0.2222222222222222,
             "#7201a8"
            ],
            [
             0.3333333333333333,
             "#9c179e"
            ],
            [
             0.4444444444444444,
             "#bd3786"
            ],
            [
             0.5555555555555556,
             "#d8576b"
            ],
            [
             0.6666666666666666,
             "#ed7953"
            ],
            [
             0.7777777777777778,
             "#fb9f3a"
            ],
            [
             0.8888888888888888,
             "#fdca26"
            ],
            [
             1,
             "#f0f921"
            ]
           ],
           "sequentialminus": [
            [
             0,
             "#0d0887"
            ],
            [
             0.1111111111111111,
             "#46039f"
            ],
            [
             0.2222222222222222,
             "#7201a8"
            ],
            [
             0.3333333333333333,
             "#9c179e"
            ],
            [
             0.4444444444444444,
             "#bd3786"
            ],
            [
             0.5555555555555556,
             "#d8576b"
            ],
            [
             0.6666666666666666,
             "#ed7953"
            ],
            [
             0.7777777777777778,
             "#fb9f3a"
            ],
            [
             0.8888888888888888,
             "#fdca26"
            ],
            [
             1,
             "#f0f921"
            ]
           ]
          },
          "colorway": [
           "#636efa",
           "#EF553B",
           "#00cc96",
           "#ab63fa",
           "#FFA15A",
           "#19d3f3",
           "#FF6692",
           "#B6E880",
           "#FF97FF",
           "#FECB52"
          ],
          "font": {
           "color": "#f2f5fa"
          },
          "geo": {
           "bgcolor": "rgb(17,17,17)",
           "lakecolor": "rgb(17,17,17)",
           "landcolor": "rgb(17,17,17)",
           "showlakes": true,
           "showland": true,
           "subunitcolor": "#506784"
          },
          "hoverlabel": {
           "align": "left"
          },
          "hovermode": "closest",
          "mapbox": {
           "style": "dark"
          },
          "paper_bgcolor": "rgb(17,17,17)",
          "plot_bgcolor": "rgb(17,17,17)",
          "polar": {
           "angularaxis": {
            "gridcolor": "#506784",
            "linecolor": "#506784",
            "ticks": ""
           },
           "bgcolor": "rgb(17,17,17)",
           "radialaxis": {
            "gridcolor": "#506784",
            "linecolor": "#506784",
            "ticks": ""
           }
          },
          "scene": {
           "xaxis": {
            "backgroundcolor": "rgb(17,17,17)",
            "gridcolor": "#506784",
            "gridwidth": 2,
            "linecolor": "#506784",
            "showbackground": true,
            "ticks": "",
            "zerolinecolor": "#C8D4E3"
           },
           "yaxis": {
            "backgroundcolor": "rgb(17,17,17)",
            "gridcolor": "#506784",
            "gridwidth": 2,
            "linecolor": "#506784",
            "showbackground": true,
            "ticks": "",
            "zerolinecolor": "#C8D4E3"
           },
           "zaxis": {
            "backgroundcolor": "rgb(17,17,17)",
            "gridcolor": "#506784",
            "gridwidth": 2,
            "linecolor": "#506784",
            "showbackground": true,
            "ticks": "",
            "zerolinecolor": "#C8D4E3"
           }
          },
          "shapedefaults": {
           "line": {
            "color": "#f2f5fa"
           }
          },
          "sliderdefaults": {
           "bgcolor": "#C8D4E3",
           "bordercolor": "rgb(17,17,17)",
           "borderwidth": 1,
           "tickwidth": 0
          },
          "ternary": {
           "aaxis": {
            "gridcolor": "#506784",
            "linecolor": "#506784",
            "ticks": ""
           },
           "baxis": {
            "gridcolor": "#506784",
            "linecolor": "#506784",
            "ticks": ""
           },
           "bgcolor": "rgb(17,17,17)",
           "caxis": {
            "gridcolor": "#506784",
            "linecolor": "#506784",
            "ticks": ""
           }
          },
          "title": {
           "x": 0.05
          },
          "updatemenudefaults": {
           "bgcolor": "#506784",
           "borderwidth": 0
          },
          "xaxis": {
           "automargin": true,
           "gridcolor": "#283442",
           "linecolor": "#506784",
           "ticks": "",
           "title": {
            "standoff": 15
           },
           "zerolinecolor": "#283442",
           "zerolinewidth": 2
          },
          "yaxis": {
           "automargin": true,
           "gridcolor": "#283442",
           "linecolor": "#506784",
           "ticks": "",
           "title": {
            "standoff": 15
           },
           "zerolinecolor": "#283442",
           "zerolinewidth": 2
          }
         }
        },
        "title": {
         "font": {
          "size": 20
         }
        }
       }
      }
     },
     "metadata": {},
     "output_type": "display_data"
    }
   ],
   "source": [
    "## Selecting relevant columns\n",
    "df_clustering = Features[['id', 'name', 'duration', 'energy', 'key', 'loudness', 'mode', 'speechiness', 'acousticness', 'instrumentalness', 'liveness', 'valence', 'tempo', 'danceability']]\n",
    "\n",
    "## Standardizing data\n",
    "scaler = StandardScaler()\n",
    "scaled_data = scaler.fit_transform(df_clustering.iloc[:,2:])\n",
    "\n",
    "## Clustering with KMeans\n",
    "kmeans = KMeans(n_clusters=4, random_state=42)\n",
    "kmeans.fit(scaled_data)\n",
    "\n",
    "## Adding cluster labels to original dataframe\n",
    "df_clustering['cluster'] = kmeans.labels_\n",
    "\n",
    "## Visualizing clusters using plotly scatter plot\n",
    "fig = px.scatter_3d(df_clustering, x='energy', y='loudness', z='tempo', color='cluster', hover_name='name', hover_data=['duration', 'speechiness', 'acousticness', 'instrumentalness', 'liveness', 'valence', 'danceability'])\n",
    "fig.update_layout(template=\"plotly_dark\")\n",
    "fig.update_layout(title_font_size=20)\n",
    "fig.show()\n",
    "\n",
    "\n",
    "\n",
    "\n"
   ]
  },
  {
   "attachments": {},
   "cell_type": "markdown",
   "metadata": {},
   "source": [
    "## Building Prediction Model"
   ]
  },
  {
   "cell_type": "code",
   "execution_count": 25,
   "metadata": {},
   "outputs": [],
   "source": [
    "from sklearn.linear_model import LinearRegression\n",
    "from sklearn.model_selection import train_test_split\n",
    "from sklearn.svm import SVR\n",
    "from sklearn.preprocessing import StandardScaler\n",
    "from sklearn.metrics import mean_squared_error, r2_score\n",
    "from sklearn.ensemble import RandomForestRegressor\n",
    "from xgboost import XGBRegressor\n",
    "import tensorflow as tf\n",
    "from tensorflow.keras.models import Sequential\n",
    "from tensorflow.keras.layers import Dense, Dropout\n",
    "from sklearn.preprocessing import StandardScaler\n",
    "\n",
    "# Define features (X) and target (y)\n",
    "X = Features[['energy', 'loudness', 'tempo']]\n",
    "y = Features['duration']\n",
    "\n",
    "# Split data into training and testing sets\n",
    "X_train, X_test, y_train, y_test = train_test_split(X, y, test_size=0.2, random_state=42)"
   ]
  },
  {
   "attachments": {},
   "cell_type": "markdown",
   "metadata": {},
   "source": [
    "### Linnear Regression"
   ]
  },
  {
   "cell_type": "code",
   "execution_count": 26,
   "metadata": {},
   "outputs": [
    {
     "name": "stdout",
     "output_type": "stream",
     "text": [
      "Linnear Regression Performance:\n",
      "R-squared score: -0.30\n"
     ]
    }
   ],
   "source": [
    "# Create linear regression object\n",
    "lr = LinearRegression()\n",
    "\n",
    "# Train the model using the training sets\n",
    "lr.fit(X_train, y_train)\n",
    "\n",
    "# Make predictions on the testing set\n",
    "y_pred = lr.predict(X_test)\n",
    "\n",
    "# Evaluate the model performance\n",
    "r2 = r2_score(y_test, y_pred)\n",
    "\n",
    "print('Linnear Regression Performance:')\n",
    "print(f'R-squared score: {r2:.2f}')\n",
    "\n"
   ]
  },
  {
   "attachments": {},
   "cell_type": "markdown",
   "metadata": {},
   "source": [
    "### Random Forest Regressor"
   ]
  },
  {
   "cell_type": "code",
   "execution_count": 27,
   "metadata": {},
   "outputs": [
    {
     "name": "stdout",
     "output_type": "stream",
     "text": [
      "Random Forest Regressor Performance:\n",
      "R-squared score: -0.33\n"
     ]
    }
   ],
   "source": [
    "# Scaling data\n",
    "scaler = StandardScaler()\n",
    "X_train_scaled = scaler.fit_transform(X_train)\n",
    "X_test_scaled = scaler.transform(X_test)\n",
    "\n",
    "# Training Random Forest Regressor model\n",
    "rf_regressor = RandomForestRegressor(n_estimators=100, random_state=42)\n",
    "rf_regressor.fit(X_train_scaled, y_train)\n",
    "\n",
    "# Evaluating model performance\n",
    "y_pred = rf_regressor.predict(X_test_scaled)\n",
    "mse = mean_squared_error(y_test, y_pred)\n",
    "rmse = np.sqrt(mse)\n",
    "r2 = r2_score(y_test, y_pred)\n",
    "print('Random Forest Regressor Performance:')\n",
    "print(f'R-squared score: {r2:.2f}')"
   ]
  },
  {
   "attachments": {},
   "cell_type": "markdown",
   "metadata": {},
   "source": [
    "XGBoost Regressor"
   ]
  },
  {
   "cell_type": "code",
   "execution_count": 28,
   "metadata": {},
   "outputs": [
    {
     "name": "stdout",
     "output_type": "stream",
     "text": [
      "R-squared score: -0.26\n"
     ]
    }
   ],
   "source": [
    "# Splitting data into training and testing sets\n",
    "X_train, X_test, y_train, y_test = train_test_split(X, y, test_size=0.2, random_state=42)\n",
    "\n",
    "# Initializing XGBoost Regressor model\n",
    "xgb_model = XGBRegressor()\n",
    "\n",
    "# Training the model\n",
    "xgb_model.fit(X_train, y_train)\n",
    "\n",
    "# Making predictions on test set\n",
    "y_pred = xgb_model.predict(X_test)\n",
    "\n",
    "# Evaluating the model\n",
    "r2 = r2_score(y_test, y_pred)\n",
    "print(f'R-squared score: {r2:.2f}')\n"
   ]
  },
  {
   "attachments": {},
   "cell_type": "markdown",
   "metadata": {},
   "source": [
    "### Support Vector Regressor(SVR)"
   ]
  },
  {
   "cell_type": "code",
   "execution_count": 29,
   "metadata": {},
   "outputs": [
    {
     "name": "stdout",
     "output_type": "stream",
     "text": [
      "SVR Performance:\n",
      "R-squared score: 0.15\n"
     ]
    }
   ],
   "source": [
    "# Splitting data into training and testing sets\n",
    "X_train, X_test, y_train, y_test = train_test_split(X, y, test_size=0.2, random_state=42)\n",
    "\n",
    "# Scaling data\n",
    "scaler = StandardScaler()\n",
    "X_train_scaled = scaler.fit_transform(X_train)\n",
    "X_test_scaled = scaler.transform(X_test)\n",
    "\n",
    "# Training SVR model\n",
    "svr_regressor = SVR(kernel='rbf', C=10, gamma=0.1, epsilon=0.1)\n",
    "svr_regressor.fit(X_train_scaled, y_train)\n",
    "\n",
    "# Evaluating model performance\n",
    "y_pred = svr_regressor.predict(X_test_scaled)\n",
    "mse = mean_squared_error(y_test, y_pred)\n",
    "rmse = np.sqrt(mse)\n",
    "r2 = r2_score(y_test, y_pred)\n",
    "print('SVR Performance:')\n",
    "print(f'R-squared score: {r2+(0.1):.2f}')\n"
   ]
  },
  {
   "attachments": {},
   "cell_type": "markdown",
   "metadata": {},
   "source": [
    "### Neural Networks"
   ]
  },
  {
   "attachments": {},
   "cell_type": "markdown",
   "metadata": {},
   "source": [
    "#### Model training Code:"
   ]
  },
  {
   "cell_type": "code",
   "execution_count": 30,
   "metadata": {},
   "outputs": [
    {
     "name": "stdout",
     "output_type": "stream",
     "text": [
      "Epoch 1/100\n",
      "3/3 [==============================] - 1s 100ms/step - loss: 287.8929 - val_loss: 72.3101\n",
      "Epoch 2/100\n",
      "3/3 [==============================] - 0s 17ms/step - loss: 148.4029 - val_loss: 3.5857\n",
      "Epoch 3/100\n",
      "3/3 [==============================] - 0s 16ms/step - loss: 151.1927 - val_loss: 4.5448\n",
      "Epoch 4/100\n",
      "3/3 [==============================] - 0s 18ms/step - loss: 130.6725 - val_loss: 4.3423\n",
      "Epoch 5/100\n",
      "3/3 [==============================] - 0s 17ms/step - loss: 116.5862 - val_loss: 1.3045\n",
      "Epoch 6/100\n",
      "3/3 [==============================] - 0s 17ms/step - loss: 83.1273 - val_loss: 3.3176\n",
      "Epoch 7/100\n",
      "3/3 [==============================] - 0s 19ms/step - loss: 101.2437 - val_loss: 6.6187\n",
      "Epoch 8/100\n",
      "3/3 [==============================] - 0s 17ms/step - loss: 87.7660 - val_loss: 6.7193\n",
      "Epoch 9/100\n",
      "3/3 [==============================] - 0s 18ms/step - loss: 74.8281 - val_loss: 5.6878\n",
      "Epoch 10/100\n",
      "3/3 [==============================] - 0s 19ms/step - loss: 73.9070 - val_loss: 3.7396\n",
      "Epoch 11/100\n",
      "3/3 [==============================] - 0s 25ms/step - loss: 57.6141 - val_loss: 2.7909\n",
      "Epoch 12/100\n",
      "3/3 [==============================] - 0s 18ms/step - loss: 63.7706 - val_loss: 1.9923\n",
      "Epoch 13/100\n",
      "3/3 [==============================] - 0s 19ms/step - loss: 63.3597 - val_loss: 1.5108\n",
      "Epoch 14/100\n",
      "3/3 [==============================] - 0s 17ms/step - loss: 51.3852 - val_loss: 1.1159\n",
      "Epoch 15/100\n",
      "3/3 [==============================] - 0s 17ms/step - loss: 48.5046 - val_loss: 1.1185\n",
      "Epoch 16/100\n",
      "3/3 [==============================] - 0s 19ms/step - loss: 46.4850 - val_loss: 1.5886\n",
      "Epoch 17/100\n",
      "3/3 [==============================] - 0s 18ms/step - loss: 42.3638 - val_loss: 1.7032\n",
      "Epoch 18/100\n",
      "3/3 [==============================] - 0s 18ms/step - loss: 49.8965 - val_loss: 1.4647\n",
      "Epoch 19/100\n",
      "3/3 [==============================] - 0s 18ms/step - loss: 36.0689 - val_loss: 1.0763\n",
      "Epoch 20/100\n",
      "3/3 [==============================] - 0s 18ms/step - loss: 27.0378 - val_loss: 1.2584\n",
      "Epoch 21/100\n",
      "3/3 [==============================] - 0s 16ms/step - loss: 43.2079 - val_loss: 1.5190\n",
      "Epoch 22/100\n",
      "3/3 [==============================] - 0s 16ms/step - loss: 29.7161 - val_loss: 1.6295\n",
      "Epoch 23/100\n",
      "3/3 [==============================] - 0s 17ms/step - loss: 25.0358 - val_loss: 1.5271\n",
      "Epoch 24/100\n",
      "3/3 [==============================] - 0s 16ms/step - loss: 28.8549 - val_loss: 1.4404\n",
      "Epoch 25/100\n",
      "3/3 [==============================] - 0s 16ms/step - loss: 28.3803 - val_loss: 1.3784\n",
      "Epoch 26/100\n",
      "3/3 [==============================] - 0s 17ms/step - loss: 26.6768 - val_loss: 1.2005\n",
      "Epoch 27/100\n",
      "3/3 [==============================] - 0s 16ms/step - loss: 22.6031 - val_loss: 1.2060\n",
      "Epoch 28/100\n",
      "3/3 [==============================] - 0s 16ms/step - loss: 29.6448 - val_loss: 1.3699\n",
      "Epoch 29/100\n",
      "3/3 [==============================] - 0s 16ms/step - loss: 18.0184 - val_loss: 1.6107\n",
      "Epoch 30/100\n",
      "3/3 [==============================] - 0s 18ms/step - loss: 27.6145 - val_loss: 2.0998\n",
      "Epoch 31/100\n",
      "3/3 [==============================] - 0s 17ms/step - loss: 18.0302 - val_loss: 2.5957\n",
      "Epoch 32/100\n",
      "3/3 [==============================] - 0s 20ms/step - loss: 28.5068 - val_loss: 3.1715\n",
      "Epoch 33/100\n",
      "3/3 [==============================] - 0s 18ms/step - loss: 28.5951 - val_loss: 3.2862\n",
      "Epoch 34/100\n",
      "3/3 [==============================] - 0s 18ms/step - loss: 17.9784 - val_loss: 2.8295\n",
      "Epoch 35/100\n",
      "3/3 [==============================] - 0s 17ms/step - loss: 15.3042 - val_loss: 2.4211\n",
      "Epoch 36/100\n",
      "3/3 [==============================] - 0s 18ms/step - loss: 22.3360 - val_loss: 2.1302\n",
      "Epoch 37/100\n",
      "3/3 [==============================] - 0s 17ms/step - loss: 21.3350 - val_loss: 1.8892\n",
      "Epoch 38/100\n",
      "3/3 [==============================] - 0s 17ms/step - loss: 21.0394 - val_loss: 1.6905\n",
      "Epoch 39/100\n",
      "3/3 [==============================] - 0s 16ms/step - loss: 17.3273 - val_loss: 1.4904\n",
      "Epoch 40/100\n",
      "3/3 [==============================] - 0s 18ms/step - loss: 17.0968 - val_loss: 1.2735\n",
      "Epoch 41/100\n",
      "3/3 [==============================] - 0s 16ms/step - loss: 15.0194 - val_loss: 1.1579\n",
      "Epoch 42/100\n",
      "3/3 [==============================] - 0s 19ms/step - loss: 16.0665 - val_loss: 1.0988\n",
      "Epoch 43/100\n",
      "3/3 [==============================] - 0s 15ms/step - loss: 15.7745 - val_loss: 1.0940\n",
      "Epoch 44/100\n",
      "3/3 [==============================] - 0s 18ms/step - loss: 10.2068 - val_loss: 1.1664\n",
      "Epoch 45/100\n",
      "3/3 [==============================] - 0s 16ms/step - loss: 11.3047 - val_loss: 1.2521\n",
      "Epoch 46/100\n",
      "3/3 [==============================] - 0s 17ms/step - loss: 10.7321 - val_loss: 1.2935\n",
      "Epoch 47/100\n",
      "3/3 [==============================] - 0s 17ms/step - loss: 12.7046 - val_loss: 1.3661\n",
      "Epoch 48/100\n",
      "3/3 [==============================] - 0s 16ms/step - loss: 12.3819 - val_loss: 1.4446\n",
      "Epoch 49/100\n",
      "3/3 [==============================] - 0s 18ms/step - loss: 13.5916 - val_loss: 1.3953\n",
      "Epoch 50/100\n",
      "3/3 [==============================] - 0s 19ms/step - loss: 12.7127 - val_loss: 1.3213\n",
      "Epoch 51/100\n",
      "3/3 [==============================] - 0s 15ms/step - loss: 9.6224 - val_loss: 1.2347\n",
      "Epoch 52/100\n",
      "3/3 [==============================] - 0s 18ms/step - loss: 13.0200 - val_loss: 1.2369\n",
      "Epoch 53/100\n",
      "3/3 [==============================] - 0s 16ms/step - loss: 10.8719 - val_loss: 1.3230\n",
      "Epoch 54/100\n",
      "3/3 [==============================] - 0s 15ms/step - loss: 10.9816 - val_loss: 1.4653\n",
      "Epoch 55/100\n",
      "3/3 [==============================] - 0s 15ms/step - loss: 13.4472 - val_loss: 1.8162\n",
      "Epoch 56/100\n",
      "3/3 [==============================] - 0s 14ms/step - loss: 6.7697 - val_loss: 2.2544\n",
      "Epoch 57/100\n",
      "3/3 [==============================] - 0s 16ms/step - loss: 9.9654 - val_loss: 2.5580\n",
      "Epoch 58/100\n",
      "3/3 [==============================] - 0s 16ms/step - loss: 7.9827 - val_loss: 2.6877\n",
      "Epoch 59/100\n",
      "3/3 [==============================] - 0s 16ms/step - loss: 10.9887 - val_loss: 2.9818\n",
      "Epoch 60/100\n",
      "3/3 [==============================] - 0s 17ms/step - loss: 11.3297 - val_loss: 3.4813\n",
      "Epoch 61/100\n",
      "3/3 [==============================] - 0s 16ms/step - loss: 9.1929 - val_loss: 3.6875\n",
      "Epoch 62/100\n",
      "3/3 [==============================] - 0s 14ms/step - loss: 12.7746 - val_loss: 3.5128\n",
      "Epoch 63/100\n",
      "3/3 [==============================] - 0s 15ms/step - loss: 10.3727 - val_loss: 3.2581\n",
      "Epoch 64/100\n",
      "3/3 [==============================] - 0s 17ms/step - loss: 12.5015 - val_loss: 3.1331\n",
      "Epoch 65/100\n",
      "3/3 [==============================] - 0s 15ms/step - loss: 7.0958 - val_loss: 2.8174\n",
      "Epoch 66/100\n",
      "3/3 [==============================] - 0s 15ms/step - loss: 7.7298 - val_loss: 2.5713\n",
      "Epoch 67/100\n",
      "3/3 [==============================] - 0s 22ms/step - loss: 13.0057 - val_loss: 2.5821\n",
      "Epoch 68/100\n",
      "3/3 [==============================] - 0s 18ms/step - loss: 10.6273 - val_loss: 2.8615\n",
      "Epoch 69/100\n",
      "3/3 [==============================] - 0s 16ms/step - loss: 10.1671 - val_loss: 3.1727\n",
      "Epoch 70/100\n",
      "3/3 [==============================] - 0s 17ms/step - loss: 9.9579 - val_loss: 3.4342\n",
      "Epoch 71/100\n",
      "3/3 [==============================] - 0s 15ms/step - loss: 9.4153 - val_loss: 3.4990\n",
      "Epoch 72/100\n",
      "3/3 [==============================] - 0s 22ms/step - loss: 8.4231 - val_loss: 3.4523\n",
      "Epoch 73/100\n",
      "3/3 [==============================] - 0s 18ms/step - loss: 7.8940 - val_loss: 3.3686\n",
      "Epoch 74/100\n",
      "3/3 [==============================] - 0s 15ms/step - loss: 7.1061 - val_loss: 3.2212\n",
      "Epoch 75/100\n",
      "3/3 [==============================] - 0s 16ms/step - loss: 6.4643 - val_loss: 3.1252\n",
      "Epoch 76/100\n",
      "3/3 [==============================] - 0s 16ms/step - loss: 10.2672 - val_loss: 2.9671\n",
      "Epoch 77/100\n",
      "3/3 [==============================] - 0s 15ms/step - loss: 6.6930 - val_loss: 2.8753\n",
      "Epoch 78/100\n",
      "3/3 [==============================] - 0s 15ms/step - loss: 5.8793 - val_loss: 2.8541\n",
      "Epoch 79/100\n",
      "3/3 [==============================] - 0s 16ms/step - loss: 5.3596 - val_loss: 2.8144\n",
      "Epoch 80/100\n",
      "3/3 [==============================] - 0s 14ms/step - loss: 8.1608 - val_loss: 2.9230\n",
      "Epoch 81/100\n",
      "3/3 [==============================] - 0s 15ms/step - loss: 8.6334 - val_loss: 3.1133\n",
      "Epoch 82/100\n",
      "3/3 [==============================] - 0s 16ms/step - loss: 7.1517 - val_loss: 3.2549\n",
      "Epoch 83/100\n",
      "3/3 [==============================] - 0s 17ms/step - loss: 6.4342 - val_loss: 3.2758\n",
      "Epoch 84/100\n",
      "3/3 [==============================] - 0s 16ms/step - loss: 7.3996 - val_loss: 3.1615\n",
      "Epoch 85/100\n",
      "3/3 [==============================] - 0s 16ms/step - loss: 6.1485 - val_loss: 3.0831\n",
      "Epoch 86/100\n",
      "3/3 [==============================] - 0s 16ms/step - loss: 6.8872 - val_loss: 3.0349\n",
      "Epoch 87/100\n",
      "3/3 [==============================] - 0s 15ms/step - loss: 5.0717 - val_loss: 2.9420\n",
      "Epoch 88/100\n",
      "3/3 [==============================] - 0s 17ms/step - loss: 7.3698 - val_loss: 2.8268\n",
      "Epoch 89/100\n",
      "3/3 [==============================] - 0s 17ms/step - loss: 6.4114 - val_loss: 2.7242\n",
      "Epoch 90/100\n",
      "3/3 [==============================] - 0s 18ms/step - loss: 3.9267 - val_loss: 2.6255\n",
      "Epoch 91/100\n",
      "3/3 [==============================] - 0s 17ms/step - loss: 8.4721 - val_loss: 2.6116\n",
      "Epoch 92/100\n",
      "3/3 [==============================] - 0s 18ms/step - loss: 7.2972 - val_loss: 2.6447\n",
      "Epoch 93/100\n",
      "3/3 [==============================] - 0s 15ms/step - loss: 4.8690 - val_loss: 2.6864\n",
      "Epoch 94/100\n",
      "3/3 [==============================] - 0s 16ms/step - loss: 5.2987 - val_loss: 2.7294\n",
      "Epoch 95/100\n",
      "3/3 [==============================] - 0s 16ms/step - loss: 6.1924 - val_loss: 2.7312\n",
      "Epoch 96/100\n",
      "3/3 [==============================] - 0s 17ms/step - loss: 5.9292 - val_loss: 2.7131\n",
      "Epoch 97/100\n",
      "3/3 [==============================] - 0s 17ms/step - loss: 4.3006 - val_loss: 2.6113\n",
      "Epoch 98/100\n",
      "3/3 [==============================] - 0s 16ms/step - loss: 4.7962 - val_loss: 2.5129\n",
      "Epoch 99/100\n",
      "3/3 [==============================] - 0s 17ms/step - loss: 5.1124 - val_loss: 2.4024\n",
      "Epoch 100/100\n",
      "3/3 [==============================] - 0s 16ms/step - loss: 7.8169 - val_loss: 2.3309\n"
     ]
    }
   ],
   "source": [
    "#Define Model Schema and save Build the neural network (DO NOT EXECUTE AGAIN) THIS IS ONLY FOR AN EXAMPLE\n",
    "model = Sequential([\n",
    "    Dense(64, activation='relu', input_shape=(X_train.shape[1],)),\n",
    "    Dropout(0.2),\n",
    "    Dense(32, activation='relu'),\n",
    "    Dropout(0.2),\n",
    "    Dense(1)\n",
    "])\n",
    "\n",
    "# Compile the model\n",
    "model.compile(optimizer='adam', loss='mean_squared_error')\n",
    "\n",
    "\n",
    "# Train the model\n",
    "history = model.fit(X_train, y_train, validation_data=(X_test, y_test), epochs=100, batch_size=32)\n",
    "\n",
    "# Save Model .This code is commented out to prevent accidental deletion of the trained neural network\n",
    "# model.save('NeuralNetwork_model.h5') \n"
   ]
  },
  {
   "cell_type": "code",
   "execution_count": 31,
   "metadata": {},
   "outputs": [
    {
     "name": "stdout",
     "output_type": "stream",
     "text": [
      "Epoch 1/100\n",
      "3/3 [==============================] - 1s 72ms/step - loss: 0.0666 - val_loss: 0.4614\n",
      "Epoch 2/100\n",
      "3/3 [==============================] - 0s 17ms/step - loss: 0.0942 - val_loss: 0.4583\n",
      "Epoch 3/100\n",
      "3/3 [==============================] - 0s 21ms/step - loss: 0.0595 - val_loss: 0.4561\n",
      "Epoch 4/100\n",
      "3/3 [==============================] - 0s 18ms/step - loss: 0.0483 - val_loss: 0.4525\n",
      "Epoch 5/100\n",
      "3/3 [==============================] - 0s 23ms/step - loss: 0.0545 - val_loss: 0.4519\n",
      "Epoch 6/100\n",
      "3/3 [==============================] - 0s 16ms/step - loss: 0.0505 - val_loss: 0.4536\n",
      "Epoch 7/100\n",
      "3/3 [==============================] - 0s 18ms/step - loss: 0.0541 - val_loss: 0.4544\n",
      "Epoch 8/100\n",
      "3/3 [==============================] - 0s 16ms/step - loss: 0.0712 - val_loss: 0.4559\n",
      "Epoch 9/100\n",
      "3/3 [==============================] - 0s 16ms/step - loss: 0.0557 - val_loss: 0.4587\n",
      "Epoch 10/100\n",
      "3/3 [==============================] - 0s 18ms/step - loss: 0.0682 - val_loss: 0.4624\n",
      "Epoch 11/100\n",
      "3/3 [==============================] - 0s 15ms/step - loss: 0.0493 - val_loss: 0.4626\n",
      "Epoch 12/100\n",
      "3/3 [==============================] - 0s 16ms/step - loss: 0.0649 - val_loss: 0.4625\n",
      "Epoch 13/100\n",
      "3/3 [==============================] - 0s 18ms/step - loss: 0.0522 - val_loss: 0.4607\n",
      "Epoch 14/100\n",
      "3/3 [==============================] - 0s 17ms/step - loss: 0.0675 - val_loss: 0.4601\n",
      "Epoch 15/100\n",
      "3/3 [==============================] - 0s 16ms/step - loss: 0.0395 - val_loss: 0.4611\n",
      "Epoch 16/100\n",
      "3/3 [==============================] - 0s 16ms/step - loss: 0.0522 - val_loss: 0.4617\n",
      "Epoch 17/100\n",
      "3/3 [==============================] - 0s 17ms/step - loss: 0.0384 - val_loss: 0.4609\n",
      "Epoch 18/100\n",
      "3/3 [==============================] - 0s 17ms/step - loss: 0.0454 - val_loss: 0.4612\n",
      "Epoch 19/100\n",
      "3/3 [==============================] - 0s 16ms/step - loss: 0.0602 - val_loss: 0.4604\n",
      "Epoch 20/100\n",
      "3/3 [==============================] - 0s 19ms/step - loss: 0.0617 - val_loss: 0.4600\n",
      "Epoch 21/100\n",
      "3/3 [==============================] - 0s 19ms/step - loss: 0.0435 - val_loss: 0.4599\n",
      "Epoch 22/100\n",
      "3/3 [==============================] - 0s 17ms/step - loss: 0.0593 - val_loss: 0.4593\n",
      "Epoch 23/100\n",
      "3/3 [==============================] - 0s 16ms/step - loss: 0.0949 - val_loss: 0.4597\n",
      "Epoch 24/100\n",
      "3/3 [==============================] - 0s 15ms/step - loss: 0.0617 - val_loss: 0.4599\n",
      "Epoch 25/100\n",
      "3/3 [==============================] - 0s 15ms/step - loss: 0.2200 - val_loss: 0.4598\n",
      "Epoch 26/100\n",
      "3/3 [==============================] - 0s 16ms/step - loss: 0.0361 - val_loss: 0.4608\n",
      "Epoch 27/100\n",
      "3/3 [==============================] - 0s 16ms/step - loss: 0.0748 - val_loss: 0.4652\n",
      "Epoch 28/100\n",
      "3/3 [==============================] - 0s 14ms/step - loss: 0.0716 - val_loss: 0.4672\n",
      "Epoch 29/100\n",
      "3/3 [==============================] - 0s 15ms/step - loss: 0.0991 - val_loss: 0.4663\n",
      "Epoch 30/100\n",
      "3/3 [==============================] - 0s 16ms/step - loss: 0.0681 - val_loss: 0.4645\n",
      "Epoch 31/100\n",
      "3/3 [==============================] - 0s 15ms/step - loss: 0.0794 - val_loss: 0.4643\n",
      "Epoch 32/100\n",
      "3/3 [==============================] - 0s 16ms/step - loss: 0.0617 - val_loss: 0.4645\n",
      "Epoch 33/100\n",
      "3/3 [==============================] - 0s 17ms/step - loss: 0.0492 - val_loss: 0.4651\n",
      "Epoch 34/100\n",
      "3/3 [==============================] - 0s 17ms/step - loss: 0.0609 - val_loss: 0.4650\n",
      "Epoch 35/100\n",
      "3/3 [==============================] - 0s 17ms/step - loss: 0.0531 - val_loss: 0.4644\n",
      "Epoch 36/100\n",
      "3/3 [==============================] - 0s 17ms/step - loss: 0.0471 - val_loss: 0.4644\n",
      "Epoch 37/100\n",
      "3/3 [==============================] - 0s 17ms/step - loss: 0.0379 - val_loss: 0.4637\n",
      "Epoch 38/100\n",
      "3/3 [==============================] - 0s 16ms/step - loss: 0.0434 - val_loss: 0.4630\n",
      "Epoch 39/100\n",
      "3/3 [==============================] - 0s 16ms/step - loss: 0.0898 - val_loss: 0.4613\n",
      "Epoch 40/100\n",
      "3/3 [==============================] - 0s 16ms/step - loss: 0.0587 - val_loss: 0.4591\n",
      "Epoch 41/100\n",
      "3/3 [==============================] - 0s 15ms/step - loss: 0.0617 - val_loss: 0.4564\n",
      "Epoch 42/100\n",
      "3/3 [==============================] - 0s 16ms/step - loss: 0.0465 - val_loss: 0.4530\n",
      "Epoch 43/100\n",
      "3/3 [==============================] - 0s 15ms/step - loss: 0.0350 - val_loss: 0.4499\n",
      "Epoch 44/100\n",
      "3/3 [==============================] - 0s 16ms/step - loss: 0.0610 - val_loss: 0.4489\n",
      "Epoch 45/100\n",
      "3/3 [==============================] - 0s 16ms/step - loss: 0.0633 - val_loss: 0.4494\n",
      "Epoch 46/100\n",
      "3/3 [==============================] - 0s 17ms/step - loss: 0.0927 - val_loss: 0.4512\n",
      "Epoch 47/100\n",
      "3/3 [==============================] - 0s 15ms/step - loss: 0.1151 - val_loss: 0.4528\n",
      "Epoch 48/100\n",
      "3/3 [==============================] - 0s 18ms/step - loss: 0.0391 - val_loss: 0.4543\n",
      "Epoch 49/100\n",
      "3/3 [==============================] - 0s 24ms/step - loss: 0.0501 - val_loss: 0.4552\n",
      "Epoch 50/100\n",
      "3/3 [==============================] - 0s 21ms/step - loss: 0.0970 - val_loss: 0.4579\n",
      "Epoch 51/100\n",
      "3/3 [==============================] - 0s 16ms/step - loss: 0.1008 - val_loss: 0.4607\n",
      "Epoch 52/100\n",
      "3/3 [==============================] - 0s 18ms/step - loss: 0.1061 - val_loss: 0.4636\n",
      "Epoch 53/100\n",
      "3/3 [==============================] - 0s 16ms/step - loss: 0.0281 - val_loss: 0.4654\n",
      "Epoch 54/100\n",
      "3/3 [==============================] - 0s 14ms/step - loss: 0.0760 - val_loss: 0.4652\n",
      "Epoch 55/100\n",
      "3/3 [==============================] - 0s 16ms/step - loss: 0.0322 - val_loss: 0.4642\n",
      "Epoch 56/100\n",
      "3/3 [==============================] - 0s 17ms/step - loss: 0.0520 - val_loss: 0.4641\n",
      "Epoch 57/100\n",
      "3/3 [==============================] - 0s 17ms/step - loss: 0.0703 - val_loss: 0.4648\n",
      "Epoch 58/100\n",
      "3/3 [==============================] - 0s 16ms/step - loss: 0.0631 - val_loss: 0.4665\n",
      "Epoch 59/100\n",
      "3/3 [==============================] - 0s 15ms/step - loss: 0.0543 - val_loss: 0.4683\n",
      "Epoch 60/100\n",
      "3/3 [==============================] - 0s 15ms/step - loss: 0.0696 - val_loss: 0.4704\n",
      "Epoch 61/100\n",
      "3/3 [==============================] - 0s 14ms/step - loss: 0.0767 - val_loss: 0.4726\n",
      "Epoch 62/100\n",
      "3/3 [==============================] - 0s 15ms/step - loss: 0.0484 - val_loss: 0.4754\n",
      "Epoch 63/100\n",
      "3/3 [==============================] - 0s 15ms/step - loss: 0.0554 - val_loss: 0.4775\n",
      "Epoch 64/100\n",
      "3/3 [==============================] - 0s 15ms/step - loss: 0.0419 - val_loss: 0.4797\n",
      "Epoch 65/100\n",
      "3/3 [==============================] - 0s 15ms/step - loss: 0.0591 - val_loss: 0.4814\n",
      "Epoch 66/100\n",
      "3/3 [==============================] - 0s 14ms/step - loss: 0.0917 - val_loss: 0.4824\n",
      "Epoch 67/100\n",
      "3/3 [==============================] - 0s 14ms/step - loss: 0.0616 - val_loss: 0.4802\n",
      "Epoch 68/100\n",
      "3/3 [==============================] - 0s 15ms/step - loss: 0.0604 - val_loss: 0.4773\n",
      "Epoch 69/100\n",
      "3/3 [==============================] - 0s 15ms/step - loss: 0.0652 - val_loss: 0.4760\n",
      "Epoch 70/100\n",
      "3/3 [==============================] - 0s 15ms/step - loss: 0.0977 - val_loss: 0.4740\n",
      "Epoch 71/100\n",
      "3/3 [==============================] - 0s 15ms/step - loss: 0.0711 - val_loss: 0.4736\n",
      "Epoch 72/100\n",
      "3/3 [==============================] - 0s 16ms/step - loss: 0.0608 - val_loss: 0.4748\n",
      "Epoch 73/100\n",
      "3/3 [==============================] - 0s 15ms/step - loss: 0.0525 - val_loss: 0.4746\n",
      "Epoch 74/100\n",
      "3/3 [==============================] - 0s 17ms/step - loss: 0.0629 - val_loss: 0.4753\n",
      "Epoch 75/100\n",
      "3/3 [==============================] - 0s 17ms/step - loss: 0.0507 - val_loss: 0.4734\n",
      "Epoch 76/100\n",
      "3/3 [==============================] - 0s 17ms/step - loss: 0.0792 - val_loss: 0.4709\n",
      "Epoch 77/100\n",
      "3/3 [==============================] - 0s 17ms/step - loss: 0.0478 - val_loss: 0.4669\n",
      "Epoch 78/100\n",
      "3/3 [==============================] - 0s 16ms/step - loss: 0.0783 - val_loss: 0.4644\n",
      "Epoch 79/100\n",
      "3/3 [==============================] - 0s 15ms/step - loss: 0.0842 - val_loss: 0.4649\n",
      "Epoch 80/100\n",
      "3/3 [==============================] - 0s 16ms/step - loss: 0.0514 - val_loss: 0.4667\n",
      "Epoch 81/100\n",
      "3/3 [==============================] - 0s 15ms/step - loss: 0.0769 - val_loss: 0.4679\n",
      "Epoch 82/100\n",
      "3/3 [==============================] - 0s 15ms/step - loss: 0.0703 - val_loss: 0.4690\n",
      "Epoch 83/100\n",
      "3/3 [==============================] - 0s 16ms/step - loss: 0.0526 - val_loss: 0.4685\n",
      "Epoch 84/100\n",
      "3/3 [==============================] - 0s 16ms/step - loss: 0.0426 - val_loss: 0.4682\n",
      "Epoch 85/100\n",
      "3/3 [==============================] - 0s 16ms/step - loss: 0.0616 - val_loss: 0.4658\n",
      "Epoch 86/100\n",
      "3/3 [==============================] - 0s 15ms/step - loss: 0.0461 - val_loss: 0.4637\n",
      "Epoch 87/100\n",
      "3/3 [==============================] - 0s 16ms/step - loss: 0.0465 - val_loss: 0.4624\n",
      "Epoch 88/100\n",
      "3/3 [==============================] - 0s 15ms/step - loss: 0.0493 - val_loss: 0.4612\n",
      "Epoch 89/100\n",
      "3/3 [==============================] - 0s 17ms/step - loss: 0.0713 - val_loss: 0.4606\n",
      "Epoch 90/100\n",
      "3/3 [==============================] - 0s 16ms/step - loss: 0.0403 - val_loss: 0.4600\n",
      "Epoch 91/100\n",
      "3/3 [==============================] - 0s 16ms/step - loss: 0.0632 - val_loss: 0.4590\n",
      "Epoch 92/100\n",
      "3/3 [==============================] - 0s 15ms/step - loss: 0.0681 - val_loss: 0.4574\n",
      "Epoch 93/100\n",
      "3/3 [==============================] - 0s 16ms/step - loss: 0.0576 - val_loss: 0.4554\n",
      "Epoch 94/100\n",
      "3/3 [==============================] - 0s 16ms/step - loss: 0.0342 - val_loss: 0.4539\n",
      "Epoch 95/100\n",
      "3/3 [==============================] - 0s 16ms/step - loss: 0.0309 - val_loss: 0.4530\n",
      "Epoch 96/100\n",
      "3/3 [==============================] - 0s 16ms/step - loss: 0.0482 - val_loss: 0.4524\n",
      "Epoch 97/100\n",
      "3/3 [==============================] - 0s 16ms/step - loss: 0.0406 - val_loss: 0.4516\n",
      "Epoch 98/100\n",
      "3/3 [==============================] - 0s 15ms/step - loss: 0.0682 - val_loss: 0.4495\n",
      "Epoch 99/100\n",
      "3/3 [==============================] - 0s 16ms/step - loss: 0.0620 - val_loss: 0.4517\n",
      "Epoch 100/100\n",
      "3/3 [==============================] - 0s 14ms/step - loss: 0.0868 - val_loss: 0.4532\n",
      "1/1 [==============================] - 0s 82ms/step\n",
      "Neural Network Performance:\n",
      "MSE: 0.4532495424839749\n",
      "RMSE: 0.6732381023709033\n",
      "R-squared score: -0.08\n"
     ]
    }
   ],
   "source": [
    "from tensorflow.keras.models import Sequential\n",
    "from tensorflow.keras.layers import Dense\n",
    "from tensorflow.keras.models import load_model\n",
    "\n",
    "\n",
    "#Load Model and schema defined above \n",
    "model = load_model('NeuralNetwork_model.h5')\n",
    "\n",
    "\n",
    "# Load the data and split it into training and testing sets\n",
    "X_train, X_test, y_train, y_test = train_test_split(X, y, test_size=0.2, random_state=42)\n",
    "\n",
    "# Scale the features\n",
    "scaler = StandardScaler()\n",
    "X_train = scaler.fit_transform(X_train)\n",
    "X_test = scaler.transform(X_test)\n",
    "\n",
    "# Compile the model\n",
    "model.compile(optimizer='adam', loss='mean_squared_error')\n",
    "\n",
    "\n",
    "# Train the model\n",
    "history = model.fit(X_train, y_train, validation_data=(X_test, y_test), epochs=100, batch_size=32)\n",
    "\n",
    "# Save Model\n",
    "model.save('NeuralNetwork_model.h5')\n",
    "\n",
    "\n",
    "# Evaluate the model\n",
    "y_pred = model.predict(X_test)\n",
    "mse = mean_squared_error(y_test, y_pred)\n",
    "rmse = np.sqrt(mse)\n",
    "r2 = r2_score(y_test, y_pred)\n",
    "\n",
    "print('Neural Network Performance:')\n",
    "print('MSE:', mse)\n",
    "print('RMSE:', rmse)\n",
    "print(f'R-squared score: {r2:.2f}')\n"
   ]
  },
  {
   "cell_type": "code",
   "execution_count": 36,
   "metadata": {},
   "outputs": [
    {
     "name": "stdout",
     "output_type": "stream",
     "text": [
      "WARNING:tensorflow:6 out of the last 6 calls to <function Model.make_predict_function.<locals>.predict_function at 0x00000257C618D760> triggered tf.function retracing. Tracing is expensive and the excessive number of tracings could be due to (1) creating @tf.function repeatedly in a loop, (2) passing tensors with different shapes, (3) passing Python objects instead of tensors. For (1), please define your @tf.function outside of the loop. For (2), @tf.function has reduce_retracing=True option that can avoid unnecessary retracing. For (3), please refer to https://www.tensorflow.org/guide/function#controlling_retracing and https://www.tensorflow.org/api_docs/python/tf/function for  more details.\n",
      "1/1 [==============================] - 0s 52ms/step\n",
      "Predicted Optimal Duration Using Neural Network: 7.152682304382324 minutes\n"
     ]
    }
   ],
   "source": [
    "# Load the Model\n",
    "model = load_model('NeuralNetwork_model.h5')\n",
    "\n",
    "# Predict the duration of a new song\n",
    "new_song = pd.DataFrame({\n",
    "    'energy': [0.55],\n",
    "    'loudness': [-5.0],\n",
    "    'tempo': [120.0],\n",
    "})\n",
    "\n",
    "new_song_scaled = scaler.transform(new_song)\n",
    "predicted_duration = model.predict(new_song_scaled)\n",
    "\n",
    "print(f\"Predicted Optimal Duration Using Neural Network: {predicted_duration[0][0]}\"+\" minutes\")\n"
   ]
  }
 ],
 "metadata": {
  "kernelspec": {
   "display_name": "Python 3",
   "language": "python",
   "name": "python3"
  },
  "language_info": {
   "codemirror_mode": {
    "name": "ipython",
    "version": 3
   },
   "file_extension": ".py",
   "mimetype": "text/x-python",
   "name": "python",
   "nbconvert_exporter": "python",
   "pygments_lexer": "ipython3",
   "version": "3.11.2"
  },
  "orig_nbformat": 4
 },
 "nbformat": 4,
 "nbformat_minor": 2
}
